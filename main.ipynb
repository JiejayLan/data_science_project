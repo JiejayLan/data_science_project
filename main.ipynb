{
 "cells": [
  {
   "cell_type": "code",
   "execution_count": 1,
   "metadata": {
    "colab": {
     "base_uri": "https://localhost:8080/",
     "height": 80
    },
    "colab_type": "code",
    "id": "uTU8yGiPz5zN",
    "outputId": "9a28452c-d34c-469c-a3f7-f679e7dce56e"
   },
   "outputs": [
    {
     "name": "stderr",
     "output_type": "stream",
     "text": [
      "Using TensorFlow backend.\n"
     ]
    }
   ],
   "source": [
    "import numpy as np\n",
    "import pandas as pd\n",
    "import matplotlib.pyplot as plt\n",
    "import seaborn as sns\n",
    "import statsmodels.api as sm\n",
    "import csv\n",
    "import warnings\n",
    "from sklearn.linear_model import LinearRegression\n",
    "from sklearn.ensemble import RandomForestRegressor, GradientBoostingRegressor\n",
    "from sklearn.tree import DecisionTreeClassifier \n",
    "from sklearn.tree import DecisionTreeRegressor\n",
    "from sklearn import preprocessing\n",
    "from sklearn.model_selection import KFold\n",
    "from sklearn.utils import shuffle\n",
    "from sklearn.metrics import mean_squared_error\n",
    "from sklearn.preprocessing import StandardScaler\n",
    "from sklearn.linear_model import LinearRegression\n",
    "import statsmodels.api as sm\n",
    "from keras import models, layers, optimizers, regularizers\n",
    "from sklearn.model_selection import train_test_split, ShuffleSplit, GridSearchCV\n",
    "from keras import regularizers\n",
    "%matplotlib inline"
   ]
  },
  {
   "cell_type": "markdown",
   "metadata": {
    "colab_type": "text",
    "id": "giyuV4myz5za"
   },
   "source": [
    "### Import datasets\n",
    "- We will import train, test1 and test2 dataset\n",
    "- Merge test1 and train dataset, in order to expend our train dataset"
   ]
  },
  {
   "cell_type": "code",
   "execution_count": 2,
   "metadata": {
    "colab": {
     "base_uri": "https://localhost:8080/",
     "height": 170
    },
    "colab_type": "code",
    "id": "O3bd5Le9C1yG",
    "outputId": "65c14e61-59fd-44b5-ff70-d7a0b8a40625",
    "scrolled": true
   },
   "outputs": [
    {
     "data": {
      "text/plain": [
       "Index(['addr_unit', 'building_id', 'bedrooms', 'bathrooms', 'size_sqft',\n",
       "       'created_at', 'addr_street', 'addr_city', 'addr_zip', 'addr_lat',\n",
       "       'addr_lon', 'bin', 'bbl', 'floor_count', 'year_built', 'min_to_subway',\n",
       "       'has_doorman', 'has_elevator', 'has_fireplace', 'has_dishwasher',\n",
       "       'is_furnished', 'has_gym', 'allows_pets', 'has_washer_dryer',\n",
       "       'has_garage', 'has_roofdeck', 'has_concierge', 'has_pool', 'has_garden',\n",
       "       'has_childrens_playroom', 'rent', 'no_fee', 'description',\n",
       "       'neighborhood', 'borough', 'unit', 'floornumber', 'line'],\n",
       "      dtype='object')"
      ]
     },
     "execution_count": 2,
     "metadata": {},
     "output_type": "execute_result"
    }
   ],
   "source": [
    "raw_df = pd.read_csv('https://grantmlong.com/data/SE_rents2018_train.csv', index_col=0)\n",
    "raw_test_df = pd.read_csv('https://grantmlong.com/data/SE_rents2018_test1.csv', index_col=0)\n",
    "raw_test2_df = pd.read_csv('https://grantmlong.com/data/SE_rents2018_test2.csv', index_col=0)\n",
    "raw_df = raw_df.append(raw_test_df)\n",
    "raw_df.head(20)\n",
    "raw_df.columns"
   ]
  },
  {
   "cell_type": "markdown",
   "metadata": {
    "colab_type": "text",
    "id": "xxSoiIKJC1yO"
   },
   "source": [
    "## Data Explore"
   ]
  },
  {
   "cell_type": "code",
   "execution_count": 3,
   "metadata": {
    "colab": {
     "base_uri": "https://localhost:8080/",
     "height": 304
    },
    "colab_type": "code",
    "id": "ql26Ay-HC1yI",
    "outputId": "33defc34-c066-4fc0-fd2b-f3d6438b6968"
   },
   "outputs": [
    {
     "data": {
      "text/html": [
       "<div>\n",
       "<style scoped>\n",
       "    .dataframe tbody tr th:only-of-type {\n",
       "        vertical-align: middle;\n",
       "    }\n",
       "\n",
       "    .dataframe tbody tr th {\n",
       "        vertical-align: top;\n",
       "    }\n",
       "\n",
       "    .dataframe thead th {\n",
       "        text-align: right;\n",
       "    }\n",
       "</style>\n",
       "<table border=\"1\" class=\"dataframe\">\n",
       "  <thead>\n",
       "    <tr style=\"text-align: right;\">\n",
       "      <th></th>\n",
       "      <th>building_id</th>\n",
       "      <th>bedrooms</th>\n",
       "      <th>bathrooms</th>\n",
       "      <th>size_sqft</th>\n",
       "      <th>addr_zip</th>\n",
       "      <th>addr_lat</th>\n",
       "      <th>addr_lon</th>\n",
       "      <th>bin</th>\n",
       "      <th>bbl</th>\n",
       "      <th>floor_count</th>\n",
       "      <th>...</th>\n",
       "      <th>has_washer_dryer</th>\n",
       "      <th>has_garage</th>\n",
       "      <th>has_roofdeck</th>\n",
       "      <th>has_concierge</th>\n",
       "      <th>has_pool</th>\n",
       "      <th>has_garden</th>\n",
       "      <th>has_childrens_playroom</th>\n",
       "      <th>rent</th>\n",
       "      <th>no_fee</th>\n",
       "      <th>floornumber</th>\n",
       "    </tr>\n",
       "  </thead>\n",
       "  <tbody>\n",
       "    <tr>\n",
       "      <th>count</th>\n",
       "      <td>1.400000e+04</td>\n",
       "      <td>14000.000000</td>\n",
       "      <td>14000.000000</td>\n",
       "      <td>14000.000000</td>\n",
       "      <td>14000.000000</td>\n",
       "      <td>14000.000000</td>\n",
       "      <td>14000.000000</td>\n",
       "      <td>1.399900e+04</td>\n",
       "      <td>1.400000e+04</td>\n",
       "      <td>14000.000000</td>\n",
       "      <td>...</td>\n",
       "      <td>14000.000000</td>\n",
       "      <td>14000.000000</td>\n",
       "      <td>14000.000000</td>\n",
       "      <td>14000.000000</td>\n",
       "      <td>14000.000000</td>\n",
       "      <td>14000.000000</td>\n",
       "      <td>14000.000000</td>\n",
       "      <td>14000.000000</td>\n",
       "      <td>14000.000000</td>\n",
       "      <td>12498.000000</td>\n",
       "    </tr>\n",
       "    <tr>\n",
       "      <th>mean</th>\n",
       "      <td>1.542772e+06</td>\n",
       "      <td>1.661643</td>\n",
       "      <td>1.238929</td>\n",
       "      <td>848.388643</td>\n",
       "      <td>10681.801286</td>\n",
       "      <td>40.727746</td>\n",
       "      <td>-73.956776</td>\n",
       "      <td>2.368400e+06</td>\n",
       "      <td>2.285087e+09</td>\n",
       "      <td>10.233350</td>\n",
       "      <td>...</td>\n",
       "      <td>0.268500</td>\n",
       "      <td>0.170714</td>\n",
       "      <td>0.262643</td>\n",
       "      <td>0.208214</td>\n",
       "      <td>0.072357</td>\n",
       "      <td>0.133786</td>\n",
       "      <td>0.089571</td>\n",
       "      <td>3591.997214</td>\n",
       "      <td>0.495786</td>\n",
       "      <td>6.198232</td>\n",
       "    </tr>\n",
       "    <tr>\n",
       "      <th>std</th>\n",
       "      <td>4.323673e+06</td>\n",
       "      <td>1.084151</td>\n",
       "      <td>0.550979</td>\n",
       "      <td>513.039489</td>\n",
       "      <td>592.728072</td>\n",
       "      <td>0.053635</td>\n",
       "      <td>0.042994</td>\n",
       "      <td>1.242507e+06</td>\n",
       "      <td>1.200828e+09</td>\n",
       "      <td>12.003629</td>\n",
       "      <td>...</td>\n",
       "      <td>0.443195</td>\n",
       "      <td>0.376273</td>\n",
       "      <td>0.440086</td>\n",
       "      <td>0.406045</td>\n",
       "      <td>0.259088</td>\n",
       "      <td>0.340434</td>\n",
       "      <td>0.285577</td>\n",
       "      <td>2874.099247</td>\n",
       "      <td>0.500000</td>\n",
       "      <td>7.728606</td>\n",
       "    </tr>\n",
       "    <tr>\n",
       "      <th>min</th>\n",
       "      <td>7.300000e+01</td>\n",
       "      <td>0.000000</td>\n",
       "      <td>0.000000</td>\n",
       "      <td>0.000000</td>\n",
       "      <td>10001.000000</td>\n",
       "      <td>40.573898</td>\n",
       "      <td>-74.168405</td>\n",
       "      <td>1.000000e+06</td>\n",
       "      <td>0.000000e+00</td>\n",
       "      <td>0.000000</td>\n",
       "      <td>...</td>\n",
       "      <td>0.000000</td>\n",
       "      <td>0.000000</td>\n",
       "      <td>0.000000</td>\n",
       "      <td>0.000000</td>\n",
       "      <td>0.000000</td>\n",
       "      <td>0.000000</td>\n",
       "      <td>0.000000</td>\n",
       "      <td>1250.000000</td>\n",
       "      <td>0.000000</td>\n",
       "      <td>0.000000</td>\n",
       "    </tr>\n",
       "    <tr>\n",
       "      <th>25%</th>\n",
       "      <td>6.231400e+04</td>\n",
       "      <td>1.000000</td>\n",
       "      <td>1.000000</td>\n",
       "      <td>604.000000</td>\n",
       "      <td>10023.000000</td>\n",
       "      <td>40.693256</td>\n",
       "      <td>-73.986095</td>\n",
       "      <td>1.052178e+06</td>\n",
       "      <td>1.011286e+09</td>\n",
       "      <td>3.000000</td>\n",
       "      <td>...</td>\n",
       "      <td>0.000000</td>\n",
       "      <td>0.000000</td>\n",
       "      <td>0.000000</td>\n",
       "      <td>0.000000</td>\n",
       "      <td>0.000000</td>\n",
       "      <td>0.000000</td>\n",
       "      <td>0.000000</td>\n",
       "      <td>2250.000000</td>\n",
       "      <td>0.000000</td>\n",
       "      <td>2.000000</td>\n",
       "    </tr>\n",
       "    <tr>\n",
       "      <th>50%</th>\n",
       "      <td>2.545810e+05</td>\n",
       "      <td>2.000000</td>\n",
       "      <td>1.000000</td>\n",
       "      <td>800.000000</td>\n",
       "      <td>11103.000000</td>\n",
       "      <td>40.729048</td>\n",
       "      <td>-73.961554</td>\n",
       "      <td>3.018885e+06</td>\n",
       "      <td>3.006580e+09</td>\n",
       "      <td>5.000000</td>\n",
       "      <td>...</td>\n",
       "      <td>0.000000</td>\n",
       "      <td>0.000000</td>\n",
       "      <td>0.000000</td>\n",
       "      <td>0.000000</td>\n",
       "      <td>0.000000</td>\n",
       "      <td>0.000000</td>\n",
       "      <td>0.000000</td>\n",
       "      <td>2900.000000</td>\n",
       "      <td>0.000000</td>\n",
       "      <td>3.000000</td>\n",
       "    </tr>\n",
       "    <tr>\n",
       "      <th>75%</th>\n",
       "      <td>8.267980e+05</td>\n",
       "      <td>2.000000</td>\n",
       "      <td>1.000000</td>\n",
       "      <td>1000.000000</td>\n",
       "      <td>11218.000000</td>\n",
       "      <td>40.764801</td>\n",
       "      <td>-73.936080</td>\n",
       "      <td>3.325600e+06</td>\n",
       "      <td>3.050558e+09</td>\n",
       "      <td>12.000000</td>\n",
       "      <td>...</td>\n",
       "      <td>1.000000</td>\n",
       "      <td>0.000000</td>\n",
       "      <td>1.000000</td>\n",
       "      <td>0.000000</td>\n",
       "      <td>0.000000</td>\n",
       "      <td>0.000000</td>\n",
       "      <td>0.000000</td>\n",
       "      <td>3900.000000</td>\n",
       "      <td>1.000000</td>\n",
       "      <td>6.000000</td>\n",
       "    </tr>\n",
       "    <tr>\n",
       "      <th>max</th>\n",
       "      <td>1.877211e+07</td>\n",
       "      <td>8.000000</td>\n",
       "      <td>20.000000</td>\n",
       "      <td>10000.000000</td>\n",
       "      <td>11694.000000</td>\n",
       "      <td>40.909842</td>\n",
       "      <td>-73.730550</td>\n",
       "      <td>5.158986e+06</td>\n",
       "      <td>5.029930e+09</td>\n",
       "      <td>90.000000</td>\n",
       "      <td>...</td>\n",
       "      <td>1.000000</td>\n",
       "      <td>1.000000</td>\n",
       "      <td>1.000000</td>\n",
       "      <td>1.000000</td>\n",
       "      <td>1.000000</td>\n",
       "      <td>1.000000</td>\n",
       "      <td>1.000000</td>\n",
       "      <td>50000.000000</td>\n",
       "      <td>1.000000</td>\n",
       "      <td>78.000000</td>\n",
       "    </tr>\n",
       "  </tbody>\n",
       "</table>\n",
       "<p>8 rows × 29 columns</p>\n",
       "</div>"
      ],
      "text/plain": [
       "        building_id      bedrooms     bathrooms     size_sqft      addr_zip  \\\n",
       "count  1.400000e+04  14000.000000  14000.000000  14000.000000  14000.000000   \n",
       "mean   1.542772e+06      1.661643      1.238929    848.388643  10681.801286   \n",
       "std    4.323673e+06      1.084151      0.550979    513.039489    592.728072   \n",
       "min    7.300000e+01      0.000000      0.000000      0.000000  10001.000000   \n",
       "25%    6.231400e+04      1.000000      1.000000    604.000000  10023.000000   \n",
       "50%    2.545810e+05      2.000000      1.000000    800.000000  11103.000000   \n",
       "75%    8.267980e+05      2.000000      1.000000   1000.000000  11218.000000   \n",
       "max    1.877211e+07      8.000000     20.000000  10000.000000  11694.000000   \n",
       "\n",
       "           addr_lat      addr_lon           bin           bbl   floor_count  \\\n",
       "count  14000.000000  14000.000000  1.399900e+04  1.400000e+04  14000.000000   \n",
       "mean      40.727746    -73.956776  2.368400e+06  2.285087e+09     10.233350   \n",
       "std        0.053635      0.042994  1.242507e+06  1.200828e+09     12.003629   \n",
       "min       40.573898    -74.168405  1.000000e+06  0.000000e+00      0.000000   \n",
       "25%       40.693256    -73.986095  1.052178e+06  1.011286e+09      3.000000   \n",
       "50%       40.729048    -73.961554  3.018885e+06  3.006580e+09      5.000000   \n",
       "75%       40.764801    -73.936080  3.325600e+06  3.050558e+09     12.000000   \n",
       "max       40.909842    -73.730550  5.158986e+06  5.029930e+09     90.000000   \n",
       "\n",
       "       ...  has_washer_dryer    has_garage  has_roofdeck  has_concierge  \\\n",
       "count  ...      14000.000000  14000.000000  14000.000000   14000.000000   \n",
       "mean   ...          0.268500      0.170714      0.262643       0.208214   \n",
       "std    ...          0.443195      0.376273      0.440086       0.406045   \n",
       "min    ...          0.000000      0.000000      0.000000       0.000000   \n",
       "25%    ...          0.000000      0.000000      0.000000       0.000000   \n",
       "50%    ...          0.000000      0.000000      0.000000       0.000000   \n",
       "75%    ...          1.000000      0.000000      1.000000       0.000000   \n",
       "max    ...          1.000000      1.000000      1.000000       1.000000   \n",
       "\n",
       "           has_pool    has_garden  has_childrens_playroom          rent  \\\n",
       "count  14000.000000  14000.000000            14000.000000  14000.000000   \n",
       "mean       0.072357      0.133786                0.089571   3591.997214   \n",
       "std        0.259088      0.340434                0.285577   2874.099247   \n",
       "min        0.000000      0.000000                0.000000   1250.000000   \n",
       "25%        0.000000      0.000000                0.000000   2250.000000   \n",
       "50%        0.000000      0.000000                0.000000   2900.000000   \n",
       "75%        0.000000      0.000000                0.000000   3900.000000   \n",
       "max        1.000000      1.000000                1.000000  50000.000000   \n",
       "\n",
       "             no_fee   floornumber  \n",
       "count  14000.000000  12498.000000  \n",
       "mean       0.495786      6.198232  \n",
       "std        0.500000      7.728606  \n",
       "min        0.000000      0.000000  \n",
       "25%        0.000000      2.000000  \n",
       "50%        0.000000      3.000000  \n",
       "75%        1.000000      6.000000  \n",
       "max        1.000000     78.000000  \n",
       "\n",
       "[8 rows x 29 columns]"
      ]
     },
     "execution_count": 3,
     "metadata": {},
     "output_type": "execute_result"
    }
   ],
   "source": [
    "raw_df.describe()"
   ]
  },
  {
   "cell_type": "code",
   "execution_count": 4,
   "metadata": {
    "colab": {
     "base_uri": "https://localhost:8080/",
     "height": 34
    },
    "colab_type": "code",
    "id": "csEm7f26C1yS",
    "outputId": "d3a30c17-b4c6-45a3-c642-39b7f6069656"
   },
   "outputs": [
    {
     "data": {
      "text/plain": [
       "(14000, 38)"
      ]
     },
     "execution_count": 4,
     "metadata": {},
     "output_type": "execute_result"
    }
   ],
   "source": [
    "raw_df.shape"
   ]
  },
  {
   "cell_type": "code",
   "execution_count": 5,
   "metadata": {
    "colab": {
     "base_uri": "https://localhost:8080/",
     "height": 739
    },
    "colab_type": "code",
    "id": "I9hONCStC1yP",
    "outputId": "7d3827da-d02a-4614-9981-6070be31b237"
   },
   "outputs": [
    {
     "name": "stdout",
     "output_type": "stream",
     "text": [
      "<class 'pandas.core.frame.DataFrame'>\n",
      "Int64Index: 14000 entries, 7236931 to 7463404\n",
      "Data columns (total 38 columns):\n",
      "addr_unit                 13890 non-null object\n",
      "building_id               14000 non-null int64\n",
      "bedrooms                  14000 non-null int64\n",
      "bathrooms                 14000 non-null float64\n",
      "size_sqft                 14000 non-null float64\n",
      "created_at                14000 non-null object\n",
      "addr_street               14000 non-null object\n",
      "addr_city                 14000 non-null object\n",
      "addr_zip                  14000 non-null int64\n",
      "addr_lat                  14000 non-null float64\n",
      "addr_lon                  14000 non-null float64\n",
      "bin                       13999 non-null float64\n",
      "bbl                       14000 non-null int64\n",
      "floor_count               14000 non-null float64\n",
      "year_built                13530 non-null float64\n",
      "min_to_subway             13857 non-null float64\n",
      "has_doorman               14000 non-null int64\n",
      "has_elevator              14000 non-null int64\n",
      "has_fireplace             14000 non-null int64\n",
      "has_dishwasher            14000 non-null int64\n",
      "is_furnished              14000 non-null int64\n",
      "has_gym                   14000 non-null int64\n",
      "allows_pets               14000 non-null int64\n",
      "has_washer_dryer          14000 non-null int64\n",
      "has_garage                14000 non-null int64\n",
      "has_roofdeck              14000 non-null int64\n",
      "has_concierge             14000 non-null int64\n",
      "has_pool                  14000 non-null int64\n",
      "has_garden                14000 non-null int64\n",
      "has_childrens_playroom    14000 non-null int64\n",
      "rent                      14000 non-null int64\n",
      "no_fee                    14000 non-null int64\n",
      "description               13984 non-null object\n",
      "neighborhood              13997 non-null object\n",
      "borough                   14000 non-null object\n",
      "unit                      13886 non-null object\n",
      "floornumber               12498 non-null float64\n",
      "line                      9865 non-null object\n",
      "dtypes: float64(9), int64(20), object(9)\n",
      "memory usage: 4.2+ MB\n"
     ]
    }
   ],
   "source": [
    "raw_df.info()"
   ]
  },
  {
   "cell_type": "code",
   "execution_count": 6,
   "metadata": {
    "colab": {
     "base_uri": "https://localhost:8080/",
     "height": 286
    },
    "colab_type": "code",
    "id": "bQBnI2n0FuHJ",
    "outputId": "9a62644e-70ac-4531-c6f8-96813f039d8c"
   },
   "outputs": [
    {
     "data": {
      "text/plain": [
       "<matplotlib.axes._subplots.AxesSubplot at 0x18e56878448>"
      ]
     },
     "execution_count": 6,
     "metadata": {},
     "output_type": "execute_result"
    },
    {
     "data": {
      "image/png": "[encoded data removed]",
      "text/plain": [
       "<Figure size 432x288 with 1 Axes>"
      ]
     },
     "metadata": {
      "needs_background": "light"
     },
     "output_type": "display_data"
    }
   ],
   "source": [
    "raw_df['rent'].hist(bins=100)"
   ]
  },
  {
   "cell_type": "markdown",
   "metadata": {
    "colab_type": "text",
    "id": "cN1cvd5g0lcL"
   },
   "source": [
    "### Seperate all features into continuous, categorical and binary features.\n",
    "\n",
    "For those none relatived features as below, we have excluded them from the features grouping: \n",
    "- addr_unit: no relationship\n",
    "- building_id: no relationship\n",
    "- addr_lat: hard to analyze latitude\n",
    "- addr_lon: hard to analyze longtitude\n",
    "- bin: need to wait for external dataset\n",
    "- bbl: need to wait for external dataset\n",
    "- description: hard to build a NLP model\n",
    "- unit: no relationship\n"
   ]
  },
  {
   "cell_type": "code",
   "execution_count": 7,
   "metadata": {
    "colab": {},
    "colab_type": "code",
    "id": "ce4l5HZNModF"
   },
   "outputs": [],
   "source": [
    "continuous_features =['bathrooms','bedrooms','size_sqft','floor_count','year_built','min_to_subway','floornumber' ]\n",
    "caterigal_features =['addr_street','addr_city','addr_zip','neighborhood','borough','line' ]\n",
    "binary_features = ['has_doorman', 'has_elevator', 'has_fireplace', 'has_dishwasher','is_furnished', 'has_gym', 'allows_pets', \n",
    "                   'has_washer_dryer','has_garage', 'has_roofdeck', 'has_concierge', 'has_pool', 'has_garden',\n",
    "                   'has_childrens_playroom', 'no_fee', ]"
   ]
  },
  {
   "cell_type": "markdown",
   "metadata": {
    "colab": {},
    "colab_type": "code",
    "id": "bp674gXgC1yy"
   },
   "source": [
    "## Import external dataset from Internal Revenue Service\n",
    " - We will import the 2017 individual income Tax statistic dataset from IRS website(https://www.irs.gov/pub/irs-soi/17zpallagi.csv).\n",
    " - We will expend a new feature: **average_income** based on zipcode to our raw dataset "
   ]
  },
  {
   "cell_type": "code",
   "execution_count": 8,
   "metadata": {
    "colab": {
     "base_uri": "https://localhost:8080/",
     "height": 119
    },
    "colab_type": "code",
    "id": "ySvUva5SC1yz",
    "outputId": "1ed1dab8-6fb2-4f94-8584-d38dbadc73fd"
   },
   "outputs": [
    {
     "data": {
      "text/plain": [
       "Index(['STATE', 'zipcode', 'agi_stub', 'N1', 'mars1', 'MARS2', 'MARS4', 'ELF',\n",
       "       'CPREP', 'PREP',\n",
       "       ...\n",
       "       'N85300', 'A85300', 'N11901', 'A11901', 'N11900', 'A11900', 'N11902',\n",
       "       'A11902', 'N12000', 'A12000'],\n",
       "      dtype='object', length=152)"
      ]
     },
     "execution_count": 8,
     "metadata": {},
     "output_type": "execute_result"
    }
   ],
   "source": [
    "raw_income_data=pd.read_csv('https://www.irs.gov/pub/irs-soi/17zpallagi.csv', index_col=0)\n",
    "raw_income_data.columns"
   ]
  },
  {
   "cell_type": "code",
   "execution_count": 9,
   "metadata": {
    "colab": {},
    "colab_type": "code",
    "id": "4OwGK7NMC1y4",
    "outputId": "f3d9ab34-8545-461e-abad-372abd7b373a"
   },
   "outputs": [
    {
     "data": {
      "text/html": [
       "<div>\n",
       "<style scoped>\n",
       "    .dataframe tbody tr th:only-of-type {\n",
       "        vertical-align: middle;\n",
       "    }\n",
       "\n",
       "    .dataframe tbody tr th {\n",
       "        vertical-align: top;\n",
       "    }\n",
       "\n",
       "    .dataframe thead th {\n",
       "        text-align: right;\n",
       "    }\n",
       "</style>\n",
       "<table border=\"1\" class=\"dataframe\">\n",
       "  <thead>\n",
       "    <tr style=\"text-align: right;\">\n",
       "      <th></th>\n",
       "      <th>zipcode</th>\n",
       "      <th>agi_stub</th>\n",
       "      <th>N1</th>\n",
       "      <th>mars1</th>\n",
       "      <th>MARS2</th>\n",
       "      <th>MARS4</th>\n",
       "      <th>ELF</th>\n",
       "      <th>CPREP</th>\n",
       "      <th>PREP</th>\n",
       "      <th>DIR_DEP</th>\n",
       "      <th>...</th>\n",
       "      <th>N85300</th>\n",
       "      <th>A85300</th>\n",
       "      <th>N11901</th>\n",
       "      <th>A11901</th>\n",
       "      <th>N11900</th>\n",
       "      <th>A11900</th>\n",
       "      <th>N11902</th>\n",
       "      <th>A11902</th>\n",
       "      <th>N12000</th>\n",
       "      <th>A12000</th>\n",
       "    </tr>\n",
       "  </thead>\n",
       "  <tbody>\n",
       "    <tr>\n",
       "      <th>count</th>\n",
       "      <td>166537.000000</td>\n",
       "      <td>166537.000000</td>\n",
       "      <td>1.665370e+05</td>\n",
       "      <td>1.665370e+05</td>\n",
       "      <td>1.665370e+05</td>\n",
       "      <td>166537.000000</td>\n",
       "      <td>1.665370e+05</td>\n",
       "      <td>166537.000000</td>\n",
       "      <td>1.665370e+05</td>\n",
       "      <td>1.665370e+05</td>\n",
       "      <td>...</td>\n",
       "      <td>166537.000000</td>\n",
       "      <td>1.665370e+05</td>\n",
       "      <td>166537.000000</td>\n",
       "      <td>1.665370e+05</td>\n",
       "      <td>1.665370e+05</td>\n",
       "      <td>1.665370e+05</td>\n",
       "      <td>1.665370e+05</td>\n",
       "      <td>1.665370e+05</td>\n",
       "      <td>166537.000000</td>\n",
       "      <td>1.665370e+05</td>\n",
       "    </tr>\n",
       "    <tr>\n",
       "      <th>mean</th>\n",
       "      <td>48870.221668</td>\n",
       "      <td>3.499883</td>\n",
       "      <td>1.797506e+03</td>\n",
       "      <td>8.568076e+02</td>\n",
       "      <td>6.466075e+02</td>\n",
       "      <td>257.395354</td>\n",
       "      <td>1.595375e+03</td>\n",
       "      <td>109.165711</td>\n",
       "      <td>9.565737e+02</td>\n",
       "      <td>1.115313e+03</td>\n",
       "      <td>...</td>\n",
       "      <td>52.247849</td>\n",
       "      <td>2.652260e+02</td>\n",
       "      <td>366.565508</td>\n",
       "      <td>2.075837e+03</td>\n",
       "      <td>1.385102e+03</td>\n",
       "      <td>4.864975e+03</td>\n",
       "      <td>1.349381e+03</td>\n",
       "      <td>3.932834e+03</td>\n",
       "      <td>43.103875</td>\n",
       "      <td>8.790301e+02</td>\n",
       "    </tr>\n",
       "    <tr>\n",
       "      <th>std</th>\n",
       "      <td>27140.457939</td>\n",
       "      <td>1.707903</td>\n",
       "      <td>3.682065e+04</td>\n",
       "      <td>2.157115e+04</td>\n",
       "      <td>1.180901e+04</td>\n",
       "      <td>6579.521856</td>\n",
       "      <td>3.234179e+04</td>\n",
       "      <td>2546.536828</td>\n",
       "      <td>1.996698e+04</td>\n",
       "      <td>2.347348e+04</td>\n",
       "      <td>...</td>\n",
       "      <td>2663.659358</td>\n",
       "      <td>1.535593e+04</td>\n",
       "      <td>6891.242958</td>\n",
       "      <td>6.608186e+04</td>\n",
       "      <td>2.947749e+04</td>\n",
       "      <td>1.012458e+05</td>\n",
       "      <td>2.909491e+04</td>\n",
       "      <td>7.693938e+04</td>\n",
       "      <td>947.324343</td>\n",
       "      <td>4.399491e+04</td>\n",
       "    </tr>\n",
       "    <tr>\n",
       "      <th>min</th>\n",
       "      <td>0.000000</td>\n",
       "      <td>1.000000</td>\n",
       "      <td>0.000000e+00</td>\n",
       "      <td>0.000000e+00</td>\n",
       "      <td>0.000000e+00</td>\n",
       "      <td>0.000000</td>\n",
       "      <td>0.000000e+00</td>\n",
       "      <td>0.000000</td>\n",
       "      <td>0.000000e+00</td>\n",
       "      <td>0.000000e+00</td>\n",
       "      <td>...</td>\n",
       "      <td>0.000000</td>\n",
       "      <td>0.000000e+00</td>\n",
       "      <td>0.000000</td>\n",
       "      <td>0.000000e+00</td>\n",
       "      <td>0.000000e+00</td>\n",
       "      <td>0.000000e+00</td>\n",
       "      <td>0.000000e+00</td>\n",
       "      <td>0.000000e+00</td>\n",
       "      <td>0.000000</td>\n",
       "      <td>0.000000e+00</td>\n",
       "    </tr>\n",
       "    <tr>\n",
       "      <th>25%</th>\n",
       "      <td>27030.000000</td>\n",
       "      <td>2.000000</td>\n",
       "      <td>7.000000e+01</td>\n",
       "      <td>0.000000e+00</td>\n",
       "      <td>4.000000e+01</td>\n",
       "      <td>0.000000</td>\n",
       "      <td>6.000000e+01</td>\n",
       "      <td>0.000000</td>\n",
       "      <td>4.000000e+01</td>\n",
       "      <td>4.000000e+01</td>\n",
       "      <td>...</td>\n",
       "      <td>0.000000</td>\n",
       "      <td>0.000000e+00</td>\n",
       "      <td>20.000000</td>\n",
       "      <td>2.100000e+01</td>\n",
       "      <td>5.000000e+01</td>\n",
       "      <td>1.580000e+02</td>\n",
       "      <td>4.000000e+01</td>\n",
       "      <td>1.410000e+02</td>\n",
       "      <td>0.000000</td>\n",
       "      <td>0.000000e+00</td>\n",
       "    </tr>\n",
       "    <tr>\n",
       "      <th>50%</th>\n",
       "      <td>48876.000000</td>\n",
       "      <td>3.000000</td>\n",
       "      <td>2.500000e+02</td>\n",
       "      <td>7.000000e+01</td>\n",
       "      <td>1.100000e+02</td>\n",
       "      <td>20.000000</td>\n",
       "      <td>2.200000e+02</td>\n",
       "      <td>0.000000</td>\n",
       "      <td>1.500000e+02</td>\n",
       "      <td>1.400000e+02</td>\n",
       "      <td>...</td>\n",
       "      <td>0.000000</td>\n",
       "      <td>0.000000e+00</td>\n",
       "      <td>60.000000</td>\n",
       "      <td>1.550000e+02</td>\n",
       "      <td>1.800000e+02</td>\n",
       "      <td>6.220000e+02</td>\n",
       "      <td>1.700000e+02</td>\n",
       "      <td>5.480000e+02</td>\n",
       "      <td>0.000000</td>\n",
       "      <td>0.000000e+00</td>\n",
       "    </tr>\n",
       "    <tr>\n",
       "      <th>75%</th>\n",
       "      <td>70601.000000</td>\n",
       "      <td>5.000000</td>\n",
       "      <td>1.020000e+03</td>\n",
       "      <td>3.400000e+02</td>\n",
       "      <td>3.800000e+02</td>\n",
       "      <td>90.000000</td>\n",
       "      <td>9.100000e+02</td>\n",
       "      <td>60.000000</td>\n",
       "      <td>5.600000e+02</td>\n",
       "      <td>5.900000e+02</td>\n",
       "      <td>...</td>\n",
       "      <td>0.000000</td>\n",
       "      <td>0.000000e+00</td>\n",
       "      <td>220.000000</td>\n",
       "      <td>6.870000e+02</td>\n",
       "      <td>7.400000e+02</td>\n",
       "      <td>2.484000e+03</td>\n",
       "      <td>7.100000e+02</td>\n",
       "      <td>2.207000e+03</td>\n",
       "      <td>30.000000</td>\n",
       "      <td>6.400000e+01</td>\n",
       "    </tr>\n",
       "    <tr>\n",
       "      <th>max</th>\n",
       "      <td>99999.000000</td>\n",
       "      <td>6.000000</td>\n",
       "      <td>5.824360e+06</td>\n",
       "      <td>4.130490e+06</td>\n",
       "      <td>1.757700e+06</td>\n",
       "      <td>982390.000000</td>\n",
       "      <td>4.980210e+06</td>\n",
       "      <td>475240.000000</td>\n",
       "      <td>3.387570e+06</td>\n",
       "      <td>3.233490e+06</td>\n",
       "      <td>...</td>\n",
       "      <td>763140.000000</td>\n",
       "      <td>4.031847e+06</td>\n",
       "      <td>890950.000000</td>\n",
       "      <td>1.750126e+07</td>\n",
       "      <td>4.598480e+06</td>\n",
       "      <td>1.667374e+07</td>\n",
       "      <td>4.561540e+06</td>\n",
       "      <td>9.443931e+06</td>\n",
       "      <td>186110.000000</td>\n",
       "      <td>1.056186e+07</td>\n",
       "    </tr>\n",
       "  </tbody>\n",
       "</table>\n",
       "<p>8 rows × 151 columns</p>\n",
       "</div>"
      ],
      "text/plain": [
       "             zipcode       agi_stub            N1         mars1         MARS2  \\\n",
       "count  166537.000000  166537.000000  1.665370e+05  1.665370e+05  1.665370e+05   \n",
       "mean    48870.221668       3.499883  1.797506e+03  8.568076e+02  6.466075e+02   \n",
       "std     27140.457939       1.707903  3.682065e+04  2.157115e+04  1.180901e+04   \n",
       "min         0.000000       1.000000  0.000000e+00  0.000000e+00  0.000000e+00   \n",
       "25%     27030.000000       2.000000  7.000000e+01  0.000000e+00  4.000000e+01   \n",
       "50%     48876.000000       3.000000  2.500000e+02  7.000000e+01  1.100000e+02   \n",
       "75%     70601.000000       5.000000  1.020000e+03  3.400000e+02  3.800000e+02   \n",
       "max     99999.000000       6.000000  5.824360e+06  4.130490e+06  1.757700e+06   \n",
       "\n",
       "               MARS4           ELF          CPREP          PREP       DIR_DEP  \\\n",
       "count  166537.000000  1.665370e+05  166537.000000  1.665370e+05  1.665370e+05   \n",
       "mean      257.395354  1.595375e+03     109.165711  9.565737e+02  1.115313e+03   \n",
       "std      6579.521856  3.234179e+04    2546.536828  1.996698e+04  2.347348e+04   \n",
       "min         0.000000  0.000000e+00       0.000000  0.000000e+00  0.000000e+00   \n",
       "25%         0.000000  6.000000e+01       0.000000  4.000000e+01  4.000000e+01   \n",
       "50%        20.000000  2.200000e+02       0.000000  1.500000e+02  1.400000e+02   \n",
       "75%        90.000000  9.100000e+02      60.000000  5.600000e+02  5.900000e+02   \n",
       "max    982390.000000  4.980210e+06  475240.000000  3.387570e+06  3.233490e+06   \n",
       "\n",
       "       ...         N85300        A85300         N11901        A11901  \\\n",
       "count  ...  166537.000000  1.665370e+05  166537.000000  1.665370e+05   \n",
       "mean   ...      52.247849  2.652260e+02     366.565508  2.075837e+03   \n",
       "std    ...    2663.659358  1.535593e+04    6891.242958  6.608186e+04   \n",
       "min    ...       0.000000  0.000000e+00       0.000000  0.000000e+00   \n",
       "25%    ...       0.000000  0.000000e+00      20.000000  2.100000e+01   \n",
       "50%    ...       0.000000  0.000000e+00      60.000000  1.550000e+02   \n",
       "75%    ...       0.000000  0.000000e+00     220.000000  6.870000e+02   \n",
       "max    ...  763140.000000  4.031847e+06  890950.000000  1.750126e+07   \n",
       "\n",
       "             N11900        A11900        N11902        A11902         N12000  \\\n",
       "count  1.665370e+05  1.665370e+05  1.665370e+05  1.665370e+05  166537.000000   \n",
       "mean   1.385102e+03  4.864975e+03  1.349381e+03  3.932834e+03      43.103875   \n",
       "std    2.947749e+04  1.012458e+05  2.909491e+04  7.693938e+04     947.324343   \n",
       "min    0.000000e+00  0.000000e+00  0.000000e+00  0.000000e+00       0.000000   \n",
       "25%    5.000000e+01  1.580000e+02  4.000000e+01  1.410000e+02       0.000000   \n",
       "50%    1.800000e+02  6.220000e+02  1.700000e+02  5.480000e+02       0.000000   \n",
       "75%    7.400000e+02  2.484000e+03  7.100000e+02  2.207000e+03      30.000000   \n",
       "max    4.598480e+06  1.667374e+07  4.561540e+06  9.443931e+06  186110.000000   \n",
       "\n",
       "             A12000  \n",
       "count  1.665370e+05  \n",
       "mean   8.790301e+02  \n",
       "std    4.399491e+04  \n",
       "min    0.000000e+00  \n",
       "25%    0.000000e+00  \n",
       "50%    0.000000e+00  \n",
       "75%    6.400000e+01  \n",
       "max    1.056186e+07  \n",
       "\n",
       "[8 rows x 151 columns]"
      ]
     },
     "execution_count": 9,
     "metadata": {},
     "output_type": "execute_result"
    }
   ],
   "source": [
    "raw_income_data.describe()"
   ]
  },
  {
   "cell_type": "markdown",
   "metadata": {
    "colab_type": "text",
    "id": "dsIRl_HPz50L"
   },
   "source": [
    "### Income Dataset Description \n",
    "This dataset comes from the IRS website's 2017 ZIP Code Data (SOI) about Individual Income Tax Statistics.\n",
    "According to the documentation's overview,the Statistics of Income (SOI) Division’s ZIP code data is tabulated using individual income tax returns (Forms 1040) filed with the Internal Revenue Service (IRS) during the 12-month period, January 1, 2018 to December 31, 2018.\n",
    "The original dataset contains many income and Tax Items, we only keep the ones that are relevant: \n",
    "- STATEFIPS:The State Federal Information Processing System (FIPS) code\n",
    "- STATE: The State associated with the ZIP code\n",
    "- ZIPCODE: 5-digit Zip code\n",
    "- agi_stub: Size of adjusted gross income\n",
    "- N1: Total number of returns\n",
    "- A02650: Number of returns with total income\n",
    "\n",
    "Our goal is to find the average income of each zipcode."
   ]
  },
  {
   "cell_type": "markdown",
   "metadata": {
    "colab_type": "text",
    "id": "npFJUlx_z50M"
   },
   "source": [
    "### Clean the raw income data and rename feature"
   ]
  },
  {
   "cell_type": "code",
   "execution_count": 10,
   "metadata": {
    "colab": {},
    "colab_type": "code",
    "id": "-V89w0rGz50N"
   },
   "outputs": [],
   "source": [
    "raw_income_data = raw_income_data.loc[raw_income_data['STATE']=='NY']\n",
    "raw_income_data.rename(columns = {'N1':'total_returns', 'A02650':'total_income'}, inplace = True) \n",
    "raw_income_data = raw_income_data[['STATE','zipcode','agi_stub','total_returns', 'total_income']]\n",
    "raw_income_data = raw_income_data.loc[raw_income_data['zipcode']<99999]\n",
    "raw_income_data = raw_income_data.loc[raw_income_data['zipcode']>0]\n"
   ]
  },
  {
   "cell_type": "markdown",
   "metadata": {
    "colab_type": "text",
    "id": "-VGLOblZz50P"
   },
   "source": [
    "### Function to calculate the average income by zip code\n",
    "Each zip code has 6 different sizes of adjusted gross income which means we have 6 different number of total returns and total income for one zip code.\n",
    "By using the np.where and sum function, we can obtain the sum of income and sum of returns for each zip code. The income of the original dataset was in thousands of dollar so we need to multiply the sum of income by 1000 and then find the average. Since some zip code was not in the original set, we ingore those average that is NaN and only write the meaningful averages to csv file for future use."
   ]
  },
  {
   "cell_type": "markdown",
   "metadata": {
    "colab_type": "text",
    "id": "fYwv11cxz50Q"
   },
   "source": [
    "- Calculate average income \n",
    "- Export to ny_income_2017.csv for storage\n",
    "- For next time, no need to import the raw_income_dataset again"
   ]
  },
  {
   "cell_type": "code",
   "execution_count": 11,
   "metadata": {
    "colab": {
     "base_uri": "https://localhost:8080/",
     "height": 204
    },
    "colab_type": "code",
    "id": "frLORUzFz50R",
    "outputId": "c1056c7c-6d99-4532-9298-0f58a3d1a842"
   },
   "outputs": [
    {
     "data": {
      "text/html": [
       "<div>\n",
       "<style scoped>\n",
       "    .dataframe tbody tr th:only-of-type {\n",
       "        vertical-align: middle;\n",
       "    }\n",
       "\n",
       "    .dataframe tbody tr th {\n",
       "        vertical-align: top;\n",
       "    }\n",
       "\n",
       "    .dataframe thead th {\n",
       "        text-align: right;\n",
       "    }\n",
       "</style>\n",
       "<table border=\"1\" class=\"dataframe\">\n",
       "  <thead>\n",
       "    <tr style=\"text-align: right;\">\n",
       "      <th></th>\n",
       "      <th>addr_zip</th>\n",
       "      <th>zip_average_income</th>\n",
       "    </tr>\n",
       "  </thead>\n",
       "  <tbody>\n",
       "    <tr>\n",
       "      <th>0</th>\n",
       "      <td>10001.0</td>\n",
       "      <td>183859.908735</td>\n",
       "    </tr>\n",
       "    <tr>\n",
       "      <th>1</th>\n",
       "      <td>10002.0</td>\n",
       "      <td>59669.401750</td>\n",
       "    </tr>\n",
       "    <tr>\n",
       "      <th>2</th>\n",
       "      <td>10003.0</td>\n",
       "      <td>306277.962003</td>\n",
       "    </tr>\n",
       "    <tr>\n",
       "      <th>3</th>\n",
       "      <td>10004.0</td>\n",
       "      <td>385265.306122</td>\n",
       "    </tr>\n",
       "    <tr>\n",
       "      <th>4</th>\n",
       "      <td>10005.0</td>\n",
       "      <td>391201.520270</td>\n",
       "    </tr>\n",
       "  </tbody>\n",
       "</table>\n",
       "</div>"
      ],
      "text/plain": [
       "   addr_zip  zip_average_income\n",
       "0   10001.0       183859.908735\n",
       "1   10002.0        59669.401750\n",
       "2   10003.0       306277.962003\n",
       "3   10004.0       385265.306122\n",
       "4   10005.0       391201.520270"
      ]
     },
     "execution_count": 11,
     "metadata": {},
     "output_type": "execute_result"
    }
   ],
   "source": [
    "average_income = pd.DataFrame({'addr_zip':[],'zip_average_income':[]})\n",
    "\n",
    "def calculate_avg_income():\n",
    "    global average_income\n",
    "    for zipcode in range(10001, 14906):\n",
    "        current_sum=np.where(raw_income_data['zipcode']==zipcode, raw_income_data['total_income'],0).sum()\n",
    "        current_returns=np.where(raw_income_data['zipcode']==zipcode, raw_income_data['total_returns'],0).sum() \n",
    "        if(current_returns <=0 or current_sum<=0):\n",
    "            continue\n",
    "        avg_income=(current_sum*1000)/current_returns\n",
    "        new_row={'addr_zip':zipcode,'zip_average_income':avg_income}\n",
    "        average_income=average_income.append(new_row,ignore_index=True)           \n",
    "calculate_avg_income()\n",
    "average_income.head(5)"
   ]
  },
  {
   "cell_type": "markdown",
   "metadata": {
    "colab_type": "text",
    "id": "0IzznDIuz50U"
   },
   "source": [
    " - We realize that the income dataset is missing all income data between zipcode 11239 - 11354, we will take an averge of zipcode income for 11239 and 11354 to replace any zipcode income in between \n",
    " - In our training and testing dataset, only the zipcode income 11249 is missing"
   ]
  },
  {
   "cell_type": "code",
   "execution_count": 12,
   "metadata": {
    "colab": {},
    "colab_type": "code",
    "id": "gTUSEJ49z50U",
    "outputId": "0e334a05-9c82-48c3-ab4d-77744e611715"
   },
   "outputs": [
    {
     "name": "stdout",
     "output_type": "stream",
     "text": [
      "[11249]\n",
      "[11249]\n"
     ]
    }
   ],
   "source": [
    "print(list(set(raw_df['addr_zip']) - set(average_income['addr_zip'])))\n",
    "print(list(set(raw_test_df['addr_zip']) - set(average_income['addr_zip'])))"
   ]
  },
  {
   "cell_type": "markdown",
   "metadata": {
    "colab_type": "text",
    "id": "XnbmWJYxz50X"
   },
   "source": [
    "**Insert a new row for zipcode income 11249 into the average_income dataframe**"
   ]
  },
  {
   "cell_type": "code",
   "execution_count": 13,
   "metadata": {
    "colab": {},
    "colab_type": "code",
    "id": "F_bdJvGyz50Y"
   },
   "outputs": [],
   "source": [
    "avg_income = (average_income.loc[(average_income['addr_zip']==11239)].iloc[0]['zip_average_income'] +\n",
    "             average_income.loc[(average_income['addr_zip']==11354)].iloc[0]['zip_average_income'])/2\n",
    "new_row = {'addr_zip':11249,'zip_average_income':avg_income}\n",
    "average_income=average_income.append(new_row,ignore_index=True)  "
   ]
  },
  {
   "cell_type": "markdown",
   "metadata": {
    "colab_type": "text",
    "id": "UtLCiyTwz50a"
   },
   "source": [
    "### Merge the raw train  dataset with the income dataset by addr_zip"
   ]
  },
  {
   "cell_type": "code",
   "execution_count": 14,
   "metadata": {
    "colab": {},
    "colab_type": "code",
    "id": "Mkmeq1Q3z50b"
   },
   "outputs": [],
   "source": [
    "raw_test2_df=raw_test2_df.reset_index().merge(average_income, how=\"left\",on='addr_zip').set_index('rental_id')\n",
    "raw_df=raw_df.reset_index().merge(average_income, how=\"left\",on='addr_zip').set_index('rental_id')"
   ]
  },
  {
   "cell_type": "markdown",
   "metadata": {
    "colab_type": "text",
    "id": "GO3qzUewz50d"
   },
   "source": [
    "### Find zip_average_income and rent cooleration"
   ]
  },
  {
   "cell_type": "code",
   "execution_count": 15,
   "metadata": {
    "colab": {},
    "colab_type": "code",
    "id": "gasWc5OYz50e"
   },
   "outputs": [],
   "source": [
    "continuous_features.append('zip_average_income')"
   ]
  },
  {
   "cell_type": "code",
   "execution_count": 16,
   "metadata": {
    "colab": {},
    "colab_type": "code",
    "id": "-kqkBEJGz50h",
    "outputId": "59ca8084-dce3-452d-f506-2926ae2e526c"
   },
   "outputs": [
    {
     "data": {
      "text/plain": [
       "zip_average_income    0.393228\n",
       "Name: rent, dtype: float64"
      ]
     },
     "execution_count": 16,
     "metadata": {},
     "output_type": "execute_result"
    }
   ],
   "source": [
    "continuous_df = raw_df[['zip_average_income','rent']]\n",
    "continuous_df.corr()['rent'][:-1]\n"
   ]
  },
  {
   "cell_type": "markdown",
   "metadata": {
    "colab_type": "text",
    "id": "Vwee4_SPz50l"
   },
   "source": [
    "**The correlation between zip_average_income and rent is 0.393228, it is good enough to consider as a important feature that might impact the rent**"
   ]
  },
  {
   "cell_type": "markdown",
   "metadata": {
    "colab_type": "text",
    "id": "Sq-lexQfz50m"
   },
   "source": [
    "# Data Cleaning"
   ]
  },
  {
   "cell_type": "markdown",
   "metadata": {
    "colab_type": "text",
    "id": "g_YNLB4Lz50n"
   },
   "source": [
    "\n",
    "### Handling missing data\n",
    "In order to handle missing data in this dataset, we frist find and count all the null values."
   ]
  },
  {
   "cell_type": "code",
   "execution_count": 17,
   "metadata": {
    "colab": {},
    "colab_type": "code",
    "id": "IBbbVEkLz50q",
    "outputId": "05f679c4-20ad-4541-faa1-d1747e07fd0e"
   },
   "outputs": [
    {
     "data": {
      "text/plain": [
       "addr_unit                  110\n",
       "building_id                  0\n",
       "bedrooms                     0\n",
       "bathrooms                    0\n",
       "size_sqft                    0\n",
       "created_at                   0\n",
       "addr_street                  0\n",
       "addr_city                    0\n",
       "addr_zip                     0\n",
       "addr_lat                     0\n",
       "addr_lon                     0\n",
       "bin                          1\n",
       "bbl                          0\n",
       "floor_count                  0\n",
       "year_built                 470\n",
       "min_to_subway              143\n",
       "has_doorman                  0\n",
       "has_elevator                 0\n",
       "has_fireplace                0\n",
       "has_dishwasher               0\n",
       "is_furnished                 0\n",
       "has_gym                      0\n",
       "allows_pets                  0\n",
       "has_washer_dryer             0\n",
       "has_garage                   0\n",
       "has_roofdeck                 0\n",
       "has_concierge                0\n",
       "has_pool                     0\n",
       "has_garden                   0\n",
       "has_childrens_playroom       0\n",
       "rent                         0\n",
       "no_fee                       0\n",
       "description                 16\n",
       "neighborhood                 3\n",
       "borough                      0\n",
       "unit                       114\n",
       "floornumber               1502\n",
       "line                      4135\n",
       "zip_average_income           0\n",
       "dtype: int64"
      ]
     },
     "execution_count": 17,
     "metadata": {},
     "output_type": "execute_result"
    }
   ],
   "source": [
    "raw_df.isna().sum()"
   ]
  },
  {
   "cell_type": "markdown",
   "metadata": {
    "colab_type": "text",
    "id": "UrIsCH6xz50t"
   },
   "source": [
    "As we can see from the result,there are missing data appearing on: \n",
    "- addr_unit\n",
    "- bin \n",
    "- year_built \n",
    "- min_to_subway \n",
    "- description \n",
    "- neighborhood \n",
    "- unit \n",
    "- floornumber \n",
    "- line \n",
    "\n",
    "Continuous features floornumber, year_built and min_to_subway has impact on the rent, so we will fill with mode or mean. For catagorigious feature neighborhood, we will not use it in building model, because it has too many possible values."
   ]
  },
  {
   "cell_type": "code",
   "execution_count": 18,
   "metadata": {
    "colab": {
     "base_uri": "https://localhost:8080/",
     "height": 51
    },
    "colab_type": "code",
    "id": "TlnpEmrkz50t",
    "outputId": "5f13938f-bd73-476f-d1f5-2fa6a0e33967"
   },
   "outputs": [
    {
     "name": "stdout",
     "output_type": "stream",
     "text": [
      "original shape of dataset: (14000, 39)\n",
      "shape of dataset after handling missing data, should stay the same: (14000, 39)\n"
     ]
    }
   ],
   "source": [
    "md_df = raw_df\n",
    "\n",
    "md_df['floornumber'].fillna(md_df['floornumber'].mode()[0], inplace=True)\n",
    "raw_test2_df['floornumber'].fillna(raw_test2_df['floornumber'].mode()[0], inplace=True)\n",
    "\n",
    "md_df['min_to_subway'].fillna(md_df['min_to_subway'].mean(), inplace=True)\n",
    "raw_test2_df['min_to_subway'].fillna(raw_test2_df['min_to_subway'].mean(), inplace=True)\n",
    "\n",
    "md_df['year_built'].fillna(md_df['year_built'].mean(), inplace=True)\n",
    "raw_test2_df['year_built'].fillna(raw_test2_df['year_built'].mean(), inplace=True)\n",
    "\n",
    "print(\"original shape of dataset:\",raw_df.shape)\n",
    "print(\"shape of dataset after handling missing data, should stay the same:\",md_df.shape)"
   ]
  },
  {
   "cell_type": "markdown",
   "metadata": {
    "colab_type": "text",
    "id": "TeWzSum5z50w"
   },
   "source": [
    "## Remove outliers"
   ]
  },
  {
   "cell_type": "code",
   "execution_count": 19,
   "metadata": {
    "colab": {},
    "colab_type": "code",
    "id": "5ZlyWStHz50w",
    "outputId": "8f0581aa-c64c-423e-b272-3be0a0cc3b6f"
   },
   "outputs": [
    {
     "data": {
      "image/png": "[encoded data removed]",
      "text/plain": [
       "<Figure size 432x288 with 1 Axes>"
      ]
     },
     "metadata": {
      "needs_background": "light"
     },
     "output_type": "display_data"
    },
    {
     "data": {
      "image/png": "[encoded data removed]",
      "text/plain": [
       "<Figure size 432x288 with 1 Axes>"
      ]
     },
     "metadata": {
      "needs_background": "light"
     },
     "output_type": "display_data"
    },
    {
     "data": {
      "image/png": "[encoded data removed]",
      "text/plain": [
       "<Figure size 432x288 with 1 Axes>"
      ]
     },
     "metadata": {
      "needs_background": "light"
     },
     "output_type": "display_data"
    },
    {
     "data": {
      "image/png": "[encoded data removed]",
      "text/plain": [
       "<Figure size 432x288 with 1 Axes>"
      ]
     },
     "metadata": {
      "needs_background": "light"
     },
     "output_type": "display_data"
    },
    {
     "data": {
      "image/png": "[encoded data removed]",
      "text/plain": [
       "<Figure size 432x288 with 1 Axes>"
      ]
     },
     "metadata": {
      "needs_background": "light"
     },
     "output_type": "display_data"
    },
    {
     "data": {
      "image/png": "[encoded data removed]",
      "text/plain": [
       "<Figure size 432x288 with 1 Axes>"
      ]
     },
     "metadata": {
      "needs_background": "light"
     },
     "output_type": "display_data"
    },
    {
     "data": {
      "image/png": "[encoded data removed]",
      "text/plain": [
       "<Figure size 432x288 with 1 Axes>"
      ]
     },
     "metadata": {
      "needs_background": "light"
     },
     "output_type": "display_data"
    },
    {
     "data": {
      "image/png": "[encoded data removed]",
      "text/plain": [
       "<Figure size 432x288 with 1 Axes>"
      ]
     },
     "metadata": {
      "needs_background": "light"
     },
     "output_type": "display_data"
    }
   ],
   "source": [
    "for feature in continuous_features:\n",
    "    md_df.plot.scatter(feature, 'rent')"
   ]
  },
  {
   "cell_type": "code",
   "execution_count": 20,
   "metadata": {
    "colab": {},
    "colab_type": "code",
    "id": "nSGretTYz50z",
    "outputId": "f714b8a2-7394-4ba9-c813-c0ec65208dbf"
   },
   "outputs": [
    {
     "data": {
      "text/plain": [
       "addr_unit                 9\n",
       "building_id               9\n",
       "bedrooms                  9\n",
       "bathrooms                 9\n",
       "size_sqft                 9\n",
       "created_at                9\n",
       "addr_street               9\n",
       "addr_city                 9\n",
       "addr_zip                  9\n",
       "addr_lat                  9\n",
       "addr_lon                  9\n",
       "bin                       9\n",
       "bbl                       9\n",
       "floor_count               9\n",
       "year_built                9\n",
       "min_to_subway             9\n",
       "has_doorman               9\n",
       "has_elevator              9\n",
       "has_fireplace             9\n",
       "has_dishwasher            9\n",
       "is_furnished              9\n",
       "has_gym                   9\n",
       "allows_pets               9\n",
       "has_washer_dryer          9\n",
       "has_garage                9\n",
       "has_roofdeck              9\n",
       "has_concierge             9\n",
       "has_pool                  9\n",
       "has_garden                9\n",
       "has_childrens_playroom    9\n",
       "rent                      9\n",
       "no_fee                    9\n",
       "description               9\n",
       "neighborhood              9\n",
       "borough                   9\n",
       "unit                      8\n",
       "floornumber               9\n",
       "line                      4\n",
       "zip_average_income        9\n",
       "dtype: int64"
      ]
     },
     "execution_count": 20,
     "metadata": {},
     "output_type": "execute_result"
    }
   ],
   "source": [
    "md_df[md_df['rent']>40000].count()"
   ]
  },
  {
   "cell_type": "markdown",
   "metadata": {
    "colab_type": "text",
    "id": "oi-VpdMNz501"
   },
   "source": [
    "**drop size_sqrt = 0 for now, since there are 713 rows, might replace with mode when creating models**"
   ]
  },
  {
   "cell_type": "code",
   "execution_count": 21,
   "metadata": {
    "colab": {
     "base_uri": "https://localhost:8080/",
     "height": 221
    },
    "colab_type": "code",
    "id": "eVa8L2Siz502",
    "outputId": "0f656e3b-3d27-4293-ddbd-7060922f32f5"
   },
   "outputs": [
    {
     "name": "stdout",
     "output_type": "stream",
     "text": [
      "rent :  (14000, 39)\n",
      "rent :  (13991, 39)\n",
      "bathrooms :  (13991, 39)\n",
      "bathrooms :  (13983, 39)\n",
      "size_sqft :  (13983, 39)\n",
      "size_sqft :  (12971, 39)\n",
      "year_built :  (12971, 39)\n",
      "year_built :  (12892, 39)\n",
      "min_to_subway :  (12892, 39)\n",
      "min_to_subway :  (12753, 39)\n",
      "floornumber :  (12753, 39)\n",
      "floornumber :  (12736, 39)\n"
     ]
    }
   ],
   "source": [
    "def remove_outliers(md_df, feature, low_value, high_value):\n",
    "    print(feature, ': ', md_df.shape)\n",
    "    md_df = md_df[md_df[feature]>low_value]\n",
    "    md_df = md_df[md_df[feature]<=high_value]\n",
    "    md_df.reset_index(drop=True,inplace=True)\n",
    "    print(feature, ': ', md_df.shape)\n",
    "    return md_df\n",
    "\n",
    "md_df = remove_outliers(md_df, 'rent', 0, 40000)\n",
    "md_df = remove_outliers(md_df, 'bathrooms', 0, 12)\n",
    "md_df = remove_outliers(md_df, 'size_sqft', 0, 10000)\n",
    "md_df = remove_outliers(md_df, 'year_built', 1700, 2019)\n",
    "md_df = remove_outliers(md_df, 'min_to_subway', 0, 60)\n",
    "md_df = remove_outliers(md_df, 'floornumber', 0, 60)\n",
    "\n",
    "md_df['year_built'] = 2019 - md_df['year_built'].astype(int)"
   ]
  },
  {
   "cell_type": "markdown",
   "metadata": {
    "colab_type": "text",
    "id": "EdMZuLXPz504"
   },
   "source": [
    "### Encode categorical feature and drop useless features"
   ]
  },
  {
   "cell_type": "code",
   "execution_count": 22,
   "metadata": {
    "colab": {},
    "colab_type": "code",
    "id": "Yk6n-wuhz504"
   },
   "outputs": [],
   "source": [
    "boroughs = np.array(md_df['borough'].unique())\n",
    "\n",
    "for borough in boroughs:\n",
    "    md_df[borough] = md_df['borough'].apply(lambda x : int(x == borough))\n",
    "    raw_test2_df[borough] = raw_test2_df['borough'].apply(lambda x : int(x == borough))\n",
    "\n",
    "features_notNeed = ['addr_unit', 'building_id', 'created_at', 'addr_street', 'addr_city', 'addr_zip', 'bin', 'bbl', 'description', \\\n",
    "                    'neighborhood', 'unit', 'borough', 'line']\n",
    "\n",
    "md_df = md_df.drop(features_notNeed, axis=1)"
   ]
  },
  {
   "cell_type": "markdown",
   "metadata": {
    "colab_type": "text",
    "id": "R8wB_RrBz507"
   },
   "source": [
    "### Use pair coorelation for continuous features"
   ]
  },
  {
   "cell_type": "code",
   "execution_count": 23,
   "metadata": {
    "colab": {},
    "colab_type": "code",
    "id": "0T9tc1Sgz507",
    "outputId": "38ac2670-e06b-4b0e-a12d-4578b89aa04b"
   },
   "outputs": [
    {
     "data": {
      "text/plain": [
       "bathrooms             0.636554\n",
       "bedrooms              0.349936\n",
       "size_sqft             0.690211\n",
       "floor_count           0.262856\n",
       "year_built           -0.108060\n",
       "min_to_subway        -0.082684\n",
       "floornumber           0.246969\n",
       "zip_average_income    0.420397\n",
       "Name: rent, dtype: float64"
      ]
     },
     "execution_count": 23,
     "metadata": {},
     "output_type": "execute_result"
    }
   ],
   "source": [
    "continuous_df = md_df[continuous_features+['rent']]\n",
    "continuous_df.corr()['rent'][:-1]"
   ]
  },
  {
   "cell_type": "markdown",
   "metadata": {
    "colab_type": "text",
    "id": "1oR3OgtGz50_"
   },
   "source": [
    "### Check coorelation for binary features"
   ]
  },
  {
   "cell_type": "code",
   "execution_count": 24,
   "metadata": {
    "colab": {},
    "colab_type": "code",
    "id": "Hpz9vhlAz51A",
    "outputId": "adda346d-1d76-4ae2-d0f8-5dcb4b165f24"
   },
   "outputs": [
    {
     "data": {
      "text/html": [
       "<div>\n",
       "<style scoped>\n",
       "    .dataframe tbody tr th:only-of-type {\n",
       "        vertical-align: middle;\n",
       "    }\n",
       "\n",
       "    .dataframe tbody tr th {\n",
       "        vertical-align: top;\n",
       "    }\n",
       "\n",
       "    .dataframe thead th {\n",
       "        text-align: right;\n",
       "    }\n",
       "</style>\n",
       "<table border=\"1\" class=\"dataframe\">\n",
       "  <thead>\n",
       "    <tr style=\"text-align: right;\">\n",
       "      <th></th>\n",
       "      <th>Coorelation</th>\n",
       "      <th>Feature</th>\n",
       "    </tr>\n",
       "  </thead>\n",
       "  <tbody>\n",
       "    <tr>\n",
       "      <th>0</th>\n",
       "      <td>1.0</td>\n",
       "      <td>has_doorman</td>\n",
       "    </tr>\n",
       "    <tr>\n",
       "      <th>1</th>\n",
       "      <td>1.0</td>\n",
       "      <td>has_elevator</td>\n",
       "    </tr>\n",
       "    <tr>\n",
       "      <th>2</th>\n",
       "      <td>1.0</td>\n",
       "      <td>has_fireplace</td>\n",
       "    </tr>\n",
       "    <tr>\n",
       "      <th>3</th>\n",
       "      <td>1.0</td>\n",
       "      <td>has_dishwasher</td>\n",
       "    </tr>\n",
       "    <tr>\n",
       "      <th>4</th>\n",
       "      <td>1.0</td>\n",
       "      <td>is_furnished</td>\n",
       "    </tr>\n",
       "    <tr>\n",
       "      <th>5</th>\n",
       "      <td>1.0</td>\n",
       "      <td>has_gym</td>\n",
       "    </tr>\n",
       "    <tr>\n",
       "      <th>6</th>\n",
       "      <td>1.0</td>\n",
       "      <td>allows_pets</td>\n",
       "    </tr>\n",
       "    <tr>\n",
       "      <th>7</th>\n",
       "      <td>1.0</td>\n",
       "      <td>has_washer_dryer</td>\n",
       "    </tr>\n",
       "    <tr>\n",
       "      <th>8</th>\n",
       "      <td>1.0</td>\n",
       "      <td>has_garage</td>\n",
       "    </tr>\n",
       "    <tr>\n",
       "      <th>9</th>\n",
       "      <td>1.0</td>\n",
       "      <td>has_roofdeck</td>\n",
       "    </tr>\n",
       "    <tr>\n",
       "      <th>10</th>\n",
       "      <td>1.0</td>\n",
       "      <td>has_concierge</td>\n",
       "    </tr>\n",
       "    <tr>\n",
       "      <th>11</th>\n",
       "      <td>1.0</td>\n",
       "      <td>has_pool</td>\n",
       "    </tr>\n",
       "    <tr>\n",
       "      <th>12</th>\n",
       "      <td>1.0</td>\n",
       "      <td>has_garden</td>\n",
       "    </tr>\n",
       "    <tr>\n",
       "      <th>13</th>\n",
       "      <td>1.0</td>\n",
       "      <td>has_childrens_playroom</td>\n",
       "    </tr>\n",
       "    <tr>\n",
       "      <th>14</th>\n",
       "      <td>1.0</td>\n",
       "      <td>no_fee</td>\n",
       "    </tr>\n",
       "  </tbody>\n",
       "</table>\n",
       "</div>"
      ],
      "text/plain": [
       "    Coorelation                 Feature\n",
       "0           1.0             has_doorman\n",
       "1           1.0            has_elevator\n",
       "2           1.0           has_fireplace\n",
       "3           1.0          has_dishwasher\n",
       "4           1.0            is_furnished\n",
       "5           1.0                 has_gym\n",
       "6           1.0             allows_pets\n",
       "7           1.0        has_washer_dryer\n",
       "8           1.0              has_garage\n",
       "9           1.0            has_roofdeck\n",
       "10          1.0           has_concierge\n",
       "11          1.0                has_pool\n",
       "12          1.0              has_garden\n",
       "13          1.0  has_childrens_playroom\n",
       "14          1.0                  no_fee"
      ]
     },
     "execution_count": 24,
     "metadata": {},
     "output_type": "execute_result"
    }
   ],
   "source": [
    "md_df[binary_features+['rent']].corr()['rent'][:-1]\n",
    "coor_results= []\n",
    "\n",
    "for feature in binary_features:\n",
    "  df = raw_df.groupby([feature]).aggregate(['mean'])['rent']\n",
    "  df[feature]= df.index\n",
    "  coor_results.append(df.corr().iloc[0][1])\n",
    "coor_df = pd.DataFrame({'Coorelation': coor_results,'Feature':binary_features})\n",
    "coor_df\n"
   ]
  },
  {
   "cell_type": "markdown",
   "metadata": {
    "colab_type": "text",
    "id": "2yKBFlfwz51C"
   },
   "source": [
    "As we can see in the correlation table, all binary features highly affected the rents. When we build the models, we should include all binary features."
   ]
  },
  {
   "cell_type": "markdown",
   "metadata": {
    "colab_type": "text",
    "id": "d7UQLvU9z51D"
   },
   "source": [
    "# Build Models\n",
    " - We will be using cross validation to evaluate the performances of all our modles,and then deciding which should be the most suitable one, thus we will first create a function called get_cv_results to obtain the cv_performance.\n",
    " - we will try 5 different basic categorical models:`multiple regression, decision tree, random froest, Gradient Boosting Regression and Neural Network`"
   ]
  },
  {
   "cell_type": "code",
   "execution_count": 25,
   "metadata": {
    "colab": {},
    "colab_type": "code",
    "id": "E2YtMzPrz51E"
   },
   "outputs": [],
   "source": [
    "md_df = shuffle(md_df).reset_index(drop=True)\n"
   ]
  },
  {
   "cell_type": "code",
   "execution_count": 26,
   "metadata": {
    "colab": {},
    "colab_type": "code",
    "id": "7YFRHMFYz51G"
   },
   "outputs": [],
   "source": [
    "features = list(md_df.columns)\n",
    "features.remove('rent')\n",
    "k_fold = KFold(n_splits=10)"
   ]
  },
  {
   "cell_type": "code",
   "execution_count": 27,
   "metadata": {
    "colab": {},
    "colab_type": "code",
    "id": "AknQGhA5z51I"
   },
   "outputs": [],
   "source": [
    "def get_cv_results(regressor):\n",
    "    \n",
    "    results = []\n",
    "    for train, test in k_fold.split(md_df):\n",
    "        regressor.fit(md_df.loc[train, features], md_df.loc[train, 'rent'])\n",
    "        y_predicted = regressor.predict(md_df.loc[test, features])\n",
    "        accuracy = mean_squared_error(md_df.loc[test, 'rent'], y_predicted)\n",
    "        results.append(accuracy)\n",
    "\n",
    "    return np.mean(results), np.std(results)"
   ]
  },
  {
   "cell_type": "markdown",
   "metadata": {
    "colab_type": "text",
    "id": "U6Eo0zUHz51K"
   },
   "source": [
    "### Radnom Forest Model"
   ]
  },
  {
   "cell_type": "code",
   "execution_count": 28,
   "metadata": {
    "colab": {},
    "colab_type": "code",
    "id": "9FtBQ3enz51L"
   },
   "outputs": [],
   "source": [
    "rforest = RandomForestRegressor(\n",
    "    random_state=11, \n",
    "    max_depth=10,\n",
    "    n_estimators=200\n",
    ")\n"
   ]
  },
  {
   "cell_type": "code",
   "execution_count": 29,
   "metadata": {
    "colab": {
     "base_uri": "https://localhost:8080/",
     "height": 34
    },
    "colab_type": "code",
    "id": "mSdqSbSez51N",
    "outputId": "1c0c0b9f-8026-4113-f1e1-65ccfea51fcb"
   },
   "outputs": [
    {
     "data": {
      "text/plain": [
       "(997822.6054296067, 259024.2628269966)"
      ]
     },
     "execution_count": 29,
     "metadata": {},
     "output_type": "execute_result"
    }
   ],
   "source": [
    "get_cv_results(rforest)"
   ]
  },
  {
   "cell_type": "markdown",
   "metadata": {},
   "source": [
    "Now let's see how each features affected this model by checking the feature_importances"
   ]
  },
  {
   "cell_type": "code",
   "execution_count": 30,
   "metadata": {
    "colab": {},
    "colab_type": "code",
    "id": "iOGKT8Ncz51Q",
    "outputId": "f586ad19-8d5a-40a6-9b7e-c8a0350c983c"
   },
   "outputs": [
    {
     "name": "stdout",
     "output_type": "stream",
     "text": [
      "size_sqft   0.539958444980177\n",
      "zip_average_income   0.20260201805226202\n",
      "bathrooms   0.1144097022329254\n",
      "addr_lon   0.02441381917777812\n",
      "addr_lat   0.01914598373665811\n",
      "year_built   0.016791381780547142\n",
      "bedrooms   0.013981125480974028\n",
      "floor_count   0.010891571388672276\n",
      "floornumber   0.010038850003272369\n",
      "min_to_subway   0.009381644170825354\n",
      "has_gym   0.0065898463520833415\n",
      "has_roofdeck   0.004611197932975298\n",
      "Manhattan   0.0032515433315222953\n",
      "has_dishwasher   0.0031502692340577305\n",
      "has_washer_dryer   0.003055691002229619\n",
      "has_garden   0.002610909140804595\n",
      "is_furnished   0.0025490752611148993\n",
      "no_fee   0.002358676929152452\n",
      "has_elevator   0.001997242511033752\n",
      "has_doorman   0.001813761090915241\n",
      "has_concierge   0.001705853857831417\n",
      "allows_pets   0.001133439298228784\n",
      "has_pool   0.0010997709051430412\n",
      "has_fireplace   0.0008904696145537978\n",
      "has_childrens_playroom   0.0007843912547209345\n",
      "has_garage   0.0004572486471271006\n",
      "Brooklyn   0.00030031598854222014\n",
      "Queens   1.8084127835907124e-05\n",
      "Bronx   6.894730178722851e-06\n",
      "Staten Island   7.777858567772405e-07\n"
     ]
    }
   ],
   "source": [
    "rforest.fit(md_df[features], md_df['rent'])  \n",
    "for feature,score in sorted(zip(features,rforest.feature_importances_), key=lambda x:x[1], reverse=True):\n",
    "    print(feature, ' ', score)"
   ]
  },
  {
   "cell_type": "markdown",
   "metadata": {
    "colab_type": "text",
    "id": "DoQlfyCZz51T"
   },
   "source": [
    "### Multiple Regression\n",
    " - Multiple regression is an extension of simple linear regression. It is used when we want to predict the value of a variable based on the value of two or more other variables\n",
    " - We will based on p value to choose significant variables(p<0.1)\n",
    " "
   ]
  },
  {
   "cell_type": "code",
   "execution_count": 31,
   "metadata": {
    "colab": {
     "base_uri": "https://localhost:8080/",
     "height": 1000
    },
    "colab_type": "code",
    "id": "zCx2KQlWz51U",
    "outputId": "8aa13d4f-350d-4573-f0cd-89bdcd11f8c2"
   },
   "outputs": [
    {
     "data": {
      "text/html": [
       "<table class=\"simpletable\">\n",
       "<caption>OLS Regression Results</caption>\n",
       "<tr>\n",
       "  <th>Dep. Variable:</th>          <td>rent</td>       <th>  R-squared:         </th>  <td>   0.710</td>  \n",
       "</tr>\n",
       "<tr>\n",
       "  <th>Model:</th>                   <td>OLS</td>       <th>  Adj. R-squared:    </th>  <td>   0.710</td>  \n",
       "</tr>\n",
       "<tr>\n",
       "  <th>Method:</th>             <td>Least Squares</td>  <th>  F-statistic:       </th>  <td>   1074.</td>  \n",
       "</tr>\n",
       "<tr>\n",
       "  <th>Date:</th>             <td>Sat, 23 Nov 2019</td> <th>  Prob (F-statistic):</th>   <td>  0.00</td>   \n",
       "</tr>\n",
       "<tr>\n",
       "  <th>Time:</th>                 <td>19:09:25</td>     <th>  Log-Likelihood:    </th> <td>-1.1086e+05</td>\n",
       "</tr>\n",
       "<tr>\n",
       "  <th>No. Observations:</th>      <td> 12736</td>      <th>  AIC:               </th>  <td>2.218e+05</td> \n",
       "</tr>\n",
       "<tr>\n",
       "  <th>Df Residuals:</th>          <td> 12706</td>      <th>  BIC:               </th>  <td>2.220e+05</td> \n",
       "</tr>\n",
       "<tr>\n",
       "  <th>Df Model:</th>              <td>    29</td>      <th>                     </th>      <td> </td>     \n",
       "</tr>\n",
       "<tr>\n",
       "  <th>Covariance Type:</th>      <td>nonrobust</td>    <th>                     </th>      <td> </td>     \n",
       "</tr>\n",
       "</table>\n",
       "<table class=\"simpletable\">\n",
       "<tr>\n",
       "             <td></td>               <th>coef</th>     <th>std err</th>      <th>t</th>      <th>P>|t|</th>  <th>[0.025</th>    <th>0.975]</th>  \n",
       "</tr>\n",
       "<tr>\n",
       "  <th>bedrooms</th>               <td>   63.8147</td> <td>   17.408</td> <td>    3.666</td> <td> 0.000</td> <td>   29.692</td> <td>   97.937</td>\n",
       "</tr>\n",
       "<tr>\n",
       "  <th>bathrooms</th>              <td> 1112.3176</td> <td>   34.524</td> <td>   32.218</td> <td> 0.000</td> <td> 1044.645</td> <td> 1179.991</td>\n",
       "</tr>\n",
       "<tr>\n",
       "  <th>size_sqft</th>              <td>    2.9810</td> <td>    0.043</td> <td>   69.380</td> <td> 0.000</td> <td>    2.897</td> <td>    3.065</td>\n",
       "</tr>\n",
       "<tr>\n",
       "  <th>addr_lat</th>               <td> 2196.0344</td> <td>  426.290</td> <td>    5.152</td> <td> 0.000</td> <td> 1360.442</td> <td> 3031.627</td>\n",
       "</tr>\n",
       "<tr>\n",
       "  <th>addr_lon</th>               <td>-6032.9217</td> <td>  504.851</td> <td>  -11.950</td> <td> 0.000</td> <td>-7022.506</td> <td>-5043.338</td>\n",
       "</tr>\n",
       "<tr>\n",
       "  <th>floor_count</th>            <td>  -12.6427</td> <td>    2.186</td> <td>   -5.782</td> <td> 0.000</td> <td>  -16.928</td> <td>   -8.357</td>\n",
       "</tr>\n",
       "<tr>\n",
       "  <th>year_built</th>             <td>    0.2344</td> <td>    0.460</td> <td>    0.509</td> <td> 0.610</td> <td>   -0.668</td> <td>    1.137</td>\n",
       "</tr>\n",
       "<tr>\n",
       "  <th>min_to_subway</th>          <td>  -20.2057</td> <td>    3.632</td> <td>   -5.563</td> <td> 0.000</td> <td>  -27.325</td> <td>  -13.087</td>\n",
       "</tr>\n",
       "<tr>\n",
       "  <th>has_doorman</th>            <td>  103.7330</td> <td>   48.889</td> <td>    2.122</td> <td> 0.034</td> <td>    7.902</td> <td>  199.564</td>\n",
       "</tr>\n",
       "<tr>\n",
       "  <th>has_elevator</th>           <td>  322.5841</td> <td>   39.433</td> <td>    8.181</td> <td> 0.000</td> <td>  245.290</td> <td>  399.878</td>\n",
       "</tr>\n",
       "<tr>\n",
       "  <th>has_fireplace</th>          <td>  424.3837</td> <td>   70.216</td> <td>    6.044</td> <td> 0.000</td> <td>  286.749</td> <td>  562.018</td>\n",
       "</tr>\n",
       "<tr>\n",
       "  <th>has_dishwasher</th>         <td> -166.3256</td> <td>   30.037</td> <td>   -5.537</td> <td> 0.000</td> <td> -225.203</td> <td> -107.448</td>\n",
       "</tr>\n",
       "<tr>\n",
       "  <th>is_furnished</th>           <td>  586.8978</td> <td>   75.253</td> <td>    7.799</td> <td> 0.000</td> <td>  439.390</td> <td>  734.405</td>\n",
       "</tr>\n",
       "<tr>\n",
       "  <th>has_gym</th>                <td>  324.7559</td> <td>   49.397</td> <td>    6.574</td> <td> 0.000</td> <td>  227.930</td> <td>  421.582</td>\n",
       "</tr>\n",
       "<tr>\n",
       "  <th>allows_pets</th>            <td>  160.0108</td> <td>   28.976</td> <td>    5.522</td> <td> 0.000</td> <td>  103.214</td> <td>  216.808</td>\n",
       "</tr>\n",
       "<tr>\n",
       "  <th>has_washer_dryer</th>       <td>  308.2674</td> <td>   33.740</td> <td>    9.136</td> <td> 0.000</td> <td>  242.131</td> <td>  374.404</td>\n",
       "</tr>\n",
       "<tr>\n",
       "  <th>has_garage</th>             <td>  -78.4405</td> <td>   40.590</td> <td>   -1.933</td> <td> 0.053</td> <td> -158.003</td> <td>    1.122</td>\n",
       "</tr>\n",
       "<tr>\n",
       "  <th>has_roofdeck</th>           <td>  162.7180</td> <td>   36.992</td> <td>    4.399</td> <td> 0.000</td> <td>   90.208</td> <td>  235.228</td>\n",
       "</tr>\n",
       "<tr>\n",
       "  <th>has_concierge</th>          <td>  210.5571</td> <td>   50.293</td> <td>    4.187</td> <td> 0.000</td> <td>  111.975</td> <td>  309.139</td>\n",
       "</tr>\n",
       "<tr>\n",
       "  <th>has_pool</th>               <td>  114.3555</td> <td>   59.365</td> <td>    1.926</td> <td> 0.054</td> <td>   -2.008</td> <td>  230.720</td>\n",
       "</tr>\n",
       "<tr>\n",
       "  <th>has_garden</th>             <td>  -28.3613</td> <td>   40.567</td> <td>   -0.699</td> <td> 0.484</td> <td> -107.879</td> <td>   51.157</td>\n",
       "</tr>\n",
       "<tr>\n",
       "  <th>has_childrens_playroom</th> <td>  130.1010</td> <td>   54.941</td> <td>    2.368</td> <td> 0.018</td> <td>   22.408</td> <td>  237.794</td>\n",
       "</tr>\n",
       "<tr>\n",
       "  <th>no_fee</th>                 <td> -134.5680</td> <td>   29.662</td> <td>   -4.537</td> <td> 0.000</td> <td> -192.711</td> <td>  -76.425</td>\n",
       "</tr>\n",
       "<tr>\n",
       "  <th>floornumber</th>            <td>   20.9394</td> <td>    2.731</td> <td>    7.668</td> <td> 0.000</td> <td>   15.587</td> <td>   26.292</td>\n",
       "</tr>\n",
       "<tr>\n",
       "  <th>zip_average_income</th>     <td>    0.0028</td> <td>    0.000</td> <td>   22.715</td> <td> 0.000</td> <td>    0.003</td> <td>    0.003</td>\n",
       "</tr>\n",
       "<tr>\n",
       "  <th>Brooklyn</th>               <td>-5.373e+05</td> <td> 4.63e+04</td> <td>  -11.604</td> <td> 0.000</td> <td>-6.28e+05</td> <td>-4.47e+05</td>\n",
       "</tr>\n",
       "<tr>\n",
       "  <th>Manhattan</th>              <td>-5.368e+05</td> <td> 4.63e+04</td> <td>  -11.586</td> <td> 0.000</td> <td>-6.28e+05</td> <td>-4.46e+05</td>\n",
       "</tr>\n",
       "<tr>\n",
       "  <th>Queens</th>                 <td>-5.372e+05</td> <td> 4.63e+04</td> <td>  -11.605</td> <td> 0.000</td> <td>-6.28e+05</td> <td>-4.46e+05</td>\n",
       "</tr>\n",
       "<tr>\n",
       "  <th>Bronx</th>                  <td> -5.38e+05</td> <td> 4.63e+04</td> <td>  -11.613</td> <td> 0.000</td> <td>-6.29e+05</td> <td>-4.47e+05</td>\n",
       "</tr>\n",
       "<tr>\n",
       "  <th>Staten Island</th>          <td>-5.392e+05</td> <td> 4.64e+04</td> <td>  -11.632</td> <td> 0.000</td> <td> -6.3e+05</td> <td>-4.48e+05</td>\n",
       "</tr>\n",
       "</table>\n",
       "<table class=\"simpletable\">\n",
       "<tr>\n",
       "  <th>Omnibus:</th>       <td>9409.722</td> <th>  Durbin-Watson:     </th>  <td>   2.025</td>  \n",
       "</tr>\n",
       "<tr>\n",
       "  <th>Prob(Omnibus):</th>  <td> 0.000</td>  <th>  Jarque-Bera (JB):  </th> <td>2730651.621</td>\n",
       "</tr>\n",
       "<tr>\n",
       "  <th>Skew:</th>           <td> 2.493</td>  <th>  Prob(JB):          </th>  <td>    0.00</td>  \n",
       "</tr>\n",
       "<tr>\n",
       "  <th>Kurtosis:</th>       <td>74.560</td>  <th>  Cond. No.          </th>  <td>1.90e+09</td>  \n",
       "</tr>\n",
       "</table><br/><br/>Warnings:<br/>[1] Standard Errors assume that the covariance matrix of the errors is correctly specified.<br/>[2] The condition number is large, 1.9e+09. This might indicate that there are<br/>strong multicollinearity or other numerical problems."
      ],
      "text/plain": [
       "<class 'statsmodels.iolib.summary.Summary'>\n",
       "\"\"\"\n",
       "                            OLS Regression Results                            \n",
       "==============================================================================\n",
       "Dep. Variable:                   rent   R-squared:                       0.710\n",
       "Model:                            OLS   Adj. R-squared:                  0.710\n",
       "Method:                 Least Squares   F-statistic:                     1074.\n",
       "Date:                Sat, 23 Nov 2019   Prob (F-statistic):               0.00\n",
       "Time:                        19:09:25   Log-Likelihood:            -1.1086e+05\n",
       "No. Observations:               12736   AIC:                         2.218e+05\n",
       "Df Residuals:                   12706   BIC:                         2.220e+05\n",
       "Df Model:                          29                                         \n",
       "Covariance Type:            nonrobust                                         \n",
       "==========================================================================================\n",
       "                             coef    std err          t      P>|t|      [0.025      0.975]\n",
       "------------------------------------------------------------------------------------------\n",
       "bedrooms                  63.8147     17.408      3.666      0.000      29.692      97.937\n",
       "bathrooms               1112.3176     34.524     32.218      0.000    1044.645    1179.991\n",
       "size_sqft                  2.9810      0.043     69.380      0.000       2.897       3.065\n",
       "addr_lat                2196.0344    426.290      5.152      0.000    1360.442    3031.627\n",
       "addr_lon               -6032.9217    504.851    -11.950      0.000   -7022.506   -5043.338\n",
       "floor_count              -12.6427      2.186     -5.782      0.000     -16.928      -8.357\n",
       "year_built                 0.2344      0.460      0.509      0.610      -0.668       1.137\n",
       "min_to_subway            -20.2057      3.632     -5.563      0.000     -27.325     -13.087\n",
       "has_doorman              103.7330     48.889      2.122      0.034       7.902     199.564\n",
       "has_elevator             322.5841     39.433      8.181      0.000     245.290     399.878\n",
       "has_fireplace            424.3837     70.216      6.044      0.000     286.749     562.018\n",
       "has_dishwasher          -166.3256     30.037     -5.537      0.000    -225.203    -107.448\n",
       "is_furnished             586.8978     75.253      7.799      0.000     439.390     734.405\n",
       "has_gym                  324.7559     49.397      6.574      0.000     227.930     421.582\n",
       "allows_pets              160.0108     28.976      5.522      0.000     103.214     216.808\n",
       "has_washer_dryer         308.2674     33.740      9.136      0.000     242.131     374.404\n",
       "has_garage               -78.4405     40.590     -1.933      0.053    -158.003       1.122\n",
       "has_roofdeck             162.7180     36.992      4.399      0.000      90.208     235.228\n",
       "has_concierge            210.5571     50.293      4.187      0.000     111.975     309.139\n",
       "has_pool                 114.3555     59.365      1.926      0.054      -2.008     230.720\n",
       "has_garden               -28.3613     40.567     -0.699      0.484    -107.879      51.157\n",
       "has_childrens_playroom   130.1010     54.941      2.368      0.018      22.408     237.794\n",
       "no_fee                  -134.5680     29.662     -4.537      0.000    -192.711     -76.425\n",
       "floornumber               20.9394      2.731      7.668      0.000      15.587      26.292\n",
       "zip_average_income         0.0028      0.000     22.715      0.000       0.003       0.003\n",
       "Brooklyn               -5.373e+05   4.63e+04    -11.604      0.000   -6.28e+05   -4.47e+05\n",
       "Manhattan              -5.368e+05   4.63e+04    -11.586      0.000   -6.28e+05   -4.46e+05\n",
       "Queens                 -5.372e+05   4.63e+04    -11.605      0.000   -6.28e+05   -4.46e+05\n",
       "Bronx                   -5.38e+05   4.63e+04    -11.613      0.000   -6.29e+05   -4.47e+05\n",
       "Staten Island          -5.392e+05   4.64e+04    -11.632      0.000    -6.3e+05   -4.48e+05\n",
       "==============================================================================\n",
       "Omnibus:                     9409.722   Durbin-Watson:                   2.025\n",
       "Prob(Omnibus):                  0.000   Jarque-Bera (JB):          2730651.621\n",
       "Skew:                           2.493   Prob(JB):                         0.00\n",
       "Kurtosis:                      74.560   Cond. No.                     1.90e+09\n",
       "==============================================================================\n",
       "\n",
       "Warnings:\n",
       "[1] Standard Errors assume that the covariance matrix of the errors is correctly specified.\n",
       "[2] The condition number is large, 1.9e+09. This might indicate that there are\n",
       "strong multicollinearity or other numerical problems.\n",
       "\"\"\""
      ]
     },
     "execution_count": 31,
     "metadata": {},
     "output_type": "execute_result"
    }
   ],
   "source": [
    "mul_reg_features = features[:]\n",
    "x = md_df[features] \n",
    "y = md_df['rent']\n",
    "est = sm.OLS(y, x).fit()\n",
    "est.summary()"
   ]
  },
  {
   "cell_type": "markdown",
   "metadata": {
    "colab_type": "text",
    "id": "K0JZnMWLz51X"
   },
   "source": [
    "- As we can see, variables has_garden and year_built have P value > 0.1\n",
    "- After we remove these two variables, all P values are < 0.1"
   ]
  },
  {
   "cell_type": "code",
   "execution_count": 32,
   "metadata": {
    "colab": {
     "base_uri": "https://localhost:8080/",
     "height": 1000
    },
    "colab_type": "code",
    "id": "qZQRPWFEz51X",
    "outputId": "f7da8447-aefe-44b5-c6ab-c0891405a842"
   },
   "outputs": [
    {
     "data": {
      "text/html": [
       "<table class=\"simpletable\">\n",
       "<caption>OLS Regression Results</caption>\n",
       "<tr>\n",
       "  <th>Dep. Variable:</th>          <td>rent</td>       <th>  R-squared:         </th>  <td>   0.710</td>  \n",
       "</tr>\n",
       "<tr>\n",
       "  <th>Model:</th>                   <td>OLS</td>       <th>  Adj. R-squared:    </th>  <td>   0.710</td>  \n",
       "</tr>\n",
       "<tr>\n",
       "  <th>Method:</th>             <td>Least Squares</td>  <th>  F-statistic:       </th>  <td>   1154.</td>  \n",
       "</tr>\n",
       "<tr>\n",
       "  <th>Date:</th>             <td>Sat, 23 Nov 2019</td> <th>  Prob (F-statistic):</th>   <td>  0.00</td>   \n",
       "</tr>\n",
       "<tr>\n",
       "  <th>Time:</th>                 <td>19:09:25</td>     <th>  Log-Likelihood:    </th> <td>-1.1086e+05</td>\n",
       "</tr>\n",
       "<tr>\n",
       "  <th>No. Observations:</th>      <td> 12736</td>      <th>  AIC:               </th>  <td>2.218e+05</td> \n",
       "</tr>\n",
       "<tr>\n",
       "  <th>Df Residuals:</th>          <td> 12708</td>      <th>  BIC:               </th>  <td>2.220e+05</td> \n",
       "</tr>\n",
       "<tr>\n",
       "  <th>Df Model:</th>              <td>    27</td>      <th>                     </th>      <td> </td>     \n",
       "</tr>\n",
       "<tr>\n",
       "  <th>Covariance Type:</th>      <td>nonrobust</td>    <th>                     </th>      <td> </td>     \n",
       "</tr>\n",
       "</table>\n",
       "<table class=\"simpletable\">\n",
       "<tr>\n",
       "             <td></td>               <th>coef</th>     <th>std err</th>      <th>t</th>      <th>P>|t|</th>  <th>[0.025</th>    <th>0.975]</th>  \n",
       "</tr>\n",
       "<tr>\n",
       "  <th>bedrooms</th>               <td>   64.1204</td> <td>   17.404</td> <td>    3.684</td> <td> 0.000</td> <td>   30.007</td> <td>   98.234</td>\n",
       "</tr>\n",
       "<tr>\n",
       "  <th>bathrooms</th>              <td> 1111.3543</td> <td>   34.426</td> <td>   32.283</td> <td> 0.000</td> <td> 1043.875</td> <td> 1178.834</td>\n",
       "</tr>\n",
       "<tr>\n",
       "  <th>size_sqft</th>              <td>    2.9800</td> <td>    0.043</td> <td>   69.931</td> <td> 0.000</td> <td>    2.897</td> <td>    3.064</td>\n",
       "</tr>\n",
       "<tr>\n",
       "  <th>addr_lat</th>               <td> 2182.4791</td> <td>  425.910</td> <td>    5.124</td> <td> 0.000</td> <td> 1347.632</td> <td> 3017.326</td>\n",
       "</tr>\n",
       "<tr>\n",
       "  <th>addr_lon</th>               <td>-6056.6978</td> <td>  503.186</td> <td>  -12.037</td> <td> 0.000</td> <td>-7043.018</td> <td>-5070.378</td>\n",
       "</tr>\n",
       "<tr>\n",
       "  <th>floor_count</th>            <td>  -12.7595</td> <td>    2.156</td> <td>   -5.919</td> <td> 0.000</td> <td>  -16.985</td> <td>   -8.534</td>\n",
       "</tr>\n",
       "<tr>\n",
       "  <th>min_to_subway</th>          <td>  -20.5429</td> <td>    3.610</td> <td>   -5.690</td> <td> 0.000</td> <td>  -27.620</td> <td>  -13.466</td>\n",
       "</tr>\n",
       "<tr>\n",
       "  <th>has_doorman</th>            <td>  102.2649</td> <td>   48.849</td> <td>    2.093</td> <td> 0.036</td> <td>    6.514</td> <td>  198.016</td>\n",
       "</tr>\n",
       "<tr>\n",
       "  <th>has_elevator</th>           <td>  319.7233</td> <td>   38.826</td> <td>    8.235</td> <td> 0.000</td> <td>  243.619</td> <td>  395.827</td>\n",
       "</tr>\n",
       "<tr>\n",
       "  <th>has_fireplace</th>          <td>  424.6998</td> <td>   70.064</td> <td>    6.062</td> <td> 0.000</td> <td>  287.364</td> <td>  562.036</td>\n",
       "</tr>\n",
       "<tr>\n",
       "  <th>has_dishwasher</th>         <td> -167.0658</td> <td>   30.015</td> <td>   -5.566</td> <td> 0.000</td> <td> -225.899</td> <td> -108.233</td>\n",
       "</tr>\n",
       "<tr>\n",
       "  <th>is_furnished</th>           <td>  587.4342</td> <td>   75.155</td> <td>    7.816</td> <td> 0.000</td> <td>  440.120</td> <td>  734.749</td>\n",
       "</tr>\n",
       "<tr>\n",
       "  <th>has_gym</th>                <td>  321.3230</td> <td>   49.016</td> <td>    6.555</td> <td> 0.000</td> <td>  225.245</td> <td>  417.401</td>\n",
       "</tr>\n",
       "<tr>\n",
       "  <th>allows_pets</th>            <td>  159.0269</td> <td>   28.917</td> <td>    5.499</td> <td> 0.000</td> <td>  102.346</td> <td>  215.708</td>\n",
       "</tr>\n",
       "<tr>\n",
       "  <th>has_washer_dryer</th>       <td>  305.7910</td> <td>   33.495</td> <td>    9.129</td> <td> 0.000</td> <td>  240.135</td> <td>  371.447</td>\n",
       "</tr>\n",
       "<tr>\n",
       "  <th>has_garage</th>             <td>  -82.6552</td> <td>   40.261</td> <td>   -2.053</td> <td> 0.040</td> <td> -161.573</td> <td>   -3.737</td>\n",
       "</tr>\n",
       "<tr>\n",
       "  <th>has_roofdeck</th>           <td>  158.7178</td> <td>   36.556</td> <td>    4.342</td> <td> 0.000</td> <td>   87.062</td> <td>  230.373</td>\n",
       "</tr>\n",
       "<tr>\n",
       "  <th>has_concierge</th>          <td>  207.1657</td> <td>   50.139</td> <td>    4.132</td> <td> 0.000</td> <td>  108.886</td> <td>  305.446</td>\n",
       "</tr>\n",
       "<tr>\n",
       "  <th>has_pool</th>               <td>  115.0468</td> <td>   59.356</td> <td>    1.938</td> <td> 0.053</td> <td>   -1.300</td> <td>  231.393</td>\n",
       "</tr>\n",
       "<tr>\n",
       "  <th>has_childrens_playroom</th> <td>  124.0116</td> <td>   54.139</td> <td>    2.291</td> <td> 0.022</td> <td>   17.890</td> <td>  230.133</td>\n",
       "</tr>\n",
       "<tr>\n",
       "  <th>no_fee</th>                 <td> -134.4391</td> <td>   29.659</td> <td>   -4.533</td> <td> 0.000</td> <td> -192.576</td> <td>  -76.303</td>\n",
       "</tr>\n",
       "<tr>\n",
       "  <th>floornumber</th>            <td>   20.9729</td> <td>    2.730</td> <td>    7.684</td> <td> 0.000</td> <td>   15.623</td> <td>   26.323</td>\n",
       "</tr>\n",
       "<tr>\n",
       "  <th>zip_average_income</th>     <td>    0.0028</td> <td>    0.000</td> <td>   22.718</td> <td> 0.000</td> <td>    0.003</td> <td>    0.003</td>\n",
       "</tr>\n",
       "<tr>\n",
       "  <th>Brooklyn</th>               <td>-5.385e+05</td> <td> 4.62e+04</td> <td>  -11.653</td> <td> 0.000</td> <td>-6.29e+05</td> <td>-4.48e+05</td>\n",
       "</tr>\n",
       "<tr>\n",
       "  <th>Manhattan</th>              <td>-5.379e+05</td> <td> 4.62e+04</td> <td>  -11.635</td> <td> 0.000</td> <td>-6.29e+05</td> <td>-4.47e+05</td>\n",
       "</tr>\n",
       "<tr>\n",
       "  <th>Queens</th>                 <td>-5.384e+05</td> <td> 4.62e+04</td> <td>  -11.654</td> <td> 0.000</td> <td>-6.29e+05</td> <td>-4.48e+05</td>\n",
       "</tr>\n",
       "<tr>\n",
       "  <th>Bronx</th>                  <td>-5.392e+05</td> <td> 4.62e+04</td> <td>  -11.661</td> <td> 0.000</td> <td> -6.3e+05</td> <td>-4.49e+05</td>\n",
       "</tr>\n",
       "<tr>\n",
       "  <th>Staten Island</th>          <td>-5.404e+05</td> <td> 4.63e+04</td> <td>  -11.681</td> <td> 0.000</td> <td>-6.31e+05</td> <td> -4.5e+05</td>\n",
       "</tr>\n",
       "</table>\n",
       "<table class=\"simpletable\">\n",
       "<tr>\n",
       "  <th>Omnibus:</th>       <td>9404.946</td> <th>  Durbin-Watson:     </th>  <td>   2.026</td>  \n",
       "</tr>\n",
       "<tr>\n",
       "  <th>Prob(Omnibus):</th>  <td> 0.000</td>  <th>  Jarque-Bera (JB):  </th> <td>2729250.280</td>\n",
       "</tr>\n",
       "<tr>\n",
       "  <th>Skew:</th>           <td> 2.491</td>  <th>  Prob(JB):          </th>  <td>    0.00</td>  \n",
       "</tr>\n",
       "<tr>\n",
       "  <th>Kurtosis:</th>       <td>74.542</td>  <th>  Cond. No.          </th>  <td>1.90e+09</td>  \n",
       "</tr>\n",
       "</table><br/><br/>Warnings:<br/>[1] Standard Errors assume that the covariance matrix of the errors is correctly specified.<br/>[2] The condition number is large, 1.9e+09. This might indicate that there are<br/>strong multicollinearity or other numerical problems."
      ],
      "text/plain": [
       "<class 'statsmodels.iolib.summary.Summary'>\n",
       "\"\"\"\n",
       "                            OLS Regression Results                            \n",
       "==============================================================================\n",
       "Dep. Variable:                   rent   R-squared:                       0.710\n",
       "Model:                            OLS   Adj. R-squared:                  0.710\n",
       "Method:                 Least Squares   F-statistic:                     1154.\n",
       "Date:                Sat, 23 Nov 2019   Prob (F-statistic):               0.00\n",
       "Time:                        19:09:25   Log-Likelihood:            -1.1086e+05\n",
       "No. Observations:               12736   AIC:                         2.218e+05\n",
       "Df Residuals:                   12708   BIC:                         2.220e+05\n",
       "Df Model:                          27                                         \n",
       "Covariance Type:            nonrobust                                         \n",
       "==========================================================================================\n",
       "                             coef    std err          t      P>|t|      [0.025      0.975]\n",
       "------------------------------------------------------------------------------------------\n",
       "bedrooms                  64.1204     17.404      3.684      0.000      30.007      98.234\n",
       "bathrooms               1111.3543     34.426     32.283      0.000    1043.875    1178.834\n",
       "size_sqft                  2.9800      0.043     69.931      0.000       2.897       3.064\n",
       "addr_lat                2182.4791    425.910      5.124      0.000    1347.632    3017.326\n",
       "addr_lon               -6056.6978    503.186    -12.037      0.000   -7043.018   -5070.378\n",
       "floor_count              -12.7595      2.156     -5.919      0.000     -16.985      -8.534\n",
       "min_to_subway            -20.5429      3.610     -5.690      0.000     -27.620     -13.466\n",
       "has_doorman              102.2649     48.849      2.093      0.036       6.514     198.016\n",
       "has_elevator             319.7233     38.826      8.235      0.000     243.619     395.827\n",
       "has_fireplace            424.6998     70.064      6.062      0.000     287.364     562.036\n",
       "has_dishwasher          -167.0658     30.015     -5.566      0.000    -225.899    -108.233\n",
       "is_furnished             587.4342     75.155      7.816      0.000     440.120     734.749\n",
       "has_gym                  321.3230     49.016      6.555      0.000     225.245     417.401\n",
       "allows_pets              159.0269     28.917      5.499      0.000     102.346     215.708\n",
       "has_washer_dryer         305.7910     33.495      9.129      0.000     240.135     371.447\n",
       "has_garage               -82.6552     40.261     -2.053      0.040    -161.573      -3.737\n",
       "has_roofdeck             158.7178     36.556      4.342      0.000      87.062     230.373\n",
       "has_concierge            207.1657     50.139      4.132      0.000     108.886     305.446\n",
       "has_pool                 115.0468     59.356      1.938      0.053      -1.300     231.393\n",
       "has_childrens_playroom   124.0116     54.139      2.291      0.022      17.890     230.133\n",
       "no_fee                  -134.4391     29.659     -4.533      0.000    -192.576     -76.303\n",
       "floornumber               20.9729      2.730      7.684      0.000      15.623      26.323\n",
       "zip_average_income         0.0028      0.000     22.718      0.000       0.003       0.003\n",
       "Brooklyn               -5.385e+05   4.62e+04    -11.653      0.000   -6.29e+05   -4.48e+05\n",
       "Manhattan              -5.379e+05   4.62e+04    -11.635      0.000   -6.29e+05   -4.47e+05\n",
       "Queens                 -5.384e+05   4.62e+04    -11.654      0.000   -6.29e+05   -4.48e+05\n",
       "Bronx                  -5.392e+05   4.62e+04    -11.661      0.000    -6.3e+05   -4.49e+05\n",
       "Staten Island          -5.404e+05   4.63e+04    -11.681      0.000   -6.31e+05    -4.5e+05\n",
       "==============================================================================\n",
       "Omnibus:                     9404.946   Durbin-Watson:                   2.026\n",
       "Prob(Omnibus):                  0.000   Jarque-Bera (JB):          2729250.280\n",
       "Skew:                           2.491   Prob(JB):                         0.00\n",
       "Kurtosis:                      74.542   Cond. No.                     1.90e+09\n",
       "==============================================================================\n",
       "\n",
       "Warnings:\n",
       "[1] Standard Errors assume that the covariance matrix of the errors is correctly specified.\n",
       "[2] The condition number is large, 1.9e+09. This might indicate that there are\n",
       "strong multicollinearity or other numerical problems.\n",
       "\"\"\""
      ]
     },
     "execution_count": 32,
     "metadata": {},
     "output_type": "execute_result"
    }
   ],
   "source": [
    "mul_reg_features.remove('has_garden')\n",
    "mul_reg_features.remove('year_built')\n",
    "x = md_df[mul_reg_features] \n",
    "y = md_df['rent']\n",
    "est = sm.OLS(y, x).fit()\n",
    "est.summary()"
   ]
  },
  {
   "cell_type": "code",
   "execution_count": 33,
   "metadata": {
    "colab": {
     "base_uri": "https://localhost:8080/",
     "height": 34
    },
    "colab_type": "code",
    "id": "nSPV3iW0z51Z",
    "outputId": "67f4e27f-aca1-4c39-985b-0c991f5b5551"
   },
   "outputs": [
    {
     "data": {
      "text/plain": [
       "(2185375.4933580006, 315839.10394625436)"
      ]
     },
     "execution_count": 33,
     "metadata": {},
     "output_type": "execute_result"
    }
   ],
   "source": [
    "mul_reg = LinearRegression().fit(md_df[mul_reg_features], md_df['rent'])\n",
    "get_cv_results(mul_reg)"
   ]
  },
  {
   "cell_type": "markdown",
   "metadata": {
    "colab_type": "text",
    "id": "566BNiS_z51c"
   },
   "source": [
    "## Gradient Boosting Regression\n",
    "For the gradient boosting regressor we will first set up the hyperparameter max_depth=5 to avoid overfitting, will adjust more hyperparameter as we move on to improve the model\n"
   ]
  },
  {
   "cell_type": "code",
   "execution_count": 34,
   "metadata": {
    "colab": {
     "base_uri": "https://localhost:8080/",
     "height": 34
    },
    "colab_type": "code",
    "id": "DJGUq1egz51d",
    "outputId": "75609edb-bd16-4d6d-af15-7c9199b33bc7"
   },
   "outputs": [
    {
     "data": {
      "text/plain": [
       "(882302.9508301311, 242334.27515445784)"
      ]
     },
     "execution_count": 34,
     "metadata": {},
     "output_type": "execute_result"
    }
   ],
   "source": [
    "gbrdemo = GradientBoostingRegressor(\n",
    "    max_depth=5,\n",
    "    n_estimators=100\n",
    ")\n",
    "\n",
    "get_cv_results(gbrdemo)"
   ]
  },
  {
   "cell_type": "code",
   "execution_count": 35,
   "metadata": {},
   "outputs": [],
   "source": [
    "gbrdemo = GradientBoostingRegressor(\n",
    "    max_depth=5,\n",
    "    n_estimators=100\n",
    ")"
   ]
  },
  {
   "cell_type": "markdown",
   "metadata": {
    "colab_type": "text",
    "id": "oQX1f6I5z51f"
   },
   "source": [
    "### Tuning Hyperparameters\n",
    "Now let's use GridSearchCV form sci-kit learn model_selection to tune the hyperparameters, and find the most suitable one for our Gradient Boosting Regression model.The choices of hyperparameters are obtained from the toturial code, and since this function took a long time to process, we are considering reduce the amount of hyperpraramters for testing.\n",
    "\n",
    "cited link: link: https://shankarmsy.github.io/stories/gbrt-sklearn.html"
   ]
  },
  {
   "cell_type": "code",
   "execution_count": 36,
   "metadata": {
    "colab": {},
    "colab_type": "code",
    "id": "zAGQpu5Jz51f"
   },
   "outputs": [],
   "source": [
    "# Tuning the hyperparameters based on a cross-validation subset (cv)\n",
    "# cited link: link: https://shankarmsy.github.io/stories/gbrt-sklearn.html\n",
    "\n",
    "def GradientBooster():\n",
    "    \n",
    "    param_grid={'n_estimators':[100],\n",
    "            'learning_rate': [0.1, 0.05, 0.01],\n",
    "            'max_depth':[4, 5, 6],\n",
    "            'min_samples_leaf':[3, 5, 9],\n",
    "           }\n",
    "    \n",
    "    # choose cross validation generator and use ShuffleSplit which randomly shuffles and selects Train and CV sets\n",
    "    cv = ShuffleSplit(n_splits=5, test_size=.25, random_state=0)\n",
    "    \n",
    "    classifier = GridSearchCV(estimator = GradientBoostingRegressor(), param_grid=param_grid, n_jobs=4, cv=cv)\n",
    "    \n",
    "    classifier.fit(md_df[features], md_df['rent'])  \n",
    "    return classifier.best_params_"
   ]
  },
  {
   "cell_type": "code",
   "execution_count": 37,
   "metadata": {
    "colab": {},
    "colab_type": "code",
    "id": "O3lO3Axnz51j",
    "outputId": "f7f11dee-9691-4427-fe9b-9ef3abbbd7a1"
   },
   "outputs": [
    {
     "name": "stdout",
     "output_type": "stream",
     "text": [
      "Since this function takes too long to run, it will waste a lot of time during development,      \n",
      "so we will just record the result for further usage:\n",
      "\n",
      "Best Estimator Parameters:\n",
      "n_estimators:  100\n",
      "max_depth:  6\n",
      "Learning Rate:  0.1\n",
      "min_samples_leaf:  3\n"
     ]
    }
   ],
   "source": [
    "# Since this function takes too long to run, it will waste a lot of time during development,\n",
    "# so we will just record the result for further usage. -----Runmin 11/18/19\n",
    "\"\"\"\n",
    "best_est=GradientBooster()\n",
    "\n",
    "print(\"Best Estimator Parameters:\")\n",
    "print(\"n_estimators: \",best_est['n_estimators'])\n",
    "print(\"max_depth: \", best_est['max_depth'])\n",
    "print(\"Learning Rate: \", best_est['learning_rate'])\n",
    "print(\"min_samples_leaf: \", best_est['min_samples_leaf'])\n",
    "\"\"\"\n",
    "print(\"Since this function takes too long to run, it will waste a lot of time during development,\\\n",
    "      \\nso we will just record the result for further usage:\")\n",
    "print(\"\\nBest Estimator Parameters:\")\n",
    "print(\"n_estimators: \",100)\n",
    "print(\"max_depth: \", 6)\n",
    "print(\"Learning Rate: \", 0.1)\n",
    "print(\"min_samples_leaf: \", 3)"
   ]
  },
  {
   "cell_type": "markdown",
   "metadata": {
    "colab_type": "text",
    "id": "j5kkgBUpz51l"
   },
   "source": [
    "As we can see from the result above, we have found the suitable hyperparameters for our model, thus we can use them to check if a better result will be obtained.\n"
   ]
  },
  {
   "cell_type": "code",
   "execution_count": 38,
   "metadata": {
    "colab": {
     "base_uri": "https://localhost:8080/",
     "height": 34
    },
    "colab_type": "code",
    "id": "owPU2gYbz51m",
    "outputId": "b63d44ac-cb51-4606-c374-57f286188bfb"
   },
   "outputs": [
    {
     "data": {
      "text/plain": [
       "(893127.5846097954, 279512.3632175007)"
      ]
     },
     "execution_count": 38,
     "metadata": {},
     "output_type": "execute_result"
    }
   ],
   "source": [
    "bettergbr1 = GradientBoostingRegressor(\n",
    "    n_estimators=100,\n",
    "    max_depth=6,\n",
    "    learning_rate=0.1,\n",
    "    min_samples_leaf=3\n",
    ")\n",
    "\n",
    "get_cv_results(bettergbr1)"
   ]
  },
  {
   "cell_type": "markdown",
   "metadata": {
    "colab_type": "text",
    "id": "BOW7I6JPz51o"
   },
   "source": [
    "The mean squared error becomes unstable after applying the new set of hyperparameters, we've tried few test runs upon it, sometime the result get improved a lot but sometime it even makes the result worse, thus we might still be using the previous GradientBoosting regressor \"gbrdemo\" for a more stable prediction."
   ]
  },
  {
   "cell_type": "markdown",
   "metadata": {},
   "source": [
    "**Feature importances for Gradient Boosting Regression**"
   ]
  },
  {
   "cell_type": "code",
   "execution_count": 39,
   "metadata": {},
   "outputs": [
    {
     "name": "stdout",
     "output_type": "stream",
     "text": [
      "size_sqft   0.5453750908362093\n",
      "zip_average_income   0.18863129256342415\n",
      "bathrooms   0.10658181279372748\n",
      "addr_lon   0.02724324556231082\n",
      "addr_lat   0.025371527134050966\n",
      "year_built   0.014547504012714128\n",
      "bedrooms   0.0121850861280055\n",
      "floor_count   0.011504878046867744\n",
      "min_to_subway   0.009921734567971576\n",
      "Manhattan   0.009372032446168353\n",
      "has_gym   0.008153807641911282\n",
      "floornumber   0.00793095420439045\n",
      "has_washer_dryer   0.006632482443026832\n",
      "is_furnished   0.004074712029223609\n",
      "has_dishwasher   0.0036506277361775838\n",
      "has_concierge   0.0034278243079318184\n",
      "has_roofdeck   0.003377236859184394\n",
      "has_elevator   0.003308931273187288\n",
      "no_fee   0.0028459470862496265\n",
      "has_doorman   0.002772076292066185\n",
      "has_garden   0.001999999367939174\n",
      "has_pool   0.0004298031439235794\n",
      "has_fireplace   0.00022995081148602563\n",
      "allows_pets   0.0002098128158500604\n",
      "has_childrens_playroom   0.0001405870275213311\n",
      "has_garage   5.7381856892745574e-05\n",
      "Brooklyn   2.2867592412290542e-05\n",
      "Bronx   7.934191756895881e-07\n",
      "Queens   0.0\n",
      "Staten Island   0.0\n"
     ]
    }
   ],
   "source": [
    "gbrdemo.fit(md_df[features], md_df['rent'])  \n",
    "for feature,score in sorted(zip(features,gbrdemo.feature_importances_), key=lambda x:x[1], reverse=True):\n",
    "    print(feature, ' ', score)"
   ]
  },
  {
   "cell_type": "markdown",
   "metadata": {
    "colab_type": "text",
    "id": "9z858Helz51o"
   },
   "source": [
    "##  Regression Tree Model\n",
    "From definition, decision trees where the target variable can take continuous values (typically real numbers) are called regression trees.\n",
    "Thus, in our case when we do the regression tree model, we actually use the decision tree classifer."
   ]
  },
  {
   "cell_type": "markdown",
   "metadata": {
    "colab_type": "text",
    "id": "u97chZ8pz51p"
   },
   "source": [
    "Train the regression tree model using default paramater"
   ]
  },
  {
   "cell_type": "code",
   "execution_count": 40,
   "metadata": {
    "colab": {
     "base_uri": "https://localhost:8080/",
     "height": 102
    },
    "colab_type": "code",
    "id": "IM3MAJnPz51p",
    "outputId": "f7c790cb-8e92-4a78-f099-c4e459f5863b"
   },
   "outputs": [
    {
     "data": {
      "text/plain": [
       "DecisionTreeRegressor(criterion='mse', max_depth=None, max_features=None,\n",
       "           max_leaf_nodes=None, min_impurity_decrease=0.0,\n",
       "           min_impurity_split=None, min_samples_leaf=1,\n",
       "           min_samples_split=2, min_weight_fraction_leaf=0.0,\n",
       "           presort=False, random_state=1, splitter='best')"
      ]
     },
     "execution_count": 40,
     "metadata": {},
     "output_type": "execute_result"
    }
   ],
   "source": [
    "regtreemo = DecisionTreeRegressor(\n",
    "    random_state=1, \n",
    "    max_depth=None,\n",
    "    min_samples_leaf=1,\n",
    "    max_features=None,\n",
    "    max_leaf_nodes=None )\n",
    "\n",
    "regtreemo.fit(md_df[features], md_df['rent'])"
   ]
  },
  {
   "cell_type": "code",
   "execution_count": 41,
   "metadata": {
    "colab": {
     "base_uri": "https://localhost:8080/",
     "height": 34
    },
    "colab_type": "code",
    "id": "65xtmTbNz51s",
    "outputId": "fe6aa1d8-ee9d-4e3f-e4a9-52fe5ab70725"
   },
   "outputs": [
    {
     "data": {
      "text/plain": [
       "(1578833.1984134845, 349385.9127910857)"
      ]
     },
     "execution_count": 41,
     "metadata": {},
     "output_type": "execute_result"
    }
   ],
   "source": [
    "get_cv_results(regtreemo)"
   ]
  },
  {
   "cell_type": "markdown",
   "metadata": {
    "colab_type": "text",
    "id": "DJM4nC5Zz51w"
   },
   "source": [
    "Train the regression tree model using Hyperparameters that we found, so that we can compare the results among different models better."
   ]
  },
  {
   "cell_type": "code",
   "execution_count": 42,
   "metadata": {
    "colab": {
     "base_uri": "https://localhost:8080/",
     "height": 102
    },
    "colab_type": "code",
    "id": "Fc3ALfdCz51x",
    "outputId": "5bdc1809-f233-4d7c-a90a-fd9697fca25b"
   },
   "outputs": [
    {
     "data": {
      "text/plain": [
       "DecisionTreeRegressor(criterion='mse', max_depth=6, max_features=None,\n",
       "           max_leaf_nodes=None, min_impurity_decrease=0.0,\n",
       "           min_impurity_split=None, min_samples_leaf=3,\n",
       "           min_samples_split=2, min_weight_fraction_leaf=0.0,\n",
       "           presort=False, random_state=1, splitter='best')"
      ]
     },
     "execution_count": 42,
     "metadata": {},
     "output_type": "execute_result"
    }
   ],
   "source": [
    "newregtreemo = DecisionTreeRegressor(\n",
    "    random_state=1, \n",
    "    max_depth=6,\n",
    "    min_samples_leaf=3 )\n",
    "\n",
    "newregtreemo.fit(md_df[features], md_df['rent'])"
   ]
  },
  {
   "cell_type": "code",
   "execution_count": 43,
   "metadata": {
    "colab": {
     "base_uri": "https://localhost:8080/",
     "height": 34
    },
    "colab_type": "code",
    "id": "TVhscdXIz510",
    "outputId": "d970e422-8400-4ffc-f683-27815805e712"
   },
   "outputs": [
    {
     "data": {
      "text/plain": [
       "(1491831.2221322171, 378854.71588405204)"
      ]
     },
     "execution_count": 43,
     "metadata": {},
     "output_type": "execute_result"
    }
   ],
   "source": [
    "get_cv_results(newregtreemo)"
   ]
  },
  {
   "cell_type": "markdown",
   "metadata": {
    "colab_type": "text",
    "id": "fv9pZ8ipz513"
   },
   "source": [
    "As we can see, the regression tree model that uses the Hyperparameters does have better result.\n",
    "But Gradient Boosting Regression still has the best result."
   ]
  },
  {
   "cell_type": "code",
   "execution_count": 44,
   "metadata": {
    "colab": {},
    "colab_type": "code",
    "id": "NjrKKuhBz514",
    "outputId": "23433b47-9e54-4144-df4f-42e20ef12cac"
   },
   "outputs": [
    {
     "name": "stdout",
     "output_type": "stream",
     "text": [
      "bedrooms   0.01015144892348123\n",
      "bathrooms   0.12163259749898335\n",
      "size_sqft   0.5925616272619766\n",
      "addr_lat   0.012337315134799532\n",
      "addr_lon   0.013048583717419725\n",
      "floor_count   0.006406594363765624\n",
      "year_built   0.002143571452539367\n",
      "min_to_subway   0.0\n",
      "has_doorman   0.0\n",
      "has_elevator   0.0\n",
      "has_fireplace   0.0\n",
      "has_dishwasher   0.0\n",
      "is_furnished   0.0\n",
      "has_gym   0.006821810516694377\n",
      "allows_pets   0.0\n",
      "has_washer_dryer   0.0018009277699177861\n",
      "has_garage   0.0\n",
      "has_roofdeck   0.003992108522141377\n",
      "has_concierge   0.0\n",
      "has_pool   0.0\n",
      "has_garden   0.0\n",
      "has_childrens_playroom   0.0\n",
      "no_fee   0.0046697755772186255\n",
      "floornumber   0.0019061111911346854\n",
      "zip_average_income   0.22252752806992773\n",
      "Brooklyn   0.0\n",
      "Manhattan   0.0\n",
      "Queens   0.0\n",
      "Bronx   0.0\n",
      "Staten Island   0.0\n"
     ]
    }
   ],
   "source": [
    "for feature,score in zip(features,newregtreemo.feature_importances_):\n",
    "    print(feature, ' ', score)"
   ]
  },
  {
   "cell_type": "markdown",
   "metadata": {
    "colab_type": "text",
    "id": "laDG73kzz516"
   },
   "source": [
    "### Learning Curve\n",
    "We can use the Learning Curves methods provided in lecture 8"
   ]
  },
  {
   "cell_type": "code",
   "execution_count": 45,
   "metadata": {
    "colab": {},
    "colab_type": "code",
    "id": "fRc0BHUGz517",
    "outputId": "ca9c6315-6f45-48a2-ddf9-91e2030e6955"
   },
   "outputs": [
    {
     "name": "stdout",
     "output_type": "stream",
     "text": [
      "1 7045482.192214834 978558.004712446\n",
      "3 3727753.1344260266 775002.715525379\n",
      "5 2405117.68054818 466582.2281971821\n",
      "7 2495001.420354766 508945.37836855993\n",
      "9 2756709.1903429027 692707.5243486493\n",
      "11 2975775.4725499167 820352.8764461866\n",
      "13 2798241.76656984 962519.3792611983\n",
      "15 2828934.8766628723 913030.3919192478\n",
      "17 2836062.434151025 858029.4286949688\n",
      "19 2944602.5961676585 847335.3189209689\n",
      "21 3001899.8129560202 849963.1138853247\n",
      "23 2989917.085788832 868201.3648677422\n",
      "25 2851423.85749475 592511.6858859386\n",
      "27 2815354.0623487327 602159.6991872798\n",
      "29 2780590.4482360976 668944.9831884177\n",
      "31 2636760.0674075503 599215.6984357667\n",
      "33 2723980.013066453 620821.0612169633\n",
      "35 2597713.802091871 536570.6692704804\n",
      "37 2621786.352952518 473913.51543625037\n",
      "39 2594161.8565734285 518475.48521956085\n",
      "41 2740119.6633277675 667245.1381646681\n",
      "43 2518589.1405672827 570369.4316358143\n",
      "45 2823946.9305510167 1080789.0514700427\n",
      "47 3068215.4975936026 1198223.8828157438\n",
      "49 2782600.35187119 682155.7872850436\n"
     ]
    }
   ],
   "source": [
    "hp_values = range(1,50,2)\n",
    "all_mu = []\n",
    "all_sigma = []\n",
    "\n",
    "for m in hp_values:\n",
    "\n",
    "    dtree=DecisionTreeClassifier(\n",
    "        criterion='entropy', \n",
    "        random_state=1, \n",
    "        max_depth=m,\n",
    "        min_samples_leaf=m,\n",
    "    )\n",
    "\n",
    "    mu, sigma = get_cv_results(dtree)\n",
    "    all_mu.append(mu)\n",
    "    all_sigma.append(sigma)\n",
    "    \n",
    "    print(m, mu, sigma)"
   ]
  },
  {
   "cell_type": "code",
   "execution_count": 46,
   "metadata": {
    "colab": {},
    "colab_type": "code",
    "id": "SjwVqEAMz519",
    "outputId": "2474de1f-3ad0-465f-ed70-ce7fcdd4de8d"
   },
   "outputs": [
    {
     "data": {
      "text/plain": [
       "Text(0.5, 0, 'Max Depth')"
      ]
     },
     "execution_count": 46,
     "metadata": {},
     "output_type": "execute_result"
    },
    {
     "data": {
      "image/png": "[encoded data removed]",
      "text/plain": [
       "<Figure size 1008x360 with 1 Axes>"
      ]
     },
     "metadata": {
      "needs_background": "light"
     },
     "output_type": "display_data"
    }
   ],
   "source": [
    "plt.figure(figsize=(14, 5))\n",
    "plt.plot(hp_values, all_mu)\n",
    "plt.ylabel('Cross Validation Accuracy')\n",
    "plt.xlabel('Max Depth')"
   ]
  },
  {
   "cell_type": "code",
   "execution_count": 47,
   "metadata": {
    "colab": {},
    "colab_type": "code",
    "id": "LCdgYSNqz51-",
    "outputId": "79185800-8a0c-402e-b9e2-dcb185087fb3"
   },
   "outputs": [
    {
     "data": {
      "text/plain": [
       "Text(0.5, 0, 'Max Depth')"
      ]
     },
     "execution_count": 47,
     "metadata": {},
     "output_type": "execute_result"
    },
    {
     "data": {
      "image/png": "[encoded data removed]",
      "text/plain": [
       "<Figure size 1008x360 with 1 Axes>"
      ]
     },
     "metadata": {
      "needs_background": "light"
     },
     "output_type": "display_data"
    }
   ],
   "source": [
    "plt.figure(figsize=(14, 5))\n",
    "plt.plot(hp_values, all_sigma)\n",
    "plt.ylabel('Cross Validation Std Dev.')\n",
    "plt.xlabel('Max Depth')"
   ]
  },
  {
   "cell_type": "markdown",
   "metadata": {
    "colab_type": "text",
    "id": "rrr5UbB8z52B"
   },
   "source": [
    "### Neural Network\n",
    "Neural networks are a set of algorithms, modeled loosely after the human brain, that are designed to recognize patterns. They interpret sensory data through a kind of machine perception, labeling or clustering raw input.(source:https://skymind.ai/wiki/neural-network)"
   ]
  },
  {
   "cell_type": "code",
   "execution_count": 48,
   "metadata": {
    "colab": {},
    "colab_type": "code",
    "id": "U8xBcG-Sz52B"
   },
   "outputs": [
    {
     "name": "stderr",
     "output_type": "stream",
     "text": [
      "D:\\Anaconda\\lib\\site-packages\\sklearn\\preprocessing\\data.py:645: DataConversionWarning: Data with input dtype int32, int64, float64 were all converted to float64 by StandardScaler.\n",
      "  return self.partial_fit(X, y)\n",
      "D:\\Anaconda\\lib\\site-packages\\sklearn\\base.py:464: DataConversionWarning: Data with input dtype int32, int64, float64 were all converted to float64 by StandardScaler.\n",
      "  return self.fit(X, **fit_params).transform(X)\n"
     ]
    }
   ],
   "source": [
    "scaler = StandardScaler()\n",
    "X = scaler.fit_transform(md_df[features])\n",
    "Y = md_df['rent'].values.reshape(-1,1)\n",
    "\n",
    "train_x, test_x, train_y, test_y = train_test_split(X, Y, test_size=0.2, random_state=42)"
   ]
  },
  {
   "cell_type": "code",
   "execution_count": 49,
   "metadata": {
    "colab": {},
    "colab_type": "code",
    "id": "ztLWpbWHz52D"
   },
   "outputs": [],
   "source": [
    "net = models.Sequential()\n",
    "net.add(layers.Dense(64, input_dim=train_x.shape[1], kernel_regularizer=regularizers.l1(0.1), activation='relu'))\n",
    "net.add(layers.Dropout(0.1))\n",
    "\n",
    "net.add(layers.Dense(64, kernel_regularizer=regularizers.l1(0.1), activation='relu'))\n",
    "net.add(layers.Dropout(0.1))\n",
    "\n",
    "net.add(layers.Dense(128, kernel_regularizer=regularizers.l1(0.1), activation='relu'))\n",
    "net.add(layers.Dropout(0.1))\n",
    "\n",
    "net.add(layers.Dense(256, kernel_regularizer=regularizers.l1(0.1), activation='relu'))\n",
    "net.add(layers.Dropout(0.1))\n",
    "\n",
    "net.add(layers.Dense(1, activation='linear'))\n",
    "\n",
    "net.compile(loss='mean_squared_error',\n",
    "            optimizer='adam',\n",
    "            metrics=['mean_squared_error'])"
   ]
  },
  {
   "cell_type": "code",
   "execution_count": 50,
   "metadata": {
    "colab": {
     "base_uri": "https://localhost:8080/",
     "height": 1000
    },
    "colab_type": "code",
    "id": "Jmei-Vcaz52E",
    "outputId": "2f9619df-7f4a-46e4-b581-ae2f887add94"
   },
   "outputs": [
    {
     "name": "stdout",
     "output_type": "stream",
     "text": [
      "Train on 9169 samples, validate on 1019 samples\n",
      "Epoch 1/70\n",
      "9169/9169 [==============================] - 1s 61us/step - loss: 10508830.0757 - mean_squared_error: 10508439.0000 - val_loss: 2281658.8835 - val_mean_squared_error: 2281243.5000\n",
      "Epoch 2/70\n",
      "9169/9169 [==============================] - 0s 39us/step - loss: 2352265.7864 - mean_squared_error: 2351852.2500 - val_loss: 1948870.8584 - val_mean_squared_error: 1948463.2500\n",
      "Epoch 3/70\n",
      "9169/9169 [==============================] - 0s 38us/step - loss: 2113394.4738 - mean_squared_error: 2112987.0000 - val_loss: 1823495.5129 - val_mean_squared_error: 1823093.3750\n",
      "Epoch 4/70\n",
      "9169/9169 [==============================] - 0s 38us/step - loss: 1945943.9353 - mean_squared_error: 1945542.1250 - val_loss: 1748354.0963 - val_mean_squared_error: 1747955.5000\n",
      "Epoch 5/70\n",
      "9169/9169 [==============================] - 0s 40us/step - loss: 1926042.1551 - mean_squared_error: 1925645.7500 - val_loss: 1684019.6861 - val_mean_squared_error: 1683626.5000\n",
      "Epoch 6/70\n",
      "9169/9169 [==============================] - 0s 38us/step - loss: 1775493.5431 - mean_squared_error: 1775100.8750 - val_loss: 1641722.9438 - val_mean_squared_error: 1641333.3750\n",
      "Epoch 7/70\n",
      "9169/9169 [==============================] - 0s 39us/step - loss: 1815082.0326 - mean_squared_error: 1814692.0000 - val_loss: 1629206.0294 - val_mean_squared_error: 1628817.6250\n",
      "Epoch 8/70\n",
      "9169/9169 [==============================] - 0s 39us/step - loss: 1789064.5072 - mean_squared_error: 1788677.7500 - val_loss: 1559199.5339 - val_mean_squared_error: 1558813.6250\n",
      "Epoch 9/70\n",
      "9169/9169 [==============================] - 0s 38us/step - loss: 1745344.4393 - mean_squared_error: 1744959.2500 - val_loss: 1559077.2389 - val_mean_squared_error: 1558691.6250\n",
      "Epoch 10/70\n",
      "9169/9169 [==============================] - 0s 37us/step - loss: 1675635.6355 - mean_squared_error: 1675251.8750 - val_loss: 1595265.3097 - val_mean_squared_error: 1594878.1250\n",
      "Epoch 11/70\n",
      "9169/9169 [==============================] - 0s 39us/step - loss: 1726894.0637 - mean_squared_error: 1726511.2500 - val_loss: 1495503.1047 - val_mean_squared_error: 1495121.3750\n",
      "Epoch 12/70\n",
      "9169/9169 [==============================] - 0s 37us/step - loss: 1682500.3932 - mean_squared_error: 1682117.5000 - val_loss: 1500784.1299 - val_mean_squared_error: 1500404.1250\n",
      "Epoch 13/70\n",
      "9169/9169 [==============================] - 0s 38us/step - loss: 1631278.4187 - mean_squared_error: 1630897.2500 - val_loss: 1521626.5191 - val_mean_squared_error: 1521243.0000\n",
      "Epoch 14/70\n",
      "9169/9169 [==============================] - 0s 41us/step - loss: 1666610.2856 - mean_squared_error: 1666228.6250 - val_loss: 1469621.8485 - val_mean_squared_error: 1469240.8750\n",
      "Epoch 15/70\n",
      "9169/9169 [==============================] - 0s 40us/step - loss: 1603847.6311 - mean_squared_error: 1603464.8750 - val_loss: 1448554.6475 - val_mean_squared_error: 1448169.3750\n",
      "Epoch 16/70\n",
      "9169/9169 [==============================] - 0s 40us/step - loss: 1627054.1945 - mean_squared_error: 1626669.1250 - val_loss: 1429193.3663 - val_mean_squared_error: 1428809.2500\n",
      "Epoch 17/70\n",
      "9169/9169 [==============================] - 0s 40us/step - loss: 1579086.0370 - mean_squared_error: 1578701.3750 - val_loss: 1430818.7059 - val_mean_squared_error: 1430430.8750\n",
      "Epoch 18/70\n",
      "9169/9169 [==============================] - 0s 38us/step - loss: 1548570.7240 - mean_squared_error: 1548180.7500 - val_loss: 1585018.3740 - val_mean_squared_error: 1584623.7500\n",
      "Epoch 19/70\n",
      "9169/9169 [==============================] - 0s 39us/step - loss: 1524548.6887 - mean_squared_error: 1524155.6250 - val_loss: 1459191.1314 - val_mean_squared_error: 1458800.1250\n",
      "Epoch 20/70\n",
      "9169/9169 [==============================] - 0s 38us/step - loss: 1521642.1568 - mean_squared_error: 1521247.5000 - val_loss: 1392084.1319 - val_mean_squared_error: 1391688.7500\n",
      "Epoch 21/70\n",
      "9169/9169 [==============================] - 0s 39us/step - loss: 1499412.3967 - mean_squared_error: 1499014.3750 - val_loss: 1403166.1798 - val_mean_squared_error: 1402767.0000\n",
      "Epoch 22/70\n",
      "9169/9169 [==============================] - 0s 38us/step - loss: 1510788.9295 - mean_squared_error: 1510389.0000 - val_loss: 1409584.7996 - val_mean_squared_error: 1409186.5000\n",
      "Epoch 23/70\n",
      "9169/9169 [==============================] - 0s 40us/step - loss: 1441880.4896 - mean_squared_error: 1441480.2500 - val_loss: 1389113.6681 - val_mean_squared_error: 1388708.6250\n",
      "Epoch 24/70\n",
      "9169/9169 [==============================] - 0s 40us/step - loss: 1432683.1945 - mean_squared_error: 1432278.0000 - val_loss: 1350987.8957 - val_mean_squared_error: 1350580.3750\n",
      "Epoch 25/70\n",
      "9169/9169 [==============================] - 0s 38us/step - loss: 1384608.3696 - mean_squared_error: 1384199.5000 - val_loss: 1372705.2913 - val_mean_squared_error: 1372293.3750\n",
      "Epoch 26/70\n",
      "9169/9169 [==============================] - 0s 37us/step - loss: 1345090.1452 - mean_squared_error: 1344677.7500 - val_loss: 1366738.1826 - val_mean_squared_error: 1366324.8750\n",
      "Epoch 27/70\n",
      "9169/9169 [==============================] - 0s 39us/step - loss: 1355422.6944 - mean_squared_error: 1355007.2500 - val_loss: 1371584.9800 - val_mean_squared_error: 1371168.6250\n",
      "Epoch 28/70\n",
      "9169/9169 [==============================] - 0s 42us/step - loss: 1403905.0998 - mean_squared_error: 1403485.5000 - val_loss: 1402777.4885 - val_mean_squared_error: 1402358.2500\n",
      "Epoch 29/70\n",
      "9169/9169 [==============================] - 0s 39us/step - loss: 1301515.1479 - mean_squared_error: 1301093.0000 - val_loss: 1303916.8319 - val_mean_squared_error: 1303494.1250\n",
      "Epoch 30/70\n",
      "9169/9169 [==============================] - 0s 39us/step - loss: 1308512.1453 - mean_squared_error: 1308088.3750 - val_loss: 1644988.1471 - val_mean_squared_error: 1644559.3750\n",
      "Epoch 31/70\n",
      "9169/9169 [==============================] - 0s 38us/step - loss: 1298601.1194 - mean_squared_error: 1298175.1250 - val_loss: 1452707.1110 - val_mean_squared_error: 1452277.2500\n",
      "Epoch 32/70\n",
      "9169/9169 [==============================] - 0s 38us/step - loss: 1356489.7658 - mean_squared_error: 1356060.3750 - val_loss: 1261400.7520 - val_mean_squared_error: 1260969.0000\n",
      "Epoch 33/70\n",
      "9169/9169 [==============================] - 0s 39us/step - loss: 1279928.4692 - mean_squared_error: 1279495.2500 - val_loss: 1280369.2710 - val_mean_squared_error: 1279935.1250\n",
      "Epoch 34/70\n",
      "9169/9169 [==============================] - 0s 38us/step - loss: 1252286.9190 - mean_squared_error: 1251850.5000 - val_loss: 1276252.6508 - val_mean_squared_error: 1275815.7500\n",
      "Epoch 35/70\n",
      "9169/9169 [==============================] - 0s 37us/step - loss: 1163889.0101 - mean_squared_error: 1163449.0000 - val_loss: 1280022.5572 - val_mean_squared_error: 1279580.3750\n",
      "Epoch 36/70\n",
      "9169/9169 [==============================] - 0s 39us/step - loss: 1166656.5799 - mean_squared_error: 1166212.2500 - val_loss: 1311961.9187 - val_mean_squared_error: 1311515.0000\n",
      "Epoch 37/70\n",
      "9169/9169 [==============================] - 0s 37us/step - loss: 1183196.9813 - mean_squared_error: 1182748.8750 - val_loss: 1286715.1146 - val_mean_squared_error: 1286268.8750\n",
      "Epoch 38/70\n",
      "9169/9169 [==============================] - 0s 37us/step - loss: 1212209.5191 - mean_squared_error: 1211761.8750 - val_loss: 1288690.3652 - val_mean_squared_error: 1288241.0000\n",
      "Epoch 39/70\n",
      "9169/9169 [==============================] - 0s 39us/step - loss: 1189334.4485 - mean_squared_error: 1188884.5000 - val_loss: 1395641.0672 - val_mean_squared_error: 1395185.2500\n",
      "Epoch 40/70\n",
      "9169/9169 [==============================] - 0s 39us/step - loss: 1229998.9044 - mean_squared_error: 1229545.7500 - val_loss: 1291994.1692 - val_mean_squared_error: 1291543.2500\n",
      "Epoch 41/70\n",
      "9169/9169 [==============================] - 0s 37us/step - loss: 1122620.2907 - mean_squared_error: 1122166.2500 - val_loss: 1311745.7517 - val_mean_squared_error: 1311289.0000\n",
      "Epoch 42/70\n",
      "9169/9169 [==============================] - 0s 38us/step - loss: 1154163.1173 - mean_squared_error: 1153706.6250 - val_loss: 1284033.4561 - val_mean_squared_error: 1283576.6250\n",
      "Epoch 43/70\n",
      "9169/9169 [==============================] - 0s 39us/step - loss: 1131522.0808 - mean_squared_error: 1131064.0000 - val_loss: 1297147.6169 - val_mean_squared_error: 1296689.3750\n"
     ]
    },
    {
     "name": "stdout",
     "output_type": "stream",
     "text": [
      "Epoch 44/70\n",
      "9169/9169 [==============================] - 0s 37us/step - loss: 1088096.6519 - mean_squared_error: 1087636.6250 - val_loss: 1409367.0018 - val_mean_squared_error: 1408902.1250\n",
      "Epoch 45/70\n",
      "9169/9169 [==============================] - 0s 37us/step - loss: 1057716.0316 - mean_squared_error: 1057254.1250 - val_loss: 1354881.4829 - val_mean_squared_error: 1354420.6250\n",
      "Epoch 46/70\n",
      "9169/9169 [==============================] - 0s 39us/step - loss: 1043031.7297 - mean_squared_error: 1042566.9375 - val_loss: 1284273.4688 - val_mean_squared_error: 1283806.6250\n",
      "Epoch 47/70\n",
      "9169/9169 [==============================] - 0s 38us/step - loss: 1070337.8550 - mean_squared_error: 1069871.5000 - val_loss: 1337521.5278 - val_mean_squared_error: 1337051.2500\n",
      "Epoch 48/70\n",
      "9169/9169 [==============================] - 0s 37us/step - loss: 1078224.3865 - mean_squared_error: 1077754.2500 - val_loss: 1299083.0976 - val_mean_squared_error: 1298613.1250\n",
      "Epoch 49/70\n",
      "9169/9169 [==============================] - 0s 40us/step - loss: 1046256.2134 - mean_squared_error: 1045785.8750 - val_loss: 1319541.0172 - val_mean_squared_error: 1319070.8750\n",
      "Epoch 50/70\n",
      "9169/9169 [==============================] - 0s 37us/step - loss: 1067185.4143 - mean_squared_error: 1066713.2500 - val_loss: 1281559.0559 - val_mean_squared_error: 1281085.5000\n",
      "Epoch 51/70\n",
      "9169/9169 [==============================] - 0s 38us/step - loss: 1009222.5895 - mean_squared_error: 1008747.1250 - val_loss: 1301511.7736 - val_mean_squared_error: 1301035.2500\n",
      "Epoch 52/70\n",
      "9169/9169 [==============================] - 0s 40us/step - loss: 1096951.8238 - mean_squared_error: 1096474.5000 - val_loss: 1280243.7642 - val_mean_squared_error: 1279766.6250\n",
      "Epoch 53/70\n",
      "9169/9169 [==============================] - 0s 37us/step - loss: 1034214.7901 - mean_squared_error: 1033735.8750 - val_loss: 1361576.6356 - val_mean_squared_error: 1361095.5000\n",
      "Epoch 54/70\n",
      "9169/9169 [==============================] - 0s 37us/step - loss: 1081496.7823 - mean_squared_error: 1081015.3750 - val_loss: 1312078.4122 - val_mean_squared_error: 1311597.1250\n",
      "Epoch 55/70\n",
      "9169/9169 [==============================] - 0s 39us/step - loss: 1015679.5956 - mean_squared_error: 1015196.8750 - val_loss: 1338877.3198 - val_mean_squared_error: 1338397.0000\n",
      "Epoch 56/70\n",
      "9169/9169 [==============================] - 0s 37us/step - loss: 1006466.7774 - mean_squared_error: 1005982.0000 - val_loss: 1261768.8031 - val_mean_squared_error: 1261282.2500\n",
      "Epoch 57/70\n",
      "9169/9169 [==============================] - 0s 38us/step - loss: 993686.2272 - mean_squared_error: 993197.3750 - val_loss: 1268123.0264 - val_mean_squared_error: 1267632.2500\n",
      "Epoch 58/70\n",
      "9169/9169 [==============================] - 0s 39us/step - loss: 1000690.0801 - mean_squared_error: 1000198.9375 - val_loss: 1358890.1985 - val_mean_squared_error: 1358400.5000\n",
      "Epoch 59/70\n",
      "9169/9169 [==============================] - 0s 37us/step - loss: 950934.9275 - mean_squared_error: 950442.7500 - val_loss: 1334585.7924 - val_mean_squared_error: 1334090.8750\n",
      "Epoch 60/70\n",
      "9169/9169 [==============================] - 0s 37us/step - loss: 982883.2093 - mean_squared_error: 982386.5625 - val_loss: 1388930.2456 - val_mean_squared_error: 1388434.7500\n",
      "Epoch 61/70\n",
      "9169/9169 [==============================] - 0s 39us/step - loss: 937481.8274 - mean_squared_error: 936984.3750 - val_loss: 1306805.9311 - val_mean_squared_error: 1306305.5000\n",
      "Epoch 62/70\n",
      "9169/9169 [==============================] - 0s 38us/step - loss: 1040559.1210 - mean_squared_error: 1040059.2500 - val_loss: 1305748.0993 - val_mean_squared_error: 1305248.5000\n",
      "Epoch 63/70\n",
      "9169/9169 [==============================] - 0s 37us/step - loss: 959130.6723 - mean_squared_error: 958628.5000 - val_loss: 1304053.7109 - val_mean_squared_error: 1303551.5000\n",
      "Epoch 64/70\n",
      "9169/9169 [==============================] - 0s 38us/step - loss: 946486.0605 - mean_squared_error: 945980.1250 - val_loss: 1252692.4127 - val_mean_squared_error: 1252182.6250\n",
      "Epoch 65/70\n",
      "9169/9169 [==============================] - 0s 38us/step - loss: 956961.7466 - mean_squared_error: 956455.4375 - val_loss: 1376615.8367 - val_mean_squared_error: 1376106.2500\n",
      "Epoch 66/70\n",
      "9169/9169 [==============================] - 0s 38us/step - loss: 998185.8790 - mean_squared_error: 997677.3125 - val_loss: 1309964.3867 - val_mean_squared_error: 1309455.8750\n",
      "Epoch 67/70\n",
      "9169/9169 [==============================] - 0s 38us/step - loss: 923597.5288 - mean_squared_error: 923085.5000 - val_loss: 1360555.3850 - val_mean_squared_error: 1360042.1250\n",
      "Epoch 68/70\n",
      "9169/9169 [==============================] - 0s 39us/step - loss: 888413.7523 - mean_squared_error: 887899.9375 - val_loss: 1312708.9047 - val_mean_squared_error: 1312194.5000\n",
      "Epoch 69/70\n",
      "9169/9169 [==============================] - 0s 38us/step - loss: 941154.7533 - mean_squared_error: 940639.8750 - val_loss: 1530627.4333 - val_mean_squared_error: 1530116.5000\n",
      "Epoch 70/70\n",
      "9169/9169 [==============================] - 0s 38us/step - loss: 965855.9830 - mean_squared_error: 965343.8750 - val_loss: 1258307.6424 - val_mean_squared_error: 1257793.2500\n"
     ]
    },
    {
     "data": {
      "text/plain": [
       "<keras.callbacks.callbacks.History at 0x18e0839b888>"
      ]
     },
     "execution_count": 50,
     "metadata": {},
     "output_type": "execute_result"
    }
   ],
   "source": [
    "net.fit(train_x, train_y, epochs=70, batch_size=64, validation_split = 0.1)"
   ]
  },
  {
   "cell_type": "code",
   "execution_count": 51,
   "metadata": {
    "colab": {
     "base_uri": "https://localhost:8080/",
     "height": 34
    },
    "colab_type": "code",
    "id": "jkKi2IVoz52G",
    "outputId": "a58e9e9a-cd9d-44d1-9607-16d43937c355"
   },
   "outputs": [
    {
     "data": {
      "text/plain": [
       "827503.6100231645"
      ]
     },
     "execution_count": 51,
     "metadata": {},
     "output_type": "execute_result"
    }
   ],
   "source": [
    "mean_squared_error(test_y, net.predict(test_x))"
   ]
  },
  {
   "cell_type": "markdown",
   "metadata": {
    "colab_type": "text",
    "id": "yy3GBRAdz52K"
   },
   "source": [
    "**Although the DL Neural Network seems to provide a better result on mean squared errors but it is really unstable** \n",
    "\n",
    "we have ran few test run on it, and each time it gives different results range from 853411.6171418771 to around 1,300,000.\n",
    "Therefore, we might still choose Gradient Boosting Regression as the most suitable model, since it provides a overall better result."
   ]
  },
  {
   "cell_type": "markdown",
   "metadata": {
    "colab_type": "text",
    "id": "HTEApwmu4s8_"
   },
   "source": [
    "# Model summary"
   ]
  },
  {
   "cell_type": "code",
   "execution_count": 52,
   "metadata": {
    "colab": {
     "base_uri": "https://localhost:8080/",
     "height": 102
    },
    "colab_type": "code",
    "id": "1LIjA5NBz52L",
    "outputId": "af6d48cb-8a7a-4c2b-fe7d-7ebec95c62c0"
   },
   "outputs": [
    {
     "name": "stdout",
     "output_type": "stream",
     "text": [
      "Random Forest Regression:  (997822.6054296067, 259024.2628269966)\n",
      "Gradient Boosting Regression:  (885245.202125923, 240471.75394101162)\n",
      "Multiple Regression:  (2185375.4933580006, 315839.10394625436)\n",
      "Decision Tree Regression:  (1491831.2221322171, 378854.71588405204)\n",
      "Neural Network Regression:  827503.6100231645\n"
     ]
    }
   ],
   "source": [
    "print('Random Forest Regression: ', get_cv_results(rforest))\n",
    "print('Gradient Boosting Regression: ', get_cv_results(gbrdemo))\n",
    "print('Multiple Regression: ', get_cv_results(mul_reg))\n",
    "print('Decision Tree Regression: ', get_cv_results(newregtreemo))\n",
    "print('Neural Network Regression: ', mean_squared_error(test_y, net.predict(test_x)))\n"
   ]
  },
  {
   "cell_type": "markdown",
   "metadata": {
    "colab_type": "text",
    "id": "BhxefAnV7QEB"
   },
   "source": [
    "### after explored 5 different regression models, we decided to use gradient boosting regression model to predict test2"
   ]
  },
  {
   "cell_type": "code",
   "execution_count": 53,
   "metadata": {
    "colab": {},
    "colab_type": "code",
    "id": "uWbnzxXI7O8M"
   },
   "outputs": [],
   "source": [
    "output = pd.DataFrame(np.array(raw_test2_df.index), columns=['rental_id'])"
   ]
  },
  {
   "cell_type": "code",
   "execution_count": 54,
   "metadata": {
    "colab": {},
    "colab_type": "code",
    "id": "FBuye75t7sH8"
   },
   "outputs": [],
   "source": [
    "output['predictions'] = gbrdemo.predict(raw_test2_df[features])"
   ]
  },
  {
   "cell_type": "code",
   "execution_count": 55,
   "metadata": {
    "colab": {
     "base_uri": "https://localhost:8080/",
     "height": 359
    },
    "colab_type": "code",
    "id": "zBZcLRq59Ghu",
    "outputId": "5642e4c1-042d-4753-dd5a-255dcd9e24b9"
   },
   "outputs": [
    {
     "data": {
      "text/html": [
       "<div>\n",
       "<style scoped>\n",
       "    .dataframe tbody tr th:only-of-type {\n",
       "        vertical-align: middle;\n",
       "    }\n",
       "\n",
       "    .dataframe tbody tr th {\n",
       "        vertical-align: top;\n",
       "    }\n",
       "\n",
       "    .dataframe thead th {\n",
       "        text-align: right;\n",
       "    }\n",
       "</style>\n",
       "<table border=\"1\" class=\"dataframe\">\n",
       "  <thead>\n",
       "    <tr style=\"text-align: right;\">\n",
       "      <th></th>\n",
       "      <th>rental_id</th>\n",
       "      <th>predictions</th>\n",
       "    </tr>\n",
       "  </thead>\n",
       "  <tbody>\n",
       "    <tr>\n",
       "      <th>0</th>\n",
       "      <td>7428577</td>\n",
       "      <td>2079.134243</td>\n",
       "    </tr>\n",
       "    <tr>\n",
       "      <th>1</th>\n",
       "      <td>7454944</td>\n",
       "      <td>2206.605628</td>\n",
       "    </tr>\n",
       "    <tr>\n",
       "      <th>2</th>\n",
       "      <td>7473595</td>\n",
       "      <td>2764.773135</td>\n",
       "    </tr>\n",
       "    <tr>\n",
       "      <th>3</th>\n",
       "      <td>7490488</td>\n",
       "      <td>2658.165943</td>\n",
       "    </tr>\n",
       "    <tr>\n",
       "      <th>4</th>\n",
       "      <td>7460896</td>\n",
       "      <td>3185.057954</td>\n",
       "    </tr>\n",
       "    <tr>\n",
       "      <th>5</th>\n",
       "      <td>7479988</td>\n",
       "      <td>2649.058322</td>\n",
       "    </tr>\n",
       "    <tr>\n",
       "      <th>6</th>\n",
       "      <td>7496308</td>\n",
       "      <td>3556.490056</td>\n",
       "    </tr>\n",
       "    <tr>\n",
       "      <th>7</th>\n",
       "      <td>7468621</td>\n",
       "      <td>2692.005892</td>\n",
       "    </tr>\n",
       "    <tr>\n",
       "      <th>8</th>\n",
       "      <td>7430797</td>\n",
       "      <td>3268.486215</td>\n",
       "    </tr>\n",
       "    <tr>\n",
       "      <th>9</th>\n",
       "      <td>7440397</td>\n",
       "      <td>5194.721433</td>\n",
       "    </tr>\n",
       "  </tbody>\n",
       "</table>\n",
       "</div>"
      ],
      "text/plain": [
       "   rental_id  predictions\n",
       "0    7428577  2079.134243\n",
       "1    7454944  2206.605628\n",
       "2    7473595  2764.773135\n",
       "3    7490488  2658.165943\n",
       "4    7460896  3185.057954\n",
       "5    7479988  2649.058322\n",
       "6    7496308  3556.490056\n",
       "7    7468621  2692.005892\n",
       "8    7430797  3268.486215\n",
       "9    7440397  5194.721433"
      ]
     },
     "execution_count": 55,
     "metadata": {},
     "output_type": "execute_result"
    }
   ],
   "source": [
    "output.head(10)"
   ]
  },
  {
   "cell_type": "code",
   "execution_count": 56,
   "metadata": {
    "colab": {},
    "colab_type": "code",
    "id": "JuXhGtQU_Pv9"
   },
   "outputs": [],
   "source": [
    "output.to_csv('test2_prediction.csv')"
   ]
  },
  {
   "cell_type": "code",
   "execution_count": null,
   "metadata": {
    "colab": {},
    "colab_type": "code",
    "id": "GLjmAMmqAS0m"
   },
   "outputs": [],
   "source": []
  }
 ],
 "metadata": {
  "anaconda-cloud": {},
  "colab": {
   "collapsed_sections": [],
   "name": "main.ipynb",
   "provenance": []
  },
  "kernelspec": {
   "display_name": "Python 3",
   "language": "python",
   "name": "python3"
  },
  "language_info": {
   "codemirror_mode": {
    "name": "ipython",
    "version": 3
   },
   "file_extension": ".py",
   "mimetype": "text/x-python",
   "name": "python",
   "nbconvert_exporter": "python",
   "pygments_lexer": "ipython3",
   "version": "3.7.4"
  }
 },
 "nbformat": 4,
 "nbformat_minor": 1
}

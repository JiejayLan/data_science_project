{
 "cells": [
  {
   "cell_type": "code",
   "execution_count": 1,
   "metadata": {
    "colab": {
     "base_uri": "https://localhost:8080/",
     "height": 97
    },
    "colab_type": "code",
    "id": "uTU8yGiPz5zN",
    "outputId": "af82e867-d7da-43c4-c456-410548e3a95d"
   },
   "outputs": [
    {
     "name": "stderr",
     "output_type": "stream",
     "text": [
      "Using TensorFlow backend.\n"
     ]
    }
   ],
   "source": [
    "import numpy as np\n",
    "import pandas as pd\n",
    "import matplotlib.pyplot as plt\n",
    "import seaborn as sns\n",
    "import statsmodels.api as sm\n",
    "import csv\n",
    "import warnings\n",
    "from sklearn.linear_model import LinearRegression\n",
    "from sklearn.ensemble import RandomForestRegressor, GradientBoostingRegressor\n",
    "from sklearn.tree import DecisionTreeClassifier \n",
    "from sklearn.tree import DecisionTreeRegressor\n",
    "from sklearn import preprocessing\n",
    "from sklearn.model_selection import KFold\n",
    "from sklearn.utils import shuffle\n",
    "from sklearn.metrics import mean_squared_error\n",
    "from sklearn.preprocessing import StandardScaler\n",
    "from sklearn.linear_model import LinearRegression\n",
    "import statsmodels.api as sm\n",
    "from keras import models, layers, optimizers, regularizers\n",
    "from sklearn.model_selection import train_test_split, ShuffleSplit, GridSearchCV\n",
    "from keras import regularizers\n",
    "%matplotlib inline"
   ]
  },
  {
   "cell_type": "markdown",
   "metadata": {
    "colab_type": "text",
    "id": "giyuV4myz5za"
   },
   "source": [
    "### Import datasets\n",
    "- We will import train, test1 and test2 dataset\n",
    "- Merge test1 and train dataset, in order to expend our train dataset"
   ]
  },
  {
   "cell_type": "code",
   "execution_count": 2,
   "metadata": {
    "colab": {
     "base_uri": "https://localhost:8080/",
     "height": 170
    },
    "colab_type": "code",
    "id": "O3bd5Le9C1yG",
    "outputId": "3bc5d07f-3fd3-443a-9bf0-09aa1725210f",
    "scrolled": true
   },
   "outputs": [
    {
     "data": {
      "text/plain": [
       "Index(['addr_unit', 'building_id', 'bedrooms', 'bathrooms', 'size_sqft',\n",
       "       'created_at', 'addr_street', 'addr_city', 'addr_zip', 'addr_lat',\n",
       "       'addr_lon', 'bin', 'bbl', 'floor_count', 'year_built', 'min_to_subway',\n",
       "       'has_doorman', 'has_elevator', 'has_fireplace', 'has_dishwasher',\n",
       "       'is_furnished', 'has_gym', 'allows_pets', 'has_washer_dryer',\n",
       "       'has_garage', 'has_roofdeck', 'has_concierge', 'has_pool', 'has_garden',\n",
       "       'has_childrens_playroom', 'rent', 'no_fee', 'description',\n",
       "       'neighborhood', 'borough', 'unit', 'floornumber', 'line'],\n",
       "      dtype='object')"
      ]
     },
     "execution_count": 2,
     "metadata": {},
     "output_type": "execute_result"
    }
   ],
   "source": [
    "raw_df = pd.read_csv('https://grantmlong.com/data/SE_rents2018_train.csv', index_col=0)\n",
    "raw_test_df = pd.read_csv('https://grantmlong.com/data/SE_rents2018_test1.csv', index_col=0)\n",
    "raw_test2_df = pd.read_csv('https://grantmlong.com/data/SE_rents2018_test2.csv', index_col=0)\n",
    "raw_df.head(20)\n",
    "raw_df.columns"
   ]
  },
  {
   "cell_type": "markdown",
   "metadata": {
    "colab_type": "text",
    "id": "xxSoiIKJC1yO"
   },
   "source": [
    "## Data Explore"
   ]
  },
  {
   "cell_type": "code",
   "execution_count": 3,
   "metadata": {
    "colab": {
     "base_uri": "https://localhost:8080/",
     "height": 304
    },
    "colab_type": "code",
    "id": "ql26Ay-HC1yI",
    "outputId": "33defc34-c066-4fc0-fd2b-f3d6438b6968"
   },
   "outputs": [
    {
     "data": {
      "text/html": [
       "<div>\n",
       "<style scoped>\n",
       "    .dataframe tbody tr th:only-of-type {\n",
       "        vertical-align: middle;\n",
       "    }\n",
       "\n",
       "    .dataframe tbody tr th {\n",
       "        vertical-align: top;\n",
       "    }\n",
       "\n",
       "    .dataframe thead th {\n",
       "        text-align: right;\n",
       "    }\n",
       "</style>\n",
       "<table border=\"1\" class=\"dataframe\">\n",
       "  <thead>\n",
       "    <tr style=\"text-align: right;\">\n",
       "      <th></th>\n",
       "      <th>building_id</th>\n",
       "      <th>bedrooms</th>\n",
       "      <th>bathrooms</th>\n",
       "      <th>size_sqft</th>\n",
       "      <th>addr_zip</th>\n",
       "      <th>addr_lat</th>\n",
       "      <th>addr_lon</th>\n",
       "      <th>bin</th>\n",
       "      <th>bbl</th>\n",
       "      <th>floor_count</th>\n",
       "      <th>...</th>\n",
       "      <th>has_washer_dryer</th>\n",
       "      <th>has_garage</th>\n",
       "      <th>has_roofdeck</th>\n",
       "      <th>has_concierge</th>\n",
       "      <th>has_pool</th>\n",
       "      <th>has_garden</th>\n",
       "      <th>has_childrens_playroom</th>\n",
       "      <th>rent</th>\n",
       "      <th>no_fee</th>\n",
       "      <th>floornumber</th>\n",
       "    </tr>\n",
       "  </thead>\n",
       "  <tbody>\n",
       "    <tr>\n",
       "      <th>count</th>\n",
       "      <td>1.200000e+04</td>\n",
       "      <td>12000.000000</td>\n",
       "      <td>12000.000000</td>\n",
       "      <td>12000.000000</td>\n",
       "      <td>12000.000000</td>\n",
       "      <td>12000.000000</td>\n",
       "      <td>12000.000000</td>\n",
       "      <td>1.199900e+04</td>\n",
       "      <td>1.200000e+04</td>\n",
       "      <td>12000.000000</td>\n",
       "      <td>...</td>\n",
       "      <td>12000.000000</td>\n",
       "      <td>12000.000000</td>\n",
       "      <td>12000.000000</td>\n",
       "      <td>12000.000000</td>\n",
       "      <td>12000.000000</td>\n",
       "      <td>12000.000000</td>\n",
       "      <td>12000.000000</td>\n",
       "      <td>12000.000000</td>\n",
       "      <td>12000.000000</td>\n",
       "      <td>10723.000000</td>\n",
       "    </tr>\n",
       "    <tr>\n",
       "      <th>mean</th>\n",
       "      <td>1.529133e+06</td>\n",
       "      <td>1.657667</td>\n",
       "      <td>1.239500</td>\n",
       "      <td>850.465750</td>\n",
       "      <td>10682.779667</td>\n",
       "      <td>40.727507</td>\n",
       "      <td>-73.956837</td>\n",
       "      <td>2.370093e+06</td>\n",
       "      <td>2.287120e+09</td>\n",
       "      <td>10.266608</td>\n",
       "      <td>...</td>\n",
       "      <td>0.271667</td>\n",
       "      <td>0.170000</td>\n",
       "      <td>0.264083</td>\n",
       "      <td>0.208583</td>\n",
       "      <td>0.073167</td>\n",
       "      <td>0.132083</td>\n",
       "      <td>0.090500</td>\n",
       "      <td>3605.762917</td>\n",
       "      <td>0.490000</td>\n",
       "      <td>6.182738</td>\n",
       "    </tr>\n",
       "    <tr>\n",
       "      <th>std</th>\n",
       "      <td>4.301123e+06</td>\n",
       "      <td>1.079771</td>\n",
       "      <td>0.560208</td>\n",
       "      <td>515.773101</td>\n",
       "      <td>593.370964</td>\n",
       "      <td>0.053241</td>\n",
       "      <td>0.043024</td>\n",
       "      <td>1.242919e+06</td>\n",
       "      <td>1.202105e+09</td>\n",
       "      <td>12.019787</td>\n",
       "      <td>...</td>\n",
       "      <td>0.444837</td>\n",
       "      <td>0.375648</td>\n",
       "      <td>0.440862</td>\n",
       "      <td>0.406313</td>\n",
       "      <td>0.260421</td>\n",
       "      <td>0.338595</td>\n",
       "      <td>0.286909</td>\n",
       "      <td>2897.069446</td>\n",
       "      <td>0.499921</td>\n",
       "      <td>7.671545</td>\n",
       "    </tr>\n",
       "    <tr>\n",
       "      <th>min</th>\n",
       "      <td>7.300000e+01</td>\n",
       "      <td>0.000000</td>\n",
       "      <td>0.000000</td>\n",
       "      <td>0.000000</td>\n",
       "      <td>10001.000000</td>\n",
       "      <td>40.573898</td>\n",
       "      <td>-74.141570</td>\n",
       "      <td>1.000000e+06</td>\n",
       "      <td>0.000000e+00</td>\n",
       "      <td>0.000000</td>\n",
       "      <td>...</td>\n",
       "      <td>0.000000</td>\n",
       "      <td>0.000000</td>\n",
       "      <td>0.000000</td>\n",
       "      <td>0.000000</td>\n",
       "      <td>0.000000</td>\n",
       "      <td>0.000000</td>\n",
       "      <td>0.000000</td>\n",
       "      <td>1250.000000</td>\n",
       "      <td>0.000000</td>\n",
       "      <td>0.000000</td>\n",
       "    </tr>\n",
       "    <tr>\n",
       "      <th>25%</th>\n",
       "      <td>6.209200e+04</td>\n",
       "      <td>1.000000</td>\n",
       "      <td>1.000000</td>\n",
       "      <td>610.000000</td>\n",
       "      <td>10023.000000</td>\n",
       "      <td>40.693256</td>\n",
       "      <td>-73.986076</td>\n",
       "      <td>1.052139e+06</td>\n",
       "      <td>1.011220e+09</td>\n",
       "      <td>3.000000</td>\n",
       "      <td>...</td>\n",
       "      <td>0.000000</td>\n",
       "      <td>0.000000</td>\n",
       "      <td>0.000000</td>\n",
       "      <td>0.000000</td>\n",
       "      <td>0.000000</td>\n",
       "      <td>0.000000</td>\n",
       "      <td>0.000000</td>\n",
       "      <td>2250.000000</td>\n",
       "      <td>0.000000</td>\n",
       "      <td>2.000000</td>\n",
       "    </tr>\n",
       "    <tr>\n",
       "      <th>50%</th>\n",
       "      <td>2.495815e+05</td>\n",
       "      <td>2.000000</td>\n",
       "      <td>1.000000</td>\n",
       "      <td>800.000000</td>\n",
       "      <td>11103.000000</td>\n",
       "      <td>40.729028</td>\n",
       "      <td>-73.961700</td>\n",
       "      <td>3.019358e+06</td>\n",
       "      <td>3.006580e+09</td>\n",
       "      <td>5.000000</td>\n",
       "      <td>...</td>\n",
       "      <td>0.000000</td>\n",
       "      <td>0.000000</td>\n",
       "      <td>0.000000</td>\n",
       "      <td>0.000000</td>\n",
       "      <td>0.000000</td>\n",
       "      <td>0.000000</td>\n",
       "      <td>0.000000</td>\n",
       "      <td>2900.000000</td>\n",
       "      <td>0.000000</td>\n",
       "      <td>3.000000</td>\n",
       "    </tr>\n",
       "    <tr>\n",
       "      <th>75%</th>\n",
       "      <td>8.225132e+05</td>\n",
       "      <td>2.000000</td>\n",
       "      <td>1.000000</td>\n",
       "      <td>1000.000000</td>\n",
       "      <td>11218.000000</td>\n",
       "      <td>40.764599</td>\n",
       "      <td>-73.936663</td>\n",
       "      <td>3.326098e+06</td>\n",
       "      <td>3.050580e+09</td>\n",
       "      <td>12.000000</td>\n",
       "      <td>...</td>\n",
       "      <td>1.000000</td>\n",
       "      <td>0.000000</td>\n",
       "      <td>1.000000</td>\n",
       "      <td>0.000000</td>\n",
       "      <td>0.000000</td>\n",
       "      <td>0.000000</td>\n",
       "      <td>0.000000</td>\n",
       "      <td>3900.000000</td>\n",
       "      <td>1.000000</td>\n",
       "      <td>6.000000</td>\n",
       "    </tr>\n",
       "    <tr>\n",
       "      <th>max</th>\n",
       "      <td>1.877210e+07</td>\n",
       "      <td>8.000000</td>\n",
       "      <td>20.000000</td>\n",
       "      <td>10000.000000</td>\n",
       "      <td>11694.000000</td>\n",
       "      <td>40.909842</td>\n",
       "      <td>-73.730550</td>\n",
       "      <td>5.158986e+06</td>\n",
       "      <td>5.010640e+09</td>\n",
       "      <td>90.000000</td>\n",
       "      <td>...</td>\n",
       "      <td>1.000000</td>\n",
       "      <td>1.000000</td>\n",
       "      <td>1.000000</td>\n",
       "      <td>1.000000</td>\n",
       "      <td>1.000000</td>\n",
       "      <td>1.000000</td>\n",
       "      <td>1.000000</td>\n",
       "      <td>50000.000000</td>\n",
       "      <td>1.000000</td>\n",
       "      <td>78.000000</td>\n",
       "    </tr>\n",
       "  </tbody>\n",
       "</table>\n",
       "<p>8 rows × 29 columns</p>\n",
       "</div>"
      ],
      "text/plain": [
       "        building_id      bedrooms     bathrooms     size_sqft      addr_zip  \\\n",
       "count  1.200000e+04  12000.000000  12000.000000  12000.000000  12000.000000   \n",
       "mean   1.529133e+06      1.657667      1.239500    850.465750  10682.779667   \n",
       "std    4.301123e+06      1.079771      0.560208    515.773101    593.370964   \n",
       "min    7.300000e+01      0.000000      0.000000      0.000000  10001.000000   \n",
       "25%    6.209200e+04      1.000000      1.000000    610.000000  10023.000000   \n",
       "50%    2.495815e+05      2.000000      1.000000    800.000000  11103.000000   \n",
       "75%    8.225132e+05      2.000000      1.000000   1000.000000  11218.000000   \n",
       "max    1.877210e+07      8.000000     20.000000  10000.000000  11694.000000   \n",
       "\n",
       "           addr_lat      addr_lon           bin           bbl   floor_count  \\\n",
       "count  12000.000000  12000.000000  1.199900e+04  1.200000e+04  12000.000000   \n",
       "mean      40.727507    -73.956837  2.370093e+06  2.287120e+09     10.266608   \n",
       "std        0.053241      0.043024  1.242919e+06  1.202105e+09     12.019787   \n",
       "min       40.573898    -74.141570  1.000000e+06  0.000000e+00      0.000000   \n",
       "25%       40.693256    -73.986076  1.052139e+06  1.011220e+09      3.000000   \n",
       "50%       40.729028    -73.961700  3.019358e+06  3.006580e+09      5.000000   \n",
       "75%       40.764599    -73.936663  3.326098e+06  3.050580e+09     12.000000   \n",
       "max       40.909842    -73.730550  5.158986e+06  5.010640e+09     90.000000   \n",
       "\n",
       "       ...  has_washer_dryer    has_garage  has_roofdeck  has_concierge  \\\n",
       "count  ...      12000.000000  12000.000000  12000.000000   12000.000000   \n",
       "mean   ...          0.271667      0.170000      0.264083       0.208583   \n",
       "std    ...          0.444837      0.375648      0.440862       0.406313   \n",
       "min    ...          0.000000      0.000000      0.000000       0.000000   \n",
       "25%    ...          0.000000      0.000000      0.000000       0.000000   \n",
       "50%    ...          0.000000      0.000000      0.000000       0.000000   \n",
       "75%    ...          1.000000      0.000000      1.000000       0.000000   \n",
       "max    ...          1.000000      1.000000      1.000000       1.000000   \n",
       "\n",
       "           has_pool    has_garden  has_childrens_playroom          rent  \\\n",
       "count  12000.000000  12000.000000            12000.000000  12000.000000   \n",
       "mean       0.073167      0.132083                0.090500   3605.762917   \n",
       "std        0.260421      0.338595                0.286909   2897.069446   \n",
       "min        0.000000      0.000000                0.000000   1250.000000   \n",
       "25%        0.000000      0.000000                0.000000   2250.000000   \n",
       "50%        0.000000      0.000000                0.000000   2900.000000   \n",
       "75%        0.000000      0.000000                0.000000   3900.000000   \n",
       "max        1.000000      1.000000                1.000000  50000.000000   \n",
       "\n",
       "             no_fee   floornumber  \n",
       "count  12000.000000  10723.000000  \n",
       "mean       0.490000      6.182738  \n",
       "std        0.499921      7.671545  \n",
       "min        0.000000      0.000000  \n",
       "25%        0.000000      2.000000  \n",
       "50%        0.000000      3.000000  \n",
       "75%        1.000000      6.000000  \n",
       "max        1.000000     78.000000  \n",
       "\n",
       "[8 rows x 29 columns]"
      ]
     },
     "execution_count": 3,
     "metadata": {},
     "output_type": "execute_result"
    }
   ],
   "source": [
    "raw_df.describe()"
   ]
  },
  {
   "cell_type": "code",
   "execution_count": 4,
   "metadata": {
    "colab": {
     "base_uri": "https://localhost:8080/",
     "height": 34
    },
    "colab_type": "code",
    "id": "csEm7f26C1yS",
    "outputId": "d3a30c17-b4c6-45a3-c642-39b7f6069656"
   },
   "outputs": [
    {
     "data": {
      "text/plain": [
       "(12000, 38)"
      ]
     },
     "execution_count": 4,
     "metadata": {},
     "output_type": "execute_result"
    }
   ],
   "source": [
    "raw_df.shape"
   ]
  },
  {
   "cell_type": "code",
   "execution_count": 5,
   "metadata": {
    "colab": {
     "base_uri": "https://localhost:8080/",
     "height": 739
    },
    "colab_type": "code",
    "id": "I9hONCStC1yP",
    "outputId": "7d3827da-d02a-4614-9981-6070be31b237"
   },
   "outputs": [
    {
     "name": "stdout",
     "output_type": "stream",
     "text": [
      "<class 'pandas.core.frame.DataFrame'>\n",
      "Int64Index: 12000 entries, 7236931 to 7422694\n",
      "Data columns (total 38 columns):\n",
      "addr_unit                 11909 non-null object\n",
      "building_id               12000 non-null int64\n",
      "bedrooms                  12000 non-null int64\n",
      "bathrooms                 12000 non-null float64\n",
      "size_sqft                 12000 non-null float64\n",
      "created_at                12000 non-null object\n",
      "addr_street               12000 non-null object\n",
      "addr_city                 12000 non-null object\n",
      "addr_zip                  12000 non-null int64\n",
      "addr_lat                  12000 non-null float64\n",
      "addr_lon                  12000 non-null float64\n",
      "bin                       11999 non-null float64\n",
      "bbl                       12000 non-null int64\n",
      "floor_count               12000 non-null float64\n",
      "year_built                11597 non-null float64\n",
      "min_to_subway             11874 non-null float64\n",
      "has_doorman               12000 non-null int64\n",
      "has_elevator              12000 non-null int64\n",
      "has_fireplace             12000 non-null int64\n",
      "has_dishwasher            12000 non-null int64\n",
      "is_furnished              12000 non-null int64\n",
      "has_gym                   12000 non-null int64\n",
      "allows_pets               12000 non-null int64\n",
      "has_washer_dryer          12000 non-null int64\n",
      "has_garage                12000 non-null int64\n",
      "has_roofdeck              12000 non-null int64\n",
      "has_concierge             12000 non-null int64\n",
      "has_pool                  12000 non-null int64\n",
      "has_garden                12000 non-null int64\n",
      "has_childrens_playroom    12000 non-null int64\n",
      "rent                      12000 non-null int64\n",
      "no_fee                    12000 non-null int64\n",
      "description               11985 non-null object\n",
      "neighborhood              11997 non-null object\n",
      "borough                   12000 non-null object\n",
      "unit                      11905 non-null object\n",
      "floornumber               10723 non-null float64\n",
      "line                      8476 non-null object\n",
      "dtypes: float64(9), int64(20), object(9)\n",
      "memory usage: 3.6+ MB\n"
     ]
    }
   ],
   "source": [
    "raw_df.info()"
   ]
  },
  {
   "cell_type": "code",
   "execution_count": 6,
   "metadata": {
    "colab": {
     "base_uri": "https://localhost:8080/",
     "height": 286
    },
    "colab_type": "code",
    "id": "bQBnI2n0FuHJ",
    "outputId": "9a62644e-70ac-4531-c6f8-96813f039d8c"
   },
   "outputs": [
    {
     "data": {
      "text/plain": [
       "<matplotlib.axes._subplots.AxesSubplot at 0x1ee5165c148>"
      ]
     },
     "execution_count": 6,
     "metadata": {},
     "output_type": "execute_result"
    },
    {
     "data": {
      "image/png": "[encoded data removed]",
      "text/plain": [
       "<Figure size 432x288 with 1 Axes>"
      ]
     },
     "metadata": {
      "needs_background": "light"
     },
     "output_type": "display_data"
    }
   ],
   "source": [
    "raw_df['rent'].hist(bins=100)"
   ]
  },
  {
   "cell_type": "markdown",
   "metadata": {
    "colab_type": "text",
    "id": "cN1cvd5g0lcL"
   },
   "source": [
    "### Seperate all features into continuous, categorical and binary features.\n",
    "\n",
    "For those none relatived features as below, we have excluded them from the features grouping: \n",
    "- addr_unit: no relationship\n",
    "- building_id: no relationship\n",
    "- addr_lat: hard to analyze latitude\n",
    "- addr_lon: hard to analyze longtitude\n",
    "- bin: need to wait for external dataset\n",
    "- bbl: need to wait for external dataset\n",
    "- description: hard to build a NLP model\n",
    "- unit: no relationship\n"
   ]
  },
  {
   "cell_type": "code",
   "execution_count": 7,
   "metadata": {
    "colab": {},
    "colab_type": "code",
    "id": "ce4l5HZNModF"
   },
   "outputs": [],
   "source": [
    "continuous_features =['bathrooms','bedrooms','size_sqft','floor_count','year_built','min_to_subway','floornumber' ]\n",
    "caterigal_features =['addr_street','addr_city','addr_zip','neighborhood','borough','line' ]\n",
    "binary_features = ['has_doorman', 'has_elevator', 'has_fireplace', 'has_dishwasher','is_furnished', 'has_gym', 'allows_pets', \n",
    "                   'has_washer_dryer','has_garage', 'has_roofdeck', 'has_concierge', 'has_pool', 'has_garden',\n",
    "                   'has_childrens_playroom', 'no_fee', ]"
   ]
  },
  {
   "cell_type": "markdown",
   "metadata": {
    "colab": {},
    "colab_type": "code",
    "id": "bp674gXgC1yy"
   },
   "source": [
    "## Import external dataset from Internal Revenue Service\n",
    " - We will import the 2017 individual income Tax statistic dataset from IRS website(https://www.irs.gov/pub/irs-soi/17zpallagi.csv).\n",
    " - We will expend a new feature: **average_income** based on zipcode to our raw dataset "
   ]
  },
  {
   "cell_type": "code",
   "execution_count": 8,
   "metadata": {
    "colab": {
     "base_uri": "https://localhost:8080/",
     "height": 119
    },
    "colab_type": "code",
    "id": "ySvUva5SC1yz",
    "outputId": "1ed1dab8-6fb2-4f94-8584-d38dbadc73fd"
   },
   "outputs": [
    {
     "data": {
      "text/plain": [
       "Index(['STATE', 'zipcode', 'agi_stub', 'N1', 'mars1', 'MARS2', 'MARS4', 'ELF',\n",
       "       'CPREP', 'PREP',\n",
       "       ...\n",
       "       'N85300', 'A85300', 'N11901', 'A11901', 'N11900', 'A11900', 'N11902',\n",
       "       'A11902', 'N12000', 'A12000'],\n",
       "      dtype='object', length=152)"
      ]
     },
     "execution_count": 8,
     "metadata": {},
     "output_type": "execute_result"
    }
   ],
   "source": [
    "raw_income_data=pd.read_csv('https://www.irs.gov/pub/irs-soi/17zpallagi.csv', index_col=0)\n",
    "raw_income_data.columns"
   ]
  },
  {
   "cell_type": "code",
   "execution_count": 9,
   "metadata": {
    "colab": {},
    "colab_type": "code",
    "id": "4OwGK7NMC1y4",
    "outputId": "f3d9ab34-8545-461e-abad-372abd7b373a"
   },
   "outputs": [
    {
     "data": {
      "text/html": [
       "<div>\n",
       "<style scoped>\n",
       "    .dataframe tbody tr th:only-of-type {\n",
       "        vertical-align: middle;\n",
       "    }\n",
       "\n",
       "    .dataframe tbody tr th {\n",
       "        vertical-align: top;\n",
       "    }\n",
       "\n",
       "    .dataframe thead th {\n",
       "        text-align: right;\n",
       "    }\n",
       "</style>\n",
       "<table border=\"1\" class=\"dataframe\">\n",
       "  <thead>\n",
       "    <tr style=\"text-align: right;\">\n",
       "      <th></th>\n",
       "      <th>zipcode</th>\n",
       "      <th>agi_stub</th>\n",
       "      <th>N1</th>\n",
       "      <th>mars1</th>\n",
       "      <th>MARS2</th>\n",
       "      <th>MARS4</th>\n",
       "      <th>ELF</th>\n",
       "      <th>CPREP</th>\n",
       "      <th>PREP</th>\n",
       "      <th>DIR_DEP</th>\n",
       "      <th>...</th>\n",
       "      <th>N85300</th>\n",
       "      <th>A85300</th>\n",
       "      <th>N11901</th>\n",
       "      <th>A11901</th>\n",
       "      <th>N11900</th>\n",
       "      <th>A11900</th>\n",
       "      <th>N11902</th>\n",
       "      <th>A11902</th>\n",
       "      <th>N12000</th>\n",
       "      <th>A12000</th>\n",
       "    </tr>\n",
       "  </thead>\n",
       "  <tbody>\n",
       "    <tr>\n",
       "      <th>count</th>\n",
       "      <td>166537.000000</td>\n",
       "      <td>166537.000000</td>\n",
       "      <td>1.665370e+05</td>\n",
       "      <td>1.665370e+05</td>\n",
       "      <td>1.665370e+05</td>\n",
       "      <td>166537.000000</td>\n",
       "      <td>1.665370e+05</td>\n",
       "      <td>166537.000000</td>\n",
       "      <td>1.665370e+05</td>\n",
       "      <td>1.665370e+05</td>\n",
       "      <td>...</td>\n",
       "      <td>166537.000000</td>\n",
       "      <td>1.665370e+05</td>\n",
       "      <td>166537.000000</td>\n",
       "      <td>1.665370e+05</td>\n",
       "      <td>1.665370e+05</td>\n",
       "      <td>1.665370e+05</td>\n",
       "      <td>1.665370e+05</td>\n",
       "      <td>1.665370e+05</td>\n",
       "      <td>166537.000000</td>\n",
       "      <td>1.665370e+05</td>\n",
       "    </tr>\n",
       "    <tr>\n",
       "      <th>mean</th>\n",
       "      <td>48870.221668</td>\n",
       "      <td>3.499883</td>\n",
       "      <td>1.797506e+03</td>\n",
       "      <td>8.568076e+02</td>\n",
       "      <td>6.466075e+02</td>\n",
       "      <td>257.395354</td>\n",
       "      <td>1.595375e+03</td>\n",
       "      <td>109.165711</td>\n",
       "      <td>9.565737e+02</td>\n",
       "      <td>1.115313e+03</td>\n",
       "      <td>...</td>\n",
       "      <td>52.247849</td>\n",
       "      <td>2.652260e+02</td>\n",
       "      <td>366.565508</td>\n",
       "      <td>2.075837e+03</td>\n",
       "      <td>1.385102e+03</td>\n",
       "      <td>4.864975e+03</td>\n",
       "      <td>1.349381e+03</td>\n",
       "      <td>3.932834e+03</td>\n",
       "      <td>43.103875</td>\n",
       "      <td>8.790301e+02</td>\n",
       "    </tr>\n",
       "    <tr>\n",
       "      <th>std</th>\n",
       "      <td>27140.457939</td>\n",
       "      <td>1.707903</td>\n",
       "      <td>3.682065e+04</td>\n",
       "      <td>2.157115e+04</td>\n",
       "      <td>1.180901e+04</td>\n",
       "      <td>6579.521856</td>\n",
       "      <td>3.234179e+04</td>\n",
       "      <td>2546.536828</td>\n",
       "      <td>1.996698e+04</td>\n",
       "      <td>2.347348e+04</td>\n",
       "      <td>...</td>\n",
       "      <td>2663.659358</td>\n",
       "      <td>1.535593e+04</td>\n",
       "      <td>6891.242958</td>\n",
       "      <td>6.608186e+04</td>\n",
       "      <td>2.947749e+04</td>\n",
       "      <td>1.012458e+05</td>\n",
       "      <td>2.909491e+04</td>\n",
       "      <td>7.693938e+04</td>\n",
       "      <td>947.324343</td>\n",
       "      <td>4.399491e+04</td>\n",
       "    </tr>\n",
       "    <tr>\n",
       "      <th>min</th>\n",
       "      <td>0.000000</td>\n",
       "      <td>1.000000</td>\n",
       "      <td>0.000000e+00</td>\n",
       "      <td>0.000000e+00</td>\n",
       "      <td>0.000000e+00</td>\n",
       "      <td>0.000000</td>\n",
       "      <td>0.000000e+00</td>\n",
       "      <td>0.000000</td>\n",
       "      <td>0.000000e+00</td>\n",
       "      <td>0.000000e+00</td>\n",
       "      <td>...</td>\n",
       "      <td>0.000000</td>\n",
       "      <td>0.000000e+00</td>\n",
       "      <td>0.000000</td>\n",
       "      <td>0.000000e+00</td>\n",
       "      <td>0.000000e+00</td>\n",
       "      <td>0.000000e+00</td>\n",
       "      <td>0.000000e+00</td>\n",
       "      <td>0.000000e+00</td>\n",
       "      <td>0.000000</td>\n",
       "      <td>0.000000e+00</td>\n",
       "    </tr>\n",
       "    <tr>\n",
       "      <th>25%</th>\n",
       "      <td>27030.000000</td>\n",
       "      <td>2.000000</td>\n",
       "      <td>7.000000e+01</td>\n",
       "      <td>0.000000e+00</td>\n",
       "      <td>4.000000e+01</td>\n",
       "      <td>0.000000</td>\n",
       "      <td>6.000000e+01</td>\n",
       "      <td>0.000000</td>\n",
       "      <td>4.000000e+01</td>\n",
       "      <td>4.000000e+01</td>\n",
       "      <td>...</td>\n",
       "      <td>0.000000</td>\n",
       "      <td>0.000000e+00</td>\n",
       "      <td>20.000000</td>\n",
       "      <td>2.100000e+01</td>\n",
       "      <td>5.000000e+01</td>\n",
       "      <td>1.580000e+02</td>\n",
       "      <td>4.000000e+01</td>\n",
       "      <td>1.410000e+02</td>\n",
       "      <td>0.000000</td>\n",
       "      <td>0.000000e+00</td>\n",
       "    </tr>\n",
       "    <tr>\n",
       "      <th>50%</th>\n",
       "      <td>48876.000000</td>\n",
       "      <td>3.000000</td>\n",
       "      <td>2.500000e+02</td>\n",
       "      <td>7.000000e+01</td>\n",
       "      <td>1.100000e+02</td>\n",
       "      <td>20.000000</td>\n",
       "      <td>2.200000e+02</td>\n",
       "      <td>0.000000</td>\n",
       "      <td>1.500000e+02</td>\n",
       "      <td>1.400000e+02</td>\n",
       "      <td>...</td>\n",
       "      <td>0.000000</td>\n",
       "      <td>0.000000e+00</td>\n",
       "      <td>60.000000</td>\n",
       "      <td>1.550000e+02</td>\n",
       "      <td>1.800000e+02</td>\n",
       "      <td>6.220000e+02</td>\n",
       "      <td>1.700000e+02</td>\n",
       "      <td>5.480000e+02</td>\n",
       "      <td>0.000000</td>\n",
       "      <td>0.000000e+00</td>\n",
       "    </tr>\n",
       "    <tr>\n",
       "      <th>75%</th>\n",
       "      <td>70601.000000</td>\n",
       "      <td>5.000000</td>\n",
       "      <td>1.020000e+03</td>\n",
       "      <td>3.400000e+02</td>\n",
       "      <td>3.800000e+02</td>\n",
       "      <td>90.000000</td>\n",
       "      <td>9.100000e+02</td>\n",
       "      <td>60.000000</td>\n",
       "      <td>5.600000e+02</td>\n",
       "      <td>5.900000e+02</td>\n",
       "      <td>...</td>\n",
       "      <td>0.000000</td>\n",
       "      <td>0.000000e+00</td>\n",
       "      <td>220.000000</td>\n",
       "      <td>6.870000e+02</td>\n",
       "      <td>7.400000e+02</td>\n",
       "      <td>2.484000e+03</td>\n",
       "      <td>7.100000e+02</td>\n",
       "      <td>2.207000e+03</td>\n",
       "      <td>30.000000</td>\n",
       "      <td>6.400000e+01</td>\n",
       "    </tr>\n",
       "    <tr>\n",
       "      <th>max</th>\n",
       "      <td>99999.000000</td>\n",
       "      <td>6.000000</td>\n",
       "      <td>5.824360e+06</td>\n",
       "      <td>4.130490e+06</td>\n",
       "      <td>1.757700e+06</td>\n",
       "      <td>982390.000000</td>\n",
       "      <td>4.980210e+06</td>\n",
       "      <td>475240.000000</td>\n",
       "      <td>3.387570e+06</td>\n",
       "      <td>3.233490e+06</td>\n",
       "      <td>...</td>\n",
       "      <td>763140.000000</td>\n",
       "      <td>4.031847e+06</td>\n",
       "      <td>890950.000000</td>\n",
       "      <td>1.750126e+07</td>\n",
       "      <td>4.598480e+06</td>\n",
       "      <td>1.667374e+07</td>\n",
       "      <td>4.561540e+06</td>\n",
       "      <td>9.443931e+06</td>\n",
       "      <td>186110.000000</td>\n",
       "      <td>1.056186e+07</td>\n",
       "    </tr>\n",
       "  </tbody>\n",
       "</table>\n",
       "<p>8 rows × 151 columns</p>\n",
       "</div>"
      ],
      "text/plain": [
       "             zipcode       agi_stub            N1         mars1         MARS2  \\\n",
       "count  166537.000000  166537.000000  1.665370e+05  1.665370e+05  1.665370e+05   \n",
       "mean    48870.221668       3.499883  1.797506e+03  8.568076e+02  6.466075e+02   \n",
       "std     27140.457939       1.707903  3.682065e+04  2.157115e+04  1.180901e+04   \n",
       "min         0.000000       1.000000  0.000000e+00  0.000000e+00  0.000000e+00   \n",
       "25%     27030.000000       2.000000  7.000000e+01  0.000000e+00  4.000000e+01   \n",
       "50%     48876.000000       3.000000  2.500000e+02  7.000000e+01  1.100000e+02   \n",
       "75%     70601.000000       5.000000  1.020000e+03  3.400000e+02  3.800000e+02   \n",
       "max     99999.000000       6.000000  5.824360e+06  4.130490e+06  1.757700e+06   \n",
       "\n",
       "               MARS4           ELF          CPREP          PREP       DIR_DEP  \\\n",
       "count  166537.000000  1.665370e+05  166537.000000  1.665370e+05  1.665370e+05   \n",
       "mean      257.395354  1.595375e+03     109.165711  9.565737e+02  1.115313e+03   \n",
       "std      6579.521856  3.234179e+04    2546.536828  1.996698e+04  2.347348e+04   \n",
       "min         0.000000  0.000000e+00       0.000000  0.000000e+00  0.000000e+00   \n",
       "25%         0.000000  6.000000e+01       0.000000  4.000000e+01  4.000000e+01   \n",
       "50%        20.000000  2.200000e+02       0.000000  1.500000e+02  1.400000e+02   \n",
       "75%        90.000000  9.100000e+02      60.000000  5.600000e+02  5.900000e+02   \n",
       "max    982390.000000  4.980210e+06  475240.000000  3.387570e+06  3.233490e+06   \n",
       "\n",
       "       ...         N85300        A85300         N11901        A11901  \\\n",
       "count  ...  166537.000000  1.665370e+05  166537.000000  1.665370e+05   \n",
       "mean   ...      52.247849  2.652260e+02     366.565508  2.075837e+03   \n",
       "std    ...    2663.659358  1.535593e+04    6891.242958  6.608186e+04   \n",
       "min    ...       0.000000  0.000000e+00       0.000000  0.000000e+00   \n",
       "25%    ...       0.000000  0.000000e+00      20.000000  2.100000e+01   \n",
       "50%    ...       0.000000  0.000000e+00      60.000000  1.550000e+02   \n",
       "75%    ...       0.000000  0.000000e+00     220.000000  6.870000e+02   \n",
       "max    ...  763140.000000  4.031847e+06  890950.000000  1.750126e+07   \n",
       "\n",
       "             N11900        A11900        N11902        A11902         N12000  \\\n",
       "count  1.665370e+05  1.665370e+05  1.665370e+05  1.665370e+05  166537.000000   \n",
       "mean   1.385102e+03  4.864975e+03  1.349381e+03  3.932834e+03      43.103875   \n",
       "std    2.947749e+04  1.012458e+05  2.909491e+04  7.693938e+04     947.324343   \n",
       "min    0.000000e+00  0.000000e+00  0.000000e+00  0.000000e+00       0.000000   \n",
       "25%    5.000000e+01  1.580000e+02  4.000000e+01  1.410000e+02       0.000000   \n",
       "50%    1.800000e+02  6.220000e+02  1.700000e+02  5.480000e+02       0.000000   \n",
       "75%    7.400000e+02  2.484000e+03  7.100000e+02  2.207000e+03      30.000000   \n",
       "max    4.598480e+06  1.667374e+07  4.561540e+06  9.443931e+06  186110.000000   \n",
       "\n",
       "             A12000  \n",
       "count  1.665370e+05  \n",
       "mean   8.790301e+02  \n",
       "std    4.399491e+04  \n",
       "min    0.000000e+00  \n",
       "25%    0.000000e+00  \n",
       "50%    0.000000e+00  \n",
       "75%    6.400000e+01  \n",
       "max    1.056186e+07  \n",
       "\n",
       "[8 rows x 151 columns]"
      ]
     },
     "execution_count": 9,
     "metadata": {},
     "output_type": "execute_result"
    }
   ],
   "source": [
    "raw_income_data.describe()"
   ]
  },
  {
   "cell_type": "markdown",
   "metadata": {
    "colab_type": "text",
    "id": "dsIRl_HPz50L"
   },
   "source": [
    "### Income Dataset Description \n",
    "This dataset comes from the IRS website's 2017 ZIP Code Data (SOI) about Individual Income Tax Statistics.\n",
    "According to the documentation's overview,the Statistics of Income (SOI) Division’s ZIP code data is tabulated using individual income tax returns (Forms 1040) filed with the Internal Revenue Service (IRS) during the 12-month period, January 1, 2018 to December 31, 2018.\n",
    "The original dataset contains many income and Tax Items, we only keep the ones that are relevant: \n",
    "- STATEFIPS:The State Federal Information Processing System (FIPS) code\n",
    "- STATE: The State associated with the ZIP code\n",
    "- ZIPCODE: 5-digit Zip code\n",
    "- agi_stub: Size of adjusted gross income\n",
    "- N1: Total number of returns\n",
    "- A02650: Number of returns with total income\n",
    "\n",
    "Our goal is to find the average income of each zipcode."
   ]
  },
  {
   "cell_type": "markdown",
   "metadata": {
    "colab_type": "text",
    "id": "npFJUlx_z50M"
   },
   "source": [
    "### Clean the raw income data and rename feature"
   ]
  },
  {
   "cell_type": "code",
   "execution_count": 10,
   "metadata": {
    "colab": {},
    "colab_type": "code",
    "id": "-V89w0rGz50N"
   },
   "outputs": [],
   "source": [
    "raw_income_data = raw_income_data.loc[raw_income_data['STATE']=='NY']\n",
    "raw_income_data.rename(columns = {'N1':'total_returns', 'A02650':'total_income'}, inplace = True) \n",
    "raw_income_data = raw_income_data[['STATE','zipcode','agi_stub','total_returns', 'total_income']]\n",
    "raw_income_data = raw_income_data.loc[raw_income_data['zipcode']<99999]\n",
    "raw_income_data = raw_income_data.loc[raw_income_data['zipcode']>0]\n"
   ]
  },
  {
   "cell_type": "markdown",
   "metadata": {
    "colab_type": "text",
    "id": "-VGLOblZz50P"
   },
   "source": [
    "### Function to calculate the average income by zip code\n",
    "Each zip code has 6 different sizes of adjusted gross income which means we have 6 different number of total returns and total income for one zip code.\n",
    "By using the np.where and sum function, we can obtain the sum of income and sum of returns for each zip code. The income of the original dataset was in thousands of dollar so we need to multiply the sum of income by 1000 and then find the average. Since some zip code was not in the original set, we ingore those average that is NaN and only write the meaningful averages to csv file for future use."
   ]
  },
  {
   "cell_type": "markdown",
   "metadata": {
    "colab_type": "text",
    "id": "fYwv11cxz50Q"
   },
   "source": [
    "- Calculate average income \n",
    "- Export to ny_income_2017.csv for storage\n",
    "- For next time, no need to import the raw_income_dataset again"
   ]
  },
  {
   "cell_type": "code",
   "execution_count": 11,
   "metadata": {
    "colab": {
     "base_uri": "https://localhost:8080/",
     "height": 204
    },
    "colab_type": "code",
    "id": "frLORUzFz50R",
    "outputId": "c1056c7c-6d99-4532-9298-0f58a3d1a842"
   },
   "outputs": [
    {
     "data": {
      "text/html": [
       "<div>\n",
       "<style scoped>\n",
       "    .dataframe tbody tr th:only-of-type {\n",
       "        vertical-align: middle;\n",
       "    }\n",
       "\n",
       "    .dataframe tbody tr th {\n",
       "        vertical-align: top;\n",
       "    }\n",
       "\n",
       "    .dataframe thead th {\n",
       "        text-align: right;\n",
       "    }\n",
       "</style>\n",
       "<table border=\"1\" class=\"dataframe\">\n",
       "  <thead>\n",
       "    <tr style=\"text-align: right;\">\n",
       "      <th></th>\n",
       "      <th>addr_zip</th>\n",
       "      <th>zip_average_income</th>\n",
       "    </tr>\n",
       "  </thead>\n",
       "  <tbody>\n",
       "    <tr>\n",
       "      <th>0</th>\n",
       "      <td>10001.0</td>\n",
       "      <td>183859.908735</td>\n",
       "    </tr>\n",
       "    <tr>\n",
       "      <th>1</th>\n",
       "      <td>10002.0</td>\n",
       "      <td>59669.401750</td>\n",
       "    </tr>\n",
       "    <tr>\n",
       "      <th>2</th>\n",
       "      <td>10003.0</td>\n",
       "      <td>306277.962003</td>\n",
       "    </tr>\n",
       "    <tr>\n",
       "      <th>3</th>\n",
       "      <td>10004.0</td>\n",
       "      <td>385265.306122</td>\n",
       "    </tr>\n",
       "    <tr>\n",
       "      <th>4</th>\n",
       "      <td>10005.0</td>\n",
       "      <td>391201.520270</td>\n",
       "    </tr>\n",
       "  </tbody>\n",
       "</table>\n",
       "</div>"
      ],
      "text/plain": [
       "   addr_zip  zip_average_income\n",
       "0   10001.0       183859.908735\n",
       "1   10002.0        59669.401750\n",
       "2   10003.0       306277.962003\n",
       "3   10004.0       385265.306122\n",
       "4   10005.0       391201.520270"
      ]
     },
     "execution_count": 11,
     "metadata": {},
     "output_type": "execute_result"
    }
   ],
   "source": [
    "average_income = pd.DataFrame({'addr_zip':[],'zip_average_income':[]})\n",
    "\n",
    "def calculate_avg_income():\n",
    "    global average_income\n",
    "    for zipcode in range(10001, 14906):\n",
    "        current_sum=np.where(raw_income_data['zipcode']==zipcode, raw_income_data['total_income'],0).sum()\n",
    "        current_returns=np.where(raw_income_data['zipcode']==zipcode, raw_income_data['total_returns'],0).sum() \n",
    "        if(current_returns <=0 or current_sum<=0):\n",
    "            continue\n",
    "        avg_income=(current_sum*1000)/current_returns\n",
    "        new_row={'addr_zip':zipcode,'zip_average_income':avg_income}\n",
    "        average_income=average_income.append(new_row,ignore_index=True)           \n",
    "calculate_avg_income()\n",
    "average_income.head(5)"
   ]
  },
  {
   "cell_type": "markdown",
   "metadata": {
    "colab_type": "text",
    "id": "0IzznDIuz50U"
   },
   "source": [
    " - We realize that the income dataset is missing all income data between zipcode 11239 - 11354, we will take an averge of zipcode income for 11239 and 11354 to replace any zipcode income in between \n",
    " - In our training and testing dataset, only the zipcode income 11249 is missing"
   ]
  },
  {
   "cell_type": "code",
   "execution_count": 12,
   "metadata": {
    "colab": {},
    "colab_type": "code",
    "id": "gTUSEJ49z50U",
    "outputId": "0e334a05-9c82-48c3-ab4d-77744e611715"
   },
   "outputs": [
    {
     "name": "stdout",
     "output_type": "stream",
     "text": [
      "[11249]\n",
      "[11249]\n"
     ]
    }
   ],
   "source": [
    "print(list(set(raw_df['addr_zip']) - set(average_income['addr_zip'])))\n",
    "print(list(set(raw_test_df['addr_zip']) - set(average_income['addr_zip'])))"
   ]
  },
  {
   "cell_type": "markdown",
   "metadata": {
    "colab_type": "text",
    "id": "XnbmWJYxz50X"
   },
   "source": [
    "**Insert a new row for zipcode income 11249 into the average_income dataframe**"
   ]
  },
  {
   "cell_type": "code",
   "execution_count": 13,
   "metadata": {
    "colab": {},
    "colab_type": "code",
    "id": "F_bdJvGyz50Y"
   },
   "outputs": [],
   "source": [
    "avg_income = (average_income.loc[(average_income['addr_zip']==11239)].iloc[0]['zip_average_income'] +\n",
    "             average_income.loc[(average_income['addr_zip']==11354)].iloc[0]['zip_average_income'])/2\n",
    "new_row = {'addr_zip':11249,'zip_average_income':avg_income}\n",
    "average_income=average_income.append(new_row,ignore_index=True)  "
   ]
  },
  {
   "cell_type": "markdown",
   "metadata": {
    "colab_type": "text",
    "id": "UtLCiyTwz50a"
   },
   "source": [
    "### Merge the raw train  dataset with the income dataset by addr_zip"
   ]
  },
  {
   "cell_type": "code",
   "execution_count": 14,
   "metadata": {
    "colab": {},
    "colab_type": "code",
    "id": "Mkmeq1Q3z50b"
   },
   "outputs": [],
   "source": [
    "raw_test_df=raw_test_df.reset_index().merge(average_income, how=\"left\",on='addr_zip').set_index('rental_id')\n",
    "raw_df=raw_df.reset_index().merge(average_income, how=\"left\",on='addr_zip').set_index('rental_id')"
   ]
  },
  {
   "cell_type": "markdown",
   "metadata": {
    "colab_type": "text",
    "id": "GO3qzUewz50d"
   },
   "source": [
    "### Find zip_average_income and rent cooleration"
   ]
  },
  {
   "cell_type": "code",
   "execution_count": 15,
   "metadata": {
    "colab": {},
    "colab_type": "code",
    "id": "gasWc5OYz50e"
   },
   "outputs": [],
   "source": [
    "continuous_features.append('zip_average_income')"
   ]
  },
  {
   "cell_type": "code",
   "execution_count": 16,
   "metadata": {
    "colab": {},
    "colab_type": "code",
    "id": "-kqkBEJGz50h",
    "outputId": "59ca8084-dce3-452d-f506-2926ae2e526c"
   },
   "outputs": [
    {
     "data": {
      "text/plain": [
       "zip_average_income    0.398523\n",
       "Name: rent, dtype: float64"
      ]
     },
     "execution_count": 16,
     "metadata": {},
     "output_type": "execute_result"
    }
   ],
   "source": [
    "continuous_df = raw_df[['zip_average_income','rent']]\n",
    "continuous_df.corr()['rent'][:-1]\n"
   ]
  },
  {
   "cell_type": "markdown",
   "metadata": {
    "colab_type": "text",
    "id": "Vwee4_SPz50l"
   },
   "source": [
    "**The correlation between zip_average_income and rent is 0.393228, it is good enough to consider as a important feature that might impact the rent**"
   ]
  },
  {
   "cell_type": "markdown",
   "metadata": {
    "colab_type": "text",
    "id": "E9P4E7UCG95k"
   },
   "source": [
    "- We join two datasets by using 'neighborhood', but some of the 'neighborhood' names are not exact the same\n",
    "- For those neighborhood name can't find in the population_df, we try to look for substring match"
   ]
  },
  {
   "cell_type": "markdown",
   "metadata": {
    "colab_type": "text",
    "id": "cQF3iHHBHgOm"
   },
   "source": [
    "## Import external housing sale price dataset\n",
    " - dataset source (https://www.kaggle.com/new-york-city/nyc-property-sales)."
   ]
  },
  {
   "cell_type": "code",
   "execution_count": null,
   "metadata": {
    "colab": {
     "base_uri": "https://localhost:8080/",
     "height": 34
    },
    "colab_type": "code",
    "id": "2RBrhWfVHfCa",
    "outputId": "807730e0-9a1d-401d-e8b1-a87d4ca5b175"
   },
   "outputs": [],
   "source": [
    "sale_df =  pd.read_csv('./data/sale_price.csv')\n",
    "sale_df.columns"
   ]
  },
  {
   "cell_type": "code",
   "execution_count": null,
   "metadata": {
    "colab": {},
    "colab_type": "code",
    "id": "9Nqw3-mAItSE"
   },
   "outputs": [],
   "source": [
    "raw_test_df=raw_test_df.reset_index().merge(sale_df, how=\"left\",on='addr_zip').set_index('rental_id')\n",
    "raw_df=raw_df.reset_index().merge(sale_df, how=\"left\",on='addr_zip').set_index('rental_id')"
   ]
  },
  {
   "cell_type": "code",
   "execution_count": null,
   "metadata": {
    "colab": {
     "base_uri": "https://localhost:8080/",
     "height": 1000
    },
    "colab_type": "code",
    "id": "JgWETEMuI6mr",
    "outputId": "635c2ffb-6bf3-49cd-fa4f-d0e453c4fe24"
   },
   "outputs": [],
   "source": [
    "raw_df.head(5).T"
   ]
  },
  {
   "cell_type": "markdown",
   "metadata": {
    "colab_type": "text",
    "id": "Sq-lexQfz50m"
   },
   "source": [
    "# Data Cleaning"
   ]
  },
  {
   "cell_type": "markdown",
   "metadata": {
    "colab_type": "text",
    "id": "g_YNLB4Lz50n"
   },
   "source": [
    "\n",
    "### Handling missing data\n",
    "In order to handle missing data in this dataset, we frist find and count all the null values."
   ]
  },
  {
   "cell_type": "code",
   "execution_count": 18,
   "metadata": {
    "colab": {},
    "colab_type": "code",
    "id": "IBbbVEkLz50q",
    "outputId": "05f679c4-20ad-4541-faa1-d1747e07fd0e"
   },
   "outputs": [
    {
     "data": {
      "text/plain": [
       "addr_unit                   91\n",
       "building_id                  0\n",
       "bedrooms                     0\n",
       "bathrooms                    0\n",
       "size_sqft                    0\n",
       "created_at                   0\n",
       "addr_street                  0\n",
       "addr_city                    0\n",
       "addr_zip                     0\n",
       "addr_lat                     0\n",
       "addr_lon                     0\n",
       "bin                          1\n",
       "bbl                          0\n",
       "floor_count                  0\n",
       "year_built                 403\n",
       "min_to_subway              126\n",
       "has_doorman                  0\n",
       "has_elevator                 0\n",
       "has_fireplace                0\n",
       "has_dishwasher               0\n",
       "is_furnished                 0\n",
       "has_gym                      0\n",
       "allows_pets                  0\n",
       "has_washer_dryer             0\n",
       "has_garage                   0\n",
       "has_roofdeck                 0\n",
       "has_concierge                0\n",
       "has_pool                     0\n",
       "has_garden                   0\n",
       "has_childrens_playroom       0\n",
       "rent                         0\n",
       "no_fee                       0\n",
       "description                 15\n",
       "neighborhood                 3\n",
       "borough                      0\n",
       "unit                        95\n",
       "floornumber               1277\n",
       "line                      3524\n",
       "zip_average_income           0\n",
       "dtype: int64"
      ]
     },
     "execution_count": 18,
     "metadata": {},
     "output_type": "execute_result"
    }
   ],
   "source": [
    "raw_df.isna().sum()"
   ]
  },
  {
   "cell_type": "markdown",
   "metadata": {
    "colab_type": "text",
    "id": "UrIsCH6xz50t"
   },
   "source": [
    "As we can see from the result,there are missing data appearing on: \n",
    "- addr_unit\n",
    "- bin \n",
    "- year_built \n",
    "- min_to_subway \n",
    "- description \n",
    "- neighborhood \n",
    "- unit \n",
    "- floornumber \n",
    "- line \n",
    "\n",
    "Continuous features floornumber, year_built and min_to_subway has impact on the rent, so we will fill with mode or mean. For catagorigious feature neighborhood, we will not use it in building model, because it has too many possible values."
   ]
  },
  {
   "cell_type": "code",
   "execution_count": 19,
   "metadata": {
    "colab": {
     "base_uri": "https://localhost:8080/",
     "height": 51
    },
    "colab_type": "code",
    "id": "TlnpEmrkz50t",
    "outputId": "5f13938f-bd73-476f-d1f5-2fa6a0e33967"
   },
   "outputs": [
    {
     "name": "stdout",
     "output_type": "stream",
     "text": [
      "original shape of dataset: (12000, 39)\n",
      "shape of dataset after handling missing data, should stay the same: (12000, 39)\n"
     ]
    }
   ],
   "source": [
    "md_df = raw_df\n",
    "\n",
    "md_df['floornumber'].fillna(md_df['floornumber'].mode()[0], inplace=True)\n",
    "raw_test_df['floornumber'].fillna(raw_test_df['floornumber'].mode()[0], inplace=True)\n",
    "\n",
    "md_df['min_to_subway'].fillna(md_df['min_to_subway'].mean(), inplace=True)\n",
    "raw_test_df['min_to_subway'].fillna(raw_test_df['min_to_subway'].mean(), inplace=True)\n",
    "\n",
    "md_df['year_built'].fillna(md_df['year_built'].mean(), inplace=True)\n",
    "raw_test_df['year_built'].fillna(raw_test_df['year_built'].mean(), inplace=True)\n",
    "\n",
    "print(\"original shape of dataset:\",raw_df.shape)\n",
    "print(\"shape of dataset after handling missing data, should stay the same:\",md_df.shape)"
   ]
  },
  {
   "cell_type": "markdown",
   "metadata": {
    "colab_type": "text",
    "id": "TeWzSum5z50w"
   },
   "source": [
    "## Remove outliers"
   ]
  },
  {
   "cell_type": "code",
   "execution_count": 20,
   "metadata": {
    "colab": {},
    "colab_type": "code",
    "id": "5ZlyWStHz50w",
    "outputId": "8f0581aa-c64c-423e-b272-3be0a0cc3b6f"
   },
   "outputs": [
    {
     "data": {
      "image/png": "[encoded data removed]",
      "text/plain": [
       "<Figure size 432x288 with 1 Axes>"
      ]
     },
     "metadata": {
      "needs_background": "light"
     },
     "output_type": "display_data"
    },
    {
     "data": {
      "image/png": "[encoded data removed]",
      "text/plain": [
       "<Figure size 432x288 with 1 Axes>"
      ]
     },
     "metadata": {
      "needs_background": "light"
     },
     "output_type": "display_data"
    },
    {
     "data": {
      "image/png": "[encoded data removed]",
      "text/plain": [
       "<Figure size 432x288 with 1 Axes>"
      ]
     },
     "metadata": {
      "needs_background": "light"
     },
     "output_type": "display_data"
    },
    {
     "data": {
      "image/png": "[encoded data removed]",
      "text/plain": [
       "<Figure size 432x288 with 1 Axes>"
      ]
     },
     "metadata": {
      "needs_background": "light"
     },
     "output_type": "display_data"
    },
    {
     "data": {
      "image/png": "[encoded data removed]",
      "text/plain": [
       "<Figure size 432x288 with 1 Axes>"
      ]
     },
     "metadata": {
      "needs_background": "light"
     },
     "output_type": "display_data"
    },
    {
     "data": {
      "image/png": "[encoded data removed]",
      "text/plain": [
       "<Figure size 432x288 with 1 Axes>"
      ]
     },
     "metadata": {
      "needs_background": "light"
     },
     "output_type": "display_data"
    },
    {
     "data": {
      "image/png": "[encoded data removed]",
      "text/plain": [
       "<Figure size 432x288 with 1 Axes>"
      ]
     },
     "metadata": {
      "needs_background": "light"
     },
     "output_type": "display_data"
    },
    {
     "data": {
      "image/png": "[encoded data removed]",
      "text/plain": [
       "<Figure size 432x288 with 1 Axes>"
      ]
     },
     "metadata": {
      "needs_background": "light"
     },
     "output_type": "display_data"
    }
   ],
   "source": [
    "for feature in continuous_features:\n",
    "    md_df.plot.scatter(feature, 'rent')"
   ]
  },
  {
   "cell_type": "code",
   "execution_count": 21,
   "metadata": {
    "colab": {},
    "colab_type": "code",
    "id": "nSGretTYz50z",
    "outputId": "f714b8a2-7394-4ba9-c813-c0ec65208dbf"
   },
   "outputs": [
    {
     "data": {
      "text/plain": [
       "addr_unit                 8\n",
       "building_id               8\n",
       "bedrooms                  8\n",
       "bathrooms                 8\n",
       "size_sqft                 8\n",
       "created_at                8\n",
       "addr_street               8\n",
       "addr_city                 8\n",
       "addr_zip                  8\n",
       "addr_lat                  8\n",
       "addr_lon                  8\n",
       "bin                       8\n",
       "bbl                       8\n",
       "floor_count               8\n",
       "year_built                8\n",
       "min_to_subway             8\n",
       "has_doorman               8\n",
       "has_elevator              8\n",
       "has_fireplace             8\n",
       "has_dishwasher            8\n",
       "is_furnished              8\n",
       "has_gym                   8\n",
       "allows_pets               8\n",
       "has_washer_dryer          8\n",
       "has_garage                8\n",
       "has_roofdeck              8\n",
       "has_concierge             8\n",
       "has_pool                  8\n",
       "has_garden                8\n",
       "has_childrens_playroom    8\n",
       "rent                      8\n",
       "no_fee                    8\n",
       "description               8\n",
       "neighborhood              8\n",
       "borough                   8\n",
       "unit                      7\n",
       "floornumber               8\n",
       "line                      3\n",
       "zip_average_income        8\n",
       "dtype: int64"
      ]
     },
     "execution_count": 21,
     "metadata": {},
     "output_type": "execute_result"
    }
   ],
   "source": [
    "md_df[md_df['rent']>40000].count()"
   ]
  },
  {
   "cell_type": "markdown",
   "metadata": {
    "colab_type": "text",
    "id": "oi-VpdMNz501"
   },
   "source": [
    "**drop size_sqrt = 0 for now, since there are 713 rows, might replace with mode when creating models**"
   ]
  },
  {
   "cell_type": "code",
   "execution_count": 22,
   "metadata": {
    "colab": {
     "base_uri": "https://localhost:8080/",
     "height": 221
    },
    "colab_type": "code",
    "id": "eVa8L2Siz502",
    "outputId": "0f656e3b-3d27-4293-ddbd-7060922f32f5"
   },
   "outputs": [
    {
     "name": "stdout",
     "output_type": "stream",
     "text": [
      "rent :  (12000, 39)\n",
      "rent :  (11992, 39)\n",
      "bathrooms :  (11992, 39)\n",
      "bathrooms :  (11987, 39)\n",
      "size_sqft :  (11987, 39)\n",
      "size_sqft :  (11149, 39)\n",
      "year_built :  (11149, 39)\n",
      "year_built :  (11082, 39)\n",
      "min_to_subway :  (11082, 39)\n",
      "min_to_subway :  (10954, 39)\n",
      "floornumber :  (10954, 39)\n",
      "floornumber :  (10940, 39)\n"
     ]
    }
   ],
   "source": [
    "def remove_outliers(md_df, feature, low_value, high_value):\n",
    "    print(feature, ': ', md_df.shape)\n",
    "    md_df = md_df[md_df[feature]>low_value]\n",
    "    md_df = md_df[md_df[feature]<=high_value]\n",
    "    md_df.reset_index(drop=True,inplace=True)\n",
    "    print(feature, ': ', md_df.shape)\n",
    "    return md_df\n",
    "\n",
    "md_df = remove_outliers(md_df, 'rent', 0, 40000)\n",
    "md_df = remove_outliers(md_df, 'bathrooms', 0, 12)\n",
    "md_df = remove_outliers(md_df, 'size_sqft', 0, 10000)\n",
    "md_df = remove_outliers(md_df, 'year_built', 1700, 2019)\n",
    "md_df = remove_outliers(md_df, 'min_to_subway', 0, 60)\n",
    "md_df = remove_outliers(md_df, 'floornumber', 0, 60)\n",
    "\n",
    "md_df['year_built'] = 2019 - md_df['year_built'].astype(int)"
   ]
  },
  {
   "cell_type": "markdown",
   "metadata": {
    "colab_type": "text",
    "id": "EdMZuLXPz504"
   },
   "source": [
    "### Encode categorical feature and drop useless features"
   ]
  },
  {
   "cell_type": "code",
   "execution_count": 23,
   "metadata": {
    "colab": {},
    "colab_type": "code",
    "id": "Yk6n-wuhz504"
   },
   "outputs": [],
   "source": [
    "boroughs = np.array(md_df['borough'].unique())\n",
    "\n",
    "for borough in boroughs:\n",
    "    md_df[borough] = md_df['borough'].apply(lambda x : int(x == borough))\n",
    "    raw_test_df[borough] = raw_test_df['borough'].apply(lambda x : int(x == borough))\n",
    "\n",
    "features_notNeed = ['addr_unit', 'building_id', 'created_at', 'addr_street', 'addr_city', 'addr_zip', 'bin', 'bbl', 'description', \\\n",
    "                    'neighborhood', 'unit', 'borough', 'line']\n",
    "\n",
    "md_df = md_df.drop(features_notNeed, axis=1)"
   ]
  },
  {
   "cell_type": "markdown",
   "metadata": {
    "colab_type": "text",
    "id": "R8wB_RrBz507"
   },
   "source": [
    "### Use pair coorelation for continuous features"
   ]
  },
  {
   "cell_type": "code",
   "execution_count": 24,
   "metadata": {
    "colab": {},
    "colab_type": "code",
    "id": "0T9tc1Sgz507",
    "outputId": "38ac2670-e06b-4b0e-a12d-4578b89aa04b"
   },
   "outputs": [
    {
     "data": {
      "text/plain": [
       "bathrooms             0.640694\n",
       "bedrooms              0.356034\n",
       "size_sqft             0.687094\n",
       "floor_count           0.260418\n",
       "year_built           -0.108018\n",
       "min_to_subway        -0.085295\n",
       "floornumber           0.246378\n",
       "zip_average_income    0.425890\n",
       "Name: rent, dtype: float64"
      ]
     },
     "execution_count": 24,
     "metadata": {},
     "output_type": "execute_result"
    }
   ],
   "source": [
    "continuous_df = md_df[continuous_features+['rent']]\n",
    "continuous_df.corr()['rent'][:-1]"
   ]
  },
  {
   "cell_type": "markdown",
   "metadata": {
    "colab_type": "text",
    "id": "1oR3OgtGz50_"
   },
   "source": [
    "### Check coorelation for binary features"
   ]
  },
  {
   "cell_type": "code",
   "execution_count": 25,
   "metadata": {
    "colab": {},
    "colab_type": "code",
    "id": "Hpz9vhlAz51A",
    "outputId": "adda346d-1d76-4ae2-d0f8-5dcb4b165f24"
   },
   "outputs": [
    {
     "data": {
      "text/html": [
       "<div>\n",
       "<style scoped>\n",
       "    .dataframe tbody tr th:only-of-type {\n",
       "        vertical-align: middle;\n",
       "    }\n",
       "\n",
       "    .dataframe tbody tr th {\n",
       "        vertical-align: top;\n",
       "    }\n",
       "\n",
       "    .dataframe thead th {\n",
       "        text-align: right;\n",
       "    }\n",
       "</style>\n",
       "<table border=\"1\" class=\"dataframe\">\n",
       "  <thead>\n",
       "    <tr style=\"text-align: right;\">\n",
       "      <th></th>\n",
       "      <th>Coorelation</th>\n",
       "      <th>Feature</th>\n",
       "    </tr>\n",
       "  </thead>\n",
       "  <tbody>\n",
       "    <tr>\n",
       "      <th>0</th>\n",
       "      <td>1.0</td>\n",
       "      <td>has_doorman</td>\n",
       "    </tr>\n",
       "    <tr>\n",
       "      <th>1</th>\n",
       "      <td>1.0</td>\n",
       "      <td>has_elevator</td>\n",
       "    </tr>\n",
       "    <tr>\n",
       "      <th>2</th>\n",
       "      <td>1.0</td>\n",
       "      <td>has_fireplace</td>\n",
       "    </tr>\n",
       "    <tr>\n",
       "      <th>3</th>\n",
       "      <td>1.0</td>\n",
       "      <td>has_dishwasher</td>\n",
       "    </tr>\n",
       "    <tr>\n",
       "      <th>4</th>\n",
       "      <td>1.0</td>\n",
       "      <td>is_furnished</td>\n",
       "    </tr>\n",
       "    <tr>\n",
       "      <th>5</th>\n",
       "      <td>1.0</td>\n",
       "      <td>has_gym</td>\n",
       "    </tr>\n",
       "    <tr>\n",
       "      <th>6</th>\n",
       "      <td>1.0</td>\n",
       "      <td>allows_pets</td>\n",
       "    </tr>\n",
       "    <tr>\n",
       "      <th>7</th>\n",
       "      <td>1.0</td>\n",
       "      <td>has_washer_dryer</td>\n",
       "    </tr>\n",
       "    <tr>\n",
       "      <th>8</th>\n",
       "      <td>1.0</td>\n",
       "      <td>has_garage</td>\n",
       "    </tr>\n",
       "    <tr>\n",
       "      <th>9</th>\n",
       "      <td>1.0</td>\n",
       "      <td>has_roofdeck</td>\n",
       "    </tr>\n",
       "    <tr>\n",
       "      <th>10</th>\n",
       "      <td>1.0</td>\n",
       "      <td>has_concierge</td>\n",
       "    </tr>\n",
       "    <tr>\n",
       "      <th>11</th>\n",
       "      <td>1.0</td>\n",
       "      <td>has_pool</td>\n",
       "    </tr>\n",
       "    <tr>\n",
       "      <th>12</th>\n",
       "      <td>1.0</td>\n",
       "      <td>has_garden</td>\n",
       "    </tr>\n",
       "    <tr>\n",
       "      <th>13</th>\n",
       "      <td>1.0</td>\n",
       "      <td>has_childrens_playroom</td>\n",
       "    </tr>\n",
       "    <tr>\n",
       "      <th>14</th>\n",
       "      <td>-1.0</td>\n",
       "      <td>no_fee</td>\n",
       "    </tr>\n",
       "  </tbody>\n",
       "</table>\n",
       "</div>"
      ],
      "text/plain": [
       "    Coorelation                 Feature\n",
       "0           1.0             has_doorman\n",
       "1           1.0            has_elevator\n",
       "2           1.0           has_fireplace\n",
       "3           1.0          has_dishwasher\n",
       "4           1.0            is_furnished\n",
       "5           1.0                 has_gym\n",
       "6           1.0             allows_pets\n",
       "7           1.0        has_washer_dryer\n",
       "8           1.0              has_garage\n",
       "9           1.0            has_roofdeck\n",
       "10          1.0           has_concierge\n",
       "11          1.0                has_pool\n",
       "12          1.0              has_garden\n",
       "13          1.0  has_childrens_playroom\n",
       "14         -1.0                  no_fee"
      ]
     },
     "execution_count": 25,
     "metadata": {},
     "output_type": "execute_result"
    }
   ],
   "source": [
    "md_df[binary_features+['rent']].corr()['rent'][:-1]\n",
    "coor_results= []\n",
    "\n",
    "for feature in binary_features:\n",
    "  df = raw_df.groupby([feature]).aggregate(['mean'])['rent']\n",
    "  df[feature]= df.index\n",
    "  coor_results.append(df.corr().iloc[0][1])\n",
    "coor_df = pd.DataFrame({'Coorelation': coor_results,'Feature':binary_features})\n",
    "coor_df\n"
   ]
  },
  {
   "cell_type": "markdown",
   "metadata": {
    "colab_type": "text",
    "id": "2yKBFlfwz51C"
   },
   "source": [
    "As we can see in the correlation table, all binary features highly affected the rents. When we build the models, we should include all binary features."
   ]
  },
  {
   "cell_type": "markdown",
   "metadata": {
    "colab_type": "text",
    "id": "d7UQLvU9z51D"
   },
   "source": [
    "# Build Models\n",
    " - We will be using cross validation to evaluate the performances of all our modles,and then deciding which should be the most suitable one, thus we will first create a function called get_cv_results to obtain the cv_performance.\n",
    " - we will try 5 different basic categorical models:`multiple regression, decision tree, random froest, Gradient Boosting Regression and Neural Network`"
   ]
  },
  {
   "cell_type": "code",
   "execution_count": 26,
   "metadata": {
    "colab": {},
    "colab_type": "code",
    "id": "E2YtMzPrz51E"
   },
   "outputs": [],
   "source": [
    "md_df = shuffle(md_df).reset_index(drop=True)\n"
   ]
  },
  {
   "cell_type": "code",
   "execution_count": 27,
   "metadata": {
    "colab": {},
    "colab_type": "code",
    "id": "7YFRHMFYz51G"
   },
   "outputs": [],
   "source": [
    "features = list(md_df.columns)\n",
    "features.remove('rent')\n",
    "k_fold = KFold(n_splits=10)"
   ]
  },
  {
   "cell_type": "code",
   "execution_count": 45,
   "metadata": {
    "colab": {},
    "colab_type": "code",
    "id": "AknQGhA5z51I"
   },
   "outputs": [],
   "source": [
    "def get_cv_results(regressor):\n",
    "    \n",
    "    results = []\n",
    "    for train, test in k_fold.split(md_df):\n",
    "        regressor.fit(md_df.loc[train, features], md_df.loc[train, 'rent'])\n",
    "        y_predicted = regressor.predict(md_df.loc[test, features])\n",
    "        accuracy = mean_squared_error(md_df.loc[test, 'rent'], y_predicted)\n",
    "        results.append(accuracy)\n",
    "\n",
    "    return np.mean(results), np.std(results)\n",
    "\n",
    "def get_test_result(regressor):\n",
    "    regressor.fit(md_df[features], md_df['rent'])\n",
    "    y_predicted = regressor.predict(raw_test_df[features])\n",
    "    accuracy = mean_squared_error(raw_test_df['rent'], y_predicted)\n",
    "    return accuracy"
   ]
  },
  {
   "cell_type": "markdown",
   "metadata": {
    "colab_type": "text",
    "id": "U6Eo0zUHz51K"
   },
   "source": [
    "### Radnom Forest Model"
   ]
  },
  {
   "cell_type": "code",
   "execution_count": 29,
   "metadata": {
    "colab": {},
    "colab_type": "code",
    "id": "9FtBQ3enz51L"
   },
   "outputs": [],
   "source": [
    "rforest = RandomForestRegressor(\n",
    "    random_state=11, \n",
    "    max_depth=10,\n",
    "    n_estimators=200\n",
    ")\n"
   ]
  },
  {
   "cell_type": "code",
   "execution_count": 37,
   "metadata": {
    "colab": {
     "base_uri": "https://localhost:8080/",
     "height": 34
    },
    "colab_type": "code",
    "id": "mSdqSbSez51N",
    "outputId": "1c0c0b9f-8026-4113-f1e1-65ccfea51fcb"
   },
   "outputs": [],
   "source": [
    "# get_cv_results(rforest)"
   ]
  },
  {
   "cell_type": "code",
   "execution_count": 46,
   "metadata": {},
   "outputs": [
    {
     "data": {
      "text/plain": [
       "1858636.6172359295"
      ]
     },
     "execution_count": 46,
     "metadata": {},
     "output_type": "execute_result"
    }
   ],
   "source": [
    "get_test_result(rforest)"
   ]
  },
  {
   "cell_type": "markdown",
   "metadata": {
    "colab_type": "text",
    "id": "3-raCdY4G96R"
   },
   "source": [
    "Now let's see how each features affected this model by checking the feature_importances"
   ]
  },
  {
   "cell_type": "code",
   "execution_count": null,
   "metadata": {
    "colab": {},
    "colab_type": "code",
    "id": "iOGKT8Ncz51Q",
    "outputId": "f586ad19-8d5a-40a6-9b7e-c8a0350c983c"
   },
   "outputs": [],
   "source": [
    "rforest.fit(md_df[features], md_df['rent'])  \n",
    "for feature,score in sorted(zip(features,rforest.feature_importances_), key=lambda x:x[1], reverse=True):\n",
    "    print(feature, ' ', score)"
   ]
  },
  {
   "cell_type": "markdown",
   "metadata": {
    "colab_type": "text",
    "id": "DoQlfyCZz51T"
   },
   "source": [
    "### Multiple Regression\n",
    " - Multiple regression is an extension of simple linear regression. It is used when we want to predict the value of a variable based on the value of two or more other variables\n",
    " - We will based on p value to choose significant variables(p<0.1)\n",
    " "
   ]
  },
  {
   "cell_type": "code",
   "execution_count": 32,
   "metadata": {
    "colab": {
     "base_uri": "https://localhost:8080/",
     "height": 1000
    },
    "colab_type": "code",
    "id": "zCx2KQlWz51U",
    "outputId": "8aa13d4f-350d-4573-f0cd-89bdcd11f8c2"
   },
   "outputs": [
    {
     "data": {
      "text/html": [
       "<table class=\"simpletable\">\n",
       "<caption>OLS Regression Results</caption>\n",
       "<tr>\n",
       "  <th>Dep. Variable:</th>          <td>rent</td>       <th>  R-squared:         </th> <td>   0.709</td> \n",
       "</tr>\n",
       "<tr>\n",
       "  <th>Model:</th>                   <td>OLS</td>       <th>  Adj. R-squared:    </th> <td>   0.708</td> \n",
       "</tr>\n",
       "<tr>\n",
       "  <th>Method:</th>             <td>Least Squares</td>  <th>  F-statistic:       </th> <td>   915.6</td> \n",
       "</tr>\n",
       "<tr>\n",
       "  <th>Date:</th>             <td>Sun, 01 Dec 2019</td> <th>  Prob (F-statistic):</th>  <td>  0.00</td>  \n",
       "</tr>\n",
       "<tr>\n",
       "  <th>Time:</th>                 <td>23:15:51</td>     <th>  Log-Likelihood:    </th> <td> -95322.</td> \n",
       "</tr>\n",
       "<tr>\n",
       "  <th>No. Observations:</th>      <td> 10940</td>      <th>  AIC:               </th> <td>1.907e+05</td>\n",
       "</tr>\n",
       "<tr>\n",
       "  <th>Df Residuals:</th>          <td> 10910</td>      <th>  BIC:               </th> <td>1.909e+05</td>\n",
       "</tr>\n",
       "<tr>\n",
       "  <th>Df Model:</th>              <td>    29</td>      <th>                     </th>     <td> </td>    \n",
       "</tr>\n",
       "<tr>\n",
       "  <th>Covariance Type:</th>      <td>nonrobust</td>    <th>                     </th>     <td> </td>    \n",
       "</tr>\n",
       "</table>\n",
       "<table class=\"simpletable\">\n",
       "<tr>\n",
       "             <td></td>               <th>coef</th>     <th>std err</th>      <th>t</th>      <th>P>|t|</th>  <th>[0.025</th>    <th>0.975]</th>  \n",
       "</tr>\n",
       "<tr>\n",
       "  <th>bedrooms</th>               <td>   91.8486</td> <td>   19.021</td> <td>    4.829</td> <td> 0.000</td> <td>   54.563</td> <td>  129.134</td>\n",
       "</tr>\n",
       "<tr>\n",
       "  <th>bathrooms</th>              <td> 1146.9631</td> <td>   36.993</td> <td>   31.005</td> <td> 0.000</td> <td> 1074.449</td> <td> 1219.477</td>\n",
       "</tr>\n",
       "<tr>\n",
       "  <th>size_sqft</th>              <td>    2.8692</td> <td>    0.046</td> <td>   62.046</td> <td> 0.000</td> <td>    2.779</td> <td>    2.960</td>\n",
       "</tr>\n",
       "<tr>\n",
       "  <th>addr_lat</th>               <td> 2424.8337</td> <td>  464.460</td> <td>    5.221</td> <td> 0.000</td> <td> 1514.408</td> <td> 3335.259</td>\n",
       "</tr>\n",
       "<tr>\n",
       "  <th>addr_lon</th>               <td>-6115.1872</td> <td>  549.597</td> <td>  -11.127</td> <td> 0.000</td> <td>-7192.498</td> <td>-5037.877</td>\n",
       "</tr>\n",
       "<tr>\n",
       "  <th>floor_count</th>            <td>  -14.5776</td> <td>    2.377</td> <td>   -6.132</td> <td> 0.000</td> <td>  -19.237</td> <td>   -9.918</td>\n",
       "</tr>\n",
       "<tr>\n",
       "  <th>year_built</th>             <td>    0.1077</td> <td>    0.500</td> <td>    0.216</td> <td> 0.829</td> <td>   -0.872</td> <td>    1.087</td>\n",
       "</tr>\n",
       "<tr>\n",
       "  <th>min_to_subway</th>          <td>  -22.2416</td> <td>    4.008</td> <td>   -5.549</td> <td> 0.000</td> <td>  -30.098</td> <td>  -14.385</td>\n",
       "</tr>\n",
       "<tr>\n",
       "  <th>has_doorman</th>            <td>   97.9487</td> <td>   52.738</td> <td>    1.857</td> <td> 0.063</td> <td>   -5.427</td> <td>  201.325</td>\n",
       "</tr>\n",
       "<tr>\n",
       "  <th>has_elevator</th>           <td>  346.8992</td> <td>   42.847</td> <td>    8.096</td> <td> 0.000</td> <td>  262.912</td> <td>  430.887</td>\n",
       "</tr>\n",
       "<tr>\n",
       "  <th>has_fireplace</th>          <td>  514.5463</td> <td>   76.748</td> <td>    6.704</td> <td> 0.000</td> <td>  364.106</td> <td>  664.987</td>\n",
       "</tr>\n",
       "<tr>\n",
       "  <th>has_dishwasher</th>         <td> -169.9125</td> <td>   32.610</td> <td>   -5.210</td> <td> 0.000</td> <td> -233.834</td> <td> -105.991</td>\n",
       "</tr>\n",
       "<tr>\n",
       "  <th>is_furnished</th>           <td>  642.6605</td> <td>   84.736</td> <td>    7.584</td> <td> 0.000</td> <td>  476.563</td> <td>  808.758</td>\n",
       "</tr>\n",
       "<tr>\n",
       "  <th>has_gym</th>                <td>  308.9891</td> <td>   53.330</td> <td>    5.794</td> <td> 0.000</td> <td>  204.453</td> <td>  413.525</td>\n",
       "</tr>\n",
       "<tr>\n",
       "  <th>allows_pets</th>            <td>  141.6388</td> <td>   31.519</td> <td>    4.494</td> <td> 0.000</td> <td>   79.856</td> <td>  203.422</td>\n",
       "</tr>\n",
       "<tr>\n",
       "  <th>has_washer_dryer</th>       <td>  330.3975</td> <td>   36.749</td> <td>    8.991</td> <td> 0.000</td> <td>  258.363</td> <td>  402.432</td>\n",
       "</tr>\n",
       "<tr>\n",
       "  <th>has_garage</th>             <td>  -77.0545</td> <td>   44.103</td> <td>   -1.747</td> <td> 0.081</td> <td> -163.505</td> <td>    9.396</td>\n",
       "</tr>\n",
       "<tr>\n",
       "  <th>has_roofdeck</th>           <td>  164.7736</td> <td>   40.151</td> <td>    4.104</td> <td> 0.000</td> <td>   86.071</td> <td>  243.477</td>\n",
       "</tr>\n",
       "<tr>\n",
       "  <th>has_concierge</th>          <td>  217.4513</td> <td>   54.452</td> <td>    3.993</td> <td> 0.000</td> <td>  110.716</td> <td>  324.187</td>\n",
       "</tr>\n",
       "<tr>\n",
       "  <th>has_pool</th>               <td>  131.2809</td> <td>   64.221</td> <td>    2.044</td> <td> 0.041</td> <td>    5.396</td> <td>  257.166</td>\n",
       "</tr>\n",
       "<tr>\n",
       "  <th>has_garden</th>             <td>  -30.7361</td> <td>   44.280</td> <td>   -0.694</td> <td> 0.488</td> <td> -117.532</td> <td>   56.060</td>\n",
       "</tr>\n",
       "<tr>\n",
       "  <th>has_childrens_playroom</th> <td>  103.8946</td> <td>   59.653</td> <td>    1.742</td> <td> 0.082</td> <td>  -13.036</td> <td>  220.826</td>\n",
       "</tr>\n",
       "<tr>\n",
       "  <th>no_fee</th>                 <td> -143.9022</td> <td>   32.151</td> <td>   -4.476</td> <td> 0.000</td> <td> -206.923</td> <td>  -80.881</td>\n",
       "</tr>\n",
       "<tr>\n",
       "  <th>floornumber</th>            <td>   21.7347</td> <td>    2.993</td> <td>    7.263</td> <td> 0.000</td> <td>   15.869</td> <td>   27.601</td>\n",
       "</tr>\n",
       "<tr>\n",
       "  <th>zip_average_income</th>     <td>    0.0028</td> <td>    0.000</td> <td>   21.349</td> <td> 0.000</td> <td>    0.003</td> <td>    0.003</td>\n",
       "</tr>\n",
       "<tr>\n",
       "  <th>Brooklyn</th>               <td>-5.526e+05</td> <td> 5.03e+04</td> <td>  -10.986</td> <td> 0.000</td> <td>-6.51e+05</td> <td>-4.54e+05</td>\n",
       "</tr>\n",
       "<tr>\n",
       "  <th>Manhattan</th>              <td>-5.521e+05</td> <td> 5.03e+04</td> <td>  -10.970</td> <td> 0.000</td> <td>-6.51e+05</td> <td>-4.53e+05</td>\n",
       "</tr>\n",
       "<tr>\n",
       "  <th>Queens</th>                 <td>-5.525e+05</td> <td> 5.03e+04</td> <td>  -10.987</td> <td> 0.000</td> <td>-6.51e+05</td> <td>-4.54e+05</td>\n",
       "</tr>\n",
       "<tr>\n",
       "  <th>Bronx</th>                  <td>-5.533e+05</td> <td> 5.03e+04</td> <td>  -10.994</td> <td> 0.000</td> <td>-6.52e+05</td> <td>-4.55e+05</td>\n",
       "</tr>\n",
       "<tr>\n",
       "  <th>Staten Island</th>          <td>-5.542e+05</td> <td> 5.04e+04</td> <td>  -11.005</td> <td> 0.000</td> <td>-6.53e+05</td> <td>-4.55e+05</td>\n",
       "</tr>\n",
       "</table>\n",
       "<table class=\"simpletable\">\n",
       "<tr>\n",
       "  <th>Omnibus:</th>       <td>8069.318</td> <th>  Durbin-Watson:     </th>  <td>   2.010</td>  \n",
       "</tr>\n",
       "<tr>\n",
       "  <th>Prob(Omnibus):</th>  <td> 0.000</td>  <th>  Jarque-Bera (JB):  </th> <td>2260116.196</td>\n",
       "</tr>\n",
       "<tr>\n",
       "  <th>Skew:</th>           <td> 2.492</td>  <th>  Prob(JB):          </th>  <td>    0.00</td>  \n",
       "</tr>\n",
       "<tr>\n",
       "  <th>Kurtosis:</th>       <td>73.238</td>  <th>  Cond. No.          </th>  <td>1.89e+09</td>  \n",
       "</tr>\n",
       "</table><br/><br/>Warnings:<br/>[1] Standard Errors assume that the covariance matrix of the errors is correctly specified.<br/>[2] The condition number is large, 1.89e+09. This might indicate that there are<br/>strong multicollinearity or other numerical problems."
      ],
      "text/plain": [
       "<class 'statsmodels.iolib.summary.Summary'>\n",
       "\"\"\"\n",
       "                            OLS Regression Results                            \n",
       "==============================================================================\n",
       "Dep. Variable:                   rent   R-squared:                       0.709\n",
       "Model:                            OLS   Adj. R-squared:                  0.708\n",
       "Method:                 Least Squares   F-statistic:                     915.6\n",
       "Date:                Sun, 01 Dec 2019   Prob (F-statistic):               0.00\n",
       "Time:                        23:15:51   Log-Likelihood:                -95322.\n",
       "No. Observations:               10940   AIC:                         1.907e+05\n",
       "Df Residuals:                   10910   BIC:                         1.909e+05\n",
       "Df Model:                          29                                         \n",
       "Covariance Type:            nonrobust                                         \n",
       "==========================================================================================\n",
       "                             coef    std err          t      P>|t|      [0.025      0.975]\n",
       "------------------------------------------------------------------------------------------\n",
       "bedrooms                  91.8486     19.021      4.829      0.000      54.563     129.134\n",
       "bathrooms               1146.9631     36.993     31.005      0.000    1074.449    1219.477\n",
       "size_sqft                  2.8692      0.046     62.046      0.000       2.779       2.960\n",
       "addr_lat                2424.8337    464.460      5.221      0.000    1514.408    3335.259\n",
       "addr_lon               -6115.1872    549.597    -11.127      0.000   -7192.498   -5037.877\n",
       "floor_count              -14.5776      2.377     -6.132      0.000     -19.237      -9.918\n",
       "year_built                 0.1077      0.500      0.216      0.829      -0.872       1.087\n",
       "min_to_subway            -22.2416      4.008     -5.549      0.000     -30.098     -14.385\n",
       "has_doorman               97.9487     52.738      1.857      0.063      -5.427     201.325\n",
       "has_elevator             346.8992     42.847      8.096      0.000     262.912     430.887\n",
       "has_fireplace            514.5463     76.748      6.704      0.000     364.106     664.987\n",
       "has_dishwasher          -169.9125     32.610     -5.210      0.000    -233.834    -105.991\n",
       "is_furnished             642.6605     84.736      7.584      0.000     476.563     808.758\n",
       "has_gym                  308.9891     53.330      5.794      0.000     204.453     413.525\n",
       "allows_pets              141.6388     31.519      4.494      0.000      79.856     203.422\n",
       "has_washer_dryer         330.3975     36.749      8.991      0.000     258.363     402.432\n",
       "has_garage               -77.0545     44.103     -1.747      0.081    -163.505       9.396\n",
       "has_roofdeck             164.7736     40.151      4.104      0.000      86.071     243.477\n",
       "has_concierge            217.4513     54.452      3.993      0.000     110.716     324.187\n",
       "has_pool                 131.2809     64.221      2.044      0.041       5.396     257.166\n",
       "has_garden               -30.7361     44.280     -0.694      0.488    -117.532      56.060\n",
       "has_childrens_playroom   103.8946     59.653      1.742      0.082     -13.036     220.826\n",
       "no_fee                  -143.9022     32.151     -4.476      0.000    -206.923     -80.881\n",
       "floornumber               21.7347      2.993      7.263      0.000      15.869      27.601\n",
       "zip_average_income         0.0028      0.000     21.349      0.000       0.003       0.003\n",
       "Brooklyn               -5.526e+05   5.03e+04    -10.986      0.000   -6.51e+05   -4.54e+05\n",
       "Manhattan              -5.521e+05   5.03e+04    -10.970      0.000   -6.51e+05   -4.53e+05\n",
       "Queens                 -5.525e+05   5.03e+04    -10.987      0.000   -6.51e+05   -4.54e+05\n",
       "Bronx                  -5.533e+05   5.03e+04    -10.994      0.000   -6.52e+05   -4.55e+05\n",
       "Staten Island          -5.542e+05   5.04e+04    -11.005      0.000   -6.53e+05   -4.55e+05\n",
       "==============================================================================\n",
       "Omnibus:                     8069.318   Durbin-Watson:                   2.010\n",
       "Prob(Omnibus):                  0.000   Jarque-Bera (JB):          2260116.196\n",
       "Skew:                           2.492   Prob(JB):                         0.00\n",
       "Kurtosis:                      73.238   Cond. No.                     1.89e+09\n",
       "==============================================================================\n",
       "\n",
       "Warnings:\n",
       "[1] Standard Errors assume that the covariance matrix of the errors is correctly specified.\n",
       "[2] The condition number is large, 1.89e+09. This might indicate that there are\n",
       "strong multicollinearity or other numerical problems.\n",
       "\"\"\""
      ]
     },
     "execution_count": 32,
     "metadata": {},
     "output_type": "execute_result"
    }
   ],
   "source": [
    "mul_reg_features = features[:]\n",
    "x = md_df[features] \n",
    "y = md_df['rent']\n",
    "est = sm.OLS(y, x).fit()\n",
    "est.summary()"
   ]
  },
  {
   "cell_type": "markdown",
   "metadata": {
    "colab_type": "text",
    "id": "K0JZnMWLz51X"
   },
   "source": [
    "- As we can see, variables has_garden and year_built have P value > 0.1\n",
    "- After we remove these two variables, all P values are < 0.1"
   ]
  },
  {
   "cell_type": "code",
   "execution_count": 33,
   "metadata": {
    "colab": {
     "base_uri": "https://localhost:8080/",
     "height": 1000
    },
    "colab_type": "code",
    "id": "qZQRPWFEz51X",
    "outputId": "f7da8447-aefe-44b5-c6ab-c0891405a842"
   },
   "outputs": [
    {
     "data": {
      "text/html": [
       "<table class=\"simpletable\">\n",
       "<caption>OLS Regression Results</caption>\n",
       "<tr>\n",
       "  <th>Dep. Variable:</th>          <td>rent</td>       <th>  R-squared:         </th> <td>   0.709</td> \n",
       "</tr>\n",
       "<tr>\n",
       "  <th>Model:</th>                   <td>OLS</td>       <th>  Adj. R-squared:    </th> <td>   0.708</td> \n",
       "</tr>\n",
       "<tr>\n",
       "  <th>Method:</th>             <td>Least Squares</td>  <th>  F-statistic:       </th> <td>   983.5</td> \n",
       "</tr>\n",
       "<tr>\n",
       "  <th>Date:</th>             <td>Sun, 01 Dec 2019</td> <th>  Prob (F-statistic):</th>  <td>  0.00</td>  \n",
       "</tr>\n",
       "<tr>\n",
       "  <th>Time:</th>                 <td>23:15:55</td>     <th>  Log-Likelihood:    </th> <td> -95322.</td> \n",
       "</tr>\n",
       "<tr>\n",
       "  <th>No. Observations:</th>      <td> 10940</td>      <th>  AIC:               </th> <td>1.907e+05</td>\n",
       "</tr>\n",
       "<tr>\n",
       "  <th>Df Residuals:</th>          <td> 10912</td>      <th>  BIC:               </th> <td>1.909e+05</td>\n",
       "</tr>\n",
       "<tr>\n",
       "  <th>Df Model:</th>              <td>    27</td>      <th>                     </th>     <td> </td>    \n",
       "</tr>\n",
       "<tr>\n",
       "  <th>Covariance Type:</th>      <td>nonrobust</td>    <th>                     </th>     <td> </td>    \n",
       "</tr>\n",
       "</table>\n",
       "<table class=\"simpletable\">\n",
       "<tr>\n",
       "             <td></td>               <th>coef</th>     <th>std err</th>      <th>t</th>      <th>P>|t|</th>  <th>[0.025</th>    <th>0.975]</th>  \n",
       "</tr>\n",
       "<tr>\n",
       "  <th>bedrooms</th>               <td>   92.1276</td> <td>   19.014</td> <td>    4.845</td> <td> 0.000</td> <td>   54.856</td> <td>  129.399</td>\n",
       "</tr>\n",
       "<tr>\n",
       "  <th>bathrooms</th>              <td> 1146.8240</td> <td>   36.882</td> <td>   31.095</td> <td> 0.000</td> <td> 1074.529</td> <td> 1219.119</td>\n",
       "</tr>\n",
       "<tr>\n",
       "  <th>size_sqft</th>              <td>    2.8669</td> <td>    0.046</td> <td>   62.525</td> <td> 0.000</td> <td>    2.777</td> <td>    2.957</td>\n",
       "</tr>\n",
       "<tr>\n",
       "  <th>addr_lat</th>               <td> 2410.9970</td> <td>  464.042</td> <td>    5.196</td> <td> 0.000</td> <td> 1501.391</td> <td> 3320.603</td>\n",
       "</tr>\n",
       "<tr>\n",
       "  <th>addr_lon</th>               <td>-6129.1056</td> <td>  547.925</td> <td>  -11.186</td> <td> 0.000</td> <td>-7203.138</td> <td>-5055.073</td>\n",
       "</tr>\n",
       "<tr>\n",
       "  <th>floor_count</th>            <td>  -14.5928</td> <td>    2.344</td> <td>   -6.225</td> <td> 0.000</td> <td>  -19.188</td> <td>   -9.998</td>\n",
       "</tr>\n",
       "<tr>\n",
       "  <th>min_to_subway</th>          <td>  -22.5215</td> <td>    3.983</td> <td>   -5.654</td> <td> 0.000</td> <td>  -30.329</td> <td>  -14.714</td>\n",
       "</tr>\n",
       "<tr>\n",
       "  <th>has_doorman</th>            <td>   96.8769</td> <td>   52.692</td> <td>    1.839</td> <td> 0.066</td> <td>   -6.409</td> <td>  200.163</td>\n",
       "</tr>\n",
       "<tr>\n",
       "  <th>has_elevator</th>           <td>  345.9685</td> <td>   42.171</td> <td>    8.204</td> <td> 0.000</td> <td>  263.306</td> <td>  428.631</td>\n",
       "</tr>\n",
       "<tr>\n",
       "  <th>has_fireplace</th>          <td>  513.8390</td> <td>   76.593</td> <td>    6.709</td> <td> 0.000</td> <td>  363.702</td> <td>  663.976</td>\n",
       "</tr>\n",
       "<tr>\n",
       "  <th>has_dishwasher</th>         <td> -170.2842</td> <td>   32.585</td> <td>   -5.226</td> <td> 0.000</td> <td> -234.156</td> <td> -106.412</td>\n",
       "</tr>\n",
       "<tr>\n",
       "  <th>is_furnished</th>           <td>  642.3644</td> <td>   84.640</td> <td>    7.589</td> <td> 0.000</td> <td>  476.454</td> <td>  808.275</td>\n",
       "</tr>\n",
       "<tr>\n",
       "  <th>has_gym</th>                <td>  307.4210</td> <td>   52.926</td> <td>    5.808</td> <td> 0.000</td> <td>  203.676</td> <td>  411.166</td>\n",
       "</tr>\n",
       "<tr>\n",
       "  <th>allows_pets</th>            <td>  140.6244</td> <td>   31.468</td> <td>    4.469</td> <td> 0.000</td> <td>   78.941</td> <td>  202.308</td>\n",
       "</tr>\n",
       "<tr>\n",
       "  <th>has_washer_dryer</th>       <td>  329.1386</td> <td>   36.470</td> <td>    9.025</td> <td> 0.000</td> <td>  257.651</td> <td>  400.627</td>\n",
       "</tr>\n",
       "<tr>\n",
       "  <th>has_garage</th>             <td>  -80.2326</td> <td>   43.721</td> <td>   -1.835</td> <td> 0.067</td> <td> -165.933</td> <td>    5.468</td>\n",
       "</tr>\n",
       "<tr>\n",
       "  <th>has_roofdeck</th>           <td>  161.9933</td> <td>   39.693</td> <td>    4.081</td> <td> 0.000</td> <td>   84.188</td> <td>  239.799</td>\n",
       "</tr>\n",
       "<tr>\n",
       "  <th>has_concierge</th>          <td>  214.6486</td> <td>   54.285</td> <td>    3.954</td> <td> 0.000</td> <td>  108.241</td> <td>  321.056</td>\n",
       "</tr>\n",
       "<tr>\n",
       "  <th>has_pool</th>               <td>  131.9775</td> <td>   64.209</td> <td>    2.055</td> <td> 0.040</td> <td>    6.116</td> <td>  257.838</td>\n",
       "</tr>\n",
       "<tr>\n",
       "  <th>has_childrens_playroom</th> <td>   96.9684</td> <td>   58.754</td> <td>    1.650</td> <td> 0.099</td> <td>  -18.201</td> <td>  212.137</td>\n",
       "</tr>\n",
       "<tr>\n",
       "  <th>no_fee</th>                 <td> -143.8134</td> <td>   32.147</td> <td>   -4.474</td> <td> 0.000</td> <td> -206.827</td> <td>  -80.799</td>\n",
       "</tr>\n",
       "<tr>\n",
       "  <th>floornumber</th>            <td>   21.7821</td> <td>    2.991</td> <td>    7.282</td> <td> 0.000</td> <td>   15.919</td> <td>   27.646</td>\n",
       "</tr>\n",
       "<tr>\n",
       "  <th>zip_average_income</th>     <td>    0.0028</td> <td>    0.000</td> <td>   21.350</td> <td> 0.000</td> <td>    0.003</td> <td>    0.003</td>\n",
       "</tr>\n",
       "<tr>\n",
       "  <th>Brooklyn</th>               <td>-5.531e+05</td> <td> 5.02e+04</td> <td>  -11.014</td> <td> 0.000</td> <td>-6.52e+05</td> <td>-4.55e+05</td>\n",
       "</tr>\n",
       "<tr>\n",
       "  <th>Manhattan</th>              <td>-5.526e+05</td> <td> 5.02e+04</td> <td>  -10.998</td> <td> 0.000</td> <td>-6.51e+05</td> <td>-4.54e+05</td>\n",
       "</tr>\n",
       "<tr>\n",
       "  <th>Queens</th>                 <td> -5.53e+05</td> <td> 5.02e+04</td> <td>  -11.015</td> <td> 0.000</td> <td>-6.51e+05</td> <td>-4.55e+05</td>\n",
       "</tr>\n",
       "<tr>\n",
       "  <th>Bronx</th>                  <td>-5.538e+05</td> <td> 5.02e+04</td> <td>  -11.022</td> <td> 0.000</td> <td>-6.52e+05</td> <td>-4.55e+05</td>\n",
       "</tr>\n",
       "<tr>\n",
       "  <th>Staten Island</th>          <td>-5.547e+05</td> <td> 5.03e+04</td> <td>  -11.033</td> <td> 0.000</td> <td>-6.53e+05</td> <td>-4.56e+05</td>\n",
       "</tr>\n",
       "</table>\n",
       "<table class=\"simpletable\">\n",
       "<tr>\n",
       "  <th>Omnibus:</th>       <td>8067.981</td> <th>  Durbin-Watson:     </th>  <td>   2.010</td>  \n",
       "</tr>\n",
       "<tr>\n",
       "  <th>Prob(Omnibus):</th>  <td> 0.000</td>  <th>  Jarque-Bera (JB):  </th> <td>2257173.382</td>\n",
       "</tr>\n",
       "<tr>\n",
       "  <th>Skew:</th>           <td> 2.492</td>  <th>  Prob(JB):          </th>  <td>    0.00</td>  \n",
       "</tr>\n",
       "<tr>\n",
       "  <th>Kurtosis:</th>       <td>73.192</td>  <th>  Cond. No.          </th>  <td>1.89e+09</td>  \n",
       "</tr>\n",
       "</table><br/><br/>Warnings:<br/>[1] Standard Errors assume that the covariance matrix of the errors is correctly specified.<br/>[2] The condition number is large, 1.89e+09. This might indicate that there are<br/>strong multicollinearity or other numerical problems."
      ],
      "text/plain": [
       "<class 'statsmodels.iolib.summary.Summary'>\n",
       "\"\"\"\n",
       "                            OLS Regression Results                            \n",
       "==============================================================================\n",
       "Dep. Variable:                   rent   R-squared:                       0.709\n",
       "Model:                            OLS   Adj. R-squared:                  0.708\n",
       "Method:                 Least Squares   F-statistic:                     983.5\n",
       "Date:                Sun, 01 Dec 2019   Prob (F-statistic):               0.00\n",
       "Time:                        23:15:55   Log-Likelihood:                -95322.\n",
       "No. Observations:               10940   AIC:                         1.907e+05\n",
       "Df Residuals:                   10912   BIC:                         1.909e+05\n",
       "Df Model:                          27                                         \n",
       "Covariance Type:            nonrobust                                         \n",
       "==========================================================================================\n",
       "                             coef    std err          t      P>|t|      [0.025      0.975]\n",
       "------------------------------------------------------------------------------------------\n",
       "bedrooms                  92.1276     19.014      4.845      0.000      54.856     129.399\n",
       "bathrooms               1146.8240     36.882     31.095      0.000    1074.529    1219.119\n",
       "size_sqft                  2.8669      0.046     62.525      0.000       2.777       2.957\n",
       "addr_lat                2410.9970    464.042      5.196      0.000    1501.391    3320.603\n",
       "addr_lon               -6129.1056    547.925    -11.186      0.000   -7203.138   -5055.073\n",
       "floor_count              -14.5928      2.344     -6.225      0.000     -19.188      -9.998\n",
       "min_to_subway            -22.5215      3.983     -5.654      0.000     -30.329     -14.714\n",
       "has_doorman               96.8769     52.692      1.839      0.066      -6.409     200.163\n",
       "has_elevator             345.9685     42.171      8.204      0.000     263.306     428.631\n",
       "has_fireplace            513.8390     76.593      6.709      0.000     363.702     663.976\n",
       "has_dishwasher          -170.2842     32.585     -5.226      0.000    -234.156    -106.412\n",
       "is_furnished             642.3644     84.640      7.589      0.000     476.454     808.275\n",
       "has_gym                  307.4210     52.926      5.808      0.000     203.676     411.166\n",
       "allows_pets              140.6244     31.468      4.469      0.000      78.941     202.308\n",
       "has_washer_dryer         329.1386     36.470      9.025      0.000     257.651     400.627\n",
       "has_garage               -80.2326     43.721     -1.835      0.067    -165.933       5.468\n",
       "has_roofdeck             161.9933     39.693      4.081      0.000      84.188     239.799\n",
       "has_concierge            214.6486     54.285      3.954      0.000     108.241     321.056\n",
       "has_pool                 131.9775     64.209      2.055      0.040       6.116     257.838\n",
       "has_childrens_playroom    96.9684     58.754      1.650      0.099     -18.201     212.137\n",
       "no_fee                  -143.8134     32.147     -4.474      0.000    -206.827     -80.799\n",
       "floornumber               21.7821      2.991      7.282      0.000      15.919      27.646\n",
       "zip_average_income         0.0028      0.000     21.350      0.000       0.003       0.003\n",
       "Brooklyn               -5.531e+05   5.02e+04    -11.014      0.000   -6.52e+05   -4.55e+05\n",
       "Manhattan              -5.526e+05   5.02e+04    -10.998      0.000   -6.51e+05   -4.54e+05\n",
       "Queens                  -5.53e+05   5.02e+04    -11.015      0.000   -6.51e+05   -4.55e+05\n",
       "Bronx                  -5.538e+05   5.02e+04    -11.022      0.000   -6.52e+05   -4.55e+05\n",
       "Staten Island          -5.547e+05   5.03e+04    -11.033      0.000   -6.53e+05   -4.56e+05\n",
       "==============================================================================\n",
       "Omnibus:                     8067.981   Durbin-Watson:                   2.010\n",
       "Prob(Omnibus):                  0.000   Jarque-Bera (JB):          2257173.382\n",
       "Skew:                           2.492   Prob(JB):                         0.00\n",
       "Kurtosis:                      73.192   Cond. No.                     1.89e+09\n",
       "==============================================================================\n",
       "\n",
       "Warnings:\n",
       "[1] Standard Errors assume that the covariance matrix of the errors is correctly specified.\n",
       "[2] The condition number is large, 1.89e+09. This might indicate that there are\n",
       "strong multicollinearity or other numerical problems.\n",
       "\"\"\""
      ]
     },
     "execution_count": 33,
     "metadata": {},
     "output_type": "execute_result"
    }
   ],
   "source": [
    "mul_reg_features.remove('has_garden')\n",
    "mul_reg_features.remove('year_built')\n",
    "x = md_df[mul_reg_features] \n",
    "y = md_df['rent']\n",
    "est = sm.OLS(y, x).fit()\n",
    "est.summary()"
   ]
  },
  {
   "cell_type": "code",
   "execution_count": 49,
   "metadata": {
    "colab": {
     "base_uri": "https://localhost:8080/",
     "height": 34
    },
    "colab_type": "code",
    "id": "nSPV3iW0z51Z",
    "outputId": "67f4e27f-aca1-4c39-985b-0c991f5b5551"
   },
   "outputs": [
    {
     "data": {
      "text/plain": [
       "3179113.1729842736"
      ]
     },
     "execution_count": 49,
     "metadata": {},
     "output_type": "execute_result"
    }
   ],
   "source": [
    "mul_reg = LinearRegression().fit(md_df[mul_reg_features], md_df['rent'])\n",
    "get_cv_results(mul_reg)\n",
    "get_test_result(mul_reg)"
   ]
  },
  {
   "cell_type": "markdown",
   "metadata": {
    "colab_type": "text",
    "id": "566BNiS_z51c"
   },
   "source": [
    "## Gradient Boosting Regression\n",
    "For the gradient boosting regressor we will first set up the hyperparameter max_depth=5 to avoid overfitting, will adjust more hyperparameter as we move on to improve the model\n"
   ]
  },
  {
   "cell_type": "code",
   "execution_count": 52,
   "metadata": {
    "colab": {
     "base_uri": "https://localhost:8080/",
     "height": 34
    },
    "colab_type": "code",
    "id": "DJGUq1egz51d",
    "outputId": "75609edb-bd16-4d6d-af15-7c9199b33bc7"
   },
   "outputs": [
    {
     "data": {
      "text/plain": [
       "(940827.1123515966, 215452.55335952216)"
      ]
     },
     "execution_count": 52,
     "metadata": {},
     "output_type": "execute_result"
    }
   ],
   "source": [
    "gbrdemo = GradientBoostingRegressor(\n",
    "    max_depth=5,\n",
    "    n_estimators=100\n",
    ")\n",
    "\n",
    "get_cv_results(gbrdemo)\n"
   ]
  },
  {
   "cell_type": "code",
   "execution_count": 53,
   "metadata": {},
   "outputs": [
    {
     "data": {
      "text/plain": [
       "1961258.5721124334"
      ]
     },
     "execution_count": 53,
     "metadata": {},
     "output_type": "execute_result"
    }
   ],
   "source": [
    "get_test_result(gbrdemo)"
   ]
  },
  {
   "cell_type": "code",
   "execution_count": null,
   "metadata": {
    "colab": {},
    "colab_type": "code",
    "id": "BRTqyIgwG96h"
   },
   "outputs": [],
   "source": [
    "gbrdemo = GradientBoostingRegressor(\n",
    "    max_depth=5,\n",
    "    n_estimators=100\n",
    ")"
   ]
  },
  {
   "cell_type": "markdown",
   "metadata": {
    "colab_type": "text",
    "id": "oQX1f6I5z51f"
   },
   "source": [
    "### Tuning Hyperparameters\n",
    "Now let's use GridSearchCV form sci-kit learn model_selection to tune the hyperparameters, and find the most suitable one for our Gradient Boosting Regression model.The choices of hyperparameters are obtained from the toturial code, and since this function took a long time to process, we are considering reduce the amount of hyperpraramters for testing.\n",
    "\n",
    "cited link: link: https://shankarmsy.github.io/stories/gbrt-sklearn.html"
   ]
  },
  {
   "cell_type": "code",
   "execution_count": null,
   "metadata": {
    "colab": {},
    "colab_type": "code",
    "id": "zAGQpu5Jz51f"
   },
   "outputs": [],
   "source": [
    "# Tuning the hyperparameters based on a cross-validation subset (cv)\n",
    "# cited link: link: https://shankarmsy.github.io/stories/gbrt-sklearn.html\n",
    "\n",
    "def GradientBooster():\n",
    "    \n",
    "    param_grid={'n_estimators':[100],\n",
    "            'learning_rate': [0.1, 0.05, 0.01],\n",
    "            'max_depth':[4, 5, 6],\n",
    "            'min_samples_leaf':[3, 5, 9],\n",
    "           }\n",
    "    \n",
    "    # choose cross validation generator and use ShuffleSplit which randomly shuffles and selects Train and CV sets\n",
    "    cv = ShuffleSplit(n_splits=5, test_size=.25, random_state=0)\n",
    "    \n",
    "    classifier = GridSearchCV(estimator = GradientBoostingRegressor(), param_grid=param_grid, n_jobs=4, cv=cv)\n",
    "    \n",
    "    classifier.fit(md_df[features], md_df['rent'])  \n",
    "    return classifier.best_params_"
   ]
  },
  {
   "cell_type": "code",
   "execution_count": null,
   "metadata": {
    "colab": {},
    "colab_type": "code",
    "id": "O3lO3Axnz51j",
    "outputId": "f7f11dee-9691-4427-fe9b-9ef3abbbd7a1"
   },
   "outputs": [],
   "source": [
    "# Since this function takes too long to run, it will waste a lot of time during development,\n",
    "# so we will just record the result for further usage. -----Runmin 11/18/19\n",
    "\"\"\"\n",
    "best_est=GradientBooster()\n",
    "\n",
    "print(\"Best Estimator Parameters:\")\n",
    "print(\"n_estimators: \",best_est['n_estimators'])\n",
    "print(\"max_depth: \", best_est['max_depth'])\n",
    "print(\"Learning Rate: \", best_est['learning_rate'])\n",
    "print(\"min_samples_leaf: \", best_est['min_samples_leaf'])\n",
    "\"\"\"\n",
    "print(\"Since this function takes too long to run, it will waste a lot of time during development,\\\n",
    "      \\nso we will just record the result for further usage:\")\n",
    "print(\"\\nBest Estimator Parameters:\")\n",
    "print(\"n_estimators: \",100)\n",
    "print(\"max_depth: \", 6)\n",
    "print(\"Learning Rate: \", 0.1)\n",
    "print(\"min_samples_leaf: \", 3)"
   ]
  },
  {
   "cell_type": "markdown",
   "metadata": {
    "colab_type": "text",
    "id": "j5kkgBUpz51l"
   },
   "source": [
    "As we can see from the result above, we have found the suitable hyperparameters for our model, thus we can use them to check if a better result will be obtained.\n"
   ]
  },
  {
   "cell_type": "code",
   "execution_count": null,
   "metadata": {
    "colab": {
     "base_uri": "https://localhost:8080/",
     "height": 34
    },
    "colab_type": "code",
    "id": "owPU2gYbz51m",
    "outputId": "b63d44ac-cb51-4606-c374-57f286188bfb"
   },
   "outputs": [],
   "source": [
    "bettergbr1 = GradientBoostingRegressor(\n",
    "    n_estimators=100,\n",
    "    max_depth=6,\n",
    "    learning_rate=0.1,\n",
    "    min_samples_leaf=3\n",
    ")\n",
    "\n",
    "get_cv_results(bettergbr1)"
   ]
  },
  {
   "cell_type": "markdown",
   "metadata": {
    "colab_type": "text",
    "id": "BOW7I6JPz51o"
   },
   "source": [
    "The mean squared error becomes unstable after applying the new set of hyperparameters, we've tried few test runs upon it, sometime the result get improved a lot but sometime it even makes the result worse, thus we might still be using the previous GradientBoosting regressor \"gbrdemo\" for a more stable prediction."
   ]
  },
  {
   "cell_type": "markdown",
   "metadata": {
    "colab_type": "text",
    "id": "oln3lQr1G96s"
   },
   "source": [
    "**Feature importances for Gradient Boosting Regression**"
   ]
  },
  {
   "cell_type": "code",
   "execution_count": null,
   "metadata": {
    "colab": {},
    "colab_type": "code",
    "id": "-lhkz-V1G96s",
    "outputId": "50f18c8d-8386-4ff6-fc9c-97bccacd4f95"
   },
   "outputs": [],
   "source": [
    "gbrdemo.fit(md_df[features], md_df['rent'])  \n",
    "for feature,score in sorted(zip(features,gbrdemo.feature_importances_), key=lambda x:x[1], reverse=True):\n",
    "    print(feature, ' ', score)"
   ]
  },
  {
   "cell_type": "markdown",
   "metadata": {
    "colab_type": "text",
    "id": "9z858Helz51o"
   },
   "source": [
    "##  Regression Tree Model\n",
    "From definition, decision trees where the target variable can take continuous values (typically real numbers) are called regression trees.\n",
    "Thus, in our case when we do the regression tree model, we actually use the decision tree classifer."
   ]
  },
  {
   "cell_type": "markdown",
   "metadata": {
    "colab_type": "text",
    "id": "u97chZ8pz51p"
   },
   "source": [
    "Train the regression tree model using default paramater"
   ]
  },
  {
   "cell_type": "code",
   "execution_count": null,
   "metadata": {
    "colab": {
     "base_uri": "https://localhost:8080/",
     "height": 102
    },
    "colab_type": "code",
    "id": "IM3MAJnPz51p",
    "outputId": "f7c790cb-8e92-4a78-f099-c4e459f5863b"
   },
   "outputs": [],
   "source": [
    "regtreemo = DecisionTreeRegressor(\n",
    "    random_state=1, \n",
    "    max_depth=None,\n",
    "    min_samples_leaf=1,\n",
    "    max_features=None,\n",
    "    max_leaf_nodes=None )\n",
    "\n",
    "regtreemo.fit(md_df[features], md_df['rent'])"
   ]
  },
  {
   "cell_type": "code",
   "execution_count": null,
   "metadata": {
    "colab": {
     "base_uri": "https://localhost:8080/",
     "height": 34
    },
    "colab_type": "code",
    "id": "65xtmTbNz51s",
    "outputId": "fe6aa1d8-ee9d-4e3f-e4a9-52fe5ab70725"
   },
   "outputs": [],
   "source": [
    "get_cv_results(regtreemo)"
   ]
  },
  {
   "cell_type": "markdown",
   "metadata": {
    "colab_type": "text",
    "id": "DJM4nC5Zz51w"
   },
   "source": [
    "Train the regression tree model using Hyperparameters that we found, so that we can compare the results among different models better."
   ]
  },
  {
   "cell_type": "code",
   "execution_count": null,
   "metadata": {
    "colab": {
     "base_uri": "https://localhost:8080/",
     "height": 102
    },
    "colab_type": "code",
    "id": "Fc3ALfdCz51x",
    "outputId": "5bdc1809-f233-4d7c-a90a-fd9697fca25b"
   },
   "outputs": [],
   "source": [
    "newregtreemo = DecisionTreeRegressor(\n",
    "    random_state=1, \n",
    "    max_depth=6,\n",
    "    min_samples_leaf=3 )\n",
    "\n",
    "newregtreemo.fit(md_df[features], md_df['rent'])"
   ]
  },
  {
   "cell_type": "code",
   "execution_count": null,
   "metadata": {
    "colab": {
     "base_uri": "https://localhost:8080/",
     "height": 34
    },
    "colab_type": "code",
    "id": "TVhscdXIz510",
    "outputId": "d970e422-8400-4ffc-f683-27815805e712"
   },
   "outputs": [],
   "source": [
    "get_cv_results(newregtreemo)"
   ]
  },
  {
   "cell_type": "markdown",
   "metadata": {
    "colab_type": "text",
    "id": "fv9pZ8ipz513"
   },
   "source": [
    "As we can see, the regression tree model that uses the Hyperparameters does have better result.\n",
    "But Gradient Boosting Regression still has the best result."
   ]
  },
  {
   "cell_type": "code",
   "execution_count": null,
   "metadata": {
    "colab": {},
    "colab_type": "code",
    "id": "NjrKKuhBz514",
    "outputId": "23433b47-9e54-4144-df4f-42e20ef12cac"
   },
   "outputs": [],
   "source": [
    "for feature,score in zip(features,newregtreemo.feature_importances_):\n",
    "    print(feature, ' ', score)"
   ]
  },
  {
   "cell_type": "markdown",
   "metadata": {
    "colab_type": "text",
    "id": "laDG73kzz516"
   },
   "source": [
    "### Learning Curve\n",
    "We can use the Learning Curves methods provided in lecture 8"
   ]
  },
  {
   "cell_type": "code",
   "execution_count": null,
   "metadata": {
    "colab": {},
    "colab_type": "code",
    "id": "fRc0BHUGz517",
    "outputId": "ca9c6315-6f45-48a2-ddf9-91e2030e6955"
   },
   "outputs": [],
   "source": [
    "hp_values = range(1,50,2)\n",
    "all_mu = []\n",
    "all_sigma = []\n",
    "\n",
    "for m in hp_values:\n",
    "\n",
    "    dtree=DecisionTreeClassifier(\n",
    "        criterion='entropy', \n",
    "        random_state=1, \n",
    "        max_depth=m,\n",
    "        min_samples_leaf=m,\n",
    "    )\n",
    "\n",
    "    mu, sigma = get_cv_results(dtree)\n",
    "    all_mu.append(mu)\n",
    "    all_sigma.append(sigma)\n",
    "    \n",
    "    print(m, mu, sigma)"
   ]
  },
  {
   "cell_type": "code",
   "execution_count": null,
   "metadata": {
    "colab": {},
    "colab_type": "code",
    "id": "SjwVqEAMz519",
    "outputId": "2474de1f-3ad0-465f-ed70-ce7fcdd4de8d"
   },
   "outputs": [],
   "source": [
    "plt.figure(figsize=(14, 5))\n",
    "plt.plot(hp_values, all_mu)\n",
    "plt.ylabel('Cross Validation Accuracy')\n",
    "plt.xlabel('Max Depth')"
   ]
  },
  {
   "cell_type": "code",
   "execution_count": null,
   "metadata": {
    "colab": {},
    "colab_type": "code",
    "id": "LCdgYSNqz51-",
    "outputId": "79185800-8a0c-402e-b9e2-dcb185087fb3"
   },
   "outputs": [],
   "source": [
    "plt.figure(figsize=(14, 5))\n",
    "plt.plot(hp_values, all_sigma)\n",
    "plt.ylabel('Cross Validation Std Dev.')\n",
    "plt.xlabel('Max Depth')"
   ]
  },
  {
   "cell_type": "markdown",
   "metadata": {
    "colab_type": "text",
    "id": "rrr5UbB8z52B"
   },
   "source": [
    "### Neural Network\n",
    "Neural networks are a set of algorithms, modeled loosely after the human brain, that are designed to recognize patterns. They interpret sensory data through a kind of machine perception, labeling or clustering raw input.(source:https://skymind.ai/wiki/neural-network)"
   ]
  },
  {
   "cell_type": "code",
   "execution_count": null,
   "metadata": {
    "colab": {},
    "colab_type": "code",
    "id": "U8xBcG-Sz52B",
    "outputId": "058b4d79-aab1-49a3-8c7c-a98c884a2fd5"
   },
   "outputs": [],
   "source": [
    "scaler = StandardScaler()\n",
    "X = scaler.fit_transform(md_df[features])\n",
    "Y = md_df['rent'].values.reshape(-1,1)\n",
    "\n",
    "train_x, test_x, train_y, test_y = train_test_split(X, Y, test_size=0.2, random_state=42)"
   ]
  },
  {
   "cell_type": "code",
   "execution_count": null,
   "metadata": {
    "colab": {},
    "colab_type": "code",
    "id": "ztLWpbWHz52D"
   },
   "outputs": [],
   "source": [
    "net = models.Sequential()\n",
    "net.add(layers.Dense(64, input_dim=train_x.shape[1], kernel_regularizer=regularizers.l1(0.1), activation='relu'))\n",
    "net.add(layers.Dropout(0.1))\n",
    "\n",
    "net.add(layers.Dense(64, kernel_regularizer=regularizers.l1(0.1), activation='relu'))\n",
    "net.add(layers.Dropout(0.1))\n",
    "\n",
    "net.add(layers.Dense(128, kernel_regularizer=regularizers.l1(0.1), activation='relu'))\n",
    "net.add(layers.Dropout(0.1))\n",
    "\n",
    "net.add(layers.Dense(256, kernel_regularizer=regularizers.l1(0.1), activation='relu'))\n",
    "net.add(layers.Dropout(0.1))\n",
    "\n",
    "net.add(layers.Dense(1, activation='linear'))\n",
    "\n",
    "net.compile(loss='mean_squared_error',\n",
    "            optimizer='adam',\n",
    "            metrics=['mean_squared_error'])"
   ]
  },
  {
   "cell_type": "code",
   "execution_count": null,
   "metadata": {
    "colab": {
     "base_uri": "https://localhost:8080/",
     "height": 1000
    },
    "colab_type": "code",
    "id": "Jmei-Vcaz52E",
    "outputId": "2f9619df-7f4a-46e4-b581-ae2f887add94"
   },
   "outputs": [],
   "source": [
    "net.fit(train_x, train_y, epochs=70, batch_size=64, validation_split = 0.1)"
   ]
  },
  {
   "cell_type": "code",
   "execution_count": null,
   "metadata": {
    "colab": {
     "base_uri": "https://localhost:8080/",
     "height": 34
    },
    "colab_type": "code",
    "id": "jkKi2IVoz52G",
    "outputId": "a58e9e9a-cd9d-44d1-9607-16d43937c355"
   },
   "outputs": [],
   "source": [
    "mean_squared_error(test_y, net.predict(test_x))"
   ]
  },
  {
   "cell_type": "markdown",
   "metadata": {
    "colab_type": "text",
    "id": "yy3GBRAdz52K"
   },
   "source": [
    "**Although the DL Neural Network seems to provide a better result on mean squared errors but it is really unstable** \n",
    "\n",
    "we have ran few test run on it, and each time it gives different results range from 853411.6171418771 to around 1,300,000.\n",
    "Therefore, we might still choose Gradient Boosting Regression as the most suitable model, since it provides a overall better result."
   ]
  },
  {
   "cell_type": "markdown",
   "metadata": {
    "colab_type": "text",
    "id": "HTEApwmu4s8_"
   },
   "source": [
    "# Model summary"
   ]
  },
  {
   "cell_type": "code",
   "execution_count": null,
   "metadata": {
    "colab": {},
    "colab_type": "code",
    "id": "1LIjA5NBz52L"
   },
   "outputs": [],
   "source": [
    "print('Random Forest Regression: ', get_cv_results(rforest))\n",
    "print('Gradient Boosting Regression: ', get_cv_results(gbrdemo))\n",
    "print('Multiple Regression: ', get_cv_results(mul_reg))\n",
    "print('Decision Tree Regression: ', get_cv_results(newregtreemo))\n",
    "print('Neural Network Regression: ', mean_squared_error(test_y, net.predict(test_x)))\n"
   ]
  },
  {
   "cell_type": "markdown",
   "metadata": {
    "colab_type": "text",
    "id": "BhxefAnV7QEB"
   },
   "source": [
    "### After explored 5 different regression models, we decided to use gradient boosting regression model to predict test2"
   ]
  },
  {
   "cell_type": "code",
   "execution_count": null,
   "metadata": {
    "colab": {},
    "colab_type": "code",
    "id": "uWbnzxXI7O8M"
   },
   "outputs": [],
   "source": [
    "output = pd.DataFrame(np.array(raw_test2_df.index), columns=['rental_id'])"
   ]
  },
  {
   "cell_type": "code",
   "execution_count": null,
   "metadata": {
    "colab": {},
    "colab_type": "code",
    "id": "FBuye75t7sH8"
   },
   "outputs": [],
   "source": [
    "output['predictions'] = gbrdemo.predict(raw_test2_df[features])"
   ]
  },
  {
   "cell_type": "code",
   "execution_count": null,
   "metadata": {
    "colab": {},
    "colab_type": "code",
    "id": "zBZcLRq59Ghu"
   },
   "outputs": [],
   "source": [
    "output.head(10)"
   ]
  },
  {
   "cell_type": "code",
   "execution_count": null,
   "metadata": {
    "colab": {},
    "colab_type": "code",
    "id": "JuXhGtQU_Pv9"
   },
   "outputs": [],
   "source": [
    "output.to_csv('test2_prediction.csv')"
   ]
  },
  {
   "cell_type": "code",
   "execution_count": null,
   "metadata": {
    "colab": {},
    "colab_type": "code",
    "id": "GLjmAMmqAS0m"
   },
   "outputs": [],
   "source": []
  }
 ],
 "metadata": {
  "anaconda-cloud": {},
  "colab": {
   "collapsed_sections": [],
   "name": "main.ipynb",
   "provenance": [],
   "toc_visible": true
  },
  "kernelspec": {
   "display_name": "Python 3",
   "language": "python",
   "name": "python3"
  },
  "language_info": {
   "codemirror_mode": {
    "name": "ipython",
    "version": 3
   },
   "file_extension": ".py",
   "mimetype": "text/x-python",
   "name": "python",
   "nbconvert_exporter": "python",
   "pygments_lexer": "ipython3",
   "version": "3.7.4"
  }
 },
 "nbformat": 4,
 "nbformat_minor": 1
}

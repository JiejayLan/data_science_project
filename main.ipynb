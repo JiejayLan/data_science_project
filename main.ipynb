{
 "cells": [
  {
   "cell_type": "code",
   "execution_count": 1,
   "metadata": {
    "colab": {
     "base_uri": "https://localhost:8080/",
     "height": 97
    },
    "colab_type": "code",
    "id": "uTU8yGiPz5zN",
    "outputId": "754c06b0-87fc-47f0-d615-569b4051d84a"
   },
   "outputs": [
    {
     "name": "stderr",
     "output_type": "stream",
     "text": [
      "Using TensorFlow backend.\n"
     ]
    }
   ],
   "source": [
    "import numpy as np\n",
    "import pandas as pd\n",
    "import matplotlib.pyplot as plt\n",
    "import seaborn as sns\n",
    "import statsmodels.api as sm\n",
    "import csv\n",
    "import warnings\n",
    "from sklearn.linear_model import LinearRegression\n",
    "from sklearn.ensemble import RandomForestRegressor, GradientBoostingRegressor\n",
    "from sklearn.tree import DecisionTreeClassifier \n",
    "from sklearn.tree import DecisionTreeRegressor\n",
    "from sklearn import preprocessing\n",
    "from sklearn.model_selection import KFold\n",
    "from sklearn.utils import shuffle\n",
    "from sklearn.metrics import mean_squared_error\n",
    "from sklearn.preprocessing import StandardScaler\n",
    "from sklearn.linear_model import LinearRegression\n",
    "import statsmodels.api as sm\n",
    "from keras import models, layers, optimizers, regularizers\n",
    "from sklearn.model_selection import train_test_split, ShuffleSplit, GridSearchCV, cross_val_predict\n",
    "from keras import regularizers\n",
    "%matplotlib inline"
   ]
  },
  {
   "cell_type": "markdown",
   "metadata": {
    "colab_type": "text",
    "id": "giyuV4myz5za"
   },
   "source": [
    "### Import datasets\n",
    "- We will import train, test1 and test2 dataset\n",
    "- Merge test1 and train dataset, in order to expend our train dataset"
   ]
  },
  {
   "cell_type": "code",
   "execution_count": 2,
   "metadata": {
    "colab": {
     "base_uri": "https://localhost:8080/",
     "height": 170
    },
    "colab_type": "code",
    "id": "O3bd5Le9C1yG",
    "outputId": "dcb1f8d6-5f4d-4c1a-8767-87d26ffe2d25",
    "scrolled": true
   },
   "outputs": [
    {
     "data": {
      "text/plain": [
       "Index(['addr_unit', 'building_id', 'bedrooms', 'bathrooms', 'size_sqft',\n",
       "       'created_at', 'addr_street', 'addr_city', 'addr_zip', 'addr_lat',\n",
       "       'addr_lon', 'bin', 'bbl', 'floor_count', 'year_built', 'min_to_subway',\n",
       "       'has_doorman', 'has_elevator', 'has_fireplace', 'has_dishwasher',\n",
       "       'is_furnished', 'has_gym', 'allows_pets', 'has_washer_dryer',\n",
       "       'has_garage', 'has_roofdeck', 'has_concierge', 'has_pool', 'has_garden',\n",
       "       'has_childrens_playroom', 'rent', 'no_fee', 'description',\n",
       "       'neighborhood', 'borough', 'unit', 'floornumber', 'line'],\n",
       "      dtype='object')"
      ]
     },
     "execution_count": 2,
     "metadata": {},
     "output_type": "execute_result"
    }
   ],
   "source": [
    "raw_df = pd.read_csv('https://grantmlong.com/data/SE_rents2018_train.csv', index_col=0)\n",
    "raw_test_df = pd.read_csv('https://grantmlong.com/data/SE_rents2018_test1.csv', index_col=0)\n",
    "raw_test2_df = pd.read_csv('https://grantmlong.com/data/SE_rents2018_test2.csv', index_col=0)\n",
    "raw_test3_df = pd.read_csv('https://grantmlong.com/data/SE_rents2018_test3.csv', index_col=0)\n",
    "#raw_df = raw_df.append(raw_test_df)\n",
    "raw_df.head(20)\n",
    "raw_df.columns"
   ]
  },
  {
   "cell_type": "markdown",
   "metadata": {
    "colab_type": "text",
    "id": "xxSoiIKJC1yO"
   },
   "source": [
    "## Data Explore"
   ]
  },
  {
   "cell_type": "code",
   "execution_count": 3,
   "metadata": {
    "colab": {
     "base_uri": "https://localhost:8080/",
     "height": 304
    },
    "colab_type": "code",
    "id": "ql26Ay-HC1yI",
    "outputId": "33defc34-c066-4fc0-fd2b-f3d6438b6968"
   },
   "outputs": [
    {
     "data": {
      "text/html": [
       "<div>\n",
       "<style scoped>\n",
       "    .dataframe tbody tr th:only-of-type {\n",
       "        vertical-align: middle;\n",
       "    }\n",
       "\n",
       "    .dataframe tbody tr th {\n",
       "        vertical-align: top;\n",
       "    }\n",
       "\n",
       "    .dataframe thead th {\n",
       "        text-align: right;\n",
       "    }\n",
       "</style>\n",
       "<table border=\"1\" class=\"dataframe\">\n",
       "  <thead>\n",
       "    <tr style=\"text-align: right;\">\n",
       "      <th></th>\n",
       "      <th>building_id</th>\n",
       "      <th>bedrooms</th>\n",
       "      <th>bathrooms</th>\n",
       "      <th>size_sqft</th>\n",
       "      <th>addr_zip</th>\n",
       "      <th>addr_lat</th>\n",
       "      <th>addr_lon</th>\n",
       "      <th>bin</th>\n",
       "      <th>bbl</th>\n",
       "      <th>floor_count</th>\n",
       "      <th>...</th>\n",
       "      <th>has_washer_dryer</th>\n",
       "      <th>has_garage</th>\n",
       "      <th>has_roofdeck</th>\n",
       "      <th>has_concierge</th>\n",
       "      <th>has_pool</th>\n",
       "      <th>has_garden</th>\n",
       "      <th>has_childrens_playroom</th>\n",
       "      <th>rent</th>\n",
       "      <th>no_fee</th>\n",
       "      <th>floornumber</th>\n",
       "    </tr>\n",
       "  </thead>\n",
       "  <tbody>\n",
       "    <tr>\n",
       "      <th>count</th>\n",
       "      <td>1.200000e+04</td>\n",
       "      <td>12000.000000</td>\n",
       "      <td>12000.000000</td>\n",
       "      <td>12000.000000</td>\n",
       "      <td>12000.000000</td>\n",
       "      <td>12000.000000</td>\n",
       "      <td>12000.000000</td>\n",
       "      <td>1.199900e+04</td>\n",
       "      <td>1.200000e+04</td>\n",
       "      <td>12000.000000</td>\n",
       "      <td>...</td>\n",
       "      <td>12000.000000</td>\n",
       "      <td>12000.000000</td>\n",
       "      <td>12000.000000</td>\n",
       "      <td>12000.000000</td>\n",
       "      <td>12000.000000</td>\n",
       "      <td>12000.000000</td>\n",
       "      <td>12000.000000</td>\n",
       "      <td>12000.000000</td>\n",
       "      <td>12000.000000</td>\n",
       "      <td>10723.000000</td>\n",
       "    </tr>\n",
       "    <tr>\n",
       "      <th>mean</th>\n",
       "      <td>1.529133e+06</td>\n",
       "      <td>1.657667</td>\n",
       "      <td>1.239500</td>\n",
       "      <td>850.465750</td>\n",
       "      <td>10682.779667</td>\n",
       "      <td>40.727507</td>\n",
       "      <td>-73.956837</td>\n",
       "      <td>2.370093e+06</td>\n",
       "      <td>2.287120e+09</td>\n",
       "      <td>10.266608</td>\n",
       "      <td>...</td>\n",
       "      <td>0.271667</td>\n",
       "      <td>0.170000</td>\n",
       "      <td>0.264083</td>\n",
       "      <td>0.208583</td>\n",
       "      <td>0.073167</td>\n",
       "      <td>0.132083</td>\n",
       "      <td>0.090500</td>\n",
       "      <td>3605.762917</td>\n",
       "      <td>0.490000</td>\n",
       "      <td>6.182738</td>\n",
       "    </tr>\n",
       "    <tr>\n",
       "      <th>std</th>\n",
       "      <td>4.301123e+06</td>\n",
       "      <td>1.079771</td>\n",
       "      <td>0.560208</td>\n",
       "      <td>515.773101</td>\n",
       "      <td>593.370964</td>\n",
       "      <td>0.053241</td>\n",
       "      <td>0.043024</td>\n",
       "      <td>1.242919e+06</td>\n",
       "      <td>1.202105e+09</td>\n",
       "      <td>12.019787</td>\n",
       "      <td>...</td>\n",
       "      <td>0.444837</td>\n",
       "      <td>0.375648</td>\n",
       "      <td>0.440862</td>\n",
       "      <td>0.406313</td>\n",
       "      <td>0.260421</td>\n",
       "      <td>0.338595</td>\n",
       "      <td>0.286909</td>\n",
       "      <td>2897.069446</td>\n",
       "      <td>0.499921</td>\n",
       "      <td>7.671545</td>\n",
       "    </tr>\n",
       "    <tr>\n",
       "      <th>min</th>\n",
       "      <td>7.300000e+01</td>\n",
       "      <td>0.000000</td>\n",
       "      <td>0.000000</td>\n",
       "      <td>0.000000</td>\n",
       "      <td>10001.000000</td>\n",
       "      <td>40.573898</td>\n",
       "      <td>-74.141570</td>\n",
       "      <td>1.000000e+06</td>\n",
       "      <td>0.000000e+00</td>\n",
       "      <td>0.000000</td>\n",
       "      <td>...</td>\n",
       "      <td>0.000000</td>\n",
       "      <td>0.000000</td>\n",
       "      <td>0.000000</td>\n",
       "      <td>0.000000</td>\n",
       "      <td>0.000000</td>\n",
       "      <td>0.000000</td>\n",
       "      <td>0.000000</td>\n",
       "      <td>1250.000000</td>\n",
       "      <td>0.000000</td>\n",
       "      <td>0.000000</td>\n",
       "    </tr>\n",
       "    <tr>\n",
       "      <th>25%</th>\n",
       "      <td>6.209200e+04</td>\n",
       "      <td>1.000000</td>\n",
       "      <td>1.000000</td>\n",
       "      <td>610.000000</td>\n",
       "      <td>10023.000000</td>\n",
       "      <td>40.693256</td>\n",
       "      <td>-73.986076</td>\n",
       "      <td>1.052139e+06</td>\n",
       "      <td>1.011220e+09</td>\n",
       "      <td>3.000000</td>\n",
       "      <td>...</td>\n",
       "      <td>0.000000</td>\n",
       "      <td>0.000000</td>\n",
       "      <td>0.000000</td>\n",
       "      <td>0.000000</td>\n",
       "      <td>0.000000</td>\n",
       "      <td>0.000000</td>\n",
       "      <td>0.000000</td>\n",
       "      <td>2250.000000</td>\n",
       "      <td>0.000000</td>\n",
       "      <td>2.000000</td>\n",
       "    </tr>\n",
       "    <tr>\n",
       "      <th>50%</th>\n",
       "      <td>2.495815e+05</td>\n",
       "      <td>2.000000</td>\n",
       "      <td>1.000000</td>\n",
       "      <td>800.000000</td>\n",
       "      <td>11103.000000</td>\n",
       "      <td>40.729028</td>\n",
       "      <td>-73.961700</td>\n",
       "      <td>3.019358e+06</td>\n",
       "      <td>3.006580e+09</td>\n",
       "      <td>5.000000</td>\n",
       "      <td>...</td>\n",
       "      <td>0.000000</td>\n",
       "      <td>0.000000</td>\n",
       "      <td>0.000000</td>\n",
       "      <td>0.000000</td>\n",
       "      <td>0.000000</td>\n",
       "      <td>0.000000</td>\n",
       "      <td>0.000000</td>\n",
       "      <td>2900.000000</td>\n",
       "      <td>0.000000</td>\n",
       "      <td>3.000000</td>\n",
       "    </tr>\n",
       "    <tr>\n",
       "      <th>75%</th>\n",
       "      <td>8.225132e+05</td>\n",
       "      <td>2.000000</td>\n",
       "      <td>1.000000</td>\n",
       "      <td>1000.000000</td>\n",
       "      <td>11218.000000</td>\n",
       "      <td>40.764599</td>\n",
       "      <td>-73.936663</td>\n",
       "      <td>3.326098e+06</td>\n",
       "      <td>3.050580e+09</td>\n",
       "      <td>12.000000</td>\n",
       "      <td>...</td>\n",
       "      <td>1.000000</td>\n",
       "      <td>0.000000</td>\n",
       "      <td>1.000000</td>\n",
       "      <td>0.000000</td>\n",
       "      <td>0.000000</td>\n",
       "      <td>0.000000</td>\n",
       "      <td>0.000000</td>\n",
       "      <td>3900.000000</td>\n",
       "      <td>1.000000</td>\n",
       "      <td>6.000000</td>\n",
       "    </tr>\n",
       "    <tr>\n",
       "      <th>max</th>\n",
       "      <td>1.877210e+07</td>\n",
       "      <td>8.000000</td>\n",
       "      <td>20.000000</td>\n",
       "      <td>10000.000000</td>\n",
       "      <td>11694.000000</td>\n",
       "      <td>40.909842</td>\n",
       "      <td>-73.730550</td>\n",
       "      <td>5.158986e+06</td>\n",
       "      <td>5.010640e+09</td>\n",
       "      <td>90.000000</td>\n",
       "      <td>...</td>\n",
       "      <td>1.000000</td>\n",
       "      <td>1.000000</td>\n",
       "      <td>1.000000</td>\n",
       "      <td>1.000000</td>\n",
       "      <td>1.000000</td>\n",
       "      <td>1.000000</td>\n",
       "      <td>1.000000</td>\n",
       "      <td>50000.000000</td>\n",
       "      <td>1.000000</td>\n",
       "      <td>78.000000</td>\n",
       "    </tr>\n",
       "  </tbody>\n",
       "</table>\n",
       "<p>8 rows × 29 columns</p>\n",
       "</div>"
      ],
      "text/plain": [
       "        building_id      bedrooms     bathrooms     size_sqft      addr_zip  \\\n",
       "count  1.200000e+04  12000.000000  12000.000000  12000.000000  12000.000000   \n",
       "mean   1.529133e+06      1.657667      1.239500    850.465750  10682.779667   \n",
       "std    4.301123e+06      1.079771      0.560208    515.773101    593.370964   \n",
       "min    7.300000e+01      0.000000      0.000000      0.000000  10001.000000   \n",
       "25%    6.209200e+04      1.000000      1.000000    610.000000  10023.000000   \n",
       "50%    2.495815e+05      2.000000      1.000000    800.000000  11103.000000   \n",
       "75%    8.225132e+05      2.000000      1.000000   1000.000000  11218.000000   \n",
       "max    1.877210e+07      8.000000     20.000000  10000.000000  11694.000000   \n",
       "\n",
       "           addr_lat      addr_lon           bin           bbl   floor_count  \\\n",
       "count  12000.000000  12000.000000  1.199900e+04  1.200000e+04  12000.000000   \n",
       "mean      40.727507    -73.956837  2.370093e+06  2.287120e+09     10.266608   \n",
       "std        0.053241      0.043024  1.242919e+06  1.202105e+09     12.019787   \n",
       "min       40.573898    -74.141570  1.000000e+06  0.000000e+00      0.000000   \n",
       "25%       40.693256    -73.986076  1.052139e+06  1.011220e+09      3.000000   \n",
       "50%       40.729028    -73.961700  3.019358e+06  3.006580e+09      5.000000   \n",
       "75%       40.764599    -73.936663  3.326098e+06  3.050580e+09     12.000000   \n",
       "max       40.909842    -73.730550  5.158986e+06  5.010640e+09     90.000000   \n",
       "\n",
       "       ...  has_washer_dryer    has_garage  has_roofdeck  has_concierge  \\\n",
       "count  ...      12000.000000  12000.000000  12000.000000   12000.000000   \n",
       "mean   ...          0.271667      0.170000      0.264083       0.208583   \n",
       "std    ...          0.444837      0.375648      0.440862       0.406313   \n",
       "min    ...          0.000000      0.000000      0.000000       0.000000   \n",
       "25%    ...          0.000000      0.000000      0.000000       0.000000   \n",
       "50%    ...          0.000000      0.000000      0.000000       0.000000   \n",
       "75%    ...          1.000000      0.000000      1.000000       0.000000   \n",
       "max    ...          1.000000      1.000000      1.000000       1.000000   \n",
       "\n",
       "           has_pool    has_garden  has_childrens_playroom          rent  \\\n",
       "count  12000.000000  12000.000000            12000.000000  12000.000000   \n",
       "mean       0.073167      0.132083                0.090500   3605.762917   \n",
       "std        0.260421      0.338595                0.286909   2897.069446   \n",
       "min        0.000000      0.000000                0.000000   1250.000000   \n",
       "25%        0.000000      0.000000                0.000000   2250.000000   \n",
       "50%        0.000000      0.000000                0.000000   2900.000000   \n",
       "75%        0.000000      0.000000                0.000000   3900.000000   \n",
       "max        1.000000      1.000000                1.000000  50000.000000   \n",
       "\n",
       "             no_fee   floornumber  \n",
       "count  12000.000000  10723.000000  \n",
       "mean       0.490000      6.182738  \n",
       "std        0.499921      7.671545  \n",
       "min        0.000000      0.000000  \n",
       "25%        0.000000      2.000000  \n",
       "50%        0.000000      3.000000  \n",
       "75%        1.000000      6.000000  \n",
       "max        1.000000     78.000000  \n",
       "\n",
       "[8 rows x 29 columns]"
      ]
     },
     "execution_count": 3,
     "metadata": {},
     "output_type": "execute_result"
    }
   ],
   "source": [
    "raw_df.describe()"
   ]
  },
  {
   "cell_type": "code",
   "execution_count": 4,
   "metadata": {
    "colab": {
     "base_uri": "https://localhost:8080/",
     "height": 34
    },
    "colab_type": "code",
    "id": "csEm7f26C1yS",
    "outputId": "d3a30c17-b4c6-45a3-c642-39b7f6069656"
   },
   "outputs": [
    {
     "data": {
      "text/plain": [
       "(12000, 38)"
      ]
     },
     "execution_count": 4,
     "metadata": {},
     "output_type": "execute_result"
    }
   ],
   "source": [
    "raw_df.shape"
   ]
  },
  {
   "cell_type": "code",
   "execution_count": 5,
   "metadata": {
    "colab": {
     "base_uri": "https://localhost:8080/",
     "height": 286
    },
    "colab_type": "code",
    "id": "bQBnI2n0FuHJ",
    "outputId": "9a62644e-70ac-4531-c6f8-96813f039d8c"
   },
   "outputs": [
    {
     "data": {
      "text/plain": [
       "<matplotlib.axes._subplots.AxesSubplot at 0x1ab99e73390>"
      ]
     },
     "execution_count": 5,
     "metadata": {},
     "output_type": "execute_result"
    },
    {
     "data": {
      "image/png": "[encoded data removed]",
      "text/plain": [
       "<Figure size 432x288 with 1 Axes>"
      ]
     },
     "metadata": {
      "needs_background": "light"
     },
     "output_type": "display_data"
    }
   ],
   "source": [
    "raw_df['rent'].hist(bins=100)"
   ]
  },
  {
   "cell_type": "markdown",
   "metadata": {
    "colab_type": "text",
    "id": "cN1cvd5g0lcL"
   },
   "source": [
    "### Seperate all features into continuous, categorical and binary features.\n",
    "\n",
    "For those none relatived features as below, we have excluded them from the features grouping: \n",
    "- addr_unit: no relationship\n",
    "- building_id: no relationship\n",
    "- addr_lat: hard to analyze latitude\n",
    "- addr_lon: hard to analyze longtitude\n",
    "- bin: need to wait for external dataset\n",
    "- bbl: need to wait for external dataset\n",
    "- description: hard to build a NLP model\n",
    "- unit: no relationship\n"
   ]
  },
  {
   "cell_type": "code",
   "execution_count": 6,
   "metadata": {
    "colab": {},
    "colab_type": "code",
    "id": "ce4l5HZNModF"
   },
   "outputs": [],
   "source": [
    "continuous_features =['bathrooms','bedrooms','size_sqft','floor_count','year_built','min_to_subway','floornumber' ]\n",
    "caterigal_features =['addr_street','addr_city','addr_zip','neighborhood','borough','line' ]\n",
    "binary_features = ['has_doorman', 'has_elevator', 'has_fireplace', 'has_dishwasher','is_furnished', 'has_gym', 'allows_pets', \n",
    "                   'has_washer_dryer','has_garage', 'has_roofdeck', 'has_concierge', 'has_pool', 'has_garden',\n",
    "                   'has_childrens_playroom', 'no_fee', ]"
   ]
  },
  {
   "cell_type": "markdown",
   "metadata": {
    "colab_type": "text",
    "id": "DiomtTh5NqlA"
   },
   "source": [
    "## Import external dataset from Internal Revenue Service\n",
    " - We will import the 2017 individual income Tax statistic dataset from IRS website(https://www.irs.gov/pub/irs-soi/17zpallagi.csv).\n",
    " - We will expend a new feature: **average_income** based on zipcode to our raw dataset "
   ]
  },
  {
   "cell_type": "code",
   "execution_count": 7,
   "metadata": {
    "colab": {
     "base_uri": "https://localhost:8080/",
     "height": 119
    },
    "colab_type": "code",
    "id": "ySvUva5SC1yz",
    "outputId": "b39e242d-b80b-445c-e6ce-24592f666665"
   },
   "outputs": [
    {
     "data": {
      "text/plain": [
       "Index(['STATE', 'zipcode', 'agi_stub', 'N1', 'mars1', 'MARS2', 'MARS4', 'ELF',\n",
       "       'CPREP', 'PREP',\n",
       "       ...\n",
       "       'N85300', 'A85300', 'N11901', 'A11901', 'N11900', 'A11900', 'N11902',\n",
       "       'A11902', 'N12000', 'A12000'],\n",
       "      dtype='object', length=152)"
      ]
     },
     "execution_count": 7,
     "metadata": {},
     "output_type": "execute_result"
    }
   ],
   "source": [
    "raw_income_data=pd.read_csv('https://www.irs.gov/pub/irs-soi/17zpallagi.csv', index_col=0)\n",
    "raw_income_data.columns"
   ]
  },
  {
   "cell_type": "code",
   "execution_count": 8,
   "metadata": {
    "colab": {},
    "colab_type": "code",
    "id": "4OwGK7NMC1y4",
    "outputId": "f3d9ab34-8545-461e-abad-372abd7b373a"
   },
   "outputs": [
    {
     "data": {
      "text/html": [
       "<div>\n",
       "<style scoped>\n",
       "    .dataframe tbody tr th:only-of-type {\n",
       "        vertical-align: middle;\n",
       "    }\n",
       "\n",
       "    .dataframe tbody tr th {\n",
       "        vertical-align: top;\n",
       "    }\n",
       "\n",
       "    .dataframe thead th {\n",
       "        text-align: right;\n",
       "    }\n",
       "</style>\n",
       "<table border=\"1\" class=\"dataframe\">\n",
       "  <thead>\n",
       "    <tr style=\"text-align: right;\">\n",
       "      <th></th>\n",
       "      <th>zipcode</th>\n",
       "      <th>agi_stub</th>\n",
       "      <th>N1</th>\n",
       "      <th>mars1</th>\n",
       "      <th>MARS2</th>\n",
       "      <th>MARS4</th>\n",
       "      <th>ELF</th>\n",
       "      <th>CPREP</th>\n",
       "      <th>PREP</th>\n",
       "      <th>DIR_DEP</th>\n",
       "      <th>...</th>\n",
       "      <th>N85300</th>\n",
       "      <th>A85300</th>\n",
       "      <th>N11901</th>\n",
       "      <th>A11901</th>\n",
       "      <th>N11900</th>\n",
       "      <th>A11900</th>\n",
       "      <th>N11902</th>\n",
       "      <th>A11902</th>\n",
       "      <th>N12000</th>\n",
       "      <th>A12000</th>\n",
       "    </tr>\n",
       "  </thead>\n",
       "  <tbody>\n",
       "    <tr>\n",
       "      <th>count</th>\n",
       "      <td>166537.000000</td>\n",
       "      <td>166537.000000</td>\n",
       "      <td>1.665370e+05</td>\n",
       "      <td>1.665370e+05</td>\n",
       "      <td>1.665370e+05</td>\n",
       "      <td>166537.000000</td>\n",
       "      <td>1.665370e+05</td>\n",
       "      <td>166537.000000</td>\n",
       "      <td>1.665370e+05</td>\n",
       "      <td>1.665370e+05</td>\n",
       "      <td>...</td>\n",
       "      <td>166537.000000</td>\n",
       "      <td>1.665370e+05</td>\n",
       "      <td>166537.000000</td>\n",
       "      <td>1.665370e+05</td>\n",
       "      <td>1.665370e+05</td>\n",
       "      <td>1.665370e+05</td>\n",
       "      <td>1.665370e+05</td>\n",
       "      <td>1.665370e+05</td>\n",
       "      <td>166537.000000</td>\n",
       "      <td>1.665370e+05</td>\n",
       "    </tr>\n",
       "    <tr>\n",
       "      <th>mean</th>\n",
       "      <td>48870.221668</td>\n",
       "      <td>3.499883</td>\n",
       "      <td>1.797506e+03</td>\n",
       "      <td>8.568076e+02</td>\n",
       "      <td>6.466075e+02</td>\n",
       "      <td>257.395354</td>\n",
       "      <td>1.595375e+03</td>\n",
       "      <td>109.165711</td>\n",
       "      <td>9.565737e+02</td>\n",
       "      <td>1.115313e+03</td>\n",
       "      <td>...</td>\n",
       "      <td>52.247849</td>\n",
       "      <td>2.652260e+02</td>\n",
       "      <td>366.565508</td>\n",
       "      <td>2.075837e+03</td>\n",
       "      <td>1.385102e+03</td>\n",
       "      <td>4.864975e+03</td>\n",
       "      <td>1.349381e+03</td>\n",
       "      <td>3.932834e+03</td>\n",
       "      <td>43.103875</td>\n",
       "      <td>8.790301e+02</td>\n",
       "    </tr>\n",
       "    <tr>\n",
       "      <th>std</th>\n",
       "      <td>27140.457939</td>\n",
       "      <td>1.707903</td>\n",
       "      <td>3.682065e+04</td>\n",
       "      <td>2.157115e+04</td>\n",
       "      <td>1.180901e+04</td>\n",
       "      <td>6579.521856</td>\n",
       "      <td>3.234179e+04</td>\n",
       "      <td>2546.536828</td>\n",
       "      <td>1.996698e+04</td>\n",
       "      <td>2.347348e+04</td>\n",
       "      <td>...</td>\n",
       "      <td>2663.659358</td>\n",
       "      <td>1.535593e+04</td>\n",
       "      <td>6891.242958</td>\n",
       "      <td>6.608186e+04</td>\n",
       "      <td>2.947749e+04</td>\n",
       "      <td>1.012458e+05</td>\n",
       "      <td>2.909491e+04</td>\n",
       "      <td>7.693938e+04</td>\n",
       "      <td>947.324343</td>\n",
       "      <td>4.399491e+04</td>\n",
       "    </tr>\n",
       "    <tr>\n",
       "      <th>min</th>\n",
       "      <td>0.000000</td>\n",
       "      <td>1.000000</td>\n",
       "      <td>0.000000e+00</td>\n",
       "      <td>0.000000e+00</td>\n",
       "      <td>0.000000e+00</td>\n",
       "      <td>0.000000</td>\n",
       "      <td>0.000000e+00</td>\n",
       "      <td>0.000000</td>\n",
       "      <td>0.000000e+00</td>\n",
       "      <td>0.000000e+00</td>\n",
       "      <td>...</td>\n",
       "      <td>0.000000</td>\n",
       "      <td>0.000000e+00</td>\n",
       "      <td>0.000000</td>\n",
       "      <td>0.000000e+00</td>\n",
       "      <td>0.000000e+00</td>\n",
       "      <td>0.000000e+00</td>\n",
       "      <td>0.000000e+00</td>\n",
       "      <td>0.000000e+00</td>\n",
       "      <td>0.000000</td>\n",
       "      <td>0.000000e+00</td>\n",
       "    </tr>\n",
       "    <tr>\n",
       "      <th>25%</th>\n",
       "      <td>27030.000000</td>\n",
       "      <td>2.000000</td>\n",
       "      <td>7.000000e+01</td>\n",
       "      <td>0.000000e+00</td>\n",
       "      <td>4.000000e+01</td>\n",
       "      <td>0.000000</td>\n",
       "      <td>6.000000e+01</td>\n",
       "      <td>0.000000</td>\n",
       "      <td>4.000000e+01</td>\n",
       "      <td>4.000000e+01</td>\n",
       "      <td>...</td>\n",
       "      <td>0.000000</td>\n",
       "      <td>0.000000e+00</td>\n",
       "      <td>20.000000</td>\n",
       "      <td>2.100000e+01</td>\n",
       "      <td>5.000000e+01</td>\n",
       "      <td>1.580000e+02</td>\n",
       "      <td>4.000000e+01</td>\n",
       "      <td>1.410000e+02</td>\n",
       "      <td>0.000000</td>\n",
       "      <td>0.000000e+00</td>\n",
       "    </tr>\n",
       "    <tr>\n",
       "      <th>50%</th>\n",
       "      <td>48876.000000</td>\n",
       "      <td>3.000000</td>\n",
       "      <td>2.500000e+02</td>\n",
       "      <td>7.000000e+01</td>\n",
       "      <td>1.100000e+02</td>\n",
       "      <td>20.000000</td>\n",
       "      <td>2.200000e+02</td>\n",
       "      <td>0.000000</td>\n",
       "      <td>1.500000e+02</td>\n",
       "      <td>1.400000e+02</td>\n",
       "      <td>...</td>\n",
       "      <td>0.000000</td>\n",
       "      <td>0.000000e+00</td>\n",
       "      <td>60.000000</td>\n",
       "      <td>1.550000e+02</td>\n",
       "      <td>1.800000e+02</td>\n",
       "      <td>6.220000e+02</td>\n",
       "      <td>1.700000e+02</td>\n",
       "      <td>5.480000e+02</td>\n",
       "      <td>0.000000</td>\n",
       "      <td>0.000000e+00</td>\n",
       "    </tr>\n",
       "    <tr>\n",
       "      <th>75%</th>\n",
       "      <td>70601.000000</td>\n",
       "      <td>5.000000</td>\n",
       "      <td>1.020000e+03</td>\n",
       "      <td>3.400000e+02</td>\n",
       "      <td>3.800000e+02</td>\n",
       "      <td>90.000000</td>\n",
       "      <td>9.100000e+02</td>\n",
       "      <td>60.000000</td>\n",
       "      <td>5.600000e+02</td>\n",
       "      <td>5.900000e+02</td>\n",
       "      <td>...</td>\n",
       "      <td>0.000000</td>\n",
       "      <td>0.000000e+00</td>\n",
       "      <td>220.000000</td>\n",
       "      <td>6.870000e+02</td>\n",
       "      <td>7.400000e+02</td>\n",
       "      <td>2.484000e+03</td>\n",
       "      <td>7.100000e+02</td>\n",
       "      <td>2.207000e+03</td>\n",
       "      <td>30.000000</td>\n",
       "      <td>6.400000e+01</td>\n",
       "    </tr>\n",
       "    <tr>\n",
       "      <th>max</th>\n",
       "      <td>99999.000000</td>\n",
       "      <td>6.000000</td>\n",
       "      <td>5.824360e+06</td>\n",
       "      <td>4.130490e+06</td>\n",
       "      <td>1.757700e+06</td>\n",
       "      <td>982390.000000</td>\n",
       "      <td>4.980210e+06</td>\n",
       "      <td>475240.000000</td>\n",
       "      <td>3.387570e+06</td>\n",
       "      <td>3.233490e+06</td>\n",
       "      <td>...</td>\n",
       "      <td>763140.000000</td>\n",
       "      <td>4.031847e+06</td>\n",
       "      <td>890950.000000</td>\n",
       "      <td>1.750126e+07</td>\n",
       "      <td>4.598480e+06</td>\n",
       "      <td>1.667374e+07</td>\n",
       "      <td>4.561540e+06</td>\n",
       "      <td>9.443931e+06</td>\n",
       "      <td>186110.000000</td>\n",
       "      <td>1.056186e+07</td>\n",
       "    </tr>\n",
       "  </tbody>\n",
       "</table>\n",
       "<p>8 rows × 151 columns</p>\n",
       "</div>"
      ],
      "text/plain": [
       "             zipcode       agi_stub            N1         mars1         MARS2  \\\n",
       "count  166537.000000  166537.000000  1.665370e+05  1.665370e+05  1.665370e+05   \n",
       "mean    48870.221668       3.499883  1.797506e+03  8.568076e+02  6.466075e+02   \n",
       "std     27140.457939       1.707903  3.682065e+04  2.157115e+04  1.180901e+04   \n",
       "min         0.000000       1.000000  0.000000e+00  0.000000e+00  0.000000e+00   \n",
       "25%     27030.000000       2.000000  7.000000e+01  0.000000e+00  4.000000e+01   \n",
       "50%     48876.000000       3.000000  2.500000e+02  7.000000e+01  1.100000e+02   \n",
       "75%     70601.000000       5.000000  1.020000e+03  3.400000e+02  3.800000e+02   \n",
       "max     99999.000000       6.000000  5.824360e+06  4.130490e+06  1.757700e+06   \n",
       "\n",
       "               MARS4           ELF          CPREP          PREP       DIR_DEP  \\\n",
       "count  166537.000000  1.665370e+05  166537.000000  1.665370e+05  1.665370e+05   \n",
       "mean      257.395354  1.595375e+03     109.165711  9.565737e+02  1.115313e+03   \n",
       "std      6579.521856  3.234179e+04    2546.536828  1.996698e+04  2.347348e+04   \n",
       "min         0.000000  0.000000e+00       0.000000  0.000000e+00  0.000000e+00   \n",
       "25%         0.000000  6.000000e+01       0.000000  4.000000e+01  4.000000e+01   \n",
       "50%        20.000000  2.200000e+02       0.000000  1.500000e+02  1.400000e+02   \n",
       "75%        90.000000  9.100000e+02      60.000000  5.600000e+02  5.900000e+02   \n",
       "max    982390.000000  4.980210e+06  475240.000000  3.387570e+06  3.233490e+06   \n",
       "\n",
       "       ...         N85300        A85300         N11901        A11901  \\\n",
       "count  ...  166537.000000  1.665370e+05  166537.000000  1.665370e+05   \n",
       "mean   ...      52.247849  2.652260e+02     366.565508  2.075837e+03   \n",
       "std    ...    2663.659358  1.535593e+04    6891.242958  6.608186e+04   \n",
       "min    ...       0.000000  0.000000e+00       0.000000  0.000000e+00   \n",
       "25%    ...       0.000000  0.000000e+00      20.000000  2.100000e+01   \n",
       "50%    ...       0.000000  0.000000e+00      60.000000  1.550000e+02   \n",
       "75%    ...       0.000000  0.000000e+00     220.000000  6.870000e+02   \n",
       "max    ...  763140.000000  4.031847e+06  890950.000000  1.750126e+07   \n",
       "\n",
       "             N11900        A11900        N11902        A11902         N12000  \\\n",
       "count  1.665370e+05  1.665370e+05  1.665370e+05  1.665370e+05  166537.000000   \n",
       "mean   1.385102e+03  4.864975e+03  1.349381e+03  3.932834e+03      43.103875   \n",
       "std    2.947749e+04  1.012458e+05  2.909491e+04  7.693938e+04     947.324343   \n",
       "min    0.000000e+00  0.000000e+00  0.000000e+00  0.000000e+00       0.000000   \n",
       "25%    5.000000e+01  1.580000e+02  4.000000e+01  1.410000e+02       0.000000   \n",
       "50%    1.800000e+02  6.220000e+02  1.700000e+02  5.480000e+02       0.000000   \n",
       "75%    7.400000e+02  2.484000e+03  7.100000e+02  2.207000e+03      30.000000   \n",
       "max    4.598480e+06  1.667374e+07  4.561540e+06  9.443931e+06  186110.000000   \n",
       "\n",
       "             A12000  \n",
       "count  1.665370e+05  \n",
       "mean   8.790301e+02  \n",
       "std    4.399491e+04  \n",
       "min    0.000000e+00  \n",
       "25%    0.000000e+00  \n",
       "50%    0.000000e+00  \n",
       "75%    6.400000e+01  \n",
       "max    1.056186e+07  \n",
       "\n",
       "[8 rows x 151 columns]"
      ]
     },
     "execution_count": 8,
     "metadata": {},
     "output_type": "execute_result"
    }
   ],
   "source": [
    "raw_income_data.describe()"
   ]
  },
  {
   "cell_type": "markdown",
   "metadata": {
    "colab_type": "text",
    "id": "dsIRl_HPz50L"
   },
   "source": [
    "### Income Dataset Description \n",
    "This dataset comes from the IRS website's 2017 ZIP Code Data (SOI) about Individual Income Tax Statistics.\n",
    "According to the documentation's overview,the Statistics of Income (SOI) Division’s ZIP code data is tabulated using individual income tax returns (Forms 1040) filed with the Internal Revenue Service (IRS) during the 12-month period, January 1, 2018 to December 31, 2018.\n",
    "The original dataset contains many income and Tax Items, we only keep the ones that are relevant: \n",
    "- STATEFIPS:The State Federal Information Processing System (FIPS) code\n",
    "- STATE: The State associated with the ZIP code\n",
    "- ZIPCODE: 5-digit Zip code\n",
    "- agi_stub: Size of adjusted gross income\n",
    "- N1: Total number of returns\n",
    "- A02650: Number of returns with total income\n",
    "\n",
    "Our goal is to find the average income of each zipcode."
   ]
  },
  {
   "cell_type": "markdown",
   "metadata": {
    "colab_type": "text",
    "id": "npFJUlx_z50M"
   },
   "source": [
    "### Clean the raw income data and rename feature"
   ]
  },
  {
   "cell_type": "code",
   "execution_count": 9,
   "metadata": {
    "colab": {},
    "colab_type": "code",
    "id": "-V89w0rGz50N"
   },
   "outputs": [],
   "source": [
    "raw_income_data = raw_income_data.loc[raw_income_data['STATE']=='NY']\n",
    "raw_income_data.rename(columns = {'N1':'total_returns', 'A02650':'total_income'}, inplace = True) \n",
    "raw_income_data = raw_income_data[['STATE','zipcode','agi_stub','total_returns', 'total_income']]\n",
    "raw_income_data = raw_income_data.loc[raw_income_data['zipcode']<99999]\n",
    "raw_income_data = raw_income_data.loc[raw_income_data['zipcode']>0]\n"
   ]
  },
  {
   "cell_type": "markdown",
   "metadata": {
    "colab_type": "text",
    "id": "-VGLOblZz50P"
   },
   "source": [
    "### Function to calculate the average income by zip code\n",
    "Each zip code has 6 different sizes of adjusted gross income which means we have 6 different number of total returns and total income for one zip code.\n",
    "By using the np.where and sum function, we can obtain the sum of income and sum of returns for each zip code. The income of the original dataset was in thousands of dollar so we need to multiply the sum of income by 1000 and then find the average. Since some zip code was not in the original set, we ingore those average that is NaN and only write the meaningful averages to csv file for future use."
   ]
  },
  {
   "cell_type": "markdown",
   "metadata": {
    "colab_type": "text",
    "id": "fYwv11cxz50Q"
   },
   "source": [
    "- Calculate average income \n",
    "- Export to ny_income_2017.csv for storage\n",
    "- For next time, no need to import the raw_income_dataset again"
   ]
  },
  {
   "cell_type": "code",
   "execution_count": 10,
   "metadata": {
    "colab": {
     "base_uri": "https://localhost:8080/",
     "height": 204
    },
    "colab_type": "code",
    "id": "frLORUzFz50R",
    "outputId": "13b8fb12-929f-4798-acf7-124cfde60616"
   },
   "outputs": [
    {
     "data": {
      "text/html": [
       "<div>\n",
       "<style scoped>\n",
       "    .dataframe tbody tr th:only-of-type {\n",
       "        vertical-align: middle;\n",
       "    }\n",
       "\n",
       "    .dataframe tbody tr th {\n",
       "        vertical-align: top;\n",
       "    }\n",
       "\n",
       "    .dataframe thead th {\n",
       "        text-align: right;\n",
       "    }\n",
       "</style>\n",
       "<table border=\"1\" class=\"dataframe\">\n",
       "  <thead>\n",
       "    <tr style=\"text-align: right;\">\n",
       "      <th></th>\n",
       "      <th>addr_zip</th>\n",
       "      <th>zip_average_income</th>\n",
       "    </tr>\n",
       "  </thead>\n",
       "  <tbody>\n",
       "    <tr>\n",
       "      <th>0</th>\n",
       "      <td>10001.0</td>\n",
       "      <td>183859.908735</td>\n",
       "    </tr>\n",
       "    <tr>\n",
       "      <th>1</th>\n",
       "      <td>10002.0</td>\n",
       "      <td>59669.401750</td>\n",
       "    </tr>\n",
       "    <tr>\n",
       "      <th>2</th>\n",
       "      <td>10003.0</td>\n",
       "      <td>306277.962003</td>\n",
       "    </tr>\n",
       "    <tr>\n",
       "      <th>3</th>\n",
       "      <td>10004.0</td>\n",
       "      <td>385265.306122</td>\n",
       "    </tr>\n",
       "    <tr>\n",
       "      <th>4</th>\n",
       "      <td>10005.0</td>\n",
       "      <td>391201.520270</td>\n",
       "    </tr>\n",
       "  </tbody>\n",
       "</table>\n",
       "</div>"
      ],
      "text/plain": [
       "   addr_zip  zip_average_income\n",
       "0   10001.0       183859.908735\n",
       "1   10002.0        59669.401750\n",
       "2   10003.0       306277.962003\n",
       "3   10004.0       385265.306122\n",
       "4   10005.0       391201.520270"
      ]
     },
     "execution_count": 10,
     "metadata": {},
     "output_type": "execute_result"
    }
   ],
   "source": [
    "average_income = pd.DataFrame({'addr_zip':[],'zip_average_income':[]})\n",
    "\n",
    "def calculate_avg_income():\n",
    "    global average_income\n",
    "    for zipcode in range(10001, 14906):\n",
    "        current_sum=np.where(raw_income_data['zipcode']==zipcode, raw_income_data['total_income'],0).sum()\n",
    "        current_returns=np.where(raw_income_data['zipcode']==zipcode, raw_income_data['total_returns'],0).sum() \n",
    "        if(current_returns <=0 or current_sum<=0):\n",
    "            continue\n",
    "        avg_income=(current_sum*1000)/current_returns\n",
    "        new_row={'addr_zip':zipcode,'zip_average_income':avg_income}\n",
    "        average_income=average_income.append(new_row,ignore_index=True)           \n",
    "calculate_avg_income()\n",
    "average_income.head(5)"
   ]
  },
  {
   "cell_type": "markdown",
   "metadata": {
    "colab_type": "text",
    "id": "0IzznDIuz50U"
   },
   "source": [
    " - We realize that the income dataset is missing all income data between zipcode 11239 - 11354, we will take an averge of zipcode income for 11239 and 11354 to replace any zipcode income in between \n",
    " - In our training and testing dataset, only the zipcode income 11249 is missing"
   ]
  },
  {
   "cell_type": "code",
   "execution_count": 11,
   "metadata": {
    "colab": {},
    "colab_type": "code",
    "id": "gTUSEJ49z50U",
    "outputId": "0e334a05-9c82-48c3-ab4d-77744e611715"
   },
   "outputs": [
    {
     "name": "stdout",
     "output_type": "stream",
     "text": [
      "[11249]\n",
      "[11249]\n"
     ]
    }
   ],
   "source": [
    "print(list(set(raw_df['addr_zip']) - set(average_income['addr_zip'])))\n",
    "print(list(set(raw_test_df['addr_zip']) - set(average_income['addr_zip'])))"
   ]
  },
  {
   "cell_type": "markdown",
   "metadata": {
    "colab_type": "text",
    "id": "XnbmWJYxz50X"
   },
   "source": [
    "**Insert a new row for zipcode income 11249 into the average_income dataframe**"
   ]
  },
  {
   "cell_type": "code",
   "execution_count": 12,
   "metadata": {
    "colab": {},
    "colab_type": "code",
    "id": "F_bdJvGyz50Y"
   },
   "outputs": [],
   "source": [
    "avg_income = (average_income.loc[(average_income['addr_zip']==11239)].iloc[0]['zip_average_income'] +\n",
    "             average_income.loc[(average_income['addr_zip']==11354)].iloc[0]['zip_average_income'])/2\n",
    "new_row = {'addr_zip':11249,'zip_average_income':avg_income}\n",
    "average_income=average_income.append(new_row,ignore_index=True)  "
   ]
  },
  {
   "cell_type": "markdown",
   "metadata": {
    "colab_type": "text",
    "id": "UtLCiyTwz50a"
   },
   "source": [
    "### Merge the raw train  dataset with the income dataset by addr_zip"
   ]
  },
  {
   "cell_type": "code",
   "execution_count": 13,
   "metadata": {
    "colab": {},
    "colab_type": "code",
    "id": "Mkmeq1Q3z50b"
   },
   "outputs": [],
   "source": [
    "raw_test2_df=raw_test2_df.reset_index().merge(average_income, how=\"left\",on='addr_zip').set_index('rental_id')\n",
    "raw_df=raw_df.reset_index().merge(average_income, how=\"left\",on='addr_zip').set_index('rental_id')\n",
    "raw_test_df=raw_test_df.reset_index().merge(average_income, how=\"left\",on='addr_zip').set_index('rental_id')\n",
    "raw_test3_df=raw_test3_df.reset_index().merge(average_income, how=\"left\",on='addr_zip').set_index('rental_id')"
   ]
  },
  {
   "cell_type": "markdown",
   "metadata": {
    "colab_type": "text",
    "id": "GO3qzUewz50d"
   },
   "source": [
    "### Find zip_average_income and rent cooleration"
   ]
  },
  {
   "cell_type": "code",
   "execution_count": 14,
   "metadata": {
    "colab": {},
    "colab_type": "code",
    "id": "gasWc5OYz50e"
   },
   "outputs": [],
   "source": [
    "continuous_features.append('zip_average_income')"
   ]
  },
  {
   "cell_type": "code",
   "execution_count": 15,
   "metadata": {
    "colab": {},
    "colab_type": "code",
    "id": "-kqkBEJGz50h",
    "outputId": "59ca8084-dce3-452d-f506-2926ae2e526c"
   },
   "outputs": [
    {
     "data": {
      "text/plain": [
       "zip_average_income    0.398523\n",
       "Name: rent, dtype: float64"
      ]
     },
     "execution_count": 15,
     "metadata": {},
     "output_type": "execute_result"
    }
   ],
   "source": [
    "continuous_df = raw_df[['zip_average_income','rent']]\n",
    "continuous_df.corr()['rent'][:-1]"
   ]
  },
  {
   "cell_type": "markdown",
   "metadata": {
    "colab_type": "text",
    "id": "Vwee4_SPz50l"
   },
   "source": [
    "**The correlation between zip_average_income and rent is 0.393228, it is good enough to consider as a important feature that might impact the rent**"
   ]
  },
  {
   "cell_type": "markdown",
   "metadata": {
    "colab_type": "text",
    "id": "nP0OeeTjMHgJ"
   },
   "source": [
    "## Import external Unemployment dataset from Zipatlas\n",
    " - dataset source (http://zipatlas.com/us/ny/zip-code-comparison/unemployment-rate.htm)\n",
    " - The site only contains the data table, so the data were manually copied to csv file\n",
    " - People tend to stay in the areas that has more working oppurnites,which means the renting market is busy, therefore the areas with high underemployemnt rate are more likely to have lower rent, however, since we are working with zipcode, there are zipcodes that have only a few people that shift the result, so our team will need to evalue how will the overall model change.\n"
   ]
  },
  {
   "cell_type": "code",
   "execution_count": 16,
   "metadata": {
    "colab": {
     "base_uri": "https://localhost:8080/",
     "height": 68
    },
    "colab_type": "code",
    "id": "LoHNhTQWMHgM",
    "outputId": "dbe6ece8-5e01-4444-e847-4007f87fd913"
   },
   "outputs": [
    {
     "data": {
      "text/plain": [
       "Index(['Zip Code', 'Location', 'City', 'Population', '% Unemployment Rate',\n",
       "       'National Rank'],\n",
       "      dtype='object')"
      ]
     },
     "execution_count": 16,
     "metadata": {},
     "output_type": "execute_result"
    }
   ],
   "source": [
    "unemployment_df = pd.read_csv('./data/Unemployment_Rate_NY_by_zipcode.csv')\n",
    "unemployment_df.columns\n"
   ]
  },
  {
   "cell_type": "code",
   "execution_count": 17,
   "metadata": {
    "colab": {
     "base_uri": "https://localhost:8080/",
     "height": 359
    },
    "colab_type": "code",
    "id": "xqB5gmnuMHgQ",
    "outputId": "a3f51809-1d3a-4711-d9d9-55c8987e92ed"
   },
   "outputs": [
    {
     "data": {
      "text/html": [
       "<div>\n",
       "<style scoped>\n",
       "    .dataframe tbody tr th:only-of-type {\n",
       "        vertical-align: middle;\n",
       "    }\n",
       "\n",
       "    .dataframe tbody tr th {\n",
       "        vertical-align: top;\n",
       "    }\n",
       "\n",
       "    .dataframe thead th {\n",
       "        text-align: right;\n",
       "    }\n",
       "</style>\n",
       "<table border=\"1\" class=\"dataframe\">\n",
       "  <thead>\n",
       "    <tr style=\"text-align: right;\">\n",
       "      <th></th>\n",
       "      <th>addr_zip</th>\n",
       "      <th>zip_unemployment_rate</th>\n",
       "    </tr>\n",
       "  </thead>\n",
       "  <tbody>\n",
       "    <tr>\n",
       "      <th>0</th>\n",
       "      <td>14614</td>\n",
       "      <td>75.47%</td>\n",
       "    </tr>\n",
       "    <tr>\n",
       "      <th>1</th>\n",
       "      <td>12970</td>\n",
       "      <td>67.58%</td>\n",
       "    </tr>\n",
       "    <tr>\n",
       "      <th>2</th>\n",
       "      <td>11430</td>\n",
       "      <td>57.03%</td>\n",
       "    </tr>\n",
       "    <tr>\n",
       "      <th>3</th>\n",
       "      <td>12742</td>\n",
       "      <td>48.33%</td>\n",
       "    </tr>\n",
       "    <tr>\n",
       "      <th>4</th>\n",
       "      <td>14068</td>\n",
       "      <td>38.20%</td>\n",
       "    </tr>\n",
       "    <tr>\n",
       "      <th>5</th>\n",
       "      <td>12733</td>\n",
       "      <td>37.53%</td>\n",
       "    </tr>\n",
       "    <tr>\n",
       "      <th>6</th>\n",
       "      <td>12786</td>\n",
       "      <td>33.63%</td>\n",
       "    </tr>\n",
       "    <tr>\n",
       "      <th>7</th>\n",
       "      <td>14478</td>\n",
       "      <td>28.29%</td>\n",
       "    </tr>\n",
       "    <tr>\n",
       "      <th>8</th>\n",
       "      <td>10474</td>\n",
       "      <td>27.37%</td>\n",
       "    </tr>\n",
       "    <tr>\n",
       "      <th>9</th>\n",
       "      <td>13202</td>\n",
       "      <td>26.84%</td>\n",
       "    </tr>\n",
       "  </tbody>\n",
       "</table>\n",
       "</div>"
      ],
      "text/plain": [
       "   addr_zip zip_unemployment_rate\n",
       "0     14614                75.47%\n",
       "1     12970                67.58%\n",
       "2     11430                57.03%\n",
       "3     12742                48.33%\n",
       "4     14068                38.20%\n",
       "5     12733                37.53%\n",
       "6     12786                33.63%\n",
       "7     14478                28.29%\n",
       "8     10474                27.37%\n",
       "9     13202                26.84%"
      ]
     },
     "execution_count": 17,
     "metadata": {},
     "output_type": "execute_result"
    }
   ],
   "source": [
    "# We only care about zipcode and % Unemployment Rate\n",
    "unemployment_df = unemployment_df[['Zip Code','% Unemployment Rate']]\n",
    "unemployment_df.rename(columns={'Zip Code':'addr_zip','% Unemployment Rate':\"zip_unemployment_rate\"}, inplace=True)\n",
    "unemployment_df.head(10)"
   ]
  },
  {
   "cell_type": "code",
   "execution_count": 18,
   "metadata": {
    "colab": {},
    "colab_type": "code",
    "id": "plx7ZDYKMHgS"
   },
   "outputs": [],
   "source": [
    "# Convert the zip_unemployment_rate to float \n",
    "unemployment_df['zip_unemployment_rate'] = unemployment_df['zip_unemployment_rate'].str.replace(r'.%$', '')\n",
    "unemployment_df['zip_unemployment_rate'] = unemployment_df['zip_unemployment_rate'].astype(float)"
   ]
  },
  {
   "cell_type": "markdown",
   "metadata": {
    "colab_type": "text",
    "id": "X7hL9qx_MHgU"
   },
   "source": [
    "- We will merge the raw train dataset with the unemployment_df dataset by addr_zip"
   ]
  },
  {
   "cell_type": "code",
   "execution_count": 19,
   "metadata": {
    "colab": {},
    "colab_type": "code",
    "id": "WHV-4KRlMHgU"
   },
   "outputs": [],
   "source": [
    "raw_df=raw_df.reset_index().merge(unemployment_df, how=\"left\",on='addr_zip').set_index('rental_id')\n",
    "raw_test_df=raw_test_df.reset_index().merge(unemployment_df, how=\"left\",on='addr_zip').set_index('rental_id')\n",
    "raw_test2_df=raw_test2_df.reset_index().merge(unemployment_df, how=\"left\",on='addr_zip').set_index('rental_id')\n",
    "raw_test3_df=raw_test3_df.reset_index().merge(unemployment_df, how=\"left\",on='addr_zip').set_index('rental_id')\n",
    "# raw_df.head(5)"
   ]
  },
  {
   "cell_type": "code",
   "execution_count": 20,
   "metadata": {
    "colab": {},
    "colab_type": "code",
    "id": "IDtx6MMoMHgX",
    "outputId": "ad1c76a0-7fe3-41d2-c864-f44b0c7cb222"
   },
   "outputs": [
    {
     "name": "stdout",
     "output_type": "stream",
     "text": [
      "Missing data for the newly added zip_unemployment_rate column is: 338\n"
     ]
    }
   ],
   "source": [
    "print(\"Missing data for the newly added zip_unemployment_rate column is:\",raw_df['zip_unemployment_rate'].isna().sum())"
   ]
  },
  {
   "cell_type": "markdown",
   "metadata": {
    "colab_type": "text",
    "id": "PBhokT66MHgZ"
   },
   "source": [
    "We will try to replace the missing data with the mean of the unemployment rates"
   ]
  },
  {
   "cell_type": "code",
   "execution_count": 21,
   "metadata": {
    "colab": {
     "base_uri": "https://localhost:8080/",
     "height": 34
    },
    "colab_type": "code",
    "id": "HgdMJKvaMHga",
    "outputId": "5fe176fb-90e7-4bc8-ed2e-3ca76b110a5a"
   },
   "outputs": [
    {
     "data": {
      "text/plain": [
       "0"
      ]
     },
     "execution_count": 21,
     "metadata": {},
     "output_type": "execute_result"
    }
   ],
   "source": [
    "raw_df['zip_unemployment_rate'].fillna(raw_df['zip_unemployment_rate'].mean(), inplace=True)\n",
    "raw_test_df['zip_unemployment_rate'].fillna(raw_test_df['zip_unemployment_rate'].mean(), inplace=True)\n",
    "raw_test2_df['zip_unemployment_rate'].fillna(raw_test2_df['zip_unemployment_rate'].mean(), inplace=True)\n",
    "raw_test3_df['zip_unemployment_rate'].fillna(raw_test3_df['zip_unemployment_rate'].mean(), inplace=True)\n",
    "raw_df['zip_unemployment_rate'].isna().sum()"
   ]
  },
  {
   "cell_type": "markdown",
   "metadata": {
    "colab_type": "text",
    "id": "bLAmOhJ8MHgc"
   },
   "source": [
    "### Find zip_unemployment_rate and rent cooleration"
   ]
  },
  {
   "cell_type": "code",
   "execution_count": 22,
   "metadata": {
    "colab": {},
    "colab_type": "code",
    "id": "DzlXjv3BMHgc"
   },
   "outputs": [],
   "source": [
    "continuous_features.append('zip_unemployment_rate')"
   ]
  },
  {
   "cell_type": "code",
   "execution_count": 23,
   "metadata": {
    "colab": {},
    "colab_type": "code",
    "id": "24IRNXy-MHge",
    "outputId": "f120ab04-fb0c-4370-bd2c-f89bb3db760f"
   },
   "outputs": [
    {
     "data": {
      "text/plain": [
       "zip_unemployment_rate   -0.165366\n",
       "Name: rent, dtype: float64"
      ]
     },
     "execution_count": 23,
     "metadata": {},
     "output_type": "execute_result"
    }
   ],
   "source": [
    "continuous_df = raw_df[['zip_unemployment_rate','rent']]\n",
    "continuous_df.corr()['rent'][:-1]"
   ]
  },
  {
   "cell_type": "markdown",
   "metadata": {
    "colab_type": "text",
    "id": "1NK0P27BMHgg"
   },
   "source": [
    "- The correlation between zip_unemployment_rate and rent is  -0.167267.\n",
    "- It clearly shows that the unemployment rate and rent has negative correlation, as we have stated, area with higher unemployment rate tend to have a lower rent, but the relationship is not that significant comparing to the average income"
   ]
  },
  {
   "cell_type": "markdown",
   "metadata": {
    "colab_type": "text",
    "id": "FMxkLsSRG95a"
   },
   "source": [
    "## Import external Population dataset from NYC OpenData\n",
    " - dataset source (https://data.cityofnewyork.us/City-Government/New-York-City-Population-By-Neighborhood-Tabulatio/swpk-hqdp).\n",
    " - This population dataset from NYC OpenData is based on neighbourhood, we can append neighbourhood_population to eash row"
   ]
  },
  {
   "cell_type": "code",
   "execution_count": 24,
   "metadata": {
    "colab": {},
    "colab_type": "code",
    "id": "MzkL5NE0G95b"
   },
   "outputs": [],
   "source": [
    "# import dataset\n",
    "poulation_df = pd.read_csv('./data/NYC_Population.csv', index_col=0)"
   ]
  },
  {
   "cell_type": "code",
   "execution_count": 25,
   "metadata": {
    "colab": {},
    "colab_type": "code",
    "id": "Xov6NdDBG95f",
    "outputId": "f0e0b76b-7306-4114-d102-5a8fe880e8f6"
   },
   "outputs": [
    {
     "data": {
      "text/html": [
       "<div>\n",
       "<style scoped>\n",
       "    .dataframe tbody tr th:only-of-type {\n",
       "        vertical-align: middle;\n",
       "    }\n",
       "\n",
       "    .dataframe tbody tr th {\n",
       "        vertical-align: top;\n",
       "    }\n",
       "\n",
       "    .dataframe thead th {\n",
       "        text-align: right;\n",
       "    }\n",
       "</style>\n",
       "<table border=\"1\" class=\"dataframe\">\n",
       "  <thead>\n",
       "    <tr style=\"text-align: right;\">\n",
       "      <th></th>\n",
       "      <th>neighborhood</th>\n",
       "      <th>neighborhood_population</th>\n",
       "    </tr>\n",
       "    <tr>\n",
       "      <th>Borough</th>\n",
       "      <th></th>\n",
       "      <th></th>\n",
       "    </tr>\n",
       "  </thead>\n",
       "  <tbody>\n",
       "    <tr>\n",
       "      <th>Bronx</th>\n",
       "      <td>Claremont-Bathgate</td>\n",
       "      <td>31078</td>\n",
       "    </tr>\n",
       "    <tr>\n",
       "      <th>Bronx</th>\n",
       "      <td>Eastchester-Edenwald-Baychester</td>\n",
       "      <td>34517</td>\n",
       "    </tr>\n",
       "    <tr>\n",
       "      <th>Bronx</th>\n",
       "      <td>Bedford Park-Fordham North</td>\n",
       "      <td>54415</td>\n",
       "    </tr>\n",
       "    <tr>\n",
       "      <th>Bronx</th>\n",
       "      <td>Belmont</td>\n",
       "      <td>27378</td>\n",
       "    </tr>\n",
       "    <tr>\n",
       "      <th>Bronx</th>\n",
       "      <td>Bronxdale</td>\n",
       "      <td>35538</td>\n",
       "    </tr>\n",
       "    <tr>\n",
       "      <th>Bronx</th>\n",
       "      <td>West Farms-Bronx River</td>\n",
       "      <td>35011</td>\n",
       "    </tr>\n",
       "    <tr>\n",
       "      <th>Bronx</th>\n",
       "      <td>Soundview-Castle Hill-Clason Point-Harding Park</td>\n",
       "      <td>53686</td>\n",
       "    </tr>\n",
       "    <tr>\n",
       "      <th>Bronx</th>\n",
       "      <td>Pelham Bay-Country Club-City Island</td>\n",
       "      <td>26583</td>\n",
       "    </tr>\n",
       "    <tr>\n",
       "      <th>Bronx</th>\n",
       "      <td>Co-Op City</td>\n",
       "      <td>43752</td>\n",
       "    </tr>\n",
       "    <tr>\n",
       "      <th>Bronx</th>\n",
       "      <td>East Concourse-Concourse Village</td>\n",
       "      <td>62284</td>\n",
       "    </tr>\n",
       "  </tbody>\n",
       "</table>\n",
       "</div>"
      ],
      "text/plain": [
       "                                            neighborhood  \\\n",
       "Borough                                                    \n",
       "Bronx                                 Claremont-Bathgate   \n",
       "Bronx                    Eastchester-Edenwald-Baychester   \n",
       "Bronx                         Bedford Park-Fordham North   \n",
       "Bronx                                            Belmont   \n",
       "Bronx                                          Bronxdale   \n",
       "Bronx                             West Farms-Bronx River   \n",
       "Bronx    Soundview-Castle Hill-Clason Point-Harding Park   \n",
       "Bronx                Pelham Bay-Country Club-City Island   \n",
       "Bronx                                         Co-Op City   \n",
       "Bronx                   East Concourse-Concourse Village   \n",
       "\n",
       "         neighborhood_population  \n",
       "Borough                           \n",
       "Bronx                      31078  \n",
       "Bronx                      34517  \n",
       "Bronx                      54415  \n",
       "Bronx                      27378  \n",
       "Bronx                      35538  \n",
       "Bronx                      35011  \n",
       "Bronx                      53686  \n",
       "Bronx                      26583  \n",
       "Bronx                      43752  \n",
       "Bronx                      62284  "
      ]
     },
     "execution_count": 25,
     "metadata": {},
     "output_type": "execute_result"
    }
   ],
   "source": [
    "# dataset contain 2010 and 2000 datas, we only take 2010 data\n",
    "poulation_df = poulation_df[poulation_df['Year']==2010]\n",
    "poulation_df = poulation_df[['NTA Name','Population']]\n",
    "poulation_df.rename(columns={'NTA Name':'neighborhood','Population':\"neighborhood_population\"}, inplace=True)\n",
    "poulation_df.head(10)"
   ]
  },
  {
   "cell_type": "code",
   "execution_count": 26,
   "metadata": {
    "colab": {},
    "colab_type": "code",
    "id": "_zxXC7aRG95h"
   },
   "outputs": [],
   "source": [
    "# join the train datasets with population dataset\n",
    "raw_df=raw_df.reset_index().merge(poulation_df, how=\"left\",on='neighborhood').set_index('rental_id')\n",
    "raw_test_df=raw_test_df.reset_index().merge(poulation_df, how=\"left\",on='neighborhood').set_index('rental_id')\n",
    "raw_test2_df=raw_test2_df.reset_index().merge(poulation_df, how=\"left\",on='neighborhood').set_index('rental_id')\n",
    "raw_test3_df=raw_test3_df.reset_index().merge(poulation_df, how=\"left\",on='neighborhood').set_index('rental_id')"
   ]
  },
  {
   "cell_type": "markdown",
   "metadata": {
    "colab_type": "text",
    "id": "E9P4E7UCG95k"
   },
   "source": [
    "- We join two datasets by using 'neighborhood', but some of the 'neighborhood' names are not exact the same\n",
    "- For those neighborhood name can't find in the population_df, we try to look for substring match"
   ]
  },
  {
   "cell_type": "code",
   "execution_count": 27,
   "metadata": {
    "colab": {},
    "colab_type": "code",
    "id": "wYvnDL8VG95k"
   },
   "outputs": [],
   "source": [
    "\n",
    "def joinPopulation(df):\n",
    "    for neighborhood in pd.unique(df.neighborhood.values):\n",
    "        if neighborhood != neighborhood:\n",
    "            continue\n",
    "        population = df.loc[df['neighborhood'] == neighborhood,'neighborhood_population'].mean()\n",
    "        if population == population:\n",
    "            continue\n",
    "        match_rows = poulation_df['neighborhood'].str.match(neighborhood)\n",
    "        mean_population =poulation_df[match_rows]['neighborhood_population'].mean()\n",
    "        df.loc[df['neighborhood'] == neighborhood, 'neighborhood_population'] = mean_population\n",
    "joinPopulation(raw_df)\n",
    "joinPopulation(raw_test2_df)"
   ]
  },
  {
   "cell_type": "code",
   "execution_count": 28,
   "metadata": {
    "colab": {},
    "colab_type": "code",
    "id": "BV4jp7yPG95o"
   },
   "outputs": [],
   "source": [
    "raw_df['neighborhood_population'].fillna(raw_df['neighborhood_population'].mean(), inplace=True)\n",
    "raw_test_df['neighborhood_population'].fillna(raw_test_df['neighborhood_population'].mean(), inplace=True)\n",
    "raw_test2_df['neighborhood_population'].fillna(raw_test2_df['neighborhood_population'].mean(), inplace=True)\n",
    "raw_test3_df['neighborhood_population'].fillna(raw_test3_df['neighborhood_population'].mean(), inplace=True)"
   ]
  },
  {
   "cell_type": "markdown",
   "metadata": {
    "colab_type": "text",
    "id": "cQF3iHHBHgOm"
   },
   "source": [
    "## Import external housing sale price dataset\n",
    " - dataset source (https://www.kaggle.com/new-york-city/nyc-property-sales)."
   ]
  },
  {
   "cell_type": "code",
   "execution_count": 29,
   "metadata": {
    "colab": {
     "base_uri": "https://localhost:8080/",
     "height": 34
    },
    "colab_type": "code",
    "id": "2RBrhWfVHfCa",
    "outputId": "984041eb-abff-4cb7-edf0-dd6e7c44b028"
   },
   "outputs": [
    {
     "data": {
      "text/plain": [
       "Index(['ave_sale_price', 'addr_zip'], dtype='object')"
      ]
     },
     "execution_count": 29,
     "metadata": {},
     "output_type": "execute_result"
    }
   ],
   "source": [
    "sale_df =  pd.read_csv('./data/sale_price.csv')\n",
    "sale_df.columns"
   ]
  },
  {
   "cell_type": "code",
   "execution_count": 30,
   "metadata": {
    "colab": {},
    "colab_type": "code",
    "id": "9Nqw3-mAItSE"
   },
   "outputs": [],
   "source": [
    "raw_test2_df=raw_test2_df.reset_index().merge(sale_df, how=\"left\",on='addr_zip').set_index('rental_id')\n",
    "raw_df=raw_df.reset_index().merge(sale_df, how=\"left\",on='addr_zip').set_index('rental_id')\n",
    "raw_test_df=raw_test_df.reset_index().merge(sale_df, how=\"left\",on='addr_zip').set_index('rental_id')\n",
    "raw_test3_df=raw_test3_df.reset_index().merge(sale_df, how=\"left\",on='addr_zip').set_index('rental_id')"
   ]
  },
  {
   "cell_type": "markdown",
   "metadata": {
    "colab_type": "text",
    "id": "NPXRtXY4MHgz"
   },
   "source": [
    "## Import external median estimated rental values dataset from Zillow\n",
    " - dataset source (https://www.zillow.com/research/data/).\n",
    " - this dataset provides a smoothed measure of the median estimated market rate rent across a given region and housing type"
   ]
  },
  {
   "cell_type": "code",
   "execution_count": 31,
   "metadata": {
    "colab": {
     "base_uri": "https://localhost:8080/",
     "height": 68
    },
    "colab_type": "code",
    "id": "vB3zACi6MHg0",
    "outputId": "889d5cb4-f97e-46fc-e8a8-cca6aec074a4"
   },
   "outputs": [
    {
     "data": {
      "text/plain": [
       "Index(['Date', 'RegionName', 'State', 'Metro', 'County', 'City', 'SizeRank',\n",
       "       'Zri', 'MoM', 'QoQ', 'YoY', 'ZriRecordCnt'],\n",
       "      dtype='object')"
      ]
     },
     "execution_count": 31,
     "metadata": {},
     "output_type": "execute_result"
    }
   ],
   "source": [
    "rv_df =  pd.read_csv('./data/Zip_Zri_AllHomesPlusMultifamily_Summary.csv', encoding = \"ISO-8859-1\")\n",
    "rv_df.columns"
   ]
  },
  {
   "cell_type": "markdown",
   "metadata": {
    "colab_type": "text",
    "id": "LWECqCbjMHg2"
   },
   "source": [
    "As we can see from all the columns, the only columns we will need are \n",
    "- RegionName : which in our case is the zipcode \n",
    "- Zri : which stands for Zillow Rent Index,it is a smoothed measure of the median estimated market rate rent across a given region. \n",
    "\n",
    "Therefore we can drop all other columns and also, we should frist drop all the rows that are not in the state of NY"
   ]
  },
  {
   "cell_type": "code",
   "execution_count": 32,
   "metadata": {
    "colab": {},
    "colab_type": "code",
    "id": "xblFfZ3oMHg3"
   },
   "outputs": [],
   "source": [
    "rv_df = rv_df[rv_df['State']=='NY']\n",
    "rv_df = rv_df[['RegionName','Zri']]\n",
    "rv_df.rename(columns={'RegionName':'addr_zip','Zri':\"estimated_rental_value\"}, inplace=True)\n",
    "# rv_df.head(10)"
   ]
  },
  {
   "cell_type": "markdown",
   "metadata": {
    "colab_type": "text",
    "id": "pk64ZG4FMHg5"
   },
   "source": [
    "We can check if there is any missing data just in case"
   ]
  },
  {
   "cell_type": "code",
   "execution_count": 33,
   "metadata": {
    "colab": {},
    "colab_type": "code",
    "id": "u14g8NSPMHg5",
    "outputId": "242fa3fb-8217-4601-f0c9-ef04f061145e"
   },
   "outputs": [
    {
     "data": {
      "text/plain": [
       "addr_zip                  0\n",
       "estimated_rental_value    0\n",
       "dtype: int64"
      ]
     },
     "execution_count": 33,
     "metadata": {},
     "output_type": "execute_result"
    }
   ],
   "source": [
    "rv_df.isna().sum()"
   ]
  },
  {
   "cell_type": "code",
   "execution_count": 34,
   "metadata": {
    "colab": {},
    "colab_type": "code",
    "id": "dGfan4pWMHg8"
   },
   "outputs": [],
   "source": [
    "raw_df=raw_df.reset_index().merge(rv_df, how=\"left\",on='addr_zip').set_index('rental_id')\n",
    "raw_test_df=raw_test_df.reset_index().merge(rv_df, how=\"left\",on='addr_zip').set_index('rental_id')\n",
    "raw_test2_df=raw_test2_df.reset_index().merge(rv_df, how=\"left\",on='addr_zip').set_index('rental_id')\n",
    "raw_test3_df=raw_test3_df.reset_index().merge(rv_df, how=\"left\",on='addr_zip').set_index('rental_id')\n",
    "# raw_df.head(5)"
   ]
  },
  {
   "cell_type": "code",
   "execution_count": 35,
   "metadata": {
    "colab": {},
    "colab_type": "code",
    "id": "0NQcXeLLMHg_",
    "outputId": "a53d14f7-982e-4682-da58-dc812fd674c0"
   },
   "outputs": [
    {
     "name": "stdout",
     "output_type": "stream",
     "text": [
      "Missing data for the newly added estimated_rental_value column is: 526\n"
     ]
    }
   ],
   "source": [
    "print(\"Missing data for the newly added estimated_rental_value column is:\",raw_df['estimated_rental_value'].isna().sum())"
   ]
  },
  {
   "cell_type": "markdown",
   "metadata": {
    "colab_type": "text",
    "id": "GNeT9tNSMHhC"
   },
   "source": [
    "We will use the mean of the estimate_rental_value to fill the missing value"
   ]
  },
  {
   "cell_type": "code",
   "execution_count": 36,
   "metadata": {
    "colab": {},
    "colab_type": "code",
    "id": "C08KT9FSMHhD"
   },
   "outputs": [],
   "source": [
    "raw_df['estimated_rental_value'].fillna(raw_df['estimated_rental_value'].mean(), inplace=True)\n",
    "raw_test_df['estimated_rental_value'].fillna(raw_test_df['estimated_rental_value'].mean(), inplace=True)\n",
    "raw_test2_df['estimated_rental_value'].fillna(raw_test2_df['estimated_rental_value'].mean(), inplace=True)\n",
    "raw_test3_df['estimated_rental_value'].fillna(raw_test3_df['estimated_rental_value'].mean(), inplace=True)"
   ]
  },
  {
   "cell_type": "code",
   "execution_count": 37,
   "metadata": {
    "colab": {},
    "colab_type": "code",
    "id": "09KcC3YeMHhE",
    "outputId": "590ebd48-13fe-4ffd-b749-0dcfe9b23487"
   },
   "outputs": [
    {
     "data": {
      "text/plain": [
       "0"
      ]
     },
     "execution_count": 37,
     "metadata": {},
     "output_type": "execute_result"
    }
   ],
   "source": [
    "raw_df['estimated_rental_value'].isna().sum()"
   ]
  },
  {
   "cell_type": "code",
   "execution_count": null,
   "metadata": {
    "colab": {},
    "colab_type": "code",
    "id": "b5rSxx3dMHhG"
   },
   "outputs": [],
   "source": []
  },
  {
   "cell_type": "markdown",
   "metadata": {
    "colab_type": "text",
    "id": "Sq-lexQfz50m"
   },
   "source": [
    "# Data Cleaning"
   ]
  },
  {
   "cell_type": "markdown",
   "metadata": {
    "colab_type": "text",
    "id": "g_YNLB4Lz50n"
   },
   "source": [
    "\n",
    "### Handling missing data\n",
    "In order to handle missing data in this dataset, we frist find and count all the null values."
   ]
  },
  {
   "cell_type": "code",
   "execution_count": 38,
   "metadata": {
    "colab": {},
    "colab_type": "code",
    "id": "IBbbVEkLz50q",
    "outputId": "05f679c4-20ad-4541-faa1-d1747e07fd0e"
   },
   "outputs": [
    {
     "data": {
      "text/plain": [
       "addr_unit                    91\n",
       "building_id                   0\n",
       "bedrooms                      0\n",
       "bathrooms                     0\n",
       "size_sqft                     0\n",
       "created_at                    0\n",
       "addr_street                   0\n",
       "addr_city                     0\n",
       "addr_zip                      0\n",
       "addr_lat                      0\n",
       "addr_lon                      0\n",
       "bin                           1\n",
       "bbl                           0\n",
       "floor_count                   0\n",
       "year_built                  403\n",
       "min_to_subway               126\n",
       "has_doorman                   0\n",
       "has_elevator                  0\n",
       "has_fireplace                 0\n",
       "has_dishwasher                0\n",
       "is_furnished                  0\n",
       "has_gym                       0\n",
       "allows_pets                   0\n",
       "has_washer_dryer              0\n",
       "has_garage                    0\n",
       "has_roofdeck                  0\n",
       "has_concierge                 0\n",
       "has_pool                      0\n",
       "has_garden                    0\n",
       "has_childrens_playroom        0\n",
       "rent                          0\n",
       "no_fee                        0\n",
       "description                  15\n",
       "neighborhood                  3\n",
       "borough                       0\n",
       "unit                         95\n",
       "floornumber                1277\n",
       "line                       3524\n",
       "zip_average_income            0\n",
       "zip_unemployment_rate         0\n",
       "neighborhood_population       0\n",
       "ave_sale_price                0\n",
       "estimated_rental_value        0\n",
       "dtype: int64"
      ]
     },
     "execution_count": 38,
     "metadata": {},
     "output_type": "execute_result"
    }
   ],
   "source": [
    "raw_df.isna().sum()"
   ]
  },
  {
   "cell_type": "markdown",
   "metadata": {
    "colab_type": "text",
    "id": "UrIsCH6xz50t"
   },
   "source": [
    "As we can see from the result,there are missing data appearing on: \n",
    "- addr_unit\n",
    "- bin \n",
    "- year_built \n",
    "- min_to_subway \n",
    "- description \n",
    "- neighborhood \n",
    "- unit \n",
    "- floornumber \n",
    "- line \n",
    "\n",
    "Continuous features floornumber, year_built and min_to_subway has impact on the rent, so we will fill with mode or mean. For catagorigious feature neighborhood, we will not use it in building model, because it has too many possible values."
   ]
  },
  {
   "cell_type": "code",
   "execution_count": 39,
   "metadata": {
    "colab": {
     "base_uri": "https://localhost:8080/",
     "height": 51
    },
    "colab_type": "code",
    "id": "TlnpEmrkz50t",
    "outputId": "efa9b222-62e0-42d9-88b4-1a52d3a7b7a6"
   },
   "outputs": [
    {
     "name": "stdout",
     "output_type": "stream",
     "text": [
      "original shape of dataset: (12000, 43)\n",
      "shape of dataset after handling missing data, should stay the same: (12000, 43)\n"
     ]
    }
   ],
   "source": [
    "train_df = raw_df\n",
    "test_df = raw_test_df\n",
    "test2_df = raw_test2_df\n",
    "test3_df = raw_test3_df\n",
    "\n",
    "train_df['floornumber'].fillna(train_df['floornumber'].mode()[0], inplace=True)\n",
    "test_df['floornumber'].fillna(test_df['floornumber'].mode()[0], inplace=True)\n",
    "test2_df['floornumber'].fillna(test2_df['floornumber'].mode()[0], inplace=True)\n",
    "test3_df['floornumber'].fillna(test3_df['floornumber'].mode()[0], inplace=True)\n",
    "\n",
    "train_df['min_to_subway'].fillna(train_df['min_to_subway'].mean(), inplace=True)\n",
    "test_df['min_to_subway'].fillna(test_df['min_to_subway'].mode()[0], inplace=True)\n",
    "test2_df['min_to_subway'].fillna(test2_df['min_to_subway'].mean(), inplace=True)\n",
    "test3_df['min_to_subway'].fillna(test3_df['min_to_subway'].mean(), inplace=True)\n",
    "\n",
    "train_df['year_built'].fillna(train_df['year_built'].mean(), inplace=True)\n",
    "test_df['year_built'].fillna(test_df['year_built'].mode()[0], inplace=True)\n",
    "test2_df['year_built'].fillna(test2_df['year_built'].mean(), inplace=True)\n",
    "test3_df['year_built'].fillna(test3_df['year_built'].mean(), inplace=True)\n",
    "\n",
    "print(\"original shape of dataset:\",raw_df.shape)\n",
    "print(\"shape of dataset after handling missing data, should stay the same:\",train_df.shape)"
   ]
  },
  {
   "cell_type": "markdown",
   "metadata": {
    "colab_type": "text",
    "id": "TeWzSum5z50w"
   },
   "source": [
    "## Remove outliers"
   ]
  },
  {
   "cell_type": "code",
   "execution_count": 40,
   "metadata": {
    "colab": {},
    "colab_type": "code",
    "id": "5ZlyWStHz50w",
    "outputId": "8f0581aa-c64c-423e-b272-3be0a0cc3b6f"
   },
   "outputs": [
    {
     "data": {
      "image/png": "[encoded data removed]",
      "text/plain": [
       "<Figure size 432x288 with 1 Axes>"
      ]
     },
     "metadata": {
      "needs_background": "light"
     },
     "output_type": "display_data"
    },
    {
     "data": {
      "image/png": "[encoded data removed]",
      "text/plain": [
       "<Figure size 432x288 with 1 Axes>"
      ]
     },
     "metadata": {
      "needs_background": "light"
     },
     "output_type": "display_data"
    },
    {
     "data": {
      "image/png": "[encoded data removed]",
      "text/plain": [
       "<Figure size 432x288 with 1 Axes>"
      ]
     },
     "metadata": {
      "needs_background": "light"
     },
     "output_type": "display_data"
    },
    {
     "data": {
      "image/png": "[encoded data removed]",
      "text/plain": [
       "<Figure size 432x288 with 1 Axes>"
      ]
     },
     "metadata": {
      "needs_background": "light"
     },
     "output_type": "display_data"
    },
    {
     "data": {
      "image/png": "[encoded data removed]",
      "text/plain": [
       "<Figure size 432x288 with 1 Axes>"
      ]
     },
     "metadata": {
      "needs_background": "light"
     },
     "output_type": "display_data"
    },
    {
     "data": {
      "image/png": "[encoded data removed]",
      "text/plain": [
       "<Figure size 432x288 with 1 Axes>"
      ]
     },
     "metadata": {
      "needs_background": "light"
     },
     "output_type": "display_data"
    },
    {
     "data": {
      "image/png": "[encoded data removed]",
      "text/plain": [
       "<Figure size 432x288 with 1 Axes>"
      ]
     },
     "metadata": {
      "needs_background": "light"
     },
     "output_type": "display_data"
    },
    {
     "data": {
      "image/png": "[encoded data removed]",
      "text/plain": [
       "<Figure size 432x288 with 1 Axes>"
      ]
     },
     "metadata": {
      "needs_background": "light"
     },
     "output_type": "display_data"
    },
    {
     "data": {
      "image/png": "[encoded data removed]",
      "text/plain": [
       "<Figure size 432x288 with 1 Axes>"
      ]
     },
     "metadata": {
      "needs_background": "light"
     },
     "output_type": "display_data"
    }
   ],
   "source": [
    "for feature in continuous_features:\n",
    "    train_df.plot.scatter(feature, 'rent')"
   ]
  },
  {
   "cell_type": "code",
   "execution_count": 41,
   "metadata": {
    "colab": {},
    "colab_type": "code",
    "id": "nSGretTYz50z"
   },
   "outputs": [
    {
     "data": {
      "text/plain": [
       "addr_unit                  8\n",
       "building_id                8\n",
       "bedrooms                   8\n",
       "bathrooms                  8\n",
       "size_sqft                  8\n",
       "created_at                 8\n",
       "addr_street                8\n",
       "addr_city                  8\n",
       "addr_zip                   8\n",
       "addr_lat                   8\n",
       "addr_lon                   8\n",
       "bin                        8\n",
       "bbl                        8\n",
       "floor_count                8\n",
       "year_built                 8\n",
       "min_to_subway              8\n",
       "has_doorman                8\n",
       "has_elevator               8\n",
       "has_fireplace              8\n",
       "has_dishwasher             8\n",
       "is_furnished               8\n",
       "has_gym                    8\n",
       "allows_pets                8\n",
       "has_washer_dryer           8\n",
       "has_garage                 8\n",
       "has_roofdeck               8\n",
       "has_concierge              8\n",
       "has_pool                   8\n",
       "has_garden                 8\n",
       "has_childrens_playroom     8\n",
       "rent                       8\n",
       "no_fee                     8\n",
       "description                8\n",
       "neighborhood               8\n",
       "borough                    8\n",
       "unit                       7\n",
       "floornumber                8\n",
       "line                       3\n",
       "zip_average_income         8\n",
       "zip_unemployment_rate      8\n",
       "neighborhood_population    8\n",
       "ave_sale_price             8\n",
       "estimated_rental_value     8\n",
       "dtype: int64"
      ]
     },
     "execution_count": 41,
     "metadata": {},
     "output_type": "execute_result"
    }
   ],
   "source": [
    "train_df[train_df['rent']>40000].count()"
   ]
  },
  {
   "cell_type": "markdown",
   "metadata": {
    "colab_type": "text",
    "id": "oi-VpdMNz501"
   },
   "source": [
    "**drop size_sqrt = 0 for now, since there are 713 rows, might replace with mode when creating models**"
   ]
  },
  {
   "cell_type": "code",
   "execution_count": 43,
   "metadata": {
    "colab": {
     "base_uri": "https://localhost:8080/",
     "height": 221
    },
    "colab_type": "code",
    "id": "eVa8L2Siz502",
    "outputId": "3231029c-0525-408f-c74e-4a355f8a9422"
   },
   "outputs": [
    {
     "name": "stdout",
     "output_type": "stream",
     "text": [
      "rent :  (12000, 43)\n",
      "rent :  (11992, 43)\n",
      "bathrooms :  (11992, 43)\n",
      "bathrooms :  (11987, 43)\n",
      "size_sqft :  (11987, 43)\n",
      "size_sqft :  (11149, 43)\n",
      "year_built :  (11149, 43)\n",
      "year_built :  (11082, 43)\n",
      "min_to_subway :  (11082, 43)\n",
      "min_to_subway :  (10954, 43)\n",
      "floornumber :  (10954, 43)\n",
      "floornumber :  (10940, 43)\n"
     ]
    }
   ],
   "source": [
    "def remove_outliers(train_df, feature, low_value, high_value):\n",
    "    print(feature, ': ', train_df.shape)\n",
    "    train_df = train_df[train_df[feature]>low_value]\n",
    "    train_df = train_df[train_df[feature]<=high_value]\n",
    "    train_df.reset_index(drop=True,inplace=True)\n",
    "    print(feature, ': ', train_df.shape)\n",
    "    return train_df\n",
    "\n",
    "train_df = remove_outliers(train_df, 'rent', 0, 40000)\n",
    "train_df = remove_outliers(train_df, 'bathrooms', 0, 12)\n",
    "train_df = remove_outliers(train_df, 'size_sqft', 0, 10000)\n",
    "train_df = remove_outliers(train_df, 'year_built', 1700, 2019)\n",
    "train_df = remove_outliers(train_df, 'min_to_subway', 0, 60)\n",
    "train_df = remove_outliers(train_df, 'floornumber', 0, 60)\n",
    "\n",
    "train_df['year_built'] = 2018 - train_df['year_built'].astype(int)\n",
    "test_df['year_built'] = 2018 - test_df['year_built'].astype(int)\n",
    "test2_df['year_built'] = 2018 - test2_df['year_built'].astype(int)\n",
    "test3_df['year_built'] = 2018 - test3_df['year_built'].astype(int)"
   ]
  },
  {
   "cell_type": "markdown",
   "metadata": {
    "colab_type": "text",
    "id": "EdMZuLXPz504"
   },
   "source": [
    "### Encode categorical feature and drop useless features"
   ]
  },
  {
   "cell_type": "code",
   "execution_count": 44,
   "metadata": {
    "colab": {},
    "colab_type": "code",
    "id": "Yk6n-wuhz504"
   },
   "outputs": [],
   "source": [
    "boroughs = np.array(train_df['borough'].unique())\n",
    "\n",
    "for borough in boroughs:\n",
    "    train_df[borough] = train_df['borough'].apply(lambda x : int(x == borough))\n",
    "    test_df[borough] = test_df['borough'].apply(lambda x : int(x == borough))\n",
    "    test2_df[borough] = test2_df['borough'].apply(lambda x : int(x == borough))\n",
    "    test3_df[borough] = test3_df['borough'].apply(lambda x : int(x == borough))\n",
    "\n",
    "features_notNeed = ['addr_unit', 'building_id', 'created_at', 'addr_street', 'addr_city', 'addr_zip', 'bin', 'bbl', 'description', \\\n",
    "                    'neighborhood', 'unit', 'borough', 'line']\n",
    "\n",
    "train_df = train_df.drop(features_notNeed, axis=1)"
   ]
  },
  {
   "cell_type": "markdown",
   "metadata": {
    "colab_type": "text",
    "id": "R8wB_RrBz507"
   },
   "source": [
    "### Use pair coorelation for continuous features"
   ]
  },
  {
   "cell_type": "code",
   "execution_count": 45,
   "metadata": {
    "colab": {},
    "colab_type": "code",
    "id": "0T9tc1Sgz507"
   },
   "outputs": [
    {
     "data": {
      "text/plain": [
       "bathrooms                0.640694\n",
       "bedrooms                 0.356034\n",
       "size_sqft                0.687094\n",
       "floor_count              0.260418\n",
       "year_built              -0.108018\n",
       "min_to_subway           -0.085295\n",
       "floornumber              0.246378\n",
       "zip_average_income       0.425890\n",
       "zip_unemployment_rate   -0.172119\n",
       "Name: rent, dtype: float64"
      ]
     },
     "execution_count": 45,
     "metadata": {},
     "output_type": "execute_result"
    }
   ],
   "source": [
    "continuous_df = train_df[continuous_features+['rent']]\n",
    "continuous_df.corr()['rent'][:-1]"
   ]
  },
  {
   "cell_type": "markdown",
   "metadata": {
    "colab_type": "text",
    "id": "1oR3OgtGz50_"
   },
   "source": [
    "### Check coorelation for binary features"
   ]
  },
  {
   "cell_type": "code",
   "execution_count": 46,
   "metadata": {
    "colab": {},
    "colab_type": "code",
    "id": "Hpz9vhlAz51A"
   },
   "outputs": [
    {
     "data": {
      "text/html": [
       "<div>\n",
       "<style scoped>\n",
       "    .dataframe tbody tr th:only-of-type {\n",
       "        vertical-align: middle;\n",
       "    }\n",
       "\n",
       "    .dataframe tbody tr th {\n",
       "        vertical-align: top;\n",
       "    }\n",
       "\n",
       "    .dataframe thead th {\n",
       "        text-align: right;\n",
       "    }\n",
       "</style>\n",
       "<table border=\"1\" class=\"dataframe\">\n",
       "  <thead>\n",
       "    <tr style=\"text-align: right;\">\n",
       "      <th></th>\n",
       "      <th>Coorelation</th>\n",
       "      <th>Feature</th>\n",
       "    </tr>\n",
       "  </thead>\n",
       "  <tbody>\n",
       "    <tr>\n",
       "      <th>0</th>\n",
       "      <td>1.0</td>\n",
       "      <td>has_doorman</td>\n",
       "    </tr>\n",
       "    <tr>\n",
       "      <th>1</th>\n",
       "      <td>1.0</td>\n",
       "      <td>has_elevator</td>\n",
       "    </tr>\n",
       "    <tr>\n",
       "      <th>2</th>\n",
       "      <td>1.0</td>\n",
       "      <td>has_fireplace</td>\n",
       "    </tr>\n",
       "    <tr>\n",
       "      <th>3</th>\n",
       "      <td>1.0</td>\n",
       "      <td>has_dishwasher</td>\n",
       "    </tr>\n",
       "    <tr>\n",
       "      <th>4</th>\n",
       "      <td>1.0</td>\n",
       "      <td>is_furnished</td>\n",
       "    </tr>\n",
       "    <tr>\n",
       "      <th>5</th>\n",
       "      <td>1.0</td>\n",
       "      <td>has_gym</td>\n",
       "    </tr>\n",
       "    <tr>\n",
       "      <th>6</th>\n",
       "      <td>1.0</td>\n",
       "      <td>allows_pets</td>\n",
       "    </tr>\n",
       "    <tr>\n",
       "      <th>7</th>\n",
       "      <td>1.0</td>\n",
       "      <td>has_washer_dryer</td>\n",
       "    </tr>\n",
       "    <tr>\n",
       "      <th>8</th>\n",
       "      <td>1.0</td>\n",
       "      <td>has_garage</td>\n",
       "    </tr>\n",
       "    <tr>\n",
       "      <th>9</th>\n",
       "      <td>1.0</td>\n",
       "      <td>has_roofdeck</td>\n",
       "    </tr>\n",
       "    <tr>\n",
       "      <th>10</th>\n",
       "      <td>1.0</td>\n",
       "      <td>has_concierge</td>\n",
       "    </tr>\n",
       "    <tr>\n",
       "      <th>11</th>\n",
       "      <td>1.0</td>\n",
       "      <td>has_pool</td>\n",
       "    </tr>\n",
       "    <tr>\n",
       "      <th>12</th>\n",
       "      <td>1.0</td>\n",
       "      <td>has_garden</td>\n",
       "    </tr>\n",
       "    <tr>\n",
       "      <th>13</th>\n",
       "      <td>1.0</td>\n",
       "      <td>has_childrens_playroom</td>\n",
       "    </tr>\n",
       "    <tr>\n",
       "      <th>14</th>\n",
       "      <td>-1.0</td>\n",
       "      <td>no_fee</td>\n",
       "    </tr>\n",
       "  </tbody>\n",
       "</table>\n",
       "</div>"
      ],
      "text/plain": [
       "    Coorelation                 Feature\n",
       "0           1.0             has_doorman\n",
       "1           1.0            has_elevator\n",
       "2           1.0           has_fireplace\n",
       "3           1.0          has_dishwasher\n",
       "4           1.0            is_furnished\n",
       "5           1.0                 has_gym\n",
       "6           1.0             allows_pets\n",
       "7           1.0        has_washer_dryer\n",
       "8           1.0              has_garage\n",
       "9           1.0            has_roofdeck\n",
       "10          1.0           has_concierge\n",
       "11          1.0                has_pool\n",
       "12          1.0              has_garden\n",
       "13          1.0  has_childrens_playroom\n",
       "14         -1.0                  no_fee"
      ]
     },
     "execution_count": 46,
     "metadata": {},
     "output_type": "execute_result"
    }
   ],
   "source": [
    "train_df[binary_features+['rent']].corr()['rent'][:-1]\n",
    "coor_results= []\n",
    "\n",
    "for feature in binary_features:\n",
    "  df = raw_df.groupby([feature]).aggregate(['mean'])['rent']\n",
    "  df[feature]= df.index\n",
    "  coor_results.append(df.corr().iloc[0][1])\n",
    "coor_df = pd.DataFrame({'Coorelation': coor_results,'Feature':binary_features})\n",
    "coor_df\n"
   ]
  },
  {
   "cell_type": "markdown",
   "metadata": {
    "colab_type": "text",
    "id": "2yKBFlfwz51C"
   },
   "source": [
    "As we can see in the correlation table, all binary features highly affected the rents. When we build the models, we should include all binary features."
   ]
  },
  {
   "cell_type": "markdown",
   "metadata": {
    "colab_type": "text",
    "id": "d7UQLvU9z51D"
   },
   "source": [
    "# Build Models\n",
    " - We will be using cross validation to evaluate the performances of all our modles,and then deciding which should be the most suitable one, thus we will first create a function called get_cv_results to obtain the cv_performance.\n",
    " - we will try 5 different basic categorical models:`multiple regression, decision tree, random froest, Gradient Boosting Regression and Neural Network`"
   ]
  },
  {
   "cell_type": "code",
   "execution_count": 47,
   "metadata": {
    "colab": {},
    "colab_type": "code",
    "id": "7YFRHMFYz51G"
   },
   "outputs": [],
   "source": [
    "#md_df = shuffle(train_df).reset_index(drop=True)\n",
    "features = list(train_df.columns)\n",
    "features.remove('rent')\n",
    "k_fold = KFold(n_splits=10)"
   ]
  },
  {
   "cell_type": "code",
   "execution_count": 48,
   "metadata": {
    "colab": {},
    "colab_type": "code",
    "id": "AknQGhA5z51I"
   },
   "outputs": [],
   "source": [
    "def get_cv_results(regressor):\n",
    "    \n",
    "    results = []\n",
    "    for train, test in k_fold.split(train_df):\n",
    "        regressor.fit(train_df.loc[train, features], train_df.loc[train, 'rent'])\n",
    "        y_predicted = regressor.predict(train_df.loc[test, features])\n",
    "        accuracy = mean_squared_error(train_df.loc[test, 'rent'], y_predicted)\n",
    "        results.append(accuracy)\n",
    "\n",
    "    return np.mean(results), np.std(results)\n",
    "\n",
    "def get_test_result(regressor):\n",
    "    regressor.fit(train_df[features], train_df['rent'])\n",
    "    y_predicted = regressor.predict(test_df[features])\n",
    "    accuracy = mean_squared_error(test_df['rent'], y_predicted)\n",
    "    return accuracy"
   ]
  },
  {
   "cell_type": "markdown",
   "metadata": {
    "colab_type": "text",
    "id": "U6Eo0zUHz51K"
   },
   "source": [
    "### Radnom Forest Model"
   ]
  },
  {
   "cell_type": "code",
   "execution_count": 49,
   "metadata": {
    "colab": {},
    "colab_type": "code",
    "id": "9FtBQ3enz51L"
   },
   "outputs": [],
   "source": [
    "rforest = RandomForestRegressor(\n",
    "    random_state=11, \n",
    "    max_depth=10,\n",
    "    n_estimators=200\n",
    ")\n"
   ]
  },
  {
   "cell_type": "code",
   "execution_count": 50,
   "metadata": {
    "colab": {},
    "colab_type": "code",
    "id": "mSdqSbSez51N"
   },
   "outputs": [],
   "source": [
    "#get_cv_results(rforest)"
   ]
  },
  {
   "cell_type": "code",
   "execution_count": 51,
   "metadata": {
    "colab": {},
    "colab_type": "code",
    "id": "kjJtv3iQMHhp"
   },
   "outputs": [
    {
     "data": {
      "text/plain": [
       "1763913.7963390597"
      ]
     },
     "execution_count": 51,
     "metadata": {},
     "output_type": "execute_result"
    }
   ],
   "source": [
    "get_test_result(rforest)"
   ]
  },
  {
   "cell_type": "markdown",
   "metadata": {
    "colab_type": "text",
    "id": "3-raCdY4G96R"
   },
   "source": [
    "Now let's see how each features affected this model by checking the feature_importances"
   ]
  },
  {
   "cell_type": "code",
   "execution_count": 52,
   "metadata": {
    "colab": {},
    "colab_type": "code",
    "id": "iOGKT8Ncz51Q"
   },
   "outputs": [
    {
     "name": "stdout",
     "output_type": "stream",
     "text": [
      "size_sqft   0.5439052194610208\n",
      "zip_average_income   0.1594457441237323\n",
      "bathrooms   0.10752272887127175\n",
      "estimated_rental_value   0.06599815017926904\n",
      "addr_lon   0.013383038877882971\n",
      "bedrooms   0.011737695317676045\n",
      "year_built   0.011627808693078617\n",
      "floornumber   0.010331776867014163\n",
      "min_to_subway   0.009679897529332439\n",
      "ave_sale_price   0.009663151360778185\n",
      "addr_lat   0.009659036179539924\n",
      "floor_count   0.00884564437525413\n",
      "has_gym   0.006391893881072813\n",
      "zip_unemployment_rate   0.004815052357133212\n",
      "has_dishwasher   0.0033434387869756784\n",
      "has_washer_dryer   0.0030426487561268896\n",
      "has_garden   0.0030421782447075645\n",
      "is_furnished   0.0030355850860898934\n",
      "has_roofdeck   0.002179375594743553\n",
      "has_elevator   0.0018782917883513306\n",
      "neighborhood_population   0.0017588123541198708\n",
      "has_concierge   0.001683430972829461\n",
      "no_fee   0.001578351034759349\n",
      "has_doorman   0.001181398182817028\n",
      "has_pool   0.0009271799455887582\n",
      "allows_pets   0.0009182829119736733\n",
      "has_childrens_playroom   0.0008746216925613864\n",
      "has_fireplace   0.0008344401684056826\n",
      "has_garage   0.00042189341149655976\n",
      "Manhattan   0.00012060873200720578\n",
      "Brooklyn   0.00010649730424055116\n",
      "Queens   5.8024713685988764e-05\n",
      "Bronx   8.056079430954705e-06\n",
      "Staten Island   4.616503213468746e-08\n"
     ]
    }
   ],
   "source": [
    "rforest.fit(train_df[features], train_df['rent'])  \n",
    "for feature,score in sorted(zip(features,rforest.feature_importances_), key=lambda x:x[1], reverse=True):\n",
    "    print(feature, ' ', score)"
   ]
  },
  {
   "cell_type": "markdown",
   "metadata": {
    "colab_type": "text",
    "id": "DoQlfyCZz51T"
   },
   "source": [
    "### Multiple Regression\n",
    " - Multiple regression is an extension of simple linear regression. It is used when we want to predict the value of a variable based on the value of two or more other variables\n",
    " - We will based on p value to choose significant variables(p<0.1)\n",
    " "
   ]
  },
  {
   "cell_type": "code",
   "execution_count": 53,
   "metadata": {
    "colab": {},
    "colab_type": "code",
    "id": "zCx2KQlWz51U"
   },
   "outputs": [
    {
     "data": {
      "text/html": [
       "<table class=\"simpletable\">\n",
       "<caption>OLS Regression Results</caption>\n",
       "<tr>\n",
       "  <th>Dep. Variable:</th>          <td>rent</td>       <th>  R-squared:         </th> <td>   0.721</td> \n",
       "</tr>\n",
       "<tr>\n",
       "  <th>Model:</th>                   <td>OLS</td>       <th>  Adj. R-squared:    </th> <td>   0.720</td> \n",
       "</tr>\n",
       "<tr>\n",
       "  <th>Method:</th>             <td>Least Squares</td>  <th>  F-statistic:       </th> <td>   855.0</td> \n",
       "</tr>\n",
       "<tr>\n",
       "  <th>Date:</th>             <td>Sat, 07 Dec 2019</td> <th>  Prob (F-statistic):</th>  <td>  0.00</td>  \n",
       "</tr>\n",
       "<tr>\n",
       "  <th>Time:</th>                 <td>00:46:04</td>     <th>  Log-Likelihood:    </th> <td> -95083.</td> \n",
       "</tr>\n",
       "<tr>\n",
       "  <th>No. Observations:</th>      <td> 10940</td>      <th>  AIC:               </th> <td>1.902e+05</td>\n",
       "</tr>\n",
       "<tr>\n",
       "  <th>Df Residuals:</th>          <td> 10906</td>      <th>  BIC:               </th> <td>1.905e+05</td>\n",
       "</tr>\n",
       "<tr>\n",
       "  <th>Df Model:</th>              <td>    33</td>      <th>                     </th>     <td> </td>    \n",
       "</tr>\n",
       "<tr>\n",
       "  <th>Covariance Type:</th>      <td>nonrobust</td>    <th>                     </th>     <td> </td>    \n",
       "</tr>\n",
       "</table>\n",
       "<table class=\"simpletable\">\n",
       "<tr>\n",
       "             <td></td>                <th>coef</th>     <th>std err</th>      <th>t</th>      <th>P>|t|</th>  <th>[0.025</th>    <th>0.975]</th>  \n",
       "</tr>\n",
       "<tr>\n",
       "  <th>bedrooms</th>                <td>  119.6166</td> <td>   18.760</td> <td>    6.376</td> <td> 0.000</td> <td>   82.843</td> <td>  156.390</td>\n",
       "</tr>\n",
       "<tr>\n",
       "  <th>bathrooms</th>               <td> 1133.7673</td> <td>   36.229</td> <td>   31.295</td> <td> 0.000</td> <td> 1062.753</td> <td> 1204.782</td>\n",
       "</tr>\n",
       "<tr>\n",
       "  <th>size_sqft</th>               <td>    2.8032</td> <td>    0.045</td> <td>   61.770</td> <td> 0.000</td> <td>    2.714</td> <td>    2.892</td>\n",
       "</tr>\n",
       "<tr>\n",
       "  <th>addr_lat</th>                <td> 3140.3324</td> <td>  467.737</td> <td>    6.714</td> <td> 0.000</td> <td> 2223.482</td> <td> 4057.182</td>\n",
       "</tr>\n",
       "<tr>\n",
       "  <th>addr_lon</th>                <td>-4105.6763</td> <td>  584.281</td> <td>   -7.027</td> <td> 0.000</td> <td>-5250.974</td> <td>-2960.379</td>\n",
       "</tr>\n",
       "<tr>\n",
       "  <th>floor_count</th>             <td>   -9.3134</td> <td>    2.363</td> <td>   -3.942</td> <td> 0.000</td> <td>  -13.945</td> <td>   -4.682</td>\n",
       "</tr>\n",
       "<tr>\n",
       "  <th>year_built</th>              <td>   -0.3567</td> <td>    0.490</td> <td>   -0.727</td> <td> 0.467</td> <td>   -1.318</td> <td>    0.604</td>\n",
       "</tr>\n",
       "<tr>\n",
       "  <th>min_to_subway</th>           <td>  -20.4178</td> <td>    3.962</td> <td>   -5.153</td> <td> 0.000</td> <td>  -28.185</td> <td>  -12.651</td>\n",
       "</tr>\n",
       "<tr>\n",
       "  <th>has_doorman</th>             <td>  111.1803</td> <td>   51.691</td> <td>    2.151</td> <td> 0.032</td> <td>    9.856</td> <td>  212.504</td>\n",
       "</tr>\n",
       "<tr>\n",
       "  <th>has_elevator</th>            <td>  325.5354</td> <td>   42.083</td> <td>    7.735</td> <td> 0.000</td> <td>  243.044</td> <td>  408.026</td>\n",
       "</tr>\n",
       "<tr>\n",
       "  <th>has_fireplace</th>           <td>  510.0940</td> <td>   75.165</td> <td>    6.786</td> <td> 0.000</td> <td>  362.757</td> <td>  657.431</td>\n",
       "</tr>\n",
       "<tr>\n",
       "  <th>has_dishwasher</th>          <td> -178.1552</td> <td>   31.948</td> <td>   -5.576</td> <td> 0.000</td> <td> -240.779</td> <td> -115.531</td>\n",
       "</tr>\n",
       "<tr>\n",
       "  <th>is_furnished</th>            <td>  672.8321</td> <td>   83.062</td> <td>    8.100</td> <td> 0.000</td> <td>  510.015</td> <td>  835.649</td>\n",
       "</tr>\n",
       "<tr>\n",
       "  <th>has_gym</th>                 <td>  307.0011</td> <td>   52.295</td> <td>    5.871</td> <td> 0.000</td> <td>  204.494</td> <td>  409.508</td>\n",
       "</tr>\n",
       "<tr>\n",
       "  <th>allows_pets</th>             <td>  111.1818</td> <td>   30.963</td> <td>    3.591</td> <td> 0.000</td> <td>   50.488</td> <td>  171.876</td>\n",
       "</tr>\n",
       "<tr>\n",
       "  <th>has_washer_dryer</th>        <td>  335.7516</td> <td>   36.166</td> <td>    9.284</td> <td> 0.000</td> <td>  264.860</td> <td>  406.643</td>\n",
       "</tr>\n",
       "<tr>\n",
       "  <th>has_garage</th>              <td>  -89.3494</td> <td>   43.358</td> <td>   -2.061</td> <td> 0.039</td> <td> -174.340</td> <td>   -4.359</td>\n",
       "</tr>\n",
       "<tr>\n",
       "  <th>has_roofdeck</th>            <td>   57.3032</td> <td>   40.052</td> <td>    1.431</td> <td> 0.153</td> <td>  -21.207</td> <td>  135.813</td>\n",
       "</tr>\n",
       "<tr>\n",
       "  <th>has_concierge</th>           <td>  231.8750</td> <td>   53.649</td> <td>    4.322</td> <td> 0.000</td> <td>  126.714</td> <td>  337.036</td>\n",
       "</tr>\n",
       "<tr>\n",
       "  <th>has_pool</th>                <td>   74.9582</td> <td>   63.714</td> <td>    1.176</td> <td> 0.239</td> <td>  -49.933</td> <td>  199.849</td>\n",
       "</tr>\n",
       "<tr>\n",
       "  <th>has_garden</th>              <td>  -20.0382</td> <td>   43.418</td> <td>   -0.462</td> <td> 0.644</td> <td> -105.145</td> <td>   65.069</td>\n",
       "</tr>\n",
       "<tr>\n",
       "  <th>has_childrens_playroom</th>  <td>   39.5591</td> <td>   59.096</td> <td>    0.669</td> <td> 0.503</td> <td>  -76.280</td> <td>  155.398</td>\n",
       "</tr>\n",
       "<tr>\n",
       "  <th>no_fee</th>                  <td> -131.8493</td> <td>   31.729</td> <td>   -4.156</td> <td> 0.000</td> <td> -194.043</td> <td>  -69.655</td>\n",
       "</tr>\n",
       "<tr>\n",
       "  <th>floornumber</th>             <td>   21.9317</td> <td>    2.935</td> <td>    7.472</td> <td> 0.000</td> <td>   16.179</td> <td>   27.685</td>\n",
       "</tr>\n",
       "<tr>\n",
       "  <th>zip_average_income</th>      <td>    0.0008</td> <td>    0.000</td> <td>    4.613</td> <td> 0.000</td> <td>    0.000</td> <td>    0.001</td>\n",
       "</tr>\n",
       "<tr>\n",
       "  <th>zip_unemployment_rate</th>   <td>  -30.5967</td> <td>    4.344</td> <td>   -7.043</td> <td> 0.000</td> <td>  -39.112</td> <td>  -22.081</td>\n",
       "</tr>\n",
       "<tr>\n",
       "  <th>neighborhood_population</th> <td>   -0.0030</td> <td>    0.001</td> <td>   -4.749</td> <td> 0.000</td> <td>   -0.004</td> <td>   -0.002</td>\n",
       "</tr>\n",
       "<tr>\n",
       "  <th>ave_sale_price</th>          <td> 1.792e-05</td> <td> 9.87e-06</td> <td>    1.815</td> <td> 0.070</td> <td>-1.43e-06</td> <td> 3.73e-05</td>\n",
       "</tr>\n",
       "<tr>\n",
       "  <th>estimated_rental_value</th>  <td>    0.5049</td> <td>    0.025</td> <td>   20.126</td> <td> 0.000</td> <td>    0.456</td> <td>    0.554</td>\n",
       "</tr>\n",
       "<tr>\n",
       "  <th>Brooklyn</th>                <td>-4.337e+05</td> <td> 5.12e+04</td> <td>   -8.470</td> <td> 0.000</td> <td>-5.34e+05</td> <td>-3.33e+05</td>\n",
       "</tr>\n",
       "<tr>\n",
       "  <th>Manhattan</th>               <td>-4.336e+05</td> <td> 5.12e+04</td> <td>   -8.464</td> <td> 0.000</td> <td>-5.34e+05</td> <td>-3.33e+05</td>\n",
       "</tr>\n",
       "<tr>\n",
       "  <th>Queens</th>                  <td>-4.337e+05</td> <td> 5.12e+04</td> <td>   -8.474</td> <td> 0.000</td> <td>-5.34e+05</td> <td>-3.33e+05</td>\n",
       "</tr>\n",
       "<tr>\n",
       "  <th>Bronx</th>                   <td>-4.343e+05</td> <td> 5.12e+04</td> <td>   -8.479</td> <td> 0.000</td> <td>-5.35e+05</td> <td>-3.34e+05</td>\n",
       "</tr>\n",
       "<tr>\n",
       "  <th>Staten Island</th>           <td>-4.348e+05</td> <td> 5.13e+04</td> <td>   -8.482</td> <td> 0.000</td> <td>-5.35e+05</td> <td>-3.34e+05</td>\n",
       "</tr>\n",
       "</table>\n",
       "<table class=\"simpletable\">\n",
       "<tr>\n",
       "  <th>Omnibus:</th>       <td>8526.869</td> <th>  Durbin-Watson:     </th>  <td>   2.009</td>  \n",
       "</tr>\n",
       "<tr>\n",
       "  <th>Prob(Omnibus):</th>  <td> 0.000</td>  <th>  Jarque-Bera (JB):  </th> <td>2469863.163</td>\n",
       "</tr>\n",
       "<tr>\n",
       "  <th>Skew:</th>           <td> 2.741</td>  <th>  Prob(JB):          </th>  <td>    0.00</td>  \n",
       "</tr>\n",
       "<tr>\n",
       "  <th>Kurtosis:</th>       <td>76.405</td>  <th>  Cond. No.          </th>  <td>2.17e+10</td>  \n",
       "</tr>\n",
       "</table><br/><br/>Warnings:<br/>[1] Standard Errors assume that the covariance matrix of the errors is correctly specified.<br/>[2] The condition number is large, 2.17e+10. This might indicate that there are<br/>strong multicollinearity or other numerical problems."
      ],
      "text/plain": [
       "<class 'statsmodels.iolib.summary.Summary'>\n",
       "\"\"\"\n",
       "                            OLS Regression Results                            \n",
       "==============================================================================\n",
       "Dep. Variable:                   rent   R-squared:                       0.721\n",
       "Model:                            OLS   Adj. R-squared:                  0.720\n",
       "Method:                 Least Squares   F-statistic:                     855.0\n",
       "Date:                Sat, 07 Dec 2019   Prob (F-statistic):               0.00\n",
       "Time:                        00:46:04   Log-Likelihood:                -95083.\n",
       "No. Observations:               10940   AIC:                         1.902e+05\n",
       "Df Residuals:                   10906   BIC:                         1.905e+05\n",
       "Df Model:                          33                                         \n",
       "Covariance Type:            nonrobust                                         \n",
       "===========================================================================================\n",
       "                              coef    std err          t      P>|t|      [0.025      0.975]\n",
       "-------------------------------------------------------------------------------------------\n",
       "bedrooms                  119.6166     18.760      6.376      0.000      82.843     156.390\n",
       "bathrooms                1133.7673     36.229     31.295      0.000    1062.753    1204.782\n",
       "size_sqft                   2.8032      0.045     61.770      0.000       2.714       2.892\n",
       "addr_lat                 3140.3324    467.737      6.714      0.000    2223.482    4057.182\n",
       "addr_lon                -4105.6763    584.281     -7.027      0.000   -5250.974   -2960.379\n",
       "floor_count                -9.3134      2.363     -3.942      0.000     -13.945      -4.682\n",
       "year_built                 -0.3567      0.490     -0.727      0.467      -1.318       0.604\n",
       "min_to_subway             -20.4178      3.962     -5.153      0.000     -28.185     -12.651\n",
       "has_doorman               111.1803     51.691      2.151      0.032       9.856     212.504\n",
       "has_elevator              325.5354     42.083      7.735      0.000     243.044     408.026\n",
       "has_fireplace             510.0940     75.165      6.786      0.000     362.757     657.431\n",
       "has_dishwasher           -178.1552     31.948     -5.576      0.000    -240.779    -115.531\n",
       "is_furnished              672.8321     83.062      8.100      0.000     510.015     835.649\n",
       "has_gym                   307.0011     52.295      5.871      0.000     204.494     409.508\n",
       "allows_pets               111.1818     30.963      3.591      0.000      50.488     171.876\n",
       "has_washer_dryer          335.7516     36.166      9.284      0.000     264.860     406.643\n",
       "has_garage                -89.3494     43.358     -2.061      0.039    -174.340      -4.359\n",
       "has_roofdeck               57.3032     40.052      1.431      0.153     -21.207     135.813\n",
       "has_concierge             231.8750     53.649      4.322      0.000     126.714     337.036\n",
       "has_pool                   74.9582     63.714      1.176      0.239     -49.933     199.849\n",
       "has_garden                -20.0382     43.418     -0.462      0.644    -105.145      65.069\n",
       "has_childrens_playroom     39.5591     59.096      0.669      0.503     -76.280     155.398\n",
       "no_fee                   -131.8493     31.729     -4.156      0.000    -194.043     -69.655\n",
       "floornumber                21.9317      2.935      7.472      0.000      16.179      27.685\n",
       "zip_average_income          0.0008      0.000      4.613      0.000       0.000       0.001\n",
       "zip_unemployment_rate     -30.5967      4.344     -7.043      0.000     -39.112     -22.081\n",
       "neighborhood_population    -0.0030      0.001     -4.749      0.000      -0.004      -0.002\n",
       "ave_sale_price           1.792e-05   9.87e-06      1.815      0.070   -1.43e-06    3.73e-05\n",
       "estimated_rental_value      0.5049      0.025     20.126      0.000       0.456       0.554\n",
       "Brooklyn                -4.337e+05   5.12e+04     -8.470      0.000   -5.34e+05   -3.33e+05\n",
       "Manhattan               -4.336e+05   5.12e+04     -8.464      0.000   -5.34e+05   -3.33e+05\n",
       "Queens                  -4.337e+05   5.12e+04     -8.474      0.000   -5.34e+05   -3.33e+05\n",
       "Bronx                   -4.343e+05   5.12e+04     -8.479      0.000   -5.35e+05   -3.34e+05\n",
       "Staten Island           -4.348e+05   5.13e+04     -8.482      0.000   -5.35e+05   -3.34e+05\n",
       "==============================================================================\n",
       "Omnibus:                     8526.869   Durbin-Watson:                   2.009\n",
       "Prob(Omnibus):                  0.000   Jarque-Bera (JB):          2469863.163\n",
       "Skew:                           2.741   Prob(JB):                         0.00\n",
       "Kurtosis:                      76.405   Cond. No.                     2.17e+10\n",
       "==============================================================================\n",
       "\n",
       "Warnings:\n",
       "[1] Standard Errors assume that the covariance matrix of the errors is correctly specified.\n",
       "[2] The condition number is large, 2.17e+10. This might indicate that there are\n",
       "strong multicollinearity or other numerical problems.\n",
       "\"\"\""
      ]
     },
     "execution_count": 53,
     "metadata": {},
     "output_type": "execute_result"
    }
   ],
   "source": [
    "mul_reg_features = features[:]\n",
    "x = train_df[features] \n",
    "y = train_df['rent']\n",
    "est = sm.OLS(y, x).fit()\n",
    "est.summary()"
   ]
  },
  {
   "cell_type": "markdown",
   "metadata": {
    "colab_type": "text",
    "id": "K0JZnMWLz51X"
   },
   "source": [
    "- As we can see, variables has_garden and year_built have P value > 0.1\n",
    "- After we remove these two variables, all P values are < 0.1"
   ]
  },
  {
   "cell_type": "code",
   "execution_count": 54,
   "metadata": {
    "colab": {},
    "colab_type": "code",
    "id": "qZQRPWFEz51X"
   },
   "outputs": [
    {
     "data": {
      "text/html": [
       "<table class=\"simpletable\">\n",
       "<caption>OLS Regression Results</caption>\n",
       "<tr>\n",
       "  <th>Dep. Variable:</th>          <td>rent</td>       <th>  R-squared:         </th> <td>   0.721</td> \n",
       "</tr>\n",
       "<tr>\n",
       "  <th>Model:</th>                   <td>OLS</td>       <th>  Adj. R-squared:    </th> <td>   0.720</td> \n",
       "</tr>\n",
       "<tr>\n",
       "  <th>Method:</th>             <td>Least Squares</td>  <th>  F-statistic:       </th> <td>   910.2</td> \n",
       "</tr>\n",
       "<tr>\n",
       "  <th>Date:</th>             <td>Sat, 07 Dec 2019</td> <th>  Prob (F-statistic):</th>  <td>  0.00</td>  \n",
       "</tr>\n",
       "<tr>\n",
       "  <th>Time:</th>                 <td>00:46:09</td>     <th>  Log-Likelihood:    </th> <td> -95084.</td> \n",
       "</tr>\n",
       "<tr>\n",
       "  <th>No. Observations:</th>      <td> 10940</td>      <th>  AIC:               </th> <td>1.902e+05</td>\n",
       "</tr>\n",
       "<tr>\n",
       "  <th>Df Residuals:</th>          <td> 10908</td>      <th>  BIC:               </th> <td>1.905e+05</td>\n",
       "</tr>\n",
       "<tr>\n",
       "  <th>Df Model:</th>              <td>    31</td>      <th>                     </th>     <td> </td>    \n",
       "</tr>\n",
       "<tr>\n",
       "  <th>Covariance Type:</th>      <td>nonrobust</td>    <th>                     </th>     <td> </td>    \n",
       "</tr>\n",
       "</table>\n",
       "<table class=\"simpletable\">\n",
       "<tr>\n",
       "             <td></td>                <th>coef</th>     <th>std err</th>      <th>t</th>      <th>P>|t|</th>  <th>[0.025</th>    <th>0.975]</th>  \n",
       "</tr>\n",
       "<tr>\n",
       "  <th>bedrooms</th>                <td>  119.3989</td> <td>   18.748</td> <td>    6.369</td> <td> 0.000</td> <td>   82.649</td> <td>  156.148</td>\n",
       "</tr>\n",
       "<tr>\n",
       "  <th>bathrooms</th>               <td> 1136.0321</td> <td>   36.120</td> <td>   31.452</td> <td> 0.000</td> <td> 1065.231</td> <td> 1206.833</td>\n",
       "</tr>\n",
       "<tr>\n",
       "  <th>size_sqft</th>               <td>    2.7986</td> <td>    0.045</td> <td>   62.184</td> <td> 0.000</td> <td>    2.710</td> <td>    2.887</td>\n",
       "</tr>\n",
       "<tr>\n",
       "  <th>addr_lat</th>                <td> 3132.9238</td> <td>  467.516</td> <td>    6.701</td> <td> 0.000</td> <td> 2216.508</td> <td> 4049.340</td>\n",
       "</tr>\n",
       "<tr>\n",
       "  <th>addr_lon</th>                <td>-4087.3033</td> <td>  583.624</td> <td>   -7.003</td> <td> 0.000</td> <td>-5231.312</td> <td>-2943.295</td>\n",
       "</tr>\n",
       "<tr>\n",
       "  <th>floor_count</th>             <td>   -9.0023</td> <td>    2.330</td> <td>   -3.863</td> <td> 0.000</td> <td>  -13.570</td> <td>   -4.435</td>\n",
       "</tr>\n",
       "<tr>\n",
       "  <th>min_to_subway</th>           <td>  -20.3102</td> <td>    3.937</td> <td>   -5.159</td> <td> 0.000</td> <td>  -28.027</td> <td>  -12.593</td>\n",
       "</tr>\n",
       "<tr>\n",
       "  <th>has_doorman</th>             <td>  112.1323</td> <td>   51.648</td> <td>    2.171</td> <td> 0.030</td> <td>   10.892</td> <td>  213.372</td>\n",
       "</tr>\n",
       "<tr>\n",
       "  <th>has_elevator</th>            <td>  331.3493</td> <td>   41.424</td> <td>    7.999</td> <td> 0.000</td> <td>  250.151</td> <td>  412.547</td>\n",
       "</tr>\n",
       "<tr>\n",
       "  <th>has_fireplace</th>           <td>  506.2097</td> <td>   75.021</td> <td>    6.748</td> <td> 0.000</td> <td>  359.155</td> <td>  653.265</td>\n",
       "</tr>\n",
       "<tr>\n",
       "  <th>has_dishwasher</th>          <td> -177.3283</td> <td>   31.922</td> <td>   -5.555</td> <td> 0.000</td> <td> -239.900</td> <td> -114.756</td>\n",
       "</tr>\n",
       "<tr>\n",
       "  <th>is_furnished</th>            <td>  669.4545</td> <td>   82.958</td> <td>    8.070</td> <td> 0.000</td> <td>  506.841</td> <td>  832.068</td>\n",
       "</tr>\n",
       "<tr>\n",
       "  <th>has_gym</th>                 <td>  311.5164</td> <td>   51.890</td> <td>    6.003</td> <td> 0.000</td> <td>  209.802</td> <td>  413.230</td>\n",
       "</tr>\n",
       "<tr>\n",
       "  <th>allows_pets</th>             <td>  110.0881</td> <td>   30.911</td> <td>    3.561</td> <td> 0.000</td> <td>   49.496</td> <td>  170.680</td>\n",
       "</tr>\n",
       "<tr>\n",
       "  <th>has_washer_dryer</th>        <td>  338.7902</td> <td>   35.873</td> <td>    9.444</td> <td> 0.000</td> <td>  268.473</td> <td>  409.107</td>\n",
       "</tr>\n",
       "<tr>\n",
       "  <th>has_garage</th>              <td>  -87.1804</td> <td>   43.013</td> <td>   -2.027</td> <td> 0.043</td> <td> -171.494</td> <td>   -2.867</td>\n",
       "</tr>\n",
       "<tr>\n",
       "  <th>has_roofdeck</th>            <td>   60.4151</td> <td>   39.544</td> <td>    1.528</td> <td> 0.127</td> <td>  -17.098</td> <td>  137.928</td>\n",
       "</tr>\n",
       "<tr>\n",
       "  <th>has_concierge</th>           <td>  232.6871</td> <td>   53.458</td> <td>    4.353</td> <td> 0.000</td> <td>  127.900</td> <td>  337.474</td>\n",
       "</tr>\n",
       "<tr>\n",
       "  <th>has_pool</th>                <td>   74.7362</td> <td>   63.688</td> <td>    1.173</td> <td> 0.241</td> <td>  -50.104</td> <td>  199.576</td>\n",
       "</tr>\n",
       "<tr>\n",
       "  <th>has_childrens_playroom</th>  <td>   34.4459</td> <td>   58.311</td> <td>    0.591</td> <td> 0.555</td> <td>  -79.855</td> <td>  148.747</td>\n",
       "</tr>\n",
       "<tr>\n",
       "  <th>no_fee</th>                  <td> -132.0909</td> <td>   31.725</td> <td>   -4.164</td> <td> 0.000</td> <td> -194.278</td> <td>  -69.904</td>\n",
       "</tr>\n",
       "<tr>\n",
       "  <th>floornumber</th>             <td>   21.9857</td> <td>    2.934</td> <td>    7.494</td> <td> 0.000</td> <td>   16.235</td> <td>   27.737</td>\n",
       "</tr>\n",
       "<tr>\n",
       "  <th>zip_average_income</th>      <td>    0.0008</td> <td>    0.000</td> <td>    4.619</td> <td> 0.000</td> <td>    0.000</td> <td>    0.001</td>\n",
       "</tr>\n",
       "<tr>\n",
       "  <th>zip_unemployment_rate</th>   <td>  -30.4889</td> <td>    4.341</td> <td>   -7.024</td> <td> 0.000</td> <td>  -38.997</td> <td>  -21.980</td>\n",
       "</tr>\n",
       "<tr>\n",
       "  <th>neighborhood_population</th> <td>   -0.0030</td> <td>    0.001</td> <td>   -4.769</td> <td> 0.000</td> <td>   -0.004</td> <td>   -0.002</td>\n",
       "</tr>\n",
       "<tr>\n",
       "  <th>ave_sale_price</th>          <td> 1.771e-05</td> <td> 9.84e-06</td> <td>    1.801</td> <td> 0.072</td> <td>-1.57e-06</td> <td>  3.7e-05</td>\n",
       "</tr>\n",
       "<tr>\n",
       "  <th>estimated_rental_value</th>  <td>    0.5042</td> <td>    0.025</td> <td>   20.111</td> <td> 0.000</td> <td>    0.455</td> <td>    0.553</td>\n",
       "</tr>\n",
       "<tr>\n",
       "  <th>Brooklyn</th>                <td>-4.321e+05</td> <td> 5.12e+04</td> <td>   -8.446</td> <td> 0.000</td> <td>-5.32e+05</td> <td>-3.32e+05</td>\n",
       "</tr>\n",
       "<tr>\n",
       "  <th>Manhattan</th>               <td> -4.32e+05</td> <td> 5.12e+04</td> <td>   -8.440</td> <td> 0.000</td> <td>-5.32e+05</td> <td>-3.32e+05</td>\n",
       "</tr>\n",
       "<tr>\n",
       "  <th>Queens</th>                  <td>-4.321e+05</td> <td> 5.11e+04</td> <td>   -8.450</td> <td> 0.000</td> <td>-5.32e+05</td> <td>-3.32e+05</td>\n",
       "</tr>\n",
       "<tr>\n",
       "  <th>Bronx</th>                   <td>-4.327e+05</td> <td> 5.12e+04</td> <td>   -8.454</td> <td> 0.000</td> <td>-5.33e+05</td> <td>-3.32e+05</td>\n",
       "</tr>\n",
       "<tr>\n",
       "  <th>Staten Island</th>           <td>-4.332e+05</td> <td> 5.12e+04</td> <td>   -8.458</td> <td> 0.000</td> <td>-5.34e+05</td> <td>-3.33e+05</td>\n",
       "</tr>\n",
       "</table>\n",
       "<table class=\"simpletable\">\n",
       "<tr>\n",
       "  <th>Omnibus:</th>       <td>8531.420</td> <th>  Durbin-Watson:     </th>  <td>   2.009</td>  \n",
       "</tr>\n",
       "<tr>\n",
       "  <th>Prob(Omnibus):</th>  <td> 0.000</td>  <th>  Jarque-Bera (JB):  </th> <td>2461289.872</td>\n",
       "</tr>\n",
       "<tr>\n",
       "  <th>Skew:</th>           <td> 2.745</td>  <th>  Prob(JB):          </th>  <td>    0.00</td>  \n",
       "</tr>\n",
       "<tr>\n",
       "  <th>Kurtosis:</th>       <td>76.276</td>  <th>  Cond. No.          </th>  <td>2.16e+10</td>  \n",
       "</tr>\n",
       "</table><br/><br/>Warnings:<br/>[1] Standard Errors assume that the covariance matrix of the errors is correctly specified.<br/>[2] The condition number is large, 2.16e+10. This might indicate that there are<br/>strong multicollinearity or other numerical problems."
      ],
      "text/plain": [
       "<class 'statsmodels.iolib.summary.Summary'>\n",
       "\"\"\"\n",
       "                            OLS Regression Results                            \n",
       "==============================================================================\n",
       "Dep. Variable:                   rent   R-squared:                       0.721\n",
       "Model:                            OLS   Adj. R-squared:                  0.720\n",
       "Method:                 Least Squares   F-statistic:                     910.2\n",
       "Date:                Sat, 07 Dec 2019   Prob (F-statistic):               0.00\n",
       "Time:                        00:46:09   Log-Likelihood:                -95084.\n",
       "No. Observations:               10940   AIC:                         1.902e+05\n",
       "Df Residuals:                   10908   BIC:                         1.905e+05\n",
       "Df Model:                          31                                         \n",
       "Covariance Type:            nonrobust                                         \n",
       "===========================================================================================\n",
       "                              coef    std err          t      P>|t|      [0.025      0.975]\n",
       "-------------------------------------------------------------------------------------------\n",
       "bedrooms                  119.3989     18.748      6.369      0.000      82.649     156.148\n",
       "bathrooms                1136.0321     36.120     31.452      0.000    1065.231    1206.833\n",
       "size_sqft                   2.7986      0.045     62.184      0.000       2.710       2.887\n",
       "addr_lat                 3132.9238    467.516      6.701      0.000    2216.508    4049.340\n",
       "addr_lon                -4087.3033    583.624     -7.003      0.000   -5231.312   -2943.295\n",
       "floor_count                -9.0023      2.330     -3.863      0.000     -13.570      -4.435\n",
       "min_to_subway             -20.3102      3.937     -5.159      0.000     -28.027     -12.593\n",
       "has_doorman               112.1323     51.648      2.171      0.030      10.892     213.372\n",
       "has_elevator              331.3493     41.424      7.999      0.000     250.151     412.547\n",
       "has_fireplace             506.2097     75.021      6.748      0.000     359.155     653.265\n",
       "has_dishwasher           -177.3283     31.922     -5.555      0.000    -239.900    -114.756\n",
       "is_furnished              669.4545     82.958      8.070      0.000     506.841     832.068\n",
       "has_gym                   311.5164     51.890      6.003      0.000     209.802     413.230\n",
       "allows_pets               110.0881     30.911      3.561      0.000      49.496     170.680\n",
       "has_washer_dryer          338.7902     35.873      9.444      0.000     268.473     409.107\n",
       "has_garage                -87.1804     43.013     -2.027      0.043    -171.494      -2.867\n",
       "has_roofdeck               60.4151     39.544      1.528      0.127     -17.098     137.928\n",
       "has_concierge             232.6871     53.458      4.353      0.000     127.900     337.474\n",
       "has_pool                   74.7362     63.688      1.173      0.241     -50.104     199.576\n",
       "has_childrens_playroom     34.4459     58.311      0.591      0.555     -79.855     148.747\n",
       "no_fee                   -132.0909     31.725     -4.164      0.000    -194.278     -69.904\n",
       "floornumber                21.9857      2.934      7.494      0.000      16.235      27.737\n",
       "zip_average_income          0.0008      0.000      4.619      0.000       0.000       0.001\n",
       "zip_unemployment_rate     -30.4889      4.341     -7.024      0.000     -38.997     -21.980\n",
       "neighborhood_population    -0.0030      0.001     -4.769      0.000      -0.004      -0.002\n",
       "ave_sale_price           1.771e-05   9.84e-06      1.801      0.072   -1.57e-06     3.7e-05\n",
       "estimated_rental_value      0.5042      0.025     20.111      0.000       0.455       0.553\n",
       "Brooklyn                -4.321e+05   5.12e+04     -8.446      0.000   -5.32e+05   -3.32e+05\n",
       "Manhattan                -4.32e+05   5.12e+04     -8.440      0.000   -5.32e+05   -3.32e+05\n",
       "Queens                  -4.321e+05   5.11e+04     -8.450      0.000   -5.32e+05   -3.32e+05\n",
       "Bronx                   -4.327e+05   5.12e+04     -8.454      0.000   -5.33e+05   -3.32e+05\n",
       "Staten Island           -4.332e+05   5.12e+04     -8.458      0.000   -5.34e+05   -3.33e+05\n",
       "==============================================================================\n",
       "Omnibus:                     8531.420   Durbin-Watson:                   2.009\n",
       "Prob(Omnibus):                  0.000   Jarque-Bera (JB):          2461289.872\n",
       "Skew:                           2.745   Prob(JB):                         0.00\n",
       "Kurtosis:                      76.276   Cond. No.                     2.16e+10\n",
       "==============================================================================\n",
       "\n",
       "Warnings:\n",
       "[1] Standard Errors assume that the covariance matrix of the errors is correctly specified.\n",
       "[2] The condition number is large, 2.16e+10. This might indicate that there are\n",
       "strong multicollinearity or other numerical problems.\n",
       "\"\"\""
      ]
     },
     "execution_count": 54,
     "metadata": {},
     "output_type": "execute_result"
    }
   ],
   "source": [
    "mul_reg_features.remove('has_garden')\n",
    "mul_reg_features.remove('year_built')\n",
    "x = train_df[mul_reg_features] \n",
    "y = train_df['rent']\n",
    "est = sm.OLS(y, x).fit()\n",
    "est.summary()"
   ]
  },
  {
   "cell_type": "code",
   "execution_count": 55,
   "metadata": {
    "colab": {},
    "colab_type": "code",
    "id": "nSPV3iW0z51Z"
   },
   "outputs": [
    {
     "data": {
      "text/plain": [
       "3137774.091173475"
      ]
     },
     "execution_count": 55,
     "metadata": {},
     "output_type": "execute_result"
    }
   ],
   "source": [
    "mul_reg = LinearRegression().fit(train_df[mul_reg_features], train_df['rent'])\n",
    "get_cv_results(mul_reg)\n",
    "get_test_result(mul_reg)"
   ]
  },
  {
   "cell_type": "markdown",
   "metadata": {
    "colab_type": "text",
    "id": "566BNiS_z51c"
   },
   "source": [
    "## Gradient Boosting Regression\n",
    "For the gradient boosting regressor we will first set up the hyperparameter max_depth=5 to avoid overfitting, will adjust more hyperparameter as we move on to improve the model\n"
   ]
  },
  {
   "cell_type": "code",
   "execution_count": 56,
   "metadata": {
    "colab": {},
    "colab_type": "code",
    "id": "DJGUq1egz51d"
   },
   "outputs": [
    {
     "data": {
      "text/plain": [
       "(928090.3461697798, 170196.55806534263)"
      ]
     },
     "execution_count": 56,
     "metadata": {},
     "output_type": "execute_result"
    }
   ],
   "source": [
    "gbrdemo = GradientBoostingRegressor(\n",
    "    max_depth=5,\n",
    "    n_estimators=100\n",
    ")\n",
    "\n",
    "get_cv_results(gbrdemo)"
   ]
  },
  {
   "cell_type": "code",
   "execution_count": 57,
   "metadata": {
    "colab": {},
    "colab_type": "code",
    "id": "aiHVt1vMMHh9"
   },
   "outputs": [
    {
     "data": {
      "text/plain": [
       "1738243.0681299062"
      ]
     },
     "execution_count": 57,
     "metadata": {},
     "output_type": "execute_result"
    }
   ],
   "source": [
    "get_test_result(gbrdemo)"
   ]
  },
  {
   "cell_type": "markdown",
   "metadata": {
    "colab_type": "text",
    "id": "oQX1f6I5z51f"
   },
   "source": [
    "### Tuning Hyperparameters\n",
    "Now let's use GridSearchCV form sci-kit learn model_selection to tune the hyperparameters, and find the most suitable one for our Gradient Boosting Regression model.The choices of hyperparameters are obtained from the toturial code, and since this function took a long time to process, we are considering reduce the amount of hyperpraramters for testing.\n",
    "\n",
    "cited link: link: https://shankarmsy.github.io/stories/gbrt-sklearn.html"
   ]
  },
  {
   "cell_type": "code",
   "execution_count": 59,
   "metadata": {
    "colab": {},
    "colab_type": "code",
    "id": "zAGQpu5Jz51f"
   },
   "outputs": [],
   "source": [
    "# Tuning the hyperparameters based on a cross-validation subset (cv)\n",
    "# cited link: link: https://shankarmsy.github.io/stories/gbrt-sklearn.html\n",
    "\n",
    "def GradientBooster():\n",
    "    \n",
    "    param_grid={'n_estimators':[100, 110, 120],\n",
    "            'learning_rate': [0.15, 0.1, 0.05],\n",
    "            'max_depth':[4, 5, 6],\n",
    "            'min_samples_leaf':[4, 5, 6],\n",
    "           }\n",
    "    \n",
    "    # choose cross validation generator and use ShuffleSplit which randomly shuffles and selects Train and CV sets\n",
    "    cv = ShuffleSplit(n_splits=5, test_size=.25, random_state=0)\n",
    "    \n",
    "    regressor = GridSearchCV(estimator = GradientBoostingRegressor(), param_grid=param_grid, n_jobs=4, cv=cv)\n",
    "    \n",
    "    regressor.fit(train_df[features], train_df['rent'])  \n",
    "    return regressor.best_params_"
   ]
  },
  {
   "cell_type": "code",
   "execution_count": 60,
   "metadata": {
    "colab": {},
    "colab_type": "code",
    "id": "O3lO3Axnz51j"
   },
   "outputs": [
    {
     "name": "stdout",
     "output_type": "stream",
     "text": [
      "Since this function takes too long to run, it will waste a lot of time during development,      \n",
      "so we will just record the result for further usage:\n",
      "\n",
      "Best Estimator Parameters:\n",
      "n_estimators:  120\n",
      "max_depth:  5\n",
      "Learning Rate:  0.15\n",
      "min_samples_leaf:  6\n"
     ]
    }
   ],
   "source": [
    "# Since this function takes too long to run, it will waste a lot of time during development,\n",
    "# so we will just record the result for further usage. -----Runmin 11/18/19\n",
    "\"\"\"\n",
    "best_est=GradientBooster()\n",
    "\n",
    "print(\"Best Estimator Parameters:\")\n",
    "print(\"n_estimators: \",best_est['n_estimators'])\n",
    "print(\"max_depth: \", best_est['max_depth'])\n",
    "print(\"Learning Rate: \", best_est['learning_rate'])\n",
    "print(\"min_samples_leaf: \", best_est['min_samples_leaf'])\n",
    "\"\"\"\n",
    "print(\"Since this function takes too long to run, it will waste a lot of time during development,\\\n",
    "      \\nso we will just record the result for further usage:\")\n",
    "print(\"\\nBest Estimator Parameters:\")\n",
    "print(\"n_estimators: \",120)\n",
    "print(\"max_depth: \", 5)\n",
    "print(\"Learning Rate: \", 0.15)\n",
    "print(\"min_samples_leaf: \", 6)"
   ]
  },
  {
   "cell_type": "markdown",
   "metadata": {
    "colab_type": "text",
    "id": "j5kkgBUpz51l"
   },
   "source": [
    "As we can see from the result above, we have found the suitable hyperparameters for our model, thus we can use them to check if a better result will be obtained.\n"
   ]
  },
  {
   "cell_type": "code",
   "execution_count": 61,
   "metadata": {
    "colab": {},
    "colab_type": "code",
    "id": "owPU2gYbz51m"
   },
   "outputs": [
    {
     "data": {
      "text/plain": [
       "(909861.5996442286, 192336.437169567)"
      ]
     },
     "execution_count": 61,
     "metadata": {},
     "output_type": "execute_result"
    }
   ],
   "source": [
    "bettergbr1 = GradientBoostingRegressor(\n",
    "    n_estimators=120,\n",
    "    max_depth=5,\n",
    "    learning_rate=0.15,\n",
    "    min_samples_leaf=6\n",
    ")\n",
    "\n",
    "get_cv_results(bettergbr1)"
   ]
  },
  {
   "cell_type": "code",
   "execution_count": 62,
   "metadata": {},
   "outputs": [
    {
     "data": {
      "text/plain": [
       "1718723.3425536898"
      ]
     },
     "execution_count": 62,
     "metadata": {},
     "output_type": "execute_result"
    }
   ],
   "source": [
    "get_test_result(bettergbr1)"
   ]
  },
  {
   "cell_type": "markdown",
   "metadata": {
    "colab_type": "text",
    "id": "BOW7I6JPz51o"
   },
   "source": [
    "After apply the new set of hyperparameters, the result of our Gradient Boosting model indeed becomes better, we will call it bettergbr1."
   ]
  },
  {
   "cell_type": "markdown",
   "metadata": {
    "colab_type": "text",
    "id": "oln3lQr1G96s"
   },
   "source": [
    "**Feature importances for Gradient Boosting Regression**"
   ]
  },
  {
   "cell_type": "code",
   "execution_count": 63,
   "metadata": {
    "colab": {},
    "colab_type": "code",
    "id": "-lhkz-V1G96s"
   },
   "outputs": [
    {
     "name": "stdout",
     "output_type": "stream",
     "text": [
      "size_sqft   0.5565791281018633\n",
      "zip_average_income   0.14250685135614477\n",
      "bathrooms   0.09856965736017426\n",
      "estimated_rental_value   0.0796543207948048\n",
      "addr_lat   0.01504534550571234\n",
      "addr_lon   0.011164794401557834\n",
      "floornumber   0.009865035047471259\n",
      "bedrooms   0.009558536430050998\n",
      "year_built   0.00825040016997903\n",
      "has_gym   0.00796611660324822\n",
      "ave_sale_price   0.0073603702623499965\n",
      "min_to_subway   0.0071862933578486525\n",
      "has_washer_dryer   0.005879555869991454\n",
      "has_garden   0.005752107148411113\n",
      "floor_count   0.005343099759735158\n",
      "has_concierge   0.004978589007126155\n",
      "has_dishwasher   0.004198986414506865\n",
      "no_fee   0.00337437196923941\n",
      "has_elevator   0.002980329334424056\n",
      "has_roofdeck   0.0026059199445351575\n",
      "neighborhood_population   0.0021084663829615212\n",
      "zip_unemployment_rate   0.001848104306774486\n",
      "is_furnished   0.0017418123991439327\n",
      "has_doorman   0.001578407577364625\n",
      "has_fireplace   0.0015513959083950446\n",
      "has_childrens_playroom   0.0009365824092557757\n",
      "has_pool   0.0006157451689814655\n",
      "Brooklyn   0.000295439152889654\n",
      "allows_pets   0.00025906083783788927\n",
      "has_garage   0.00012185744117181193\n",
      "Manhattan   0.00011130628937340373\n",
      "Queens   1.2013286675589173e-05\n",
      "Bronx   0.0\n",
      "Staten Island   0.0\n"
     ]
    }
   ],
   "source": [
    "bettergbr1.fit(train_df[features], train_df['rent'])  \n",
    "for feature,score in sorted(zip(features, bettergbr1.feature_importances_), key=lambda x:x[1], reverse=True):\n",
    "    print(feature, ' ', score)"
   ]
  },
  {
   "cell_type": "markdown",
   "metadata": {},
   "source": [
    "**Now we will plot the line to visualize the goodness of the fit with the predictions**\n",
    "\n",
    "Cited Link: https://acadgild.com/blog/gradient-boosting-for-regression-problems"
   ]
  },
  {
   "cell_type": "code",
   "execution_count": 66,
   "metadata": {},
   "outputs": [
    {
     "data": {
      "image/png": "[encoded data removed]",
      "text/plain": [
       "<Figure size 432x288 with 1 Axes>"
      ]
     },
     "metadata": {
      "needs_background": "light"
     },
     "output_type": "display_data"
    }
   ],
   "source": [
    "fig, ax = plt.subplots()\n",
    "ax.scatter(test_df['rent'], bettergbr1.predict(test_df[features]), edgecolors=(0, 0, 0))\n",
    "ax.plot([test_df['rent'].min(), test_df['rent'].max()], [test_df['rent'].min(), test_df['rent'].max()], 'k--', lw=4)\n",
    "ax.set_xlabel('Actual')\n",
    "ax.set_ylabel('Predicted')\n",
    "ax.set_title(\"Accuracy report\")\n",
    "plt.show()"
   ]
  },
  {
   "cell_type": "markdown",
   "metadata": {
    "colab_type": "text",
    "id": "9z858Helz51o"
   },
   "source": [
    "##  Regression Tree Model\n",
    "From definition, decision trees where the target variable can take continuous values (typically real numbers) are called regression trees.\n",
    "Thus, in our case when we do the regression tree model, we actually use the decision tree classifer."
   ]
  },
  {
   "cell_type": "markdown",
   "metadata": {
    "colab_type": "text",
    "id": "u97chZ8pz51p"
   },
   "source": [
    "Train the regression tree model using default paramater"
   ]
  },
  {
   "cell_type": "code",
   "execution_count": 67,
   "metadata": {
    "colab": {},
    "colab_type": "code",
    "id": "IM3MAJnPz51p"
   },
   "outputs": [
    {
     "data": {
      "text/plain": [
       "DecisionTreeRegressor(criterion='mse', max_depth=None, max_features=None,\n",
       "                      max_leaf_nodes=None, min_impurity_decrease=0.0,\n",
       "                      min_impurity_split=None, min_samples_leaf=1,\n",
       "                      min_samples_split=2, min_weight_fraction_leaf=0.0,\n",
       "                      presort=False, random_state=1, splitter='best')"
      ]
     },
     "execution_count": 67,
     "metadata": {},
     "output_type": "execute_result"
    }
   ],
   "source": [
    "regtreemo = DecisionTreeRegressor(\n",
    "    random_state=1, \n",
    "    max_depth=None,\n",
    "    min_samples_leaf=1,\n",
    "    max_features=None,\n",
    "    max_leaf_nodes=None )\n",
    "\n",
    "regtreemo.fit(train_df[features], train_df['rent'])"
   ]
  },
  {
   "cell_type": "code",
   "execution_count": 68,
   "metadata": {
    "colab": {},
    "colab_type": "code",
    "id": "65xtmTbNz51s"
   },
   "outputs": [
    {
     "data": {
      "text/plain": [
       "(1784304.045467068, 307724.8507966775)"
      ]
     },
     "execution_count": 68,
     "metadata": {},
     "output_type": "execute_result"
    }
   ],
   "source": [
    "get_cv_results(regtreemo)"
   ]
  },
  {
   "cell_type": "markdown",
   "metadata": {
    "colab_type": "text",
    "id": "DJM4nC5Zz51w"
   },
   "source": [
    "Train the regression tree model using Hyperparameters that we found, so that we can compare the results among different models better."
   ]
  },
  {
   "cell_type": "code",
   "execution_count": 71,
   "metadata": {
    "colab": {},
    "colab_type": "code",
    "id": "Fc3ALfdCz51x"
   },
   "outputs": [
    {
     "data": {
      "text/plain": [
       "DecisionTreeRegressor(criterion='mse', max_depth=5, max_features=None,\n",
       "                      max_leaf_nodes=None, min_impurity_decrease=0.0,\n",
       "                      min_impurity_split=None, min_samples_leaf=6,\n",
       "                      min_samples_split=2, min_weight_fraction_leaf=0.0,\n",
       "                      presort=False, random_state=1, splitter='best')"
      ]
     },
     "execution_count": 71,
     "metadata": {},
     "output_type": "execute_result"
    }
   ],
   "source": [
    "newregtreemo = DecisionTreeRegressor(\n",
    "    random_state=1,\n",
    "    max_depth=5,\n",
    "    min_samples_leaf=6 )\n",
    "\n",
    "newregtreemo.fit(train_df[features], train_df['rent'])"
   ]
  },
  {
   "cell_type": "code",
   "execution_count": 72,
   "metadata": {
    "colab": {},
    "colab_type": "code",
    "id": "TVhscdXIz510"
   },
   "outputs": [
    {
     "data": {
      "text/plain": [
       "(1560286.5382077775, 217774.82075975797)"
      ]
     },
     "execution_count": 72,
     "metadata": {},
     "output_type": "execute_result"
    }
   ],
   "source": [
    "get_cv_results(newregtreemo)"
   ]
  },
  {
   "cell_type": "markdown",
   "metadata": {
    "colab_type": "text",
    "id": "fv9pZ8ipz513"
   },
   "source": [
    "As we can see, the regression tree model that uses the Hyperparameters does have better result.\n",
    "But Gradient Boosting Regression still has the best result."
   ]
  },
  {
   "cell_type": "code",
   "execution_count": 73,
   "metadata": {
    "colab": {},
    "colab_type": "code",
    "id": "NjrKKuhBz514"
   },
   "outputs": [
    {
     "name": "stdout",
     "output_type": "stream",
     "text": [
      "bedrooms   0.004548823381066806\n",
      "bathrooms   0.11734825780916851\n",
      "size_sqft   0.6102817404345603\n",
      "addr_lat   0.0\n",
      "addr_lon   0.0\n",
      "floor_count   0.0011509411321644757\n",
      "year_built   0.0013179992866569205\n",
      "min_to_subway   0.0\n",
      "has_doorman   0.0\n",
      "has_elevator   0.0\n",
      "has_fireplace   0.0\n",
      "has_dishwasher   0.0\n",
      "is_furnished   0.0\n",
      "has_gym   0.004362319958019443\n",
      "allows_pets   0.0\n",
      "has_washer_dryer   0.0020619724079841794\n",
      "has_garage   0.0\n",
      "has_roofdeck   0.0\n",
      "has_concierge   0.0\n",
      "has_pool   0.0\n",
      "has_garden   0.0\n",
      "has_childrens_playroom   0.0\n",
      "no_fee   0.005122870357211396\n",
      "floornumber   0.0030736720183509878\n",
      "zip_average_income   0.17967545974968172\n",
      "zip_unemployment_rate   0.0011406691267707113\n",
      "neighborhood_population   0.0\n",
      "ave_sale_price   0.0067173262797833935\n",
      "estimated_rental_value   0.06319794805858121\n",
      "Brooklyn   0.0\n",
      "Manhattan   0.0\n",
      "Queens   0.0\n",
      "Bronx   0.0\n",
      "Staten Island   0.0\n"
     ]
    }
   ],
   "source": [
    "for feature,score in zip(features,newregtreemo.feature_importances_):\n",
    "    print(feature, ' ', score)"
   ]
  },
  {
   "cell_type": "markdown",
   "metadata": {
    "colab_type": "text",
    "id": "laDG73kzz516"
   },
   "source": [
    "### Learning Curve\n",
    "We can use the Learning Curves methods provided in lecture 8"
   ]
  },
  {
   "cell_type": "code",
   "execution_count": 74,
   "metadata": {
    "colab": {},
    "colab_type": "code",
    "id": "fRc0BHUGz517",
    "outputId": "ca9c6315-6f45-48a2-ddf9-91e2030e6955"
   },
   "outputs": [
    {
     "name": "stdout",
     "output_type": "stream",
     "text": [
      "1 4572785.645320359 445004.0887028914\n",
      "3 2131275.8205047417 373358.7257241667\n",
      "5 1564491.366883862 222282.10967542822\n",
      "7 1468139.6035186667 268546.29228719167\n",
      "9 1469873.7952830386 239850.41674270257\n",
      "11 1386676.248651358 237384.0628583098\n",
      "13 1402462.954857372 253339.55765092178\n",
      "15 1346029.5685074665 264143.20932462276\n",
      "17 1394834.8961980105 270527.13358506537\n",
      "19 1397980.7033980575 257551.17628524895\n",
      "21 1440011.5096156546 341482.44915712834\n",
      "23 1459635.4964225094 355653.68920203485\n",
      "25 1524333.7948864761 376467.07655902556\n",
      "27 1511533.83376324 386956.5958300964\n",
      "29 1457323.0414233475 348460.98396993714\n",
      "31 1501776.5903524642 364676.7889701957\n",
      "33 1620336.3882063979 336836.3183985473\n",
      "35 1583549.2168568554 306208.7042190424\n",
      "37 1590158.7750940374 309442.9770524444\n",
      "39 1605758.6871501326 306926.54803492926\n",
      "41 1614915.5590912506 317832.15879258723\n",
      "43 1617953.1615027797 339046.36835281877\n",
      "45 1596635.1015452903 341643.09703326965\n",
      "47 1576229.1001086987 376156.6264321279\n",
      "49 1570877.3062404287 324955.28021927713\n"
     ]
    }
   ],
   "source": [
    "hp_values = range(1,50,2)\n",
    "all_mu = []\n",
    "all_sigma = []\n",
    "\n",
    "for m in hp_values:\n",
    "\n",
    "    dtree=DecisionTreeRegressor(\n",
    "        random_state=1, \n",
    "        max_depth=m,\n",
    "        min_samples_leaf=m,\n",
    "    )\n",
    "\n",
    "    mu, sigma = get_cv_results(dtree)\n",
    "    all_mu.append(mu)\n",
    "    all_sigma.append(sigma)\n",
    "    \n",
    "    print(m, mu, sigma)"
   ]
  },
  {
   "cell_type": "code",
   "execution_count": 75,
   "metadata": {
    "colab": {},
    "colab_type": "code",
    "id": "SjwVqEAMz519",
    "outputId": "2474de1f-3ad0-465f-ed70-ce7fcdd4de8d"
   },
   "outputs": [
    {
     "data": {
      "text/plain": [
       "Text(0.5, 0, 'Max Depth')"
      ]
     },
     "execution_count": 75,
     "metadata": {},
     "output_type": "execute_result"
    },
    {
     "data": {
      "image/png": "[encoded data removed]",
      "text/plain": [
       "<Figure size 1008x360 with 1 Axes>"
      ]
     },
     "metadata": {
      "needs_background": "light"
     },
     "output_type": "display_data"
    }
   ],
   "source": [
    "plt.figure(figsize=(14, 5))\n",
    "plt.plot(hp_values, all_mu)\n",
    "plt.ylabel('Cross Validation Accuracy')\n",
    "plt.xlabel('Max Depth')"
   ]
  },
  {
   "cell_type": "code",
   "execution_count": 76,
   "metadata": {
    "colab": {},
    "colab_type": "code",
    "id": "LCdgYSNqz51-",
    "outputId": "79185800-8a0c-402e-b9e2-dcb185087fb3"
   },
   "outputs": [
    {
     "data": {
      "text/plain": [
       "Text(0.5, 0, 'Max Depth')"
      ]
     },
     "execution_count": 76,
     "metadata": {},
     "output_type": "execute_result"
    },
    {
     "data": {
      "image/png": "[encoded data removed]",
      "text/plain": [
       "<Figure size 1008x360 with 1 Axes>"
      ]
     },
     "metadata": {
      "needs_background": "light"
     },
     "output_type": "display_data"
    }
   ],
   "source": [
    "plt.figure(figsize=(14, 5))\n",
    "plt.plot(hp_values, all_sigma)\n",
    "plt.ylabel('Cross Validation Std Dev.')\n",
    "plt.xlabel('Max Depth')"
   ]
  },
  {
   "cell_type": "markdown",
   "metadata": {
    "colab_type": "text",
    "id": "rrr5UbB8z52B"
   },
   "source": [
    "### Neural Network\n",
    "Neural networks are a set of algorithms, modeled loosely after the human brain, that are designed to recognize patterns. They interpret sensory data through a kind of machine perception, labeling or clustering raw input.(source:https://skymind.ai/wiki/neural-network)"
   ]
  },
  {
   "cell_type": "code",
   "execution_count": 95,
   "metadata": {
    "colab": {},
    "colab_type": "code",
    "id": "U8xBcG-Sz52B",
    "outputId": "058b4d79-aab1-49a3-8c7c-a98c884a2fd5"
   },
   "outputs": [],
   "source": [
    "scaler = StandardScaler()\n",
    "X = scaler.fit_transform(train_df[features])\n",
    "Y = train_df['rent'].values.reshape(-1,1)\n",
    "\n",
    "train_x, test_x, train_y, test_y = train_test_split(X, Y, test_size=0.2, random_state=42)"
   ]
  },
  {
   "cell_type": "code",
   "execution_count": 96,
   "metadata": {
    "colab": {},
    "colab_type": "code",
    "id": "ztLWpbWHz52D"
   },
   "outputs": [],
   "source": [
    "net = models.Sequential()\n",
    "net.add(layers.Dense(64, input_dim=train_x.shape[1], kernel_regularizer=regularizers.l1(0.1), activation='relu'))\n",
    "net.add(layers.Dropout(0.1))\n",
    "\n",
    "net.add(layers.Dense(64, kernel_regularizer=regularizers.l1(0.1), activation='relu'))\n",
    "net.add(layers.Dropout(0.1))\n",
    "\n",
    "net.add(layers.Dense(128, kernel_regularizer=regularizers.l1(0.1), activation='relu'))\n",
    "net.add(layers.Dropout(0.1))\n",
    "\n",
    "net.add(layers.Dense(256, kernel_regularizer=regularizers.l1(0.1), activation='relu'))\n",
    "net.add(layers.Dropout(0.1))\n",
    "\n",
    "net.add(layers.Dense(1, activation='linear'))\n",
    "\n",
    "net.compile(loss='mean_squared_error',\n",
    "            optimizer='adam',\n",
    "            metrics=['mean_squared_error'])"
   ]
  },
  {
   "cell_type": "code",
   "execution_count": 79,
   "metadata": {
    "colab": {
     "base_uri": "https://localhost:8080/",
     "height": 1000
    },
    "colab_type": "code",
    "id": "Jmei-Vcaz52E",
    "outputId": "2f9619df-7f4a-46e4-b581-ae2f887add94"
   },
   "outputs": [
    {
     "name": "stdout",
     "output_type": "stream",
     "text": [
      "WARNING:tensorflow:From D:\\Anaconda3\\lib\\site-packages\\keras\\backend\\tensorflow_backend.py:986: The name tf.assign_add is deprecated. Please use tf.compat.v1.assign_add instead.\n",
      "\n",
      "WARNING:tensorflow:From D:\\Anaconda3\\lib\\site-packages\\keras\\backend\\tensorflow_backend.py:973: The name tf.assign is deprecated. Please use tf.compat.v1.assign instead.\n",
      "\n",
      "WARNING:tensorflow:From D:\\Anaconda3\\lib\\site-packages\\keras\\backend\\tensorflow_backend.py:2741: The name tf.Session is deprecated. Please use tf.compat.v1.Session instead.\n",
      "\n",
      "Train on 7876 samples, validate on 876 samples\n",
      "Epoch 1/70\n",
      "WARNING:tensorflow:From D:\\Anaconda3\\lib\\site-packages\\keras\\backend\\tensorflow_backend.py:174: The name tf.get_default_session is deprecated. Please use tf.compat.v1.get_default_session instead.\n",
      "\n",
      "WARNING:tensorflow:From D:\\Anaconda3\\lib\\site-packages\\keras\\backend\\tensorflow_backend.py:181: The name tf.ConfigProto is deprecated. Please use tf.compat.v1.ConfigProto instead.\n",
      "\n",
      "WARNING:tensorflow:From D:\\Anaconda3\\lib\\site-packages\\keras\\backend\\tensorflow_backend.py:190: The name tf.global_variables is deprecated. Please use tf.compat.v1.global_variables instead.\n",
      "\n",
      "WARNING:tensorflow:From D:\\Anaconda3\\lib\\site-packages\\keras\\backend\\tensorflow_backend.py:199: The name tf.is_variable_initialized is deprecated. Please use tf.compat.v1.is_variable_initialized instead.\n",
      "\n",
      "WARNING:tensorflow:From D:\\Anaconda3\\lib\\site-packages\\keras\\backend\\tensorflow_backend.py:206: The name tf.variables_initializer is deprecated. Please use tf.compat.v1.variables_initializer instead.\n",
      "\n",
      "7876/7876 [==============================] - 3s 329us/step - loss: 11829207.2040 - mean_squared_error: 11828820.4126 - val_loss: 2130444.6190 - val_mean_squared_error: 2130029.5611\n",
      "Epoch 2/70\n",
      "7876/7876 [==============================] - 1s 149us/step - loss: 2350000.6582 - mean_squared_error: 2349589.2066 - val_loss: 1755715.8961 - val_mean_squared_error: 1755310.1909\n",
      "Epoch 3/70\n",
      "7876/7876 [==============================] - 1s 141us/step - loss: 2015616.7596 - mean_squared_error: 2015212.4194 - val_loss: 1442819.1824 - val_mean_squared_error: 1442414.6541\n",
      "Epoch 4/70\n",
      "7876/7876 [==============================] - 1s 116us/step - loss: 1975210.6644 - mean_squared_error: 1974811.2618 - val_loss: 1494961.3088 - val_mean_squared_error: 1494566.3393\n",
      "Epoch 5/70\n",
      "7876/7876 [==============================] - 1s 140us/step - loss: 1816561.0058 - mean_squared_error: 1816166.8983 - val_loss: 1321333.3422 - val_mean_squared_error: 1320938.1684\n",
      "Epoch 6/70\n",
      "7876/7876 [==============================] - 1s 137us/step - loss: 1808143.0494 - mean_squared_error: 1807751.9959 - val_loss: 1247216.2306 - val_mean_squared_error: 1246824.4478\n",
      "Epoch 7/70\n",
      "7876/7876 [==============================] - 1s 171us/step - loss: 1726253.6375 - mean_squared_error: 1725865.5306 - val_loss: 1400454.0745 - val_mean_squared_error: 1400070.9235\n",
      "Epoch 8/70\n",
      "7876/7876 [==============================] - 1s 118us/step - loss: 1787892.3127 - mean_squared_error: 1787508.2273 - val_loss: 1233221.1652 - val_mean_squared_error: 1232839.1196\n",
      "Epoch 9/70\n",
      "7876/7876 [==============================] - 1s 127us/step - loss: 1685850.6941 - mean_squared_error: 1685469.0247 - val_loss: 1166447.2765 - val_mean_squared_error: 1166066.2380\n",
      "Epoch 10/70\n",
      "7876/7876 [==============================] - 1s 146us/step - loss: 1657136.0840 - mean_squared_error: 1656756.3227 - val_loss: 1131310.9749 - val_mean_squared_error: 1130931.1122\n",
      "Epoch 11/70\n",
      "7876/7876 [==============================] - 1s 120us/step - loss: 1741675.5810 - mean_squared_error: 1741297.4143 - val_loss: 1148987.3029 - val_mean_squared_error: 1148609.9199\n",
      "Epoch 12/70\n",
      "7876/7876 [==============================] - 1s 132us/step - loss: 1590973.2706 - mean_squared_error: 1590595.7455 - val_loss: 1241069.7593 - val_mean_squared_error: 1240694.8423\n",
      "Epoch 13/70\n",
      "7876/7876 [==============================] - 1s 153us/step - loss: 1650548.3960 - mean_squared_error: 1650171.8164 - val_loss: 1077031.8309 - val_mean_squared_error: 1076654.5207\n",
      "Epoch 14/70\n",
      "7876/7876 [==============================] - 1s 178us/step - loss: 1602599.3197 - mean_squared_error: 1602223.5560 - val_loss: 1155608.8858 - val_mean_squared_error: 1155230.2203\n",
      "Epoch 15/70\n",
      "7876/7876 [==============================] - 1s 178us/step - loss: 1566658.1761 - mean_squared_error: 1566282.5343 - val_loss: 1085680.9853 - val_mean_squared_error: 1085305.3355\n",
      "Epoch 16/70\n",
      "7876/7876 [==============================] - 1s 137us/step - loss: 1540256.3681 - mean_squared_error: 1539878.7751 - val_loss: 1073206.6677 - val_mean_squared_error: 1072827.5614\n",
      "Epoch 17/70\n",
      "7876/7876 [==============================] - 1s 172us/step - loss: 1508923.0948 - mean_squared_error: 1508542.9638 - val_loss: 1048205.6089 - val_mean_squared_error: 1047823.1043\n",
      "Epoch 18/70\n",
      "7876/7876 [==============================] - 1s 149us/step - loss: 1418555.9420 - mean_squared_error: 1418175.1022 - val_loss: 1055497.1183 - val_mean_squared_error: 1055115.6968\n",
      "Epoch 19/70\n",
      "7876/7876 [==============================] - 1s 134us/step - loss: 1349576.9322 - mean_squared_error: 1349193.4341 - val_loss: 967613.2964 - val_mean_squared_error: 967227.9160\n",
      "Epoch 20/70\n",
      "7876/7876 [==============================] - 1s 132us/step - loss: 1398169.4978 - mean_squared_error: 1397784.0033 - val_loss: 973355.0061 - val_mean_squared_error: 972967.3864\n",
      "Epoch 21/70\n",
      "7876/7876 [==============================] - 1s 135us/step - loss: 1428435.6249 - mean_squared_error: 1428047.6923 - val_loss: 957462.2192 - val_mean_squared_error: 957072.7962\n",
      "Epoch 22/70\n",
      "7876/7876 [==============================] - 1s 127us/step - loss: 1291945.8804 - mean_squared_error: 1291555.3107 - val_loss: 960156.4368 - val_mean_squared_error: 959763.7805\n",
      "Epoch 23/70\n",
      "7876/7876 [==============================] - 1s 116us/step - loss: 1308218.0168 - mean_squared_error: 1307824.1462 - val_loss: 926650.1146 - val_mean_squared_error: 926253.8500\n",
      "Epoch 24/70\n",
      "7876/7876 [==============================] - 1s 127us/step - loss: 1428076.1867 - mean_squared_error: 1427681.3706 - val_loss: 991163.2514 - val_mean_squared_error: 990767.8803\n",
      "Epoch 25/70\n",
      "7876/7876 [==============================] - 1s 153us/step - loss: 1313324.8060 - mean_squared_error: 1312929.2691 - val_loss: 1010546.2314 - val_mean_squared_error: 1010149.9422\n",
      "Epoch 26/70\n",
      "7876/7876 [==============================] - 1s 131us/step - loss: 1214310.0943 - mean_squared_error: 1213911.7019 - val_loss: 1046210.0692 - val_mean_squared_error: 1045811.2209\n",
      "Epoch 27/70\n",
      "7876/7876 [==============================] - 1s 125us/step - loss: 1266013.6911 - mean_squared_error: 1265611.8656 - val_loss: 980975.7935 - val_mean_squared_error: 980574.9772\n",
      "Epoch 28/70\n",
      "7876/7876 [==============================] - 1s 115us/step - loss: 1218026.0287 - mean_squared_error: 1217622.1901 - val_loss: 945931.7810 - val_mean_squared_error: 945525.4361\n",
      "Epoch 29/70\n",
      "7876/7876 [==============================] - 1s 120us/step - loss: 1223504.6001 - mean_squared_error: 1223095.9458 - val_loss: 888679.9124 - val_mean_squared_error: 888270.2073\n",
      "Epoch 30/70\n",
      "7876/7876 [==============================] - 1s 142us/step - loss: 1212759.4618 - mean_squared_error: 1212349.8999 - val_loss: 921031.4765 - val_mean_squared_error: 920617.0000\n",
      "Epoch 31/70\n",
      "7876/7876 [==============================] - 2s 256us/step - loss: 1279218.1093 - mean_squared_error: 1278806.2368 - val_loss: 905600.7852 - val_mean_squared_error: 905185.2521\n",
      "Epoch 32/70\n",
      "7876/7876 [==============================] - 2s 265us/step - loss: 1225165.3451 - mean_squared_error: 1224750.3489 - val_loss: 899086.8436 - val_mean_squared_error: 898671.3600\n",
      "Epoch 33/70\n",
      "7876/7876 [==============================] - 1s 158us/step - loss: 1207542.0471 - mean_squared_error: 1207126.3089 - val_loss: 918322.7681 - val_mean_squared_error: 917903.9449\n",
      "Epoch 34/70\n",
      "7876/7876 [==============================] - 2s 203us/step - loss: 1226190.4696 - mean_squared_error: 1225771.7091 - val_loss: 881618.7991 - val_mean_squared_error: 881196.6520\n",
      "Epoch 35/70\n",
      "7876/7876 [==============================] - 1s 132us/step - loss: 1146055.1778 - mean_squared_error: 1145634.1417 - val_loss: 882890.9204 - val_mean_squared_error: 882468.5484\n"
     ]
    },
    {
     "name": "stdout",
     "output_type": "stream",
     "text": [
      "Epoch 36/70\n",
      "7876/7876 [==============================] - 2s 202us/step - loss: 1146500.0708 - mean_squared_error: 1146076.5827 - val_loss: 899807.0328 - val_mean_squared_error: 899382.5611\n",
      "Epoch 37/70\n",
      "7876/7876 [==============================] - 1s 152us/step - loss: 1126617.8661 - mean_squared_error: 1126191.7033 - val_loss: 894117.4659 - val_mean_squared_error: 893687.8961\n",
      "Epoch 38/70\n",
      "7876/7876 [==============================] - 1s 139us/step - loss: 1181866.0003 - mean_squared_error: 1181436.1825 - val_loss: 944077.1691 - val_mean_squared_error: 943646.1050\n",
      "Epoch 39/70\n",
      "7876/7876 [==============================] - 1s 143us/step - loss: 1117878.8682 - mean_squared_error: 1117446.7094 - val_loss: 1028308.6694 - val_mean_squared_error: 1027877.1251\n",
      "Epoch 40/70\n",
      "7876/7876 [==============================] - 1s 119us/step - loss: 1074759.1611 - mean_squared_error: 1074323.9926 - val_loss: 961382.3729 - val_mean_squared_error: 960950.3789\n",
      "Epoch 41/70\n",
      "7876/7876 [==============================] - 1s 160us/step - loss: 1026262.4387 - mean_squared_error: 1025826.6067 - val_loss: 877589.4345 - val_mean_squared_error: 877152.9368\n",
      "Epoch 42/70\n",
      "7876/7876 [==============================] - ETA: 0s - loss: 1070447.6462 - mean_squared_error: 1070009.81 - 1s 129us/step - loss: 1057750.7345 - mean_squared_error: 1057312.5732 - val_loss: 914194.1672 - val_mean_squared_error: 913749.4001\n",
      "Epoch 43/70\n",
      "7876/7876 [==============================] - 1s 145us/step - loss: 1044708.0007 - mean_squared_error: 1044265.7991 - val_loss: 861755.3208 - val_mean_squared_error: 861309.8894\n",
      "Epoch 44/70\n",
      "7876/7876 [==============================] - 1s 187us/step - loss: 1032872.8740 - mean_squared_error: 1032426.7244 - val_loss: 895759.5980 - val_mean_squared_error: 895310.1094\n",
      "Epoch 45/70\n",
      "7876/7876 [==============================] - 1s 167us/step - loss: 1051512.4022 - mean_squared_error: 1051063.3585 - val_loss: 877160.3299 - val_mean_squared_error: 876709.9595\n",
      "Epoch 46/70\n",
      "7876/7876 [==============================] - 1s 171us/step - loss: 989232.0412 - mean_squared_error: 988780.4992 - val_loss: 879851.6266 - val_mean_squared_error: 879397.3148\n",
      "Epoch 47/70\n",
      "7876/7876 [==============================] - 2s 196us/step - loss: 1022538.7117 - mean_squared_error: 1022085.4589 - val_loss: 934323.0832 - val_mean_squared_error: 933866.1941\n",
      "Epoch 48/70\n",
      "7876/7876 [==============================] - 1s 135us/step - loss: 963438.5541 - mean_squared_error: 962983.4955 - val_loss: 907724.9706 - val_mean_squared_error: 907267.8616\n",
      "Epoch 49/70\n",
      "7876/7876 [==============================] - 1s 168us/step - loss: 974536.4608 - mean_squared_error: 974078.8389 - val_loss: 958721.8353 - val_mean_squared_error: 958262.0830\n",
      "Epoch 50/70\n",
      "7876/7876 [==============================] - 2s 274us/step - loss: 1007049.5156 - mean_squared_error: 1006589.4822 - val_loss: 913489.0004 - val_mean_squared_error: 913026.4522\n",
      "Epoch 51/70\n",
      "7876/7876 [==============================] - 1s 120us/step - loss: 958622.4523 - mean_squared_error: 958158.2483 - val_loss: 968660.5111 - val_mean_squared_error: 968196.8884\n",
      "Epoch 52/70\n",
      "7876/7876 [==============================] - 1s 184us/step - loss: 988682.5475 - mean_squared_error: 988215.3873 - val_loss: 948131.7406 - val_mean_squared_error: 947664.7451\n",
      "Epoch 53/70\n",
      "7876/7876 [==============================] - 1s 138us/step - loss: 1007368.0654 - mean_squared_error: 1006899.5086 - val_loss: 935326.4288 - val_mean_squared_error: 934858.3350\n",
      "Epoch 54/70\n",
      "7876/7876 [==============================] - 1s 133us/step - loss: 948759.6201 - mean_squared_error: 948288.7608 - val_loss: 899331.5825 - val_mean_squared_error: 898860.2997\n",
      "Epoch 55/70\n",
      "7876/7876 [==============================] - 1s 116us/step - loss: 988423.6366 - mean_squared_error: 987952.5891 - val_loss: 991813.6898 - val_mean_squared_error: 991341.7691\n",
      "Epoch 56/70\n",
      "7876/7876 [==============================] - 1s 137us/step - loss: 920717.4246 - mean_squared_error: 920242.8338 - val_loss: 926914.1926 - val_mean_squared_error: 926437.1751\n",
      "Epoch 57/70\n",
      "7876/7876 [==============================] - 1s 121us/step - loss: 878744.0493 - mean_squared_error: 878267.7042 - val_loss: 841855.3118 - val_mean_squared_error: 841378.9338\n",
      "Epoch 58/70\n",
      "7876/7876 [==============================] - 1s 142us/step - loss: 996132.9776 - mean_squared_error: 995654.4371 - val_loss: 926500.0484 - val_mean_squared_error: 926022.9879\n",
      "Epoch 59/70\n",
      "7876/7876 [==============================] - 1s 187us/step - loss: 897276.3818 - mean_squared_error: 896796.5592 - val_loss: 980804.5862 - val_mean_squared_error: 980323.4466\n",
      "Epoch 60/70\n",
      "7876/7876 [==============================] - 1s 142us/step - loss: 923120.1582 - mean_squared_error: 922637.5965 - val_loss: 938296.5031 - val_mean_squared_error: 937812.3930\n",
      "Epoch 61/70\n",
      "7876/7876 [==============================] - 1s 129us/step - loss: 906062.3905 - mean_squared_error: 905577.9144 - val_loss: 924148.8215 - val_mean_squared_error: 923660.6874\n",
      "Epoch 62/70\n",
      "7876/7876 [==============================] - 1s 165us/step - loss: 866290.4596 - mean_squared_error: 865804.2701 - val_loss: 876234.5327 - val_mean_squared_error: 875746.7697\n",
      "Epoch 63/70\n",
      "7876/7876 [==============================] - 1s 151us/step - loss: 847620.7489 - mean_squared_error: 847132.0889 - val_loss: 854740.6641 - val_mean_squared_error: 854247.4675\n",
      "Epoch 64/70\n",
      "7876/7876 [==============================] - 1s 133us/step - loss: 817740.4798 - mean_squared_error: 817246.3449 - val_loss: 940990.2041 - val_mean_squared_error: 940498.5051\n",
      "Epoch 65/70\n",
      "7876/7876 [==============================] - 1s 180us/step - loss: 896497.5394 - mean_squared_error: 896003.2148 - val_loss: 916619.7941 - val_mean_squared_error: 916126.2747\n",
      "Epoch 66/70\n",
      "7876/7876 [==============================] - 1s 167us/step - loss: 891349.4377 - mean_squared_error: 890854.4936 - val_loss: 978159.6074 - val_mean_squared_error: 977664.9038\n",
      "Epoch 67/70\n",
      "7876/7876 [==============================] - 1s 149us/step - loss: 888901.3098 - mean_squared_error: 888404.3529 - val_loss: 1093114.9789 - val_mean_squared_error: 1092619.4541\n",
      "Epoch 68/70\n",
      "7876/7876 [==============================] - 1s 129us/step - loss: 867622.4054 - mean_squared_error: 867124.6967 - val_loss: 989713.7951 - val_mean_squared_error: 989213.2265\n",
      "Epoch 69/70\n",
      "7876/7876 [==============================] - 1s 160us/step - loss: 896160.9919 - mean_squared_error: 895660.4532 - val_loss: 1052636.4035 - val_mean_squared_error: 1052138.5853\n",
      "Epoch 70/70\n",
      "7876/7876 [==============================] - 1s 139us/step - loss: 800204.2958 - mean_squared_error: 799703.6296 - val_loss: 870478.6067 - val_mean_squared_error: 869976.2539\n"
     ]
    },
    {
     "data": {
      "text/plain": [
       "<keras.callbacks.History at 0x1abb555f908>"
      ]
     },
     "execution_count": 79,
     "metadata": {},
     "output_type": "execute_result"
    }
   ],
   "source": [
    "net.fit(train_x, train_y, epochs=70, batch_size=64, validation_split = 0.1)"
   ]
  },
  {
   "cell_type": "code",
   "execution_count": 80,
   "metadata": {
    "colab": {
     "base_uri": "https://localhost:8080/",
     "height": 34
    },
    "colab_type": "code",
    "id": "jkKi2IVoz52G",
    "outputId": "a58e9e9a-cd9d-44d1-9607-16d43937c355"
   },
   "outputs": [
    {
     "data": {
      "text/plain": [
       "1591015.5925490716"
      ]
     },
     "execution_count": 80,
     "metadata": {},
     "output_type": "execute_result"
    }
   ],
   "source": [
    "mean_squared_error(test_y, net.predict(test_x))"
   ]
  },
  {
   "cell_type": "markdown",
   "metadata": {
    "colab_type": "text",
    "id": "yy3GBRAdz52K"
   },
   "source": [
    "**Although the DL Neural Network seems to provide a better result on mean squared errors but it is really unstable** \n",
    "\n",
    "we have ran few test run on it, and each time it gives different results range from 953411.6171418771 to around 2,000,000.\n",
    "Therefore, we might still choose Gradient Boosting Regression as the most suitable model, since it provides a overall better result."
   ]
  },
  {
   "cell_type": "markdown",
   "metadata": {
    "colab_type": "text",
    "id": "HTEApwmu4s8_"
   },
   "source": [
    "# Model summary"
   ]
  },
  {
   "cell_type": "code",
   "execution_count": 97,
   "metadata": {
    "colab": {},
    "colab_type": "code",
    "id": "1LIjA5NBz52L"
   },
   "outputs": [
    {
     "name": "stdout",
     "output_type": "stream",
     "text": [
      "Random Forest Regression:  (1053460.6931887527, 228018.6363507963)\n",
      "Gradient Boosting Regression:  (927079.4423014012, 164981.1004248631)\n",
      "Multiple Regression:  (2124417.9780780375, 424060.54235046916)\n",
      "Decision Tree Regression:  (1560286.5382077775, 217774.82075975797)\n",
      "Neural Network Regression:  20128963.897158097\n"
     ]
    }
   ],
   "source": [
    "print('Random Forest Regression: ', get_cv_results(rforest))\n",
    "print('Gradient Boosting Regression: ', get_cv_results(gbrdemo))\n",
    "print('Multiple Regression: ', get_cv_results(mul_reg))\n",
    "print('Decision Tree Regression: ', get_cv_results(newregtreemo))\n",
    "print('Neural Network Regression: ', mean_squared_error(test_y, net.predict(test_x)))"
   ]
  },
  {
   "cell_type": "markdown",
   "metadata": {},
   "source": [
    "Before we move on to preduce our final predicted output for test2 and test3, we can also check how well is the performance of our model by creating a new column in our test1 set to store the predictions for test1, and then calcuate the error percentage with the actual rent value, thus we can see in what cases our model is doing great or bad."
   ]
  },
  {
   "cell_type": "code",
   "execution_count": 120,
   "metadata": {},
   "outputs": [
    {
     "data": {
      "text/plain": [
       "GradientBoostingRegressor(alpha=0.9, criterion='friedman_mse', init=None,\n",
       "                          learning_rate=0.15, loss='ls', max_depth=5,\n",
       "                          max_features=None, max_leaf_nodes=None,\n",
       "                          min_impurity_decrease=0.0, min_impurity_split=None,\n",
       "                          min_samples_leaf=6, min_samples_split=2,\n",
       "                          min_weight_fraction_leaf=0.0, n_estimators=120,\n",
       "                          n_iter_no_change=None, presort='auto',\n",
       "                          random_state=None, subsample=1.0, tol=0.0001,\n",
       "                          validation_fraction=0.1, verbose=0, warm_start=False)"
      ]
     },
     "execution_count": 120,
     "metadata": {},
     "output_type": "execute_result"
    }
   ],
   "source": [
    "gbrfortesting = GradientBoostingRegressor(\n",
    "        n_estimators=120,\n",
    "        max_depth=5,\n",
    "        learning_rate=0.15,\n",
    "        min_samples_leaf=6\n",
    "    )\n",
    "gbrfortesting.fit(test_df[features], test_df['rent'])"
   ]
  },
  {
   "cell_type": "code",
   "execution_count": 128,
   "metadata": {},
   "outputs": [],
   "source": [
    "test_performance_df = test_df\n",
    "test_performance_df['predictions'] = gbrfortesting.predict(test_df[features])"
   ]
  },
  {
   "cell_type": "code",
   "execution_count": 129,
   "metadata": {},
   "outputs": [],
   "source": [
    "test_performance_df = test_performance_df.loc[:, ['rent','predictions']]"
   ]
  },
  {
   "cell_type": "markdown",
   "metadata": {},
   "source": [
    "Now we got the predictions line next to the actual rent, we can move on to calculate the error percentage of them, and sort it by the error to check what is the best case, then we sort it reversely to check the worst case"
   ]
  },
  {
   "cell_type": "code",
   "execution_count": 134,
   "metadata": {},
   "outputs": [
    {
     "data": {
      "text/html": [
       "<div>\n",
       "<style scoped>\n",
       "    .dataframe tbody tr th:only-of-type {\n",
       "        vertical-align: middle;\n",
       "    }\n",
       "\n",
       "    .dataframe tbody tr th {\n",
       "        vertical-align: top;\n",
       "    }\n",
       "\n",
       "    .dataframe thead th {\n",
       "        text-align: right;\n",
       "    }\n",
       "</style>\n",
       "<table border=\"1\" class=\"dataframe\">\n",
       "  <thead>\n",
       "    <tr style=\"text-align: right;\">\n",
       "      <th></th>\n",
       "      <th>rent</th>\n",
       "      <th>predictions</th>\n",
       "      <th>predicted_error</th>\n",
       "    </tr>\n",
       "    <tr>\n",
       "      <th>rental_id</th>\n",
       "      <th></th>\n",
       "      <th></th>\n",
       "      <th></th>\n",
       "    </tr>\n",
       "  </thead>\n",
       "  <tbody>\n",
       "    <tr>\n",
       "      <th>7430833</th>\n",
       "      <td>5565</td>\n",
       "      <td>5565.232661</td>\n",
       "      <td>0.000042</td>\n",
       "    </tr>\n",
       "    <tr>\n",
       "      <th>7484308</th>\n",
       "      <td>1900</td>\n",
       "      <td>1899.702275</td>\n",
       "      <td>0.000157</td>\n",
       "    </tr>\n",
       "    <tr>\n",
       "      <th>7465147</th>\n",
       "      <td>3799</td>\n",
       "      <td>3799.712141</td>\n",
       "      <td>0.000187</td>\n",
       "    </tr>\n",
       "    <tr>\n",
       "      <th>7440091</th>\n",
       "      <td>2300</td>\n",
       "      <td>2299.514594</td>\n",
       "      <td>0.000211</td>\n",
       "    </tr>\n",
       "    <tr>\n",
       "      <th>7523548</th>\n",
       "      <td>3100</td>\n",
       "      <td>3100.681049</td>\n",
       "      <td>0.000220</td>\n",
       "    </tr>\n",
       "    <tr>\n",
       "      <th>7486420</th>\n",
       "      <td>2575</td>\n",
       "      <td>2575.636067</td>\n",
       "      <td>0.000247</td>\n",
       "    </tr>\n",
       "    <tr>\n",
       "      <th>7524397</th>\n",
       "      <td>2500</td>\n",
       "      <td>2499.350195</td>\n",
       "      <td>0.000260</td>\n",
       "    </tr>\n",
       "    <tr>\n",
       "      <th>7473694</th>\n",
       "      <td>1780</td>\n",
       "      <td>1779.510036</td>\n",
       "      <td>0.000275</td>\n",
       "    </tr>\n",
       "    <tr>\n",
       "      <th>7507138</th>\n",
       "      <td>3208</td>\n",
       "      <td>3208.946266</td>\n",
       "      <td>0.000295</td>\n",
       "    </tr>\n",
       "    <tr>\n",
       "      <th>7503067</th>\n",
       "      <td>2750</td>\n",
       "      <td>2749.162165</td>\n",
       "      <td>0.000305</td>\n",
       "    </tr>\n",
       "  </tbody>\n",
       "</table>\n",
       "</div>"
      ],
      "text/plain": [
       "           rent  predictions  predicted_error\n",
       "rental_id                                    \n",
       "7430833    5565  5565.232661         0.000042\n",
       "7484308    1900  1899.702275         0.000157\n",
       "7465147    3799  3799.712141         0.000187\n",
       "7440091    2300  2299.514594         0.000211\n",
       "7523548    3100  3100.681049         0.000220\n",
       "7486420    2575  2575.636067         0.000247\n",
       "7524397    2500  2499.350195         0.000260\n",
       "7473694    1780  1779.510036         0.000275\n",
       "7507138    3208  3208.946266         0.000295\n",
       "7503067    2750  2749.162165         0.000305"
      ]
     },
     "execution_count": 134,
     "metadata": {},
     "output_type": "execute_result"
    }
   ],
   "source": [
    "test_performance_df['predicted_error'] = abs( test_performance_df['rent'] - test_performance_df['predictions']) / test_performance_df['rent']\n",
    "test_performance_df.sort_values(by=['predicted_error']).head(10)"
   ]
  },
  {
   "cell_type": "code",
   "execution_count": 135,
   "metadata": {},
   "outputs": [
    {
     "data": {
      "text/html": [
       "<div>\n",
       "<style scoped>\n",
       "    .dataframe tbody tr th:only-of-type {\n",
       "        vertical-align: middle;\n",
       "    }\n",
       "\n",
       "    .dataframe tbody tr th {\n",
       "        vertical-align: top;\n",
       "    }\n",
       "\n",
       "    .dataframe thead th {\n",
       "        text-align: right;\n",
       "    }\n",
       "</style>\n",
       "<table border=\"1\" class=\"dataframe\">\n",
       "  <thead>\n",
       "    <tr style=\"text-align: right;\">\n",
       "      <th></th>\n",
       "      <th>rent</th>\n",
       "      <th>predictions</th>\n",
       "      <th>predicted_error</th>\n",
       "    </tr>\n",
       "    <tr>\n",
       "      <th>rental_id</th>\n",
       "      <th></th>\n",
       "      <th></th>\n",
       "      <th></th>\n",
       "    </tr>\n",
       "  </thead>\n",
       "  <tbody>\n",
       "    <tr>\n",
       "      <th>7464925</th>\n",
       "      <td>6897</td>\n",
       "      <td>13933.520479</td>\n",
       "      <td>1.020229</td>\n",
       "    </tr>\n",
       "    <tr>\n",
       "      <th>7445302</th>\n",
       "      <td>2000</td>\n",
       "      <td>3548.947047</td>\n",
       "      <td>0.774474</td>\n",
       "    </tr>\n",
       "    <tr>\n",
       "      <th>7474246</th>\n",
       "      <td>2000</td>\n",
       "      <td>3336.906624</td>\n",
       "      <td>0.668453</td>\n",
       "    </tr>\n",
       "    <tr>\n",
       "      <th>7509964</th>\n",
       "      <td>1700</td>\n",
       "      <td>2559.137765</td>\n",
       "      <td>0.505375</td>\n",
       "    </tr>\n",
       "    <tr>\n",
       "      <th>7433743</th>\n",
       "      <td>3691</td>\n",
       "      <td>5387.367547</td>\n",
       "      <td>0.459596</td>\n",
       "    </tr>\n",
       "    <tr>\n",
       "      <th>7439857</th>\n",
       "      <td>2600</td>\n",
       "      <td>3789.012131</td>\n",
       "      <td>0.457312</td>\n",
       "    </tr>\n",
       "    <tr>\n",
       "      <th>7446871</th>\n",
       "      <td>2800</td>\n",
       "      <td>3974.044889</td>\n",
       "      <td>0.419302</td>\n",
       "    </tr>\n",
       "    <tr>\n",
       "      <th>7454614</th>\n",
       "      <td>1580</td>\n",
       "      <td>2240.749067</td>\n",
       "      <td>0.418196</td>\n",
       "    </tr>\n",
       "    <tr>\n",
       "      <th>7460626</th>\n",
       "      <td>2400</td>\n",
       "      <td>3364.392473</td>\n",
       "      <td>0.401830</td>\n",
       "    </tr>\n",
       "    <tr>\n",
       "      <th>7446883</th>\n",
       "      <td>5000</td>\n",
       "      <td>3014.274773</td>\n",
       "      <td>0.397145</td>\n",
       "    </tr>\n",
       "  </tbody>\n",
       "</table>\n",
       "</div>"
      ],
      "text/plain": [
       "           rent   predictions  predicted_error\n",
       "rental_id                                     \n",
       "7464925    6897  13933.520479         1.020229\n",
       "7445302    2000   3548.947047         0.774474\n",
       "7474246    2000   3336.906624         0.668453\n",
       "7509964    1700   2559.137765         0.505375\n",
       "7433743    3691   5387.367547         0.459596\n",
       "7439857    2600   3789.012131         0.457312\n",
       "7446871    2800   3974.044889         0.419302\n",
       "7454614    1580   2240.749067         0.418196\n",
       "7460626    2400   3364.392473         0.401830\n",
       "7446883    5000   3014.274773         0.397145"
      ]
     },
     "execution_count": 135,
     "metadata": {},
     "output_type": "execute_result"
    }
   ],
   "source": [
    "test_performance_df.sort_values(by=['predicted_error'], ascending=False).head(10)"
   ]
  },
  {
   "cell_type": "markdown",
   "metadata": {},
   "source": [
    "As we can see that rental_id of 7430833 has the best predicted result and rental_id of 7464925 has a really bad result\n",
    "\n",
    "The two places are\n",
    "- 7430833: #7C 240 EAST 27 STREET, NEW YORK, 10016 (https://streeteasy.com/property/7815532-parc-east-7c)\n",
    "- 7464925: 1204 120 WEST 21 STREET, NEW YORK, 10011 (https://streeteasy.com/property/1321506-21-chelsea-1204)"
   ]
  },
  {
   "cell_type": "markdown",
   "metadata": {
    "colab_type": "text",
    "id": "BhxefAnV7QEB"
   },
   "source": [
    "### After explored 5 different regression models, we decided to use gradient boosting regression model to predict test2"
   ]
  },
  {
   "cell_type": "code",
   "execution_count": 98,
   "metadata": {
    "colab": {},
    "colab_type": "code",
    "id": "uWbnzxXI7O8M"
   },
   "outputs": [],
   "source": [
    "output = pd.DataFrame(np.array(test2_df.index), columns=['rental_id'])"
   ]
  },
  {
   "cell_type": "code",
   "execution_count": 99,
   "metadata": {
    "colab": {},
    "colab_type": "code",
    "id": "FBuye75t7sH8"
   },
   "outputs": [],
   "source": [
    "output['predictions'] = bettergbr1.predict(test2_df[features])"
   ]
  },
  {
   "cell_type": "code",
   "execution_count": 100,
   "metadata": {
    "colab": {},
    "colab_type": "code",
    "id": "zBZcLRq59Ghu"
   },
   "outputs": [
    {
     "data": {
      "text/html": [
       "<div>\n",
       "<style scoped>\n",
       "    .dataframe tbody tr th:only-of-type {\n",
       "        vertical-align: middle;\n",
       "    }\n",
       "\n",
       "    .dataframe tbody tr th {\n",
       "        vertical-align: top;\n",
       "    }\n",
       "\n",
       "    .dataframe thead th {\n",
       "        text-align: right;\n",
       "    }\n",
       "</style>\n",
       "<table border=\"1\" class=\"dataframe\">\n",
       "  <thead>\n",
       "    <tr style=\"text-align: right;\">\n",
       "      <th></th>\n",
       "      <th>rental_id</th>\n",
       "      <th>predictions</th>\n",
       "    </tr>\n",
       "  </thead>\n",
       "  <tbody>\n",
       "    <tr>\n",
       "      <th>0</th>\n",
       "      <td>7428577</td>\n",
       "      <td>2018.136263</td>\n",
       "    </tr>\n",
       "    <tr>\n",
       "      <th>1</th>\n",
       "      <td>7454944</td>\n",
       "      <td>2156.497120</td>\n",
       "    </tr>\n",
       "    <tr>\n",
       "      <th>2</th>\n",
       "      <td>7473595</td>\n",
       "      <td>2563.137531</td>\n",
       "    </tr>\n",
       "    <tr>\n",
       "      <th>3</th>\n",
       "      <td>7490488</td>\n",
       "      <td>2659.592657</td>\n",
       "    </tr>\n",
       "    <tr>\n",
       "      <th>4</th>\n",
       "      <td>7460896</td>\n",
       "      <td>3582.309121</td>\n",
       "    </tr>\n",
       "    <tr>\n",
       "      <th>5</th>\n",
       "      <td>7479988</td>\n",
       "      <td>2622.059261</td>\n",
       "    </tr>\n",
       "    <tr>\n",
       "      <th>6</th>\n",
       "      <td>7496308</td>\n",
       "      <td>3492.898431</td>\n",
       "    </tr>\n",
       "    <tr>\n",
       "      <th>7</th>\n",
       "      <td>7468621</td>\n",
       "      <td>2976.873219</td>\n",
       "    </tr>\n",
       "    <tr>\n",
       "      <th>8</th>\n",
       "      <td>7430797</td>\n",
       "      <td>3422.830981</td>\n",
       "    </tr>\n",
       "    <tr>\n",
       "      <th>9</th>\n",
       "      <td>7440397</td>\n",
       "      <td>4162.271001</td>\n",
       "    </tr>\n",
       "  </tbody>\n",
       "</table>\n",
       "</div>"
      ],
      "text/plain": [
       "   rental_id  predictions\n",
       "0    7428577  2018.136263\n",
       "1    7454944  2156.497120\n",
       "2    7473595  2563.137531\n",
       "3    7490488  2659.592657\n",
       "4    7460896  3582.309121\n",
       "5    7479988  2622.059261\n",
       "6    7496308  3492.898431\n",
       "7    7468621  2976.873219\n",
       "8    7430797  3422.830981\n",
       "9    7440397  4162.271001"
      ]
     },
     "execution_count": 100,
     "metadata": {},
     "output_type": "execute_result"
    }
   ],
   "source": [
    "output.head(10)"
   ]
  },
  {
   "cell_type": "code",
   "execution_count": 101,
   "metadata": {
    "colab": {},
    "colab_type": "code",
    "id": "JuXhGtQU_Pv9"
   },
   "outputs": [],
   "source": [
    "output.to_csv('test2_prediction.csv')"
   ]
  },
  {
   "cell_type": "markdown",
   "metadata": {
    "colab_type": "text",
    "id": "a2WMvf7XUbrR"
   },
   "source": [
    "# Prediction for test3"
   ]
  },
  {
   "cell_type": "code",
   "execution_count": 102,
   "metadata": {
    "colab": {
     "base_uri": "https://localhost:8080/",
     "height": 224
    },
    "colab_type": "code",
    "id": "4ebwRUiYU7Sd",
    "outputId": "98c1385e-a389-40a0-a915-44b6a848dd09"
   },
   "outputs": [
    {
     "name": "stderr",
     "output_type": "stream",
     "text": [
      "D:\\Anaconda3\\lib\\site-packages\\sklearn\\ensemble\\gradient_boosting.py:1450: DataConversionWarning: A column-vector y was passed when a 1d array was expected. Please change the shape of y to (n_samples, ), for example using ravel().\n",
      "  y = column_or_1d(y, warn=True)\n"
     ]
    },
    {
     "data": {
      "text/plain": [
       "GradientBoostingRegressor(alpha=0.9, criterion='friedman_mse', init=None,\n",
       "                          learning_rate=0.15, loss='ls', max_depth=5,\n",
       "                          max_features=None, max_leaf_nodes=None,\n",
       "                          min_impurity_decrease=0.0, min_impurity_split=None,\n",
       "                          min_samples_leaf=6, min_samples_split=2,\n",
       "                          min_weight_fraction_leaf=0.0, n_estimators=120,\n",
       "                          n_iter_no_change=None, presort='auto',\n",
       "                          random_state=None, subsample=1.0, tol=0.0001,\n",
       "                          validation_fraction=0.1, verbose=0, warm_start=False)"
      ]
     },
     "execution_count": 102,
     "metadata": {},
     "output_type": "execute_result"
    }
   ],
   "source": [
    "scaler = StandardScaler()\n",
    "train_x = scaler.fit_transform(train_df[features])\n",
    "train_y = train_df['rent'].values.reshape(-1,1)\n",
    "\n",
    "bettergbr1 = GradientBoostingRegressor(\n",
    "        n_estimators=120,\n",
    "        max_depth=5,\n",
    "        learning_rate=0.15,\n",
    "        min_samples_leaf=6\n",
    "    )\n",
    "bettergbr1.fit(train_x, train_y)"
   ]
  },
  {
   "cell_type": "code",
   "execution_count": 103,
   "metadata": {
    "colab": {},
    "colab_type": "code",
    "id": "z1hjhpxwVCmL"
   },
   "outputs": [],
   "source": [
    "test_x = scaler.fit_transform(test3_df[features])\n",
    "\n",
    "output = pd.DataFrame(np.array(test3_df.index), columns=['rental_id'])\n",
    "output['predictions'] = bettergbr1.predict(test_x)\n",
    "output.to_csv('test3_prediction.csv')"
   ]
  },
  {
   "cell_type": "code",
   "execution_count": 104,
   "metadata": {
    "colab": {},
    "colab_type": "code",
    "id": "VhUncoe5XkW6"
   },
   "outputs": [
    {
     "data": {
      "text/html": [
       "<div>\n",
       "<style scoped>\n",
       "    .dataframe tbody tr th:only-of-type {\n",
       "        vertical-align: middle;\n",
       "    }\n",
       "\n",
       "    .dataframe tbody tr th {\n",
       "        vertical-align: top;\n",
       "    }\n",
       "\n",
       "    .dataframe thead th {\n",
       "        text-align: right;\n",
       "    }\n",
       "</style>\n",
       "<table border=\"1\" class=\"dataframe\">\n",
       "  <thead>\n",
       "    <tr style=\"text-align: right;\">\n",
       "      <th></th>\n",
       "      <th>rental_id</th>\n",
       "      <th>predictions</th>\n",
       "    </tr>\n",
       "  </thead>\n",
       "  <tbody>\n",
       "    <tr>\n",
       "      <th>0</th>\n",
       "      <td>7455565</td>\n",
       "      <td>4212.052640</td>\n",
       "    </tr>\n",
       "    <tr>\n",
       "      <th>1</th>\n",
       "      <td>7473295</td>\n",
       "      <td>2133.588111</td>\n",
       "    </tr>\n",
       "    <tr>\n",
       "      <th>2</th>\n",
       "      <td>7459804</td>\n",
       "      <td>3295.365104</td>\n",
       "    </tr>\n",
       "    <tr>\n",
       "      <th>3</th>\n",
       "      <td>7456330</td>\n",
       "      <td>2277.347136</td>\n",
       "    </tr>\n",
       "    <tr>\n",
       "      <th>4</th>\n",
       "      <td>7443595</td>\n",
       "      <td>3442.757603</td>\n",
       "    </tr>\n",
       "    <tr>\n",
       "      <th>5</th>\n",
       "      <td>7502623</td>\n",
       "      <td>2066.332923</td>\n",
       "    </tr>\n",
       "    <tr>\n",
       "      <th>6</th>\n",
       "      <td>7459171</td>\n",
       "      <td>4220.040506</td>\n",
       "    </tr>\n",
       "    <tr>\n",
       "      <th>7</th>\n",
       "      <td>7447600</td>\n",
       "      <td>1642.313233</td>\n",
       "    </tr>\n",
       "    <tr>\n",
       "      <th>8</th>\n",
       "      <td>7505254</td>\n",
       "      <td>3516.369924</td>\n",
       "    </tr>\n",
       "    <tr>\n",
       "      <th>9</th>\n",
       "      <td>7454620</td>\n",
       "      <td>2503.861059</td>\n",
       "    </tr>\n",
       "  </tbody>\n",
       "</table>\n",
       "</div>"
      ],
      "text/plain": [
       "   rental_id  predictions\n",
       "0    7455565  4212.052640\n",
       "1    7473295  2133.588111\n",
       "2    7459804  3295.365104\n",
       "3    7456330  2277.347136\n",
       "4    7443595  3442.757603\n",
       "5    7502623  2066.332923\n",
       "6    7459171  4220.040506\n",
       "7    7447600  1642.313233\n",
       "8    7505254  3516.369924\n",
       "9    7454620  2503.861059"
      ]
     },
     "execution_count": 104,
     "metadata": {},
     "output_type": "execute_result"
    }
   ],
   "source": [
    "output.head(10)"
   ]
  },
  {
   "cell_type": "code",
   "execution_count": null,
   "metadata": {},
   "outputs": [],
   "source": []
  }
 ],
 "metadata": {
  "anaconda-cloud": {},
  "colab": {
   "collapsed_sections": [],
   "name": "main.ipynb",
   "provenance": [],
   "toc_visible": true
  },
  "kernelspec": {
   "display_name": "Python 3",
   "language": "python",
   "name": "python3"
  },
  "language_info": {
   "codemirror_mode": {
    "name": "ipython",
    "version": 3
   },
   "file_extension": ".py",
   "mimetype": "text/x-python",
   "name": "python",
   "nbconvert_exporter": "python",
   "pygments_lexer": "ipython3",
   "version": "3.7.1"
  }
 },
 "nbformat": 4,
 "nbformat_minor": 1
}

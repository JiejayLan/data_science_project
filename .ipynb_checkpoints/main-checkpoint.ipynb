{
 "cells": [
  {
   "cell_type": "code",
<<<<<<< HEAD
   "execution_count": 102,
=======
   "execution_count": 39,
>>>>>>> c8cc123baa1c442bb8817105216994b466be80f9
   "metadata": {},
   "outputs": [],
   "source": [
    "import numpy as np\n",
    "import pandas as pd\n",
    "import matplotlib.pyplot as plt\n",
    "import seaborn as sns\n",
    "import statsmodels.api as sm\n",
    "import csv\n",
    "import warnings\n",
    "from sklearn.linear_model import LinearRegression\n",
    "from sklearn.ensemble import RandomForestRegressor, GradientBoostingRegressor\n",
    "from sklearn.tree import DecisionTreeClassifier \n",
    "from sklearn.tree import DecisionTreeRegressor\n",
    "from sklearn import preprocessing\n",
    "from sklearn.model_selection import KFold\n",
    "from sklearn.utils import shuffle\n",
    "from sklearn.metrics import mean_squared_error\n",
    "from sklearn.preprocessing import StandardScaler\n",
    "from sklearn.linear_model import LinearRegression\n",
    "import statsmodels.api as sm\n",
    "from keras import models, layers, optimizers, regularizers\n",
    "from sklearn.model_selection import train_test_split, ShuffleSplit, GridSearchCV\n",
    "from keras import regularizers\n",
    "%matplotlib inline"
   ]
  },
  {
   "cell_type": "markdown",
   "metadata": {},
   "source": [
    "### Import datasets\n",
    "- We will import train, test1 and test2 dataset\n",
    "- Merge test1 and train dataset, in order to expend our train dataset"
   ]
  },
  {
   "cell_type": "code",
   "execution_count": 64,
   "metadata": {
    "colab": {
     "base_uri": "https://localhost:8080/",
     "height": 173
    },
    "colab_type": "code",
    "id": "O3bd5Le9C1yG",
    "outputId": "01b85a52-799e-4075-ffce-c1820b0035c5",
    "scrolled": true
   },
   "outputs": [
    {
     "data": {
      "text/plain": [
       "Index(['addr_unit', 'building_id', 'bedrooms', 'bathrooms', 'size_sqft',\n",
       "       'created_at', 'addr_street', 'addr_city', 'addr_zip', 'addr_lat',\n",
       "       'addr_lon', 'bin', 'bbl', 'floor_count', 'year_built', 'min_to_subway',\n",
       "       'has_doorman', 'has_elevator', 'has_fireplace', 'has_dishwasher',\n",
       "       'is_furnished', 'has_gym', 'allows_pets', 'has_washer_dryer',\n",
       "       'has_garage', 'has_roofdeck', 'has_concierge', 'has_pool', 'has_garden',\n",
       "       'has_childrens_playroom', 'rent', 'no_fee', 'description',\n",
       "       'neighborhood', 'borough', 'unit', 'floornumber', 'line'],\n",
       "      dtype='object')"
      ]
     },
     "execution_count": 64,
     "metadata": {},
     "output_type": "execute_result"
    }
   ],
   "source": [
    "raw_df = pd.read_csv('https://grantmlong.com/data/SE_rents2018_train.csv', index_col=0)\n",
    "raw_test_df = pd.read_csv('https://grantmlong.com/data/SE_rents2018_test1.csv', index_col=0)\n",
    "raw_test2_df = pd.read_csv('https://grantmlong.com/data/SE_rents2018_test2.csv', index_col=0)\n",
    "raw_df = raw_df.append(raw_test_df)\n",
    "raw_df.head(20)\n",
    "raw_df.columns"
   ]
  },
  {
   "cell_type": "markdown",
   "metadata": {
    "colab_type": "text",
    "id": "xxSoiIKJC1yO"
   },
   "source": [
    "## Data Explore"
   ]
  },
  {
   "cell_type": "code",
   "execution_count": 65,
   "metadata": {
    "colab": {
     "base_uri": "https://localhost:8080/",
     "height": 304
    },
    "colab_type": "code",
    "id": "ql26Ay-HC1yI",
    "outputId": "33defc34-c066-4fc0-fd2b-f3d6438b6968"
   },
   "outputs": [
    {
     "data": {
      "text/html": [
       "<div>\n",
       "<style scoped>\n",
       "    .dataframe tbody tr th:only-of-type {\n",
       "        vertical-align: middle;\n",
       "    }\n",
       "\n",
       "    .dataframe tbody tr th {\n",
       "        vertical-align: top;\n",
       "    }\n",
       "\n",
       "    .dataframe thead th {\n",
       "        text-align: right;\n",
       "    }\n",
       "</style>\n",
       "<table border=\"1\" class=\"dataframe\">\n",
       "  <thead>\n",
       "    <tr style=\"text-align: right;\">\n",
       "      <th></th>\n",
       "      <th>building_id</th>\n",
       "      <th>bedrooms</th>\n",
       "      <th>bathrooms</th>\n",
       "      <th>size_sqft</th>\n",
       "      <th>addr_zip</th>\n",
       "      <th>addr_lat</th>\n",
       "      <th>addr_lon</th>\n",
       "      <th>bin</th>\n",
       "      <th>bbl</th>\n",
       "      <th>floor_count</th>\n",
       "      <th>...</th>\n",
       "      <th>has_washer_dryer</th>\n",
       "      <th>has_garage</th>\n",
       "      <th>has_roofdeck</th>\n",
       "      <th>has_concierge</th>\n",
       "      <th>has_pool</th>\n",
       "      <th>has_garden</th>\n",
       "      <th>has_childrens_playroom</th>\n",
       "      <th>rent</th>\n",
       "      <th>no_fee</th>\n",
       "      <th>floornumber</th>\n",
       "    </tr>\n",
       "  </thead>\n",
       "  <tbody>\n",
       "    <tr>\n",
       "      <th>count</th>\n",
       "      <td>1.400000e+04</td>\n",
       "      <td>14000.000000</td>\n",
       "      <td>14000.000000</td>\n",
       "      <td>14000.000000</td>\n",
       "      <td>14000.000000</td>\n",
       "      <td>14000.000000</td>\n",
       "      <td>14000.000000</td>\n",
       "      <td>1.399900e+04</td>\n",
       "      <td>1.400000e+04</td>\n",
       "      <td>14000.000000</td>\n",
       "      <td>...</td>\n",
       "      <td>14000.000000</td>\n",
       "      <td>14000.000000</td>\n",
       "      <td>14000.000000</td>\n",
       "      <td>14000.000000</td>\n",
       "      <td>14000.000000</td>\n",
       "      <td>14000.000000</td>\n",
       "      <td>14000.000000</td>\n",
       "      <td>14000.000000</td>\n",
       "      <td>14000.000000</td>\n",
       "      <td>12498.000000</td>\n",
       "    </tr>\n",
       "    <tr>\n",
       "      <th>mean</th>\n",
       "      <td>1.542772e+06</td>\n",
       "      <td>1.661643</td>\n",
       "      <td>1.238929</td>\n",
       "      <td>848.388643</td>\n",
       "      <td>10681.801286</td>\n",
       "      <td>40.727746</td>\n",
       "      <td>-73.956776</td>\n",
       "      <td>2.368400e+06</td>\n",
       "      <td>2.285087e+09</td>\n",
       "      <td>10.233350</td>\n",
       "      <td>...</td>\n",
       "      <td>0.268500</td>\n",
       "      <td>0.170714</td>\n",
       "      <td>0.262643</td>\n",
       "      <td>0.208214</td>\n",
       "      <td>0.072357</td>\n",
       "      <td>0.133786</td>\n",
       "      <td>0.089571</td>\n",
       "      <td>3591.997214</td>\n",
       "      <td>0.495786</td>\n",
       "      <td>6.198232</td>\n",
       "    </tr>\n",
       "    <tr>\n",
       "      <th>std</th>\n",
       "      <td>4.323673e+06</td>\n",
       "      <td>1.084151</td>\n",
       "      <td>0.550979</td>\n",
       "      <td>513.039489</td>\n",
       "      <td>592.728072</td>\n",
       "      <td>0.053635</td>\n",
       "      <td>0.042994</td>\n",
       "      <td>1.242507e+06</td>\n",
       "      <td>1.200828e+09</td>\n",
       "      <td>12.003629</td>\n",
       "      <td>...</td>\n",
       "      <td>0.443195</td>\n",
       "      <td>0.376273</td>\n",
       "      <td>0.440086</td>\n",
       "      <td>0.406045</td>\n",
       "      <td>0.259088</td>\n",
       "      <td>0.340434</td>\n",
       "      <td>0.285577</td>\n",
       "      <td>2874.099247</td>\n",
       "      <td>0.500000</td>\n",
       "      <td>7.728606</td>\n",
       "    </tr>\n",
       "    <tr>\n",
       "      <th>min</th>\n",
       "      <td>7.300000e+01</td>\n",
       "      <td>0.000000</td>\n",
       "      <td>0.000000</td>\n",
       "      <td>0.000000</td>\n",
       "      <td>10001.000000</td>\n",
       "      <td>40.573898</td>\n",
       "      <td>-74.168405</td>\n",
       "      <td>1.000000e+06</td>\n",
       "      <td>0.000000e+00</td>\n",
       "      <td>0.000000</td>\n",
       "      <td>...</td>\n",
       "      <td>0.000000</td>\n",
       "      <td>0.000000</td>\n",
       "      <td>0.000000</td>\n",
       "      <td>0.000000</td>\n",
       "      <td>0.000000</td>\n",
       "      <td>0.000000</td>\n",
       "      <td>0.000000</td>\n",
       "      <td>1250.000000</td>\n",
       "      <td>0.000000</td>\n",
       "      <td>0.000000</td>\n",
       "    </tr>\n",
       "    <tr>\n",
       "      <th>25%</th>\n",
       "      <td>6.231400e+04</td>\n",
       "      <td>1.000000</td>\n",
       "      <td>1.000000</td>\n",
       "      <td>604.000000</td>\n",
       "      <td>10023.000000</td>\n",
       "      <td>40.693256</td>\n",
       "      <td>-73.986095</td>\n",
       "      <td>1.052178e+06</td>\n",
       "      <td>1.011286e+09</td>\n",
       "      <td>3.000000</td>\n",
       "      <td>...</td>\n",
       "      <td>0.000000</td>\n",
       "      <td>0.000000</td>\n",
       "      <td>0.000000</td>\n",
       "      <td>0.000000</td>\n",
       "      <td>0.000000</td>\n",
       "      <td>0.000000</td>\n",
       "      <td>0.000000</td>\n",
       "      <td>2250.000000</td>\n",
       "      <td>0.000000</td>\n",
       "      <td>2.000000</td>\n",
       "    </tr>\n",
       "    <tr>\n",
       "      <th>50%</th>\n",
       "      <td>2.545810e+05</td>\n",
       "      <td>2.000000</td>\n",
       "      <td>1.000000</td>\n",
       "      <td>800.000000</td>\n",
       "      <td>11103.000000</td>\n",
       "      <td>40.729048</td>\n",
       "      <td>-73.961554</td>\n",
       "      <td>3.018885e+06</td>\n",
       "      <td>3.006580e+09</td>\n",
       "      <td>5.000000</td>\n",
       "      <td>...</td>\n",
       "      <td>0.000000</td>\n",
       "      <td>0.000000</td>\n",
       "      <td>0.000000</td>\n",
       "      <td>0.000000</td>\n",
       "      <td>0.000000</td>\n",
       "      <td>0.000000</td>\n",
       "      <td>0.000000</td>\n",
       "      <td>2900.000000</td>\n",
       "      <td>0.000000</td>\n",
       "      <td>3.000000</td>\n",
       "    </tr>\n",
       "    <tr>\n",
       "      <th>75%</th>\n",
       "      <td>8.267980e+05</td>\n",
       "      <td>2.000000</td>\n",
       "      <td>1.000000</td>\n",
       "      <td>1000.000000</td>\n",
       "      <td>11218.000000</td>\n",
       "      <td>40.764801</td>\n",
       "      <td>-73.936080</td>\n",
       "      <td>3.325600e+06</td>\n",
       "      <td>3.050558e+09</td>\n",
       "      <td>12.000000</td>\n",
       "      <td>...</td>\n",
       "      <td>1.000000</td>\n",
       "      <td>0.000000</td>\n",
       "      <td>1.000000</td>\n",
       "      <td>0.000000</td>\n",
       "      <td>0.000000</td>\n",
       "      <td>0.000000</td>\n",
       "      <td>0.000000</td>\n",
       "      <td>3900.000000</td>\n",
       "      <td>1.000000</td>\n",
       "      <td>6.000000</td>\n",
       "    </tr>\n",
       "    <tr>\n",
       "      <th>max</th>\n",
       "      <td>1.877211e+07</td>\n",
       "      <td>8.000000</td>\n",
       "      <td>20.000000</td>\n",
       "      <td>10000.000000</td>\n",
       "      <td>11694.000000</td>\n",
       "      <td>40.909842</td>\n",
       "      <td>-73.730550</td>\n",
       "      <td>5.158986e+06</td>\n",
       "      <td>5.029930e+09</td>\n",
       "      <td>90.000000</td>\n",
       "      <td>...</td>\n",
       "      <td>1.000000</td>\n",
       "      <td>1.000000</td>\n",
       "      <td>1.000000</td>\n",
       "      <td>1.000000</td>\n",
       "      <td>1.000000</td>\n",
       "      <td>1.000000</td>\n",
       "      <td>1.000000</td>\n",
       "      <td>50000.000000</td>\n",
       "      <td>1.000000</td>\n",
       "      <td>78.000000</td>\n",
       "    </tr>\n",
       "  </tbody>\n",
       "</table>\n",
       "<p>8 rows × 29 columns</p>\n",
       "</div>"
      ],
      "text/plain": [
       "        building_id      bedrooms     bathrooms     size_sqft      addr_zip  \\\n",
       "count  1.400000e+04  14000.000000  14000.000000  14000.000000  14000.000000   \n",
       "mean   1.542772e+06      1.661643      1.238929    848.388643  10681.801286   \n",
       "std    4.323673e+06      1.084151      0.550979    513.039489    592.728072   \n",
       "min    7.300000e+01      0.000000      0.000000      0.000000  10001.000000   \n",
       "25%    6.231400e+04      1.000000      1.000000    604.000000  10023.000000   \n",
       "50%    2.545810e+05      2.000000      1.000000    800.000000  11103.000000   \n",
       "75%    8.267980e+05      2.000000      1.000000   1000.000000  11218.000000   \n",
       "max    1.877211e+07      8.000000     20.000000  10000.000000  11694.000000   \n",
       "\n",
       "           addr_lat      addr_lon           bin           bbl   floor_count  \\\n",
       "count  14000.000000  14000.000000  1.399900e+04  1.400000e+04  14000.000000   \n",
       "mean      40.727746    -73.956776  2.368400e+06  2.285087e+09     10.233350   \n",
       "std        0.053635      0.042994  1.242507e+06  1.200828e+09     12.003629   \n",
       "min       40.573898    -74.168405  1.000000e+06  0.000000e+00      0.000000   \n",
       "25%       40.693256    -73.986095  1.052178e+06  1.011286e+09      3.000000   \n",
       "50%       40.729048    -73.961554  3.018885e+06  3.006580e+09      5.000000   \n",
       "75%       40.764801    -73.936080  3.325600e+06  3.050558e+09     12.000000   \n",
       "max       40.909842    -73.730550  5.158986e+06  5.029930e+09     90.000000   \n",
       "\n",
       "       ...  has_washer_dryer    has_garage  has_roofdeck  has_concierge  \\\n",
       "count  ...      14000.000000  14000.000000  14000.000000   14000.000000   \n",
       "mean   ...          0.268500      0.170714      0.262643       0.208214   \n",
       "std    ...          0.443195      0.376273      0.440086       0.406045   \n",
       "min    ...          0.000000      0.000000      0.000000       0.000000   \n",
       "25%    ...          0.000000      0.000000      0.000000       0.000000   \n",
       "50%    ...          0.000000      0.000000      0.000000       0.000000   \n",
       "75%    ...          1.000000      0.000000      1.000000       0.000000   \n",
       "max    ...          1.000000      1.000000      1.000000       1.000000   \n",
       "\n",
       "           has_pool    has_garden  has_childrens_playroom          rent  \\\n",
       "count  14000.000000  14000.000000            14000.000000  14000.000000   \n",
       "mean       0.072357      0.133786                0.089571   3591.997214   \n",
       "std        0.259088      0.340434                0.285577   2874.099247   \n",
       "min        0.000000      0.000000                0.000000   1250.000000   \n",
       "25%        0.000000      0.000000                0.000000   2250.000000   \n",
       "50%        0.000000      0.000000                0.000000   2900.000000   \n",
       "75%        0.000000      0.000000                0.000000   3900.000000   \n",
       "max        1.000000      1.000000                1.000000  50000.000000   \n",
       "\n",
       "             no_fee   floornumber  \n",
       "count  14000.000000  12498.000000  \n",
       "mean       0.495786      6.198232  \n",
       "std        0.500000      7.728606  \n",
       "min        0.000000      0.000000  \n",
       "25%        0.000000      2.000000  \n",
       "50%        0.000000      3.000000  \n",
       "75%        1.000000      6.000000  \n",
       "max        1.000000     78.000000  \n",
       "\n",
       "[8 rows x 29 columns]"
      ]
     },
     "execution_count": 65,
     "metadata": {},
     "output_type": "execute_result"
    }
   ],
   "source": [
    "raw_df.describe()"
   ]
  },
  {
   "cell_type": "code",
   "execution_count": 66,
   "metadata": {
    "colab": {
     "base_uri": "https://localhost:8080/",
     "height": 34
    },
    "colab_type": "code",
    "id": "csEm7f26C1yS",
    "outputId": "d3a30c17-b4c6-45a3-c642-39b7f6069656"
   },
   "outputs": [
    {
     "data": {
      "text/plain": [
       "(14000, 38)"
      ]
     },
     "execution_count": 66,
     "metadata": {},
     "output_type": "execute_result"
    }
   ],
   "source": [
    "raw_df.shape"
   ]
  },
  {
   "cell_type": "code",
   "execution_count": 67,
   "metadata": {
    "colab": {
     "base_uri": "https://localhost:8080/",
     "height": 739
    },
    "colab_type": "code",
    "id": "I9hONCStC1yP",
    "outputId": "7d3827da-d02a-4614-9981-6070be31b237"
   },
   "outputs": [
    {
     "name": "stdout",
     "output_type": "stream",
     "text": [
      "<class 'pandas.core.frame.DataFrame'>\n",
      "Int64Index: 14000 entries, 7236931 to 7463404\n",
      "Data columns (total 38 columns):\n",
      "addr_unit                 13890 non-null object\n",
      "building_id               14000 non-null int64\n",
      "bedrooms                  14000 non-null int64\n",
      "bathrooms                 14000 non-null float64\n",
      "size_sqft                 14000 non-null float64\n",
      "created_at                14000 non-null object\n",
      "addr_street               14000 non-null object\n",
      "addr_city                 14000 non-null object\n",
      "addr_zip                  14000 non-null int64\n",
      "addr_lat                  14000 non-null float64\n",
      "addr_lon                  14000 non-null float64\n",
      "bin                       13999 non-null float64\n",
      "bbl                       14000 non-null int64\n",
      "floor_count               14000 non-null float64\n",
      "year_built                13530 non-null float64\n",
      "min_to_subway             13857 non-null float64\n",
      "has_doorman               14000 non-null int64\n",
      "has_elevator              14000 non-null int64\n",
      "has_fireplace             14000 non-null int64\n",
      "has_dishwasher            14000 non-null int64\n",
      "is_furnished              14000 non-null int64\n",
      "has_gym                   14000 non-null int64\n",
      "allows_pets               14000 non-null int64\n",
      "has_washer_dryer          14000 non-null int64\n",
      "has_garage                14000 non-null int64\n",
      "has_roofdeck              14000 non-null int64\n",
      "has_concierge             14000 non-null int64\n",
      "has_pool                  14000 non-null int64\n",
      "has_garden                14000 non-null int64\n",
      "has_childrens_playroom    14000 non-null int64\n",
      "rent                      14000 non-null int64\n",
      "no_fee                    14000 non-null int64\n",
      "description               13984 non-null object\n",
      "neighborhood              13997 non-null object\n",
      "borough                   14000 non-null object\n",
      "unit                      13886 non-null object\n",
      "floornumber               12498 non-null float64\n",
      "line                      9865 non-null object\n",
      "dtypes: float64(9), int64(20), object(9)\n",
      "memory usage: 4.2+ MB\n"
     ]
    }
   ],
   "source": [
    "raw_df.info()"
   ]
  },
  {
   "cell_type": "code",
   "execution_count": 68,
   "metadata": {
    "colab": {
     "base_uri": "https://localhost:8080/",
     "height": 286
    },
    "colab_type": "code",
    "id": "bQBnI2n0FuHJ",
    "outputId": "9a62644e-70ac-4531-c6f8-96813f039d8c"
   },
   "outputs": [
    {
     "data": {
      "text/plain": [
<<<<<<< HEAD
       "<matplotlib.axes._subplots.AxesSubplot at 0x1dceb3179b0>"
=======
       "<matplotlib.axes._subplots.AxesSubplot at 0x25ba76b33c8>"
>>>>>>> c8cc123baa1c442bb8817105216994b466be80f9
      ]
     },
     "execution_count": 68,
     "metadata": {},
     "output_type": "execute_result"
    },
    {
     "data": {
      "image/png": "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\n",
      "text/plain": [
       "<Figure size 432x288 with 1 Axes>"
      ]
     },
     "metadata": {
      "needs_background": "light"
     },
     "output_type": "display_data"
    }
   ],
   "source": [
    "raw_df['rent'].hist(bins=100)"
   ]
  },
  {
   "cell_type": "markdown",
   "metadata": {
    "colab_type": "text",
    "id": "cN1cvd5g0lcL"
   },
   "source": [
    "### Seperate all features into continuous, categorical and binary features.\n",
    "\n",
    "For those none relatived features as below, we have excluded them from the features grouping: \n",
    "- addr_unit: no relationship\n",
    "- building_id: no relationship\n",
    "- addr_lat: hard to analyze latitude\n",
    "- addr_lon: hard to analyze longtitude\n",
    "- bin: need to wait for external dataset\n",
    "- bbl: need to wait for external dataset\n",
    "- description: hard to build a NLP model\n",
    "- unit: no relationship\n"
   ]
  },
  {
   "cell_type": "code",
   "execution_count": 69,
   "metadata": {
    "colab": {},
    "colab_type": "code",
    "id": "ce4l5HZNModF"
   },
   "outputs": [],
   "source": [
    "continuous_features =['bathrooms','bedrooms','size_sqft','floor_count','year_built','min_to_subway','floornumber' ]\n",
    "caterigal_features =['addr_street','addr_city','addr_zip','neighborhood','borough','line' ]\n",
    "binary_features = ['has_doorman', 'has_elevator', 'has_fireplace', 'has_dishwasher','is_furnished', 'has_gym', 'allows_pets', \n",
    "                   'has_washer_dryer','has_garage', 'has_roofdeck', 'has_concierge', 'has_pool', 'has_garden',\n",
    "                   'has_childrens_playroom', 'no_fee', ]"
   ]
  },
  {
   "cell_type": "markdown",
   "metadata": {
    "colab": {},
    "colab_type": "code",
    "id": "bp674gXgC1yy"
   },
   "source": [
    "## Import external dataset from Internal Revenue Service\n",
    " - We will import the 2017 individual income Tax statistic dataset from IRS website(https://www.irs.gov/pub/irs-soi/17zpallagi.csv).\n",
    " - We will expend a new feature: **average_income** based on zipcode to our raw dataset "
   ]
  },
  {
   "cell_type": "code",
   "execution_count": 70,
   "metadata": {
    "colab": {},
    "colab_type": "code",
    "id": "ySvUva5SC1yz"
   },
   "outputs": [
    {
     "data": {
      "text/plain": [
       "Index(['STATE', 'zipcode', 'agi_stub', 'N1', 'mars1', 'MARS2', 'MARS4', 'ELF',\n",
       "       'CPREP', 'PREP',\n",
       "       ...\n",
       "       'N85300', 'A85300', 'N11901', 'A11901', 'N11900', 'A11900', 'N11902',\n",
       "       'A11902', 'N12000', 'A12000'],\n",
       "      dtype='object', length=152)"
      ]
     },
     "execution_count": 70,
     "metadata": {},
     "output_type": "execute_result"
    }
   ],
   "source": [
    "raw_income_data=pd.read_csv('https://www.irs.gov/pub/irs-soi/17zpallagi.csv', index_col=0)\n",
    "raw_income_data.columns"
   ]
  },
  {
   "cell_type": "code",
   "execution_count": 71,
   "metadata": {
    "colab": {},
    "colab_type": "code",
    "id": "4OwGK7NMC1y4"
   },
   "outputs": [
    {
     "data": {
      "text/html": [
       "<div>\n",
       "<style scoped>\n",
       "    .dataframe tbody tr th:only-of-type {\n",
       "        vertical-align: middle;\n",
       "    }\n",
       "\n",
       "    .dataframe tbody tr th {\n",
       "        vertical-align: top;\n",
       "    }\n",
       "\n",
       "    .dataframe thead th {\n",
       "        text-align: right;\n",
       "    }\n",
       "</style>\n",
       "<table border=\"1\" class=\"dataframe\">\n",
       "  <thead>\n",
       "    <tr style=\"text-align: right;\">\n",
       "      <th></th>\n",
       "      <th>zipcode</th>\n",
       "      <th>agi_stub</th>\n",
       "      <th>N1</th>\n",
       "      <th>mars1</th>\n",
       "      <th>MARS2</th>\n",
       "      <th>MARS4</th>\n",
       "      <th>ELF</th>\n",
       "      <th>CPREP</th>\n",
       "      <th>PREP</th>\n",
       "      <th>DIR_DEP</th>\n",
       "      <th>...</th>\n",
       "      <th>N85300</th>\n",
       "      <th>A85300</th>\n",
       "      <th>N11901</th>\n",
       "      <th>A11901</th>\n",
       "      <th>N11900</th>\n",
       "      <th>A11900</th>\n",
       "      <th>N11902</th>\n",
       "      <th>A11902</th>\n",
       "      <th>N12000</th>\n",
       "      <th>A12000</th>\n",
       "    </tr>\n",
       "  </thead>\n",
       "  <tbody>\n",
       "    <tr>\n",
       "      <th>count</th>\n",
       "      <td>166537.000000</td>\n",
       "      <td>166537.000000</td>\n",
       "      <td>1.665370e+05</td>\n",
       "      <td>1.665370e+05</td>\n",
       "      <td>1.665370e+05</td>\n",
       "      <td>166537.000000</td>\n",
       "      <td>1.665370e+05</td>\n",
       "      <td>166537.000000</td>\n",
       "      <td>1.665370e+05</td>\n",
       "      <td>1.665370e+05</td>\n",
       "      <td>...</td>\n",
       "      <td>166537.000000</td>\n",
       "      <td>1.665370e+05</td>\n",
       "      <td>166537.000000</td>\n",
       "      <td>1.665370e+05</td>\n",
       "      <td>1.665370e+05</td>\n",
       "      <td>1.665370e+05</td>\n",
       "      <td>1.665370e+05</td>\n",
       "      <td>1.665370e+05</td>\n",
       "      <td>166537.000000</td>\n",
       "      <td>1.665370e+05</td>\n",
       "    </tr>\n",
       "    <tr>\n",
       "      <th>mean</th>\n",
       "      <td>48870.221668</td>\n",
       "      <td>3.499883</td>\n",
       "      <td>1.797506e+03</td>\n",
       "      <td>8.568076e+02</td>\n",
       "      <td>6.466075e+02</td>\n",
       "      <td>257.395354</td>\n",
       "      <td>1.595375e+03</td>\n",
       "      <td>109.165711</td>\n",
       "      <td>9.565737e+02</td>\n",
       "      <td>1.115313e+03</td>\n",
       "      <td>...</td>\n",
       "      <td>52.247849</td>\n",
       "      <td>2.652260e+02</td>\n",
       "      <td>366.565508</td>\n",
       "      <td>2.075837e+03</td>\n",
       "      <td>1.385102e+03</td>\n",
       "      <td>4.864975e+03</td>\n",
       "      <td>1.349381e+03</td>\n",
       "      <td>3.932834e+03</td>\n",
       "      <td>43.103875</td>\n",
       "      <td>8.790301e+02</td>\n",
       "    </tr>\n",
       "    <tr>\n",
       "      <th>std</th>\n",
       "      <td>27140.457939</td>\n",
       "      <td>1.707903</td>\n",
       "      <td>3.682065e+04</td>\n",
       "      <td>2.157115e+04</td>\n",
       "      <td>1.180901e+04</td>\n",
       "      <td>6579.521856</td>\n",
       "      <td>3.234179e+04</td>\n",
       "      <td>2546.536828</td>\n",
       "      <td>1.996698e+04</td>\n",
       "      <td>2.347348e+04</td>\n",
       "      <td>...</td>\n",
       "      <td>2663.659358</td>\n",
       "      <td>1.535593e+04</td>\n",
       "      <td>6891.242958</td>\n",
       "      <td>6.608186e+04</td>\n",
       "      <td>2.947749e+04</td>\n",
       "      <td>1.012458e+05</td>\n",
       "      <td>2.909491e+04</td>\n",
       "      <td>7.693938e+04</td>\n",
       "      <td>947.324343</td>\n",
       "      <td>4.399491e+04</td>\n",
       "    </tr>\n",
       "    <tr>\n",
       "      <th>min</th>\n",
       "      <td>0.000000</td>\n",
       "      <td>1.000000</td>\n",
       "      <td>0.000000e+00</td>\n",
       "      <td>0.000000e+00</td>\n",
       "      <td>0.000000e+00</td>\n",
       "      <td>0.000000</td>\n",
       "      <td>0.000000e+00</td>\n",
       "      <td>0.000000</td>\n",
       "      <td>0.000000e+00</td>\n",
       "      <td>0.000000e+00</td>\n",
       "      <td>...</td>\n",
       "      <td>0.000000</td>\n",
       "      <td>0.000000e+00</td>\n",
       "      <td>0.000000</td>\n",
       "      <td>0.000000e+00</td>\n",
       "      <td>0.000000e+00</td>\n",
       "      <td>0.000000e+00</td>\n",
       "      <td>0.000000e+00</td>\n",
       "      <td>0.000000e+00</td>\n",
       "      <td>0.000000</td>\n",
       "      <td>0.000000e+00</td>\n",
       "    </tr>\n",
       "    <tr>\n",
       "      <th>25%</th>\n",
       "      <td>27030.000000</td>\n",
       "      <td>2.000000</td>\n",
       "      <td>7.000000e+01</td>\n",
       "      <td>0.000000e+00</td>\n",
       "      <td>4.000000e+01</td>\n",
       "      <td>0.000000</td>\n",
       "      <td>6.000000e+01</td>\n",
       "      <td>0.000000</td>\n",
       "      <td>4.000000e+01</td>\n",
       "      <td>4.000000e+01</td>\n",
       "      <td>...</td>\n",
       "      <td>0.000000</td>\n",
       "      <td>0.000000e+00</td>\n",
       "      <td>20.000000</td>\n",
       "      <td>2.100000e+01</td>\n",
       "      <td>5.000000e+01</td>\n",
       "      <td>1.580000e+02</td>\n",
       "      <td>4.000000e+01</td>\n",
       "      <td>1.410000e+02</td>\n",
       "      <td>0.000000</td>\n",
       "      <td>0.000000e+00</td>\n",
       "    </tr>\n",
       "    <tr>\n",
       "      <th>50%</th>\n",
       "      <td>48876.000000</td>\n",
       "      <td>3.000000</td>\n",
       "      <td>2.500000e+02</td>\n",
       "      <td>7.000000e+01</td>\n",
       "      <td>1.100000e+02</td>\n",
       "      <td>20.000000</td>\n",
       "      <td>2.200000e+02</td>\n",
       "      <td>0.000000</td>\n",
       "      <td>1.500000e+02</td>\n",
       "      <td>1.400000e+02</td>\n",
       "      <td>...</td>\n",
       "      <td>0.000000</td>\n",
       "      <td>0.000000e+00</td>\n",
       "      <td>60.000000</td>\n",
       "      <td>1.550000e+02</td>\n",
       "      <td>1.800000e+02</td>\n",
       "      <td>6.220000e+02</td>\n",
       "      <td>1.700000e+02</td>\n",
       "      <td>5.480000e+02</td>\n",
       "      <td>0.000000</td>\n",
       "      <td>0.000000e+00</td>\n",
       "    </tr>\n",
       "    <tr>\n",
       "      <th>75%</th>\n",
       "      <td>70601.000000</td>\n",
       "      <td>5.000000</td>\n",
       "      <td>1.020000e+03</td>\n",
       "      <td>3.400000e+02</td>\n",
       "      <td>3.800000e+02</td>\n",
       "      <td>90.000000</td>\n",
       "      <td>9.100000e+02</td>\n",
       "      <td>60.000000</td>\n",
       "      <td>5.600000e+02</td>\n",
       "      <td>5.900000e+02</td>\n",
       "      <td>...</td>\n",
       "      <td>0.000000</td>\n",
       "      <td>0.000000e+00</td>\n",
       "      <td>220.000000</td>\n",
       "      <td>6.870000e+02</td>\n",
       "      <td>7.400000e+02</td>\n",
       "      <td>2.484000e+03</td>\n",
       "      <td>7.100000e+02</td>\n",
       "      <td>2.207000e+03</td>\n",
       "      <td>30.000000</td>\n",
       "      <td>6.400000e+01</td>\n",
       "    </tr>\n",
       "    <tr>\n",
       "      <th>max</th>\n",
       "      <td>99999.000000</td>\n",
       "      <td>6.000000</td>\n",
       "      <td>5.824360e+06</td>\n",
       "      <td>4.130490e+06</td>\n",
       "      <td>1.757700e+06</td>\n",
       "      <td>982390.000000</td>\n",
       "      <td>4.980210e+06</td>\n",
       "      <td>475240.000000</td>\n",
       "      <td>3.387570e+06</td>\n",
       "      <td>3.233490e+06</td>\n",
       "      <td>...</td>\n",
       "      <td>763140.000000</td>\n",
       "      <td>4.031847e+06</td>\n",
       "      <td>890950.000000</td>\n",
       "      <td>1.750126e+07</td>\n",
       "      <td>4.598480e+06</td>\n",
       "      <td>1.667374e+07</td>\n",
       "      <td>4.561540e+06</td>\n",
       "      <td>9.443931e+06</td>\n",
       "      <td>186110.000000</td>\n",
       "      <td>1.056186e+07</td>\n",
       "    </tr>\n",
       "  </tbody>\n",
       "</table>\n",
       "<p>8 rows × 151 columns</p>\n",
       "</div>"
      ],
      "text/plain": [
       "             zipcode       agi_stub            N1         mars1         MARS2  \\\n",
       "count  166537.000000  166537.000000  1.665370e+05  1.665370e+05  1.665370e+05   \n",
       "mean    48870.221668       3.499883  1.797506e+03  8.568076e+02  6.466075e+02   \n",
       "std     27140.457939       1.707903  3.682065e+04  2.157115e+04  1.180901e+04   \n",
       "min         0.000000       1.000000  0.000000e+00  0.000000e+00  0.000000e+00   \n",
       "25%     27030.000000       2.000000  7.000000e+01  0.000000e+00  4.000000e+01   \n",
       "50%     48876.000000       3.000000  2.500000e+02  7.000000e+01  1.100000e+02   \n",
       "75%     70601.000000       5.000000  1.020000e+03  3.400000e+02  3.800000e+02   \n",
       "max     99999.000000       6.000000  5.824360e+06  4.130490e+06  1.757700e+06   \n",
       "\n",
       "               MARS4           ELF          CPREP          PREP       DIR_DEP  \\\n",
       "count  166537.000000  1.665370e+05  166537.000000  1.665370e+05  1.665370e+05   \n",
       "mean      257.395354  1.595375e+03     109.165711  9.565737e+02  1.115313e+03   \n",
       "std      6579.521856  3.234179e+04    2546.536828  1.996698e+04  2.347348e+04   \n",
       "min         0.000000  0.000000e+00       0.000000  0.000000e+00  0.000000e+00   \n",
       "25%         0.000000  6.000000e+01       0.000000  4.000000e+01  4.000000e+01   \n",
       "50%        20.000000  2.200000e+02       0.000000  1.500000e+02  1.400000e+02   \n",
       "75%        90.000000  9.100000e+02      60.000000  5.600000e+02  5.900000e+02   \n",
       "max    982390.000000  4.980210e+06  475240.000000  3.387570e+06  3.233490e+06   \n",
       "\n",
       "       ...         N85300        A85300         N11901        A11901  \\\n",
       "count  ...  166537.000000  1.665370e+05  166537.000000  1.665370e+05   \n",
       "mean   ...      52.247849  2.652260e+02     366.565508  2.075837e+03   \n",
       "std    ...    2663.659358  1.535593e+04    6891.242958  6.608186e+04   \n",
       "min    ...       0.000000  0.000000e+00       0.000000  0.000000e+00   \n",
       "25%    ...       0.000000  0.000000e+00      20.000000  2.100000e+01   \n",
       "50%    ...       0.000000  0.000000e+00      60.000000  1.550000e+02   \n",
       "75%    ...       0.000000  0.000000e+00     220.000000  6.870000e+02   \n",
       "max    ...  763140.000000  4.031847e+06  890950.000000  1.750126e+07   \n",
       "\n",
       "             N11900        A11900        N11902        A11902         N12000  \\\n",
       "count  1.665370e+05  1.665370e+05  1.665370e+05  1.665370e+05  166537.000000   \n",
       "mean   1.385102e+03  4.864975e+03  1.349381e+03  3.932834e+03      43.103875   \n",
       "std    2.947749e+04  1.012458e+05  2.909491e+04  7.693938e+04     947.324343   \n",
       "min    0.000000e+00  0.000000e+00  0.000000e+00  0.000000e+00       0.000000   \n",
       "25%    5.000000e+01  1.580000e+02  4.000000e+01  1.410000e+02       0.000000   \n",
       "50%    1.800000e+02  6.220000e+02  1.700000e+02  5.480000e+02       0.000000   \n",
       "75%    7.400000e+02  2.484000e+03  7.100000e+02  2.207000e+03      30.000000   \n",
       "max    4.598480e+06  1.667374e+07  4.561540e+06  9.443931e+06  186110.000000   \n",
       "\n",
       "             A12000  \n",
       "count  1.665370e+05  \n",
       "mean   8.790301e+02  \n",
       "std    4.399491e+04  \n",
       "min    0.000000e+00  \n",
       "25%    0.000000e+00  \n",
       "50%    0.000000e+00  \n",
       "75%    6.400000e+01  \n",
       "max    1.056186e+07  \n",
       "\n",
       "[8 rows x 151 columns]"
      ]
     },
     "execution_count": 71,
     "metadata": {},
     "output_type": "execute_result"
    }
   ],
   "source": [
    "raw_income_data.describe()"
   ]
  },
  {
   "cell_type": "markdown",
   "metadata": {},
   "source": [
    "### Income Dataset Description \n",
    "This dataset comes from the IRS website's 2017 ZIP Code Data (SOI) about Individual Income Tax Statistics.\n",
    "According to the documentation's overview,the Statistics of Income (SOI) Division’s ZIP code data is tabulated using individual income tax returns (Forms 1040) filed with the Internal Revenue Service (IRS) during the 12-month period, January 1, 2018 to December 31, 2018.\n",
    "The original dataset contains many income and Tax Items, we only keep the ones that are relevant: \n",
    "- STATEFIPS:The State Federal Information Processing System (FIPS) code\n",
    "- STATE: The State associated with the ZIP code\n",
    "- ZIPCODE: 5-digit Zip code\n",
    "- agi_stub: Size of adjusted gross income\n",
    "- N1: Total number of returns\n",
    "- A02650: Number of returns with total income\n",
    "\n",
    "Our goal is to find the average income of each zipcode."
   ]
  },
  {
   "cell_type": "markdown",
   "metadata": {},
   "source": [
    "### Clean the raw income data and rename feature"
   ]
  },
  {
   "cell_type": "code",
   "execution_count": 72,
   "metadata": {},
   "outputs": [],
   "source": [
    "raw_income_data = raw_income_data.loc[raw_income_data['STATE']=='NY']\n",
    "raw_income_data.rename(columns = {'N1':'total_returns', 'A02650':'total_income'}, inplace = True) \n",
    "raw_income_data = raw_income_data[['STATE','zipcode','agi_stub','total_returns', 'total_income']]\n",
    "raw_income_data = raw_income_data.loc[raw_income_data['zipcode']<99999]\n",
    "raw_income_data = raw_income_data.loc[raw_income_data['zipcode']>0]\n"
   ]
  },
  {
   "cell_type": "markdown",
   "metadata": {},
   "source": [
    "### Function to calculate the average income by zip code\n",
    "Each zip code has 6 different sizes of adjusted gross income which means we have 6 different number of total returns and total income for one zip code.\n",
    "By using the np.where and sum function, we can obtain the sum of income and sum of returns for each zip code. The income of the original dataset was in thousands of dollar so we need to multiply the sum of income by 1000 and then find the average. Since some zip code was not in the original set, we ingore those average that is NaN and only write the meaningful averages to csv file for future use."
   ]
  },
  {
   "cell_type": "markdown",
   "metadata": {},
   "source": [
    "- Calculate average income \n",
    "- Export to ny_income_2017.csv for storage\n",
    "- For next time, no need to import the raw_income_dataset again"
   ]
  },
  {
   "cell_type": "code",
   "execution_count": 73,
   "metadata": {},
   "outputs": [
    {
     "data": {
      "text/html": [
       "<div>\n",
       "<style scoped>\n",
       "    .dataframe tbody tr th:only-of-type {\n",
       "        vertical-align: middle;\n",
       "    }\n",
       "\n",
       "    .dataframe tbody tr th {\n",
       "        vertical-align: top;\n",
       "    }\n",
       "\n",
       "    .dataframe thead th {\n",
       "        text-align: right;\n",
       "    }\n",
       "</style>\n",
       "<table border=\"1\" class=\"dataframe\">\n",
       "  <thead>\n",
       "    <tr style=\"text-align: right;\">\n",
       "      <th></th>\n",
       "      <th>addr_zip</th>\n",
       "      <th>zip_average_income</th>\n",
       "    </tr>\n",
       "  </thead>\n",
       "  <tbody>\n",
       "    <tr>\n",
       "      <th>0</th>\n",
       "      <td>10001.0</td>\n",
       "      <td>183859.908735</td>\n",
       "    </tr>\n",
       "    <tr>\n",
       "      <th>1</th>\n",
       "      <td>10002.0</td>\n",
       "      <td>59669.401750</td>\n",
       "    </tr>\n",
       "    <tr>\n",
       "      <th>2</th>\n",
       "      <td>10003.0</td>\n",
       "      <td>306277.962003</td>\n",
       "    </tr>\n",
       "    <tr>\n",
       "      <th>3</th>\n",
       "      <td>10004.0</td>\n",
       "      <td>385265.306122</td>\n",
       "    </tr>\n",
       "    <tr>\n",
       "      <th>4</th>\n",
       "      <td>10005.0</td>\n",
       "      <td>391201.520270</td>\n",
       "    </tr>\n",
       "  </tbody>\n",
       "</table>\n",
       "</div>"
      ],
      "text/plain": [
       "   addr_zip  zip_average_income\n",
       "0   10001.0       183859.908735\n",
       "1   10002.0        59669.401750\n",
       "2   10003.0       306277.962003\n",
       "3   10004.0       385265.306122\n",
       "4   10005.0       391201.520270"
      ]
     },
     "execution_count": 73,
     "metadata": {},
     "output_type": "execute_result"
    }
   ],
   "source": [
    "average_income = pd.DataFrame({'addr_zip':[],'zip_average_income':[]})\n",
    "\n",
    "def calculate_avg_income():\n",
    "    global average_income\n",
    "    for zipcode in range(10001, 14906):\n",
    "        current_sum=np.where(raw_income_data['zipcode']==zipcode, raw_income_data['total_income'],0).sum()\n",
    "        current_returns=np.where(raw_income_data['zipcode']==zipcode, raw_income_data['total_returns'],0).sum() \n",
    "        if(current_returns <=0 or current_sum<=0):\n",
    "            continue\n",
    "        avg_income=(current_sum*1000)/current_returns\n",
    "        new_row={'addr_zip':zipcode,'zip_average_income':avg_income}\n",
    "        average_income=average_income.append(new_row,ignore_index=True)           \n",
    "calculate_avg_income()\n",
    "average_income.head(5)"
   ]
  },
  {
   "cell_type": "markdown",
   "metadata": {},
   "source": [
    " - We realize that the income dataset is missing all income data between zipcode 11239 - 11354, we will take an averge of zipcode income for 11239 and 11354 to replace any zipcode income in between \n",
    " - In our training and testing dataset, only the zipcode income 11249 is missing"
   ]
  },
  {
   "cell_type": "code",
   "execution_count": 74,
   "metadata": {},
   "outputs": [
    {
     "name": "stdout",
     "output_type": "stream",
     "text": [
      "[11249]\n",
      "[11249]\n"
     ]
    }
   ],
   "source": [
    "print(list(set(raw_df['addr_zip']) - set(average_income['addr_zip'])))\n",
    "print(list(set(raw_test_df['addr_zip']) - set(average_income['addr_zip'])))"
   ]
  },
  {
   "cell_type": "markdown",
   "metadata": {},
   "source": [
    "**Insert a new row for zipcode income 11249 into the average_income dataframe**"
   ]
  },
  {
   "cell_type": "code",
   "execution_count": 75,
   "metadata": {},
   "outputs": [],
   "source": [
    "avg_income = (average_income.loc[(average_income['addr_zip']==11239)].iloc[0]['zip_average_income'] +\n",
    "             average_income.loc[(average_income['addr_zip']==11354)].iloc[0]['zip_average_income'])/2\n",
    "new_row = {'addr_zip':11249,'zip_average_income':avg_income}\n",
    "average_income=average_income.append(new_row,ignore_index=True)  "
   ]
  },
  {
   "cell_type": "markdown",
   "metadata": {},
   "source": [
    "### Merge the raw train  dataset with the income dataset by addr_zip"
   ]
  },
  {
   "cell_type": "code",
   "execution_count": 76,
   "metadata": {},
   "outputs": [],
   "source": [
    "raw_test2_df=raw_test_df.reset_index().merge(average_income, how=\"left\",on='addr_zip').set_index('rental_id')\n",
    "raw_df=raw_df.reset_index().merge(average_income, how=\"left\",on='addr_zip').set_index('rental_id')"
   ]
  },
  {
   "cell_type": "markdown",
   "metadata": {},
   "source": [
    "### Find zip_average_income and rent cooleration"
   ]
  },
  {
   "cell_type": "code",
   "execution_count": 77,
   "metadata": {},
   "outputs": [],
   "source": [
    "continuous_features.append('zip_average_income')"
   ]
  },
  {
   "cell_type": "code",
   "execution_count": 78,
   "metadata": {},
   "outputs": [
    {
     "data": {
      "text/plain": [
       "zip_average_income    0.393228\n",
       "Name: rent, dtype: float64"
      ]
     },
     "execution_count": 78,
     "metadata": {},
     "output_type": "execute_result"
    }
   ],
   "source": [
    "continuous_df = raw_df[['zip_average_income','rent']]\n",
    "continuous_df.corr()['rent'][:-1]\n"
   ]
  },
  {
   "cell_type": "markdown",
   "metadata": {},
   "source": [
    "**The correlation between zip_average_income and rent is 0.393228, it is good enough to consider as a important feature that might impact the rent**"
   ]
  },
  {
   "cell_type": "markdown",
   "metadata": {},
   "source": [
    "# Data Cleaning"
   ]
  },
  {
   "cell_type": "markdown",
   "metadata": {},
   "source": [
    "\n",
    "### Handling missing data\n",
    "In order to handle missing data in this dataset, we frist find and count all the null values."
   ]
  },
  {
   "cell_type": "code",
   "execution_count": 79,
   "metadata": {},
   "outputs": [
    {
     "data": {
      "text/plain": [
       "addr_unit                  110\n",
       "building_id                  0\n",
       "bedrooms                     0\n",
       "bathrooms                    0\n",
       "size_sqft                    0\n",
       "created_at                   0\n",
       "addr_street                  0\n",
       "addr_city                    0\n",
       "addr_zip                     0\n",
       "addr_lat                     0\n",
       "addr_lon                     0\n",
       "bin                          1\n",
       "bbl                          0\n",
       "floor_count                  0\n",
       "year_built                 470\n",
       "min_to_subway              143\n",
       "has_doorman                  0\n",
       "has_elevator                 0\n",
       "has_fireplace                0\n",
       "has_dishwasher               0\n",
       "is_furnished                 0\n",
       "has_gym                      0\n",
       "allows_pets                  0\n",
       "has_washer_dryer             0\n",
       "has_garage                   0\n",
       "has_roofdeck                 0\n",
       "has_concierge                0\n",
       "has_pool                     0\n",
       "has_garden                   0\n",
       "has_childrens_playroom       0\n",
       "rent                         0\n",
       "no_fee                       0\n",
       "description                 16\n",
       "neighborhood                 3\n",
       "borough                      0\n",
       "unit                       114\n",
       "floornumber               1502\n",
       "line                      4135\n",
       "zip_average_income           0\n",
       "dtype: int64"
      ]
     },
     "execution_count": 79,
     "metadata": {},
     "output_type": "execute_result"
    }
   ],
   "source": [
    "raw_df.isna().sum()"
   ]
  },
  {
   "cell_type": "markdown",
   "metadata": {},
   "source": [
    "As we can see from the result,there are missing data appearing on: \n",
    "- addr_unit\n",
    "- bin \n",
    "- year_built \n",
    "- min_to_subway \n",
    "- description \n",
    "- neighborhood \n",
    "- unit \n",
    "- floornumber \n",
    "- line \n",
    "\n",
    "Continuous features floornumber, year_built and min_to_subway has impact on the rent, so we will fill with mode or mean. For catagorigious feature neighborhood, we will not use it in building model, because it has too many possible values."
   ]
  },
  {
   "cell_type": "code",
<<<<<<< HEAD
   "execution_count": 80,
=======
   "execution_count": 24,
>>>>>>> c8cc123baa1c442bb8817105216994b466be80f9
   "metadata": {},
   "outputs": [
    {
     "name": "stdout",
     "output_type": "stream",
     "text": [
      "original shape of dataset: (14000, 39)\n",
<<<<<<< HEAD
      "shape of dataset after handling missing data: (13394, 39)\n"
     ]
    },
    {
     "name": "stderr",
     "output_type": "stream",
     "text": [
      "C:\\Users\\Hongjie\\Anaconda3\\lib\\site-packages\\pandas\\core\\generic.py:6130: SettingWithCopyWarning: \n",
      "A value is trying to be set on a copy of a slice from a DataFrame\n",
      "\n",
      "See the caveats in the documentation: http://pandas.pydata.org/pandas-docs/stable/indexing.html#indexing-view-versus-copy\n",
      "  self._update_inplace(new_data)\n"
=======
      "shape of dataset after handling missing data, should stay the same: (14000, 39)\n"
>>>>>>> c8cc123baa1c442bb8817105216994b466be80f9
     ]
    }
   ],
   "source": [
    "md_df = raw_df\n",
    "\n",
    "md_df['floornumber'].fillna(md_df['floornumber'].mode()[0], inplace=True)\n",
    "raw_test2_df['floornumber'].fillna(raw_test2_df['floornumber'].mode()[0], inplace=True)\n",
    "\n",
    "md_df['min_to_subway'].fillna(md_df['min_to_subway'].mean(), inplace=True)\n",
    "raw_test2_df['min_to_subway'].fillna(raw_test2_df['min_to_subway'].mean(), inplace=True)\n",
    "\n",
    "md_df['year_built'].fillna(md_df['year_built'].mean(), inplace=True)\n",
    "raw_test2_df['year_built'].fillna(raw_test2_df['year_built'].mean(), inplace=True)\n",
    "\n",
    "print(\"original shape of dataset:\",raw_df.shape)\n",
    "print(\"shape of dataset after handling missing data, should stay the same:\",md_df.shape)"
   ]
  },
  {
   "cell_type": "markdown",
   "metadata": {},
   "source": [
    "## Remove outliers"
   ]
  },
  {
   "cell_type": "code",
<<<<<<< HEAD
   "execution_count": 81,
=======
   "execution_count": 25,
>>>>>>> c8cc123baa1c442bb8817105216994b466be80f9
   "metadata": {},
   "outputs": [
    {
     "data": {
<<<<<<< HEAD
      "image/png": "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\n",
=======
      "image/png": "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\n",
>>>>>>> c8cc123baa1c442bb8817105216994b466be80f9
      "text/plain": [
       "<Figure size 432x288 with 1 Axes>"
      ]
     },
     "metadata": {
      "needs_background": "light"
     },
     "output_type": "display_data"
    },
    {
     "data": {
<<<<<<< HEAD
      "image/png": "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\n",
=======
      "image/png": "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\n",
>>>>>>> c8cc123baa1c442bb8817105216994b466be80f9
      "text/plain": [
       "<Figure size 432x288 with 1 Axes>"
      ]
     },
     "metadata": {
      "needs_background": "light"
     },
     "output_type": "display_data"
    },
    {
     "data": {
<<<<<<< HEAD
      "image/png": "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\n",
=======
      "image/png": "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\n",
>>>>>>> c8cc123baa1c442bb8817105216994b466be80f9
      "text/plain": [
       "<Figure size 432x288 with 1 Axes>"
      ]
     },
     "metadata": {
      "needs_background": "light"
     },
     "output_type": "display_data"
    },
    {
     "data": {
<<<<<<< HEAD
      "image/png": "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\n",
=======
      "image/png": "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\n",
>>>>>>> c8cc123baa1c442bb8817105216994b466be80f9
      "text/plain": [
       "<Figure size 432x288 with 1 Axes>"
      ]
     },
     "metadata": {
      "needs_background": "light"
     },
     "output_type": "display_data"
    },
    {
     "data": {
<<<<<<< HEAD
      "image/png": "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\n",
=======
      "image/png": "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\n",
>>>>>>> c8cc123baa1c442bb8817105216994b466be80f9
      "text/plain": [
       "<Figure size 432x288 with 1 Axes>"
      ]
     },
     "metadata": {
      "needs_background": "light"
     },
     "output_type": "display_data"
    },
    {
     "data": {
<<<<<<< HEAD
      "image/png": "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\n",
=======
      "image/png": "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\n",
>>>>>>> c8cc123baa1c442bb8817105216994b466be80f9
      "text/plain": [
       "<Figure size 432x288 with 1 Axes>"
      ]
     },
     "metadata": {
      "needs_background": "light"
     },
     "output_type": "display_data"
    },
    {
     "data": {
<<<<<<< HEAD
      "image/png": "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\n",
=======
      "image/png": "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\n",
>>>>>>> c8cc123baa1c442bb8817105216994b466be80f9
      "text/plain": [
       "<Figure size 432x288 with 1 Axes>"
      ]
     },
     "metadata": {
      "needs_background": "light"
     },
     "output_type": "display_data"
    },
    {
     "data": {
<<<<<<< HEAD
      "image/png": "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\n",
=======
      "image/png": "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\n",
>>>>>>> c8cc123baa1c442bb8817105216994b466be80f9
      "text/plain": [
       "<Figure size 432x288 with 1 Axes>"
      ]
     },
     "metadata": {
      "needs_background": "light"
     },
     "output_type": "display_data"
    }
   ],
   "source": [
    "for feature in continuous_features:\n",
    "    md_df.plot.scatter(feature, 'rent')"
   ]
  },
  {
   "cell_type": "code",
<<<<<<< HEAD
   "execution_count": 82,
=======
   "execution_count": 26,
>>>>>>> c8cc123baa1c442bb8817105216994b466be80f9
   "metadata": {},
   "outputs": [
    {
     "data": {
      "text/plain": [
       "addr_unit                 9\n",
       "building_id               9\n",
       "bedrooms                  9\n",
       "bathrooms                 9\n",
       "size_sqft                 9\n",
       "created_at                9\n",
       "addr_street               9\n",
       "addr_city                 9\n",
       "addr_zip                  9\n",
       "addr_lat                  9\n",
       "addr_lon                  9\n",
       "bin                       9\n",
       "bbl                       9\n",
       "floor_count               9\n",
       "year_built                9\n",
       "min_to_subway             9\n",
       "has_doorman               9\n",
       "has_elevator              9\n",
       "has_fireplace             9\n",
       "has_dishwasher            9\n",
       "is_furnished              9\n",
       "has_gym                   9\n",
       "allows_pets               9\n",
       "has_washer_dryer          9\n",
       "has_garage                9\n",
       "has_roofdeck              9\n",
       "has_concierge             9\n",
       "has_pool                  9\n",
       "has_garden                9\n",
       "has_childrens_playroom    9\n",
       "rent                      9\n",
       "no_fee                    9\n",
       "description               9\n",
       "neighborhood              9\n",
       "borough                   9\n",
       "unit                      8\n",
       "floornumber               9\n",
       "line                      4\n",
       "zip_average_income        9\n",
       "dtype: int64"
      ]
     },
<<<<<<< HEAD
     "execution_count": 82,
=======
     "execution_count": 26,
>>>>>>> c8cc123baa1c442bb8817105216994b466be80f9
     "metadata": {},
     "output_type": "execute_result"
    }
   ],
   "source": [
    "md_df[md_df['rent']>40000].count()"
   ]
  },
  {
   "cell_type": "markdown",
   "metadata": {},
   "source": [
    "**drop size_sqrt = 0 for now, since there are 713 rows, might replace with mode when creating models**"
   ]
  },
  {
   "cell_type": "code",
<<<<<<< HEAD
   "execution_count": 83,
=======
   "execution_count": 27,
>>>>>>> c8cc123baa1c442bb8817105216994b466be80f9
   "metadata": {},
   "outputs": [
    {
     "name": "stdout",
     "output_type": "stream",
     "text": [
      "rent :  (14000, 39)\n",
      "rent :  (13991, 39)\n",
      "bathrooms :  (13991, 39)\n",
      "bathrooms :  (13983, 39)\n",
      "size_sqft :  (13983, 39)\n",
      "size_sqft :  (12971, 39)\n",
      "year_built :  (12971, 39)\n",
      "year_built :  (12892, 39)\n",
      "min_to_subway :  (12892, 39)\n",
      "min_to_subway :  (12753, 39)\n",
      "floornumber :  (12753, 39)\n",
      "floornumber :  (12736, 39)\n"
     ]
    }
   ],
   "source": [
    "def remove_outliers(md_df, feature, low_value, high_value):\n",
    "    print(feature, ': ', md_df.shape)\n",
    "    md_df = md_df[md_df[feature]>low_value]\n",
    "    md_df = md_df[md_df[feature]<=high_value]\n",
    "    md_df.reset_index(drop=True,inplace=True)\n",
    "    print(feature, ': ', md_df.shape)\n",
    "    return md_df\n",
    "\n",
    "md_df = remove_outliers(md_df, 'rent', 0, 40000)\n",
    "md_df = remove_outliers(md_df, 'bathrooms', 0, 12)\n",
    "md_df = remove_outliers(md_df, 'size_sqft', 0, 10000)\n",
    "md_df = remove_outliers(md_df, 'year_built', 1700, 2019)\n",
    "md_df = remove_outliers(md_df, 'min_to_subway', 0, 60)\n",
    "md_df = remove_outliers(md_df, 'floornumber', 0, 60)\n",
    "\n",
    "md_df['year_built'] = 2019 - md_df['year_built'].astype(int)"
   ]
  },
  {
   "cell_type": "markdown",
   "metadata": {},
   "source": [
    "### Encode categorical feature and drop useless features"
   ]
  },
  {
   "cell_type": "code",
<<<<<<< HEAD
   "execution_count": 84,
=======
   "execution_count": 28,
>>>>>>> c8cc123baa1c442bb8817105216994b466be80f9
   "metadata": {},
   "outputs": [],
   "source": [
    "boroughs = np.array(md_df['borough'].unique())\n",
    "\n",
    "for borough in boroughs:\n",
    "    md_df[borough] = md_df['borough'].apply(lambda x : int(x == borough))\n",
    "    raw_test2_df[borough] = raw_test2_df['borough'].apply(lambda x : int(x == borough))\n",
    "\n",
    "features_notNeed = ['addr_unit', 'building_id', 'created_at', 'addr_street', 'addr_city', 'addr_zip', 'bin', 'bbl', 'description', \\\n",
    "                    'neighborhood', 'unit', 'borough', 'line']\n",
    "\n",
    "md_df = md_df.drop(features_notNeed, axis=1)"
   ]
  },
  {
   "cell_type": "markdown",
   "metadata": {},
   "source": [
    "### Use pair coorelation for continuous features"
   ]
  },
  {
   "cell_type": "code",
<<<<<<< HEAD
   "execution_count": 85,
=======
   "execution_count": 29,
>>>>>>> c8cc123baa1c442bb8817105216994b466be80f9
   "metadata": {},
   "outputs": [
    {
     "data": {
      "text/plain": [
       "bathrooms             0.636554\n",
       "bedrooms              0.349936\n",
       "size_sqft             0.690211\n",
       "floor_count           0.262856\n",
       "year_built           -0.108060\n",
       "min_to_subway        -0.082684\n",
       "floornumber           0.246969\n",
       "zip_average_income    0.420397\n",
       "Name: rent, dtype: float64"
      ]
     },
<<<<<<< HEAD
     "execution_count": 85,
=======
     "execution_count": 29,
>>>>>>> c8cc123baa1c442bb8817105216994b466be80f9
     "metadata": {},
     "output_type": "execute_result"
    }
   ],
   "source": [
    "continuous_df = md_df[continuous_features+['rent']]\n",
    "continuous_df.corr()['rent'][:-1]"
   ]
  },
  {
   "cell_type": "markdown",
   "metadata": {},
   "source": [
    "### Check coorelation for binary features"
   ]
  },
  {
   "cell_type": "code",
<<<<<<< HEAD
   "execution_count": 86,
=======
   "execution_count": 30,
>>>>>>> c8cc123baa1c442bb8817105216994b466be80f9
   "metadata": {},
   "outputs": [
    {
     "data": {
      "text/html": [
       "<div>\n",
       "<style scoped>\n",
       "    .dataframe tbody tr th:only-of-type {\n",
       "        vertical-align: middle;\n",
       "    }\n",
       "\n",
       "    .dataframe tbody tr th {\n",
       "        vertical-align: top;\n",
       "    }\n",
       "\n",
       "    .dataframe thead th {\n",
       "        text-align: right;\n",
       "    }\n",
       "</style>\n",
       "<table border=\"1\" class=\"dataframe\">\n",
       "  <thead>\n",
       "    <tr style=\"text-align: right;\">\n",
       "      <th></th>\n",
       "      <th>Coorelation</th>\n",
       "      <th>Feature</th>\n",
       "    </tr>\n",
       "  </thead>\n",
       "  <tbody>\n",
       "    <tr>\n",
       "      <th>0</th>\n",
       "      <td>1.0</td>\n",
       "      <td>has_doorman</td>\n",
       "    </tr>\n",
       "    <tr>\n",
       "      <th>1</th>\n",
       "      <td>1.0</td>\n",
       "      <td>has_elevator</td>\n",
       "    </tr>\n",
       "    <tr>\n",
       "      <th>2</th>\n",
       "      <td>1.0</td>\n",
       "      <td>has_fireplace</td>\n",
       "    </tr>\n",
       "    <tr>\n",
       "      <th>3</th>\n",
       "      <td>1.0</td>\n",
       "      <td>has_dishwasher</td>\n",
       "    </tr>\n",
       "    <tr>\n",
       "      <th>4</th>\n",
       "      <td>1.0</td>\n",
       "      <td>is_furnished</td>\n",
       "    </tr>\n",
       "    <tr>\n",
       "      <th>5</th>\n",
       "      <td>1.0</td>\n",
       "      <td>has_gym</td>\n",
       "    </tr>\n",
       "    <tr>\n",
       "      <th>6</th>\n",
       "      <td>1.0</td>\n",
       "      <td>allows_pets</td>\n",
       "    </tr>\n",
       "    <tr>\n",
       "      <th>7</th>\n",
       "      <td>1.0</td>\n",
       "      <td>has_washer_dryer</td>\n",
       "    </tr>\n",
       "    <tr>\n",
       "      <th>8</th>\n",
       "      <td>1.0</td>\n",
       "      <td>has_garage</td>\n",
       "    </tr>\n",
       "    <tr>\n",
       "      <th>9</th>\n",
       "      <td>1.0</td>\n",
       "      <td>has_roofdeck</td>\n",
       "    </tr>\n",
       "    <tr>\n",
       "      <th>10</th>\n",
       "      <td>1.0</td>\n",
       "      <td>has_concierge</td>\n",
       "    </tr>\n",
       "    <tr>\n",
       "      <th>11</th>\n",
       "      <td>1.0</td>\n",
       "      <td>has_pool</td>\n",
       "    </tr>\n",
       "    <tr>\n",
       "      <th>12</th>\n",
       "      <td>1.0</td>\n",
       "      <td>has_garden</td>\n",
       "    </tr>\n",
       "    <tr>\n",
       "      <th>13</th>\n",
       "      <td>1.0</td>\n",
       "      <td>has_childrens_playroom</td>\n",
       "    </tr>\n",
       "    <tr>\n",
       "      <th>14</th>\n",
       "      <td>1.0</td>\n",
       "      <td>no_fee</td>\n",
       "    </tr>\n",
       "  </tbody>\n",
       "</table>\n",
       "</div>"
      ],
      "text/plain": [
       "    Coorelation                 Feature\n",
       "0           1.0             has_doorman\n",
       "1           1.0            has_elevator\n",
       "2           1.0           has_fireplace\n",
       "3           1.0          has_dishwasher\n",
       "4           1.0            is_furnished\n",
       "5           1.0                 has_gym\n",
       "6           1.0             allows_pets\n",
       "7           1.0        has_washer_dryer\n",
       "8           1.0              has_garage\n",
       "9           1.0            has_roofdeck\n",
       "10          1.0           has_concierge\n",
       "11          1.0                has_pool\n",
       "12          1.0              has_garden\n",
       "13          1.0  has_childrens_playroom\n",
       "14          1.0                  no_fee"
      ]
     },
<<<<<<< HEAD
     "execution_count": 86,
=======
     "execution_count": 30,
>>>>>>> c8cc123baa1c442bb8817105216994b466be80f9
     "metadata": {},
     "output_type": "execute_result"
    }
   ],
   "source": [
    "md_df[binary_features+['rent']].corr()['rent'][:-1]\n",
    "coor_results= []\n",
    "\n",
    "for feature in binary_features:\n",
    "  df = raw_df.groupby([feature]).aggregate(['mean'])['rent']\n",
    "  df[feature]= df.index\n",
    "  coor_results.append(df.corr().iloc[0][1])\n",
    "coor_df = pd.DataFrame({'Coorelation': coor_results,'Feature':binary_features})\n",
    "coor_df\n"
   ]
  },
  {
   "cell_type": "markdown",
   "metadata": {},
   "source": [
    "As we can see in the correlation table, all binrary features highly affected the rents. When we build the models, we should include all binary features."
   ]
  },
  {
   "cell_type": "markdown",
   "metadata": {},
   "source": [
    "# Build Models\n",
    " - We will be using cross validation to evaluate the performances of our all modles,and then deciding which should be the most suitable one, thus we will first create a function called get_cv_results to obtain the cv_performance.\n",
    " - we will try 5 different basic categorical models:`multiple regression, decision tree, random froest, Gradient Boosting Regression and Neural Network`"
   ]
  },
  {
   "cell_type": "code",
<<<<<<< HEAD
   "execution_count": 87,
=======
   "execution_count": 33,
>>>>>>> c8cc123baa1c442bb8817105216994b466be80f9
   "metadata": {},
   "outputs": [],
   "source": [
    "md_df = shuffle(md_df).reset_index(drop=True)\n"
   ]
  },
  {
   "cell_type": "code",
<<<<<<< HEAD
   "execution_count": 88,
=======
   "execution_count": 34,
>>>>>>> c8cc123baa1c442bb8817105216994b466be80f9
   "metadata": {},
   "outputs": [],
   "source": [
    "features = list(md_df.columns)\n",
    "features.remove('rent')\n",
    "k_fold = KFold(n_splits=10)"
   ]
  },
  {
   "cell_type": "code",
<<<<<<< HEAD
   "execution_count": 89,
=======
   "execution_count": 35,
>>>>>>> c8cc123baa1c442bb8817105216994b466be80f9
   "metadata": {},
   "outputs": [],
   "source": [
    "def get_cv_results(regressor):\n",
    "    \n",
    "    results = []\n",
    "    for train, test in k_fold.split(md_df):\n",
    "        regressor.fit(md_df.loc[train, features], md_df.loc[train, 'rent'])\n",
    "        y_predicted = regressor.predict(md_df.loc[test, features])\n",
    "        accuracy = mean_squared_error(md_df.loc[test, 'rent'], y_predicted)**0.5\n",
    "        results.append(accuracy)\n",
    "\n",
    "    return np.mean(results), np.std(results)"
   ]
  },
  {
   "cell_type": "markdown",
   "metadata": {},
   "source": [
    "### Radnom Forest Model"
   ]
  },
  {
   "cell_type": "code",
<<<<<<< HEAD
   "execution_count": 90,
=======
   "execution_count": 36,
>>>>>>> c8cc123baa1c442bb8817105216994b466be80f9
   "metadata": {},
   "outputs": [],
   "source": [
    "rforest = RandomForestRegressor(\n",
    "    random_state=11, \n",
    "    max_depth=10,\n",
    "    n_estimators=200\n",
    ")\n"
   ]
  },
  {
   "cell_type": "code",
<<<<<<< HEAD
   "execution_count": 91,
=======
   "execution_count": 37,
>>>>>>> c8cc123baa1c442bb8817105216994b466be80f9
   "metadata": {},
   "outputs": [
    {
     "data": {
      "text/plain": [
<<<<<<< HEAD
       "(994.2579863827316, 132.24160065375622)"
      ]
     },
     "execution_count": 91,
=======
       "(999.803790734472, 133.18585622224026)"
      ]
     },
     "execution_count": 37,
>>>>>>> c8cc123baa1c442bb8817105216994b466be80f9
     "metadata": {},
     "output_type": "execute_result"
    }
   ],
   "source": [
    "get_cv_results(rforest)"
   ]
  },
  {
   "cell_type": "code",
<<<<<<< HEAD
   "execution_count": 92,
=======
   "execution_count": 38,
>>>>>>> c8cc123baa1c442bb8817105216994b466be80f9
   "metadata": {},
   "outputs": [
    {
     "name": "stdout",
     "output_type": "stream",
     "text": [
<<<<<<< HEAD
      "size_sqft   0.5442480125160434\n",
      "zip_average_income   0.2005650194160037\n",
      "bathrooms   0.11382901888880664\n",
      "addr_lon   0.023789213414119496\n",
      "addr_lat   0.020173665012584236\n",
      "year_built   0.01818131909142043\n",
      "bedrooms   0.014321132832195065\n",
      "floor_count   0.011193708548455812\n",
      "floornumber   0.00958192939498511\n",
      "min_to_subway   0.009170558901444583\n",
      "has_gym   0.006290213692196793\n",
      "has_roofdeck   0.005663675829088495\n",
      "has_washer_dryer   0.0029221839206172583\n",
      "has_dishwasher   0.002715901312269515\n",
      "no_fee   0.0022534347546697385\n",
      "is_furnished   0.00222761533246179\n",
      "has_garden   0.00222141612374956\n",
      "has_elevator   0.0018935192447863314\n",
      "has_concierge   0.0017198413057585176\n",
      "has_doorman   0.001335080412018715\n",
      "allows_pets   0.0011841655570383476\n",
      "has_pool   0.0010943247308769007\n",
      "Manhattan   0.0009389061639193277\n",
      "has_fireplace   0.0009333355466606508\n",
      "has_childrens_playroom   0.0007729064261971666\n",
      "has_garage   0.0005558503061327574\n",
      "Brooklyn   0.00019405028823733567\n",
      "Queens   1.8676335047143735e-05\n",
      "Bronx   1.0323402734959516e-05\n",
      "Staten Island   1.001299479891439e-06\n"
=======
      "size_sqft   0.542895968499632\n",
      "zip_average_income   0.20261456133356512\n",
      "bathrooms   0.11322851891757318\n",
      "addr_lon   0.024530475219147238\n",
      "addr_lat   0.01917323901993333\n",
      "year_built   0.016309688773539003\n",
      "bedrooms   0.013919867704758141\n",
      "floor_count   0.010055956572432578\n",
      "floornumber   0.0100146384270994\n",
      "min_to_subway   0.009783796296859147\n",
      "has_gym   0.005730184364868082\n",
      "has_roofdeck   0.004453112084932278\n",
      "has_washer_dryer   0.0033956114770440503\n",
      "has_dishwasher   0.003326554815642287\n",
      "Manhattan   0.0029439736587438927\n",
      "no_fee   0.0028152109102832275\n",
      "has_elevator   0.0023133105065078433\n",
      "is_furnished   0.002165835070262366\n",
      "has_garden   0.001977536440076607\n",
      "has_concierge   0.0017792194059654892\n",
      "allows_pets   0.0013352550924121726\n",
      "has_doorman   0.0013229291003806051\n",
      "has_pool   0.0012154875516828677\n",
      "has_fireplace   0.000939070495602523\n",
      "has_childrens_playroom   0.0008897522352754167\n",
      "has_garage   0.0005431085349996884\n",
      "Brooklyn   0.00030203811823895885\n",
      "Queens   1.661802262039333e-05\n",
      "Bronx   7.346885828098289e-06\n",
      "Staten Island   1.1344640939668015e-06\n"
>>>>>>> c8cc123baa1c442bb8817105216994b466be80f9
     ]
    }
   ],
   "source": [
    "rforest.fit(md_df[features], md_df['rent'])  \n",
    "for feature,score in sorted(zip(features,rforest.feature_importances_), key=lambda x:x[1], reverse=True):\n",
    "    print(feature, ' ', score)"
   ]
  },
  {
   "cell_type": "markdown",
   "metadata": {},
   "source": [
    "### Multiple Regression\n",
    " - Multiple regression is an extension of simple linear regression. It is used when we want to predict the value of a variable based on the value of two or more other variables\n",
    " - We will based on p value to choose significant variables(p<0.1)\n",
    " "
   ]
  },
  {
   "cell_type": "code",
<<<<<<< HEAD
   "execution_count": 93,
   "metadata": {},
   "outputs": [],
   "source": [
    "import statsmodels.api as sm\n",
    "from sklearn.linear_model import LinearRegression"
   ]
  },
  {
   "cell_type": "code",
   "execution_count": 94,
=======
   "execution_count": 44,
>>>>>>> c8cc123baa1c442bb8817105216994b466be80f9
   "metadata": {},
   "outputs": [
    {
     "data": {
      "text/html": [
       "<table class=\"simpletable\">\n",
       "<caption>OLS Regression Results</caption>\n",
       "<tr>\n",
       "  <th>Dep. Variable:</th>          <td>rent</td>       <th>  R-squared:         </th>  <td>   0.710</td>  \n",
       "</tr>\n",
       "<tr>\n",
       "  <th>Model:</th>                   <td>OLS</td>       <th>  Adj. R-squared:    </th>  <td>   0.710</td>  \n",
       "</tr>\n",
       "<tr>\n",
       "  <th>Method:</th>             <td>Least Squares</td>  <th>  F-statistic:       </th>  <td>   1074.</td>  \n",
       "</tr>\n",
       "<tr>\n",
       "  <th>Date:</th>             <td>Tue, 19 Nov 2019</td> <th>  Prob (F-statistic):</th>   <td>  0.00</td>   \n",
       "</tr>\n",
       "<tr>\n",
<<<<<<< HEAD
       "  <th>Time:</th>                 <td>20:17:50</td>     <th>  Log-Likelihood:    </th> <td>-1.0707e+05</td>\n",
=======
       "  <th>Time:</th>                 <td>09:27:15</td>     <th>  Log-Likelihood:    </th> <td>-1.1086e+05</td>\n",
>>>>>>> c8cc123baa1c442bb8817105216994b466be80f9
       "</tr>\n",
       "<tr>\n",
       "  <th>No. Observations:</th>      <td> 12736</td>      <th>  AIC:               </th>  <td>2.218e+05</td> \n",
       "</tr>\n",
       "<tr>\n",
       "  <th>Df Residuals:</th>          <td> 12706</td>      <th>  BIC:               </th>  <td>2.220e+05</td> \n",
       "</tr>\n",
       "<tr>\n",
       "  <th>Df Model:</th>              <td>    29</td>      <th>                     </th>      <td> </td>     \n",
       "</tr>\n",
       "<tr>\n",
       "  <th>Covariance Type:</th>      <td>nonrobust</td>    <th>                     </th>      <td> </td>     \n",
       "</tr>\n",
       "</table>\n",
       "<table class=\"simpletable\">\n",
       "<tr>\n",
       "             <td></td>               <th>coef</th>     <th>std err</th>      <th>t</th>      <th>P>|t|</th>  <th>[0.025</th>    <th>0.975]</th>  \n",
       "</tr>\n",
       "<tr>\n",
       "  <th>bedrooms</th>               <td>   63.8147</td> <td>   17.408</td> <td>    3.666</td> <td> 0.000</td> <td>   29.692</td> <td>   97.937</td>\n",
       "</tr>\n",
       "<tr>\n",
       "  <th>bathrooms</th>              <td> 1112.3176</td> <td>   34.524</td> <td>   32.218</td> <td> 0.000</td> <td> 1044.645</td> <td> 1179.991</td>\n",
       "</tr>\n",
       "<tr>\n",
       "  <th>size_sqft</th>              <td>    2.9810</td> <td>    0.043</td> <td>   69.380</td> <td> 0.000</td> <td>    2.897</td> <td>    3.065</td>\n",
       "</tr>\n",
       "<tr>\n",
       "  <th>addr_lat</th>               <td> 2196.0344</td> <td>  426.290</td> <td>    5.152</td> <td> 0.000</td> <td> 1360.442</td> <td> 3031.627</td>\n",
       "</tr>\n",
       "<tr>\n",
       "  <th>addr_lon</th>               <td>-6032.9217</td> <td>  504.851</td> <td>  -11.950</td> <td> 0.000</td> <td>-7022.506</td> <td>-5043.338</td>\n",
       "</tr>\n",
       "<tr>\n",
       "  <th>floor_count</th>            <td>  -12.6427</td> <td>    2.186</td> <td>   -5.782</td> <td> 0.000</td> <td>  -16.928</td> <td>   -8.357</td>\n",
       "</tr>\n",
       "<tr>\n",
       "  <th>year_built</th>             <td>    0.2344</td> <td>    0.460</td> <td>    0.509</td> <td> 0.610</td> <td>   -0.668</td> <td>    1.137</td>\n",
       "</tr>\n",
       "<tr>\n",
       "  <th>min_to_subway</th>          <td>  -20.2057</td> <td>    3.632</td> <td>   -5.563</td> <td> 0.000</td> <td>  -27.325</td> <td>  -13.087</td>\n",
       "</tr>\n",
       "<tr>\n",
       "  <th>has_doorman</th>            <td>  103.7330</td> <td>   48.889</td> <td>    2.122</td> <td> 0.034</td> <td>    7.902</td> <td>  199.564</td>\n",
       "</tr>\n",
       "<tr>\n",
       "  <th>has_elevator</th>           <td>  322.5841</td> <td>   39.433</td> <td>    8.181</td> <td> 0.000</td> <td>  245.290</td> <td>  399.878</td>\n",
       "</tr>\n",
       "<tr>\n",
       "  <th>has_fireplace</th>          <td>  424.3837</td> <td>   70.216</td> <td>    6.044</td> <td> 0.000</td> <td>  286.749</td> <td>  562.018</td>\n",
       "</tr>\n",
       "<tr>\n",
       "  <th>has_dishwasher</th>         <td> -166.3256</td> <td>   30.037</td> <td>   -5.537</td> <td> 0.000</td> <td> -225.203</td> <td> -107.448</td>\n",
       "</tr>\n",
       "<tr>\n",
       "  <th>is_furnished</th>           <td>  586.8978</td> <td>   75.253</td> <td>    7.799</td> <td> 0.000</td> <td>  439.390</td> <td>  734.405</td>\n",
       "</tr>\n",
       "<tr>\n",
       "  <th>has_gym</th>                <td>  324.7559</td> <td>   49.397</td> <td>    6.574</td> <td> 0.000</td> <td>  227.930</td> <td>  421.582</td>\n",
       "</tr>\n",
       "<tr>\n",
       "  <th>allows_pets</th>            <td>  160.0108</td> <td>   28.976</td> <td>    5.522</td> <td> 0.000</td> <td>  103.214</td> <td>  216.808</td>\n",
       "</tr>\n",
       "<tr>\n",
       "  <th>has_washer_dryer</th>       <td>  308.2674</td> <td>   33.740</td> <td>    9.136</td> <td> 0.000</td> <td>  242.131</td> <td>  374.404</td>\n",
       "</tr>\n",
       "<tr>\n",
       "  <th>has_garage</th>             <td>  -78.4405</td> <td>   40.590</td> <td>   -1.933</td> <td> 0.053</td> <td> -158.003</td> <td>    1.122</td>\n",
       "</tr>\n",
       "<tr>\n",
       "  <th>has_roofdeck</th>           <td>  162.7180</td> <td>   36.992</td> <td>    4.399</td> <td> 0.000</td> <td>   90.208</td> <td>  235.228</td>\n",
       "</tr>\n",
       "<tr>\n",
       "  <th>has_concierge</th>          <td>  210.5571</td> <td>   50.293</td> <td>    4.187</td> <td> 0.000</td> <td>  111.975</td> <td>  309.139</td>\n",
       "</tr>\n",
       "<tr>\n",
       "  <th>has_pool</th>               <td>  114.3555</td> <td>   59.365</td> <td>    1.926</td> <td> 0.054</td> <td>   -2.008</td> <td>  230.720</td>\n",
       "</tr>\n",
       "<tr>\n",
       "  <th>has_garden</th>             <td>  -28.3613</td> <td>   40.567</td> <td>   -0.699</td> <td> 0.484</td> <td> -107.879</td> <td>   51.157</td>\n",
       "</tr>\n",
       "<tr>\n",
       "  <th>has_childrens_playroom</th> <td>  130.1010</td> <td>   54.941</td> <td>    2.368</td> <td> 0.018</td> <td>   22.408</td> <td>  237.794</td>\n",
       "</tr>\n",
       "<tr>\n",
       "  <th>no_fee</th>                 <td> -134.5680</td> <td>   29.662</td> <td>   -4.537</td> <td> 0.000</td> <td> -192.711</td> <td>  -76.425</td>\n",
       "</tr>\n",
       "<tr>\n",
       "  <th>floornumber</th>            <td>   20.9394</td> <td>    2.731</td> <td>    7.668</td> <td> 0.000</td> <td>   15.587</td> <td>   26.292</td>\n",
       "</tr>\n",
       "<tr>\n",
       "  <th>zip_average_income</th>     <td>    0.0028</td> <td>    0.000</td> <td>   22.715</td> <td> 0.000</td> <td>    0.003</td> <td>    0.003</td>\n",
       "</tr>\n",
       "<tr>\n",
       "  <th>Brooklyn</th>               <td>-5.373e+05</td> <td> 4.63e+04</td> <td>  -11.604</td> <td> 0.000</td> <td>-6.28e+05</td> <td>-4.47e+05</td>\n",
       "</tr>\n",
       "<tr>\n",
       "  <th>Manhattan</th>              <td>-5.368e+05</td> <td> 4.63e+04</td> <td>  -11.586</td> <td> 0.000</td> <td>-6.28e+05</td> <td>-4.46e+05</td>\n",
       "</tr>\n",
       "<tr>\n",
       "  <th>Queens</th>                 <td>-5.372e+05</td> <td> 4.63e+04</td> <td>  -11.605</td> <td> 0.000</td> <td>-6.28e+05</td> <td>-4.46e+05</td>\n",
       "</tr>\n",
       "<tr>\n",
       "  <th>Bronx</th>                  <td> -5.38e+05</td> <td> 4.63e+04</td> <td>  -11.613</td> <td> 0.000</td> <td>-6.29e+05</td> <td>-4.47e+05</td>\n",
       "</tr>\n",
       "<tr>\n",
       "  <th>Staten Island</th>          <td>-5.392e+05</td> <td> 4.64e+04</td> <td>  -11.632</td> <td> 0.000</td> <td> -6.3e+05</td> <td>-4.48e+05</td>\n",
       "</tr>\n",
       "</table>\n",
       "<table class=\"simpletable\">\n",
       "<tr>\n",
<<<<<<< HEAD
       "  <th>Omnibus:</th>       <td>9174.187</td> <th>  Durbin-Watson:     </th>  <td>   2.034</td>  \n",
=======
       "  <th>Omnibus:</th>       <td>9409.722</td> <th>  Durbin-Watson:     </th>  <td>   1.986</td>  \n",
>>>>>>> c8cc123baa1c442bb8817105216994b466be80f9
       "</tr>\n",
       "<tr>\n",
       "  <th>Prob(Omnibus):</th>  <td> 0.000</td>  <th>  Jarque-Bera (JB):  </th> <td>2730651.621</td>\n",
       "</tr>\n",
       "<tr>\n",
       "  <th>Skew:</th>           <td> 2.493</td>  <th>  Prob(JB):          </th>  <td>    0.00</td>  \n",
       "</tr>\n",
       "<tr>\n",
       "  <th>Kurtosis:</th>       <td>74.560</td>  <th>  Cond. No.          </th>  <td>1.90e+09</td>  \n",
       "</tr>\n",
       "</table><br/><br/>Warnings:<br/>[1] Standard Errors assume that the covariance matrix of the errors is correctly specified.<br/>[2] The condition number is large, 1.9e+09. This might indicate that there are<br/>strong multicollinearity or other numerical problems."
      ],
      "text/plain": [
       "<class 'statsmodels.iolib.summary.Summary'>\n",
       "\"\"\"\n",
       "                            OLS Regression Results                            \n",
       "==============================================================================\n",
<<<<<<< HEAD
       "Dep. Variable:                   rent   R-squared:                       0.719\n",
       "Model:                            OLS   Adj. R-squared:                  0.718\n",
       "Method:                 Least Squares   F-statistic:                     1082.\n",
       "Date:                Tue, 19 Nov 2019   Prob (F-statistic):               0.00\n",
       "Time:                        20:17:50   Log-Likelihood:            -1.0707e+05\n",
       "No. Observations:               12313   AIC:                         2.142e+05\n",
       "Df Residuals:                   12283   BIC:                         2.144e+05\n",
=======
       "Dep. Variable:                   rent   R-squared:                       0.710\n",
       "Model:                            OLS   Adj. R-squared:                  0.710\n",
       "Method:                 Least Squares   F-statistic:                     1074.\n",
       "Date:                Tue, 19 Nov 2019   Prob (F-statistic):               0.00\n",
       "Time:                        09:27:15   Log-Likelihood:            -1.1086e+05\n",
       "No. Observations:               12736   AIC:                         2.218e+05\n",
       "Df Residuals:                   12706   BIC:                         2.220e+05\n",
>>>>>>> c8cc123baa1c442bb8817105216994b466be80f9
       "Df Model:                          29                                         \n",
       "Covariance Type:            nonrobust                                         \n",
       "==========================================================================================\n",
       "                             coef    std err          t      P>|t|      [0.025      0.975]\n",
       "------------------------------------------------------------------------------------------\n",
       "bedrooms                  63.8147     17.408      3.666      0.000      29.692      97.937\n",
       "bathrooms               1112.3176     34.524     32.218      0.000    1044.645    1179.991\n",
       "size_sqft                  2.9810      0.043     69.380      0.000       2.897       3.065\n",
       "addr_lat                2196.0344    426.290      5.152      0.000    1360.442    3031.627\n",
       "addr_lon               -6032.9217    504.851    -11.950      0.000   -7022.506   -5043.338\n",
       "floor_count              -12.6427      2.186     -5.782      0.000     -16.928      -8.357\n",
       "year_built                 0.2344      0.460      0.509      0.610      -0.668       1.137\n",
       "min_to_subway            -20.2057      3.632     -5.563      0.000     -27.325     -13.087\n",
       "has_doorman              103.7330     48.889      2.122      0.034       7.902     199.564\n",
       "has_elevator             322.5841     39.433      8.181      0.000     245.290     399.878\n",
       "has_fireplace            424.3837     70.216      6.044      0.000     286.749     562.018\n",
       "has_dishwasher          -166.3256     30.037     -5.537      0.000    -225.203    -107.448\n",
       "is_furnished             586.8978     75.253      7.799      0.000     439.390     734.405\n",
       "has_gym                  324.7559     49.397      6.574      0.000     227.930     421.582\n",
       "allows_pets              160.0108     28.976      5.522      0.000     103.214     216.808\n",
       "has_washer_dryer         308.2674     33.740      9.136      0.000     242.131     374.404\n",
       "has_garage               -78.4405     40.590     -1.933      0.053    -158.003       1.122\n",
       "has_roofdeck             162.7180     36.992      4.399      0.000      90.208     235.228\n",
       "has_concierge            210.5571     50.293      4.187      0.000     111.975     309.139\n",
       "has_pool                 114.3555     59.365      1.926      0.054      -2.008     230.720\n",
       "has_garden               -28.3613     40.567     -0.699      0.484    -107.879      51.157\n",
       "has_childrens_playroom   130.1010     54.941      2.368      0.018      22.408     237.794\n",
       "no_fee                  -134.5680     29.662     -4.537      0.000    -192.711     -76.425\n",
       "floornumber               20.9394      2.731      7.668      0.000      15.587      26.292\n",
       "zip_average_income         0.0028      0.000     22.715      0.000       0.003       0.003\n",
       "Brooklyn               -5.373e+05   4.63e+04    -11.604      0.000   -6.28e+05   -4.47e+05\n",
       "Manhattan              -5.368e+05   4.63e+04    -11.586      0.000   -6.28e+05   -4.46e+05\n",
       "Queens                 -5.372e+05   4.63e+04    -11.605      0.000   -6.28e+05   -4.46e+05\n",
       "Bronx                   -5.38e+05   4.63e+04    -11.613      0.000   -6.29e+05   -4.47e+05\n",
       "Staten Island          -5.392e+05   4.64e+04    -11.632      0.000    -6.3e+05   -4.48e+05\n",
       "==============================================================================\n",
<<<<<<< HEAD
       "Omnibus:                     9174.187   Durbin-Watson:                   2.034\n",
       "Prob(Omnibus):                  0.000   Jarque-Bera (JB):          2651807.955\n",
       "Skew:                           2.532   Prob(JB):                         0.00\n",
       "Kurtosis:                      74.716   Cond. No.                     1.92e+09\n",
=======
       "Omnibus:                     9409.722   Durbin-Watson:                   1.986\n",
       "Prob(Omnibus):                  0.000   Jarque-Bera (JB):          2730651.621\n",
       "Skew:                           2.493   Prob(JB):                         0.00\n",
       "Kurtosis:                      74.560   Cond. No.                     1.90e+09\n",
>>>>>>> c8cc123baa1c442bb8817105216994b466be80f9
       "==============================================================================\n",
       "\n",
       "Warnings:\n",
       "[1] Standard Errors assume that the covariance matrix of the errors is correctly specified.\n",
       "[2] The condition number is large, 1.9e+09. This might indicate that there are\n",
       "strong multicollinearity or other numerical problems.\n",
       "\"\"\""
      ]
     },
<<<<<<< HEAD
     "execution_count": 94,
=======
     "execution_count": 44,
>>>>>>> c8cc123baa1c442bb8817105216994b466be80f9
     "metadata": {},
     "output_type": "execute_result"
    }
   ],
   "source": [
    "mul_reg_features = features[:]\n",
    "x = md_df[features] \n",
    "y = md_df['rent']\n",
    "est = sm.OLS(y, x).fit()\n",
    "est.summary()"
   ]
  },
  {
   "cell_type": "markdown",
   "metadata": {},
   "source": [
    "- As we can see, variables has_garden and year_built have P value > 0.1\n",
    "- After we remove these two variables, all P values are < 0.1"
   ]
  },
  {
   "cell_type": "code",
<<<<<<< HEAD
   "execution_count": 95,
=======
   "execution_count": 45,
>>>>>>> c8cc123baa1c442bb8817105216994b466be80f9
   "metadata": {},
   "outputs": [
    {
     "data": {
      "text/html": [
       "<table class=\"simpletable\">\n",
       "<caption>OLS Regression Results</caption>\n",
       "<tr>\n",
       "  <th>Dep. Variable:</th>          <td>rent</td>       <th>  R-squared:         </th>  <td>   0.710</td>  \n",
       "</tr>\n",
       "<tr>\n",
       "  <th>Model:</th>                   <td>OLS</td>       <th>  Adj. R-squared:    </th>  <td>   0.710</td>  \n",
       "</tr>\n",
       "<tr>\n",
       "  <th>Method:</th>             <td>Least Squares</td>  <th>  F-statistic:       </th>  <td>   1154.</td>  \n",
       "</tr>\n",
       "<tr>\n",
       "  <th>Date:</th>             <td>Tue, 19 Nov 2019</td> <th>  Prob (F-statistic):</th>   <td>  0.00</td>   \n",
       "</tr>\n",
       "<tr>\n",
       "  <th>Time:</th>                 <td>09:27:18</td>     <th>  Log-Likelihood:    </th> <td>-1.1086e+05</td>\n",
       "</tr>\n",
       "<tr>\n",
       "  <th>No. Observations:</th>      <td> 12736</td>      <th>  AIC:               </th>  <td>2.218e+05</td> \n",
       "</tr>\n",
       "<tr>\n",
       "  <th>Df Residuals:</th>          <td> 12708</td>      <th>  BIC:               </th>  <td>2.220e+05</td> \n",
       "</tr>\n",
       "<tr>\n",
       "  <th>Df Model:</th>              <td>    27</td>      <th>                     </th>      <td> </td>     \n",
       "</tr>\n",
       "<tr>\n",
       "  <th>Covariance Type:</th>      <td>nonrobust</td>    <th>                     </th>      <td> </td>     \n",
       "</tr>\n",
       "</table>\n",
       "<table class=\"simpletable\">\n",
       "<tr>\n",
       "             <td></td>               <th>coef</th>     <th>std err</th>      <th>t</th>      <th>P>|t|</th>  <th>[0.025</th>    <th>0.975]</th>  \n",
       "</tr>\n",
       "<tr>\n",
       "  <th>bedrooms</th>               <td>   64.1204</td> <td>   17.404</td> <td>    3.684</td> <td> 0.000</td> <td>   30.007</td> <td>   98.234</td>\n",
       "</tr>\n",
       "<tr>\n",
       "  <th>bathrooms</th>              <td> 1111.3543</td> <td>   34.426</td> <td>   32.283</td> <td> 0.000</td> <td> 1043.875</td> <td> 1178.834</td>\n",
       "</tr>\n",
       "<tr>\n",
       "  <th>size_sqft</th>              <td>    2.9800</td> <td>    0.043</td> <td>   69.931</td> <td> 0.000</td> <td>    2.897</td> <td>    3.064</td>\n",
       "</tr>\n",
       "<tr>\n",
       "  <th>addr_lat</th>               <td> 2182.4791</td> <td>  425.910</td> <td>    5.124</td> <td> 0.000</td> <td> 1347.632</td> <td> 3017.326</td>\n",
       "</tr>\n",
       "<tr>\n",
       "  <th>addr_lon</th>               <td>-6056.6978</td> <td>  503.186</td> <td>  -12.037</td> <td> 0.000</td> <td>-7043.018</td> <td>-5070.378</td>\n",
       "</tr>\n",
       "<tr>\n",
       "  <th>floor_count</th>            <td>  -12.7595</td> <td>    2.156</td> <td>   -5.919</td> <td> 0.000</td> <td>  -16.985</td> <td>   -8.534</td>\n",
       "</tr>\n",
       "<tr>\n",
       "  <th>min_to_subway</th>          <td>  -20.5429</td> <td>    3.610</td> <td>   -5.690</td> <td> 0.000</td> <td>  -27.620</td> <td>  -13.466</td>\n",
       "</tr>\n",
       "<tr>\n",
       "  <th>has_doorman</th>            <td>  102.2649</td> <td>   48.849</td> <td>    2.093</td> <td> 0.036</td> <td>    6.514</td> <td>  198.016</td>\n",
       "</tr>\n",
       "<tr>\n",
       "  <th>has_elevator</th>           <td>  319.7233</td> <td>   38.826</td> <td>    8.235</td> <td> 0.000</td> <td>  243.619</td> <td>  395.827</td>\n",
       "</tr>\n",
       "<tr>\n",
       "  <th>has_fireplace</th>          <td>  424.6998</td> <td>   70.064</td> <td>    6.062</td> <td> 0.000</td> <td>  287.364</td> <td>  562.036</td>\n",
       "</tr>\n",
       "<tr>\n",
       "  <th>has_dishwasher</th>         <td> -167.0658</td> <td>   30.015</td> <td>   -5.566</td> <td> 0.000</td> <td> -225.899</td> <td> -108.233</td>\n",
       "</tr>\n",
       "<tr>\n",
       "  <th>is_furnished</th>           <td>  587.4342</td> <td>   75.155</td> <td>    7.816</td> <td> 0.000</td> <td>  440.120</td> <td>  734.749</td>\n",
       "</tr>\n",
       "<tr>\n",
       "  <th>has_gym</th>                <td>  321.3230</td> <td>   49.016</td> <td>    6.555</td> <td> 0.000</td> <td>  225.245</td> <td>  417.401</td>\n",
       "</tr>\n",
       "<tr>\n",
       "  <th>allows_pets</th>            <td>  159.0269</td> <td>   28.917</td> <td>    5.499</td> <td> 0.000</td> <td>  102.346</td> <td>  215.708</td>\n",
       "</tr>\n",
       "<tr>\n",
       "  <th>has_washer_dryer</th>       <td>  305.7910</td> <td>   33.495</td> <td>    9.129</td> <td> 0.000</td> <td>  240.135</td> <td>  371.447</td>\n",
       "</tr>\n",
       "<tr>\n",
       "  <th>has_garage</th>             <td>  -82.6552</td> <td>   40.261</td> <td>   -2.053</td> <td> 0.040</td> <td> -161.573</td> <td>   -3.737</td>\n",
       "</tr>\n",
       "<tr>\n",
       "  <th>has_roofdeck</th>           <td>  158.7178</td> <td>   36.556</td> <td>    4.342</td> <td> 0.000</td> <td>   87.062</td> <td>  230.373</td>\n",
       "</tr>\n",
       "<tr>\n",
       "  <th>has_concierge</th>          <td>  207.1657</td> <td>   50.139</td> <td>    4.132</td> <td> 0.000</td> <td>  108.886</td> <td>  305.446</td>\n",
       "</tr>\n",
       "<tr>\n",
       "  <th>has_pool</th>               <td>  115.0468</td> <td>   59.356</td> <td>    1.938</td> <td> 0.053</td> <td>   -1.300</td> <td>  231.393</td>\n",
       "</tr>\n",
       "<tr>\n",
       "  <th>has_childrens_playroom</th> <td>  124.0116</td> <td>   54.139</td> <td>    2.291</td> <td> 0.022</td> <td>   17.890</td> <td>  230.133</td>\n",
       "</tr>\n",
       "<tr>\n",
       "  <th>no_fee</th>                 <td> -134.4391</td> <td>   29.659</td> <td>   -4.533</td> <td> 0.000</td> <td> -192.576</td> <td>  -76.303</td>\n",
       "</tr>\n",
       "<tr>\n",
       "  <th>floornumber</th>            <td>   20.9729</td> <td>    2.730</td> <td>    7.684</td> <td> 0.000</td> <td>   15.623</td> <td>   26.323</td>\n",
       "</tr>\n",
       "<tr>\n",
       "  <th>zip_average_income</th>     <td>    0.0028</td> <td>    0.000</td> <td>   22.718</td> <td> 0.000</td> <td>    0.003</td> <td>    0.003</td>\n",
       "</tr>\n",
       "<tr>\n",
       "  <th>Brooklyn</th>               <td>-5.385e+05</td> <td> 4.62e+04</td> <td>  -11.653</td> <td> 0.000</td> <td>-6.29e+05</td> <td>-4.48e+05</td>\n",
       "</tr>\n",
       "<tr>\n",
       "  <th>Manhattan</th>              <td>-5.379e+05</td> <td> 4.62e+04</td> <td>  -11.635</td> <td> 0.000</td> <td>-6.29e+05</td> <td>-4.47e+05</td>\n",
       "</tr>\n",
       "<tr>\n",
       "  <th>Queens</th>                 <td>-5.384e+05</td> <td> 4.62e+04</td> <td>  -11.654</td> <td> 0.000</td> <td>-6.29e+05</td> <td>-4.48e+05</td>\n",
       "</tr>\n",
       "<tr>\n",
       "  <th>Bronx</th>                  <td>-5.392e+05</td> <td> 4.62e+04</td> <td>  -11.661</td> <td> 0.000</td> <td> -6.3e+05</td> <td>-4.49e+05</td>\n",
       "</tr>\n",
       "<tr>\n",
       "  <th>Staten Island</th>          <td>-5.404e+05</td> <td> 4.63e+04</td> <td>  -11.681</td> <td> 0.000</td> <td>-6.31e+05</td> <td> -4.5e+05</td>\n",
       "</tr>\n",
       "</table>\n",
       "<table class=\"simpletable\">\n",
       "<tr>\n",
       "  <th>Omnibus:</th>       <td>9404.946</td> <th>  Durbin-Watson:     </th>  <td>   1.986</td>  \n",
       "</tr>\n",
       "<tr>\n",
       "  <th>Prob(Omnibus):</th>  <td> 0.000</td>  <th>  Jarque-Bera (JB):  </th> <td>2729250.280</td>\n",
       "</tr>\n",
       "<tr>\n",
       "  <th>Skew:</th>           <td> 2.491</td>  <th>  Prob(JB):          </th>  <td>    0.00</td>  \n",
       "</tr>\n",
       "<tr>\n",
       "  <th>Kurtosis:</th>       <td>74.542</td>  <th>  Cond. No.          </th>  <td>1.90e+09</td>  \n",
       "</tr>\n",
       "</table><br/><br/>Warnings:<br/>[1] Standard Errors assume that the covariance matrix of the errors is correctly specified.<br/>[2] The condition number is large, 1.9e+09. This might indicate that there are<br/>strong multicollinearity or other numerical problems."
      ],
      "text/plain": [
       "<class 'statsmodels.iolib.summary.Summary'>\n",
       "\"\"\"\n",
       "                            OLS Regression Results                            \n",
       "==============================================================================\n",
       "Dep. Variable:                   rent   R-squared:                       0.710\n",
       "Model:                            OLS   Adj. R-squared:                  0.710\n",
       "Method:                 Least Squares   F-statistic:                     1154.\n",
       "Date:                Tue, 19 Nov 2019   Prob (F-statistic):               0.00\n",
       "Time:                        09:27:18   Log-Likelihood:            -1.1086e+05\n",
       "No. Observations:               12736   AIC:                         2.218e+05\n",
       "Df Residuals:                   12708   BIC:                         2.220e+05\n",
       "Df Model:                          27                                         \n",
       "Covariance Type:            nonrobust                                         \n",
       "==========================================================================================\n",
       "                             coef    std err          t      P>|t|      [0.025      0.975]\n",
       "------------------------------------------------------------------------------------------\n",
       "bedrooms                  64.1204     17.404      3.684      0.000      30.007      98.234\n",
       "bathrooms               1111.3543     34.426     32.283      0.000    1043.875    1178.834\n",
       "size_sqft                  2.9800      0.043     69.931      0.000       2.897       3.064\n",
       "addr_lat                2182.4791    425.910      5.124      0.000    1347.632    3017.326\n",
       "addr_lon               -6056.6978    503.186    -12.037      0.000   -7043.018   -5070.378\n",
       "floor_count              -12.7595      2.156     -5.919      0.000     -16.985      -8.534\n",
       "min_to_subway            -20.5429      3.610     -5.690      0.000     -27.620     -13.466\n",
       "has_doorman              102.2649     48.849      2.093      0.036       6.514     198.016\n",
       "has_elevator             319.7233     38.826      8.235      0.000     243.619     395.827\n",
       "has_fireplace            424.6998     70.064      6.062      0.000     287.364     562.036\n",
       "has_dishwasher          -167.0658     30.015     -5.566      0.000    -225.899    -108.233\n",
       "is_furnished             587.4342     75.155      7.816      0.000     440.120     734.749\n",
       "has_gym                  321.3230     49.016      6.555      0.000     225.245     417.401\n",
       "allows_pets              159.0269     28.917      5.499      0.000     102.346     215.708\n",
       "has_washer_dryer         305.7910     33.495      9.129      0.000     240.135     371.447\n",
       "has_garage               -82.6552     40.261     -2.053      0.040    -161.573      -3.737\n",
       "has_roofdeck             158.7178     36.556      4.342      0.000      87.062     230.373\n",
       "has_concierge            207.1657     50.139      4.132      0.000     108.886     305.446\n",
       "has_pool                 115.0468     59.356      1.938      0.053      -1.300     231.393\n",
       "has_childrens_playroom   124.0116     54.139      2.291      0.022      17.890     230.133\n",
       "no_fee                  -134.4391     29.659     -4.533      0.000    -192.576     -76.303\n",
       "floornumber               20.9729      2.730      7.684      0.000      15.623      26.323\n",
       "zip_average_income         0.0028      0.000     22.718      0.000       0.003       0.003\n",
       "Brooklyn               -5.385e+05   4.62e+04    -11.653      0.000   -6.29e+05   -4.48e+05\n",
       "Manhattan              -5.379e+05   4.62e+04    -11.635      0.000   -6.29e+05   -4.47e+05\n",
       "Queens                 -5.384e+05   4.62e+04    -11.654      0.000   -6.29e+05   -4.48e+05\n",
       "Bronx                  -5.392e+05   4.62e+04    -11.661      0.000    -6.3e+05   -4.49e+05\n",
       "Staten Island          -5.404e+05   4.63e+04    -11.681      0.000   -6.31e+05    -4.5e+05\n",
       "==============================================================================\n",
       "Omnibus:                     9404.946   Durbin-Watson:                   1.986\n",
       "Prob(Omnibus):                  0.000   Jarque-Bera (JB):          2729250.280\n",
       "Skew:                           2.491   Prob(JB):                         0.00\n",
       "Kurtosis:                      74.542   Cond. No.                     1.90e+09\n",
       "==============================================================================\n",
       "\n",
       "Warnings:\n",
       "[1] Standard Errors assume that the covariance matrix of the errors is correctly specified.\n",
       "[2] The condition number is large, 1.9e+09. This might indicate that there are\n",
       "strong multicollinearity or other numerical problems.\n",
       "\"\"\""
      ]
     },
     "execution_count": 45,
     "metadata": {},
     "output_type": "execute_result"
    }
   ],
   "source": [
    "mul_reg_features.remove('has_garden')\n",
    "mul_reg_features.remove('year_built')\n",
    "x = md_df[mul_reg_features] \n",
    "y = md_df['rent']\n",
    "est = sm.OLS(y, x).fit()\n",
    "est.summary()"
   ]
  },
  {
   "cell_type": "code",
<<<<<<< HEAD
   "execution_count": 96,
=======
   "execution_count": 46,
>>>>>>> c8cc123baa1c442bb8817105216994b466be80f9
   "metadata": {},
   "outputs": [
    {
     "data": {
      "text/plain": [
<<<<<<< HEAD
       "(1457.5759813737154, 138.63196045471324)"
      ]
     },
     "execution_count": 96,
=======
       "(1460.6244940725974, 208.34319425439102)"
      ]
     },
     "execution_count": 46,
>>>>>>> c8cc123baa1c442bb8817105216994b466be80f9
     "metadata": {},
     "output_type": "execute_result"
    }
   ],
   "source": [
    "mul_reg = LinearRegression().fit(md_df[mul_reg_features], md_df['rent'])\n",
    "get_cv_results(mul_reg)"
   ]
  },
  {
   "cell_type": "markdown",
   "metadata": {},
   "source": [
    "## Gradient Boosting Regression\n",
    "For the gradient boosting regressor we will first set up the hyperparameter max_depth=5 to avoid overfitting, will adjust more hyperparameter as we move on to improve the model\n"
   ]
  },
  {
   "cell_type": "code",
<<<<<<< HEAD
   "execution_count": 97,
=======
   "execution_count": 51,
>>>>>>> c8cc123baa1c442bb8817105216994b466be80f9
   "metadata": {},
   "outputs": [
    {
     "data": {
      "text/plain": [
<<<<<<< HEAD
       "(941.3235058141223, 133.47296904083777)"
      ]
     },
     "execution_count": 97,
=======
       "(937.7246460322434, 126.79831369729641)"
      ]
     },
     "execution_count": 51,
>>>>>>> c8cc123baa1c442bb8817105216994b466be80f9
     "metadata": {},
     "output_type": "execute_result"
    }
   ],
   "source": [
    "gbrdemo = GradientBoostingRegressor(\n",
    "    max_depth=5,\n",
    "    n_estimators=100\n",
    ")\n",
    "\n",
    "get_cv_results(gbrdemo)"
   ]
  },
  {
   "cell_type": "markdown",
   "metadata": {},
   "source": [
    "### Tuning Hyperparameters\n",
    "Now let's use GridSearchCV form sci-kit learn model_selection to tune the hyperparameters, and find the most suitable one for our Gradient Boosting Regression model."
   ]
  },
  {
   "cell_type": "code",
<<<<<<< HEAD
   "execution_count": 98,
=======
   "execution_count": 48,
>>>>>>> c8cc123baa1c442bb8817105216994b466be80f9
   "metadata": {},
   "outputs": [],
   "source": [
    "# Tuning the hyperparameters based on a cross-validation subset (cv)\n",
    "# cited link: link: https://shankarmsy.github.io/stories/gbrt-sklearn.html\n",
    "\n",
    "def GradientBooster():\n",
    "    \n",
    "    param_grid={'n_estimators':[100],\n",
    "            'learning_rate': [0.1, 0.05, 0.01],\n",
    "            'max_depth':[4, 5, 6],\n",
    "            'min_samples_leaf':[3, 5, 9],\n",
    "           }\n",
    "    \n",
    "    # choose cross validation generator and use ShuffleSplit which randomly shuffles and selects Train and CV sets\n",
    "    cv = ShuffleSplit(n_splits=5, test_size=.25, random_state=0)\n",
    "    \n",
    "    classifier = GridSearchCV(estimator = GradientBoostingRegressor(), param_grid=param_grid, n_jobs=4, cv=cv)\n",
    "    \n",
    "    classifier.fit(md_df[features], md_df['rent'])  \n",
    "    return classifier.best_params_"
   ]
  },
  {
   "cell_type": "code",
<<<<<<< HEAD
   "execution_count": 99,
=======
   "execution_count": 49,
>>>>>>> c8cc123baa1c442bb8817105216994b466be80f9
   "metadata": {},
   "outputs": [
    {
     "name": "stdout",
     "output_type": "stream",
     "text": [
      "Since this function takes too long to run, it will waste a lot of time during development,      \n",
      "so we will just record the result for further usage:\n",
      "\n",
      "Best Estimator Parameters:\n",
      "n_estimators:  100\n",
      "max_depth:  6\n",
      "Learning Rate:  0.1\n",
      "min_samples_leaf:  3\n"
     ]
    }
   ],
   "source": [
    "# Since this function takes too long to run, it will waste a lot of time during development,\n",
    "# so we will just record the result for further usage. -----Runmin 11/18/19\n",
    "\"\"\"\n",
    "best_est=GradientBooster()\n",
    "\n",
    "print(\"Best Estimator Parameters:\")\n",
    "print(\"n_estimators: \",best_est['n_estimators'])\n",
    "print(\"max_depth: \", best_est['max_depth'])\n",
    "print(\"Learning Rate: \", best_est['learning_rate'])\n",
    "print(\"min_samples_leaf: \", best_est['min_samples_leaf'])\n",
    "\"\"\"\n",
    "print(\"Since this function takes too long to run, it will waste a lot of time during development,\\\n",
    "      \\nso we will just record the result for further usage:\")\n",
    "print(\"\\nBest Estimator Parameters:\")\n",
    "print(\"n_estimators: \",100)\n",
    "print(\"max_depth: \", 6)\n",
    "print(\"Learning Rate: \", 0.1)\n",
    "print(\"min_samples_leaf: \", 3)"
   ]
  },
  {
   "cell_type": "markdown",
   "metadata": {},
   "source": [
    "As we can see from the result above, we have found the suitable hyperparameters for our model, thus we can use them to check if a better result will be obtained.\n"
   ]
  },
  {
   "cell_type": "code",
<<<<<<< HEAD
   "execution_count": 100,
=======
   "execution_count": 52,
>>>>>>> c8cc123baa1c442bb8817105216994b466be80f9
   "metadata": {},
   "outputs": [
    {
     "data": {
      "text/plain": [
<<<<<<< HEAD
       "(940.9857274966264, 125.10823100801545)"
      ]
     },
     "execution_count": 100,
=======
       "(943.8264562660377, 134.39913631297455)"
      ]
     },
     "execution_count": 52,
>>>>>>> c8cc123baa1c442bb8817105216994b466be80f9
     "metadata": {},
     "output_type": "execute_result"
    }
   ],
   "source": [
    "bettergbr1 = GradientBoostingRegressor(\n",
    "    n_estimators=100,\n",
    "    max_depth=6,\n",
    "    learning_rate=0.1,\n",
    "    min_samples_leaf=3\n",
    ")\n",
    "\n",
    "get_cv_results(bettergbr1)"
   ]
  },
  {
   "cell_type": "markdown",
   "metadata": {},
   "source": [
    "We do see some improvements on the mean squared error after we adjusted the hyperparameter a bit"
   ]
  },
  {
   "cell_type": "markdown",
   "metadata": {},
   "source": [
<<<<<<< HEAD
    "##  Regression Tree Model\n",
    "From definition, decision trees where the target variable can take continuous values (typically real numbers) are called regression trees.\n",
    "Thus, in our case when we do the regression tree model, we actually use the decision tree classifer."
   ]
  },
  {
   "cell_type": "markdown",
   "metadata": {},
   "source": [
    "Train the regression model using default paramater"
   ]
  },
  {
   "cell_type": "code",
   "execution_count": 104,
   "metadata": {},
   "outputs": [
    {
     "data": {
      "text/plain": [
       "DecisionTreeRegressor(criterion='mse', max_depth=None, max_features=None,\n",
       "           max_leaf_nodes=None, min_impurity_decrease=0.0,\n",
       "           min_impurity_split=None, min_samples_leaf=1,\n",
       "           min_samples_split=2, min_weight_fraction_leaf=0.0,\n",
       "           presort=False, random_state=1, splitter='best')"
      ]
     },
     "execution_count": 104,
     "metadata": {},
     "output_type": "execute_result"
    }
   ],
   "source": [
    "regtreemo = DecisionTreeRegressor(\n",
    "    random_state=1, \n",
    "    max_depth=None,\n",
    "    min_samples_leaf=1,\n",
    "    max_features=None,\n",
    "    max_leaf_nodes=None )\n",
    "\n",
    "regtreemo.fit(md_df[features], md_df['rent'])"
   ]
  },
  {
   "cell_type": "code",
   "execution_count": 105,
   "metadata": {},
   "outputs": [
    {
     "data": {
      "text/plain": [
       "(1312.754870493756, 140.28880249450035)"
      ]
     },
     "execution_count": 105,
     "metadata": {},
     "output_type": "execute_result"
    }
   ],
   "source": [
    "get_cv_results(regtreemo)"
   ]
  },
  {
   "cell_type": "markdown",
   "metadata": {},
   "source": [
    "Train the regression model using Hyperparameters that we found, so that we can compare the results among different models better."
   ]
  },
  {
   "cell_type": "code",
   "execution_count": 110,
   "metadata": {},
   "outputs": [
    {
     "data": {
      "text/plain": [
       "DecisionTreeRegressor(criterion='mse', max_depth=6, max_features=None,\n",
       "           max_leaf_nodes=None, min_impurity_decrease=0.0,\n",
       "           min_impurity_split=None, min_samples_leaf=3,\n",
       "           min_samples_split=2, min_weight_fraction_leaf=0.0,\n",
       "           presort=False, random_state=1, splitter='best')"
      ]
     },
     "execution_count": 110,
     "metadata": {},
     "output_type": "execute_result"
    }
   ],
   "source": [
    "newregtreemo = DecisionTreeRegressor(\n",
    "    random_state=1, \n",
    "    max_depth=6,\n",
    "    min_samples_leaf=3 )\n",
    "\n",
    "newregtreemo.fit(md_df[features], md_df['rent'])"
   ]
  },
  {
   "cell_type": "code",
   "execution_count": 111,
   "metadata": {},
   "outputs": [
    {
     "data": {
      "text/plain": [
       "(1192.29561942066, 105.84660622149259)"
      ]
     },
     "execution_count": 111,
     "metadata": {},
     "output_type": "execute_result"
    }
   ],
   "source": [
    "get_cv_results(newregtreemo)"
   ]
  },
  {
   "cell_type": "markdown",
   "metadata": {},
   "source": [
    "As we can see, the regression tree model that uses the Hyperparameters does have better result."
   ]
  },
  {
   "cell_type": "code",
   "execution_count": 112,
   "metadata": {},
   "outputs": [
    {
     "name": "stdout",
     "output_type": "stream",
     "text": [
      "bedrooms   0.009980803820105764\n",
      "bathrooms   0.12346198146019495\n",
      "size_sqft   0.5865574628817865\n",
      "addr_lat   0.01001824188689699\n",
      "addr_lon   0.01619762774759854\n",
      "floor_count   0.009756012709294925\n",
      "year_built   0.00046040901633393985\n",
      "min_to_subway   0.0\n",
      "has_doorman   0.0\n",
      "has_elevator   0.0\n",
      "has_fireplace   0.0\n",
      "has_dishwasher   0.0\n",
      "is_furnished   0.0024018624293293787\n",
      "has_gym   0.0037770817031645833\n",
      "allows_pets   0.0\n",
      "has_washer_dryer   0.0\n",
      "has_garage   0.0\n",
      "has_roofdeck   0.004242993883260748\n",
      "has_concierge   0.0\n",
      "has_pool   0.0\n",
      "has_garden   0.002739323595644321\n",
      "has_childrens_playroom   0.0\n",
      "no_fee   0.0\n",
      "floornumber   0.004549257503541054\n",
      "zip_average_income   0.22585694136284837\n",
      "Brooklyn   0.0\n",
      "Manhattan   0.0\n",
      "Queens   0.0\n",
      "Bronx   0.0\n",
      "Staten Island   0.0\n"
     ]
    }
   ],
   "source": [
    "for feature,score in zip(features,newregtreemo.feature_importances_):\n",
    "    print(feature, ' ', score)"
   ]
  },
  {
   "cell_type": "markdown",
   "metadata": {},
   "source": [
    "### Learning Curve\n",
    "We can use the Learning Curves methods provided in lecture 8"
   ]
  },
  {
   "cell_type": "code",
   "execution_count": null,
   "metadata": {},
   "outputs": [
    {
     "name": "stdout",
     "output_type": "stream",
     "text": [
      "1 2767.396250273562 306.9200799385354\n",
      "3 1940.8014485782874 271.28377394089637\n",
      "5 1564.3250761363574 211.39830880713447\n",
      "7 1696.857683070554 255.14213122570416\n",
      "9 1621.1412715135216 233.0594804753262\n",
      "11 1609.9416301944975 162.69622456453976\n",
      "13 1562.1880465954698 206.13365613266535\n",
      "15 1536.3319858360383 208.45199320734335\n",
      "17 1545.2291191884003 202.13857492116\n",
      "19 1506.88576542285 177.82528630132472\n",
      "21 1488.6704693767226 227.92783012423698\n",
      "23 1448.7377134056833 226.6742733182079\n",
      "25 1448.7377134056833 226.6742733182079\n",
      "27 1448.7377134056833 226.6742733182079\n",
      "29 1448.7377134056833 226.6742733182079\n",
      "31 1448.7377134056833 226.6742733182079\n",
      "33 1448.7377134056833 226.6742733182079\n"
     ]
    }
   ],
   "source": [
    "hp_values = range(1,50, 2)\n",
    "all_mu = []\n",
    "all_sigma = []\n",
    "\n",
    "for m in hp_values:\n",
    "\n",
    "    dtree=DecisionTreeClassifier(\n",
    "        criterion='entropy', \n",
    "        random_state=random_state, \n",
    "        max_depth=m,\n",
    "    )\n",
    "\n",
    "    mu, sigma = get_cv_results(dtree)\n",
    "    all_mu.append(mu)\n",
    "    all_sigma.append(sigma)\n",
    "    \n",
    "    print(m, mu, sigma)"
   ]
  },
  {
   "cell_type": "code",
   "execution_count": null,
   "metadata": {},
   "outputs": [],
   "source": [
    "plt.figure(figsize=(14, 5))\n",
    "plt.plot(hp_values, all_mu)\n",
    "plt.ylabel('Cross Validation Accuracy')\n",
    "plt.xlabel('Max Depth')"
   ]
  },
  {
   "cell_type": "code",
   "execution_count": null,
   "metadata": {},
   "outputs": [],
   "source": [
    "plt.figure(figsize=(14, 5))\n",
    "plt.plot(hp_values, all_sigma)\n",
    "plt.ylabel('Cross Validation Std Dev.')\n",
    "plt.xlabel('Max Depth')"
   ]
  },
  {
   "cell_type": "markdown",
   "metadata": {},
   "source": [
    "### Neural Network"
=======
    "### Neural Network\n",
    "Neural networks are a set of algorithms, modeled loosely after the human brain, that are designed to recognize patterns. They interpret sensory data through a kind of machine perception, labeling or clustering raw input.(source:https://skymind.ai/wiki/neural-network)"
>>>>>>> c8cc123baa1c442bb8817105216994b466be80f9
   ]
  },
  {
   "cell_type": "code",
<<<<<<< HEAD
   "execution_count": null,
   "metadata": {},
   "outputs": [],
   "source": []
  },
  {
   "cell_type": "code",
   "execution_count": null,
=======
   "execution_count": 53,
>>>>>>> c8cc123baa1c442bb8817105216994b466be80f9
   "metadata": {},
   "outputs": [
    {
     "name": "stderr",
     "output_type": "stream",
     "text": [
      "D:\\Anaconda\\lib\\site-packages\\sklearn\\preprocessing\\data.py:645: DataConversionWarning: Data with input dtype int32, int64, float64 were all converted to float64 by StandardScaler.\n",
      "  return self.partial_fit(X, y)\n",
      "D:\\Anaconda\\lib\\site-packages\\sklearn\\base.py:464: DataConversionWarning: Data with input dtype int32, int64, float64 were all converted to float64 by StandardScaler.\n",
      "  return self.fit(X, **fit_params).transform(X)\n"
     ]
    }
   ],
   "source": [
    "scaler = StandardScaler()\n",
    "X = scaler.fit_transform(md_df[features])\n",
    "Y = md_df['rent'].values.reshape(-1,1)\n",
    "\n",
    "train_x, test_x, train_y, test_y = train_test_split(X, Y, test_size=0.2, random_state=42)"
   ]
  },
  {
   "cell_type": "code",
   "execution_count": 54,
   "metadata": {},
   "outputs": [],
   "source": [
    "net = models.Sequential()\n",
    "net.add(layers.Dense(64, input_dim=train_x.shape[1], kernel_regularizer=regularizers.l1(0.1), activation='relu'))\n",
    "net.add(layers.Dropout(0.1))\n",
    "\n",
    "net.add(layers.Dense(64, kernel_regularizer=regularizers.l1(0.1), activation='relu'))\n",
    "net.add(layers.Dropout(0.1))\n",
    "\n",
    "net.add(layers.Dense(128, kernel_regularizer=regularizers.l1(0.1), activation='relu'))\n",
    "net.add(layers.Dropout(0.1))\n",
    "\n",
    "net.add(layers.Dense(256, kernel_regularizer=regularizers.l1(0.1), activation='relu'))\n",
    "net.add(layers.Dropout(0.1))\n",
    "\n",
    "net.add(layers.Dense(1, activation='linear'))\n",
    "\n",
    "net.compile(loss='mean_squared_error',\n",
    "            optimizer='adam',\n",
    "            metrics=['mean_squared_error'])"
   ]
  },
  {
   "cell_type": "code",
   "execution_count": 55,
   "metadata": {},
   "outputs": [
    {
     "name": "stdout",
     "output_type": "stream",
     "text": [
      "Train on 9169 samples, validate on 1019 samples\n",
      "Epoch 1/150\n",
      "9169/9169 [==============================] - 1s 62us/step - loss: 9439488.9872 - mean_squared_error: 9439101.0000 - val_loss: 4170506.5745 - val_mean_squared_error: 4170093.7500\n",
      "Epoch 2/150\n",
      "9169/9169 [==============================] - 0s 39us/step - loss: 1970723.0375 - mean_squared_error: 1970319.0000 - val_loss: 3720449.1812 - val_mean_squared_error: 3720047.7500\n",
      "Epoch 3/150\n",
      "9169/9169 [==============================] - 0s 39us/step - loss: 1797370.9328 - mean_squared_error: 1796976.2500 - val_loss: 3765317.5942 - val_mean_squared_error: 3764927.5000\n",
      "Epoch 4/150\n",
      "9169/9169 [==============================] - 0s 37us/step - loss: 1640128.9020 - mean_squared_error: 1639741.0000 - val_loss: 3692878.1021 - val_mean_squared_error: 3692495.0000\n",
      "Epoch 5/150\n",
      "9169/9169 [==============================] - 0s 38us/step - loss: 1695072.3071 - mean_squared_error: 1694691.1250 - val_loss: 3572261.3766 - val_mean_squared_error: 3571882.5000\n",
      "Epoch 6/150\n",
      "9169/9169 [==============================] - 0s 39us/step - loss: 1596244.1298 - mean_squared_error: 1595868.2500 - val_loss: 3471047.0306 - val_mean_squared_error: 3470671.2500\n",
      "Epoch 7/150\n",
      "9169/9169 [==============================] - 0s 40us/step - loss: 1564279.5620 - mean_squared_error: 1563906.8750 - val_loss: 3551336.5128 - val_mean_squared_error: 3550966.0000\n",
      "Epoch 8/150\n",
      "9169/9169 [==============================] - 0s 38us/step - loss: 1601002.4664 - mean_squared_error: 1600633.0000 - val_loss: 3455062.1896 - val_mean_squared_error: 3454692.7500\n",
      "Epoch 9/150\n",
      "9169/9169 [==============================] - 0s 39us/step - loss: 1473200.7799 - mean_squared_error: 1472833.7500 - val_loss: 3416100.0911 - val_mean_squared_error: 3415731.7500\n",
      "Epoch 10/150\n",
      "9169/9169 [==============================] - 0s 38us/step - loss: 1589916.0063 - mean_squared_error: 1589551.0000 - val_loss: 3458006.0228 - val_mean_squared_error: 3457642.5000\n",
      "Epoch 11/150\n",
      "9169/9169 [==============================] - 0s 36us/step - loss: 1497814.2738 - mean_squared_error: 1497450.2500 - val_loss: 3275849.8268 - val_mean_squared_error: 3275482.7500\n",
      "Epoch 12/150\n",
      "9169/9169 [==============================] - 0s 38us/step - loss: 1475157.9218 - mean_squared_error: 1474793.5000 - val_loss: 3351915.5696 - val_mean_squared_error: 3351551.0000\n",
      "Epoch 13/150\n",
      "9169/9169 [==============================] - 0s 37us/step - loss: 1518612.3166 - mean_squared_error: 1518248.0000 - val_loss: 3340732.5638 - val_mean_squared_error: 3340368.0000\n",
      "Epoch 14/150\n",
      "9169/9169 [==============================] - 0s 38us/step - loss: 1420870.2072 - mean_squared_error: 1420507.2500 - val_loss: 3485093.8314 - val_mean_squared_error: 3484732.0000\n",
      "Epoch 15/150\n",
      "9169/9169 [==============================] - 0s 40us/step - loss: 1428763.1547 - mean_squared_error: 1428400.2500 - val_loss: 3441025.6994 - val_mean_squared_error: 3440663.7500\n",
      "Epoch 16/150\n",
      "9169/9169 [==============================] - 0s 39us/step - loss: 1414727.3692 - mean_squared_error: 1414364.6250 - val_loss: 3490582.4163 - val_mean_squared_error: 3490218.5000\n",
      "Epoch 17/150\n",
      "9169/9169 [==============================] - 0s 37us/step - loss: 1445335.1960 - mean_squared_error: 1444970.3750 - val_loss: 3272036.1998 - val_mean_squared_error: 3271669.0000\n",
      "Epoch 18/150\n",
      "9169/9169 [==============================] - 0s 39us/step - loss: 1403125.8970 - mean_squared_error: 1402759.0000 - val_loss: 3499636.5650 - val_mean_squared_error: 3499272.0000\n",
      "Epoch 19/150\n",
      "9169/9169 [==============================] - 0s 37us/step - loss: 1369728.7888 - mean_squared_error: 1369361.7500 - val_loss: 3166020.4145 - val_mean_squared_error: 3165651.2500\n",
      "Epoch 20/150\n",
      "9169/9169 [==============================] - 0s 38us/step - loss: 1383087.6794 - mean_squared_error: 1382718.5000 - val_loss: 3103298.5524 - val_mean_squared_error: 3102928.2500\n",
      "Epoch 21/150\n",
      "9169/9169 [==============================] - 0s 40us/step - loss: 1355993.8142 - mean_squared_error: 1355622.6250 - val_loss: 3196364.4885 - val_mean_squared_error: 3195993.7500\n",
      "Epoch 22/150\n",
      "9169/9169 [==============================] - 0s 37us/step - loss: 1377255.5201 - mean_squared_error: 1376883.1250 - val_loss: 3000317.9555 - val_mean_squared_error: 2999943.0000\n",
      "Epoch 23/150\n",
      "9169/9169 [==============================] - 0s 39us/step - loss: 1271402.6625 - mean_squared_error: 1271026.7500 - val_loss: 2963711.5430 - val_mean_squared_error: 2963334.5000\n",
      "Epoch 24/150\n",
      "9169/9169 [==============================] - 0s 39us/step - loss: 1332556.0191 - mean_squared_error: 1332177.7500 - val_loss: 3034633.4430 - val_mean_squared_error: 3034255.2500\n",
      "Epoch 25/150\n",
      "9169/9169 [==============================] - 0s 38us/step - loss: 1267105.5327 - mean_squared_error: 1266726.0000 - val_loss: 2847419.5056 - val_mean_squared_error: 2847035.0000\n",
      "Epoch 26/150\n",
      "9169/9169 [==============================] - 0s 38us/step - loss: 1251319.9484 - mean_squared_error: 1250935.8750 - val_loss: 2812194.5502 - val_mean_squared_error: 2811808.5000\n",
      "Epoch 27/150\n",
      "9169/9169 [==============================] - 0s 40us/step - loss: 1213532.3891 - mean_squared_error: 1213145.8750 - val_loss: 2865057.7426 - val_mean_squared_error: 2864670.5000\n",
      "Epoch 28/150\n",
      "9169/9169 [==============================] - 0s 39us/step - loss: 1199320.8544 - mean_squared_error: 1198931.8750 - val_loss: 2715955.8043 - val_mean_squared_error: 2715565.2500\n",
      "Epoch 29/150\n",
      "9169/9169 [==============================] - 0s 39us/step - loss: 1284728.2508 - mean_squared_error: 1284336.1250 - val_loss: 2875145.5043 - val_mean_squared_error: 2874755.0000\n",
      "Epoch 30/150\n",
      "9169/9169 [==============================] - 0s 39us/step - loss: 1196054.8530 - mean_squared_error: 1195661.5000 - val_loss: 2562893.0371 - val_mean_squared_error: 2562496.0000\n",
      "Epoch 31/150\n",
      "9169/9169 [==============================] - 0s 39us/step - loss: 1166732.0119 - mean_squared_error: 1166337.0000 - val_loss: 2533730.5891 - val_mean_squared_error: 2533332.5000\n",
      "Epoch 32/150\n",
      "9169/9169 [==============================] - 0s 39us/step - loss: 1176424.8852 - mean_squared_error: 1176026.1250 - val_loss: 2796328.1454 - val_mean_squared_error: 2795929.5000\n",
      "Epoch 33/150\n",
      "9169/9169 [==============================] - 0s 38us/step - loss: 1123723.8253 - mean_squared_error: 1123323.2500 - val_loss: 2786264.1390 - val_mean_squared_error: 2785864.7500\n",
      "Epoch 34/150\n",
      "9169/9169 [==============================] - 0s 39us/step - loss: 1111608.0092 - mean_squared_error: 1111205.1250 - val_loss: 2330362.0248 - val_mean_squared_error: 2329955.7500\n",
      "Epoch 35/150\n",
      "9169/9169 [==============================] - 0s 37us/step - loss: 1125652.8573 - mean_squared_error: 1125247.1250 - val_loss: 2373442.7544 - val_mean_squared_error: 2373034.2500\n",
      "Epoch 36/150\n",
      "9169/9169 [==============================] - 0s 36us/step - loss: 1105536.2080 - mean_squared_error: 1105127.6250 - val_loss: 2846539.1882 - val_mean_squared_error: 2846133.0000\n",
      "Epoch 37/150\n",
      "9169/9169 [==============================] - 0s 39us/step - loss: 1117300.5705 - mean_squared_error: 1116890.7500 - val_loss: 2405749.9021 - val_mean_squared_error: 2405338.7500\n",
      "Epoch 38/150\n",
      "9169/9169 [==============================] - 0s 38us/step - loss: 1109102.0278 - mean_squared_error: 1108690.6250 - val_loss: 2459113.2724 - val_mean_squared_error: 2458701.5000\n",
      "Epoch 39/150\n",
      "9169/9169 [==============================] - 0s 39us/step - loss: 1105413.9463 - mean_squared_error: 1105000.7500 - val_loss: 2679040.3205 - val_mean_squared_error: 2678627.2500\n",
      "Epoch 40/150\n",
      "9169/9169 [==============================] - 0s 40us/step - loss: 1065116.4535 - mean_squared_error: 1064699.6250 - val_loss: 2558920.5222 - val_mean_squared_error: 2558504.2500\n",
      "Epoch 41/150\n",
      "9169/9169 [==============================] - 0s 37us/step - loss: 1040853.5620 - mean_squared_error: 1040435.6250 - val_loss: 2289326.2152 - val_mean_squared_error: 2288906.2500\n",
      "Epoch 42/150\n",
      "9169/9169 [==============================] - 0s 37us/step - loss: 1043279.4229 - mean_squared_error: 1042859.9375 - val_loss: 2420448.2407 - val_mean_squared_error: 2420028.7500\n",
      "Epoch 43/150\n",
      "9169/9169 [==============================] - 0s 37us/step - loss: 1031340.5532 - mean_squared_error: 1030918.8125 - val_loss: 2630894.1705 - val_mean_squared_error: 2630474.5000\n"
     ]
    },
    {
     "name": "stdout",
     "output_type": "stream",
     "text": [
      "Epoch 44/150\n",
      "9169/9169 [==============================] - 0s 38us/step - loss: 1121335.7541 - mean_squared_error: 1120913.7500 - val_loss: 2383597.2294 - val_mean_squared_error: 2383174.5000\n",
      "Epoch 45/150\n",
      "9169/9169 [==============================] - 0s 36us/step - loss: 981618.4525 - mean_squared_error: 981193.0000 - val_loss: 2193254.7223 - val_mean_squared_error: 2192825.7500\n",
      "Epoch 46/150\n",
      "9169/9169 [==============================] - 0s 37us/step - loss: 1011763.1615 - mean_squared_error: 1011335.3125 - val_loss: 2532054.0707 - val_mean_squared_error: 2531628.0000\n",
      "Epoch 47/150\n",
      "9169/9169 [==============================] - 0s 37us/step - loss: 990110.7172 - mean_squared_error: 989682.6250 - val_loss: 2208455.8214 - val_mean_squared_error: 2208024.5000\n",
      "Epoch 48/150\n",
      "9169/9169 [==============================] - 0s 36us/step - loss: 984393.7737 - mean_squared_error: 983962.0625 - val_loss: 2231541.6372 - val_mean_squared_error: 2231108.2500\n",
      "Epoch 49/150\n",
      "9169/9169 [==============================] - 0s 37us/step - loss: 1008631.9918 - mean_squared_error: 1008198.7500 - val_loss: 2102857.4831 - val_mean_squared_error: 2102421.7500\n",
      "Epoch 50/150\n",
      "9169/9169 [==============================] - 0s 38us/step - loss: 996180.1548 - mean_squared_error: 995743.6875 - val_loss: 2297094.6963 - val_mean_squared_error: 2296657.5000\n",
      "Epoch 51/150\n",
      "9169/9169 [==============================] - 0s 40us/step - loss: 959741.9665 - mean_squared_error: 959304.3750 - val_loss: 2146321.5751 - val_mean_squared_error: 2145882.5000\n",
      "Epoch 52/150\n",
      "9169/9169 [==============================] - 0s 37us/step - loss: 1089584.5100 - mean_squared_error: 1089145.8750 - val_loss: 2183665.3531 - val_mean_squared_error: 2183226.2500\n",
      "Epoch 53/150\n",
      "9169/9169 [==============================] - 0s 36us/step - loss: 971654.3757 - mean_squared_error: 971214.2500 - val_loss: 2125312.2901 - val_mean_squared_error: 2124872.0000\n",
      "Epoch 54/150\n",
      "9169/9169 [==============================] - 0s 38us/step - loss: 915068.0442 - mean_squared_error: 914627.0625 - val_loss: 2210768.0422 - val_mean_squared_error: 2210326.7500\n",
      "Epoch 55/150\n",
      "9169/9169 [==============================] - 0s 38us/step - loss: 954923.6707 - mean_squared_error: 954481.0000 - val_loss: 2229806.7147 - val_mean_squared_error: 2229364.0000\n",
      "Epoch 56/150\n",
      "9169/9169 [==============================] - 0s 36us/step - loss: 953045.0492 - mean_squared_error: 952600.0000 - val_loss: 2131690.4118 - val_mean_squared_error: 2131245.7500\n",
      "Epoch 57/150\n",
      "9169/9169 [==============================] - 0s 38us/step - loss: 943547.6091 - mean_squared_error: 943102.3125 - val_loss: 2162201.9081 - val_mean_squared_error: 2161756.0000\n",
      "Epoch 58/150\n",
      "9169/9169 [==============================] - 0s 38us/step - loss: 920047.2412 - mean_squared_error: 919601.2500 - val_loss: 2187061.6433 - val_mean_squared_error: 2186615.0000\n",
      "Epoch 59/150\n",
      "9169/9169 [==============================] - 0s 37us/step - loss: 927407.0886 - mean_squared_error: 926958.6250 - val_loss: 2047010.7948 - val_mean_squared_error: 2046559.5000\n",
      "Epoch 60/150\n",
      "9169/9169 [==============================] - 0s 37us/step - loss: 944442.8879 - mean_squared_error: 943991.8750 - val_loss: 1996317.3138 - val_mean_squared_error: 1995865.3750\n",
      "Epoch 61/150\n",
      "9169/9169 [==============================] - 0s 38us/step - loss: 919205.1368 - mean_squared_error: 918752.5000 - val_loss: 2060325.4095 - val_mean_squared_error: 2059870.3750\n",
      "Epoch 62/150\n",
      "9169/9169 [==============================] - 0s 36us/step - loss: 950160.1218 - mean_squared_error: 949703.8750 - val_loss: 2157844.2149 - val_mean_squared_error: 2157389.5000\n",
      "Epoch 63/150\n",
      "9169/9169 [==============================] - 0s 37us/step - loss: 923798.7828 - mean_squared_error: 923341.6875 - val_loss: 2110157.5483 - val_mean_squared_error: 2109700.5000\n",
      "Epoch 64/150\n",
      "9169/9169 [==============================] - 0s 37us/step - loss: 923250.9344 - mean_squared_error: 922793.7500 - val_loss: 2121165.0737 - val_mean_squared_error: 2120707.7500\n",
      "Epoch 65/150\n",
      "9169/9169 [==============================] - 0s 38us/step - loss: 915690.1401 - mean_squared_error: 915232.6250 - val_loss: 2202204.8276 - val_mean_squared_error: 2201746.7500\n",
      "Epoch 66/150\n",
      "9169/9169 [==============================] - 0s 37us/step - loss: 902587.7329 - mean_squared_error: 902126.8125 - val_loss: 2031276.4708 - val_mean_squared_error: 2030813.8750\n",
      "Epoch 67/150\n",
      "9169/9169 [==============================] - 0s 37us/step - loss: 925217.1100 - mean_squared_error: 924754.3125 - val_loss: 2305255.5623 - val_mean_squared_error: 2304795.7500\n",
      "Epoch 68/150\n",
      "9169/9169 [==============================] - 0s 38us/step - loss: 889163.6373 - mean_squared_error: 888701.8125 - val_loss: 1951906.8672 - val_mean_squared_error: 1951443.2500\n",
      "Epoch 69/150\n",
      "9169/9169 [==============================] - 0s 38us/step - loss: 893270.3485 - mean_squared_error: 892805.1250 - val_loss: 1937685.0872 - val_mean_squared_error: 1937217.5000\n",
      "Epoch 70/150\n",
      "9169/9169 [==============================] - 0s 36us/step - loss: 914038.4202 - mean_squared_error: 913572.8750 - val_loss: 1851597.7471 - val_mean_squared_error: 1851130.8750\n",
      "Epoch 71/150\n",
      "9169/9169 [==============================] - 0s 38us/step - loss: 903473.2677 - mean_squared_error: 903006.6875 - val_loss: 1964939.3229 - val_mean_squared_error: 1964473.0000\n",
      "Epoch 72/150\n",
      "9169/9169 [==============================] - 0s 37us/step - loss: 835959.8139 - mean_squared_error: 835492.8125 - val_loss: 1785551.3513 - val_mean_squared_error: 1785081.8750\n",
      "Epoch 73/150\n",
      "9169/9169 [==============================] - 0s 37us/step - loss: 903120.2754 - mean_squared_error: 902650.6875 - val_loss: 2103145.2126 - val_mean_squared_error: 2102673.5000\n",
      "Epoch 74/150\n",
      "9169/9169 [==============================] - 0s 38us/step - loss: 845351.4770 - mean_squared_error: 844878.8125 - val_loss: 2399958.9932 - val_mean_squared_error: 2399488.0000\n",
      "Epoch 75/150\n",
      "9169/9169 [==============================] - 0s 38us/step - loss: 949245.3677 - mean_squared_error: 948769.4375 - val_loss: 2279672.0728 - val_mean_squared_error: 2279199.5000\n",
      "Epoch 76/150\n",
      "9169/9169 [==============================] - 0s 36us/step - loss: 961487.1714 - mean_squared_error: 961013.1250 - val_loss: 1923670.0774 - val_mean_squared_error: 1923195.2500\n",
      "Epoch 77/150\n",
      "9169/9169 [==============================] - 0s 38us/step - loss: 843698.6336 - mean_squared_error: 843222.6875 - val_loss: 2147851.2890 - val_mean_squared_error: 2147377.0000\n",
      "Epoch 78/150\n",
      "9169/9169 [==============================] - 0s 36us/step - loss: 876264.7053 - mean_squared_error: 875788.3125 - val_loss: 2597513.2598 - val_mean_squared_error: 2597040.5000\n",
      "Epoch 79/150\n",
      "9169/9169 [==============================] - 0s 36us/step - loss: 858005.9032 - mean_squared_error: 857529.3750 - val_loss: 2300754.6723 - val_mean_squared_error: 2300280.7500\n",
      "Epoch 80/150\n",
      "9169/9169 [==============================] - 0s 37us/step - loss: 815825.1284 - mean_squared_error: 815346.5625 - val_loss: 2217687.3454 - val_mean_squared_error: 2217211.5000\n",
      "Epoch 81/150\n",
      "9169/9169 [==============================] - 0s 37us/step - loss: 860917.7025 - mean_squared_error: 860439.5625 - val_loss: 1972286.7346 - val_mean_squared_error: 1971806.6250\n",
      "Epoch 82/150\n",
      "9169/9169 [==============================] - 0s 36us/step - loss: 827432.5984 - mean_squared_error: 826953.6250 - val_loss: 1812656.3881 - val_mean_squared_error: 1812174.2500\n",
      "Epoch 83/150\n",
      "9169/9169 [==============================] - 0s 36us/step - loss: 902384.2609 - mean_squared_error: 901904.7500 - val_loss: 1774647.7801 - val_mean_squared_error: 1774166.6250\n",
      "Epoch 84/150\n",
      "9169/9169 [==============================] - 0s 39us/step - loss: 828149.0947 - mean_squared_error: 827667.7500 - val_loss: 1989416.3407 - val_mean_squared_error: 1988935.5000\n",
      "Epoch 85/150\n",
      "9169/9169 [==============================] - 0s 36us/step - loss: 866686.4784 - mean_squared_error: 866203.6250 - val_loss: 1909215.2988 - val_mean_squared_error: 1908731.1250\n",
      "Epoch 86/150\n",
      "9169/9169 [==============================] - 0s 37us/step - loss: 907806.3745 - mean_squared_error: 907320.5000 - val_loss: 2033241.5653 - val_mean_squared_error: 2032756.3750\n",
      "Epoch 87/150\n"
     ]
    },
    {
     "name": "stdout",
     "output_type": "stream",
     "text": [
      "9169/9169 [==============================] - 0s 38us/step - loss: 854978.2572 - mean_squared_error: 854492.0000 - val_loss: 1699034.4030 - val_mean_squared_error: 1698544.3750\n",
      "Epoch 88/150\n",
      "9169/9169 [==============================] - 0s 36us/step - loss: 860579.5763 - mean_squared_error: 860091.1875 - val_loss: 1751091.9441 - val_mean_squared_error: 1750598.8750\n",
      "Epoch 89/150\n",
      "9169/9169 [==============================] - 0s 36us/step - loss: 783979.6717 - mean_squared_error: 783489.8750 - val_loss: 1841920.3186 - val_mean_squared_error: 1841429.1250\n",
      "Epoch 90/150\n",
      "9169/9169 [==============================] - 0s 39us/step - loss: 807682.9576 - mean_squared_error: 807191.3750 - val_loss: 1850560.8928 - val_mean_squared_error: 1850067.7500\n",
      "Epoch 91/150\n",
      "9169/9169 [==============================] - 0s 36us/step - loss: 819229.5413 - mean_squared_error: 818737.6250 - val_loss: 2097258.3710 - val_mean_squared_error: 2096766.3750\n",
      "Epoch 92/150\n",
      "9169/9169 [==============================] - 0s 37us/step - loss: 769031.9514 - mean_squared_error: 768537.8750 - val_loss: 1871964.0149 - val_mean_squared_error: 1871467.1250\n",
      "Epoch 93/150\n",
      "9169/9169 [==============================] - 0s 38us/step - loss: 793991.9685 - mean_squared_error: 793494.5625 - val_loss: 2068356.4143 - val_mean_squared_error: 2067859.8750\n",
      "Epoch 94/150\n",
      "9169/9169 [==============================] - 0s 36us/step - loss: 767399.4476 - mean_squared_error: 766902.0625 - val_loss: 1849853.0783 - val_mean_squared_error: 1849357.5000\n",
      "Epoch 95/150\n",
      "9169/9169 [==============================] - 0s 37us/step - loss: 774442.2222 - mean_squared_error: 773945.3125 - val_loss: 1849909.0934 - val_mean_squared_error: 1849411.2500\n",
      "Epoch 96/150\n",
      "9169/9169 [==============================] - 0s 37us/step - loss: 783518.4959 - mean_squared_error: 783021.5625 - val_loss: 1784178.2515 - val_mean_squared_error: 1783680.6250\n",
      "Epoch 97/150\n",
      "9169/9169 [==============================] - 0s 37us/step - loss: 827438.6709 - mean_squared_error: 826943.0000 - val_loss: 1741996.6000 - val_mean_squared_error: 1741496.2500\n",
      "Epoch 98/150\n",
      "9169/9169 [==============================] - 0s 36us/step - loss: 835502.4325 - mean_squared_error: 835003.6875 - val_loss: 2083319.9345 - val_mean_squared_error: 2082823.3750\n",
      "Epoch 99/150\n",
      "9169/9169 [==============================] - 0s 37us/step - loss: 794846.2996 - mean_squared_error: 794347.0000 - val_loss: 1751893.4894 - val_mean_squared_error: 1751392.6250\n",
      "Epoch 100/150\n",
      "9169/9169 [==============================] - 0s 38us/step - loss: 794922.6306 - mean_squared_error: 794420.6250 - val_loss: 1798860.6330 - val_mean_squared_error: 1798356.8750\n",
      "Epoch 101/150\n",
      "9169/9169 [==============================] - 0s 36us/step - loss: 789981.3137 - mean_squared_error: 789476.5000 - val_loss: 1861134.3285 - val_mean_squared_error: 1860631.6250\n",
      "Epoch 102/150\n",
      "9169/9169 [==============================] - 0s 37us/step - loss: 791444.9540 - mean_squared_error: 790940.8125 - val_loss: 1964784.0574 - val_mean_squared_error: 1964279.3750\n",
      "Epoch 103/150\n",
      "9169/9169 [==============================] - 0s 38us/step - loss: 805464.5772 - mean_squared_error: 804958.6250 - val_loss: 1972061.7788 - val_mean_squared_error: 1971555.1250\n",
      "Epoch 104/150\n",
      "9169/9169 [==============================] - 0s 36us/step - loss: 773719.9047 - mean_squared_error: 773212.3750 - val_loss: 2328336.2404 - val_mean_squared_error: 2327829.2500\n",
      "Epoch 105/150\n",
      "9169/9169 [==============================] - 0s 36us/step - loss: 729083.3140 - mean_squared_error: 728574.1875 - val_loss: 1676733.6223 - val_mean_squared_error: 1676221.1250\n",
      "Epoch 106/150\n",
      "9169/9169 [==============================] - 0s 38us/step - loss: 777853.6930 - mean_squared_error: 777343.0625 - val_loss: 1715149.7554 - val_mean_squared_error: 1714637.5000\n",
      "Epoch 107/150\n",
      "9169/9169 [==============================] - 0s 36us/step - loss: 773973.8626 - mean_squared_error: 773461.2500 - val_loss: 1855472.5684 - val_mean_squared_error: 1854956.7500\n",
      "Epoch 108/150\n",
      "9169/9169 [==============================] - 0s 37us/step - loss: 834779.7323 - mean_squared_error: 834264.8125 - val_loss: 2133312.3716 - val_mean_squared_error: 2132804.0000\n",
      "Epoch 109/150\n",
      "9169/9169 [==============================] - 0s 37us/step - loss: 749269.3655 - mean_squared_error: 748757.3125 - val_loss: 1949322.1233 - val_mean_squared_error: 1948808.3750\n",
      "Epoch 110/150\n",
      "9169/9169 [==============================] - 0s 37us/step - loss: 820300.1411 - mean_squared_error: 819784.6875 - val_loss: 1985574.1025 - val_mean_squared_error: 1985059.6250\n",
      "Epoch 111/150\n",
      "9169/9169 [==============================] - 0s 36us/step - loss: 801975.1418 - mean_squared_error: 801460.5000 - val_loss: 1563288.2436 - val_mean_squared_error: 1562771.3750\n",
      "Epoch 112/150\n",
      "9169/9169 [==============================] - 0s 38us/step - loss: 804683.7571 - mean_squared_error: 804168.4375 - val_loss: 1640819.2005 - val_mean_squared_error: 1640301.7500\n",
      "Epoch 113/150\n",
      "9169/9169 [==============================] - 0s 38us/step - loss: 860815.4826 - mean_squared_error: 860299.1250 - val_loss: 2166126.0705 - val_mean_squared_error: 2165611.5000\n",
      "Epoch 114/150\n",
      "9169/9169 [==============================] - 0s 38us/step - loss: 768573.2444 - mean_squared_error: 768056.8125 - val_loss: 1977155.0120 - val_mean_squared_error: 1976638.6250\n",
      "Epoch 115/150\n",
      "9169/9169 [==============================] - 0s 36us/step - loss: 780527.3396 - mean_squared_error: 780011.4375 - val_loss: 2168007.8606 - val_mean_squared_error: 2167494.0000\n",
      "Epoch 116/150\n",
      "9169/9169 [==============================] - 0s 38us/step - loss: 718657.3625 - mean_squared_error: 718139.7500 - val_loss: 1935212.9551 - val_mean_squared_error: 1934694.5000\n",
      "Epoch 117/150\n",
      "9169/9169 [==============================] - 0s 36us/step - loss: 764255.9493 - mean_squared_error: 763737.7500 - val_loss: 1960153.8223 - val_mean_squared_error: 1959636.6250\n",
      "Epoch 118/150\n",
      "9169/9169 [==============================] - 0s 37us/step - loss: 770465.6162 - mean_squared_error: 769946.8750 - val_loss: 2267663.4099 - val_mean_squared_error: 2267147.2500\n",
      "Epoch 119/150\n",
      "9169/9169 [==============================] - 0s 38us/step - loss: 715971.3235 - mean_squared_error: 715452.0000 - val_loss: 1822045.6524 - val_mean_squared_error: 1821523.2500\n",
      "Epoch 120/150\n",
      "9169/9169 [==============================] - 0s 37us/step - loss: 791765.6871 - mean_squared_error: 791244.9375 - val_loss: 1860796.7592 - val_mean_squared_error: 1860275.8750\n",
      "Epoch 121/150\n",
      "9169/9169 [==============================] - 0s 37us/step - loss: 693654.0691 - mean_squared_error: 693130.5625 - val_loss: 1709208.9338 - val_mean_squared_error: 1708685.0000\n",
      "Epoch 122/150\n",
      "9169/9169 [==============================] - 0s 40us/step - loss: 699726.1003 - mean_squared_error: 699199.3125 - val_loss: 1860015.3484 - val_mean_squared_error: 1859488.2500\n",
      "Epoch 123/150\n",
      "9169/9169 [==============================] - 0s 37us/step - loss: 790860.4992 - mean_squared_error: 790333.9375 - val_loss: 2482469.6968 - val_mean_squared_error: 2481944.0000\n",
      "Epoch 124/150\n",
      "9169/9169 [==============================] - 0s 39us/step - loss: 782360.8308 - mean_squared_error: 781832.6875 - val_loss: 1995286.3935 - val_mean_squared_error: 1994760.6250\n",
      "Epoch 125/150\n",
      "9169/9169 [==============================] - 0s 40us/step - loss: 732010.2550 - mean_squared_error: 731480.7500 - val_loss: 1771204.9268 - val_mean_squared_error: 1770674.6250\n",
      "Epoch 126/150\n",
      "9169/9169 [==============================] - 0s 37us/step - loss: 688655.1763 - mean_squared_error: 688126.5000 - val_loss: 1860247.0687 - val_mean_squared_error: 1859717.0000\n",
      "Epoch 127/150\n",
      "9169/9169 [==============================] - 0s 37us/step - loss: 657413.7818 - mean_squared_error: 656883.9375 - val_loss: 1629502.7453 - val_mean_squared_error: 1628971.7500\n",
      "Epoch 128/150\n",
      "9169/9169 [==============================] - 0s 40us/step - loss: 731601.4402 - mean_squared_error: 731072.4375 - val_loss: 1924744.6528 - val_mean_squared_error: 1924215.8750\n",
      "Epoch 129/150\n",
      "9169/9169 [==============================] - 0s 38us/step - loss: 718895.7112 - mean_squared_error: 718366.3125 - val_loss: 1720534.5915 - val_mean_squared_error: 1720005.1250\n",
      "Epoch 130/150\n"
     ]
    },
    {
     "name": "stdout",
     "output_type": "stream",
     "text": [
      "9169/9169 [==============================] - 0s 38us/step - loss: 763063.6135 - mean_squared_error: 762536.1250 - val_loss: 1957301.6408 - val_mean_squared_error: 1956773.6250\n",
      "Epoch 131/150\n",
      "9169/9169 [==============================] - 0s 37us/step - loss: 737854.5669 - mean_squared_error: 737323.8750 - val_loss: 1869961.2300 - val_mean_squared_error: 1869428.1250\n",
      "Epoch 132/150\n",
      "9169/9169 [==============================] - 0s 38us/step - loss: 663983.6154 - mean_squared_error: 663448.8750 - val_loss: 1679475.4725 - val_mean_squared_error: 1678939.2500\n",
      "Epoch 133/150\n",
      "9169/9169 [==============================] - 0s 37us/step - loss: 763707.5336 - mean_squared_error: 763173.5625 - val_loss: 1800012.7746 - val_mean_squared_error: 1799477.6250\n",
      "Epoch 134/150\n",
      "9169/9169 [==============================] - 0s 37us/step - loss: 749428.0405 - mean_squared_error: 748892.0625 - val_loss: 1981046.4145 - val_mean_squared_error: 1980511.5000\n",
      "Epoch 135/150\n",
      "9169/9169 [==============================] - 0s 39us/step - loss: 662876.3919 - mean_squared_error: 662337.5625 - val_loss: 1771924.4550 - val_mean_squared_error: 1771384.6250\n",
      "Epoch 136/150\n",
      "9169/9169 [==============================] - 0s 39us/step - loss: 700291.9745 - mean_squared_error: 699752.9375 - val_loss: 1708549.3052 - val_mean_squared_error: 1708008.2500\n",
      "Epoch 137/150\n",
      "9169/9169 [==============================] - 0s 38us/step - loss: 834977.7621 - mean_squared_error: 834438.6250 - val_loss: 1900445.8898 - val_mean_squared_error: 1899907.1250\n",
      "Epoch 138/150\n",
      "9169/9169 [==============================] - 0s 38us/step - loss: 684194.7269 - mean_squared_error: 683655.5000 - val_loss: 1745928.1769 - val_mean_squared_error: 1745387.3750\n",
      "Epoch 139/150\n",
      "9169/9169 [==============================] - 0s 38us/step - loss: 712863.0508 - mean_squared_error: 712321.7500 - val_loss: 1670054.1609 - val_mean_squared_error: 1669509.6250\n",
      "Epoch 140/150\n",
      "9169/9169 [==============================] - 0s 37us/step - loss: 796698.9537 - mean_squared_error: 796157.0000 - val_loss: 2832716.7314 - val_mean_squared_error: 2832179.5000\n",
      "Epoch 141/150\n",
      "9169/9169 [==============================] - 0s 39us/step - loss: 754687.1297 - mean_squared_error: 754147.0625 - val_loss: 1853257.4616 - val_mean_squared_error: 1852717.1250\n",
      "Epoch 142/150\n",
      "9169/9169 [==============================] - 0s 38us/step - loss: 716748.0648 - mean_squared_error: 716209.2500 - val_loss: 2029988.0517 - val_mean_squared_error: 2029449.6250\n",
      "Epoch 143/150\n",
      "9169/9169 [==============================] - 0s 38us/step - loss: 710929.9865 - mean_squared_error: 710390.3750 - val_loss: 1725646.3693 - val_mean_squared_error: 1725101.6250\n",
      "Epoch 144/150\n",
      "9169/9169 [==============================] - 0s 39us/step - loss: 677514.7426 - mean_squared_error: 676970.3125 - val_loss: 1816808.2936 - val_mean_squared_error: 1816262.2500\n",
      "Epoch 145/150\n",
      "9169/9169 [==============================] - 0s 38us/step - loss: 670460.8452 - mean_squared_error: 669915.0000 - val_loss: 1833231.8419 - val_mean_squared_error: 1832687.7500\n",
      "Epoch 146/150\n",
      "9169/9169 [==============================] - 0s 38us/step - loss: 714986.1150 - mean_squared_error: 714441.2500 - val_loss: 2069749.8120 - val_mean_squared_error: 2069206.8750\n",
      "Epoch 147/150\n",
      "9169/9169 [==============================] - 0s 39us/step - loss: 657591.4950 - mean_squared_error: 657046.2500 - val_loss: 1690595.1538 - val_mean_squared_error: 1690049.5000\n",
      "Epoch 148/150\n",
      "9169/9169 [==============================] - 0s 38us/step - loss: 617505.1488 - mean_squared_error: 616959.1875 - val_loss: 1924021.6623 - val_mean_squared_error: 1923475.6250\n",
      "Epoch 149/150\n",
      "9169/9169 [==============================] - 0s 38us/step - loss: 695989.3545 - mean_squared_error: 695441.3750 - val_loss: 1772284.5121 - val_mean_squared_error: 1771735.5000\n",
      "Epoch 150/150\n",
      "9169/9169 [==============================] - 0s 39us/step - loss: 699532.7028 - mean_squared_error: 698983.1250 - val_loss: 2239376.6157 - val_mean_squared_error: 2238829.2500\n"
     ]
    },
    {
     "data": {
      "text/plain": [
       "<keras.callbacks.callbacks.History at 0x25bbd327f08>"
      ]
     },
     "execution_count": 55,
     "metadata": {},
     "output_type": "execute_result"
    }
   ],
   "source": [
    "net.fit(train_x, train_y, epochs=150, batch_size=64, validation_split = 0.1)"
   ]
  },
  {
   "cell_type": "code",
   "execution_count": 56,
   "metadata": {},
   "outputs": [
    {
     "data": {
      "text/plain": [
       "1373529.171673119"
      ]
     },
     "execution_count": 56,
     "metadata": {},
     "output_type": "execute_result"
    }
   ],
   "source": [
    "mean_squared_error(test_y, net.predict(test_x))"
   ]
  },
  {
   "cell_type": "markdown",
   "metadata": {},
   "source": [
    "**Although the DL Neural Network seems to provide a better result on mean squared errors but it is really unstable** \n",
    "\n",
    "we have ran few test run on it, and each time it gives different results range from 853411.6171418771 to around 1,300,000.\n",
    "Therefore, we might still choose Gradient Boosting Regression as the most suitable model, since it provides a overall better result."
   ]
  },
  {
   "cell_type": "code",
   "execution_count": 3,
   "metadata": {},
   "outputs": [
    {
     "ename": "NameError",
     "evalue": "name 'raw_df' is not defined",
     "output_type": "error",
     "traceback": [
      "\u001b[1;31m---------------------------------------------------------------------------\u001b[0m",
      "\u001b[1;31mNameError\u001b[0m                                 Traceback (most recent call last)",
      "\u001b[1;32m<ipython-input-3-36d9c50b8a9d>\u001b[0m in \u001b[0;36m<module>\u001b[1;34m\u001b[0m\n\u001b[1;32m----> 1\u001b[1;33m \u001b[0mraw_df\u001b[0m\u001b[1;33m.\u001b[0m\u001b[0mhead\u001b[0m\u001b[1;33m(\u001b[0m\u001b[1;36m5\u001b[0m\u001b[1;33m)\u001b[0m\u001b[1;33m\u001b[0m\u001b[1;33m\u001b[0m\u001b[0m\n\u001b[0m",
      "\u001b[1;31mNameError\u001b[0m: name 'raw_df' is not defined"
     ]
    }
   ],
   "source": [
    "raw_df.head(5)"
   ]
  },
  {
   "cell_type": "code",
   "execution_count": null,
   "metadata": {},
   "outputs": [],
   "source": []
  }
 ],
 "metadata": {
  "anaconda-cloud": {},
  "colab": {
   "collapsed_sections": [],
   "name": "main.ipynb",
   "provenance": []
  },
  "kernelspec": {
   "display_name": "Python 3",
   "language": "python",
   "name": "python3"
  },
  "language_info": {
   "codemirror_mode": {
    "name": "ipython",
    "version": 3
   },
   "file_extension": ".py",
   "mimetype": "text/x-python",
   "name": "python",
   "nbconvert_exporter": "python",
   "pygments_lexer": "ipython3",
   "version": "3.7.4"
  }
 },
 "nbformat": 4,
 "nbformat_minor": 1
}

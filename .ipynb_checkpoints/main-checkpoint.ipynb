{
 "cells": [
  {
   "cell_type": "code",
   "execution_count": 1,
   "metadata": {},
   "outputs": [
    {
     "name": "stderr",
     "output_type": "stream",
     "text": [
      "Using TensorFlow backend.\n"
     ]
    }
   ],
   "source": [
    "import numpy as np\n",
    "import pandas as pd\n",
    "import matplotlib.pyplot as plt\n",
    "import seaborn as sns\n",
    "import statsmodels.api as sm\n",
    "import csv\n",
    "import warnings\n",
    "from sklearn.linear_model import LinearRegression\n",
    "from sklearn.ensemble import RandomForestRegressor, GradientBoostingRegressor\n",
    "from sklearn import preprocessing\n",
    "from sklearn.model_selection import KFold\n",
    "from sklearn.utils import shuffle\n",
    "from sklearn.metrics import mean_squared_error\n",
    "from sklearn.preprocessing import StandardScaler\n",
    "from keras import models, layers, optimizers, regularizers\n",
    "from sklearn.model_selection import train_test_split, ShuffleSplit, GridSearchCV\n",
    "from keras import regularizers\n",
    "%matplotlib inline"
   ]
  },
  {
   "cell_type": "code",
   "execution_count": 2,
   "metadata": {
    "colab": {
     "base_uri": "https://localhost:8080/",
     "height": 173
    },
    "colab_type": "code",
    "id": "O3bd5Le9C1yG",
    "outputId": "01b85a52-799e-4075-ffce-c1820b0035c5",
    "scrolled": true
   },
   "outputs": [
    {
     "data": {
      "text/plain": [
       "Index(['addr_unit', 'building_id', 'bedrooms', 'bathrooms', 'size_sqft',\n",
       "       'created_at', 'addr_street', 'addr_city', 'addr_zip', 'addr_lat',\n",
       "       'addr_lon', 'bin', 'bbl', 'floor_count', 'year_built', 'min_to_subway',\n",
       "       'has_doorman', 'has_elevator', 'has_fireplace', 'has_dishwasher',\n",
       "       'is_furnished', 'has_gym', 'allows_pets', 'has_washer_dryer',\n",
       "       'has_garage', 'has_roofdeck', 'has_concierge', 'has_pool', 'has_garden',\n",
       "       'has_childrens_playroom', 'rent', 'no_fee', 'description',\n",
       "       'neighborhood', 'borough', 'unit', 'floornumber', 'line'],\n",
       "      dtype='object')"
      ]
     },
     "execution_count": 2,
     "metadata": {},
     "output_type": "execute_result"
    }
   ],
   "source": [
    "raw_df = pd.read_csv('https://grantmlong.com/data/SE_rents2018_train.csv', index_col=0)\n",
    "raw_test_df = pd.read_csv('https://grantmlong.com/data/SE_rents2018_test1.csv', index_col=0)\n",
    "raw_test2_df = pd.read_csv('https://grantmlong.com/data/SE_rents2018_test2.csv', index_col=0)\n",
    "raw_df = raw_df.append(raw_test_df)\n",
    "raw_df.head(20)\n",
    "raw_df.columns"
   ]
  },
  {
   "cell_type": "markdown",
   "metadata": {
    "colab_type": "text",
    "id": "xxSoiIKJC1yO"
   },
   "source": [
    "## Data Explore"
   ]
  },
  {
   "cell_type": "code",
   "execution_count": 3,
   "metadata": {
    "colab": {
     "base_uri": "https://localhost:8080/",
     "height": 304
    },
    "colab_type": "code",
    "id": "ql26Ay-HC1yI",
    "outputId": "33defc34-c066-4fc0-fd2b-f3d6438b6968"
   },
   "outputs": [
    {
     "data": {
      "text/html": [
       "<div>\n",
       "<style scoped>\n",
       "    .dataframe tbody tr th:only-of-type {\n",
       "        vertical-align: middle;\n",
       "    }\n",
       "\n",
       "    .dataframe tbody tr th {\n",
       "        vertical-align: top;\n",
       "    }\n",
       "\n",
       "    .dataframe thead th {\n",
       "        text-align: right;\n",
       "    }\n",
       "</style>\n",
       "<table border=\"1\" class=\"dataframe\">\n",
       "  <thead>\n",
       "    <tr style=\"text-align: right;\">\n",
       "      <th></th>\n",
       "      <th>building_id</th>\n",
       "      <th>bedrooms</th>\n",
       "      <th>bathrooms</th>\n",
       "      <th>size_sqft</th>\n",
       "      <th>addr_zip</th>\n",
       "      <th>addr_lat</th>\n",
       "      <th>addr_lon</th>\n",
       "      <th>bin</th>\n",
       "      <th>bbl</th>\n",
       "      <th>floor_count</th>\n",
       "      <th>...</th>\n",
       "      <th>has_washer_dryer</th>\n",
       "      <th>has_garage</th>\n",
       "      <th>has_roofdeck</th>\n",
       "      <th>has_concierge</th>\n",
       "      <th>has_pool</th>\n",
       "      <th>has_garden</th>\n",
       "      <th>has_childrens_playroom</th>\n",
       "      <th>rent</th>\n",
       "      <th>no_fee</th>\n",
       "      <th>floornumber</th>\n",
       "    </tr>\n",
       "  </thead>\n",
       "  <tbody>\n",
       "    <tr>\n",
       "      <th>count</th>\n",
       "      <td>1.400000e+04</td>\n",
       "      <td>14000.000000</td>\n",
       "      <td>14000.000000</td>\n",
       "      <td>14000.000000</td>\n",
       "      <td>14000.000000</td>\n",
       "      <td>14000.000000</td>\n",
       "      <td>14000.000000</td>\n",
       "      <td>1.399900e+04</td>\n",
       "      <td>1.400000e+04</td>\n",
       "      <td>14000.000000</td>\n",
       "      <td>...</td>\n",
       "      <td>14000.000000</td>\n",
       "      <td>14000.000000</td>\n",
       "      <td>14000.000000</td>\n",
       "      <td>14000.000000</td>\n",
       "      <td>14000.000000</td>\n",
       "      <td>14000.000000</td>\n",
       "      <td>14000.000000</td>\n",
       "      <td>14000.000000</td>\n",
       "      <td>14000.000000</td>\n",
       "      <td>12498.000000</td>\n",
       "    </tr>\n",
       "    <tr>\n",
       "      <th>mean</th>\n",
       "      <td>1.542772e+06</td>\n",
       "      <td>1.661643</td>\n",
       "      <td>1.238929</td>\n",
       "      <td>848.388643</td>\n",
       "      <td>10681.801286</td>\n",
       "      <td>40.727746</td>\n",
       "      <td>-73.956776</td>\n",
       "      <td>2.368400e+06</td>\n",
       "      <td>2.285087e+09</td>\n",
       "      <td>10.233350</td>\n",
       "      <td>...</td>\n",
       "      <td>0.268500</td>\n",
       "      <td>0.170714</td>\n",
       "      <td>0.262643</td>\n",
       "      <td>0.208214</td>\n",
       "      <td>0.072357</td>\n",
       "      <td>0.133786</td>\n",
       "      <td>0.089571</td>\n",
       "      <td>3591.997214</td>\n",
       "      <td>0.495786</td>\n",
       "      <td>6.198232</td>\n",
       "    </tr>\n",
       "    <tr>\n",
       "      <th>std</th>\n",
       "      <td>4.323673e+06</td>\n",
       "      <td>1.084151</td>\n",
       "      <td>0.550979</td>\n",
       "      <td>513.039489</td>\n",
       "      <td>592.728072</td>\n",
       "      <td>0.053635</td>\n",
       "      <td>0.042994</td>\n",
       "      <td>1.242507e+06</td>\n",
       "      <td>1.200828e+09</td>\n",
       "      <td>12.003629</td>\n",
       "      <td>...</td>\n",
       "      <td>0.443195</td>\n",
       "      <td>0.376273</td>\n",
       "      <td>0.440086</td>\n",
       "      <td>0.406045</td>\n",
       "      <td>0.259088</td>\n",
       "      <td>0.340434</td>\n",
       "      <td>0.285577</td>\n",
       "      <td>2874.099247</td>\n",
       "      <td>0.500000</td>\n",
       "      <td>7.728606</td>\n",
       "    </tr>\n",
       "    <tr>\n",
       "      <th>min</th>\n",
       "      <td>7.300000e+01</td>\n",
       "      <td>0.000000</td>\n",
       "      <td>0.000000</td>\n",
       "      <td>0.000000</td>\n",
       "      <td>10001.000000</td>\n",
       "      <td>40.573898</td>\n",
       "      <td>-74.168405</td>\n",
       "      <td>1.000000e+06</td>\n",
       "      <td>0.000000e+00</td>\n",
       "      <td>0.000000</td>\n",
       "      <td>...</td>\n",
       "      <td>0.000000</td>\n",
       "      <td>0.000000</td>\n",
       "      <td>0.000000</td>\n",
       "      <td>0.000000</td>\n",
       "      <td>0.000000</td>\n",
       "      <td>0.000000</td>\n",
       "      <td>0.000000</td>\n",
       "      <td>1250.000000</td>\n",
       "      <td>0.000000</td>\n",
       "      <td>0.000000</td>\n",
       "    </tr>\n",
       "    <tr>\n",
       "      <th>25%</th>\n",
       "      <td>6.231400e+04</td>\n",
       "      <td>1.000000</td>\n",
       "      <td>1.000000</td>\n",
       "      <td>604.000000</td>\n",
       "      <td>10023.000000</td>\n",
       "      <td>40.693256</td>\n",
       "      <td>-73.986095</td>\n",
       "      <td>1.052178e+06</td>\n",
       "      <td>1.011286e+09</td>\n",
       "      <td>3.000000</td>\n",
       "      <td>...</td>\n",
       "      <td>0.000000</td>\n",
       "      <td>0.000000</td>\n",
       "      <td>0.000000</td>\n",
       "      <td>0.000000</td>\n",
       "      <td>0.000000</td>\n",
       "      <td>0.000000</td>\n",
       "      <td>0.000000</td>\n",
       "      <td>2250.000000</td>\n",
       "      <td>0.000000</td>\n",
       "      <td>2.000000</td>\n",
       "    </tr>\n",
       "    <tr>\n",
       "      <th>50%</th>\n",
       "      <td>2.545810e+05</td>\n",
       "      <td>2.000000</td>\n",
       "      <td>1.000000</td>\n",
       "      <td>800.000000</td>\n",
       "      <td>11103.000000</td>\n",
       "      <td>40.729048</td>\n",
       "      <td>-73.961554</td>\n",
       "      <td>3.018885e+06</td>\n",
       "      <td>3.006580e+09</td>\n",
       "      <td>5.000000</td>\n",
       "      <td>...</td>\n",
       "      <td>0.000000</td>\n",
       "      <td>0.000000</td>\n",
       "      <td>0.000000</td>\n",
       "      <td>0.000000</td>\n",
       "      <td>0.000000</td>\n",
       "      <td>0.000000</td>\n",
       "      <td>0.000000</td>\n",
       "      <td>2900.000000</td>\n",
       "      <td>0.000000</td>\n",
       "      <td>3.000000</td>\n",
       "    </tr>\n",
       "    <tr>\n",
       "      <th>75%</th>\n",
       "      <td>8.267980e+05</td>\n",
       "      <td>2.000000</td>\n",
       "      <td>1.000000</td>\n",
       "      <td>1000.000000</td>\n",
       "      <td>11218.000000</td>\n",
       "      <td>40.764801</td>\n",
       "      <td>-73.936080</td>\n",
       "      <td>3.325600e+06</td>\n",
       "      <td>3.050558e+09</td>\n",
       "      <td>12.000000</td>\n",
       "      <td>...</td>\n",
       "      <td>1.000000</td>\n",
       "      <td>0.000000</td>\n",
       "      <td>1.000000</td>\n",
       "      <td>0.000000</td>\n",
       "      <td>0.000000</td>\n",
       "      <td>0.000000</td>\n",
       "      <td>0.000000</td>\n",
       "      <td>3900.000000</td>\n",
       "      <td>1.000000</td>\n",
       "      <td>6.000000</td>\n",
       "    </tr>\n",
       "    <tr>\n",
       "      <th>max</th>\n",
       "      <td>1.877211e+07</td>\n",
       "      <td>8.000000</td>\n",
       "      <td>20.000000</td>\n",
       "      <td>10000.000000</td>\n",
       "      <td>11694.000000</td>\n",
       "      <td>40.909842</td>\n",
       "      <td>-73.730550</td>\n",
       "      <td>5.158986e+06</td>\n",
       "      <td>5.029930e+09</td>\n",
       "      <td>90.000000</td>\n",
       "      <td>...</td>\n",
       "      <td>1.000000</td>\n",
       "      <td>1.000000</td>\n",
       "      <td>1.000000</td>\n",
       "      <td>1.000000</td>\n",
       "      <td>1.000000</td>\n",
       "      <td>1.000000</td>\n",
       "      <td>1.000000</td>\n",
       "      <td>50000.000000</td>\n",
       "      <td>1.000000</td>\n",
       "      <td>78.000000</td>\n",
       "    </tr>\n",
       "  </tbody>\n",
       "</table>\n",
       "<p>8 rows × 29 columns</p>\n",
       "</div>"
      ],
      "text/plain": [
       "        building_id      bedrooms     bathrooms     size_sqft      addr_zip  \\\n",
       "count  1.400000e+04  14000.000000  14000.000000  14000.000000  14000.000000   \n",
       "mean   1.542772e+06      1.661643      1.238929    848.388643  10681.801286   \n",
       "std    4.323673e+06      1.084151      0.550979    513.039489    592.728072   \n",
       "min    7.300000e+01      0.000000      0.000000      0.000000  10001.000000   \n",
       "25%    6.231400e+04      1.000000      1.000000    604.000000  10023.000000   \n",
       "50%    2.545810e+05      2.000000      1.000000    800.000000  11103.000000   \n",
       "75%    8.267980e+05      2.000000      1.000000   1000.000000  11218.000000   \n",
       "max    1.877211e+07      8.000000     20.000000  10000.000000  11694.000000   \n",
       "\n",
       "           addr_lat      addr_lon           bin           bbl   floor_count  \\\n",
       "count  14000.000000  14000.000000  1.399900e+04  1.400000e+04  14000.000000   \n",
       "mean      40.727746    -73.956776  2.368400e+06  2.285087e+09     10.233350   \n",
       "std        0.053635      0.042994  1.242507e+06  1.200828e+09     12.003629   \n",
       "min       40.573898    -74.168405  1.000000e+06  0.000000e+00      0.000000   \n",
       "25%       40.693256    -73.986095  1.052178e+06  1.011286e+09      3.000000   \n",
       "50%       40.729048    -73.961554  3.018885e+06  3.006580e+09      5.000000   \n",
       "75%       40.764801    -73.936080  3.325600e+06  3.050558e+09     12.000000   \n",
       "max       40.909842    -73.730550  5.158986e+06  5.029930e+09     90.000000   \n",
       "\n",
       "       ...  has_washer_dryer    has_garage  has_roofdeck  has_concierge  \\\n",
       "count  ...      14000.000000  14000.000000  14000.000000   14000.000000   \n",
       "mean   ...          0.268500      0.170714      0.262643       0.208214   \n",
       "std    ...          0.443195      0.376273      0.440086       0.406045   \n",
       "min    ...          0.000000      0.000000      0.000000       0.000000   \n",
       "25%    ...          0.000000      0.000000      0.000000       0.000000   \n",
       "50%    ...          0.000000      0.000000      0.000000       0.000000   \n",
       "75%    ...          1.000000      0.000000      1.000000       0.000000   \n",
       "max    ...          1.000000      1.000000      1.000000       1.000000   \n",
       "\n",
       "           has_pool    has_garden  has_childrens_playroom          rent  \\\n",
       "count  14000.000000  14000.000000            14000.000000  14000.000000   \n",
       "mean       0.072357      0.133786                0.089571   3591.997214   \n",
       "std        0.259088      0.340434                0.285577   2874.099247   \n",
       "min        0.000000      0.000000                0.000000   1250.000000   \n",
       "25%        0.000000      0.000000                0.000000   2250.000000   \n",
       "50%        0.000000      0.000000                0.000000   2900.000000   \n",
       "75%        0.000000      0.000000                0.000000   3900.000000   \n",
       "max        1.000000      1.000000                1.000000  50000.000000   \n",
       "\n",
       "             no_fee   floornumber  \n",
       "count  14000.000000  12498.000000  \n",
       "mean       0.495786      6.198232  \n",
       "std        0.500000      7.728606  \n",
       "min        0.000000      0.000000  \n",
       "25%        0.000000      2.000000  \n",
       "50%        0.000000      3.000000  \n",
       "75%        1.000000      6.000000  \n",
       "max        1.000000     78.000000  \n",
       "\n",
       "[8 rows x 29 columns]"
      ]
     },
     "execution_count": 3,
     "metadata": {},
     "output_type": "execute_result"
    }
   ],
   "source": [
    "raw_df.describe()"
   ]
  },
  {
   "cell_type": "code",
   "execution_count": 4,
   "metadata": {
    "colab": {
     "base_uri": "https://localhost:8080/",
     "height": 34
    },
    "colab_type": "code",
    "id": "csEm7f26C1yS",
    "outputId": "d3a30c17-b4c6-45a3-c642-39b7f6069656"
   },
   "outputs": [
    {
     "data": {
      "text/plain": [
       "(14000, 38)"
      ]
     },
     "execution_count": 4,
     "metadata": {},
     "output_type": "execute_result"
    }
   ],
   "source": [
    "raw_df.shape"
   ]
  },
  {
   "cell_type": "code",
   "execution_count": 5,
   "metadata": {
    "colab": {
     "base_uri": "https://localhost:8080/",
     "height": 739
    },
    "colab_type": "code",
    "id": "I9hONCStC1yP",
    "outputId": "7d3827da-d02a-4614-9981-6070be31b237"
   },
   "outputs": [
    {
     "name": "stdout",
     "output_type": "stream",
     "text": [
      "<class 'pandas.core.frame.DataFrame'>\n",
      "Int64Index: 14000 entries, 7236931 to 7463404\n",
      "Data columns (total 38 columns):\n",
      "addr_unit                 13890 non-null object\n",
      "building_id               14000 non-null int64\n",
      "bedrooms                  14000 non-null int64\n",
      "bathrooms                 14000 non-null float64\n",
      "size_sqft                 14000 non-null float64\n",
      "created_at                14000 non-null object\n",
      "addr_street               14000 non-null object\n",
      "addr_city                 14000 non-null object\n",
      "addr_zip                  14000 non-null int64\n",
      "addr_lat                  14000 non-null float64\n",
      "addr_lon                  14000 non-null float64\n",
      "bin                       13999 non-null float64\n",
      "bbl                       14000 non-null int64\n",
      "floor_count               14000 non-null float64\n",
      "year_built                13530 non-null float64\n",
      "min_to_subway             13857 non-null float64\n",
      "has_doorman               14000 non-null int64\n",
      "has_elevator              14000 non-null int64\n",
      "has_fireplace             14000 non-null int64\n",
      "has_dishwasher            14000 non-null int64\n",
      "is_furnished              14000 non-null int64\n",
      "has_gym                   14000 non-null int64\n",
      "allows_pets               14000 non-null int64\n",
      "has_washer_dryer          14000 non-null int64\n",
      "has_garage                14000 non-null int64\n",
      "has_roofdeck              14000 non-null int64\n",
      "has_concierge             14000 non-null int64\n",
      "has_pool                  14000 non-null int64\n",
      "has_garden                14000 non-null int64\n",
      "has_childrens_playroom    14000 non-null int64\n",
      "rent                      14000 non-null int64\n",
      "no_fee                    14000 non-null int64\n",
      "description               13984 non-null object\n",
      "neighborhood              13997 non-null object\n",
      "borough                   14000 non-null object\n",
      "unit                      13886 non-null object\n",
      "floornumber               12498 non-null float64\n",
      "line                      9865 non-null object\n",
      "dtypes: float64(9), int64(20), object(9)\n",
      "memory usage: 4.2+ MB\n"
     ]
    }
   ],
   "source": [
    "raw_df.info()"
   ]
  },
  {
   "cell_type": "code",
   "execution_count": 6,
   "metadata": {
    "colab": {
     "base_uri": "https://localhost:8080/",
     "height": 286
    },
    "colab_type": "code",
    "id": "bQBnI2n0FuHJ",
    "outputId": "9a62644e-70ac-4531-c6f8-96813f039d8c"
   },
   "outputs": [
    {
     "data": {
      "text/plain": [
       "<matplotlib.axes._subplots.AxesSubplot at 0x1f4d482f6a0>"
      ]
     },
     "execution_count": 6,
     "metadata": {},
     "output_type": "execute_result"
    },
    {
     "data": {
      "image/png": "[encoded data removed]",
      "text/plain": [
       "<Figure size 432x288 with 1 Axes>"
      ]
     },
     "metadata": {
      "needs_background": "light"
     },
     "output_type": "display_data"
    }
   ],
   "source": [
    "raw_df['rent'].hist(bins=100)"
   ]
  },
  {
   "cell_type": "markdown",
   "metadata": {
    "colab_type": "text",
    "id": "cN1cvd5g0lcL"
   },
   "source": [
    "### Seperate all features into continuous, categorical and binary features.\n",
    "\n",
    "For those none relatived features as below, we have excluded them from the features grouping: \n",
    "- addr_unit: no relationship\n",
    "- building_id: no relationship\n",
    "- addr_lat: hard to analyze latitude\n",
    "- addr_lon: hard to analyze longtitude\n",
    "- bin: no relationship\n",
    "- bbl: no relationshio\n",
    "- description: hard to build a NLP model\n",
    "- unit: no relationship\n"
   ]
  },
  {
   "cell_type": "code",
   "execution_count": 7,
   "metadata": {
    "colab": {},
    "colab_type": "code",
    "id": "ce4l5HZNModF"
   },
   "outputs": [],
   "source": [
    "continuous_features =['bathrooms','bedrooms','size_sqft','floor_count','year_built','min_to_subway','floornumber' ]\n",
    "caterigal_features =['addr_street','addr_city','addr_zip','neighborhood','borough','line' ]\n",
    "binary_features = ['has_doorman', 'has_elevator', 'has_fireplace', 'has_dishwasher','is_furnished', 'has_gym', 'allows_pets', \n",
    "                   'has_washer_dryer','has_garage', 'has_roofdeck', 'has_concierge', 'has_pool', 'has_garden',\n",
    "                   'has_childrens_playroom', 'no_fee', ]"
   ]
  },
  {
   "cell_type": "markdown",
   "metadata": {
    "colab": {},
    "colab_type": "code",
    "id": "bp674gXgC1yy"
   },
   "source": [
    "## Import external dataset from Internal Revenue Service\n",
    " - We will import the 2017 individual income Tax statistic dataset from IRS website(https://www.irs.gov/pub/irs-soi/17zpallagi.csv).\n",
    " - We will expend a new feature: **average_income** based on zipcode to our raw dataset "
   ]
  },
  {
   "cell_type": "code",
   "execution_count": 8,
   "metadata": {
    "colab": {},
    "colab_type": "code",
    "id": "ySvUva5SC1yz"
   },
   "outputs": [
    {
     "data": {
      "text/plain": [
       "Index(['STATE', 'zipcode', 'agi_stub', 'N1', 'mars1', 'MARS2', 'MARS4', 'ELF',\n",
       "       'CPREP', 'PREP',\n",
       "       ...\n",
       "       'N85300', 'A85300', 'N11901', 'A11901', 'N11900', 'A11900', 'N11902',\n",
       "       'A11902', 'N12000', 'A12000'],\n",
       "      dtype='object', length=152)"
      ]
     },
     "execution_count": 8,
     "metadata": {},
     "output_type": "execute_result"
    }
   ],
   "source": [
    "raw_income_data=pd.read_csv('https://www.irs.gov/pub/irs-soi/17zpallagi.csv', index_col=0)\n",
    "raw_income_data.columns"
   ]
  },
  {
   "cell_type": "code",
   "execution_count": 9,
   "metadata": {
    "colab": {},
    "colab_type": "code",
    "id": "4OwGK7NMC1y4"
   },
   "outputs": [
    {
     "data": {
      "text/html": [
       "<div>\n",
       "<style scoped>\n",
       "    .dataframe tbody tr th:only-of-type {\n",
       "        vertical-align: middle;\n",
       "    }\n",
       "\n",
       "    .dataframe tbody tr th {\n",
       "        vertical-align: top;\n",
       "    }\n",
       "\n",
       "    .dataframe thead th {\n",
       "        text-align: right;\n",
       "    }\n",
       "</style>\n",
       "<table border=\"1\" class=\"dataframe\">\n",
       "  <thead>\n",
       "    <tr style=\"text-align: right;\">\n",
       "      <th></th>\n",
       "      <th>zipcode</th>\n",
       "      <th>agi_stub</th>\n",
       "      <th>N1</th>\n",
       "      <th>mars1</th>\n",
       "      <th>MARS2</th>\n",
       "      <th>MARS4</th>\n",
       "      <th>ELF</th>\n",
       "      <th>CPREP</th>\n",
       "      <th>PREP</th>\n",
       "      <th>DIR_DEP</th>\n",
       "      <th>...</th>\n",
       "      <th>N85300</th>\n",
       "      <th>A85300</th>\n",
       "      <th>N11901</th>\n",
       "      <th>A11901</th>\n",
       "      <th>N11900</th>\n",
       "      <th>A11900</th>\n",
       "      <th>N11902</th>\n",
       "      <th>A11902</th>\n",
       "      <th>N12000</th>\n",
       "      <th>A12000</th>\n",
       "    </tr>\n",
       "  </thead>\n",
       "  <tbody>\n",
       "    <tr>\n",
       "      <th>count</th>\n",
       "      <td>166537.000000</td>\n",
       "      <td>166537.000000</td>\n",
       "      <td>1.665370e+05</td>\n",
       "      <td>1.665370e+05</td>\n",
       "      <td>1.665370e+05</td>\n",
       "      <td>166537.000000</td>\n",
       "      <td>1.665370e+05</td>\n",
       "      <td>166537.000000</td>\n",
       "      <td>1.665370e+05</td>\n",
       "      <td>1.665370e+05</td>\n",
       "      <td>...</td>\n",
       "      <td>166537.000000</td>\n",
       "      <td>1.665370e+05</td>\n",
       "      <td>166537.000000</td>\n",
       "      <td>1.665370e+05</td>\n",
       "      <td>1.665370e+05</td>\n",
       "      <td>1.665370e+05</td>\n",
       "      <td>1.665370e+05</td>\n",
       "      <td>1.665370e+05</td>\n",
       "      <td>166537.000000</td>\n",
       "      <td>1.665370e+05</td>\n",
       "    </tr>\n",
       "    <tr>\n",
       "      <th>mean</th>\n",
       "      <td>48870.221668</td>\n",
       "      <td>3.499883</td>\n",
       "      <td>1.797506e+03</td>\n",
       "      <td>8.568076e+02</td>\n",
       "      <td>6.466075e+02</td>\n",
       "      <td>257.395354</td>\n",
       "      <td>1.595375e+03</td>\n",
       "      <td>109.165711</td>\n",
       "      <td>9.565737e+02</td>\n",
       "      <td>1.115313e+03</td>\n",
       "      <td>...</td>\n",
       "      <td>52.247849</td>\n",
       "      <td>2.652260e+02</td>\n",
       "      <td>366.565508</td>\n",
       "      <td>2.075837e+03</td>\n",
       "      <td>1.385102e+03</td>\n",
       "      <td>4.864975e+03</td>\n",
       "      <td>1.349381e+03</td>\n",
       "      <td>3.932834e+03</td>\n",
       "      <td>43.103875</td>\n",
       "      <td>8.790301e+02</td>\n",
       "    </tr>\n",
       "    <tr>\n",
       "      <th>std</th>\n",
       "      <td>27140.457939</td>\n",
       "      <td>1.707903</td>\n",
       "      <td>3.682065e+04</td>\n",
       "      <td>2.157115e+04</td>\n",
       "      <td>1.180901e+04</td>\n",
       "      <td>6579.521856</td>\n",
       "      <td>3.234179e+04</td>\n",
       "      <td>2546.536828</td>\n",
       "      <td>1.996698e+04</td>\n",
       "      <td>2.347348e+04</td>\n",
       "      <td>...</td>\n",
       "      <td>2663.659358</td>\n",
       "      <td>1.535593e+04</td>\n",
       "      <td>6891.242958</td>\n",
       "      <td>6.608186e+04</td>\n",
       "      <td>2.947749e+04</td>\n",
       "      <td>1.012458e+05</td>\n",
       "      <td>2.909491e+04</td>\n",
       "      <td>7.693938e+04</td>\n",
       "      <td>947.324343</td>\n",
       "      <td>4.399491e+04</td>\n",
       "    </tr>\n",
       "    <tr>\n",
       "      <th>min</th>\n",
       "      <td>0.000000</td>\n",
       "      <td>1.000000</td>\n",
       "      <td>0.000000e+00</td>\n",
       "      <td>0.000000e+00</td>\n",
       "      <td>0.000000e+00</td>\n",
       "      <td>0.000000</td>\n",
       "      <td>0.000000e+00</td>\n",
       "      <td>0.000000</td>\n",
       "      <td>0.000000e+00</td>\n",
       "      <td>0.000000e+00</td>\n",
       "      <td>...</td>\n",
       "      <td>0.000000</td>\n",
       "      <td>0.000000e+00</td>\n",
       "      <td>0.000000</td>\n",
       "      <td>0.000000e+00</td>\n",
       "      <td>0.000000e+00</td>\n",
       "      <td>0.000000e+00</td>\n",
       "      <td>0.000000e+00</td>\n",
       "      <td>0.000000e+00</td>\n",
       "      <td>0.000000</td>\n",
       "      <td>0.000000e+00</td>\n",
       "    </tr>\n",
       "    <tr>\n",
       "      <th>25%</th>\n",
       "      <td>27030.000000</td>\n",
       "      <td>2.000000</td>\n",
       "      <td>7.000000e+01</td>\n",
       "      <td>0.000000e+00</td>\n",
       "      <td>4.000000e+01</td>\n",
       "      <td>0.000000</td>\n",
       "      <td>6.000000e+01</td>\n",
       "      <td>0.000000</td>\n",
       "      <td>4.000000e+01</td>\n",
       "      <td>4.000000e+01</td>\n",
       "      <td>...</td>\n",
       "      <td>0.000000</td>\n",
       "      <td>0.000000e+00</td>\n",
       "      <td>20.000000</td>\n",
       "      <td>2.100000e+01</td>\n",
       "      <td>5.000000e+01</td>\n",
       "      <td>1.580000e+02</td>\n",
       "      <td>4.000000e+01</td>\n",
       "      <td>1.410000e+02</td>\n",
       "      <td>0.000000</td>\n",
       "      <td>0.000000e+00</td>\n",
       "    </tr>\n",
       "    <tr>\n",
       "      <th>50%</th>\n",
       "      <td>48876.000000</td>\n",
       "      <td>3.000000</td>\n",
       "      <td>2.500000e+02</td>\n",
       "      <td>7.000000e+01</td>\n",
       "      <td>1.100000e+02</td>\n",
       "      <td>20.000000</td>\n",
       "      <td>2.200000e+02</td>\n",
       "      <td>0.000000</td>\n",
       "      <td>1.500000e+02</td>\n",
       "      <td>1.400000e+02</td>\n",
       "      <td>...</td>\n",
       "      <td>0.000000</td>\n",
       "      <td>0.000000e+00</td>\n",
       "      <td>60.000000</td>\n",
       "      <td>1.550000e+02</td>\n",
       "      <td>1.800000e+02</td>\n",
       "      <td>6.220000e+02</td>\n",
       "      <td>1.700000e+02</td>\n",
       "      <td>5.480000e+02</td>\n",
       "      <td>0.000000</td>\n",
       "      <td>0.000000e+00</td>\n",
       "    </tr>\n",
       "    <tr>\n",
       "      <th>75%</th>\n",
       "      <td>70601.000000</td>\n",
       "      <td>5.000000</td>\n",
       "      <td>1.020000e+03</td>\n",
       "      <td>3.400000e+02</td>\n",
       "      <td>3.800000e+02</td>\n",
       "      <td>90.000000</td>\n",
       "      <td>9.100000e+02</td>\n",
       "      <td>60.000000</td>\n",
       "      <td>5.600000e+02</td>\n",
       "      <td>5.900000e+02</td>\n",
       "      <td>...</td>\n",
       "      <td>0.000000</td>\n",
       "      <td>0.000000e+00</td>\n",
       "      <td>220.000000</td>\n",
       "      <td>6.870000e+02</td>\n",
       "      <td>7.400000e+02</td>\n",
       "      <td>2.484000e+03</td>\n",
       "      <td>7.100000e+02</td>\n",
       "      <td>2.207000e+03</td>\n",
       "      <td>30.000000</td>\n",
       "      <td>6.400000e+01</td>\n",
       "    </tr>\n",
       "    <tr>\n",
       "      <th>max</th>\n",
       "      <td>99999.000000</td>\n",
       "      <td>6.000000</td>\n",
       "      <td>5.824360e+06</td>\n",
       "      <td>4.130490e+06</td>\n",
       "      <td>1.757700e+06</td>\n",
       "      <td>982390.000000</td>\n",
       "      <td>4.980210e+06</td>\n",
       "      <td>475240.000000</td>\n",
       "      <td>3.387570e+06</td>\n",
       "      <td>3.233490e+06</td>\n",
       "      <td>...</td>\n",
       "      <td>763140.000000</td>\n",
       "      <td>4.031847e+06</td>\n",
       "      <td>890950.000000</td>\n",
       "      <td>1.750126e+07</td>\n",
       "      <td>4.598480e+06</td>\n",
       "      <td>1.667374e+07</td>\n",
       "      <td>4.561540e+06</td>\n",
       "      <td>9.443931e+06</td>\n",
       "      <td>186110.000000</td>\n",
       "      <td>1.056186e+07</td>\n",
       "    </tr>\n",
       "  </tbody>\n",
       "</table>\n",
       "<p>8 rows × 151 columns</p>\n",
       "</div>"
      ],
      "text/plain": [
       "             zipcode       agi_stub            N1         mars1         MARS2  \\\n",
       "count  166537.000000  166537.000000  1.665370e+05  1.665370e+05  1.665370e+05   \n",
       "mean    48870.221668       3.499883  1.797506e+03  8.568076e+02  6.466075e+02   \n",
       "std     27140.457939       1.707903  3.682065e+04  2.157115e+04  1.180901e+04   \n",
       "min         0.000000       1.000000  0.000000e+00  0.000000e+00  0.000000e+00   \n",
       "25%     27030.000000       2.000000  7.000000e+01  0.000000e+00  4.000000e+01   \n",
       "50%     48876.000000       3.000000  2.500000e+02  7.000000e+01  1.100000e+02   \n",
       "75%     70601.000000       5.000000  1.020000e+03  3.400000e+02  3.800000e+02   \n",
       "max     99999.000000       6.000000  5.824360e+06  4.130490e+06  1.757700e+06   \n",
       "\n",
       "               MARS4           ELF          CPREP          PREP       DIR_DEP  \\\n",
       "count  166537.000000  1.665370e+05  166537.000000  1.665370e+05  1.665370e+05   \n",
       "mean      257.395354  1.595375e+03     109.165711  9.565737e+02  1.115313e+03   \n",
       "std      6579.521856  3.234179e+04    2546.536828  1.996698e+04  2.347348e+04   \n",
       "min         0.000000  0.000000e+00       0.000000  0.000000e+00  0.000000e+00   \n",
       "25%         0.000000  6.000000e+01       0.000000  4.000000e+01  4.000000e+01   \n",
       "50%        20.000000  2.200000e+02       0.000000  1.500000e+02  1.400000e+02   \n",
       "75%        90.000000  9.100000e+02      60.000000  5.600000e+02  5.900000e+02   \n",
       "max    982390.000000  4.980210e+06  475240.000000  3.387570e+06  3.233490e+06   \n",
       "\n",
       "       ...         N85300        A85300         N11901        A11901  \\\n",
       "count  ...  166537.000000  1.665370e+05  166537.000000  1.665370e+05   \n",
       "mean   ...      52.247849  2.652260e+02     366.565508  2.075837e+03   \n",
       "std    ...    2663.659358  1.535593e+04    6891.242958  6.608186e+04   \n",
       "min    ...       0.000000  0.000000e+00       0.000000  0.000000e+00   \n",
       "25%    ...       0.000000  0.000000e+00      20.000000  2.100000e+01   \n",
       "50%    ...       0.000000  0.000000e+00      60.000000  1.550000e+02   \n",
       "75%    ...       0.000000  0.000000e+00     220.000000  6.870000e+02   \n",
       "max    ...  763140.000000  4.031847e+06  890950.000000  1.750126e+07   \n",
       "\n",
       "             N11900        A11900        N11902        A11902         N12000  \\\n",
       "count  1.665370e+05  1.665370e+05  1.665370e+05  1.665370e+05  166537.000000   \n",
       "mean   1.385102e+03  4.864975e+03  1.349381e+03  3.932834e+03      43.103875   \n",
       "std    2.947749e+04  1.012458e+05  2.909491e+04  7.693938e+04     947.324343   \n",
       "min    0.000000e+00  0.000000e+00  0.000000e+00  0.000000e+00       0.000000   \n",
       "25%    5.000000e+01  1.580000e+02  4.000000e+01  1.410000e+02       0.000000   \n",
       "50%    1.800000e+02  6.220000e+02  1.700000e+02  5.480000e+02       0.000000   \n",
       "75%    7.400000e+02  2.484000e+03  7.100000e+02  2.207000e+03      30.000000   \n",
       "max    4.598480e+06  1.667374e+07  4.561540e+06  9.443931e+06  186110.000000   \n",
       "\n",
       "             A12000  \n",
       "count  1.665370e+05  \n",
       "mean   8.790301e+02  \n",
       "std    4.399491e+04  \n",
       "min    0.000000e+00  \n",
       "25%    0.000000e+00  \n",
       "50%    0.000000e+00  \n",
       "75%    6.400000e+01  \n",
       "max    1.056186e+07  \n",
       "\n",
       "[8 rows x 151 columns]"
      ]
     },
     "execution_count": 9,
     "metadata": {},
     "output_type": "execute_result"
    }
   ],
   "source": [
    "raw_income_data.describe()"
   ]
  },
  {
   "cell_type": "markdown",
   "metadata": {},
   "source": [
    "### Income Dataset Description \n",
    "This dataset comes from the IRS website's 2017 ZIP Code Data (SOI) about Individual Income Tax Statistics.\n",
    "According to the documentation's overview,the Statistics of Income (SOI) Division’s ZIP code data is tabulated using individual income tax returns (Forms 1040) filed with the Internal Revenue Service (IRS) during the 12-month period, January 1, 2018 to December 31, 2018.\n",
    "The original dataset contains many income and Tax Items, we only keep the ones that are relevant: \n",
    "- STATEFIPS:The State Federal Information Processing System (FIPS) code\n",
    "- STATE: The State associated with the ZIP code\n",
    "- ZIPCODE: 5-digit Zip code\n",
    "- agi_stub: Size of adjusted gross income\n",
    "- N1: Total number of returns\n",
    "- A02650: Number of returns with total income\n",
    "\n",
    "Our goal is to find the average income of each zipcode."
   ]
  },
  {
   "cell_type": "markdown",
   "metadata": {},
   "source": [
    "### Clean the raw income data and rename feature"
   ]
  },
  {
   "cell_type": "code",
   "execution_count": 10,
   "metadata": {},
   "outputs": [],
   "source": [
    "raw_income_data = raw_income_data.loc[raw_income_data['STATE']=='NY']\n",
    "raw_income_data.rename(columns = {'N1':'total_returns', 'A02650':'total_income'}, inplace = True) \n",
    "raw_income_data = raw_income_data[['STATE','zipcode','agi_stub','total_returns', 'total_income']]\n",
    "raw_income_data = raw_income_data.loc[raw_income_data['zipcode']<99999]\n",
    "raw_income_data = raw_income_data.loc[raw_income_data['zipcode']>0]\n"
   ]
  },
  {
   "cell_type": "markdown",
   "metadata": {},
   "source": [
    "### Function to calculate the average income by zip code\n",
    "Each zip code has 6 different sizes of adjusted gross income which means we have 6 different number of total returns and total income for one zip code.\n",
    "By using the np.where and sum function, we can obtain the sum of income and sum of returns for each zip code. The income of the original dataset was in thousands of dollar so we need to multiply the sum of income by 1000 and then find the average. Since some zip code was not in the original set, we ingore those average that is NaN and only write the meaningful averages to csv file for future use."
   ]
  },
  {
   "cell_type": "markdown",
   "metadata": {},
   "source": [
    "- Calculate average income \n",
    "- Export to ny_income_2017.csv for storage\n",
    "- For next time, no need to import the raw_income_dataset again"
   ]
  },
  {
   "cell_type": "code",
   "execution_count": 11,
   "metadata": {},
   "outputs": [
    {
     "data": {
      "text/html": [
       "<div>\n",
       "<style scoped>\n",
       "    .dataframe tbody tr th:only-of-type {\n",
       "        vertical-align: middle;\n",
       "    }\n",
       "\n",
       "    .dataframe tbody tr th {\n",
       "        vertical-align: top;\n",
       "    }\n",
       "\n",
       "    .dataframe thead th {\n",
       "        text-align: right;\n",
       "    }\n",
       "</style>\n",
       "<table border=\"1\" class=\"dataframe\">\n",
       "  <thead>\n",
       "    <tr style=\"text-align: right;\">\n",
       "      <th></th>\n",
       "      <th>addr_zip</th>\n",
       "      <th>zip_average_income</th>\n",
       "    </tr>\n",
       "  </thead>\n",
       "  <tbody>\n",
       "    <tr>\n",
       "      <th>0</th>\n",
       "      <td>10001.0</td>\n",
       "      <td>183859.908735</td>\n",
       "    </tr>\n",
       "    <tr>\n",
       "      <th>1</th>\n",
       "      <td>10002.0</td>\n",
       "      <td>59669.401750</td>\n",
       "    </tr>\n",
       "    <tr>\n",
       "      <th>2</th>\n",
       "      <td>10003.0</td>\n",
       "      <td>306277.962003</td>\n",
       "    </tr>\n",
       "    <tr>\n",
       "      <th>3</th>\n",
       "      <td>10004.0</td>\n",
       "      <td>385265.306122</td>\n",
       "    </tr>\n",
       "    <tr>\n",
       "      <th>4</th>\n",
       "      <td>10005.0</td>\n",
       "      <td>391201.520270</td>\n",
       "    </tr>\n",
       "  </tbody>\n",
       "</table>\n",
       "</div>"
      ],
      "text/plain": [
       "   addr_zip  zip_average_income\n",
       "0   10001.0       183859.908735\n",
       "1   10002.0        59669.401750\n",
       "2   10003.0       306277.962003\n",
       "3   10004.0       385265.306122\n",
       "4   10005.0       391201.520270"
      ]
     },
     "execution_count": 11,
     "metadata": {},
     "output_type": "execute_result"
    }
   ],
   "source": [
    "average_income = pd.DataFrame({'addr_zip':[],'zip_average_income':[]})\n",
    "\n",
    "def calculate_avg_income():\n",
    "    global average_income\n",
    "    for zipcode in range(10001, 14906):\n",
    "        current_sum=np.where(raw_income_data['zipcode']==zipcode, raw_income_data['total_income'],0).sum()\n",
    "        current_returns=np.where(raw_income_data['zipcode']==zipcode, raw_income_data['total_returns'],0).sum() \n",
    "        if(current_returns <=0 or current_sum<=0):\n",
    "            continue\n",
    "        avg_income=(current_sum*1000)/current_returns\n",
    "        new_row={'addr_zip':zipcode,'zip_average_income':avg_income}\n",
    "        average_income=average_income.append(new_row,ignore_index=True)           \n",
    "calculate_avg_income()\n",
    "average_income.head(5)"
   ]
  },
  {
   "cell_type": "markdown",
   "metadata": {},
   "source": [
    " - We realize that the income dataset is missing all income data between zipcode 11239 - 11354, we will take an averge of zipcode income for 11239 and 11354 to replace any zipcode income in between \n",
    " - In our training and testing dataset, only the zipcode income 11249 is missing"
   ]
  },
  {
   "cell_type": "code",
   "execution_count": 12,
   "metadata": {},
   "outputs": [
    {
     "name": "stdout",
     "output_type": "stream",
     "text": [
      "[11249]\n",
      "[11249]\n"
     ]
    }
   ],
   "source": [
    "print(list(set(raw_df['addr_zip']) - set(average_income['addr_zip'])))\n",
    "print(list(set(raw_test_df['addr_zip']) - set(average_income['addr_zip'])))"
   ]
  },
  {
   "cell_type": "markdown",
   "metadata": {},
   "source": [
    "**Insert a new row for zipcode income 11249 into the average_income dataframe**"
   ]
  },
  {
   "cell_type": "code",
   "execution_count": 13,
   "metadata": {},
   "outputs": [],
   "source": [
    "avg_income = (average_income.loc[(average_income['addr_zip']==11239)].iloc[0]['zip_average_income'] +\n",
    "             average_income.loc[(average_income['addr_zip']==11354)].iloc[0]['zip_average_income'])/2\n",
    "new_row = {'addr_zip':11249,'zip_average_income':avg_income}\n",
    "average_income=average_income.append(new_row,ignore_index=True)  "
   ]
  },
  {
   "cell_type": "markdown",
   "metadata": {},
   "source": [
    "### Merge the raw train  dataset with the income dataset by addr_zip"
   ]
  },
  {
   "cell_type": "code",
   "execution_count": 14,
   "metadata": {},
   "outputs": [],
   "source": [
    "raw_test2_df=raw_test_df.reset_index().merge(average_income, how=\"left\",on='addr_zip').set_index('rental_id')\n",
    "raw_df=raw_df.reset_index().merge(average_income, how=\"left\",on='addr_zip').set_index('rental_id')"
   ]
  },
  {
   "cell_type": "markdown",
   "metadata": {},
   "source": [
    "### Find zip_average_income and rent cooleration"
   ]
  },
  {
   "cell_type": "code",
   "execution_count": 15,
   "metadata": {},
   "outputs": [],
   "source": [
    "continuous_features.append('zip_average_income')"
   ]
  },
  {
   "cell_type": "code",
   "execution_count": 16,
   "metadata": {},
   "outputs": [
    {
     "data": {
      "text/plain": [
       "zip_average_income    0.393228\n",
       "Name: rent, dtype: float64"
      ]
     },
     "execution_count": 16,
     "metadata": {},
     "output_type": "execute_result"
    }
   ],
   "source": [
    "continuous_df = raw_df[['zip_average_income','rent']]\n",
    "continuous_df.corr()['rent'][:-1]\n"
   ]
  },
  {
   "cell_type": "markdown",
   "metadata": {},
   "source": [
    "**The correlation between zip_average_income and rent is 0.393228, it is good enough to consider as a important feature that might impact the rent**"
   ]
  },
  {
   "cell_type": "markdown",
   "metadata": {},
   "source": [
    "# Data Cleaning"
   ]
  },
  {
   "cell_type": "markdown",
   "metadata": {},
   "source": [
    "\n",
    "### Handling missing data\n",
    "In order to handle missing data in this dataset, we frist find and count all the null values."
   ]
  },
  {
   "cell_type": "code",
   "execution_count": 17,
   "metadata": {},
   "outputs": [
    {
     "data": {
      "text/plain": [
       "addr_unit                  110\n",
       "building_id                  0\n",
       "bedrooms                     0\n",
       "bathrooms                    0\n",
       "size_sqft                    0\n",
       "created_at                   0\n",
       "addr_street                  0\n",
       "addr_city                    0\n",
       "addr_zip                     0\n",
       "addr_lat                     0\n",
       "addr_lon                     0\n",
       "bin                          1\n",
       "bbl                          0\n",
       "floor_count                  0\n",
       "year_built                 470\n",
       "min_to_subway              143\n",
       "has_doorman                  0\n",
       "has_elevator                 0\n",
       "has_fireplace                0\n",
       "has_dishwasher               0\n",
       "is_furnished                 0\n",
       "has_gym                      0\n",
       "allows_pets                  0\n",
       "has_washer_dryer             0\n",
       "has_garage                   0\n",
       "has_roofdeck                 0\n",
       "has_concierge                0\n",
       "has_pool                     0\n",
       "has_garden                   0\n",
       "has_childrens_playroom       0\n",
       "rent                         0\n",
       "no_fee                       0\n",
       "description                 16\n",
       "neighborhood                 3\n",
       "borough                      0\n",
       "unit                       114\n",
       "floornumber               1502\n",
       "line                      4135\n",
       "zip_average_income           0\n",
       "dtype: int64"
      ]
     },
     "execution_count": 17,
     "metadata": {},
     "output_type": "execute_result"
    }
   ],
   "source": [
    "raw_df.isna().sum()"
   ]
  },
  {
   "cell_type": "markdown",
   "metadata": {},
   "source": [
    "As we can see from the result,there are missing data appearing on: \n",
    "- addr_unit\n",
    "- bin \n",
    "- year_built \n",
    "- min_to_subway \n",
    "- description \n",
    "- neighborhood \n",
    "- unit \n",
    "- floornumber \n",
    "- line \n",
    "\n",
    "Base on our data exploration, we can see that in this case, all features beside year_built,min_to_subway,neighborhood,and floornumber has not much impact to our final result, thus we don't need to worry about them.\n",
    "\n",
    "Then, we will be dropping the rows which we don't have values for year_built, min_to_subway, neighborhood, and floornumber."
   ]
  },
  {
   "cell_type": "code",
   "execution_count": 18,
   "metadata": {},
   "outputs": [
    {
     "name": "stdout",
     "output_type": "stream",
     "text": [
      "original shape of dataset: (14000, 39)\n",
      "shape of dataset after handling missing data: (13394, 39)\n"
     ]
    },
    {
     "name": "stderr",
     "output_type": "stream",
     "text": [
      "D:\\Anaconda3\\lib\\site-packages\\pandas\\core\\generic.py:6287: SettingWithCopyWarning: \n",
      "A value is trying to be set on a copy of a slice from a DataFrame\n",
      "\n",
      "See the caveats in the documentation: http://pandas.pydata.org/pandas-docs/stable/user_guide/indexing.html#returning-a-view-versus-a-copy\n",
      "  self._update_inplace(new_data)\n"
     ]
    }
   ],
   "source": [
    "# We will call the new df md_df\n",
    "# md_df = raw_df.loc[\n",
    "#     raw_df.year_built.notnull() &\n",
    "#     raw_df.min_to_subway.notnull() & \n",
    "#     raw_df.neighborhood.notnull() & \n",
    "#     raw_df.floornumber.notnull()\n",
    "# ]\n",
    "\n",
    "# Reminder:\n",
    "# use mode to replace NAN value, compare both method when creating models\n",
    "md_df = raw_df.loc[\n",
    "    raw_df.year_built.notnull() &\n",
    "    raw_df.min_to_subway.notnull() & \n",
    "    raw_df.neighborhood.notnull() \n",
    "]\n",
    "\n",
    "md_df['floornumber'].fillna(md_df['floornumber'].mode()[0], inplace=True)\n",
    "raw_test2_df['floornumber'].fillna(raw_test2_df['floornumber'].mode()[0], inplace=True)\n",
    "\n",
    "\n",
    "\n",
    "print(\"original shape of dataset:\",raw_df.shape)\n",
    "print(\"shape of dataset after handling missing data:\",md_df.shape)"
   ]
  },
  {
   "cell_type": "markdown",
   "metadata": {},
   "source": [
    "## Remove outliers"
   ]
  },
  {
   "cell_type": "code",
   "execution_count": 19,
   "metadata": {},
   "outputs": [
    {
     "data": {
      "image/png": "[encoded data removed]",
      "text/plain": [
       "<Figure size 432x288 with 1 Axes>"
      ]
     },
     "metadata": {
      "needs_background": "light"
     },
     "output_type": "display_data"
    },
    {
     "data": {
      "image/png": "[encoded data removed]",
      "text/plain": [
       "<Figure size 432x288 with 1 Axes>"
      ]
     },
     "metadata": {
      "needs_background": "light"
     },
     "output_type": "display_data"
    },
    {
     "data": {
      "image/png": "[encoded data removed]",
      "text/plain": [
       "<Figure size 432x288 with 1 Axes>"
      ]
     },
     "metadata": {
      "needs_background": "light"
     },
     "output_type": "display_data"
    },
    {
     "data": {
      "image/png": "[encoded data removed]",
      "text/plain": [
       "<Figure size 432x288 with 1 Axes>"
      ]
     },
     "metadata": {
      "needs_background": "light"
     },
     "output_type": "display_data"
    },
    {
     "data": {
      "image/png": "[encoded data removed]",
      "text/plain": [
       "<Figure size 432x288 with 1 Axes>"
      ]
     },
     "metadata": {
      "needs_background": "light"
     },
     "output_type": "display_data"
    },
    {
     "data": {
      "image/png": "[encoded data removed]",
      "text/plain": [
       "<Figure size 432x288 with 1 Axes>"
      ]
     },
     "metadata": {
      "needs_background": "light"
     },
     "output_type": "display_data"
    },
    {
     "data": {
      "image/png": "[encoded data removed]",
      "text/plain": [
       "<Figure size 432x288 with 1 Axes>"
      ]
     },
     "metadata": {
      "needs_background": "light"
     },
     "output_type": "display_data"
    },
    {
     "data": {
      "image/png": "[encoded data removed]",
      "text/plain": [
       "<Figure size 432x288 with 1 Axes>"
      ]
     },
     "metadata": {
      "needs_background": "light"
     },
     "output_type": "display_data"
    }
   ],
   "source": [
    "for feature in continuous_features:\n",
    "    md_df.plot.scatter(feature, 'rent')"
   ]
  },
  {
   "cell_type": "code",
   "execution_count": 20,
   "metadata": {},
   "outputs": [
    {
     "data": {
      "text/plain": [
       "addr_unit                 8\n",
       "building_id               8\n",
       "bedrooms                  8\n",
       "bathrooms                 8\n",
       "size_sqft                 8\n",
       "created_at                8\n",
       "addr_street               8\n",
       "addr_city                 8\n",
       "addr_zip                  8\n",
       "addr_lat                  8\n",
       "addr_lon                  8\n",
       "bin                       8\n",
       "bbl                       8\n",
       "floor_count               8\n",
       "year_built                8\n",
       "min_to_subway             8\n",
       "has_doorman               8\n",
       "has_elevator              8\n",
       "has_fireplace             8\n",
       "has_dishwasher            8\n",
       "is_furnished              8\n",
       "has_gym                   8\n",
       "allows_pets               8\n",
       "has_washer_dryer          8\n",
       "has_garage                8\n",
       "has_roofdeck              8\n",
       "has_concierge             8\n",
       "has_pool                  8\n",
       "has_garden                8\n",
       "has_childrens_playroom    8\n",
       "rent                      8\n",
       "no_fee                    8\n",
       "description               8\n",
       "neighborhood              8\n",
       "borough                   8\n",
       "unit                      8\n",
       "floornumber               8\n",
       "line                      4\n",
       "zip_average_income        8\n",
       "dtype: int64"
      ]
     },
     "execution_count": 20,
     "metadata": {},
     "output_type": "execute_result"
    }
   ],
   "source": [
    "md_df[md_df['rent']>40000].count()"
   ]
  },
  {
   "cell_type": "markdown",
   "metadata": {},
   "source": [
    "**drop size_sqrt = 0 for now, since there are 713 rows, might replace with mode when creating models**"
   ]
  },
  {
   "cell_type": "code",
   "execution_count": 21,
   "metadata": {},
   "outputs": [
    {
     "name": "stdout",
     "output_type": "stream",
     "text": [
      "rent :  (13394, 39)\n",
      "rent :  (13386, 39)\n",
      "bathrooms :  (13386, 39)\n",
      "bathrooms :  (13379, 39)\n",
      "size_sqft :  (13379, 39)\n",
      "size_sqft :  (12399, 39)\n",
      "year_built :  (12399, 39)\n",
      "year_built :  (12328, 39)\n",
      "min_to_subway :  (12328, 39)\n",
      "min_to_subway :  (12316, 39)\n",
      "floornumber :  (12316, 39)\n",
      "floornumber :  (12313, 39)\n"
     ]
    }
   ],
   "source": [
    "def remove_outliers(md_df, feature, low_value, high_value):\n",
    "    print(feature, ': ', md_df.shape)\n",
    "    md_df = md_df[md_df[feature]>low_value]\n",
    "    md_df = md_df[md_df[feature]<=high_value]\n",
    "    md_df.reset_index(drop=True,inplace=True)\n",
    "    print(feature, ': ', md_df.shape)\n",
    "    return md_df\n",
    "\n",
    "md_df = remove_outliers(md_df, 'rent', 0, 40000)\n",
    "md_df = remove_outliers(md_df, 'bathrooms', 0, 12)\n",
    "md_df = remove_outliers(md_df, 'size_sqft', 0, 10000)\n",
    "md_df = remove_outliers(md_df, 'year_built', 1700, 2019)\n",
    "md_df = remove_outliers(md_df, 'min_to_subway', 0, 60)\n",
    "md_df = remove_outliers(md_df, 'floornumber', 0, 60)\n",
    "\n",
    "md_df['year_built'] = 2019 - md_df['year_built'].astype(int)"
   ]
  },
  {
   "cell_type": "markdown",
   "metadata": {},
   "source": [
    "### Encode categorical feature and drop useless features"
   ]
  },
  {
   "cell_type": "code",
   "execution_count": 22,
   "metadata": {},
   "outputs": [],
   "source": [
    "boroughs = np.array(md_df['borough'].unique())\n",
    "\n",
    "for borough in boroughs:\n",
    "    md_df[borough] = md_df['borough'].apply(lambda x : int(x == borough))\n",
    "    raw_test2_df[borough] = raw_test2_df['borough'].apply(lambda x : int(x == borough))\n",
    "\n",
    "features_notNeed = ['addr_unit', 'building_id', 'created_at', 'addr_street', 'addr_city', 'addr_zip', 'bin', 'bbl', 'description', \\\n",
    "                    'neighborhood', 'unit', 'borough', 'line']\n",
    "\n",
    "md_df = md_df.drop(features_notNeed, axis=1)"
   ]
  },
  {
   "cell_type": "markdown",
   "metadata": {},
   "source": [
    "### Use pair coorelation for continuous features"
   ]
  },
  {
   "cell_type": "code",
   "execution_count": 23,
   "metadata": {},
   "outputs": [
    {
     "data": {
      "text/plain": [
       "bathrooms             0.638473\n",
       "bedrooms              0.348422\n",
       "size_sqft             0.699390\n",
       "floor_count           0.264480\n",
       "year_built           -0.109256\n",
       "min_to_subway        -0.077426\n",
       "floornumber           0.252563\n",
       "zip_average_income    0.421969\n",
       "Name: rent, dtype: float64"
      ]
     },
     "execution_count": 23,
     "metadata": {},
     "output_type": "execute_result"
    }
   ],
   "source": [
    "continuous_df = md_df[continuous_features+['rent']]\n",
    "continuous_df.corr()['rent'][:-1]"
   ]
  },
  {
   "cell_type": "markdown",
   "metadata": {},
   "source": [
    "### Check coorelation for binary features"
   ]
  },
  {
   "cell_type": "code",
   "execution_count": 24,
   "metadata": {},
   "outputs": [
    {
     "data": {
      "text/html": [
       "<div>\n",
       "<style scoped>\n",
       "    .dataframe tbody tr th:only-of-type {\n",
       "        vertical-align: middle;\n",
       "    }\n",
       "\n",
       "    .dataframe tbody tr th {\n",
       "        vertical-align: top;\n",
       "    }\n",
       "\n",
       "    .dataframe thead th {\n",
       "        text-align: right;\n",
       "    }\n",
       "</style>\n",
       "<table border=\"1\" class=\"dataframe\">\n",
       "  <thead>\n",
       "    <tr style=\"text-align: right;\">\n",
       "      <th></th>\n",
       "      <th>Coorelation</th>\n",
       "      <th>Feature</th>\n",
       "    </tr>\n",
       "  </thead>\n",
       "  <tbody>\n",
       "    <tr>\n",
       "      <th>0</th>\n",
       "      <td>1.0</td>\n",
       "      <td>has_doorman</td>\n",
       "    </tr>\n",
       "    <tr>\n",
       "      <th>1</th>\n",
       "      <td>1.0</td>\n",
       "      <td>has_elevator</td>\n",
       "    </tr>\n",
       "    <tr>\n",
       "      <th>2</th>\n",
       "      <td>1.0</td>\n",
       "      <td>has_fireplace</td>\n",
       "    </tr>\n",
       "    <tr>\n",
       "      <th>3</th>\n",
       "      <td>1.0</td>\n",
       "      <td>has_dishwasher</td>\n",
       "    </tr>\n",
       "    <tr>\n",
       "      <th>4</th>\n",
       "      <td>1.0</td>\n",
       "      <td>is_furnished</td>\n",
       "    </tr>\n",
       "    <tr>\n",
       "      <th>5</th>\n",
       "      <td>1.0</td>\n",
       "      <td>has_gym</td>\n",
       "    </tr>\n",
       "    <tr>\n",
       "      <th>6</th>\n",
       "      <td>1.0</td>\n",
       "      <td>allows_pets</td>\n",
       "    </tr>\n",
       "    <tr>\n",
       "      <th>7</th>\n",
       "      <td>1.0</td>\n",
       "      <td>has_washer_dryer</td>\n",
       "    </tr>\n",
       "    <tr>\n",
       "      <th>8</th>\n",
       "      <td>1.0</td>\n",
       "      <td>has_garage</td>\n",
       "    </tr>\n",
       "    <tr>\n",
       "      <th>9</th>\n",
       "      <td>1.0</td>\n",
       "      <td>has_roofdeck</td>\n",
       "    </tr>\n",
       "    <tr>\n",
       "      <th>10</th>\n",
       "      <td>1.0</td>\n",
       "      <td>has_concierge</td>\n",
       "    </tr>\n",
       "    <tr>\n",
       "      <th>11</th>\n",
       "      <td>1.0</td>\n",
       "      <td>has_pool</td>\n",
       "    </tr>\n",
       "    <tr>\n",
       "      <th>12</th>\n",
       "      <td>1.0</td>\n",
       "      <td>has_garden</td>\n",
       "    </tr>\n",
       "    <tr>\n",
       "      <th>13</th>\n",
       "      <td>1.0</td>\n",
       "      <td>has_childrens_playroom</td>\n",
       "    </tr>\n",
       "    <tr>\n",
       "      <th>14</th>\n",
       "      <td>1.0</td>\n",
       "      <td>no_fee</td>\n",
       "    </tr>\n",
       "  </tbody>\n",
       "</table>\n",
       "</div>"
      ],
      "text/plain": [
       "    Coorelation                 Feature\n",
       "0           1.0             has_doorman\n",
       "1           1.0            has_elevator\n",
       "2           1.0           has_fireplace\n",
       "3           1.0          has_dishwasher\n",
       "4           1.0            is_furnished\n",
       "5           1.0                 has_gym\n",
       "6           1.0             allows_pets\n",
       "7           1.0        has_washer_dryer\n",
       "8           1.0              has_garage\n",
       "9           1.0            has_roofdeck\n",
       "10          1.0           has_concierge\n",
       "11          1.0                has_pool\n",
       "12          1.0              has_garden\n",
       "13          1.0  has_childrens_playroom\n",
       "14          1.0                  no_fee"
      ]
     },
     "execution_count": 24,
     "metadata": {},
     "output_type": "execute_result"
    }
   ],
   "source": [
    "md_df[binary_features+['rent']].corr()['rent'][:-1]\n",
    "coor_results= []\n",
    "\n",
    "for feature in binary_features:\n",
    "  df = raw_df.groupby([feature]).aggregate(['mean'])['rent']\n",
    "  df[feature]= df.index\n",
    "  coor_results.append(df.corr().iloc[0][1])\n",
    "coor_df = pd.DataFrame({'Coorelation': coor_results,'Feature':binary_features})\n",
    "coor_df\n"
   ]
  },
  {
   "cell_type": "markdown",
   "metadata": {},
   "source": [
    "As we can see in the correlation table, all binrary features highly affected the rents. When we build the models, we should include all binary features."
   ]
  },
  {
   "cell_type": "markdown",
   "metadata": {},
   "source": [
    "# Build Models\n",
    "We will be using cross validation to evaluate the performances of our all modles,and then deciding which should be the most suitable one, thus we will first create a function called get_cv_results to obtain the cv_performance."
   ]
  },
  {
   "cell_type": "code",
   "execution_count": 25,
   "metadata": {},
   "outputs": [],
   "source": [
    "md_df = shuffle(md_df).reset_index(drop=True)\n"
   ]
  },
  {
   "cell_type": "code",
   "execution_count": 26,
   "metadata": {},
   "outputs": [],
   "source": [
    "features = list(md_df.columns)\n",
    "features.remove('rent')\n",
    "k_fold = KFold(n_splits=10)"
   ]
  },
  {
   "cell_type": "code",
   "execution_count": 27,
   "metadata": {},
   "outputs": [],
   "source": [
    "def get_cv_results(regressor):\n",
    "    \n",
    "    results = []\n",
    "    for train, test in k_fold.split(md_df):\n",
    "        regressor.fit(md_df.loc[train, features], md_df.loc[train, 'rent'])\n",
    "        y_predicted = regressor.predict(md_df.loc[test, features])\n",
    "        accuracy = mean_squared_error(md_df.loc[test, 'rent'], y_predicted)**0.5\n",
    "        results.append(accuracy)\n",
    "\n",
    "    return np.mean(results), np.std(results)"
   ]
  },
  {
   "cell_type": "markdown",
   "metadata": {},
   "source": [
    "### Radnom Forest Model"
   ]
  },
  {
   "cell_type": "code",
   "execution_count": 28,
   "metadata": {},
   "outputs": [],
   "source": [
    "rforest = RandomForestRegressor(\n",
    "    random_state=11, \n",
    "    max_depth=10,\n",
    "    n_estimators=200\n",
    ")\n"
   ]
  },
  {
   "cell_type": "code",
   "execution_count": 30,
   "metadata": {},
   "outputs": [
    {
     "data": {
      "text/plain": [
       "(1006.0684117666148, 140.2124513591036)"
      ]
     },
     "execution_count": 30,
     "metadata": {},
     "output_type": "execute_result"
    }
   ],
   "source": [
    "get_cv_results(rforest)"
   ]
  },
  {
   "cell_type": "code",
   "execution_count": 31,
   "metadata": {},
   "outputs": [
    {
     "name": "stdout",
     "output_type": "stream",
     "text": [
      "size_sqft   0.5486262614965186\n",
      "zip_average_income   0.20056785135135713\n",
      "bathrooms   0.11025891766648362\n",
      "addr_lon   0.024233526807983626\n",
      "addr_lat   0.02020014535481492\n",
      "year_built   0.016131927096882694\n",
      "bedrooms   0.015318409149003578\n",
      "floor_count   0.010769874039296686\n",
      "floornumber   0.010228082804667343\n",
      "min_to_subway   0.009365878135182283\n",
      "has_roofdeck   0.0058086795801907615\n",
      "has_gym   0.005744457673909175\n",
      "no_fee   0.0028412560758757496\n",
      "has_washer_dryer   0.0028382530286903186\n",
      "has_dishwasher   0.0025483757022389994\n",
      "is_furnished   0.0024664414032943213\n",
      "has_elevator   0.0019516697018954158\n",
      "has_concierge   0.0016324742169201319\n",
      "has_garden   0.001440915435841744\n",
      "has_doorman   0.001367857678235838\n",
      "allows_pets   0.0012844064895364603\n",
      "has_pool   0.0011756169683861484\n",
      "Manhattan   0.0008991418787541671\n",
      "has_fireplace   0.0008014650104304003\n",
      "has_childrens_playroom   0.000739097718198675\n",
      "has_garage   0.0005288517018815939\n",
      "Brooklyn   0.0002097396258042829\n",
      "Queens   1.5096061143258589e-05\n",
      "Bronx   4.47308509927117e-06\n",
      "Staten Island   8.570614827063645e-07\n"
     ]
    }
   ],
   "source": [
    "rforest.fit(md_df[features], md_df['rent'])  \n",
    "for feature,score in sorted(zip(features,rforest.feature_importances_), key=lambda x:x[1], reverse=True):\n",
    "    print(feature, ' ', score)"
   ]
  },
  {
   "cell_type": "markdown",
   "metadata": {},
   "source": [
    "### Multiple Regression"
   ]
  },
  {
   "cell_type": "code",
   "execution_count": 32,
   "metadata": {},
   "outputs": [],
   "source": [
    "import statsmodels.api as sm\n",
    "from sklearn.linear_model import LinearRegression"
   ]
  },
  {
   "cell_type": "code",
   "execution_count": 33,
   "metadata": {},
   "outputs": [
    {
     "data": {
      "text/html": [
       "<table class=\"simpletable\">\n",
       "<caption>OLS Regression Results</caption>\n",
       "<tr>\n",
       "  <th>Dep. Variable:</th>          <td>rent</td>       <th>  R-squared:         </th>  <td>   0.719</td>  \n",
       "</tr>\n",
       "<tr>\n",
       "  <th>Model:</th>                   <td>OLS</td>       <th>  Adj. R-squared:    </th>  <td>   0.718</td>  \n",
       "</tr>\n",
       "<tr>\n",
       "  <th>Method:</th>             <td>Least Squares</td>  <th>  F-statistic:       </th>  <td>   1082.</td>  \n",
       "</tr>\n",
       "<tr>\n",
       "  <th>Date:</th>             <td>Mon, 18 Nov 2019</td> <th>  Prob (F-statistic):</th>   <td>  0.00</td>   \n",
       "</tr>\n",
       "<tr>\n",
       "  <th>Time:</th>                 <td>14:45:08</td>     <th>  Log-Likelihood:    </th> <td>-1.0707e+05</td>\n",
       "</tr>\n",
       "<tr>\n",
       "  <th>No. Observations:</th>      <td> 12313</td>      <th>  AIC:               </th>  <td>2.142e+05</td> \n",
       "</tr>\n",
       "<tr>\n",
       "  <th>Df Residuals:</th>          <td> 12283</td>      <th>  BIC:               </th>  <td>2.144e+05</td> \n",
       "</tr>\n",
       "<tr>\n",
       "  <th>Df Model:</th>              <td>    29</td>      <th>                     </th>      <td> </td>     \n",
       "</tr>\n",
       "<tr>\n",
       "  <th>Covariance Type:</th>      <td>nonrobust</td>    <th>                     </th>      <td> </td>     \n",
       "</tr>\n",
       "</table>\n",
       "<table class=\"simpletable\">\n",
       "<tr>\n",
       "             <td></td>               <th>coef</th>     <th>std err</th>      <th>t</th>      <th>P>|t|</th>  <th>[0.025</th>    <th>0.975]</th>  \n",
       "</tr>\n",
       "<tr>\n",
       "  <th>bedrooms</th>               <td>   26.8220</td> <td>   17.608</td> <td>    1.523</td> <td> 0.128</td> <td>   -7.693</td> <td>   61.337</td>\n",
       "</tr>\n",
       "<tr>\n",
       "  <th>bathrooms</th>              <td> 1061.4341</td> <td>   34.801</td> <td>   30.500</td> <td> 0.000</td> <td>  993.218</td> <td> 1129.650</td>\n",
       "</tr>\n",
       "<tr>\n",
       "  <th>size_sqft</th>              <td>    3.1486</td> <td>    0.044</td> <td>   71.596</td> <td> 0.000</td> <td>    3.062</td> <td>    3.235</td>\n",
       "</tr>\n",
       "<tr>\n",
       "  <th>addr_lat</th>               <td> 2402.5441</td> <td>  430.784</td> <td>    5.577</td> <td> 0.000</td> <td> 1558.140</td> <td> 3246.948</td>\n",
       "</tr>\n",
       "<tr>\n",
       "  <th>addr_lon</th>               <td>-6103.0457</td> <td>  509.426</td> <td>  -11.980</td> <td> 0.000</td> <td>-7101.601</td> <td>-5104.490</td>\n",
       "</tr>\n",
       "<tr>\n",
       "  <th>floor_count</th>            <td>  -14.9775</td> <td>    2.372</td> <td>   -6.315</td> <td> 0.000</td> <td>  -19.626</td> <td>  -10.329</td>\n",
       "</tr>\n",
       "<tr>\n",
       "  <th>year_built</th>             <td>    0.1607</td> <td>    0.461</td> <td>    0.348</td> <td> 0.728</td> <td>   -0.744</td> <td>    1.065</td>\n",
       "</tr>\n",
       "<tr>\n",
       "  <th>min_to_subway</th>          <td>  -20.1435</td> <td>    3.717</td> <td>   -5.420</td> <td> 0.000</td> <td>  -27.429</td> <td>  -12.858</td>\n",
       "</tr>\n",
       "<tr>\n",
       "  <th>has_doorman</th>            <td>  125.8559</td> <td>   49.502</td> <td>    2.542</td> <td> 0.011</td> <td>   28.824</td> <td>  222.888</td>\n",
       "</tr>\n",
       "<tr>\n",
       "  <th>has_elevator</th>           <td>  301.6744</td> <td>   40.446</td> <td>    7.459</td> <td> 0.000</td> <td>  222.394</td> <td>  380.954</td>\n",
       "</tr>\n",
       "<tr>\n",
       "  <th>has_fireplace</th>          <td>  400.2070</td> <td>   70.539</td> <td>    5.674</td> <td> 0.000</td> <td>  261.939</td> <td>  538.475</td>\n",
       "</tr>\n",
       "<tr>\n",
       "  <th>has_dishwasher</th>         <td> -158.7147</td> <td>   30.347</td> <td>   -5.230</td> <td> 0.000</td> <td> -218.199</td> <td>  -99.230</td>\n",
       "</tr>\n",
       "<tr>\n",
       "  <th>is_furnished</th>           <td>  583.7895</td> <td>   75.434</td> <td>    7.739</td> <td> 0.000</td> <td>  435.928</td> <td>  731.651</td>\n",
       "</tr>\n",
       "<tr>\n",
       "  <th>has_gym</th>                <td>  366.2758</td> <td>   49.919</td> <td>    7.337</td> <td> 0.000</td> <td>  268.426</td> <td>  464.126</td>\n",
       "</tr>\n",
       "<tr>\n",
       "  <th>allows_pets</th>            <td>  141.1246</td> <td>   29.249</td> <td>    4.825</td> <td> 0.000</td> <td>   83.792</td> <td>  198.458</td>\n",
       "</tr>\n",
       "<tr>\n",
       "  <th>has_washer_dryer</th>       <td>  299.2661</td> <td>   33.863</td> <td>    8.838</td> <td> 0.000</td> <td>  232.890</td> <td>  365.642</td>\n",
       "</tr>\n",
       "<tr>\n",
       "  <th>has_garage</th>             <td> -120.3581</td> <td>   42.023</td> <td>   -2.864</td> <td> 0.004</td> <td> -202.730</td> <td>  -37.987</td>\n",
       "</tr>\n",
       "<tr>\n",
       "  <th>has_roofdeck</th>           <td>  171.7414</td> <td>   37.262</td> <td>    4.609</td> <td> 0.000</td> <td>   98.702</td> <td>  244.781</td>\n",
       "</tr>\n",
       "<tr>\n",
       "  <th>has_concierge</th>          <td>  199.8013</td> <td>   50.571</td> <td>    3.951</td> <td> 0.000</td> <td>  100.674</td> <td>  298.929</td>\n",
       "</tr>\n",
       "<tr>\n",
       "  <th>has_pool</th>               <td>  114.5246</td> <td>   60.088</td> <td>    1.906</td> <td> 0.057</td> <td>   -3.257</td> <td>  232.306</td>\n",
       "</tr>\n",
       "<tr>\n",
       "  <th>has_garden</th>             <td>  -15.2094</td> <td>   41.199</td> <td>   -0.369</td> <td> 0.712</td> <td>  -95.966</td> <td>   65.547</td>\n",
       "</tr>\n",
       "<tr>\n",
       "  <th>has_childrens_playroom</th> <td>  109.0733</td> <td>   55.759</td> <td>    1.956</td> <td> 0.050</td> <td>   -0.223</td> <td>  218.370</td>\n",
       "</tr>\n",
       "<tr>\n",
       "  <th>no_fee</th>                 <td> -139.1202</td> <td>   29.908</td> <td>   -4.652</td> <td> 0.000</td> <td> -197.744</td> <td>  -80.497</td>\n",
       "</tr>\n",
       "<tr>\n",
       "  <th>floornumber</th>            <td>   25.3497</td> <td>    2.964</td> <td>    8.553</td> <td> 0.000</td> <td>   19.540</td> <td>   31.159</td>\n",
       "</tr>\n",
       "<tr>\n",
       "  <th>zip_average_income</th>     <td>    0.0028</td> <td>    0.000</td> <td>   22.897</td> <td> 0.000</td> <td>    0.003</td> <td>    0.003</td>\n",
       "</tr>\n",
       "<tr>\n",
       "  <th>Brooklyn</th>               <td>-5.509e+05</td> <td> 4.68e+04</td> <td>  -11.783</td> <td> 0.000</td> <td>-6.43e+05</td> <td>-4.59e+05</td>\n",
       "</tr>\n",
       "<tr>\n",
       "  <th>Manhattan</th>              <td>-5.504e+05</td> <td> 4.68e+04</td> <td>  -11.766</td> <td> 0.000</td> <td>-6.42e+05</td> <td>-4.59e+05</td>\n",
       "</tr>\n",
       "<tr>\n",
       "  <th>Queens</th>                 <td>-5.508e+05</td> <td> 4.67e+04</td> <td>  -11.784</td> <td> 0.000</td> <td>-6.42e+05</td> <td>-4.59e+05</td>\n",
       "</tr>\n",
       "<tr>\n",
       "  <th>Bronx</th>                  <td>-5.516e+05</td> <td> 4.68e+04</td> <td>  -11.792</td> <td> 0.000</td> <td>-6.43e+05</td> <td> -4.6e+05</td>\n",
       "</tr>\n",
       "<tr>\n",
       "  <th>Staten Island</th>          <td>-5.532e+05</td> <td> 4.68e+04</td> <td>  -11.819</td> <td> 0.000</td> <td>-6.45e+05</td> <td>-4.61e+05</td>\n",
       "</tr>\n",
       "</table>\n",
       "<table class=\"simpletable\">\n",
       "<tr>\n",
       "  <th>Omnibus:</th>       <td>9174.187</td> <th>  Durbin-Watson:     </th>  <td>   2.001</td>  \n",
       "</tr>\n",
       "<tr>\n",
       "  <th>Prob(Omnibus):</th>  <td> 0.000</td>  <th>  Jarque-Bera (JB):  </th> <td>2651807.955</td>\n",
       "</tr>\n",
       "<tr>\n",
       "  <th>Skew:</th>           <td> 2.532</td>  <th>  Prob(JB):          </th>  <td>    0.00</td>  \n",
       "</tr>\n",
       "<tr>\n",
       "  <th>Kurtosis:</th>       <td>74.716</td>  <th>  Cond. No.          </th>  <td>1.92e+09</td>  \n",
       "</tr>\n",
       "</table><br/><br/>Warnings:<br/>[1] Standard Errors assume that the covariance matrix of the errors is correctly specified.<br/>[2] The condition number is large, 1.92e+09. This might indicate that there are<br/>strong multicollinearity or other numerical problems."
      ],
      "text/plain": [
       "<class 'statsmodels.iolib.summary.Summary'>\n",
       "\"\"\"\n",
       "                            OLS Regression Results                            \n",
       "==============================================================================\n",
       "Dep. Variable:                   rent   R-squared:                       0.719\n",
       "Model:                            OLS   Adj. R-squared:                  0.718\n",
       "Method:                 Least Squares   F-statistic:                     1082.\n",
       "Date:                Mon, 18 Nov 2019   Prob (F-statistic):               0.00\n",
       "Time:                        14:45:08   Log-Likelihood:            -1.0707e+05\n",
       "No. Observations:               12313   AIC:                         2.142e+05\n",
       "Df Residuals:                   12283   BIC:                         2.144e+05\n",
       "Df Model:                          29                                         \n",
       "Covariance Type:            nonrobust                                         \n",
       "==========================================================================================\n",
       "                             coef    std err          t      P>|t|      [0.025      0.975]\n",
       "------------------------------------------------------------------------------------------\n",
       "bedrooms                  26.8220     17.608      1.523      0.128      -7.693      61.337\n",
       "bathrooms               1061.4341     34.801     30.500      0.000     993.218    1129.650\n",
       "size_sqft                  3.1486      0.044     71.596      0.000       3.062       3.235\n",
       "addr_lat                2402.5441    430.784      5.577      0.000    1558.140    3246.948\n",
       "addr_lon               -6103.0457    509.426    -11.980      0.000   -7101.601   -5104.490\n",
       "floor_count              -14.9775      2.372     -6.315      0.000     -19.626     -10.329\n",
       "year_built                 0.1607      0.461      0.348      0.728      -0.744       1.065\n",
       "min_to_subway            -20.1435      3.717     -5.420      0.000     -27.429     -12.858\n",
       "has_doorman              125.8559     49.502      2.542      0.011      28.824     222.888\n",
       "has_elevator             301.6744     40.446      7.459      0.000     222.394     380.954\n",
       "has_fireplace            400.2070     70.539      5.674      0.000     261.939     538.475\n",
       "has_dishwasher          -158.7147     30.347     -5.230      0.000    -218.199     -99.230\n",
       "is_furnished             583.7895     75.434      7.739      0.000     435.928     731.651\n",
       "has_gym                  366.2758     49.919      7.337      0.000     268.426     464.126\n",
       "allows_pets              141.1246     29.249      4.825      0.000      83.792     198.458\n",
       "has_washer_dryer         299.2661     33.863      8.838      0.000     232.890     365.642\n",
       "has_garage              -120.3581     42.023     -2.864      0.004    -202.730     -37.987\n",
       "has_roofdeck             171.7414     37.262      4.609      0.000      98.702     244.781\n",
       "has_concierge            199.8013     50.571      3.951      0.000     100.674     298.929\n",
       "has_pool                 114.5246     60.088      1.906      0.057      -3.257     232.306\n",
       "has_garden               -15.2094     41.199     -0.369      0.712     -95.966      65.547\n",
       "has_childrens_playroom   109.0733     55.759      1.956      0.050      -0.223     218.370\n",
       "no_fee                  -139.1202     29.908     -4.652      0.000    -197.744     -80.497\n",
       "floornumber               25.3497      2.964      8.553      0.000      19.540      31.159\n",
       "zip_average_income         0.0028      0.000     22.897      0.000       0.003       0.003\n",
       "Brooklyn               -5.509e+05   4.68e+04    -11.783      0.000   -6.43e+05   -4.59e+05\n",
       "Manhattan              -5.504e+05   4.68e+04    -11.766      0.000   -6.42e+05   -4.59e+05\n",
       "Queens                 -5.508e+05   4.67e+04    -11.784      0.000   -6.42e+05   -4.59e+05\n",
       "Bronx                  -5.516e+05   4.68e+04    -11.792      0.000   -6.43e+05    -4.6e+05\n",
       "Staten Island          -5.532e+05   4.68e+04    -11.819      0.000   -6.45e+05   -4.61e+05\n",
       "==============================================================================\n",
       "Omnibus:                     9174.187   Durbin-Watson:                   2.001\n",
       "Prob(Omnibus):                  0.000   Jarque-Bera (JB):          2651807.955\n",
       "Skew:                           2.532   Prob(JB):                         0.00\n",
       "Kurtosis:                      74.716   Cond. No.                     1.92e+09\n",
       "==============================================================================\n",
       "\n",
       "Warnings:\n",
       "[1] Standard Errors assume that the covariance matrix of the errors is correctly specified.\n",
       "[2] The condition number is large, 1.92e+09. This might indicate that there are\n",
       "strong multicollinearity or other numerical problems.\n",
       "\"\"\""
      ]
     },
     "execution_count": 33,
     "metadata": {},
     "output_type": "execute_result"
    }
   ],
   "source": [
    "mul_reg_features = features[:]\n",
    "x = md_df[features] \n",
    "y = md_df['rent']\n",
    "est = sm.OLS(y, x).fit()\n",
    "est.summary()"
   ]
  },
  {
   "cell_type": "code",
   "execution_count": 34,
   "metadata": {},
   "outputs": [],
   "source": [
    "mul_reg_features.remove('has_garden')\n",
    "mul_reg_features.remove('year_built')\n",
    "mul_reg_features.remove('bedrooms')"
   ]
  },
  {
   "cell_type": "code",
   "execution_count": 35,
   "metadata": {},
   "outputs": [
    {
     "data": {
      "text/plain": [
       "(1454.94383582609, 126.85144357399963)"
      ]
     },
     "execution_count": 35,
     "metadata": {},
     "output_type": "execute_result"
    }
   ],
   "source": [
    "mul_reg = LinearRegression().fit(md_df[mul_reg_features], md_df['rent'])\n",
    "get_cv_results(mul_reg)"
   ]
  },
  {
   "cell_type": "markdown",
   "metadata": {},
   "source": [
    "## Gradient Boosting Regression\n",
    "For the gradient boosting regressor we will first set up the hyperparameter max_depth=5 to avoid overfitting, will adjust more hyperparameter as we move on to improve the model\n"
   ]
  },
  {
   "cell_type": "code",
   "execution_count": 36,
   "metadata": {},
   "outputs": [
    {
     "data": {
      "text/plain": [
       "(960.984006759841, 133.0257933747557)"
      ]
     },
     "execution_count": 36,
     "metadata": {},
     "output_type": "execute_result"
    }
   ],
   "source": [
    "gbrdemo = GradientBoostingRegressor(\n",
    "    max_depth=5,\n",
    "    n_estimators=100\n",
    ")\n",
    "\n",
    "get_cv_results(gbrdemo)"
   ]
  },
  {
   "cell_type": "markdown",
   "metadata": {},
   "source": [
    "### Tuning Hyperparameters\n",
    "Now let's use GridSearchCV form sci-kit learn model_selection to tune the hyperparameters, and find the most suitable one for our Gradient Boosting Regression model."
   ]
  },
  {
   "cell_type": "code",
   "execution_count": 37,
   "metadata": {},
   "outputs": [],
   "source": [
    "# Tuning the hyperparameters based on a cross-validation subset (cv)\n",
    "# cited link: link: https://shankarmsy.github.io/stories/gbrt-sklearn.html\n",
    "\n",
    "def GradientBooster():\n",
    "    \n",
    "    param_grid={'n_estimators':[100],\n",
    "            'learning_rate': [0.1, 0.05, 0.01],\n",
    "            'max_depth':[4, 5, 6],\n",
    "            'min_samples_leaf':[3, 5, 9],\n",
    "           }\n",
    "    \n",
    "    # choose cross validation generator and use ShuffleSplit which randomly shuffles and selects Train and CV sets\n",
    "    cv = ShuffleSplit(n_splits=5, test_size=.25, random_state=0)\n",
    "    \n",
    "    classifier = GridSearchCV(estimator = GradientBoostingRegressor(), param_grid=param_grid, n_jobs=4, cv=cv)\n",
    "    \n",
    "    classifier.fit(md_df[features], md_df['rent'])  \n",
    "    return classifier.best_params_"
   ]
  },
  {
   "cell_type": "code",
   "execution_count": 47,
   "metadata": {},
   "outputs": [
    {
     "name": "stdout",
     "output_type": "stream",
     "text": [
      "Since this function takes too long to run, it will waste a lot of time during development,      \n",
      "so we will just record the result for further usage:\n",
      "\n",
      "Best Estimator Parameters:\n",
      "n_estimators:  100\n",
      "max_depth:  6\n",
      "Learning Rate:  0.1\n",
      "min_samples_leaf:  3\n"
     ]
    }
   ],
   "source": [
    "# Since this function takes too long to run, it will waste a lot of time during development,\n",
    "# so we will just record the result for further usage. -----Runmin 11/18/19\n",
    "\"\"\"\n",
    "best_est=GradientBooster()\n",
    "\n",
    "print(\"Best Estimator Parameters:\")\n",
    "print(\"n_estimators: \",best_est['n_estimators'])\n",
    "print(\"max_depth: \", best_est['max_depth'])\n",
    "print(\"Learning Rate: \", best_est['learning_rate'])\n",
    "print(\"min_samples_leaf: \", best_est['min_samples_leaf'])\n",
    "\"\"\"\n",
    "print(\"Since this function takes too long to run, it will waste a lot of time during development,\\\n",
    "      \\nso we will just record the result for further usage:\")\n",
    "print(\"\\nBest Estimator Parameters:\")\n",
    "print(\"n_estimators: \",100)\n",
    "print(\"max_depth: \", 6)\n",
    "print(\"Learning Rate: \", 0.1)\n",
    "print(\"min_samples_leaf: \", 3)"
   ]
  },
  {
   "cell_type": "markdown",
   "metadata": {},
   "source": [
    "As we can see from the result above, we have found the suitable hyperparameters for our model, thus we can use them to check if a better result will be obtained.\n"
   ]
  },
  {
   "cell_type": "code",
   "execution_count": 42,
   "metadata": {},
   "outputs": [
    {
     "data": {
      "text/plain": [
       "(949.5810682059418, 146.15814613574975)"
      ]
     },
     "execution_count": 42,
     "metadata": {},
     "output_type": "execute_result"
    }
   ],
   "source": [
    "bettergbr1 = GradientBoostingRegressor(\n",
    "    n_estimators=100,\n",
    "    max_depth=6,\n",
    "    learning_rate=0.1,\n",
    "    min_samples_leaf=3\n",
    ")\n",
    "\n",
    "get_cv_results(bettergbr1)"
   ]
  },
  {
   "cell_type": "markdown",
   "metadata": {},
   "source": [
    "We do see some improvements on the mean squared error after we adjusted the hyperparameter a bit"
   ]
  },
  {
   "cell_type": "markdown",
   "metadata": {},
   "source": [
    "### Neural Network"
   ]
  },
  {
   "cell_type": "code",
   "execution_count": 49,
   "metadata": {},
   "outputs": [],
   "source": [
    "scaler = StandardScaler()\n",
    "X = scaler.fit_transform(md_df[features])\n",
    "Y = md_df['rent'].values.reshape(-1,1)\n",
    "\n",
    "train_x, test_x, train_y, test_y = train_test_split(X, Y, test_size=0.2, random_state=42)"
   ]
  },
  {
   "cell_type": "code",
   "execution_count": 56,
   "metadata": {},
   "outputs": [],
   "source": [
    "net = models.Sequential()\n",
    "net.add(layers.Dense(64, input_dim=train_x.shape[1], kernel_regularizer=regularizers.l1(0.1), activation='relu'))\n",
    "net.add(layers.Dropout(0.1))\n",
    "\n",
    "net.add(layers.Dense(64, kernel_regularizer=regularizers.l1(0.1), activation='relu'))\n",
    "net.add(layers.Dropout(0.1))\n",
    "\n",
    "net.add(layers.Dense(128, kernel_regularizer=regularizers.l1(0.1), activation='relu'))\n",
    "net.add(layers.Dropout(0.1))\n",
    "\n",
    "net.add(layers.Dense(256, kernel_regularizer=regularizers.l1(0.1), activation='relu'))\n",
    "net.add(layers.Dropout(0.1))\n",
    "\n",
    "net.add(layers.Dense(1, activation='linear'))\n",
    "\n",
    "net.compile(loss='mean_squared_error',\n",
    "            optimizer='adam',\n",
    "            metrics=['mean_squared_error'])"
   ]
  },
  {
   "cell_type": "code",
   "execution_count": 58,
   "metadata": {},
   "outputs": [
    {
     "name": "stdout",
     "output_type": "stream",
     "text": [
      "Train on 8865 samples, validate on 985 samples\n",
      "Epoch 1/150\n",
      "8865/8865 [==============================] - 2s 235us/step - loss: 1513773.4409 - mean_squared_error: 1513393.3607 - val_loss: 3901693.2878 - val_mean_squared_error: 3901314.6614\n",
      "Epoch 2/150\n",
      "8865/8865 [==============================] - 2s 215us/step - loss: 1507564.0136 - mean_squared_error: 1507184.7077 - val_loss: 4166226.1558 - val_mean_squared_error: 4165846.8878\n",
      "Epoch 3/150\n",
      "8865/8865 [==============================] - 2s 216us/step - loss: 1505047.9446 - mean_squared_error: 1504670.6170 - val_loss: 4007223.7360 - val_mean_squared_error: 4006847.1310\n",
      "Epoch 4/150\n",
      "8865/8865 [==============================] - 2s 204us/step - loss: 1536070.5744 - mean_squared_error: 1535693.9626 - val_loss: 4242177.2107 - val_mean_squared_error: 4241799.8635\n",
      "Epoch 5/150\n",
      "8865/8865 [==============================] - 2s 197us/step - loss: 1514593.6765 - mean_squared_error: 1514218.0863 - val_loss: 4393121.9462 - val_mean_squared_error: 4392744.4751\n",
      "Epoch 6/150\n",
      "8865/8865 [==============================] - 1s 161us/step - loss: 1446344.7636 - mean_squared_error: 1445969.0154 - val_loss: 5812031.6508 - val_mean_squared_error: 5811649.1320\n",
      "Epoch 7/150\n",
      "8865/8865 [==============================] - 2s 277us/step - loss: 1444217.7929 - mean_squared_error: 1443840.4050 - val_loss: 4682552.0538 - val_mean_squared_error: 4682173.3421\n",
      "Epoch 8/150\n",
      "8865/8865 [==============================] - 1s 165us/step - loss: 1428220.9402 - mean_squared_error: 1427843.1969 - val_loss: 4295354.8081 - val_mean_squared_error: 4294976.8695\n",
      "Epoch 9/150\n",
      "8865/8865 [==============================] - 2s 178us/step - loss: 1424044.0187 - mean_squared_error: 1423666.8111 - val_loss: 4091535.0589 - val_mean_squared_error: 4091159.7335\n",
      "Epoch 10/150\n",
      "8865/8865 [==============================] - 2s 218us/step - loss: 1353102.6426 - mean_squared_error: 1352725.2148 - val_loss: 4147076.0147 - val_mean_squared_error: 4146699.0015\n",
      "Epoch 11/150\n",
      "8865/8865 [==============================] - 1s 163us/step - loss: 1387194.1711 - mean_squared_error: 1386816.4548 - val_loss: 3695684.3736 - val_mean_squared_error: 3695309.1944\n",
      "Epoch 12/150\n",
      "8865/8865 [==============================] - 2s 210us/step - loss: 1324051.1126 - mean_squared_error: 1323673.5673 - val_loss: 4934653.5777 - val_mean_squared_error: 4934272.3741\n",
      "Epoch 13/150\n",
      "8865/8865 [==============================] - 2s 227us/step - loss: 1347900.6955 - mean_squared_error: 1347520.7721 - val_loss: 4203284.1315 - val_mean_squared_error: 4202904.8178\n",
      "Epoch 14/150\n",
      "8865/8865 [==============================] - 2s 210us/step - loss: 1303835.7440 - mean_squared_error: 1303454.4722 - val_loss: 4562706.1381 - val_mean_squared_error: 4562322.7315\n",
      "Epoch 15/150\n",
      "8865/8865 [==============================] - 1s 149us/step - loss: 1318807.9299 - mean_squared_error: 1318425.8116 - val_loss: 4618097.6919 - val_mean_squared_error: 4617712.8589\n",
      "Epoch 16/150\n",
      "8865/8865 [==============================] - 2s 193us/step - loss: 1261131.7141 - mean_squared_error: 1260747.3012 - val_loss: 5065683.4315 - val_mean_squared_error: 5065294.9741\n",
      "Epoch 17/150\n",
      "8865/8865 [==============================] - 2s 200us/step - loss: 1261248.7976 - mean_squared_error: 1260861.7546 - val_loss: 4330849.4376 - val_mean_squared_error: 4330463.4538\n",
      "Epoch 18/150\n",
      "8865/8865 [==============================] - 2s 190us/step - loss: 1302241.0641 - mean_squared_error: 1301853.5757 - val_loss: 3933164.8261 - val_mean_squared_error: 3932777.9967\n",
      "Epoch 19/150\n",
      "8865/8865 [==============================] - 2s 214us/step - loss: 1238585.3891 - mean_squared_error: 1238195.5921 - val_loss: 4182223.0294 - val_mean_squared_error: 4181833.3137\n",
      "Epoch 20/150\n",
      "8865/8865 [==============================] - 2s 179us/step - loss: 1301431.9206 - mean_squared_error: 1301042.3429 - val_loss: 4199479.8028 - val_mean_squared_error: 4199088.8914\n",
      "Epoch 21/150\n",
      "8865/8865 [==============================] - 2s 169us/step - loss: 1233469.0886 - mean_squared_error: 1233076.5506 - val_loss: 4238657.1952 - val_mean_squared_error: 4238265.9513\n",
      "Epoch 22/150\n",
      "8865/8865 [==============================] - 2s 205us/step - loss: 1233639.1966 - mean_squared_error: 1233245.5784 - val_loss: 4961679.0000 - val_mean_squared_error: 4961281.6137\n",
      "Epoch 23/150\n",
      "8865/8865 [==============================] - 2s 220us/step - loss: 1204624.4942 - mean_squared_error: 1204227.4863 - val_loss: 3833157.2482 - val_mean_squared_error: 3832762.9350\n",
      "Epoch 24/150\n",
      "8865/8865 [==============================] - 2s 193us/step - loss: 1239564.6983 - mean_squared_error: 1239167.2965 - val_loss: 3857020.4053 - val_mean_squared_error: 3856621.9683\n",
      "Epoch 25/150\n",
      "8865/8865 [==============================] - 2s 227us/step - loss: 1173837.2158 - mean_squared_error: 1173436.6685 - val_loss: 4075448.3520 - val_mean_squared_error: 4075047.4893\n",
      "Epoch 26/150\n",
      "8865/8865 [==============================] - 2s 212us/step - loss: 1198689.0476 - mean_squared_error: 1198287.7582 - val_loss: 4079010.7475 - val_mean_squared_error: 4078606.7495\n",
      "Epoch 27/150\n",
      "8865/8865 [==============================] - 2s 171us/step - loss: 1187625.3782 - mean_squared_error: 1187221.1126 - val_loss: 4154843.1728 - val_mean_squared_error: 4154437.6292\n",
      "Epoch 28/150\n",
      "8865/8865 [==============================] - 2s 206us/step - loss: 1165113.2631 - mean_squared_error: 1164706.7516 - val_loss: 3642198.6505 - val_mean_squared_error: 3641794.7419\n",
      "Epoch 29/150\n",
      "8865/8865 [==============================] - 2s 204us/step - loss: 1201132.1336 - mean_squared_error: 1200724.5819 - val_loss: 4187262.1129 - val_mean_squared_error: 4186853.5756\n",
      "Epoch 30/150\n",
      "8865/8865 [==============================] - 2s 225us/step - loss: 1123346.5650 - mean_squared_error: 1122937.7764 - val_loss: 4026378.8635 - val_mean_squared_error: 4025968.7305\n",
      "Epoch 31/150\n",
      "8865/8865 [==============================] - 2s 217us/step - loss: 1174763.3424 - mean_squared_error: 1174352.3966 - val_loss: 3598732.6137 - val_mean_squared_error: 3598322.1574\n",
      "Epoch 32/150\n",
      "8865/8865 [==============================] - 1s 167us/step - loss: 1187914.9275 - mean_squared_error: 1187502.4173 - val_loss: 3743253.2305 - val_mean_squared_error: 3742841.2338\n",
      "Epoch 33/150\n",
      "8865/8865 [==============================] - 2s 209us/step - loss: 1116266.1940 - mean_squared_error: 1115853.1228 - val_loss: 3569093.8053 - val_mean_squared_error: 3568679.5343\n",
      "Epoch 34/150\n",
      "8865/8865 [==============================] - 2s 216us/step - loss: 1088797.9936 - mean_squared_error: 1088383.6089 - val_loss: 4166426.4901 - val_mean_squared_error: 4166007.5449\n",
      "Epoch 35/150\n",
      "8865/8865 [==============================] - 2s 205us/step - loss: 1074564.5922 - mean_squared_error: 1074147.3144 - val_loss: 3404840.0731 - val_mean_squared_error: 3404424.1312\n",
      "Epoch 36/150\n",
      "8865/8865 [==============================] - 2s 237us/step - loss: 1076782.1582 - mean_squared_error: 1076364.1394 - val_loss: 3815433.2571 - val_mean_squared_error: 3815012.2348\n",
      "Epoch 37/150\n",
      "8865/8865 [==============================] - 2s 193us/step - loss: 1111362.0021 - mean_squared_error: 1110941.3883 - val_loss: 3702584.4426 - val_mean_squared_error: 3702160.8330\n",
      "Epoch 38/150\n",
      "8865/8865 [==============================] - 2s 228us/step - loss: 1094588.5981 - mean_squared_error: 1094166.9579 - val_loss: 3487257.9495 - val_mean_squared_error: 3486835.3327\n",
      "Epoch 39/150\n",
      "8865/8865 [==============================] - 2s 182us/step - loss: 1072050.7916 - mean_squared_error: 1071628.6166 - val_loss: 4026583.0734 - val_mean_squared_error: 4026157.4759\n",
      "Epoch 40/150\n",
      "8865/8865 [==============================] - 2s 211us/step - loss: 1133918.3642 - mean_squared_error: 1133493.9871 - val_loss: 3553497.6307 - val_mean_squared_error: 3553069.7487\n",
      "Epoch 41/150\n",
      "8865/8865 [==============================] - 2s 280us/step - loss: 993378.5868 - mean_squared_error: 992952.6059 - val_loss: 3392274.2812 - val_mean_squared_error: 3391847.1053\n",
      "Epoch 42/150\n",
      "8865/8865 [==============================] - 2s 172us/step - loss: 1013109.2528 - mean_squared_error: 1012681.7195 - val_loss: 3517074.6546 - val_mean_squared_error: 3516645.2015\n",
      "Epoch 43/150\n",
      "8865/8865 [==============================] - 2s 200us/step - loss: 1044195.8421 - mean_squared_error: 1043766.0800 - val_loss: 3405218.4467 - val_mean_squared_error: 3404787.1949\n",
      "Epoch 44/150\n",
      "8865/8865 [==============================] - 2s 211us/step - loss: 1016290.4963 - mean_squared_error: 1015860.0255 - val_loss: 3092532.4662 - val_mean_squared_error: 3092100.0863\n",
      "Epoch 45/150\n",
      "8865/8865 [==============================] - 2s 211us/step - loss: 1029569.2034 - mean_squared_error: 1029134.9877 - val_loss: 2917539.1518 - val_mean_squared_error: 2917106.2312\n",
      "Epoch 46/150\n",
      "8865/8865 [==============================] - 2s 174us/step - loss: 1001630.5766 - mean_squared_error: 1001196.4834 - val_loss: 3306462.1635 - val_mean_squared_error: 3306025.8241\n",
      "Epoch 47/150\n",
      "8865/8865 [==============================] - 2s 217us/step - loss: 1015462.8635 - mean_squared_error: 1015027.4399 - val_loss: 2905723.4236 - val_mean_squared_error: 2905288.9178\n",
      "Epoch 48/150\n",
      "8865/8865 [==============================] - 2s 191us/step - loss: 1018832.8035 - mean_squared_error: 1018397.8609 - val_loss: 3425857.5650 - val_mean_squared_error: 3425421.7053\n",
      "Epoch 49/150\n",
      "8865/8865 [==============================] - 2s 205us/step - loss: 1017365.2563 - mean_squared_error: 1016928.0190 - val_loss: 3102415.6256 - val_mean_squared_error: 3101977.9084\n",
      "Epoch 50/150\n",
      "8865/8865 [==============================] - 1s 166us/step - loss: 1022804.1035 - mean_squared_error: 1022367.1284 - val_loss: 3057927.8548 - val_mean_squared_error: 3057490.7898\n",
      "Epoch 51/150\n",
      "8865/8865 [==============================] - 2s 221us/step - loss: 1037437.4549 - mean_squared_error: 1036999.7274 - val_loss: 2684957.2369 - val_mean_squared_error: 2684520.9228\n",
      "Epoch 52/150\n",
      "8865/8865 [==============================] - 2s 206us/step - loss: 1000796.0350 - mean_squared_error: 1000356.1957 - val_loss: 3216302.0723 - val_mean_squared_error: 3215859.0195\n",
      "Epoch 53/150\n",
      "8865/8865 [==============================] - 2s 205us/step - loss: 981510.7758 - mean_squared_error: 981067.8810 - val_loss: 2745361.1561 - val_mean_squared_error: 2744918.9162\n",
      "Epoch 54/150\n",
      "8865/8865 [==============================] - 2s 176us/step - loss: 953228.2645 - mean_squared_error: 952784.0822 - val_loss: 2615703.8557 - val_mean_squared_error: 2615260.5570\n",
      "Epoch 55/150\n",
      "8865/8865 [==============================] - 2s 215us/step - loss: 963409.3950 - mean_squared_error: 962963.1317 - val_loss: 2537521.5261 - val_mean_squared_error: 2537075.9326\n",
      "Epoch 56/150\n",
      "8865/8865 [==============================] - 2s 243us/step - loss: 966121.3298 - mean_squared_error: 965672.3867 - val_loss: 2876617.5534 - val_mean_squared_error: 2876166.6062\n",
      "Epoch 57/150\n",
      "8865/8865 [==============================] - 2s 226us/step - loss: 959929.0377 - mean_squared_error: 959478.7882 - val_loss: 3206455.3284 - val_mean_squared_error: 3206001.9607\n",
      "Epoch 58/150\n",
      "8865/8865 [==============================] - 2s 265us/step - loss: 927884.6129 - mean_squared_error: 927432.7439 - val_loss: 2799119.7780 - val_mean_squared_error: 2798667.4264\n",
      "Epoch 59/150\n",
      "8865/8865 [==============================] - 2s 179us/step - loss: 958926.4789 - mean_squared_error: 958473.7493 - val_loss: 2558302.3365 - val_mean_squared_error: 2557850.8934\n",
      "Epoch 60/150\n",
      "8865/8865 [==============================] - 2s 224us/step - loss: 956897.7522 - mean_squared_error: 956445.1937 - val_loss: 3030743.9307 - val_mean_squared_error: 3030288.4429\n",
      "Epoch 61/150\n",
      "8865/8865 [==============================] - 2s 233us/step - loss: 861865.3801 - mean_squared_error: 861409.6603 - val_loss: 2636479.9086 - val_mean_squared_error: 2636022.6147\n",
      "Epoch 62/150\n",
      " 512/8865 [>.............................] - ETA: 6s - loss: 724663.5273 - mean_squared_error: 724206.0781"
     ]
    },
    {
     "name": "stderr",
     "output_type": "stream",
     "text": [
      "D:\\Anaconda3\\lib\\site-packages\\keras\\callbacks.py:122: UserWarning: Method on_batch_end() is slow compared to the batch update (0.203503). Check your callbacks.\n",
      "  % delta_t_median)\n",
      "D:\\Anaconda3\\lib\\site-packages\\keras\\callbacks.py:122: UserWarning: Method on_batch_end() is slow compared to the batch update (0.102251). Check your callbacks.\n",
      "  % delta_t_median)\n"
     ]
    },
    {
     "name": "stdout",
     "output_type": "stream",
     "text": [
      "8865/8865 [==============================] - 2s 208us/step - loss: 896740.8439 - mean_squared_error: 896283.8829 - val_loss: 3085394.3985 - val_mean_squared_error: 3084934.6891\n",
      "Epoch 63/150\n",
      "8865/8865 [==============================] - 2s 189us/step - loss: 914088.6328 - mean_squared_error: 913628.9500 - val_loss: 2649297.2594 - val_mean_squared_error: 2648838.1183\n",
      "Epoch 64/150\n",
      "8865/8865 [==============================] - 2s 225us/step - loss: 918865.3685 - mean_squared_error: 918406.2557 - val_loss: 2835598.9865 - val_mean_squared_error: 2835135.9581\n",
      "Epoch 65/150\n",
      "8865/8865 [==============================] - 2s 204us/step - loss: 922870.6143 - mean_squared_error: 922408.6590 - val_loss: 2680537.5335 - val_mean_squared_error: 2680075.0152\n",
      "Epoch 66/150\n",
      "8865/8865 [==============================] - 1s 159us/step - loss: 945324.2398 - mean_squared_error: 944859.8071 - val_loss: 3198837.1137 - val_mean_squared_error: 3198370.4449\n",
      "Epoch 67/150\n",
      "8865/8865 [==============================] - 2s 230us/step - loss: 893756.1551 - mean_squared_error: 893290.8460 - val_loss: 3244118.2654 - val_mean_squared_error: 3243649.6670\n",
      "Epoch 68/150\n",
      "8865/8865 [==============================] - 2s 198us/step - loss: 878717.0569 - mean_squared_error: 878250.5225 - val_loss: 2847074.0567 - val_mean_squared_error: 2846602.7336\n",
      "Epoch 69/150\n",
      "8865/8865 [==============================] - 2s 213us/step - loss: 933879.7515 - mean_squared_error: 933409.3281 - val_loss: 3015532.0678 - val_mean_squared_error: 3015058.0970\n",
      "Epoch 70/150\n",
      "8865/8865 [==============================] - 2s 229us/step - loss: 906194.9102 - mean_squared_error: 905722.1403 - val_loss: 2352774.4477 - val_mean_squared_error: 2352303.2923\n",
      "Epoch 71/150\n",
      "8865/8865 [==============================] - 2s 224us/step - loss: 956850.7719 - mean_squared_error: 956378.4110 - val_loss: 2427029.0681 - val_mean_squared_error: 2426554.3405\n",
      "Epoch 72/150\n",
      "8865/8865 [==============================] - 2s 174us/step - loss: 886549.3607 - mean_squared_error: 886075.9993 - val_loss: 2963167.6056 - val_mean_squared_error: 2962690.5853\n",
      "Epoch 73/150\n",
      "8865/8865 [==============================] - 2s 196us/step - loss: 861255.6300 - mean_squared_error: 860780.9777 - val_loss: 2373589.3434 - val_mean_squared_error: 2373115.8921\n",
      "Epoch 74/150\n",
      "8865/8865 [==============================] - 2s 224us/step - loss: 858625.1279 - mean_squared_error: 858148.3079 - val_loss: 2415199.9849 - val_mean_squared_error: 2414722.7674\n",
      "Epoch 75/150\n",
      "8865/8865 [==============================] - 2s 218us/step - loss: 834006.6009 - mean_squared_error: 833526.4486 - val_loss: 2547141.6232 - val_mean_squared_error: 2546659.6009\n",
      "Epoch 76/150\n",
      "8865/8865 [==============================] - 2s 238us/step - loss: 895714.2937 - mean_squared_error: 895232.4305 - val_loss: 2383270.6792 - val_mean_squared_error: 2382792.0084\n",
      "Epoch 77/150\n",
      "8865/8865 [==============================] - 2s 206us/step - loss: 850278.5977 - mean_squared_error: 849799.7420 - val_loss: 2446519.8951 - val_mean_squared_error: 2446043.0943\n",
      "Epoch 78/150\n",
      "8865/8865 [==============================] - 2s 204us/step - loss: 865531.7863 - mean_squared_error: 865052.1056 - val_loss: 2730306.9596 - val_mean_squared_error: 2729826.9576\n",
      "Epoch 79/150\n",
      "8865/8865 [==============================] - 1s 169us/step - loss: 856907.2844 - mean_squared_error: 856425.9775 - val_loss: 2386652.9812 - val_mean_squared_error: 2386173.3461\n",
      "Epoch 80/150\n",
      "8865/8865 [==============================] - 2s 209us/step - loss: 858220.2572 - mean_squared_error: 857738.1042 - val_loss: 2611385.4264 - val_mean_squared_error: 2610900.9508\n",
      "Epoch 81/150\n",
      "8865/8865 [==============================] - 2s 217us/step - loss: 800602.6667 - mean_squared_error: 800117.9016 - val_loss: 2995547.8259 - val_mean_squared_error: 2995059.6887\n",
      "Epoch 82/150\n",
      "8865/8865 [==============================] - 2s 226us/step - loss: 893508.2912 - mean_squared_error: 893023.7189 - val_loss: 2816455.5235 - val_mean_squared_error: 2815966.9879\n",
      "Epoch 83/150\n",
      "8865/8865 [==============================] - 2s 185us/step - loss: 929242.3211 - mean_squared_error: 928756.2338 - val_loss: 2890875.3010 - val_mean_squared_error: 2890385.0815\n",
      "Epoch 84/150\n",
      "8865/8865 [==============================] - 2s 176us/step - loss: 889049.8279 - mean_squared_error: 888562.4981 - val_loss: 2657356.9298 - val_mean_squared_error: 2656867.5863\n",
      "Epoch 85/150\n",
      "8865/8865 [==============================] - 2s 199us/step - loss: 845839.2377 - mean_squared_error: 845349.2650 - val_loss: 2349706.0688 - val_mean_squared_error: 2349218.9551\n",
      "Epoch 86/150\n",
      "8865/8865 [==============================] - 2s 246us/step - loss: 846576.5926 - mean_squared_error: 846086.2196 - val_loss: 2084909.6539 - val_mean_squared_error: 2084422.7364\n",
      "Epoch 87/150\n",
      "8865/8865 [==============================] - 2s 208us/step - loss: 831953.4212 - mean_squared_error: 831464.4410 - val_loss: 2224549.0951 - val_mean_squared_error: 2224060.2079\n",
      "Epoch 88/150\n",
      "8865/8865 [==============================] - 2s 225us/step - loss: 834473.3604 - mean_squared_error: 833982.4833 - val_loss: 2846638.4873 - val_mean_squared_error: 2846144.3713\n",
      "Epoch 89/150\n",
      "8865/8865 [==============================] - 2s 209us/step - loss: 884832.6936 - mean_squared_error: 884340.1961 - val_loss: 2414701.4812 - val_mean_squared_error: 2414210.3664\n",
      "Epoch 90/150\n",
      "8865/8865 [==============================] - 2s 230us/step - loss: 840302.7576 - mean_squared_error: 839809.2799 - val_loss: 2342431.5346 - val_mean_squared_error: 2341939.5396\n",
      "Epoch 91/150\n",
      "8865/8865 [==============================] - 2s 207us/step - loss: 803338.3824 - mean_squared_error: 802845.2778 - val_loss: 2294633.3549 - val_mean_squared_error: 2294140.6985\n",
      "Epoch 92/150\n",
      "8865/8865 [==============================] - 2s 219us/step - loss: 784489.5170 - mean_squared_error: 783996.3172 - val_loss: 2348238.9246 - val_mean_squared_error: 2347744.9701\n",
      "Epoch 93/150\n",
      "8865/8865 [==============================] - 2s 184us/step - loss: 763109.5681 - mean_squared_error: 762614.3984 - val_loss: 2349056.7778 - val_mean_squared_error: 2348560.2259\n",
      "Epoch 94/150\n",
      "8865/8865 [==============================] - 3s 306us/step - loss: 807411.5551 - mean_squared_error: 806913.1618 - val_loss: 2515755.3091 - val_mean_squared_error: 2515257.9829\n",
      "Epoch 95/150\n",
      "8865/8865 [==============================] - 2s 209us/step - loss: 785721.7318 - mean_squared_error: 785223.2606 - val_loss: 2452954.4359 - val_mean_squared_error: 2452455.2346\n",
      "Epoch 96/150\n",
      "8865/8865 [==============================] - 2s 234us/step - loss: 856345.4297 - mean_squared_error: 855845.9349 - val_loss: 2477033.7122 - val_mean_squared_error: 2476532.2629\n",
      "Epoch 97/150\n",
      "8865/8865 [==============================] - 2s 218us/step - loss: 742734.5938 - mean_squared_error: 742233.3889 - val_loss: 2400199.8407 - val_mean_squared_error: 2399698.3987\n",
      "Epoch 98/150\n",
      "8865/8865 [==============================] - 2s 234us/step - loss: 764128.9671 - mean_squared_error: 763627.3738 - val_loss: 2603321.8829 - val_mean_squared_error: 2602818.1523\n",
      "Epoch 99/150\n",
      "8865/8865 [==============================] - 2s 207us/step - loss: 767503.8264 - mean_squared_error: 766999.4402 - val_loss: 2088756.3193 - val_mean_squared_error: 2088252.6241\n",
      "Epoch 100/150\n",
      "8865/8865 [==============================] - 1s 160us/step - loss: 791891.6484 - mean_squared_error: 791386.0989 - val_loss: 2676403.3613 - val_mean_squared_error: 2675896.5412\n",
      "Epoch 101/150\n",
      "8865/8865 [==============================] - 2s 195us/step - loss: 769122.1925 - mean_squared_error: 768616.0880 - val_loss: 2724275.7407 - val_mean_squared_error: 2723770.9948\n",
      "Epoch 102/150\n",
      "8865/8865 [==============================] - 2s 216us/step - loss: 758545.9349 - mean_squared_error: 758040.4032 - val_loss: 2152551.3066 - val_mean_squared_error: 2152045.9986\n",
      "Epoch 103/150\n",
      "8865/8865 [==============================] - 2s 226us/step - loss: 842200.1840 - mean_squared_error: 841695.2506 - val_loss: 2245310.8151 - val_mean_squared_error: 2244807.5082\n",
      "Epoch 104/150\n",
      "8865/8865 [==============================] - 2s 241us/step - loss: 813013.5196 - mean_squared_error: 812508.1342 - val_loss: 2601362.1093 - val_mean_squared_error: 2600854.2027\n",
      "Epoch 105/150\n",
      "8865/8865 [==============================] - 3s 350us/step - loss: 802326.8336 - mean_squared_error: 801819.8171 - val_loss: 2344110.7754 - val_mean_squared_error: 2343602.3701\n",
      "Epoch 106/150\n",
      "8865/8865 [==============================] - 3s 321us/step - loss: 918112.9626 - mean_squared_error: 917605.9244 - val_loss: 2118234.6072 - val_mean_squared_error: 2117728.0056\n",
      "Epoch 107/150\n",
      "8865/8865 [==============================] - 4s 438us/step - loss: 757855.5448 - mean_squared_error: 757348.3289 - val_loss: 2127500.7664 - val_mean_squared_error: 2126993.1615\n",
      "Epoch 108/150\n",
      "8865/8865 [==============================] - 2s 221us/step - loss: 752374.7263 - mean_squared_error: 751865.3762 - val_loss: 2326685.2349 - val_mean_squared_error: 2326176.0600\n",
      "Epoch 109/150\n",
      "8865/8865 [==============================] - 2s 215us/step - loss: 749842.3351 - mean_squared_error: 749332.9649 - val_loss: 2019120.4617 - val_mean_squared_error: 2018613.4930\n",
      "Epoch 110/150\n",
      "8865/8865 [==============================] - 2s 209us/step - loss: 813265.8801 - mean_squared_error: 812755.0737 - val_loss: 2038397.5025 - val_mean_squared_error: 2037887.0137\n",
      "Epoch 111/150\n",
      "8865/8865 [==============================] - 2s 244us/step - loss: 791565.0893 - mean_squared_error: 791053.8936 - val_loss: 2392205.1560 - val_mean_squared_error: 2391693.6822\n",
      "Epoch 112/150\n",
      "8865/8865 [==============================] - 2s 236us/step - loss: 769785.6008 - mean_squared_error: 769272.7863 - val_loss: 2121840.4755 - val_mean_squared_error: 2121328.0813\n",
      "Epoch 113/150\n",
      "8865/8865 [==============================] - 2s 253us/step - loss: 768336.8821 - mean_squared_error: 767821.7160 - val_loss: 2486124.5803 - val_mean_squared_error: 2485609.6485\n",
      "Epoch 114/150\n",
      "8865/8865 [==============================] - 2s 201us/step - loss: 791010.6196 - mean_squared_error: 790496.2568 - val_loss: 1986612.3784 - val_mean_squared_error: 1986096.9637\n",
      "Epoch 115/150\n",
      "8865/8865 [==============================] - 2s 236us/step - loss: 825332.4318 - mean_squared_error: 824816.9730 - val_loss: 2245136.4082 - val_mean_squared_error: 2244620.3025\n",
      "Epoch 116/150\n",
      "8865/8865 [==============================] - 3s 295us/step - loss: 732885.2836 - mean_squared_error: 732368.1636 - val_loss: 2585457.3522 - val_mean_squared_error: 2584939.4100\n",
      "Epoch 117/150\n",
      "8865/8865 [==============================] - 2s 250us/step - loss: 713671.6614 - mean_squared_error: 713156.1942 - val_loss: 2303714.6261 - val_mean_squared_error: 2303197.8376\n",
      "Epoch 118/150\n",
      "8865/8865 [==============================] - 2s 210us/step - loss: 765422.8257 - mean_squared_error: 764906.9655 - val_loss: 2545334.2944 - val_mean_squared_error: 2544814.1409\n",
      "Epoch 119/150\n",
      "8865/8865 [==============================] - 2s 233us/step - loss: 731813.4245 - mean_squared_error: 731294.1516 - val_loss: 2501059.9423 - val_mean_squared_error: 2500538.9128\n",
      "Epoch 120/150\n",
      "8865/8865 [==============================] - 2s 202us/step - loss: 747471.8984 - mean_squared_error: 746951.6390 - val_loss: 1943471.0881 - val_mean_squared_error: 1942952.1348\n",
      "Epoch 121/150\n",
      "8865/8865 [==============================] - 2s 215us/step - loss: 729532.4711 - mean_squared_error: 729011.9089 - val_loss: 1883618.7596 - val_mean_squared_error: 1883100.1784\n",
      "Epoch 122/150\n",
      "8865/8865 [==============================] - 2s 190us/step - loss: 728533.4356 - mean_squared_error: 728012.7728 - val_loss: 2000417.1104 - val_mean_squared_error: 1999895.0077\n",
      "Epoch 123/150\n",
      "8865/8865 [==============================] - 2s 217us/step - loss: 781928.7849 - mean_squared_error: 781405.2692 - val_loss: 1959706.0452 - val_mean_squared_error: 1959183.0878\n",
      "Epoch 124/150\n",
      "8865/8865 [==============================] - 2s 208us/step - loss: 714634.6565 - mean_squared_error: 714109.4706 - val_loss: 2596659.0170 - val_mean_squared_error: 2596131.0912\n",
      "Epoch 125/150\n",
      "8865/8865 [==============================] - 2s 208us/step - loss: 843756.4121 - mean_squared_error: 843230.8050 - val_loss: 2143598.3783 - val_mean_squared_error: 2143070.7504\n",
      "Epoch 126/150\n",
      "8865/8865 [==============================] - 1s 141us/step - loss: 783828.3010 - mean_squared_error: 783303.2071 - val_loss: 2137099.6854 - val_mean_squared_error: 2136573.4142\n",
      "Epoch 127/150\n",
      "8865/8865 [==============================] - 2s 226us/step - loss: 795955.5975 - mean_squared_error: 795428.5778 - val_loss: 1964883.3915 - val_mean_squared_error: 1964355.5745\n",
      "Epoch 128/150\n",
      "8865/8865 [==============================] - 2s 200us/step - loss: 783540.8007 - mean_squared_error: 783012.8539 - val_loss: 2138433.8806 - val_mean_squared_error: 2137904.4843\n",
      "Epoch 129/150\n",
      "8865/8865 [==============================] - 1s 162us/step - loss: 725023.8186 - mean_squared_error: 724496.6675 - val_loss: 2128964.4534 - val_mean_squared_error: 2128434.0236\n",
      "Epoch 130/150\n",
      "8865/8865 [==============================] - 2s 213us/step - loss: 763873.1231 - mean_squared_error: 763341.4141 - val_loss: 2322327.1425 - val_mean_squared_error: 2321791.8398\n",
      "Epoch 131/150\n",
      "8865/8865 [==============================] - 2s 241us/step - loss: 702675.2607 - mean_squared_error: 702142.8023 - val_loss: 1905482.2756 - val_mean_squared_error: 1904951.7959\n",
      "Epoch 132/150\n",
      "8865/8865 [==============================] - 2s 273us/step - loss: 702712.3023 - mean_squared_error: 702178.6777 - val_loss: 2257454.9187 - val_mean_squared_error: 2256917.5650\n",
      "Epoch 133/150\n",
      "8865/8865 [==============================] - 2s 217us/step - loss: 684363.9626 - mean_squared_error: 683828.0814 - val_loss: 2357685.4250 - val_mean_squared_error: 2357148.1638\n",
      "Epoch 134/150\n",
      "8865/8865 [==============================] - 2s 177us/step - loss: 739220.1157 - mean_squared_error: 738684.1898 - val_loss: 2153599.0430 - val_mean_squared_error: 2153064.7626\n",
      "Epoch 135/150\n",
      "8865/8865 [==============================] - 2s 234us/step - loss: 699837.3789 - mean_squared_error: 699302.6757 - val_loss: 2089269.6185 - val_mean_squared_error: 2088733.6765\n",
      "Epoch 136/150\n",
      "8865/8865 [==============================] - 2s 199us/step - loss: 668970.5134 - mean_squared_error: 668434.3600 - val_loss: 2161690.0867 - val_mean_squared_error: 2161154.2280\n",
      "Epoch 137/150\n",
      "8865/8865 [==============================] - 2s 209us/step - loss: 668813.6110 - mean_squared_error: 668277.4056 - val_loss: 2315864.8702 - val_mean_squared_error: 2315328.2492\n",
      "Epoch 138/150\n",
      "8865/8865 [==============================] - 2s 223us/step - loss: 736194.6850 - mean_squared_error: 735657.1075 - val_loss: 2426207.9945 - val_mean_squared_error: 2425670.3756\n",
      "Epoch 139/150\n",
      "8865/8865 [==============================] - 2s 264us/step - loss: 719687.0843 - mean_squared_error: 719150.5396 - val_loss: 2385449.7338 - val_mean_squared_error: 2384912.5193\n",
      "Epoch 140/150\n",
      "8865/8865 [==============================] - 2s 184us/step - loss: 738403.2238 - mean_squared_error: 737866.2270 - val_loss: 2136809.7058 - val_mean_squared_error: 2136275.4081\n",
      "Epoch 141/150\n",
      "8865/8865 [==============================] - 2s 203us/step - loss: 736417.5740 - mean_squared_error: 735880.7315 - val_loss: 2035675.0900 - val_mean_squared_error: 2035139.2385\n",
      "Epoch 142/150\n",
      "8865/8865 [==============================] - 1s 164us/step - loss: 674561.9253 - mean_squared_error: 674024.3340 - val_loss: 2007843.2577 - val_mean_squared_error: 2007304.5463\n",
      "Epoch 143/150\n",
      "8865/8865 [==============================] - 2s 211us/step - loss: 794401.4169 - mean_squared_error: 793862.8427 - val_loss: 2089648.2872 - val_mean_squared_error: 2089112.5011\n",
      "Epoch 144/150\n",
      "8865/8865 [==============================] - 2s 202us/step - loss: 702848.0450 - mean_squared_error: 702310.2114 - val_loss: 2199924.2646 - val_mean_squared_error: 2199387.3468\n",
      "Epoch 145/150\n",
      "8865/8865 [==============================] - 2s 209us/step - loss: 732249.0618 - mean_squared_error: 731711.4936 - val_loss: 2578779.5631 - val_mean_squared_error: 2578239.9411\n",
      "Epoch 146/150\n",
      "8865/8865 [==============================] - 2s 173us/step - loss: 632124.6086 - mean_squared_error: 631583.9160 - val_loss: 2078723.6121 - val_mean_squared_error: 2078183.7025\n",
      "Epoch 147/150\n",
      "8865/8865 [==============================] - 2s 191us/step - loss: 790592.4132 - mean_squared_error: 790052.0298 - val_loss: 2137219.3175 - val_mean_squared_error: 2136679.6925\n"
     ]
    },
    {
     "name": "stdout",
     "output_type": "stream",
     "text": [
      "Epoch 148/150\n",
      "8865/8865 [==============================] - 2s 206us/step - loss: 720102.1906 - mean_squared_error: 719563.8448 - val_loss: 2234481.4230 - val_mean_squared_error: 2233940.9585\n",
      "Epoch 149/150\n",
      "8865/8865 [==============================] - 2s 267us/step - loss: 781342.9540 - mean_squared_error: 780802.7222 - val_loss: 3630313.3485 - val_mean_squared_error: 3629766.4581\n",
      "Epoch 150/150\n",
      "8865/8865 [==============================] - 2s 178us/step - loss: 708864.2165 - mean_squared_error: 708324.4256 - val_loss: 2363182.2987 - val_mean_squared_error: 2362642.1169\n"
     ]
    },
    {
     "data": {
      "text/plain": [
       "<keras.callbacks.History at 0x1f482b51cf8>"
      ]
     },
     "execution_count": 58,
     "metadata": {},
     "output_type": "execute_result"
    }
   ],
   "source": [
    "net.fit(train_x, train_y, epochs=150, batch_size=64, validation_split = 0.1)"
   ]
  },
  {
   "cell_type": "code",
   "execution_count": 59,
   "metadata": {},
   "outputs": [
    {
     "data": {
      "text/plain": [
       "1019262.9646723561"
      ]
     },
     "execution_count": 59,
     "metadata": {},
     "output_type": "execute_result"
    }
   ],
   "source": [
    "mean_squared_error(test_y, net.predict(test_x))"
   ]
  },
  {
   "cell_type": "markdown",
   "metadata": {},
   "source": [
    "**Although the DL Neural Network seems to provide a better result on mean squared errors but it is really unstable** \n",
    "\n",
    "we have ran few test run on it, and each time it gives different results range from 853411.6171418771 to around 1,300,000.\n",
    "Therefore, we might still choose Gradient Boosting Regression as the most suitable model, since it provides a overall better result."
   ]
  },
  {
   "cell_type": "code",
   "execution_count": null,
   "metadata": {},
   "outputs": [],
   "source": []
  }
 ],
 "metadata": {
  "anaconda-cloud": {},
  "colab": {
   "collapsed_sections": [],
   "name": "main.ipynb",
   "provenance": []
  },
  "kernelspec": {
   "display_name": "Python 3",
   "language": "python",
   "name": "python3"
  },
  "language_info": {
   "codemirror_mode": {
    "name": "ipython",
    "version": 3
   },
   "file_extension": ".py",
   "mimetype": "text/x-python",
   "name": "python",
   "nbconvert_exporter": "python",
   "pygments_lexer": "ipython3",
   "version": "3.7.1"
  }
 },
 "nbformat": 4,
 "nbformat_minor": 1
}

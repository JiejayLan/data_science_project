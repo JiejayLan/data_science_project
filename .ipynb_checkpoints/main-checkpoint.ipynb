{
 "cells": [
  {
   "cell_type": "code",
   "execution_count": 1,
   "metadata": {
    "colab": {
     "base_uri": "https://localhost:8080/",
     "height": 97
    },
    "colab_type": "code",
    "id": "uTU8yGiPz5zN",
    "outputId": "af82e867-d7da-43c4-c456-410548e3a95d"
   },
   "outputs": [
    {
     "name": "stderr",
     "output_type": "stream",
     "text": [
      "Using TensorFlow backend.\n"
     ]
    }
   ],
   "source": [
    "import numpy as np\n",
    "import pandas as pd\n",
    "import matplotlib.pyplot as plt\n",
    "import seaborn as sns\n",
    "import statsmodels.api as sm\n",
    "import csv\n",
    "import warnings\n",
    "from sklearn.linear_model import LinearRegression\n",
    "from sklearn.ensemble import RandomForestRegressor, GradientBoostingRegressor\n",
    "from sklearn.tree import DecisionTreeClassifier \n",
    "from sklearn.tree import DecisionTreeRegressor\n",
    "from sklearn import preprocessing\n",
    "from sklearn.model_selection import KFold\n",
    "from sklearn.utils import shuffle\n",
    "from sklearn.metrics import mean_squared_error\n",
    "from sklearn.preprocessing import StandardScaler\n",
    "from sklearn.linear_model import LinearRegression\n",
    "import statsmodels.api as sm\n",
    "from keras import models, layers, optimizers, regularizers\n",
    "from sklearn.model_selection import train_test_split, ShuffleSplit, GridSearchCV\n",
    "from keras import regularizers\n",
    "%matplotlib inline"
   ]
  },
  {
   "cell_type": "markdown",
   "metadata": {
    "colab_type": "text",
    "id": "giyuV4myz5za"
   },
   "source": [
    "### Import datasets\n",
    "- We will import train, test1 and test2 dataset\n",
    "- Merge test1 and train dataset, in order to expend our train dataset"
   ]
  },
  {
   "cell_type": "code",
   "execution_count": 2,
   "metadata": {
    "colab": {
     "base_uri": "https://localhost:8080/",
     "height": 170
    },
    "colab_type": "code",
    "id": "O3bd5Le9C1yG",
    "outputId": "3bc5d07f-3fd3-443a-9bf0-09aa1725210f",
    "scrolled": true
   },
   "outputs": [
    {
     "data": {
      "text/plain": [
       "Index(['addr_unit', 'building_id', 'bedrooms', 'bathrooms', 'size_sqft',\n",
       "       'created_at', 'addr_street', 'addr_city', 'addr_zip', 'addr_lat',\n",
       "       'addr_lon', 'bin', 'bbl', 'floor_count', 'year_built', 'min_to_subway',\n",
       "       'has_doorman', 'has_elevator', 'has_fireplace', 'has_dishwasher',\n",
       "       'is_furnished', 'has_gym', 'allows_pets', 'has_washer_dryer',\n",
       "       'has_garage', 'has_roofdeck', 'has_concierge', 'has_pool', 'has_garden',\n",
       "       'has_childrens_playroom', 'rent', 'no_fee', 'description',\n",
       "       'neighborhood', 'borough', 'unit', 'floornumber', 'line'],\n",
       "      dtype='object')"
      ]
     },
     "execution_count": 2,
     "metadata": {},
     "output_type": "execute_result"
    }
   ],
   "source": [
    "raw_df = pd.read_csv('https://grantmlong.com/data/SE_rents2018_train.csv', index_col=0)\n",
    "raw_test_df = pd.read_csv('https://grantmlong.com/data/SE_rents2018_test1.csv', index_col=0)\n",
    "raw_test2_df = pd.read_csv('https://grantmlong.com/data/SE_rents2018_test2.csv', index_col=0)\n",
    "raw_test2_df = pd.read_csv('https://grantmlong.com/data/SE_rents2018_test2.csv', index_col=0)\n",
    "raw_df = raw_df.append(raw_test_df)\n",
    "raw_df.head(20)\n",
    "raw_df.columns"
   ]
  },
  {
   "cell_type": "markdown",
   "metadata": {
    "colab_type": "text",
    "id": "xxSoiIKJC1yO"
   },
   "source": [
    "## Data Explore"
   ]
  },
  {
   "cell_type": "code",
   "execution_count": 3,
   "metadata": {
    "colab": {
     "base_uri": "https://localhost:8080/",
     "height": 304
    },
    "colab_type": "code",
    "id": "ql26Ay-HC1yI",
    "outputId": "33defc34-c066-4fc0-fd2b-f3d6438b6968"
   },
   "outputs": [
    {
     "data": {
      "text/html": [
       "<div>\n",
       "<style scoped>\n",
       "    .dataframe tbody tr th:only-of-type {\n",
       "        vertical-align: middle;\n",
       "    }\n",
       "\n",
       "    .dataframe tbody tr th {\n",
       "        vertical-align: top;\n",
       "    }\n",
       "\n",
       "    .dataframe thead th {\n",
       "        text-align: right;\n",
       "    }\n",
       "</style>\n",
       "<table border=\"1\" class=\"dataframe\">\n",
       "  <thead>\n",
       "    <tr style=\"text-align: right;\">\n",
       "      <th></th>\n",
       "      <th>building_id</th>\n",
       "      <th>bedrooms</th>\n",
       "      <th>bathrooms</th>\n",
       "      <th>size_sqft</th>\n",
       "      <th>addr_zip</th>\n",
       "      <th>addr_lat</th>\n",
       "      <th>addr_lon</th>\n",
       "      <th>bin</th>\n",
       "      <th>bbl</th>\n",
       "      <th>floor_count</th>\n",
       "      <th>...</th>\n",
       "      <th>has_washer_dryer</th>\n",
       "      <th>has_garage</th>\n",
       "      <th>has_roofdeck</th>\n",
       "      <th>has_concierge</th>\n",
       "      <th>has_pool</th>\n",
       "      <th>has_garden</th>\n",
       "      <th>has_childrens_playroom</th>\n",
       "      <th>rent</th>\n",
       "      <th>no_fee</th>\n",
       "      <th>floornumber</th>\n",
       "    </tr>\n",
       "  </thead>\n",
       "  <tbody>\n",
       "    <tr>\n",
       "      <th>count</th>\n",
       "      <td>1.400000e+04</td>\n",
       "      <td>14000.000000</td>\n",
       "      <td>14000.000000</td>\n",
       "      <td>14000.000000</td>\n",
       "      <td>14000.000000</td>\n",
       "      <td>14000.000000</td>\n",
       "      <td>14000.000000</td>\n",
       "      <td>1.399900e+04</td>\n",
       "      <td>1.400000e+04</td>\n",
       "      <td>14000.000000</td>\n",
       "      <td>...</td>\n",
       "      <td>14000.000000</td>\n",
       "      <td>14000.000000</td>\n",
       "      <td>14000.000000</td>\n",
       "      <td>14000.000000</td>\n",
       "      <td>14000.000000</td>\n",
       "      <td>14000.000000</td>\n",
       "      <td>14000.000000</td>\n",
       "      <td>14000.000000</td>\n",
       "      <td>14000.000000</td>\n",
       "      <td>12498.000000</td>\n",
       "    </tr>\n",
       "    <tr>\n",
       "      <th>mean</th>\n",
       "      <td>1.542772e+06</td>\n",
       "      <td>1.661643</td>\n",
       "      <td>1.238929</td>\n",
       "      <td>848.388643</td>\n",
       "      <td>10681.801286</td>\n",
       "      <td>40.727746</td>\n",
       "      <td>-73.956776</td>\n",
       "      <td>2.368400e+06</td>\n",
       "      <td>2.285087e+09</td>\n",
       "      <td>10.233350</td>\n",
       "      <td>...</td>\n",
       "      <td>0.268500</td>\n",
       "      <td>0.170714</td>\n",
       "      <td>0.262643</td>\n",
       "      <td>0.208214</td>\n",
       "      <td>0.072357</td>\n",
       "      <td>0.133786</td>\n",
       "      <td>0.089571</td>\n",
       "      <td>3591.997214</td>\n",
       "      <td>0.495786</td>\n",
       "      <td>6.198232</td>\n",
       "    </tr>\n",
       "    <tr>\n",
       "      <th>std</th>\n",
       "      <td>4.323673e+06</td>\n",
       "      <td>1.084151</td>\n",
       "      <td>0.550979</td>\n",
       "      <td>513.039489</td>\n",
       "      <td>592.728072</td>\n",
       "      <td>0.053635</td>\n",
       "      <td>0.042994</td>\n",
       "      <td>1.242507e+06</td>\n",
       "      <td>1.200828e+09</td>\n",
       "      <td>12.003629</td>\n",
       "      <td>...</td>\n",
       "      <td>0.443195</td>\n",
       "      <td>0.376273</td>\n",
       "      <td>0.440086</td>\n",
       "      <td>0.406045</td>\n",
       "      <td>0.259088</td>\n",
       "      <td>0.340434</td>\n",
       "      <td>0.285577</td>\n",
       "      <td>2874.099247</td>\n",
       "      <td>0.500000</td>\n",
       "      <td>7.728606</td>\n",
       "    </tr>\n",
       "    <tr>\n",
       "      <th>min</th>\n",
       "      <td>7.300000e+01</td>\n",
       "      <td>0.000000</td>\n",
       "      <td>0.000000</td>\n",
       "      <td>0.000000</td>\n",
       "      <td>10001.000000</td>\n",
       "      <td>40.573898</td>\n",
       "      <td>-74.168405</td>\n",
       "      <td>1.000000e+06</td>\n",
       "      <td>0.000000e+00</td>\n",
       "      <td>0.000000</td>\n",
       "      <td>...</td>\n",
       "      <td>0.000000</td>\n",
       "      <td>0.000000</td>\n",
       "      <td>0.000000</td>\n",
       "      <td>0.000000</td>\n",
       "      <td>0.000000</td>\n",
       "      <td>0.000000</td>\n",
       "      <td>0.000000</td>\n",
       "      <td>1250.000000</td>\n",
       "      <td>0.000000</td>\n",
       "      <td>0.000000</td>\n",
       "    </tr>\n",
       "    <tr>\n",
       "      <th>25%</th>\n",
       "      <td>6.231400e+04</td>\n",
       "      <td>1.000000</td>\n",
       "      <td>1.000000</td>\n",
       "      <td>604.000000</td>\n",
       "      <td>10023.000000</td>\n",
       "      <td>40.693256</td>\n",
       "      <td>-73.986095</td>\n",
       "      <td>1.052178e+06</td>\n",
       "      <td>1.011286e+09</td>\n",
       "      <td>3.000000</td>\n",
       "      <td>...</td>\n",
       "      <td>0.000000</td>\n",
       "      <td>0.000000</td>\n",
       "      <td>0.000000</td>\n",
       "      <td>0.000000</td>\n",
       "      <td>0.000000</td>\n",
       "      <td>0.000000</td>\n",
       "      <td>0.000000</td>\n",
       "      <td>2250.000000</td>\n",
       "      <td>0.000000</td>\n",
       "      <td>2.000000</td>\n",
       "    </tr>\n",
       "    <tr>\n",
       "      <th>50%</th>\n",
       "      <td>2.545810e+05</td>\n",
       "      <td>2.000000</td>\n",
       "      <td>1.000000</td>\n",
       "      <td>800.000000</td>\n",
       "      <td>11103.000000</td>\n",
       "      <td>40.729048</td>\n",
       "      <td>-73.961554</td>\n",
       "      <td>3.018885e+06</td>\n",
       "      <td>3.006580e+09</td>\n",
       "      <td>5.000000</td>\n",
       "      <td>...</td>\n",
       "      <td>0.000000</td>\n",
       "      <td>0.000000</td>\n",
       "      <td>0.000000</td>\n",
       "      <td>0.000000</td>\n",
       "      <td>0.000000</td>\n",
       "      <td>0.000000</td>\n",
       "      <td>0.000000</td>\n",
       "      <td>2900.000000</td>\n",
       "      <td>0.000000</td>\n",
       "      <td>3.000000</td>\n",
       "    </tr>\n",
       "    <tr>\n",
       "      <th>75%</th>\n",
       "      <td>8.267980e+05</td>\n",
       "      <td>2.000000</td>\n",
       "      <td>1.000000</td>\n",
       "      <td>1000.000000</td>\n",
       "      <td>11218.000000</td>\n",
       "      <td>40.764801</td>\n",
       "      <td>-73.936080</td>\n",
       "      <td>3.325600e+06</td>\n",
       "      <td>3.050558e+09</td>\n",
       "      <td>12.000000</td>\n",
       "      <td>...</td>\n",
       "      <td>1.000000</td>\n",
       "      <td>0.000000</td>\n",
       "      <td>1.000000</td>\n",
       "      <td>0.000000</td>\n",
       "      <td>0.000000</td>\n",
       "      <td>0.000000</td>\n",
       "      <td>0.000000</td>\n",
       "      <td>3900.000000</td>\n",
       "      <td>1.000000</td>\n",
       "      <td>6.000000</td>\n",
       "    </tr>\n",
       "    <tr>\n",
       "      <th>max</th>\n",
       "      <td>1.877211e+07</td>\n",
       "      <td>8.000000</td>\n",
       "      <td>20.000000</td>\n",
       "      <td>10000.000000</td>\n",
       "      <td>11694.000000</td>\n",
       "      <td>40.909842</td>\n",
       "      <td>-73.730550</td>\n",
       "      <td>5.158986e+06</td>\n",
       "      <td>5.029930e+09</td>\n",
       "      <td>90.000000</td>\n",
       "      <td>...</td>\n",
       "      <td>1.000000</td>\n",
       "      <td>1.000000</td>\n",
       "      <td>1.000000</td>\n",
       "      <td>1.000000</td>\n",
       "      <td>1.000000</td>\n",
       "      <td>1.000000</td>\n",
       "      <td>1.000000</td>\n",
       "      <td>50000.000000</td>\n",
       "      <td>1.000000</td>\n",
       "      <td>78.000000</td>\n",
       "    </tr>\n",
       "  </tbody>\n",
       "</table>\n",
       "<p>8 rows × 29 columns</p>\n",
       "</div>"
      ],
      "text/plain": [
       "        building_id      bedrooms     bathrooms     size_sqft      addr_zip  \\\n",
       "count  1.400000e+04  14000.000000  14000.000000  14000.000000  14000.000000   \n",
       "mean   1.542772e+06      1.661643      1.238929    848.388643  10681.801286   \n",
       "std    4.323673e+06      1.084151      0.550979    513.039489    592.728072   \n",
       "min    7.300000e+01      0.000000      0.000000      0.000000  10001.000000   \n",
       "25%    6.231400e+04      1.000000      1.000000    604.000000  10023.000000   \n",
       "50%    2.545810e+05      2.000000      1.000000    800.000000  11103.000000   \n",
       "75%    8.267980e+05      2.000000      1.000000   1000.000000  11218.000000   \n",
       "max    1.877211e+07      8.000000     20.000000  10000.000000  11694.000000   \n",
       "\n",
       "           addr_lat      addr_lon           bin           bbl   floor_count  \\\n",
       "count  14000.000000  14000.000000  1.399900e+04  1.400000e+04  14000.000000   \n",
       "mean      40.727746    -73.956776  2.368400e+06  2.285087e+09     10.233350   \n",
       "std        0.053635      0.042994  1.242507e+06  1.200828e+09     12.003629   \n",
       "min       40.573898    -74.168405  1.000000e+06  0.000000e+00      0.000000   \n",
       "25%       40.693256    -73.986095  1.052178e+06  1.011286e+09      3.000000   \n",
       "50%       40.729048    -73.961554  3.018885e+06  3.006580e+09      5.000000   \n",
       "75%       40.764801    -73.936080  3.325600e+06  3.050558e+09     12.000000   \n",
       "max       40.909842    -73.730550  5.158986e+06  5.029930e+09     90.000000   \n",
       "\n",
       "       ...  has_washer_dryer    has_garage  has_roofdeck  has_concierge  \\\n",
       "count  ...      14000.000000  14000.000000  14000.000000   14000.000000   \n",
       "mean   ...          0.268500      0.170714      0.262643       0.208214   \n",
       "std    ...          0.443195      0.376273      0.440086       0.406045   \n",
       "min    ...          0.000000      0.000000      0.000000       0.000000   \n",
       "25%    ...          0.000000      0.000000      0.000000       0.000000   \n",
       "50%    ...          0.000000      0.000000      0.000000       0.000000   \n",
       "75%    ...          1.000000      0.000000      1.000000       0.000000   \n",
       "max    ...          1.000000      1.000000      1.000000       1.000000   \n",
       "\n",
       "           has_pool    has_garden  has_childrens_playroom          rent  \\\n",
       "count  14000.000000  14000.000000            14000.000000  14000.000000   \n",
       "mean       0.072357      0.133786                0.089571   3591.997214   \n",
       "std        0.259088      0.340434                0.285577   2874.099247   \n",
       "min        0.000000      0.000000                0.000000   1250.000000   \n",
       "25%        0.000000      0.000000                0.000000   2250.000000   \n",
       "50%        0.000000      0.000000                0.000000   2900.000000   \n",
       "75%        0.000000      0.000000                0.000000   3900.000000   \n",
       "max        1.000000      1.000000                1.000000  50000.000000   \n",
       "\n",
       "             no_fee   floornumber  \n",
       "count  14000.000000  12498.000000  \n",
       "mean       0.495786      6.198232  \n",
       "std        0.500000      7.728606  \n",
       "min        0.000000      0.000000  \n",
       "25%        0.000000      2.000000  \n",
       "50%        0.000000      3.000000  \n",
       "75%        1.000000      6.000000  \n",
       "max        1.000000     78.000000  \n",
       "\n",
       "[8 rows x 29 columns]"
      ]
     },
     "execution_count": 3,
     "metadata": {},
     "output_type": "execute_result"
    }
   ],
   "source": [
    "raw_df.describe()"
   ]
  },
  {
   "cell_type": "code",
   "execution_count": 4,
   "metadata": {
    "colab": {
     "base_uri": "https://localhost:8080/",
     "height": 34
    },
    "colab_type": "code",
    "id": "csEm7f26C1yS",
    "outputId": "d3a30c17-b4c6-45a3-c642-39b7f6069656"
   },
   "outputs": [
    {
     "data": {
      "text/plain": [
       "(14000, 38)"
      ]
     },
     "execution_count": 4,
     "metadata": {},
     "output_type": "execute_result"
    }
   ],
   "source": [
    "raw_df.shape"
   ]
  },
  {
   "cell_type": "code",
   "execution_count": 5,
   "metadata": {
    "colab": {
     "base_uri": "https://localhost:8080/",
     "height": 739
    },
    "colab_type": "code",
    "id": "I9hONCStC1yP",
    "outputId": "7d3827da-d02a-4614-9981-6070be31b237"
   },
   "outputs": [
    {
     "name": "stdout",
     "output_type": "stream",
     "text": [
      "<class 'pandas.core.frame.DataFrame'>\n",
      "Int64Index: 14000 entries, 7236931 to 7463404\n",
      "Data columns (total 38 columns):\n",
      "addr_unit                 13890 non-null object\n",
      "building_id               14000 non-null int64\n",
      "bedrooms                  14000 non-null int64\n",
      "bathrooms                 14000 non-null float64\n",
      "size_sqft                 14000 non-null float64\n",
      "created_at                14000 non-null object\n",
      "addr_street               14000 non-null object\n",
      "addr_city                 14000 non-null object\n",
      "addr_zip                  14000 non-null int64\n",
      "addr_lat                  14000 non-null float64\n",
      "addr_lon                  14000 non-null float64\n",
      "bin                       13999 non-null float64\n",
      "bbl                       14000 non-null int64\n",
      "floor_count               14000 non-null float64\n",
      "year_built                13530 non-null float64\n",
      "min_to_subway             13857 non-null float64\n",
      "has_doorman               14000 non-null int64\n",
      "has_elevator              14000 non-null int64\n",
      "has_fireplace             14000 non-null int64\n",
      "has_dishwasher            14000 non-null int64\n",
      "is_furnished              14000 non-null int64\n",
      "has_gym                   14000 non-null int64\n",
      "allows_pets               14000 non-null int64\n",
      "has_washer_dryer          14000 non-null int64\n",
      "has_garage                14000 non-null int64\n",
      "has_roofdeck              14000 non-null int64\n",
      "has_concierge             14000 non-null int64\n",
      "has_pool                  14000 non-null int64\n",
      "has_garden                14000 non-null int64\n",
      "has_childrens_playroom    14000 non-null int64\n",
      "rent                      14000 non-null int64\n",
      "no_fee                    14000 non-null int64\n",
      "description               13984 non-null object\n",
      "neighborhood              13997 non-null object\n",
      "borough                   14000 non-null object\n",
      "unit                      13886 non-null object\n",
      "floornumber               12498 non-null float64\n",
      "line                      9865 non-null object\n",
      "dtypes: float64(9), int64(20), object(9)\n",
      "memory usage: 4.2+ MB\n"
     ]
    }
   ],
   "source": [
    "raw_df.info()"
   ]
  },
  {
   "cell_type": "code",
   "execution_count": 6,
   "metadata": {
    "colab": {
     "base_uri": "https://localhost:8080/",
     "height": 286
    },
    "colab_type": "code",
    "id": "bQBnI2n0FuHJ",
    "outputId": "9a62644e-70ac-4531-c6f8-96813f039d8c"
   },
   "outputs": [
    {
     "data": {
      "text/plain": [
       "<matplotlib.axes._subplots.AxesSubplot at 0x1fcc97afe10>"
      ]
     },
     "execution_count": 6,
     "metadata": {},
     "output_type": "execute_result"
    },
    {
     "data": {
      "image/png": "[encoded data removed]",
      "text/plain": [
       "<Figure size 432x288 with 1 Axes>"
      ]
     },
     "metadata": {
      "needs_background": "light"
     },
     "output_type": "display_data"
    }
   ],
   "source": [
    "raw_df['rent'].hist(bins=100)"
   ]
  },
  {
   "cell_type": "markdown",
   "metadata": {
    "colab_type": "text",
    "id": "cN1cvd5g0lcL"
   },
   "source": [
    "### Seperate all features into continuous, categorical and binary features.\n",
    "\n",
    "For those none relatived features as below, we have excluded them from the features grouping: \n",
    "- addr_unit: no relationship\n",
    "- building_id: no relationship\n",
    "- addr_lat: hard to analyze latitude\n",
    "- addr_lon: hard to analyze longtitude\n",
    "- bin: need to wait for external dataset\n",
    "- bbl: need to wait for external dataset\n",
    "- description: hard to build a NLP model\n",
    "- unit: no relationship\n"
   ]
  },
  {
   "cell_type": "code",
   "execution_count": 7,
   "metadata": {
    "colab": {},
    "colab_type": "code",
    "id": "ce4l5HZNModF"
   },
   "outputs": [],
   "source": [
    "continuous_features =['bathrooms','bedrooms','size_sqft','floor_count','year_built','min_to_subway','floornumber' ]\n",
    "caterigal_features =['addr_street','addr_city','addr_zip','neighborhood','borough','line' ]\n",
    "binary_features = ['has_doorman', 'has_elevator', 'has_fireplace', 'has_dishwasher','is_furnished', 'has_gym', 'allows_pets', \n",
    "                   'has_washer_dryer','has_garage', 'has_roofdeck', 'has_concierge', 'has_pool', 'has_garden',\n",
    "                   'has_childrens_playroom', 'no_fee', ]"
   ]
  },
  {
   "cell_type": "markdown",
   "metadata": {
    "colab": {},
    "colab_type": "code",
    "id": "bp674gXgC1yy"
   },
   "source": [
    "## Import external dataset from Internal Revenue Service\n",
    " - We will import the 2017 individual income Tax statistic dataset from IRS website(https://www.irs.gov/pub/irs-soi/17zpallagi.csv).\n",
    " - We will expend a new feature: **average_income** based on zipcode to our raw dataset "
   ]
  },
  {
   "cell_type": "code",
   "execution_count": 8,
   "metadata": {
    "colab": {
     "base_uri": "https://localhost:8080/",
     "height": 119
    },
    "colab_type": "code",
    "id": "ySvUva5SC1yz",
    "outputId": "1ed1dab8-6fb2-4f94-8584-d38dbadc73fd"
   },
   "outputs": [
    {
     "data": {
      "text/plain": [
       "Index(['STATE', 'zipcode', 'agi_stub', 'N1', 'mars1', 'MARS2', 'MARS4', 'ELF',\n",
       "       'CPREP', 'PREP',\n",
       "       ...\n",
       "       'N85300', 'A85300', 'N11901', 'A11901', 'N11900', 'A11900', 'N11902',\n",
       "       'A11902', 'N12000', 'A12000'],\n",
       "      dtype='object', length=152)"
      ]
     },
     "execution_count": 8,
     "metadata": {},
     "output_type": "execute_result"
    }
   ],
   "source": [
    "raw_income_data=pd.read_csv('https://www.irs.gov/pub/irs-soi/17zpallagi.csv', index_col=0)\n",
    "raw_income_data.columns"
   ]
  },
  {
   "cell_type": "code",
   "execution_count": 9,
   "metadata": {
    "colab": {},
    "colab_type": "code",
    "id": "4OwGK7NMC1y4",
    "outputId": "f3d9ab34-8545-461e-abad-372abd7b373a"
   },
   "outputs": [
    {
     "data": {
      "text/html": [
       "<div>\n",
       "<style scoped>\n",
       "    .dataframe tbody tr th:only-of-type {\n",
       "        vertical-align: middle;\n",
       "    }\n",
       "\n",
       "    .dataframe tbody tr th {\n",
       "        vertical-align: top;\n",
       "    }\n",
       "\n",
       "    .dataframe thead th {\n",
       "        text-align: right;\n",
       "    }\n",
       "</style>\n",
       "<table border=\"1\" class=\"dataframe\">\n",
       "  <thead>\n",
       "    <tr style=\"text-align: right;\">\n",
       "      <th></th>\n",
       "      <th>zipcode</th>\n",
       "      <th>agi_stub</th>\n",
       "      <th>N1</th>\n",
       "      <th>mars1</th>\n",
       "      <th>MARS2</th>\n",
       "      <th>MARS4</th>\n",
       "      <th>ELF</th>\n",
       "      <th>CPREP</th>\n",
       "      <th>PREP</th>\n",
       "      <th>DIR_DEP</th>\n",
       "      <th>...</th>\n",
       "      <th>N85300</th>\n",
       "      <th>A85300</th>\n",
       "      <th>N11901</th>\n",
       "      <th>A11901</th>\n",
       "      <th>N11900</th>\n",
       "      <th>A11900</th>\n",
       "      <th>N11902</th>\n",
       "      <th>A11902</th>\n",
       "      <th>N12000</th>\n",
       "      <th>A12000</th>\n",
       "    </tr>\n",
       "  </thead>\n",
       "  <tbody>\n",
       "    <tr>\n",
       "      <th>count</th>\n",
       "      <td>166537.000000</td>\n",
       "      <td>166537.000000</td>\n",
       "      <td>1.665370e+05</td>\n",
       "      <td>1.665370e+05</td>\n",
       "      <td>1.665370e+05</td>\n",
       "      <td>166537.000000</td>\n",
       "      <td>1.665370e+05</td>\n",
       "      <td>166537.000000</td>\n",
       "      <td>1.665370e+05</td>\n",
       "      <td>1.665370e+05</td>\n",
       "      <td>...</td>\n",
       "      <td>166537.000000</td>\n",
       "      <td>1.665370e+05</td>\n",
       "      <td>166537.000000</td>\n",
       "      <td>1.665370e+05</td>\n",
       "      <td>1.665370e+05</td>\n",
       "      <td>1.665370e+05</td>\n",
       "      <td>1.665370e+05</td>\n",
       "      <td>1.665370e+05</td>\n",
       "      <td>166537.000000</td>\n",
       "      <td>1.665370e+05</td>\n",
       "    </tr>\n",
       "    <tr>\n",
       "      <th>mean</th>\n",
       "      <td>48870.221668</td>\n",
       "      <td>3.499883</td>\n",
       "      <td>1.797506e+03</td>\n",
       "      <td>8.568076e+02</td>\n",
       "      <td>6.466075e+02</td>\n",
       "      <td>257.395354</td>\n",
       "      <td>1.595375e+03</td>\n",
       "      <td>109.165711</td>\n",
       "      <td>9.565737e+02</td>\n",
       "      <td>1.115313e+03</td>\n",
       "      <td>...</td>\n",
       "      <td>52.247849</td>\n",
       "      <td>2.652260e+02</td>\n",
       "      <td>366.565508</td>\n",
       "      <td>2.075837e+03</td>\n",
       "      <td>1.385102e+03</td>\n",
       "      <td>4.864975e+03</td>\n",
       "      <td>1.349381e+03</td>\n",
       "      <td>3.932834e+03</td>\n",
       "      <td>43.103875</td>\n",
       "      <td>8.790301e+02</td>\n",
       "    </tr>\n",
       "    <tr>\n",
       "      <th>std</th>\n",
       "      <td>27140.457939</td>\n",
       "      <td>1.707903</td>\n",
       "      <td>3.682065e+04</td>\n",
       "      <td>2.157115e+04</td>\n",
       "      <td>1.180901e+04</td>\n",
       "      <td>6579.521856</td>\n",
       "      <td>3.234179e+04</td>\n",
       "      <td>2546.536828</td>\n",
       "      <td>1.996698e+04</td>\n",
       "      <td>2.347348e+04</td>\n",
       "      <td>...</td>\n",
       "      <td>2663.659358</td>\n",
       "      <td>1.535593e+04</td>\n",
       "      <td>6891.242958</td>\n",
       "      <td>6.608186e+04</td>\n",
       "      <td>2.947749e+04</td>\n",
       "      <td>1.012458e+05</td>\n",
       "      <td>2.909491e+04</td>\n",
       "      <td>7.693938e+04</td>\n",
       "      <td>947.324343</td>\n",
       "      <td>4.399491e+04</td>\n",
       "    </tr>\n",
       "    <tr>\n",
       "      <th>min</th>\n",
       "      <td>0.000000</td>\n",
       "      <td>1.000000</td>\n",
       "      <td>0.000000e+00</td>\n",
       "      <td>0.000000e+00</td>\n",
       "      <td>0.000000e+00</td>\n",
       "      <td>0.000000</td>\n",
       "      <td>0.000000e+00</td>\n",
       "      <td>0.000000</td>\n",
       "      <td>0.000000e+00</td>\n",
       "      <td>0.000000e+00</td>\n",
       "      <td>...</td>\n",
       "      <td>0.000000</td>\n",
       "      <td>0.000000e+00</td>\n",
       "      <td>0.000000</td>\n",
       "      <td>0.000000e+00</td>\n",
       "      <td>0.000000e+00</td>\n",
       "      <td>0.000000e+00</td>\n",
       "      <td>0.000000e+00</td>\n",
       "      <td>0.000000e+00</td>\n",
       "      <td>0.000000</td>\n",
       "      <td>0.000000e+00</td>\n",
       "    </tr>\n",
       "    <tr>\n",
       "      <th>25%</th>\n",
       "      <td>27030.000000</td>\n",
       "      <td>2.000000</td>\n",
       "      <td>7.000000e+01</td>\n",
       "      <td>0.000000e+00</td>\n",
       "      <td>4.000000e+01</td>\n",
       "      <td>0.000000</td>\n",
       "      <td>6.000000e+01</td>\n",
       "      <td>0.000000</td>\n",
       "      <td>4.000000e+01</td>\n",
       "      <td>4.000000e+01</td>\n",
       "      <td>...</td>\n",
       "      <td>0.000000</td>\n",
       "      <td>0.000000e+00</td>\n",
       "      <td>20.000000</td>\n",
       "      <td>2.100000e+01</td>\n",
       "      <td>5.000000e+01</td>\n",
       "      <td>1.580000e+02</td>\n",
       "      <td>4.000000e+01</td>\n",
       "      <td>1.410000e+02</td>\n",
       "      <td>0.000000</td>\n",
       "      <td>0.000000e+00</td>\n",
       "    </tr>\n",
       "    <tr>\n",
       "      <th>50%</th>\n",
       "      <td>48876.000000</td>\n",
       "      <td>3.000000</td>\n",
       "      <td>2.500000e+02</td>\n",
       "      <td>7.000000e+01</td>\n",
       "      <td>1.100000e+02</td>\n",
       "      <td>20.000000</td>\n",
       "      <td>2.200000e+02</td>\n",
       "      <td>0.000000</td>\n",
       "      <td>1.500000e+02</td>\n",
       "      <td>1.400000e+02</td>\n",
       "      <td>...</td>\n",
       "      <td>0.000000</td>\n",
       "      <td>0.000000e+00</td>\n",
       "      <td>60.000000</td>\n",
       "      <td>1.550000e+02</td>\n",
       "      <td>1.800000e+02</td>\n",
       "      <td>6.220000e+02</td>\n",
       "      <td>1.700000e+02</td>\n",
       "      <td>5.480000e+02</td>\n",
       "      <td>0.000000</td>\n",
       "      <td>0.000000e+00</td>\n",
       "    </tr>\n",
       "    <tr>\n",
       "      <th>75%</th>\n",
       "      <td>70601.000000</td>\n",
       "      <td>5.000000</td>\n",
       "      <td>1.020000e+03</td>\n",
       "      <td>3.400000e+02</td>\n",
       "      <td>3.800000e+02</td>\n",
       "      <td>90.000000</td>\n",
       "      <td>9.100000e+02</td>\n",
       "      <td>60.000000</td>\n",
       "      <td>5.600000e+02</td>\n",
       "      <td>5.900000e+02</td>\n",
       "      <td>...</td>\n",
       "      <td>0.000000</td>\n",
       "      <td>0.000000e+00</td>\n",
       "      <td>220.000000</td>\n",
       "      <td>6.870000e+02</td>\n",
       "      <td>7.400000e+02</td>\n",
       "      <td>2.484000e+03</td>\n",
       "      <td>7.100000e+02</td>\n",
       "      <td>2.207000e+03</td>\n",
       "      <td>30.000000</td>\n",
       "      <td>6.400000e+01</td>\n",
       "    </tr>\n",
       "    <tr>\n",
       "      <th>max</th>\n",
       "      <td>99999.000000</td>\n",
       "      <td>6.000000</td>\n",
       "      <td>5.824360e+06</td>\n",
       "      <td>4.130490e+06</td>\n",
       "      <td>1.757700e+06</td>\n",
       "      <td>982390.000000</td>\n",
       "      <td>4.980210e+06</td>\n",
       "      <td>475240.000000</td>\n",
       "      <td>3.387570e+06</td>\n",
       "      <td>3.233490e+06</td>\n",
       "      <td>...</td>\n",
       "      <td>763140.000000</td>\n",
       "      <td>4.031847e+06</td>\n",
       "      <td>890950.000000</td>\n",
       "      <td>1.750126e+07</td>\n",
       "      <td>4.598480e+06</td>\n",
       "      <td>1.667374e+07</td>\n",
       "      <td>4.561540e+06</td>\n",
       "      <td>9.443931e+06</td>\n",
       "      <td>186110.000000</td>\n",
       "      <td>1.056186e+07</td>\n",
       "    </tr>\n",
       "  </tbody>\n",
       "</table>\n",
       "<p>8 rows × 151 columns</p>\n",
       "</div>"
      ],
      "text/plain": [
       "             zipcode       agi_stub            N1         mars1         MARS2  \\\n",
       "count  166537.000000  166537.000000  1.665370e+05  1.665370e+05  1.665370e+05   \n",
       "mean    48870.221668       3.499883  1.797506e+03  8.568076e+02  6.466075e+02   \n",
       "std     27140.457939       1.707903  3.682065e+04  2.157115e+04  1.180901e+04   \n",
       "min         0.000000       1.000000  0.000000e+00  0.000000e+00  0.000000e+00   \n",
       "25%     27030.000000       2.000000  7.000000e+01  0.000000e+00  4.000000e+01   \n",
       "50%     48876.000000       3.000000  2.500000e+02  7.000000e+01  1.100000e+02   \n",
       "75%     70601.000000       5.000000  1.020000e+03  3.400000e+02  3.800000e+02   \n",
       "max     99999.000000       6.000000  5.824360e+06  4.130490e+06  1.757700e+06   \n",
       "\n",
       "               MARS4           ELF          CPREP          PREP       DIR_DEP  \\\n",
       "count  166537.000000  1.665370e+05  166537.000000  1.665370e+05  1.665370e+05   \n",
       "mean      257.395354  1.595375e+03     109.165711  9.565737e+02  1.115313e+03   \n",
       "std      6579.521856  3.234179e+04    2546.536828  1.996698e+04  2.347348e+04   \n",
       "min         0.000000  0.000000e+00       0.000000  0.000000e+00  0.000000e+00   \n",
       "25%         0.000000  6.000000e+01       0.000000  4.000000e+01  4.000000e+01   \n",
       "50%        20.000000  2.200000e+02       0.000000  1.500000e+02  1.400000e+02   \n",
       "75%        90.000000  9.100000e+02      60.000000  5.600000e+02  5.900000e+02   \n",
       "max    982390.000000  4.980210e+06  475240.000000  3.387570e+06  3.233490e+06   \n",
       "\n",
       "       ...         N85300        A85300         N11901        A11901  \\\n",
       "count  ...  166537.000000  1.665370e+05  166537.000000  1.665370e+05   \n",
       "mean   ...      52.247849  2.652260e+02     366.565508  2.075837e+03   \n",
       "std    ...    2663.659358  1.535593e+04    6891.242958  6.608186e+04   \n",
       "min    ...       0.000000  0.000000e+00       0.000000  0.000000e+00   \n",
       "25%    ...       0.000000  0.000000e+00      20.000000  2.100000e+01   \n",
       "50%    ...       0.000000  0.000000e+00      60.000000  1.550000e+02   \n",
       "75%    ...       0.000000  0.000000e+00     220.000000  6.870000e+02   \n",
       "max    ...  763140.000000  4.031847e+06  890950.000000  1.750126e+07   \n",
       "\n",
       "             N11900        A11900        N11902        A11902         N12000  \\\n",
       "count  1.665370e+05  1.665370e+05  1.665370e+05  1.665370e+05  166537.000000   \n",
       "mean   1.385102e+03  4.864975e+03  1.349381e+03  3.932834e+03      43.103875   \n",
       "std    2.947749e+04  1.012458e+05  2.909491e+04  7.693938e+04     947.324343   \n",
       "min    0.000000e+00  0.000000e+00  0.000000e+00  0.000000e+00       0.000000   \n",
       "25%    5.000000e+01  1.580000e+02  4.000000e+01  1.410000e+02       0.000000   \n",
       "50%    1.800000e+02  6.220000e+02  1.700000e+02  5.480000e+02       0.000000   \n",
       "75%    7.400000e+02  2.484000e+03  7.100000e+02  2.207000e+03      30.000000   \n",
       "max    4.598480e+06  1.667374e+07  4.561540e+06  9.443931e+06  186110.000000   \n",
       "\n",
       "             A12000  \n",
       "count  1.665370e+05  \n",
       "mean   8.790301e+02  \n",
       "std    4.399491e+04  \n",
       "min    0.000000e+00  \n",
       "25%    0.000000e+00  \n",
       "50%    0.000000e+00  \n",
       "75%    6.400000e+01  \n",
       "max    1.056186e+07  \n",
       "\n",
       "[8 rows x 151 columns]"
      ]
     },
     "execution_count": 9,
     "metadata": {},
     "output_type": "execute_result"
    }
   ],
   "source": [
    "raw_income_data.describe()"
   ]
  },
  {
   "cell_type": "markdown",
   "metadata": {
    "colab_type": "text",
    "id": "dsIRl_HPz50L"
   },
   "source": [
    "### Income Dataset Description \n",
    "This dataset comes from the IRS website's 2017 ZIP Code Data (SOI) about Individual Income Tax Statistics.\n",
    "According to the documentation's overview,the Statistics of Income (SOI) Division’s ZIP code data is tabulated using individual income tax returns (Forms 1040) filed with the Internal Revenue Service (IRS) during the 12-month period, January 1, 2018 to December 31, 2018.\n",
    "The original dataset contains many income and Tax Items, we only keep the ones that are relevant: \n",
    "- STATEFIPS:The State Federal Information Processing System (FIPS) code\n",
    "- STATE: The State associated with the ZIP code\n",
    "- ZIPCODE: 5-digit Zip code\n",
    "- agi_stub: Size of adjusted gross income\n",
    "- N1: Total number of returns\n",
    "- A02650: Number of returns with total income\n",
    "\n",
    "Our goal is to find the average income of each zipcode."
   ]
  },
  {
   "cell_type": "markdown",
   "metadata": {
    "colab_type": "text",
    "id": "npFJUlx_z50M"
   },
   "source": [
    "### Clean the raw income data and rename feature"
   ]
  },
  {
   "cell_type": "code",
   "execution_count": 10,
   "metadata": {
    "colab": {},
    "colab_type": "code",
    "id": "-V89w0rGz50N"
   },
   "outputs": [],
   "source": [
    "raw_income_data = raw_income_data.loc[raw_income_data['STATE']=='NY']\n",
    "raw_income_data.rename(columns = {'N1':'total_returns', 'A02650':'total_income'}, inplace = True) \n",
    "raw_income_data = raw_income_data[['STATE','zipcode','agi_stub','total_returns', 'total_income']]\n",
    "raw_income_data = raw_income_data.loc[raw_income_data['zipcode']<99999]\n",
    "raw_income_data = raw_income_data.loc[raw_income_data['zipcode']>0]\n"
   ]
  },
  {
   "cell_type": "markdown",
   "metadata": {
    "colab_type": "text",
    "id": "-VGLOblZz50P"
   },
   "source": [
    "### Function to calculate the average income by zip code\n",
    "Each zip code has 6 different sizes of adjusted gross income which means we have 6 different number of total returns and total income for one zip code.\n",
    "By using the np.where and sum function, we can obtain the sum of income and sum of returns for each zip code. The income of the original dataset was in thousands of dollar so we need to multiply the sum of income by 1000 and then find the average. Since some zip code was not in the original set, we ingore those average that is NaN and only write the meaningful averages to csv file for future use."
   ]
  },
  {
   "cell_type": "markdown",
   "metadata": {
    "colab_type": "text",
    "id": "fYwv11cxz50Q"
   },
   "source": [
    "- Calculate average income \n",
    "- Export to ny_income_2017.csv for storage\n",
    "- For next time, no need to import the raw_income_dataset again"
   ]
  },
  {
   "cell_type": "code",
   "execution_count": 11,
   "metadata": {
    "colab": {
     "base_uri": "https://localhost:8080/",
     "height": 204
    },
    "colab_type": "code",
    "id": "frLORUzFz50R",
    "outputId": "c1056c7c-6d99-4532-9298-0f58a3d1a842"
   },
   "outputs": [
    {
     "data": {
      "text/html": [
       "<div>\n",
       "<style scoped>\n",
       "    .dataframe tbody tr th:only-of-type {\n",
       "        vertical-align: middle;\n",
       "    }\n",
       "\n",
       "    .dataframe tbody tr th {\n",
       "        vertical-align: top;\n",
       "    }\n",
       "\n",
       "    .dataframe thead th {\n",
       "        text-align: right;\n",
       "    }\n",
       "</style>\n",
       "<table border=\"1\" class=\"dataframe\">\n",
       "  <thead>\n",
       "    <tr style=\"text-align: right;\">\n",
       "      <th></th>\n",
       "      <th>addr_zip</th>\n",
       "      <th>zip_average_income</th>\n",
       "    </tr>\n",
       "  </thead>\n",
       "  <tbody>\n",
       "    <tr>\n",
       "      <th>0</th>\n",
       "      <td>10001.0</td>\n",
       "      <td>183859.908735</td>\n",
       "    </tr>\n",
       "    <tr>\n",
       "      <th>1</th>\n",
       "      <td>10002.0</td>\n",
       "      <td>59669.401750</td>\n",
       "    </tr>\n",
       "    <tr>\n",
       "      <th>2</th>\n",
       "      <td>10003.0</td>\n",
       "      <td>306277.962003</td>\n",
       "    </tr>\n",
       "    <tr>\n",
       "      <th>3</th>\n",
       "      <td>10004.0</td>\n",
       "      <td>385265.306122</td>\n",
       "    </tr>\n",
       "    <tr>\n",
       "      <th>4</th>\n",
       "      <td>10005.0</td>\n",
       "      <td>391201.520270</td>\n",
       "    </tr>\n",
       "  </tbody>\n",
       "</table>\n",
       "</div>"
      ],
      "text/plain": [
       "   addr_zip  zip_average_income\n",
       "0   10001.0       183859.908735\n",
       "1   10002.0        59669.401750\n",
       "2   10003.0       306277.962003\n",
       "3   10004.0       385265.306122\n",
       "4   10005.0       391201.520270"
      ]
     },
     "execution_count": 11,
     "metadata": {},
     "output_type": "execute_result"
    }
   ],
   "source": [
    "average_income = pd.DataFrame({'addr_zip':[],'zip_average_income':[]})\n",
    "\n",
    "def calculate_avg_income():\n",
    "    global average_income\n",
    "    for zipcode in range(10001, 14906):\n",
    "        current_sum=np.where(raw_income_data['zipcode']==zipcode, raw_income_data['total_income'],0).sum()\n",
    "        current_returns=np.where(raw_income_data['zipcode']==zipcode, raw_income_data['total_returns'],0).sum() \n",
    "        if(current_returns <=0 or current_sum<=0):\n",
    "            continue\n",
    "        avg_income=(current_sum*1000)/current_returns\n",
    "        new_row={'addr_zip':zipcode,'zip_average_income':avg_income}\n",
    "        average_income=average_income.append(new_row,ignore_index=True)           \n",
    "calculate_avg_income()\n",
    "average_income.head(5)"
   ]
  },
  {
   "cell_type": "markdown",
   "metadata": {
    "colab_type": "text",
    "id": "0IzznDIuz50U"
   },
   "source": [
    " - We realize that the income dataset is missing all income data between zipcode 11239 - 11354, we will take an averge of zipcode income for 11239 and 11354 to replace any zipcode income in between \n",
    " - In our training and testing dataset, only the zipcode income 11249 is missing"
   ]
  },
  {
   "cell_type": "code",
   "execution_count": 12,
   "metadata": {
    "colab": {},
    "colab_type": "code",
    "id": "gTUSEJ49z50U",
    "outputId": "0e334a05-9c82-48c3-ab4d-77744e611715"
   },
   "outputs": [
    {
     "name": "stdout",
     "output_type": "stream",
     "text": [
      "[11249]\n",
      "[11249]\n"
     ]
    }
   ],
   "source": [
    "print(list(set(raw_df['addr_zip']) - set(average_income['addr_zip'])))\n",
    "print(list(set(raw_test_df['addr_zip']) - set(average_income['addr_zip'])))"
   ]
  },
  {
   "cell_type": "markdown",
   "metadata": {
    "colab_type": "text",
    "id": "XnbmWJYxz50X"
   },
   "source": [
    "**Insert a new row for zipcode income 11249 into the average_income dataframe**"
   ]
  },
  {
   "cell_type": "code",
   "execution_count": 13,
   "metadata": {
    "colab": {},
    "colab_type": "code",
    "id": "F_bdJvGyz50Y"
   },
   "outputs": [],
   "source": [
    "avg_income = (average_income.loc[(average_income['addr_zip']==11239)].iloc[0]['zip_average_income'] +\n",
    "             average_income.loc[(average_income['addr_zip']==11354)].iloc[0]['zip_average_income'])/2\n",
    "new_row = {'addr_zip':11249,'zip_average_income':avg_income}\n",
    "average_income=average_income.append(new_row,ignore_index=True)  "
   ]
  },
  {
   "cell_type": "markdown",
   "metadata": {
    "colab_type": "text",
    "id": "UtLCiyTwz50a"
   },
   "source": [
    "### Merge the raw train  dataset with the income dataset by addr_zip"
   ]
  },
  {
   "cell_type": "code",
   "execution_count": 14,
   "metadata": {
    "colab": {},
    "colab_type": "code",
    "id": "Mkmeq1Q3z50b"
   },
   "outputs": [],
   "source": [
    "raw_test2_df=raw_test2_df.reset_index().merge(average_income, how=\"left\",on='addr_zip').set_index('rental_id')\n",
    "raw_df=raw_df.reset_index().merge(average_income, how=\"left\",on='addr_zip').set_index('rental_id')"
   ]
  },
  {
   "cell_type": "markdown",
   "metadata": {
    "colab_type": "text",
    "id": "GO3qzUewz50d"
   },
   "source": [
    "### Find zip_average_income and rent cooleration"
   ]
  },
  {
   "cell_type": "code",
   "execution_count": 15,
   "metadata": {
    "colab": {},
    "colab_type": "code",
    "id": "gasWc5OYz50e"
   },
   "outputs": [],
   "source": [
    "continuous_features.append('zip_average_income')"
   ]
  },
  {
   "cell_type": "code",
   "execution_count": 16,
   "metadata": {
    "colab": {},
    "colab_type": "code",
    "id": "-kqkBEJGz50h",
    "outputId": "59ca8084-dce3-452d-f506-2926ae2e526c"
   },
   "outputs": [
    {
     "data": {
      "text/plain": [
       "zip_average_income    0.393228\n",
       "Name: rent, dtype: float64"
      ]
     },
     "execution_count": 16,
     "metadata": {},
     "output_type": "execute_result"
    }
   ],
   "source": [
    "continuous_df = raw_df[['zip_average_income','rent']]\n",
    "continuous_df.corr()['rent'][:-1]"
   ]
  },
  {
   "cell_type": "markdown",
   "metadata": {
    "colab_type": "text",
    "id": "Vwee4_SPz50l"
   },
   "source": [
    "**The correlation between zip_average_income and rent is 0.393228, it is good enough to consider as a important feature that might impact the rent**"
   ]
  },
  {
   "cell_type": "markdown",
   "metadata": {},
   "source": [
    "## Import external Unemployment dataset from Zipatlas\n",
    " - dataset source (http://zipatlas.com/us/ny/zip-code-comparison/unemployment-rate.htm)\n",
    " - The site only contains the data table, so the data were manually copied to csv file\n",
    " - People tend to stay in the areas that has more working oppurnites,which means the renting market is busy, therefore the areas with high underemployemnt rate are more likely to have lower rent, however, since we are working with zipcode, there are zipcodes that have only a few people that shift the result, so our team will need to evalue how will the overall model change.\n"
   ]
  },
  {
   "cell_type": "code",
   "execution_count": 17,
   "metadata": {},
   "outputs": [
    {
     "data": {
      "text/plain": [
       "Index(['Zip Code', 'Location', 'City', 'Population', '% Unemployment Rate',\n",
       "       'National Rank'],\n",
       "      dtype='object')"
      ]
     },
     "execution_count": 17,
     "metadata": {},
     "output_type": "execute_result"
    }
   ],
   "source": [
    "unemployment_df = pd.read_csv('./data/Unemployment_Rate_NY_by_zipcode.csv')\n",
    "unemployment_df.columns\n"
   ]
  },
  {
   "cell_type": "code",
   "execution_count": 18,
   "metadata": {},
   "outputs": [
    {
     "data": {
      "text/html": [
       "<div>\n",
       "<style scoped>\n",
       "    .dataframe tbody tr th:only-of-type {\n",
       "        vertical-align: middle;\n",
       "    }\n",
       "\n",
       "    .dataframe tbody tr th {\n",
       "        vertical-align: top;\n",
       "    }\n",
       "\n",
       "    .dataframe thead th {\n",
       "        text-align: right;\n",
       "    }\n",
       "</style>\n",
       "<table border=\"1\" class=\"dataframe\">\n",
       "  <thead>\n",
       "    <tr style=\"text-align: right;\">\n",
       "      <th></th>\n",
       "      <th>addr_zip</th>\n",
       "      <th>zip_unemployment_rate</th>\n",
       "    </tr>\n",
       "  </thead>\n",
       "  <tbody>\n",
       "    <tr>\n",
       "      <th>0</th>\n",
       "      <td>14614</td>\n",
       "      <td>75.47%</td>\n",
       "    </tr>\n",
       "    <tr>\n",
       "      <th>1</th>\n",
       "      <td>12970</td>\n",
       "      <td>67.58%</td>\n",
       "    </tr>\n",
       "    <tr>\n",
       "      <th>2</th>\n",
       "      <td>11430</td>\n",
       "      <td>57.03%</td>\n",
       "    </tr>\n",
       "    <tr>\n",
       "      <th>3</th>\n",
       "      <td>12742</td>\n",
       "      <td>48.33%</td>\n",
       "    </tr>\n",
       "    <tr>\n",
       "      <th>4</th>\n",
       "      <td>14068</td>\n",
       "      <td>38.20%</td>\n",
       "    </tr>\n",
       "    <tr>\n",
       "      <th>5</th>\n",
       "      <td>12733</td>\n",
       "      <td>37.53%</td>\n",
       "    </tr>\n",
       "    <tr>\n",
       "      <th>6</th>\n",
       "      <td>12786</td>\n",
       "      <td>33.63%</td>\n",
       "    </tr>\n",
       "    <tr>\n",
       "      <th>7</th>\n",
       "      <td>14478</td>\n",
       "      <td>28.29%</td>\n",
       "    </tr>\n",
       "    <tr>\n",
       "      <th>8</th>\n",
       "      <td>10474</td>\n",
       "      <td>27.37%</td>\n",
       "    </tr>\n",
       "    <tr>\n",
       "      <th>9</th>\n",
       "      <td>13202</td>\n",
       "      <td>26.84%</td>\n",
       "    </tr>\n",
       "  </tbody>\n",
       "</table>\n",
       "</div>"
      ],
      "text/plain": [
       "   addr_zip zip_unemployment_rate\n",
       "0     14614                75.47%\n",
       "1     12970                67.58%\n",
       "2     11430                57.03%\n",
       "3     12742                48.33%\n",
       "4     14068                38.20%\n",
       "5     12733                37.53%\n",
       "6     12786                33.63%\n",
       "7     14478                28.29%\n",
       "8     10474                27.37%\n",
       "9     13202                26.84%"
      ]
     },
     "execution_count": 18,
     "metadata": {},
     "output_type": "execute_result"
    }
   ],
   "source": [
    "# We only care about zipcode and % Unemployment Rate\n",
    "unemployment_df = unemployment_df[['Zip Code','% Unemployment Rate']]\n",
    "unemployment_df.rename(columns={'Zip Code':'addr_zip','% Unemployment Rate':\"zip_unemployment_rate\"}, inplace=True)\n",
    "unemployment_df.head(10)"
   ]
  },
  {
   "cell_type": "code",
   "execution_count": 19,
   "metadata": {},
   "outputs": [],
   "source": [
    "# Convert the zip_unemployment_rate to float \n",
    "unemployment_df['zip_unemployment_rate'] = unemployment_df['zip_unemployment_rate'].str.replace(r'.%$', '')\n",
    "unemployment_df['zip_unemployment_rate'] = unemployment_df['zip_unemployment_rate'].astype(float)"
   ]
  },
  {
   "cell_type": "markdown",
   "metadata": {},
   "source": [
    "- We will merge the raw train dataset with the unemployment_df dataset by addr_zip"
   ]
  },
  {
   "cell_type": "code",
   "execution_count": 20,
   "metadata": {},
   "outputs": [
    {
     "data": {
      "text/html": [
       "<div>\n",
       "<style scoped>\n",
       "    .dataframe tbody tr th:only-of-type {\n",
       "        vertical-align: middle;\n",
       "    }\n",
       "\n",
       "    .dataframe tbody tr th {\n",
       "        vertical-align: top;\n",
       "    }\n",
       "\n",
       "    .dataframe thead th {\n",
       "        text-align: right;\n",
       "    }\n",
       "</style>\n",
       "<table border=\"1\" class=\"dataframe\">\n",
       "  <thead>\n",
       "    <tr style=\"text-align: right;\">\n",
       "      <th></th>\n",
       "      <th>addr_unit</th>\n",
       "      <th>building_id</th>\n",
       "      <th>bedrooms</th>\n",
       "      <th>bathrooms</th>\n",
       "      <th>size_sqft</th>\n",
       "      <th>created_at</th>\n",
       "      <th>addr_street</th>\n",
       "      <th>addr_city</th>\n",
       "      <th>addr_zip</th>\n",
       "      <th>addr_lat</th>\n",
       "      <th>...</th>\n",
       "      <th>rent</th>\n",
       "      <th>no_fee</th>\n",
       "      <th>description</th>\n",
       "      <th>neighborhood</th>\n",
       "      <th>borough</th>\n",
       "      <th>unit</th>\n",
       "      <th>floornumber</th>\n",
       "      <th>line</th>\n",
       "      <th>zip_average_income</th>\n",
       "      <th>zip_unemployment_rate</th>\n",
       "    </tr>\n",
       "    <tr>\n",
       "      <th>rental_id</th>\n",
       "      <th></th>\n",
       "      <th></th>\n",
       "      <th></th>\n",
       "      <th></th>\n",
       "      <th></th>\n",
       "      <th></th>\n",
       "      <th></th>\n",
       "      <th></th>\n",
       "      <th></th>\n",
       "      <th></th>\n",
       "      <th></th>\n",
       "      <th></th>\n",
       "      <th></th>\n",
       "      <th></th>\n",
       "      <th></th>\n",
       "      <th></th>\n",
       "      <th></th>\n",
       "      <th></th>\n",
       "      <th></th>\n",
       "      <th></th>\n",
       "      <th></th>\n",
       "    </tr>\n",
       "  </thead>\n",
       "  <tbody>\n",
       "    <tr>\n",
       "      <th>7236931</th>\n",
       "      <td>#22A</td>\n",
       "      <td>551248</td>\n",
       "      <td>4</td>\n",
       "      <td>3.0</td>\n",
       "      <td>1300.0</td>\n",
       "      <td>2018-06-04 16:31:06</td>\n",
       "      <td>645 OCEAN AVENUE</td>\n",
       "      <td>Brooklyn</td>\n",
       "      <td>11226</td>\n",
       "      <td>40.646982</td>\n",
       "      <td>...</td>\n",
       "      <td>3925</td>\n",
       "      <td>1</td>\n",
       "      <td>MAGNIFICENT GUT RENOVATED 4 BEDROOM 3 BATHROOM...</td>\n",
       "      <td>Flatbush</td>\n",
       "      <td>Brooklyn</td>\n",
       "      <td>22A</td>\n",
       "      <td>NaN</td>\n",
       "      <td>NaN</td>\n",
       "      <td>43226.418306</td>\n",
       "      <td>13.8</td>\n",
       "    </tr>\n",
       "    <tr>\n",
       "      <th>7331920</th>\n",
       "      <td>#406</td>\n",
       "      <td>3373</td>\n",
       "      <td>0</td>\n",
       "      <td>1.0</td>\n",
       "      <td>475.0</td>\n",
       "      <td>2018-07-03 20:11:43</td>\n",
       "      <td>93 WORTH STREET</td>\n",
       "      <td>New York</td>\n",
       "      <td>10013</td>\n",
       "      <td>40.716599</td>\n",
       "      <td>...</td>\n",
       "      <td>3350</td>\n",
       "      <td>0</td>\n",
       "      <td>Want to live in the hottest neighborhood in to...</td>\n",
       "      <td>Tribeca</td>\n",
       "      <td>Manhattan</td>\n",
       "      <td>406</td>\n",
       "      <td>4.0</td>\n",
       "      <td>06</td>\n",
       "      <td>490137.516513</td>\n",
       "      <td>10.6</td>\n",
       "    </tr>\n",
       "    <tr>\n",
       "      <th>7139224</th>\n",
       "      <td>#18A</td>\n",
       "      <td>70747</td>\n",
       "      <td>3</td>\n",
       "      <td>3.0</td>\n",
       "      <td>1886.0</td>\n",
       "      <td>2018-05-02 16:10:27</td>\n",
       "      <td>305 EAST 51 STREET</td>\n",
       "      <td>New York</td>\n",
       "      <td>10022</td>\n",
       "      <td>40.755402</td>\n",
       "      <td>...</td>\n",
       "      <td>11500</td>\n",
       "      <td>0</td>\n",
       "      <td>High floor totally renovated 3 bedrooms, 3 bat...</td>\n",
       "      <td>Midtown East</td>\n",
       "      <td>Manhattan</td>\n",
       "      <td>18A</td>\n",
       "      <td>18.0</td>\n",
       "      <td>A</td>\n",
       "      <td>601535.887296</td>\n",
       "      <td>3.5</td>\n",
       "    </tr>\n",
       "    <tr>\n",
       "      <th>7364827</th>\n",
       "      <td>#23E</td>\n",
       "      <td>42076</td>\n",
       "      <td>1</td>\n",
       "      <td>1.0</td>\n",
       "      <td>827.0</td>\n",
       "      <td>2018-07-13 16:06:55</td>\n",
       "      <td>70 WEST 37TH STREET</td>\n",
       "      <td>New York</td>\n",
       "      <td>10018</td>\n",
       "      <td>40.751301</td>\n",
       "      <td>...</td>\n",
       "      <td>3772</td>\n",
       "      <td>1</td>\n",
       "      <td>**SHORT TERM LEASES AVAILABLE**\\n\\n****Photogr...</td>\n",
       "      <td>Midtown South</td>\n",
       "      <td>Manhattan</td>\n",
       "      <td>23E</td>\n",
       "      <td>23.0</td>\n",
       "      <td>E</td>\n",
       "      <td>359070.571010</td>\n",
       "      <td>14.2</td>\n",
       "    </tr>\n",
       "    <tr>\n",
       "      <th>7242151</th>\n",
       "      <td>#3B</td>\n",
       "      <td>319156</td>\n",
       "      <td>3</td>\n",
       "      <td>1.0</td>\n",
       "      <td>1200.0</td>\n",
       "      <td>2018-06-05 16:35:40</td>\n",
       "      <td>43 MAC DONOUGH STREET</td>\n",
       "      <td>Brooklyn</td>\n",
       "      <td>11216</td>\n",
       "      <td>40.681132</td>\n",
       "      <td>...</td>\n",
       "      <td>2595</td>\n",
       "      <td>1</td>\n",
       "      <td>This is a Huuge 3 bedroom apt. located in a pr...</td>\n",
       "      <td>Bedford-Stuyvesant</td>\n",
       "      <td>Brooklyn</td>\n",
       "      <td>3B</td>\n",
       "      <td>3.0</td>\n",
       "      <td>B</td>\n",
       "      <td>55622.606651</td>\n",
       "      <td>14.3</td>\n",
       "    </tr>\n",
       "  </tbody>\n",
       "</table>\n",
       "<p>5 rows × 40 columns</p>\n",
       "</div>"
      ],
      "text/plain": [
       "          addr_unit  building_id  bedrooms  bathrooms  size_sqft  \\\n",
       "rental_id                                                          \n",
       "7236931        #22A       551248         4        3.0     1300.0   \n",
       "7331920        #406         3373         0        1.0      475.0   \n",
       "7139224        #18A        70747         3        3.0     1886.0   \n",
       "7364827        #23E        42076         1        1.0      827.0   \n",
       "7242151         #3B       319156         3        1.0     1200.0   \n",
       "\n",
       "                    created_at            addr_street addr_city  addr_zip  \\\n",
       "rental_id                                                                   \n",
       "7236931    2018-06-04 16:31:06       645 OCEAN AVENUE  Brooklyn     11226   \n",
       "7331920    2018-07-03 20:11:43        93 WORTH STREET  New York     10013   \n",
       "7139224    2018-05-02 16:10:27     305 EAST 51 STREET  New York     10022   \n",
       "7364827    2018-07-13 16:06:55    70 WEST 37TH STREET  New York     10018   \n",
       "7242151    2018-06-05 16:35:40  43 MAC DONOUGH STREET  Brooklyn     11216   \n",
       "\n",
       "            addr_lat  ...   rent  no_fee  \\\n",
       "rental_id             ...                  \n",
       "7236931    40.646982  ...   3925       1   \n",
       "7331920    40.716599  ...   3350       0   \n",
       "7139224    40.755402  ...  11500       0   \n",
       "7364827    40.751301  ...   3772       1   \n",
       "7242151    40.681132  ...   2595       1   \n",
       "\n",
       "                                                 description  \\\n",
       "rental_id                                                      \n",
       "7236931    MAGNIFICENT GUT RENOVATED 4 BEDROOM 3 BATHROOM...   \n",
       "7331920    Want to live in the hottest neighborhood in to...   \n",
       "7139224    High floor totally renovated 3 bedrooms, 3 bat...   \n",
       "7364827    **SHORT TERM LEASES AVAILABLE**\\n\\n****Photogr...   \n",
       "7242151    This is a Huuge 3 bedroom apt. located in a pr...   \n",
       "\n",
       "                 neighborhood    borough  unit  floornumber  line  \\\n",
       "rental_id                                                           \n",
       "7236931              Flatbush   Brooklyn   22A          NaN   NaN   \n",
       "7331920               Tribeca  Manhattan   406          4.0    06   \n",
       "7139224          Midtown East  Manhattan   18A         18.0     A   \n",
       "7364827         Midtown South  Manhattan   23E         23.0     E   \n",
       "7242151    Bedford-Stuyvesant   Brooklyn    3B          3.0     B   \n",
       "\n",
       "           zip_average_income  zip_unemployment_rate  \n",
       "rental_id                                             \n",
       "7236931          43226.418306                   13.8  \n",
       "7331920         490137.516513                   10.6  \n",
       "7139224         601535.887296                    3.5  \n",
       "7364827         359070.571010                   14.2  \n",
       "7242151          55622.606651                   14.3  \n",
       "\n",
       "[5 rows x 40 columns]"
      ]
     },
     "execution_count": 20,
     "metadata": {},
     "output_type": "execute_result"
    }
   ],
   "source": [
    "raw_df=raw_df.reset_index().merge(unemployment_df, how=\"left\",on='addr_zip').set_index('rental_id')\n",
    "raw_test2_df=raw_test2_df.reset_index().merge(unemployment_df, how=\"left\",on='addr_zip').set_index('rental_id')\n",
    "raw_df.head(5)"
   ]
  },
  {
   "cell_type": "markdown",
   "metadata": {},
   "source": [
    "### Find zip_unemployment_rate and rent cooleration"
   ]
  },
  {
   "cell_type": "code",
   "execution_count": 21,
   "metadata": {},
   "outputs": [],
   "source": [
    "continuous_features.append('zip_unemployment_rate')"
   ]
  },
  {
   "cell_type": "code",
   "execution_count": 22,
   "metadata": {},
   "outputs": [
    {
     "data": {
      "text/plain": [
       "zip_unemployment_rate   -0.167267\n",
       "Name: rent, dtype: float64"
      ]
     },
     "execution_count": 22,
     "metadata": {},
     "output_type": "execute_result"
    }
   ],
   "source": [
    "continuous_df = raw_df[['zip_unemployment_rate','rent']]\n",
    "continuous_df.corr()['rent'][:-1]"
   ]
  },
  {
   "cell_type": "markdown",
   "metadata": {},
   "source": [
    "- The correlation between zip_unemployment_rate and rent is  -0.167267.\n",
    "- It clearly shows that the unemployment rate and rent has negative correlation, as we have stated, area with higher unemployment rate tend to have a lower rent, but the relationship is not that significant comparing to the average income"
   ]
  },
  {
   "cell_type": "markdown",
   "metadata": {
    "colab_type": "text",
    "id": "FMxkLsSRG95a"
   },
   "source": [
    "## Import external Population dataset from NYC OpenData\n",
    " - dataset source (https://data.cityofnewyork.us/City-Government/New-York-City-Population-By-Neighborhood-Tabulatio/swpk-hqdp).\n",
    " - This population dataset from NYC OpenData is based on neighbourhood, we can append neighbourhood_population to eash row"
   ]
  },
  {
   "cell_type": "code",
   "execution_count": 23,
   "metadata": {
    "colab": {},
    "colab_type": "code",
    "id": "MzkL5NE0G95b"
   },
   "outputs": [],
   "source": [
    "# import dataset\n",
    "poulation_df = pd.read_csv('./data/NYC_Population.csv', index_col=0)"
   ]
  },
  {
   "cell_type": "code",
   "execution_count": 24,
   "metadata": {
    "colab": {},
    "colab_type": "code",
    "id": "Xov6NdDBG95f",
    "outputId": "f0e0b76b-7306-4114-d102-5a8fe880e8f6"
   },
   "outputs": [
    {
     "data": {
      "text/html": [
       "<div>\n",
       "<style scoped>\n",
       "    .dataframe tbody tr th:only-of-type {\n",
       "        vertical-align: middle;\n",
       "    }\n",
       "\n",
       "    .dataframe tbody tr th {\n",
       "        vertical-align: top;\n",
       "    }\n",
       "\n",
       "    .dataframe thead th {\n",
       "        text-align: right;\n",
       "    }\n",
       "</style>\n",
       "<table border=\"1\" class=\"dataframe\">\n",
       "  <thead>\n",
       "    <tr style=\"text-align: right;\">\n",
       "      <th></th>\n",
       "      <th>neighborhood</th>\n",
       "      <th>neighborhood_population</th>\n",
       "    </tr>\n",
       "    <tr>\n",
       "      <th>Borough</th>\n",
       "      <th></th>\n",
       "      <th></th>\n",
       "    </tr>\n",
       "  </thead>\n",
       "  <tbody>\n",
       "    <tr>\n",
       "      <th>Bronx</th>\n",
       "      <td>Claremont-Bathgate</td>\n",
       "      <td>31078</td>\n",
       "    </tr>\n",
       "    <tr>\n",
       "      <th>Bronx</th>\n",
       "      <td>Eastchester-Edenwald-Baychester</td>\n",
       "      <td>34517</td>\n",
       "    </tr>\n",
       "    <tr>\n",
       "      <th>Bronx</th>\n",
       "      <td>Bedford Park-Fordham North</td>\n",
       "      <td>54415</td>\n",
       "    </tr>\n",
       "    <tr>\n",
       "      <th>Bronx</th>\n",
       "      <td>Belmont</td>\n",
       "      <td>27378</td>\n",
       "    </tr>\n",
       "    <tr>\n",
       "      <th>Bronx</th>\n",
       "      <td>Bronxdale</td>\n",
       "      <td>35538</td>\n",
       "    </tr>\n",
       "    <tr>\n",
       "      <th>Bronx</th>\n",
       "      <td>West Farms-Bronx River</td>\n",
       "      <td>35011</td>\n",
       "    </tr>\n",
       "    <tr>\n",
       "      <th>Bronx</th>\n",
       "      <td>Soundview-Castle Hill-Clason Point-Harding Park</td>\n",
       "      <td>53686</td>\n",
       "    </tr>\n",
       "    <tr>\n",
       "      <th>Bronx</th>\n",
       "      <td>Pelham Bay-Country Club-City Island</td>\n",
       "      <td>26583</td>\n",
       "    </tr>\n",
       "    <tr>\n",
       "      <th>Bronx</th>\n",
       "      <td>Co-Op City</td>\n",
       "      <td>43752</td>\n",
       "    </tr>\n",
       "    <tr>\n",
       "      <th>Bronx</th>\n",
       "      <td>East Concourse-Concourse Village</td>\n",
       "      <td>62284</td>\n",
       "    </tr>\n",
       "  </tbody>\n",
       "</table>\n",
       "</div>"
      ],
      "text/plain": [
       "                                            neighborhood  \\\n",
       "Borough                                                    \n",
       "Bronx                                 Claremont-Bathgate   \n",
       "Bronx                    Eastchester-Edenwald-Baychester   \n",
       "Bronx                         Bedford Park-Fordham North   \n",
       "Bronx                                            Belmont   \n",
       "Bronx                                          Bronxdale   \n",
       "Bronx                             West Farms-Bronx River   \n",
       "Bronx    Soundview-Castle Hill-Clason Point-Harding Park   \n",
       "Bronx                Pelham Bay-Country Club-City Island   \n",
       "Bronx                                         Co-Op City   \n",
       "Bronx                   East Concourse-Concourse Village   \n",
       "\n",
       "         neighborhood_population  \n",
       "Borough                           \n",
       "Bronx                      31078  \n",
       "Bronx                      34517  \n",
       "Bronx                      54415  \n",
       "Bronx                      27378  \n",
       "Bronx                      35538  \n",
       "Bronx                      35011  \n",
       "Bronx                      53686  \n",
       "Bronx                      26583  \n",
       "Bronx                      43752  \n",
       "Bronx                      62284  "
      ]
     },
     "execution_count": 24,
     "metadata": {},
     "output_type": "execute_result"
    }
   ],
   "source": [
    "# dataset contain 2010 and 2000 datas, we only take 2010 data\n",
    "poulation_df = poulation_df[poulation_df['Year']==2010]\n",
    "poulation_df = poulation_df[['NTA Name','Population']]\n",
    "poulation_df.rename(columns={'NTA Name':'neighborhood','Population':\"neighborhood_population\"}, inplace=True)\n",
    "poulation_df.head(10)"
   ]
  },
  {
   "cell_type": "code",
   "execution_count": 25,
   "metadata": {
    "colab": {},
    "colab_type": "code",
    "id": "_zxXC7aRG95h"
   },
   "outputs": [],
   "source": [
    "# join the train datasets with population dataset\n",
    "raw_df=raw_df.reset_index().merge(poulation_df, how=\"left\",on='neighborhood').set_index('rental_id')\n",
    "raw_test2_df=raw_test2_df.reset_index().merge(poulation_df, how=\"left\",on='neighborhood').set_index('rental_id')"
   ]
  },
  {
   "cell_type": "markdown",
   "metadata": {
    "colab_type": "text",
    "id": "E9P4E7UCG95k"
   },
   "source": [
    "- We join two datasets by using 'neighborhood', but some of the 'neighborhood' names are not exact the same\n",
    "- For those neighborhood name can't find in the population_df, we try to look for substring match"
   ]
  },
  {
   "cell_type": "code",
   "execution_count": 26,
   "metadata": {
    "colab": {},
    "colab_type": "code",
    "id": "wYvnDL8VG95k"
   },
   "outputs": [],
   "source": [
    "\n",
    "def joinPopulation(df):\n",
    "    for neighborhood in pd.unique(df.neighborhood.values):\n",
    "        if neighborhood != neighborhood:\n",
    "            continue\n",
    "        population = df.loc[df['neighborhood'] == neighborhood,'neighborhood_population'].mean()\n",
    "        if population == population:\n",
    "            continue\n",
    "        match_rows = poulation_df['neighborhood'].str.match(neighborhood)\n",
    "        mean_population =poulation_df[match_rows]['neighborhood_population'].mean()\n",
    "        df.loc[df['neighborhood'] == neighborhood, 'neighborhood_population'] = mean_population\n",
    "joinPopulation(raw_df)\n",
    "joinPopulation(raw_test2_df)"
   ]
  },
  {
   "cell_type": "code",
   "execution_count": 27,
   "metadata": {
    "colab": {},
    "colab_type": "code",
    "id": "BV4jp7yPG95o"
   },
   "outputs": [],
   "source": [
    "raw_df['neighborhood_population'].fillna(raw_df['neighborhood_population'].mean(), inplace=True)\n",
    "raw_test2_df['neighborhood_population'].fillna(raw_test2_df['neighborhood_population'].mean(), inplace=True)"
   ]
  },
  {
   "cell_type": "markdown",
   "metadata": {
    "colab_type": "text",
    "id": "cQF3iHHBHgOm"
   },
   "source": [
    "## Import external housing sale price dataset\n",
    " - dataset source (https://www.kaggle.com/new-york-city/nyc-property-sales)."
   ]
  },
  {
   "cell_type": "code",
   "execution_count": 28,
   "metadata": {
    "colab": {
     "base_uri": "https://localhost:8080/",
     "height": 34
    },
    "colab_type": "code",
    "id": "2RBrhWfVHfCa",
    "outputId": "807730e0-9a1d-401d-e8b1-a87d4ca5b175"
   },
   "outputs": [
    {
     "data": {
      "text/plain": [
       "Index(['ave_sale_price', 'addr_zip'], dtype='object')"
      ]
     },
     "execution_count": 28,
     "metadata": {},
     "output_type": "execute_result"
    }
   ],
   "source": [
    "sale_df =  pd.read_csv('./data/sale_price.csv')\n",
    "sale_df.columns"
   ]
  },
  {
   "cell_type": "code",
   "execution_count": 29,
   "metadata": {
    "colab": {},
    "colab_type": "code",
    "id": "9Nqw3-mAItSE"
   },
   "outputs": [],
   "source": [
    "raw_test2_df=raw_test2_df.reset_index().merge(sale_df, how=\"left\",on='addr_zip').set_index('rental_id')\n",
    "raw_df=raw_df.reset_index().merge(sale_df, how=\"left\",on='addr_zip').set_index('rental_id')"
   ]
  },
  {
   "cell_type": "code",
   "execution_count": 30,
   "metadata": {
    "colab": {
     "base_uri": "https://localhost:8080/",
     "height": 1000
    },
    "colab_type": "code",
    "id": "JgWETEMuI6mr",
    "outputId": "635c2ffb-6bf3-49cd-fa4f-d0e453c4fe24"
   },
   "outputs": [
    {
     "data": {
      "text/html": [
       "<div>\n",
       "<style scoped>\n",
       "    .dataframe tbody tr th:only-of-type {\n",
       "        vertical-align: middle;\n",
       "    }\n",
       "\n",
       "    .dataframe tbody tr th {\n",
       "        vertical-align: top;\n",
       "    }\n",
       "\n",
       "    .dataframe thead th {\n",
       "        text-align: right;\n",
       "    }\n",
       "</style>\n",
       "<table border=\"1\" class=\"dataframe\">\n",
       "  <thead>\n",
       "    <tr style=\"text-align: right;\">\n",
       "      <th>rental_id</th>\n",
       "      <th>7236931</th>\n",
       "      <th>7331920</th>\n",
       "      <th>7139224</th>\n",
       "      <th>7364827</th>\n",
       "      <th>7242151</th>\n",
       "    </tr>\n",
       "  </thead>\n",
       "  <tbody>\n",
       "    <tr>\n",
       "      <th>addr_unit</th>\n",
       "      <td>#22A</td>\n",
       "      <td>#406</td>\n",
       "      <td>#18A</td>\n",
       "      <td>#23E</td>\n",
       "      <td>#3B</td>\n",
       "    </tr>\n",
       "    <tr>\n",
       "      <th>building_id</th>\n",
       "      <td>551248</td>\n",
       "      <td>3373</td>\n",
       "      <td>70747</td>\n",
       "      <td>42076</td>\n",
       "      <td>319156</td>\n",
       "    </tr>\n",
       "    <tr>\n",
       "      <th>bedrooms</th>\n",
       "      <td>4</td>\n",
       "      <td>0</td>\n",
       "      <td>3</td>\n",
       "      <td>1</td>\n",
       "      <td>3</td>\n",
       "    </tr>\n",
       "    <tr>\n",
       "      <th>bathrooms</th>\n",
       "      <td>3</td>\n",
       "      <td>1</td>\n",
       "      <td>3</td>\n",
       "      <td>1</td>\n",
       "      <td>1</td>\n",
       "    </tr>\n",
       "    <tr>\n",
       "      <th>size_sqft</th>\n",
       "      <td>1300</td>\n",
       "      <td>475</td>\n",
       "      <td>1886</td>\n",
       "      <td>827</td>\n",
       "      <td>1200</td>\n",
       "    </tr>\n",
       "    <tr>\n",
       "      <th>created_at</th>\n",
       "      <td>2018-06-04 16:31:06</td>\n",
       "      <td>2018-07-03 20:11:43</td>\n",
       "      <td>2018-05-02 16:10:27</td>\n",
       "      <td>2018-07-13 16:06:55</td>\n",
       "      <td>2018-06-05 16:35:40</td>\n",
       "    </tr>\n",
       "    <tr>\n",
       "      <th>addr_street</th>\n",
       "      <td>645 OCEAN AVENUE</td>\n",
       "      <td>93 WORTH STREET</td>\n",
       "      <td>305 EAST 51 STREET</td>\n",
       "      <td>70 WEST 37TH STREET</td>\n",
       "      <td>43 MAC DONOUGH STREET</td>\n",
       "    </tr>\n",
       "    <tr>\n",
       "      <th>addr_city</th>\n",
       "      <td>Brooklyn</td>\n",
       "      <td>New York</td>\n",
       "      <td>New York</td>\n",
       "      <td>New York</td>\n",
       "      <td>Brooklyn</td>\n",
       "    </tr>\n",
       "    <tr>\n",
       "      <th>addr_zip</th>\n",
       "      <td>11226</td>\n",
       "      <td>10013</td>\n",
       "      <td>10022</td>\n",
       "      <td>10018</td>\n",
       "      <td>11216</td>\n",
       "    </tr>\n",
       "    <tr>\n",
       "      <th>addr_lat</th>\n",
       "      <td>40.647</td>\n",
       "      <td>40.7166</td>\n",
       "      <td>40.7554</td>\n",
       "      <td>40.7513</td>\n",
       "      <td>40.6811</td>\n",
       "    </tr>\n",
       "    <tr>\n",
       "      <th>addr_lon</th>\n",
       "      <td>-73.9601</td>\n",
       "      <td>-74.0048</td>\n",
       "      <td>-73.9676</td>\n",
       "      <td>-73.9863</td>\n",
       "      <td>-73.9447</td>\n",
       "    </tr>\n",
       "    <tr>\n",
       "      <th>bin</th>\n",
       "      <td>3.11762e+06</td>\n",
       "      <td>1.00188e+06</td>\n",
       "      <td>1.03968e+06</td>\n",
       "      <td>1.01592e+06</td>\n",
       "      <td>3.05334e+06</td>\n",
       "    </tr>\n",
       "    <tr>\n",
       "      <th>bbl</th>\n",
       "      <td>3051240001</td>\n",
       "      <td>1001737504</td>\n",
       "      <td>1013440001</td>\n",
       "      <td>1008380001</td>\n",
       "      <td>3018510053</td>\n",
       "    </tr>\n",
       "    <tr>\n",
       "      <th>floor_count</th>\n",
       "      <td>6</td>\n",
       "      <td>17</td>\n",
       "      <td>33</td>\n",
       "      <td>24</td>\n",
       "      <td>4</td>\n",
       "    </tr>\n",
       "    <tr>\n",
       "      <th>year_built</th>\n",
       "      <td>1929</td>\n",
       "      <td>2014</td>\n",
       "      <td>2013</td>\n",
       "      <td>2019</td>\n",
       "      <td>1931</td>\n",
       "    </tr>\n",
       "    <tr>\n",
       "      <th>min_to_subway</th>\n",
       "      <td>3.35</td>\n",
       "      <td>3.2333</td>\n",
       "      <td>3.05</td>\n",
       "      <td>2</td>\n",
       "      <td>2.1333</td>\n",
       "    </tr>\n",
       "    <tr>\n",
       "      <th>has_doorman</th>\n",
       "      <td>0</td>\n",
       "      <td>1</td>\n",
       "      <td>1</td>\n",
       "      <td>1</td>\n",
       "      <td>0</td>\n",
       "    </tr>\n",
       "    <tr>\n",
       "      <th>has_elevator</th>\n",
       "      <td>1</td>\n",
       "      <td>1</td>\n",
       "      <td>1</td>\n",
       "      <td>1</td>\n",
       "      <td>0</td>\n",
       "    </tr>\n",
       "    <tr>\n",
       "      <th>has_fireplace</th>\n",
       "      <td>0</td>\n",
       "      <td>0</td>\n",
       "      <td>0</td>\n",
       "      <td>0</td>\n",
       "      <td>0</td>\n",
       "    </tr>\n",
       "    <tr>\n",
       "      <th>has_dishwasher</th>\n",
       "      <td>1</td>\n",
       "      <td>1</td>\n",
       "      <td>1</td>\n",
       "      <td>1</td>\n",
       "      <td>0</td>\n",
       "    </tr>\n",
       "    <tr>\n",
       "      <th>is_furnished</th>\n",
       "      <td>0</td>\n",
       "      <td>0</td>\n",
       "      <td>0</td>\n",
       "      <td>0</td>\n",
       "      <td>0</td>\n",
       "    </tr>\n",
       "    <tr>\n",
       "      <th>has_gym</th>\n",
       "      <td>0</td>\n",
       "      <td>1</td>\n",
       "      <td>1</td>\n",
       "      <td>1</td>\n",
       "      <td>0</td>\n",
       "    </tr>\n",
       "    <tr>\n",
       "      <th>allows_pets</th>\n",
       "      <td>1</td>\n",
       "      <td>1</td>\n",
       "      <td>1</td>\n",
       "      <td>1</td>\n",
       "      <td>1</td>\n",
       "    </tr>\n",
       "    <tr>\n",
       "      <th>has_washer_dryer</th>\n",
       "      <td>1</td>\n",
       "      <td>1</td>\n",
       "      <td>0</td>\n",
       "      <td>0</td>\n",
       "      <td>0</td>\n",
       "    </tr>\n",
       "    <tr>\n",
       "      <th>has_garage</th>\n",
       "      <td>0</td>\n",
       "      <td>0</td>\n",
       "      <td>1</td>\n",
       "      <td>1</td>\n",
       "      <td>0</td>\n",
       "    </tr>\n",
       "    <tr>\n",
       "      <th>has_roofdeck</th>\n",
       "      <td>0</td>\n",
       "      <td>1</td>\n",
       "      <td>0</td>\n",
       "      <td>1</td>\n",
       "      <td>0</td>\n",
       "    </tr>\n",
       "    <tr>\n",
       "      <th>has_concierge</th>\n",
       "      <td>0</td>\n",
       "      <td>1</td>\n",
       "      <td>0</td>\n",
       "      <td>1</td>\n",
       "      <td>0</td>\n",
       "    </tr>\n",
       "    <tr>\n",
       "      <th>has_pool</th>\n",
       "      <td>0</td>\n",
       "      <td>0</td>\n",
       "      <td>1</td>\n",
       "      <td>0</td>\n",
       "      <td>0</td>\n",
       "    </tr>\n",
       "    <tr>\n",
       "      <th>has_garden</th>\n",
       "      <td>0</td>\n",
       "      <td>0</td>\n",
       "      <td>1</td>\n",
       "      <td>0</td>\n",
       "      <td>0</td>\n",
       "    </tr>\n",
       "    <tr>\n",
       "      <th>has_childrens_playroom</th>\n",
       "      <td>0</td>\n",
       "      <td>0</td>\n",
       "      <td>0</td>\n",
       "      <td>0</td>\n",
       "      <td>0</td>\n",
       "    </tr>\n",
       "    <tr>\n",
       "      <th>rent</th>\n",
       "      <td>3925</td>\n",
       "      <td>3350</td>\n",
       "      <td>11500</td>\n",
       "      <td>3772</td>\n",
       "      <td>2595</td>\n",
       "    </tr>\n",
       "    <tr>\n",
       "      <th>no_fee</th>\n",
       "      <td>1</td>\n",
       "      <td>0</td>\n",
       "      <td>0</td>\n",
       "      <td>1</td>\n",
       "      <td>1</td>\n",
       "    </tr>\n",
       "    <tr>\n",
       "      <th>description</th>\n",
       "      <td>MAGNIFICENT GUT RENOVATED 4 BEDROOM 3 BATHROOM...</td>\n",
       "      <td>Want to live in the hottest neighborhood in to...</td>\n",
       "      <td>High floor totally renovated 3 bedrooms, 3 bat...</td>\n",
       "      <td>**SHORT TERM LEASES AVAILABLE**\\n\\n****Photogr...</td>\n",
       "      <td>This is a Huuge 3 bedroom apt. located in a pr...</td>\n",
       "    </tr>\n",
       "    <tr>\n",
       "      <th>neighborhood</th>\n",
       "      <td>Flatbush</td>\n",
       "      <td>Tribeca</td>\n",
       "      <td>Midtown East</td>\n",
       "      <td>Midtown South</td>\n",
       "      <td>Bedford-Stuyvesant</td>\n",
       "    </tr>\n",
       "    <tr>\n",
       "      <th>borough</th>\n",
       "      <td>Brooklyn</td>\n",
       "      <td>Manhattan</td>\n",
       "      <td>Manhattan</td>\n",
       "      <td>Manhattan</td>\n",
       "      <td>Brooklyn</td>\n",
       "    </tr>\n",
       "    <tr>\n",
       "      <th>unit</th>\n",
       "      <td>22A</td>\n",
       "      <td>406</td>\n",
       "      <td>18A</td>\n",
       "      <td>23E</td>\n",
       "      <td>3B</td>\n",
       "    </tr>\n",
       "    <tr>\n",
       "      <th>floornumber</th>\n",
       "      <td>NaN</td>\n",
       "      <td>4</td>\n",
       "      <td>18</td>\n",
       "      <td>23</td>\n",
       "      <td>3</td>\n",
       "    </tr>\n",
       "    <tr>\n",
       "      <th>line</th>\n",
       "      <td>NaN</td>\n",
       "      <td>06</td>\n",
       "      <td>A</td>\n",
       "      <td>E</td>\n",
       "      <td>B</td>\n",
       "    </tr>\n",
       "    <tr>\n",
       "      <th>zip_average_income</th>\n",
       "      <td>43226.4</td>\n",
       "      <td>490138</td>\n",
       "      <td>601536</td>\n",
       "      <td>359071</td>\n",
       "      <td>55622.6</td>\n",
       "    </tr>\n",
       "    <tr>\n",
       "      <th>zip_unemployment_rate</th>\n",
       "      <td>13.8</td>\n",
       "      <td>10.6</td>\n",
       "      <td>3.5</td>\n",
       "      <td>14.2</td>\n",
       "      <td>14.3</td>\n",
       "    </tr>\n",
       "    <tr>\n",
       "      <th>neighborhood_population</th>\n",
       "      <td>105804</td>\n",
       "      <td>65023.7</td>\n",
       "      <td>65023.7</td>\n",
       "      <td>65023.7</td>\n",
       "      <td>65023.7</td>\n",
       "    </tr>\n",
       "    <tr>\n",
       "      <th>ave_sale_price</th>\n",
       "      <td>966203</td>\n",
       "      <td>5.11762e+06</td>\n",
       "      <td>2.75991e+06</td>\n",
       "      <td>7.02397e+06</td>\n",
       "      <td>993125</td>\n",
       "    </tr>\n",
       "  </tbody>\n",
       "</table>\n",
       "</div>"
      ],
      "text/plain": [
       "rental_id                                                          7236931  \\\n",
       "addr_unit                                                             #22A   \n",
       "building_id                                                         551248   \n",
       "bedrooms                                                                 4   \n",
       "bathrooms                                                                3   \n",
       "size_sqft                                                             1300   \n",
       "created_at                                             2018-06-04 16:31:06   \n",
       "addr_street                                               645 OCEAN AVENUE   \n",
       "addr_city                                                         Brooklyn   \n",
       "addr_zip                                                             11226   \n",
       "addr_lat                                                            40.647   \n",
       "addr_lon                                                          -73.9601   \n",
       "bin                                                            3.11762e+06   \n",
       "bbl                                                             3051240001   \n",
       "floor_count                                                              6   \n",
       "year_built                                                            1929   \n",
       "min_to_subway                                                         3.35   \n",
       "has_doorman                                                              0   \n",
       "has_elevator                                                             1   \n",
       "has_fireplace                                                            0   \n",
       "has_dishwasher                                                           1   \n",
       "is_furnished                                                             0   \n",
       "has_gym                                                                  0   \n",
       "allows_pets                                                              1   \n",
       "has_washer_dryer                                                         1   \n",
       "has_garage                                                               0   \n",
       "has_roofdeck                                                             0   \n",
       "has_concierge                                                            0   \n",
       "has_pool                                                                 0   \n",
       "has_garden                                                               0   \n",
       "has_childrens_playroom                                                   0   \n",
       "rent                                                                  3925   \n",
       "no_fee                                                                   1   \n",
       "description              MAGNIFICENT GUT RENOVATED 4 BEDROOM 3 BATHROOM...   \n",
       "neighborhood                                                      Flatbush   \n",
       "borough                                                           Brooklyn   \n",
       "unit                                                                   22A   \n",
       "floornumber                                                            NaN   \n",
       "line                                                                   NaN   \n",
       "zip_average_income                                                 43226.4   \n",
       "zip_unemployment_rate                                                 13.8   \n",
       "neighborhood_population                                             105804   \n",
       "ave_sale_price                                                      966203   \n",
       "\n",
       "rental_id                                                          7331920  \\\n",
       "addr_unit                                                             #406   \n",
       "building_id                                                           3373   \n",
       "bedrooms                                                                 0   \n",
       "bathrooms                                                                1   \n",
       "size_sqft                                                              475   \n",
       "created_at                                             2018-07-03 20:11:43   \n",
       "addr_street                                                93 WORTH STREET   \n",
       "addr_city                                                         New York   \n",
       "addr_zip                                                             10013   \n",
       "addr_lat                                                           40.7166   \n",
       "addr_lon                                                          -74.0048   \n",
       "bin                                                            1.00188e+06   \n",
       "bbl                                                             1001737504   \n",
       "floor_count                                                             17   \n",
       "year_built                                                            2014   \n",
       "min_to_subway                                                       3.2333   \n",
       "has_doorman                                                              1   \n",
       "has_elevator                                                             1   \n",
       "has_fireplace                                                            0   \n",
       "has_dishwasher                                                           1   \n",
       "is_furnished                                                             0   \n",
       "has_gym                                                                  1   \n",
       "allows_pets                                                              1   \n",
       "has_washer_dryer                                                         1   \n",
       "has_garage                                                               0   \n",
       "has_roofdeck                                                             1   \n",
       "has_concierge                                                            1   \n",
       "has_pool                                                                 0   \n",
       "has_garden                                                               0   \n",
       "has_childrens_playroom                                                   0   \n",
       "rent                                                                  3350   \n",
       "no_fee                                                                   0   \n",
       "description              Want to live in the hottest neighborhood in to...   \n",
       "neighborhood                                                       Tribeca   \n",
       "borough                                                          Manhattan   \n",
       "unit                                                                   406   \n",
       "floornumber                                                              4   \n",
       "line                                                                    06   \n",
       "zip_average_income                                                  490138   \n",
       "zip_unemployment_rate                                                 10.6   \n",
       "neighborhood_population                                            65023.7   \n",
       "ave_sale_price                                                 5.11762e+06   \n",
       "\n",
       "rental_id                                                          7139224  \\\n",
       "addr_unit                                                             #18A   \n",
       "building_id                                                          70747   \n",
       "bedrooms                                                                 3   \n",
       "bathrooms                                                                3   \n",
       "size_sqft                                                             1886   \n",
       "created_at                                             2018-05-02 16:10:27   \n",
       "addr_street                                             305 EAST 51 STREET   \n",
       "addr_city                                                         New York   \n",
       "addr_zip                                                             10022   \n",
       "addr_lat                                                           40.7554   \n",
       "addr_lon                                                          -73.9676   \n",
       "bin                                                            1.03968e+06   \n",
       "bbl                                                             1013440001   \n",
       "floor_count                                                             33   \n",
       "year_built                                                            2013   \n",
       "min_to_subway                                                         3.05   \n",
       "has_doorman                                                              1   \n",
       "has_elevator                                                             1   \n",
       "has_fireplace                                                            0   \n",
       "has_dishwasher                                                           1   \n",
       "is_furnished                                                             0   \n",
       "has_gym                                                                  1   \n",
       "allows_pets                                                              1   \n",
       "has_washer_dryer                                                         0   \n",
       "has_garage                                                               1   \n",
       "has_roofdeck                                                             0   \n",
       "has_concierge                                                            0   \n",
       "has_pool                                                                 1   \n",
       "has_garden                                                               1   \n",
       "has_childrens_playroom                                                   0   \n",
       "rent                                                                 11500   \n",
       "no_fee                                                                   0   \n",
       "description              High floor totally renovated 3 bedrooms, 3 bat...   \n",
       "neighborhood                                                  Midtown East   \n",
       "borough                                                          Manhattan   \n",
       "unit                                                                   18A   \n",
       "floornumber                                                             18   \n",
       "line                                                                     A   \n",
       "zip_average_income                                                  601536   \n",
       "zip_unemployment_rate                                                  3.5   \n",
       "neighborhood_population                                            65023.7   \n",
       "ave_sale_price                                                 2.75991e+06   \n",
       "\n",
       "rental_id                                                          7364827  \\\n",
       "addr_unit                                                             #23E   \n",
       "building_id                                                          42076   \n",
       "bedrooms                                                                 1   \n",
       "bathrooms                                                                1   \n",
       "size_sqft                                                              827   \n",
       "created_at                                             2018-07-13 16:06:55   \n",
       "addr_street                                            70 WEST 37TH STREET   \n",
       "addr_city                                                         New York   \n",
       "addr_zip                                                             10018   \n",
       "addr_lat                                                           40.7513   \n",
       "addr_lon                                                          -73.9863   \n",
       "bin                                                            1.01592e+06   \n",
       "bbl                                                             1008380001   \n",
       "floor_count                                                             24   \n",
       "year_built                                                            2019   \n",
       "min_to_subway                                                            2   \n",
       "has_doorman                                                              1   \n",
       "has_elevator                                                             1   \n",
       "has_fireplace                                                            0   \n",
       "has_dishwasher                                                           1   \n",
       "is_furnished                                                             0   \n",
       "has_gym                                                                  1   \n",
       "allows_pets                                                              1   \n",
       "has_washer_dryer                                                         0   \n",
       "has_garage                                                               1   \n",
       "has_roofdeck                                                             1   \n",
       "has_concierge                                                            1   \n",
       "has_pool                                                                 0   \n",
       "has_garden                                                               0   \n",
       "has_childrens_playroom                                                   0   \n",
       "rent                                                                  3772   \n",
       "no_fee                                                                   1   \n",
       "description              **SHORT TERM LEASES AVAILABLE**\\n\\n****Photogr...   \n",
       "neighborhood                                                 Midtown South   \n",
       "borough                                                          Manhattan   \n",
       "unit                                                                   23E   \n",
       "floornumber                                                             23   \n",
       "line                                                                     E   \n",
       "zip_average_income                                                  359071   \n",
       "zip_unemployment_rate                                                 14.2   \n",
       "neighborhood_population                                            65023.7   \n",
       "ave_sale_price                                                 7.02397e+06   \n",
       "\n",
       "rental_id                                                          7242151  \n",
       "addr_unit                                                              #3B  \n",
       "building_id                                                         319156  \n",
       "bedrooms                                                                 3  \n",
       "bathrooms                                                                1  \n",
       "size_sqft                                                             1200  \n",
       "created_at                                             2018-06-05 16:35:40  \n",
       "addr_street                                          43 MAC DONOUGH STREET  \n",
       "addr_city                                                         Brooklyn  \n",
       "addr_zip                                                             11216  \n",
       "addr_lat                                                           40.6811  \n",
       "addr_lon                                                          -73.9447  \n",
       "bin                                                            3.05334e+06  \n",
       "bbl                                                             3018510053  \n",
       "floor_count                                                              4  \n",
       "year_built                                                            1931  \n",
       "min_to_subway                                                       2.1333  \n",
       "has_doorman                                                              0  \n",
       "has_elevator                                                             0  \n",
       "has_fireplace                                                            0  \n",
       "has_dishwasher                                                           0  \n",
       "is_furnished                                                             0  \n",
       "has_gym                                                                  0  \n",
       "allows_pets                                                              1  \n",
       "has_washer_dryer                                                         0  \n",
       "has_garage                                                               0  \n",
       "has_roofdeck                                                             0  \n",
       "has_concierge                                                            0  \n",
       "has_pool                                                                 0  \n",
       "has_garden                                                               0  \n",
       "has_childrens_playroom                                                   0  \n",
       "rent                                                                  2595  \n",
       "no_fee                                                                   1  \n",
       "description              This is a Huuge 3 bedroom apt. located in a pr...  \n",
       "neighborhood                                            Bedford-Stuyvesant  \n",
       "borough                                                           Brooklyn  \n",
       "unit                                                                    3B  \n",
       "floornumber                                                              3  \n",
       "line                                                                     B  \n",
       "zip_average_income                                                 55622.6  \n",
       "zip_unemployment_rate                                                 14.3  \n",
       "neighborhood_population                                            65023.7  \n",
       "ave_sale_price                                                      993125  "
      ]
     },
     "execution_count": 30,
     "metadata": {},
     "output_type": "execute_result"
    }
   ],
   "source": [
    "raw_df.head(5).T"
   ]
  },
  {
   "cell_type": "markdown",
   "metadata": {},
   "source": [
    "## Import external median estimated rental values dataset from Zillow\n",
    " - dataset source (https://www.zillow.com/research/data/).\n",
    " - this dataset provides a smoothed measure of the median estimated market rate rent across a given region and housing type"
   ]
  },
  {
   "cell_type": "code",
   "execution_count": 31,
   "metadata": {},
   "outputs": [
    {
     "data": {
      "text/plain": [
       "Index(['Date', 'RegionName', 'State', 'Metro', 'County', 'City', 'SizeRank',\n",
       "       'Zri', 'MoM', 'QoQ', 'YoY', 'ZriRecordCnt'],\n",
       "      dtype='object')"
      ]
     },
     "execution_count": 31,
     "metadata": {},
     "output_type": "execute_result"
    }
   ],
   "source": [
    "rv_df =  pd.read_csv('./data/Zip_Zri_AllHomesPlusMultifamily_Summary.csv', encoding = \"ISO-8859-1\")\n",
    "rv_df.columns"
   ]
  },
  {
   "cell_type": "markdown",
   "metadata": {},
   "source": [
    "As we can see from all the columns, the only columns we will need are \n",
    "- RegionName : which in our case is the zipcode \n",
    "- Zri : which stands for Zillow Rent Index,it is a smoothed measure of the median estimated market rate rent across a given region. \n",
    "\n",
    "Therefore we can drop all other columns and also, we should frist drop all the rows that are not in the state of NY"
   ]
  },
  {
   "cell_type": "code",
   "execution_count": 32,
   "metadata": {},
   "outputs": [
    {
     "data": {
      "text/html": [
       "<div>\n",
       "<style scoped>\n",
       "    .dataframe tbody tr th:only-of-type {\n",
       "        vertical-align: middle;\n",
       "    }\n",
       "\n",
       "    .dataframe tbody tr th {\n",
       "        vertical-align: top;\n",
       "    }\n",
       "\n",
       "    .dataframe thead th {\n",
       "        text-align: right;\n",
       "    }\n",
       "</style>\n",
       "<table border=\"1\" class=\"dataframe\">\n",
       "  <thead>\n",
       "    <tr style=\"text-align: right;\">\n",
       "      <th></th>\n",
       "      <th>addr_zip</th>\n",
       "      <th>estimated_rental_value</th>\n",
       "    </tr>\n",
       "  </thead>\n",
       "  <tbody>\n",
       "    <tr>\n",
       "      <th>0</th>\n",
       "      <td>10025</td>\n",
       "      <td>3932.80</td>\n",
       "    </tr>\n",
       "    <tr>\n",
       "      <th>2</th>\n",
       "      <td>10023</td>\n",
       "      <td>4300.37</td>\n",
       "    </tr>\n",
       "    <tr>\n",
       "      <th>6</th>\n",
       "      <td>10002</td>\n",
       "      <td>3704.24</td>\n",
       "    </tr>\n",
       "    <tr>\n",
       "      <th>10</th>\n",
       "      <td>11226</td>\n",
       "      <td>2231.85</td>\n",
       "    </tr>\n",
       "    <tr>\n",
       "      <th>11</th>\n",
       "      <td>10467</td>\n",
       "      <td>1790.04</td>\n",
       "    </tr>\n",
       "    <tr>\n",
       "      <th>14</th>\n",
       "      <td>10016</td>\n",
       "      <td>3445.88</td>\n",
       "    </tr>\n",
       "    <tr>\n",
       "      <th>18</th>\n",
       "      <td>11201</td>\n",
       "      <td>2909.09</td>\n",
       "    </tr>\n",
       "    <tr>\n",
       "      <th>19</th>\n",
       "      <td>11235</td>\n",
       "      <td>2169.66</td>\n",
       "    </tr>\n",
       "    <tr>\n",
       "      <th>20</th>\n",
       "      <td>11375</td>\n",
       "      <td>2134.06</td>\n",
       "    </tr>\n",
       "    <tr>\n",
       "      <th>24</th>\n",
       "      <td>10029</td>\n",
       "      <td>3208.98</td>\n",
       "    </tr>\n",
       "  </tbody>\n",
       "</table>\n",
       "</div>"
      ],
      "text/plain": [
       "    addr_zip  estimated_rental_value\n",
       "0      10025                 3932.80\n",
       "2      10023                 4300.37\n",
       "6      10002                 3704.24\n",
       "10     11226                 2231.85\n",
       "11     10467                 1790.04\n",
       "14     10016                 3445.88\n",
       "18     11201                 2909.09\n",
       "19     11235                 2169.66\n",
       "20     11375                 2134.06\n",
       "24     10029                 3208.98"
      ]
     },
     "execution_count": 32,
     "metadata": {},
     "output_type": "execute_result"
    }
   ],
   "source": [
    "rv_df = rv_df[rv_df['State']=='NY']\n",
    "rv_df = rv_df[['RegionName','Zri']]\n",
    "rv_df.rename(columns={'RegionName':'addr_zip','Zri':\"estimated_rental_value\"}, inplace=True)\n",
    "rv_df.head(10)"
   ]
  },
  {
   "cell_type": "markdown",
   "metadata": {},
   "source": [
    "We can check if there is any missing data just in case"
   ]
  },
  {
   "cell_type": "code",
   "execution_count": 33,
   "metadata": {},
   "outputs": [
    {
     "data": {
      "text/plain": [
       "addr_zip                  0\n",
       "estimated_rental_value    0\n",
       "dtype: int64"
      ]
     },
     "execution_count": 33,
     "metadata": {},
     "output_type": "execute_result"
    }
   ],
   "source": [
    "rv_df.isna().sum()"
   ]
  },
  {
   "cell_type": "code",
   "execution_count": 34,
   "metadata": {},
   "outputs": [
    {
     "data": {
      "text/html": [
       "<div>\n",
       "<style scoped>\n",
       "    .dataframe tbody tr th:only-of-type {\n",
       "        vertical-align: middle;\n",
       "    }\n",
       "\n",
       "    .dataframe tbody tr th {\n",
       "        vertical-align: top;\n",
       "    }\n",
       "\n",
       "    .dataframe thead th {\n",
       "        text-align: right;\n",
       "    }\n",
       "</style>\n",
       "<table border=\"1\" class=\"dataframe\">\n",
       "  <thead>\n",
       "    <tr style=\"text-align: right;\">\n",
       "      <th></th>\n",
       "      <th>addr_unit</th>\n",
       "      <th>building_id</th>\n",
       "      <th>bedrooms</th>\n",
       "      <th>bathrooms</th>\n",
       "      <th>size_sqft</th>\n",
       "      <th>created_at</th>\n",
       "      <th>addr_street</th>\n",
       "      <th>addr_city</th>\n",
       "      <th>addr_zip</th>\n",
       "      <th>addr_lat</th>\n",
       "      <th>...</th>\n",
       "      <th>neighborhood</th>\n",
       "      <th>borough</th>\n",
       "      <th>unit</th>\n",
       "      <th>floornumber</th>\n",
       "      <th>line</th>\n",
       "      <th>zip_average_income</th>\n",
       "      <th>zip_unemployment_rate</th>\n",
       "      <th>neighborhood_population</th>\n",
       "      <th>ave_sale_price</th>\n",
       "      <th>estimated_rental_value</th>\n",
       "    </tr>\n",
       "    <tr>\n",
       "      <th>rental_id</th>\n",
       "      <th></th>\n",
       "      <th></th>\n",
       "      <th></th>\n",
       "      <th></th>\n",
       "      <th></th>\n",
       "      <th></th>\n",
       "      <th></th>\n",
       "      <th></th>\n",
       "      <th></th>\n",
       "      <th></th>\n",
       "      <th></th>\n",
       "      <th></th>\n",
       "      <th></th>\n",
       "      <th></th>\n",
       "      <th></th>\n",
       "      <th></th>\n",
       "      <th></th>\n",
       "      <th></th>\n",
       "      <th></th>\n",
       "      <th></th>\n",
       "      <th></th>\n",
       "    </tr>\n",
       "  </thead>\n",
       "  <tbody>\n",
       "    <tr>\n",
       "      <th>7236931</th>\n",
       "      <td>#22A</td>\n",
       "      <td>551248</td>\n",
       "      <td>4</td>\n",
       "      <td>3.0</td>\n",
       "      <td>1300.0</td>\n",
       "      <td>2018-06-04 16:31:06</td>\n",
       "      <td>645 OCEAN AVENUE</td>\n",
       "      <td>Brooklyn</td>\n",
       "      <td>11226</td>\n",
       "      <td>40.646982</td>\n",
       "      <td>...</td>\n",
       "      <td>Flatbush</td>\n",
       "      <td>Brooklyn</td>\n",
       "      <td>22A</td>\n",
       "      <td>NaN</td>\n",
       "      <td>NaN</td>\n",
       "      <td>43226.418306</td>\n",
       "      <td>13.8</td>\n",
       "      <td>105804.000000</td>\n",
       "      <td>9.662034e+05</td>\n",
       "      <td>2231.85</td>\n",
       "    </tr>\n",
       "    <tr>\n",
       "      <th>7331920</th>\n",
       "      <td>#406</td>\n",
       "      <td>3373</td>\n",
       "      <td>0</td>\n",
       "      <td>1.0</td>\n",
       "      <td>475.0</td>\n",
       "      <td>2018-07-03 20:11:43</td>\n",
       "      <td>93 WORTH STREET</td>\n",
       "      <td>New York</td>\n",
       "      <td>10013</td>\n",
       "      <td>40.716599</td>\n",
       "      <td>...</td>\n",
       "      <td>Tribeca</td>\n",
       "      <td>Manhattan</td>\n",
       "      <td>406</td>\n",
       "      <td>4.0</td>\n",
       "      <td>06</td>\n",
       "      <td>490137.516513</td>\n",
       "      <td>10.6</td>\n",
       "      <td>65023.658474</td>\n",
       "      <td>5.117625e+06</td>\n",
       "      <td>7798.03</td>\n",
       "    </tr>\n",
       "    <tr>\n",
       "      <th>7139224</th>\n",
       "      <td>#18A</td>\n",
       "      <td>70747</td>\n",
       "      <td>3</td>\n",
       "      <td>3.0</td>\n",
       "      <td>1886.0</td>\n",
       "      <td>2018-05-02 16:10:27</td>\n",
       "      <td>305 EAST 51 STREET</td>\n",
       "      <td>New York</td>\n",
       "      <td>10022</td>\n",
       "      <td>40.755402</td>\n",
       "      <td>...</td>\n",
       "      <td>Midtown East</td>\n",
       "      <td>Manhattan</td>\n",
       "      <td>18A</td>\n",
       "      <td>18.0</td>\n",
       "      <td>A</td>\n",
       "      <td>601535.887296</td>\n",
       "      <td>3.5</td>\n",
       "      <td>65023.658474</td>\n",
       "      <td>2.759910e+06</td>\n",
       "      <td>3934.82</td>\n",
       "    </tr>\n",
       "    <tr>\n",
       "      <th>7364827</th>\n",
       "      <td>#23E</td>\n",
       "      <td>42076</td>\n",
       "      <td>1</td>\n",
       "      <td>1.0</td>\n",
       "      <td>827.0</td>\n",
       "      <td>2018-07-13 16:06:55</td>\n",
       "      <td>70 WEST 37TH STREET</td>\n",
       "      <td>New York</td>\n",
       "      <td>10018</td>\n",
       "      <td>40.751301</td>\n",
       "      <td>...</td>\n",
       "      <td>Midtown South</td>\n",
       "      <td>Manhattan</td>\n",
       "      <td>23E</td>\n",
       "      <td>23.0</td>\n",
       "      <td>E</td>\n",
       "      <td>359070.571010</td>\n",
       "      <td>14.2</td>\n",
       "      <td>65023.658474</td>\n",
       "      <td>7.023969e+06</td>\n",
       "      <td>3591.00</td>\n",
       "    </tr>\n",
       "    <tr>\n",
       "      <th>7242151</th>\n",
       "      <td>#3B</td>\n",
       "      <td>319156</td>\n",
       "      <td>3</td>\n",
       "      <td>1.0</td>\n",
       "      <td>1200.0</td>\n",
       "      <td>2018-06-05 16:35:40</td>\n",
       "      <td>43 MAC DONOUGH STREET</td>\n",
       "      <td>Brooklyn</td>\n",
       "      <td>11216</td>\n",
       "      <td>40.681132</td>\n",
       "      <td>...</td>\n",
       "      <td>Bedford-Stuyvesant</td>\n",
       "      <td>Brooklyn</td>\n",
       "      <td>3B</td>\n",
       "      <td>3.0</td>\n",
       "      <td>B</td>\n",
       "      <td>55622.606651</td>\n",
       "      <td>14.3</td>\n",
       "      <td>65023.658474</td>\n",
       "      <td>9.931254e+05</td>\n",
       "      <td>2509.32</td>\n",
       "    </tr>\n",
       "  </tbody>\n",
       "</table>\n",
       "<p>5 rows × 43 columns</p>\n",
       "</div>"
      ],
      "text/plain": [
       "          addr_unit  building_id  bedrooms  bathrooms  size_sqft  \\\n",
       "rental_id                                                          \n",
       "7236931        #22A       551248         4        3.0     1300.0   \n",
       "7331920        #406         3373         0        1.0      475.0   \n",
       "7139224        #18A        70747         3        3.0     1886.0   \n",
       "7364827        #23E        42076         1        1.0      827.0   \n",
       "7242151         #3B       319156         3        1.0     1200.0   \n",
       "\n",
       "                    created_at            addr_street addr_city  addr_zip  \\\n",
       "rental_id                                                                   \n",
       "7236931    2018-06-04 16:31:06       645 OCEAN AVENUE  Brooklyn     11226   \n",
       "7331920    2018-07-03 20:11:43        93 WORTH STREET  New York     10013   \n",
       "7139224    2018-05-02 16:10:27     305 EAST 51 STREET  New York     10022   \n",
       "7364827    2018-07-13 16:06:55    70 WEST 37TH STREET  New York     10018   \n",
       "7242151    2018-06-05 16:35:40  43 MAC DONOUGH STREET  Brooklyn     11216   \n",
       "\n",
       "            addr_lat  ...        neighborhood    borough  unit  floornumber  \\\n",
       "rental_id             ...                                                     \n",
       "7236931    40.646982  ...            Flatbush   Brooklyn   22A          NaN   \n",
       "7331920    40.716599  ...             Tribeca  Manhattan   406          4.0   \n",
       "7139224    40.755402  ...        Midtown East  Manhattan   18A         18.0   \n",
       "7364827    40.751301  ...       Midtown South  Manhattan   23E         23.0   \n",
       "7242151    40.681132  ...  Bedford-Stuyvesant   Brooklyn    3B          3.0   \n",
       "\n",
       "           line  zip_average_income  zip_unemployment_rate  \\\n",
       "rental_id                                                    \n",
       "7236931     NaN        43226.418306                   13.8   \n",
       "7331920      06       490137.516513                   10.6   \n",
       "7139224       A       601535.887296                    3.5   \n",
       "7364827       E       359070.571010                   14.2   \n",
       "7242151       B        55622.606651                   14.3   \n",
       "\n",
       "           neighborhood_population  ave_sale_price  estimated_rental_value  \n",
       "rental_id                                                                   \n",
       "7236931              105804.000000    9.662034e+05                 2231.85  \n",
       "7331920               65023.658474    5.117625e+06                 7798.03  \n",
       "7139224               65023.658474    2.759910e+06                 3934.82  \n",
       "7364827               65023.658474    7.023969e+06                 3591.00  \n",
       "7242151               65023.658474    9.931254e+05                 2509.32  \n",
       "\n",
       "[5 rows x 43 columns]"
      ]
     },
     "execution_count": 34,
     "metadata": {},
     "output_type": "execute_result"
    }
   ],
   "source": [
    "raw_df=raw_df.reset_index().merge(rv_df, how=\"left\",on='addr_zip').set_index('rental_id')\n",
    "raw_test2_df=raw_test2_df.reset_index().merge(rv_df, how=\"left\",on='addr_zip').set_index('rental_id')\n",
    "raw_df.head(5)"
   ]
  },
  {
   "cell_type": "code",
   "execution_count": 37,
   "metadata": {},
   "outputs": [
    {
     "name": "stdout",
     "output_type": "stream",
     "text": [
      "Missing data for the newly added estimated_rental_value column is: 624\n"
     ]
    }
   ],
   "source": [
    "print(\"Missing data for the newly added estimated_rental_value column is:\",raw_df['estimated_rental_value'].isna().sum())"
   ]
  },
  {
   "cell_type": "markdown",
   "metadata": {},
   "source": [
    "We will use the mean of the estimate_rental_value to fill the missing value"
   ]
  },
  {
   "cell_type": "code",
   "execution_count": 74,
   "metadata": {},
   "outputs": [],
   "source": [
    "raw_df['estimated_rental_value'].fillna(raw_df['estimated_rental_value'].mean(), inplace=True)\n",
    "raw_test2_df['estimated_rental_value'].fillna(raw_test2_df['estimated_rental_value'].mean(), inplace=True)"
   ]
  },
  {
   "cell_type": "code",
   "execution_count": 75,
   "metadata": {},
   "outputs": [
    {
     "data": {
      "text/plain": [
       "0"
      ]
     },
     "execution_count": 75,
     "metadata": {},
     "output_type": "execute_result"
    }
   ],
   "source": [
    "raw_df['estimated_rental_value'].isna().sum()"
   ]
  },
  {
   "cell_type": "code",
   "execution_count": null,
   "metadata": {},
   "outputs": [],
   "source": []
  },
  {
   "cell_type": "markdown",
   "metadata": {
    "colab_type": "text",
    "id": "Sq-lexQfz50m"
   },
   "source": [
    "# Data Cleaning"
   ]
  },
  {
   "cell_type": "markdown",
   "metadata": {
    "colab_type": "text",
    "id": "g_YNLB4Lz50n"
   },
   "source": [
    "\n",
    "### Handling missing data\n",
    "In order to handle missing data in this dataset, we frist find and count all the null values."
   ]
  },
  {
   "cell_type": "code",
   "execution_count": 76,
   "metadata": {
    "colab": {},
    "colab_type": "code",
    "id": "IBbbVEkLz50q",
    "outputId": "05f679c4-20ad-4541-faa1-d1747e07fd0e"
   },
   "outputs": [
    {
     "data": {
      "text/plain": [
       "addr_unit                   110\n",
       "building_id                   0\n",
       "bedrooms                      0\n",
       "bathrooms                     0\n",
       "size_sqft                     0\n",
       "created_at                    0\n",
       "addr_street                   0\n",
       "addr_city                     0\n",
       "addr_zip                      0\n",
       "addr_lat                      0\n",
       "addr_lon                      0\n",
       "bin                           1\n",
       "bbl                           0\n",
       "floor_count                   0\n",
       "year_built                  470\n",
       "min_to_subway               143\n",
       "has_doorman                   0\n",
       "has_elevator                  0\n",
       "has_fireplace                 0\n",
       "has_dishwasher                0\n",
       "is_furnished                  0\n",
       "has_gym                       0\n",
       "allows_pets                   0\n",
       "has_washer_dryer              0\n",
       "has_garage                    0\n",
       "has_roofdeck                  0\n",
       "has_concierge                 0\n",
       "has_pool                      0\n",
       "has_garden                    0\n",
       "has_childrens_playroom        0\n",
       "rent                          0\n",
       "no_fee                        0\n",
       "description                  16\n",
       "neighborhood                  3\n",
       "borough                       0\n",
       "unit                        114\n",
       "floornumber                1502\n",
       "line                       4135\n",
       "zip_average_income            0\n",
       "zip_unemployment_rate       394\n",
       "neighborhood_population       0\n",
       "ave_sale_price                0\n",
       "estimated_rental_value        0\n",
       "dtype: int64"
      ]
     },
     "execution_count": 76,
     "metadata": {},
     "output_type": "execute_result"
    }
   ],
   "source": [
    "raw_df.isna().sum()"
   ]
  },
  {
   "cell_type": "markdown",
   "metadata": {
    "colab_type": "text",
    "id": "UrIsCH6xz50t"
   },
   "source": [
    "As we can see from the result,there are missing data appearing on: \n",
    "- addr_unit\n",
    "- bin \n",
    "- year_built \n",
    "- min_to_subway \n",
    "- description \n",
    "- neighborhood \n",
    "- unit \n",
    "- floornumber \n",
    "- line \n",
    "\n",
    "Continuous features floornumber, year_built and min_to_subway has impact on the rent, so we will fill with mode or mean. For catagorigious feature neighborhood, we will not use it in building model, because it has too many possible values."
   ]
  },
  {
   "cell_type": "code",
   "execution_count": 77,
   "metadata": {
    "colab": {
     "base_uri": "https://localhost:8080/",
     "height": 51
    },
    "colab_type": "code",
    "id": "TlnpEmrkz50t",
    "outputId": "5f13938f-bd73-476f-d1f5-2fa6a0e33967"
   },
   "outputs": [
    {
     "name": "stdout",
     "output_type": "stream",
     "text": [
      "original shape of dataset: (14000, 43)\n",
      "shape of dataset after handling missing data, should stay the same: (14000, 43)\n"
     ]
    }
   ],
   "source": [
    "md_df = raw_df\n",
    "\n",
    "md_df['floornumber'].fillna(md_df['floornumber'].mode()[0], inplace=True)\n",
    "raw_test2_df['floornumber'].fillna(raw_test2_df['floornumber'].mode()[0], inplace=True)\n",
    "\n",
    "md_df['min_to_subway'].fillna(md_df['min_to_subway'].mean(), inplace=True)\n",
    "raw_test2_df['min_to_subway'].fillna(raw_test2_df['min_to_subway'].mean(), inplace=True)\n",
    "\n",
    "md_df['year_built'].fillna(md_df['year_built'].mean(), inplace=True)\n",
    "raw_test2_df['year_built'].fillna(raw_test2_df['year_built'].mean(), inplace=True)\n",
    "\n",
    "print(\"original shape of dataset:\",raw_df.shape)\n",
    "print(\"shape of dataset after handling missing data, should stay the same:\",md_df.shape)"
   ]
  },
  {
   "cell_type": "markdown",
   "metadata": {
    "colab_type": "text",
    "id": "TeWzSum5z50w"
   },
   "source": [
    "## Remove outliers"
   ]
  },
  {
   "cell_type": "code",
   "execution_count": 78,
   "metadata": {
    "colab": {},
    "colab_type": "code",
    "id": "5ZlyWStHz50w",
    "outputId": "8f0581aa-c64c-423e-b272-3be0a0cc3b6f"
   },
   "outputs": [
    {
     "data": {
      "image/png": "[encoded data removed]",
      "text/plain": [
       "<Figure size 432x288 with 1 Axes>"
      ]
     },
     "metadata": {
      "needs_background": "light"
     },
     "output_type": "display_data"
    },
    {
     "data": {
      "image/png": "[encoded data removed]",
      "text/plain": [
       "<Figure size 432x288 with 1 Axes>"
      ]
     },
     "metadata": {
      "needs_background": "light"
     },
     "output_type": "display_data"
    },
    {
     "data": {
      "image/png": "[encoded data removed]",
      "text/plain": [
       "<Figure size 432x288 with 1 Axes>"
      ]
     },
     "metadata": {
      "needs_background": "light"
     },
     "output_type": "display_data"
    },
    {
     "data": {
      "image/png": "[encoded data removed]",
      "text/plain": [
       "<Figure size 432x288 with 1 Axes>"
      ]
     },
     "metadata": {
      "needs_background": "light"
     },
     "output_type": "display_data"
    },
    {
     "data": {
      "image/png": "[encoded data removed]",
      "text/plain": [
       "<Figure size 432x288 with 1 Axes>"
      ]
     },
     "metadata": {
      "needs_background": "light"
     },
     "output_type": "display_data"
    },
    {
     "data": {
      "image/png": "[encoded data removed]",
      "text/plain": [
       "<Figure size 432x288 with 1 Axes>"
      ]
     },
     "metadata": {
      "needs_background": "light"
     },
     "output_type": "display_data"
    },
    {
     "data": {
      "image/png": "[encoded data removed]",
      "text/plain": [
       "<Figure size 432x288 with 1 Axes>"
      ]
     },
     "metadata": {
      "needs_background": "light"
     },
     "output_type": "display_data"
    },
    {
     "data": {
      "image/png": "[encoded data removed]",
      "text/plain": [
       "<Figure size 432x288 with 1 Axes>"
      ]
     },
     "metadata": {
      "needs_background": "light"
     },
     "output_type": "display_data"
    },
    {
     "data": {
      "image/png": "[encoded data removed]",
      "text/plain": [
       "<Figure size 432x288 with 1 Axes>"
      ]
     },
     "metadata": {
      "needs_background": "light"
     },
     "output_type": "display_data"
    }
   ],
   "source": [
    "for feature in continuous_features:\n",
    "    md_df.plot.scatter(feature, 'rent')"
   ]
  },
  {
   "cell_type": "code",
   "execution_count": null,
   "metadata": {
    "colab": {},
    "colab_type": "code",
    "id": "nSGretTYz50z",
    "outputId": "f714b8a2-7394-4ba9-c813-c0ec65208dbf"
   },
   "outputs": [],
   "source": [
    "md_df[md_df['rent']>40000].count()"
   ]
  },
  {
   "cell_type": "markdown",
   "metadata": {
    "colab_type": "text",
    "id": "oi-VpdMNz501"
   },
   "source": [
    "**drop size_sqrt = 0 for now, since there are 713 rows, might replace with mode when creating models**"
   ]
  },
  {
   "cell_type": "code",
   "execution_count": null,
   "metadata": {
    "colab": {
     "base_uri": "https://localhost:8080/",
     "height": 221
    },
    "colab_type": "code",
    "id": "eVa8L2Siz502",
    "outputId": "0f656e3b-3d27-4293-ddbd-7060922f32f5"
   },
   "outputs": [],
   "source": [
    "def remove_outliers(md_df, feature, low_value, high_value):\n",
    "    print(feature, ': ', md_df.shape)\n",
    "    md_df = md_df[md_df[feature]>low_value]\n",
    "    md_df = md_df[md_df[feature]<=high_value]\n",
    "    md_df.reset_index(drop=True,inplace=True)\n",
    "    print(feature, ': ', md_df.shape)\n",
    "    return md_df\n",
    "\n",
    "md_df = remove_outliers(md_df, 'rent', 0, 40000)\n",
    "md_df = remove_outliers(md_df, 'bathrooms', 0, 12)\n",
    "md_df = remove_outliers(md_df, 'size_sqft', 0, 10000)\n",
    "md_df = remove_outliers(md_df, 'year_built', 1700, 2019)\n",
    "md_df = remove_outliers(md_df, 'min_to_subway', 0, 60)\n",
    "md_df = remove_outliers(md_df, 'floornumber', 0, 60)\n",
    "\n",
    "md_df['year_built'] = 2019 - md_df['year_built'].astype(int)"
   ]
  },
  {
   "cell_type": "markdown",
   "metadata": {
    "colab_type": "text",
    "id": "EdMZuLXPz504"
   },
   "source": [
    "### Encode categorical feature and drop useless features"
   ]
  },
  {
   "cell_type": "code",
   "execution_count": null,
   "metadata": {
    "colab": {},
    "colab_type": "code",
    "id": "Yk6n-wuhz504"
   },
   "outputs": [],
   "source": [
    "boroughs = np.array(md_df['borough'].unique())\n",
    "\n",
    "for borough in boroughs:\n",
    "    md_df[borough] = md_df['borough'].apply(lambda x : int(x == borough))\n",
    "    raw_test2_df[borough] = raw_test2_df['borough'].apply(lambda x : int(x == borough))\n",
    "\n",
    "features_notNeed = ['addr_unit', 'building_id', 'created_at', 'addr_street', 'addr_city', 'addr_zip', 'bin', 'bbl', 'description', \\\n",
    "                    'neighborhood', 'unit', 'borough', 'line']\n",
    "\n",
    "md_df = md_df.drop(features_notNeed, axis=1)"
   ]
  },
  {
   "cell_type": "markdown",
   "metadata": {
    "colab_type": "text",
    "id": "R8wB_RrBz507"
   },
   "source": [
    "### Use pair coorelation for continuous features"
   ]
  },
  {
   "cell_type": "code",
   "execution_count": null,
   "metadata": {
    "colab": {},
    "colab_type": "code",
    "id": "0T9tc1Sgz507",
    "outputId": "38ac2670-e06b-4b0e-a12d-4578b89aa04b"
   },
   "outputs": [],
   "source": [
    "continuous_df = md_df[continuous_features+['rent']]\n",
    "continuous_df.corr()['rent'][:-1]"
   ]
  },
  {
   "cell_type": "markdown",
   "metadata": {
    "colab_type": "text",
    "id": "1oR3OgtGz50_"
   },
   "source": [
    "### Check coorelation for binary features"
   ]
  },
  {
   "cell_type": "code",
   "execution_count": null,
   "metadata": {
    "colab": {},
    "colab_type": "code",
    "id": "Hpz9vhlAz51A",
    "outputId": "adda346d-1d76-4ae2-d0f8-5dcb4b165f24"
   },
   "outputs": [],
   "source": [
    "md_df[binary_features+['rent']].corr()['rent'][:-1]\n",
    "coor_results= []\n",
    "\n",
    "for feature in binary_features:\n",
    "  df = raw_df.groupby([feature]).aggregate(['mean'])['rent']\n",
    "  df[feature]= df.index\n",
    "  coor_results.append(df.corr().iloc[0][1])\n",
    "coor_df = pd.DataFrame({'Coorelation': coor_results,'Feature':binary_features})\n",
    "coor_df\n"
   ]
  },
  {
   "cell_type": "markdown",
   "metadata": {
    "colab_type": "text",
    "id": "2yKBFlfwz51C"
   },
   "source": [
    "As we can see in the correlation table, all binary features highly affected the rents. When we build the models, we should include all binary features."
   ]
  },
  {
   "cell_type": "markdown",
   "metadata": {
    "colab_type": "text",
    "id": "d7UQLvU9z51D"
   },
   "source": [
    "# Build Models\n",
    " - We will be using cross validation to evaluate the performances of all our modles,and then deciding which should be the most suitable one, thus we will first create a function called get_cv_results to obtain the cv_performance.\n",
    " - we will try 5 different basic categorical models:`multiple regression, decision tree, random froest, Gradient Boosting Regression and Neural Network`"
   ]
  },
  {
   "cell_type": "code",
   "execution_count": null,
   "metadata": {
    "colab": {},
    "colab_type": "code",
    "id": "E2YtMzPrz51E"
   },
   "outputs": [],
   "source": [
    "md_df = shuffle(md_df).reset_index(drop=True)\n"
   ]
  },
  {
   "cell_type": "code",
   "execution_count": null,
   "metadata": {
    "colab": {},
    "colab_type": "code",
    "id": "7YFRHMFYz51G"
   },
   "outputs": [],
   "source": [
    "features = list(md_df.columns)\n",
    "features.remove('rent')\n",
    "k_fold = KFold(n_splits=10)"
   ]
  },
  {
   "cell_type": "code",
   "execution_count": null,
   "metadata": {
    "colab": {},
    "colab_type": "code",
    "id": "AknQGhA5z51I"
   },
   "outputs": [],
   "source": [
    "def get_cv_results(regressor):\n",
    "    \n",
    "    results = []\n",
    "    for train, test in k_fold.split(md_df):\n",
    "        regressor.fit(md_df.loc[train, features], md_df.loc[train, 'rent'])\n",
    "        y_predicted = regressor.predict(md_df.loc[test, features])\n",
    "        accuracy = mean_squared_error(md_df.loc[test, 'rent'], y_predicted)\n",
    "        results.append(accuracy)\n",
    "\n",
    "    return np.mean(results), np.std(results)\n",
    "\n",
    "def get_test_result(regressor):\n",
    "    regressor.fit(md_df[features], md_df['rent'])\n",
    "    y_predicted = regressor.predict(raw_test_df[features])\n",
    "    accuracy = mean_squared_error(raw_test_df['rent'], y_predicted)\n",
    "    return accuracy"
   ]
  },
  {
   "cell_type": "markdown",
   "metadata": {
    "colab_type": "text",
    "id": "U6Eo0zUHz51K"
   },
   "source": [
    "### Radnom Forest Model"
   ]
  },
  {
   "cell_type": "code",
   "execution_count": null,
   "metadata": {
    "colab": {},
    "colab_type": "code",
    "id": "9FtBQ3enz51L"
   },
   "outputs": [],
   "source": [
    "rforest = RandomForestRegressor(\n",
    "    random_state=11, \n",
    "    max_depth=10,\n",
    "    n_estimators=200\n",
    ")\n"
   ]
  },
  {
   "cell_type": "code",
   "execution_count": null,
   "metadata": {
    "colab": {
     "base_uri": "https://localhost:8080/",
     "height": 34
    },
    "colab_type": "code",
    "id": "mSdqSbSez51N",
    "outputId": "1c0c0b9f-8026-4113-f1e1-65ccfea51fcb"
   },
   "outputs": [],
   "source": [
    "#get_cv_results(rforest)"
   ]
  },
  {
   "cell_type": "code",
   "execution_count": null,
   "metadata": {},
   "outputs": [],
   "source": [
    "get_test_result(rforest)"
   ]
  },
  {
   "cell_type": "markdown",
   "metadata": {
    "colab_type": "text",
    "id": "3-raCdY4G96R"
   },
   "source": [
    "Now let's see how each features affected this model by checking the feature_importances"
   ]
  },
  {
   "cell_type": "code",
   "execution_count": null,
   "metadata": {
    "colab": {},
    "colab_type": "code",
    "id": "iOGKT8Ncz51Q",
    "outputId": "f586ad19-8d5a-40a6-9b7e-c8a0350c983c"
   },
   "outputs": [],
   "source": [
    "rforest.fit(md_df[features], md_df['rent'])  \n",
    "for feature,score in sorted(zip(features,rforest.feature_importances_), key=lambda x:x[1], reverse=True):\n",
    "    print(feature, ' ', score)"
   ]
  },
  {
   "cell_type": "markdown",
   "metadata": {
    "colab_type": "text",
    "id": "DoQlfyCZz51T"
   },
   "source": [
    "### Multiple Regression\n",
    " - Multiple regression is an extension of simple linear regression. It is used when we want to predict the value of a variable based on the value of two or more other variables\n",
    " - We will based on p value to choose significant variables(p<0.1)\n",
    " "
   ]
  },
  {
   "cell_type": "code",
   "execution_count": null,
   "metadata": {
    "colab": {
     "base_uri": "https://localhost:8080/",
     "height": 1000
    },
    "colab_type": "code",
    "id": "zCx2KQlWz51U",
    "outputId": "8aa13d4f-350d-4573-f0cd-89bdcd11f8c2"
   },
   "outputs": [],
   "source": [
    "mul_reg_features = features[:]\n",
    "x = md_df[features] \n",
    "y = md_df['rent']\n",
    "est = sm.OLS(y, x).fit()\n",
    "est.summary()"
   ]
  },
  {
   "cell_type": "markdown",
   "metadata": {
    "colab_type": "text",
    "id": "K0JZnMWLz51X"
   },
   "source": [
    "- As we can see, variables has_garden and year_built have P value > 0.1\n",
    "- After we remove these two variables, all P values are < 0.1"
   ]
  },
  {
   "cell_type": "code",
   "execution_count": null,
   "metadata": {
    "colab": {
     "base_uri": "https://localhost:8080/",
     "height": 1000
    },
    "colab_type": "code",
    "id": "qZQRPWFEz51X",
    "outputId": "f7da8447-aefe-44b5-c6ab-c0891405a842"
   },
   "outputs": [],
   "source": [
    "mul_reg_features.remove('has_garden')\n",
    "mul_reg_features.remove('year_built')\n",
    "x = md_df[mul_reg_features] \n",
    "y = md_df['rent']\n",
    "est = sm.OLS(y, x).fit()\n",
    "est.summary()"
   ]
  },
  {
   "cell_type": "code",
   "execution_count": null,
   "metadata": {
    "colab": {
     "base_uri": "https://localhost:8080/",
     "height": 34
    },
    "colab_type": "code",
    "id": "nSPV3iW0z51Z",
    "outputId": "67f4e27f-aca1-4c39-985b-0c991f5b5551"
   },
   "outputs": [],
   "source": [
    "mul_reg = LinearRegression().fit(md_df[mul_reg_features], md_df['rent'])\n",
    "get_cv_results(mul_reg)\n",
    "get_test_result(mul_reg)"
   ]
  },
  {
   "cell_type": "markdown",
   "metadata": {
    "colab_type": "text",
    "id": "566BNiS_z51c"
   },
   "source": [
    "## Gradient Boosting Regression\n",
    "For the gradient boosting regressor we will first set up the hyperparameter max_depth=5 to avoid overfitting, will adjust more hyperparameter as we move on to improve the model\n"
   ]
  },
  {
   "cell_type": "code",
   "execution_count": null,
   "metadata": {
    "colab": {
     "base_uri": "https://localhost:8080/",
     "height": 34
    },
    "colab_type": "code",
    "id": "DJGUq1egz51d",
    "outputId": "75609edb-bd16-4d6d-af15-7c9199b33bc7"
   },
   "outputs": [],
   "source": [
    "gbrdemo = GradientBoostingRegressor(\n",
    "    max_depth=5,\n",
    "    n_estimators=100\n",
    ")\n",
    "\n",
    "get_cv_results(gbrdemo)"
   ]
  },
  {
   "cell_type": "code",
   "execution_count": null,
   "metadata": {},
   "outputs": [],
   "source": [
    "get_test_result(gbrdemo)"
   ]
  },
  {
   "cell_type": "code",
   "execution_count": null,
   "metadata": {
    "colab": {},
    "colab_type": "code",
    "id": "BRTqyIgwG96h"
   },
   "outputs": [],
   "source": [
    "gbrdemo = GradientBoostingRegressor(\n",
    "    max_depth=5,\n",
    "    n_estimators=100\n",
    ")"
   ]
  },
  {
   "cell_type": "markdown",
   "metadata": {
    "colab_type": "text",
    "id": "oQX1f6I5z51f"
   },
   "source": [
    "### Tuning Hyperparameters\n",
    "Now let's use GridSearchCV form sci-kit learn model_selection to tune the hyperparameters, and find the most suitable one for our Gradient Boosting Regression model.The choices of hyperparameters are obtained from the toturial code, and since this function took a long time to process, we are considering reduce the amount of hyperpraramters for testing.\n",
    "\n",
    "cited link: link: https://shankarmsy.github.io/stories/gbrt-sklearn.html"
   ]
  },
  {
   "cell_type": "code",
   "execution_count": null,
   "metadata": {
    "colab": {},
    "colab_type": "code",
    "id": "zAGQpu5Jz51f"
   },
   "outputs": [],
   "source": [
    "# Tuning the hyperparameters based on a cross-validation subset (cv)\n",
    "# cited link: link: https://shankarmsy.github.io/stories/gbrt-sklearn.html\n",
    "\n",
    "def GradientBooster():\n",
    "    \n",
    "    param_grid={'n_estimators':[100],\n",
    "            'learning_rate': [0.1, 0.05, 0.01],\n",
    "            'max_depth':[4, 5, 6],\n",
    "            'min_samples_leaf':[3, 5, 9],\n",
    "           }\n",
    "    \n",
    "    # choose cross validation generator and use ShuffleSplit which randomly shuffles and selects Train and CV sets\n",
    "    cv = ShuffleSplit(n_splits=5, test_size=.25, random_state=0)\n",
    "    \n",
    "    classifier = GridSearchCV(estimator = GradientBoostingRegressor(), param_grid=param_grid, n_jobs=4, cv=cv)\n",
    "    \n",
    "    classifier.fit(md_df[features], md_df['rent'])  \n",
    "    return classifier.best_params_"
   ]
  },
  {
   "cell_type": "code",
   "execution_count": null,
   "metadata": {
    "colab": {},
    "colab_type": "code",
    "id": "O3lO3Axnz51j",
    "outputId": "f7f11dee-9691-4427-fe9b-9ef3abbbd7a1"
   },
   "outputs": [],
   "source": [
    "# Since this function takes too long to run, it will waste a lot of time during development,\n",
    "# so we will just record the result for further usage. -----Runmin 11/18/19\n",
    "\"\"\"\n",
    "best_est=GradientBooster()\n",
    "\n",
    "print(\"Best Estimator Parameters:\")\n",
    "print(\"n_estimators: \",best_est['n_estimators'])\n",
    "print(\"max_depth: \", best_est['max_depth'])\n",
    "print(\"Learning Rate: \", best_est['learning_rate'])\n",
    "print(\"min_samples_leaf: \", best_est['min_samples_leaf'])\n",
    "\"\"\"\n",
    "print(\"Since this function takes too long to run, it will waste a lot of time during development,\\\n",
    "      \\nso we will just record the result for further usage:\")\n",
    "print(\"\\nBest Estimator Parameters:\")\n",
    "print(\"n_estimators: \",100)\n",
    "print(\"max_depth: \", 6)\n",
    "print(\"Learning Rate: \", 0.1)\n",
    "print(\"min_samples_leaf: \", 3)"
   ]
  },
  {
   "cell_type": "markdown",
   "metadata": {
    "colab_type": "text",
    "id": "j5kkgBUpz51l"
   },
   "source": [
    "As we can see from the result above, we have found the suitable hyperparameters for our model, thus we can use them to check if a better result will be obtained.\n"
   ]
  },
  {
   "cell_type": "code",
   "execution_count": null,
   "metadata": {
    "colab": {
     "base_uri": "https://localhost:8080/",
     "height": 34
    },
    "colab_type": "code",
    "id": "owPU2gYbz51m",
    "outputId": "b63d44ac-cb51-4606-c374-57f286188bfb"
   },
   "outputs": [],
   "source": [
    "bettergbr1 = GradientBoostingRegressor(\n",
    "    n_estimators=100,\n",
    "    max_depth=6,\n",
    "    learning_rate=0.1,\n",
    "    min_samples_leaf=3\n",
    ")\n",
    "\n",
    "get_cv_results(bettergbr1)"
   ]
  },
  {
   "cell_type": "markdown",
   "metadata": {
    "colab_type": "text",
    "id": "BOW7I6JPz51o"
   },
   "source": [
    "The mean squared error becomes unstable after applying the new set of hyperparameters, we've tried few test runs upon it, sometime the result get improved a lot but sometime it even makes the result worse, thus we might still be using the previous GradientBoosting regressor \"gbrdemo\" for a more stable prediction."
   ]
  },
  {
   "cell_type": "markdown",
   "metadata": {
    "colab_type": "text",
    "id": "oln3lQr1G96s"
   },
   "source": [
    "**Feature importances for Gradient Boosting Regression**"
   ]
  },
  {
   "cell_type": "code",
   "execution_count": null,
   "metadata": {
    "colab": {},
    "colab_type": "code",
    "id": "-lhkz-V1G96s",
    "outputId": "50f18c8d-8386-4ff6-fc9c-97bccacd4f95"
   },
   "outputs": [],
   "source": [
    "gbrdemo.fit(md_df[features], md_df['rent'])  \n",
    "for feature,score in sorted(zip(features,gbrdemo.feature_importances_), key=lambda x:x[1], reverse=True):\n",
    "    print(feature, ' ', score)"
   ]
  },
  {
   "cell_type": "markdown",
   "metadata": {
    "colab_type": "text",
    "id": "9z858Helz51o"
   },
   "source": [
    "##  Regression Tree Model\n",
    "From definition, decision trees where the target variable can take continuous values (typically real numbers) are called regression trees.\n",
    "Thus, in our case when we do the regression tree model, we actually use the decision tree classifer."
   ]
  },
  {
   "cell_type": "markdown",
   "metadata": {
    "colab_type": "text",
    "id": "u97chZ8pz51p"
   },
   "source": [
    "Train the regression tree model using default paramater"
   ]
  },
  {
   "cell_type": "code",
   "execution_count": null,
   "metadata": {
    "colab": {
     "base_uri": "https://localhost:8080/",
     "height": 102
    },
    "colab_type": "code",
    "id": "IM3MAJnPz51p",
    "outputId": "f7c790cb-8e92-4a78-f099-c4e459f5863b"
   },
   "outputs": [],
   "source": [
    "regtreemo = DecisionTreeRegressor(\n",
    "    random_state=1, \n",
    "    max_depth=None,\n",
    "    min_samples_leaf=1,\n",
    "    max_features=None,\n",
    "    max_leaf_nodes=None )\n",
    "\n",
    "regtreemo.fit(md_df[features], md_df['rent'])"
   ]
  },
  {
   "cell_type": "code",
   "execution_count": null,
   "metadata": {
    "colab": {
     "base_uri": "https://localhost:8080/",
     "height": 34
    },
    "colab_type": "code",
    "id": "65xtmTbNz51s",
    "outputId": "fe6aa1d8-ee9d-4e3f-e4a9-52fe5ab70725"
   },
   "outputs": [],
   "source": [
    "get_cv_results(regtreemo)"
   ]
  },
  {
   "cell_type": "markdown",
   "metadata": {
    "colab_type": "text",
    "id": "DJM4nC5Zz51w"
   },
   "source": [
    "Train the regression tree model using Hyperparameters that we found, so that we can compare the results among different models better."
   ]
  },
  {
   "cell_type": "code",
   "execution_count": null,
   "metadata": {
    "colab": {
     "base_uri": "https://localhost:8080/",
     "height": 102
    },
    "colab_type": "code",
    "id": "Fc3ALfdCz51x",
    "outputId": "5bdc1809-f233-4d7c-a90a-fd9697fca25b"
   },
   "outputs": [],
   "source": [
    "newregtreemo = DecisionTreeRegressor(\n",
    "    random_state=1, \n",
    "    max_depth=6,\n",
    "    min_samples_leaf=3 )\n",
    "\n",
    "newregtreemo.fit(md_df[features], md_df['rent'])"
   ]
  },
  {
   "cell_type": "code",
   "execution_count": null,
   "metadata": {
    "colab": {
     "base_uri": "https://localhost:8080/",
     "height": 34
    },
    "colab_type": "code",
    "id": "TVhscdXIz510",
    "outputId": "d970e422-8400-4ffc-f683-27815805e712"
   },
   "outputs": [],
   "source": [
    "get_cv_results(newregtreemo)"
   ]
  },
  {
   "cell_type": "markdown",
   "metadata": {
    "colab_type": "text",
    "id": "fv9pZ8ipz513"
   },
   "source": [
    "As we can see, the regression tree model that uses the Hyperparameters does have better result.\n",
    "But Gradient Boosting Regression still has the best result."
   ]
  },
  {
   "cell_type": "code",
   "execution_count": null,
   "metadata": {
    "colab": {},
    "colab_type": "code",
    "id": "NjrKKuhBz514",
    "outputId": "23433b47-9e54-4144-df4f-42e20ef12cac"
   },
   "outputs": [],
   "source": [
    "for feature,score in zip(features,newregtreemo.feature_importances_):\n",
    "    print(feature, ' ', score)"
   ]
  },
  {
   "cell_type": "markdown",
   "metadata": {
    "colab_type": "text",
    "id": "laDG73kzz516"
   },
   "source": [
    "### Learning Curve\n",
    "We can use the Learning Curves methods provided in lecture 8"
   ]
  },
  {
   "cell_type": "code",
   "execution_count": 0,
   "metadata": {
    "colab": {},
    "colab_type": "code",
    "id": "fRc0BHUGz517",
    "outputId": "ca9c6315-6f45-48a2-ddf9-91e2030e6955"
   },
   "outputs": [
    {
     "name": "stdout",
     "output_type": "stream",
     "text": [
      "1 7147042.623788169 1139934.6862002485\n",
      "3 3828693.7252234854 693767.8298620107\n",
      "5 2520949.6885809116 465627.2164767011\n",
      "7 2871754.1501128995 481979.7865537268\n",
      "9 2493375.6701369216 484761.73241231835\n",
      "11 2463331.6143478053 528529.5518802283\n",
      "13 2554762.407864154 459810.49770624895\n",
      "15 2662553.7309835604 529182.8582641858\n",
      "17 2836381.1543560186 511069.31835225824\n",
      "19 2683120.197829821 441733.7755364828\n",
      "21 2719152.6641949513 556580.8926821647\n",
      "23 2711368.560306745 437518.89511627244\n",
      "25 2742054.783196346 414337.9416771086\n",
      "27 2843000.616368459 459372.6812958055\n",
      "29 2824574.0189719214 457440.44321833714\n",
      "31 2849906.7053985624 436922.75735445466\n",
      "33 3185828.073994483 430734.80262497184\n",
      "35 3055525.111368096 534712.8205769217\n",
      "37 2914510.728190741 512231.6779337043\n",
      "39 2901208.056978965 507883.0639590941\n",
      "41 2877290.8896417688 486196.7853193268\n",
      "43 2822439.6867580013 385797.9721062544\n",
      "45 2838790.0847020163 422313.82169441076\n",
      "47 2821585.3411744465 431246.7832366978\n",
      "49 2774844.820099001 405910.0672092745\n"
     ]
    }
   ],
   "source": [
    "hp_values = range(1,50,2)\n",
    "all_mu = []\n",
    "all_sigma = []\n",
    "\n",
    "for m in hp_values:\n",
    "\n",
    "    dtree=DecisionTreeClassifier(\n",
    "        criterion='entropy', \n",
    "        random_state=1, \n",
    "        max_depth=m,\n",
    "        min_samples_leaf=m,\n",
    "    )\n",
    "\n",
    "    mu, sigma = get_cv_results(dtree)\n",
    "    all_mu.append(mu)\n",
    "    all_sigma.append(sigma)\n",
    "    \n",
    "    print(m, mu, sigma)"
   ]
  },
  {
   "cell_type": "code",
   "execution_count": 0,
   "metadata": {
    "colab": {},
    "colab_type": "code",
    "id": "SjwVqEAMz519",
    "outputId": "2474de1f-3ad0-465f-ed70-ce7fcdd4de8d"
   },
   "outputs": [
    {
     "data": {
      "text/plain": [
       "Text(0.5, 0, 'Max Depth')"
      ]
     },
     "execution_count": 51,
     "metadata": {
      "tags": []
     },
     "output_type": "execute_result"
    },
    {
     "data": {
      "image/png": "[encoded data removed]",
      "text/plain": [
       "<Figure size 1008x360 with 1 Axes>"
      ]
     },
     "metadata": {
      "needs_background": "light",
      "tags": []
     },
     "output_type": "display_data"
    }
   ],
   "source": [
    "plt.figure(figsize=(14, 5))\n",
    "plt.plot(hp_values, all_mu)\n",
    "plt.ylabel('Cross Validation Accuracy')\n",
    "plt.xlabel('Max Depth')"
   ]
  },
  {
   "cell_type": "code",
   "execution_count": 0,
   "metadata": {
    "colab": {},
    "colab_type": "code",
    "id": "LCdgYSNqz51-",
    "outputId": "79185800-8a0c-402e-b9e2-dcb185087fb3"
   },
   "outputs": [
    {
     "data": {
      "text/plain": [
       "Text(0.5, 0, 'Max Depth')"
      ]
     },
     "execution_count": 52,
     "metadata": {
      "tags": []
     },
     "output_type": "execute_result"
    },
    {
     "data": {
      "image/png": "[encoded data removed]",
      "text/plain": [
       "<Figure size 1008x360 with 1 Axes>"
      ]
     },
     "metadata": {
      "needs_background": "light",
      "tags": []
     },
     "output_type": "display_data"
    }
   ],
   "source": [
    "plt.figure(figsize=(14, 5))\n",
    "plt.plot(hp_values, all_sigma)\n",
    "plt.ylabel('Cross Validation Std Dev.')\n",
    "plt.xlabel('Max Depth')"
   ]
  },
  {
   "cell_type": "markdown",
   "metadata": {
    "colab_type": "text",
    "id": "rrr5UbB8z52B"
   },
   "source": [
    "### Neural Network\n",
    "Neural networks are a set of algorithms, modeled loosely after the human brain, that are designed to recognize patterns. They interpret sensory data through a kind of machine perception, labeling or clustering raw input.(source:https://skymind.ai/wiki/neural-network)"
   ]
  },
  {
   "cell_type": "code",
   "execution_count": 0,
   "metadata": {
    "colab": {},
    "colab_type": "code",
    "id": "U8xBcG-Sz52B",
    "outputId": "058b4d79-aab1-49a3-8c7c-a98c884a2fd5"
   },
   "outputs": [
    {
     "name": "stderr",
     "output_type": "stream",
     "text": [
      "D:\\Anaconda\\lib\\site-packages\\sklearn\\preprocessing\\data.py:645: DataConversionWarning: Data with input dtype int32, int64, float64 were all converted to float64 by StandardScaler.\n",
      "  return self.partial_fit(X, y)\n",
      "D:\\Anaconda\\lib\\site-packages\\sklearn\\base.py:464: DataConversionWarning: Data with input dtype int32, int64, float64 were all converted to float64 by StandardScaler.\n",
      "  return self.fit(X, **fit_params).transform(X)\n"
     ]
    }
   ],
   "source": [
    "scaler = StandardScaler()\n",
    "X = scaler.fit_transform(md_df[features])\n",
    "Y = md_df['rent'].values.reshape(-1,1)\n",
    "\n",
    "train_x, test_x, train_y, test_y = train_test_split(X, Y, test_size=0.2, random_state=42)"
   ]
  },
  {
   "cell_type": "code",
   "execution_count": 0,
   "metadata": {
    "colab": {},
    "colab_type": "code",
    "id": "ztLWpbWHz52D"
   },
   "outputs": [],
   "source": [
    "net = models.Sequential()\n",
    "net.add(layers.Dense(64, input_dim=train_x.shape[1], kernel_regularizer=regularizers.l1(0.1), activation='relu'))\n",
    "net.add(layers.Dropout(0.1))\n",
    "\n",
    "net.add(layers.Dense(64, kernel_regularizer=regularizers.l1(0.1), activation='relu'))\n",
    "net.add(layers.Dropout(0.1))\n",
    "\n",
    "net.add(layers.Dense(128, kernel_regularizer=regularizers.l1(0.1), activation='relu'))\n",
    "net.add(layers.Dropout(0.1))\n",
    "\n",
    "net.add(layers.Dense(256, kernel_regularizer=regularizers.l1(0.1), activation='relu'))\n",
    "net.add(layers.Dropout(0.1))\n",
    "\n",
    "net.add(layers.Dense(1, activation='linear'))\n",
    "\n",
    "net.compile(loss='mean_squared_error',\n",
    "            optimizer='adam',\n",
    "            metrics=['mean_squared_error'])"
   ]
  },
  {
   "cell_type": "code",
   "execution_count": 0,
   "metadata": {
    "colab": {
     "base_uri": "https://localhost:8080/",
     "height": 1000
    },
    "colab_type": "code",
    "id": "Jmei-Vcaz52E",
    "outputId": "2f9619df-7f4a-46e4-b581-ae2f887add94"
   },
   "outputs": [
    {
     "name": "stdout",
     "output_type": "stream",
     "text": [
      "Train on 9169 samples, validate on 1019 samples\n",
      "Epoch 1/70\n",
      "9169/9169 [==============================] - 1s 60us/step - loss: 10075874.2954 - mean_squared_error: 10075482.0000 - val_loss: 2311449.0186 - val_mean_squared_error: 2311031.7500\n",
      "Epoch 2/70\n",
      "9169/9169 [==============================] - 0s 37us/step - loss: 2201466.1214 - mean_squared_error: 2201055.0000 - val_loss: 1916581.4632 - val_mean_squared_error: 1916174.3750\n",
      "Epoch 3/70\n",
      "9169/9169 [==============================] - 0s 37us/step - loss: 1988540.9599 - mean_squared_error: 1988138.2500 - val_loss: 1761789.3567 - val_mean_squared_error: 1761389.1250\n",
      "Epoch 4/70\n",
      "9169/9169 [==============================] - 0s 37us/step - loss: 1897770.3572 - mean_squared_error: 1897375.1250 - val_loss: 1710124.9396 - val_mean_squared_error: 1709733.0000\n",
      "Epoch 5/70\n",
      "9169/9169 [==============================] - 0s 36us/step - loss: 1780949.4023 - mean_squared_error: 1780558.7500 - val_loss: 1770389.4181 - val_mean_squared_error: 1770004.6250\n",
      "Epoch 6/70\n",
      "9169/9169 [==============================] - 0s 37us/step - loss: 1780312.2214 - mean_squared_error: 1779927.3750 - val_loss: 1646719.9166 - val_mean_squared_error: 1646337.1250\n",
      "Epoch 7/70\n",
      "9169/9169 [==============================] - 0s 38us/step - loss: 1760005.3814 - mean_squared_error: 1759624.6250 - val_loss: 1629115.9893 - val_mean_squared_error: 1628735.7500\n",
      "Epoch 8/70\n",
      "9169/9169 [==============================] - 0s 37us/step - loss: 1747764.3333 - mean_squared_error: 1747387.1250 - val_loss: 1591652.6850 - val_mean_squared_error: 1591276.7500\n",
      "Epoch 9/70\n",
      "9169/9169 [==============================] - 0s 38us/step - loss: 1650928.4426 - mean_squared_error: 1650553.5000 - val_loss: 1655071.4854 - val_mean_squared_error: 1654696.5000\n",
      "Epoch 10/70\n",
      "9169/9169 [==============================] - 0s 37us/step - loss: 1757137.0085 - mean_squared_error: 1756763.7500 - val_loss: 1555599.1421 - val_mean_squared_error: 1555227.8750\n",
      "Epoch 11/70\n",
      "9169/9169 [==============================] - 0s 36us/step - loss: 1616229.2043 - mean_squared_error: 1615857.6250 - val_loss: 1560990.5164 - val_mean_squared_error: 1560619.5000\n",
      "Epoch 12/70\n",
      "9169/9169 [==============================] - 0s 37us/step - loss: 1620859.5743 - mean_squared_error: 1620489.7500 - val_loss: 1538345.3844 - val_mean_squared_error: 1537977.0000\n",
      "Epoch 13/70\n",
      "9169/9169 [==============================] - 0s 37us/step - loss: 1723828.8296 - mean_squared_error: 1723462.2500 - val_loss: 1551282.9476 - val_mean_squared_error: 1550915.6250\n",
      "Epoch 14/70\n",
      "9169/9169 [==============================] - 0s 36us/step - loss: 1630196.9134 - mean_squared_error: 1629830.2500 - val_loss: 1550010.8891 - val_mean_squared_error: 1549645.6250\n",
      "Epoch 15/70\n",
      "9169/9169 [==============================] - 0s 37us/step - loss: 1587003.7635 - mean_squared_error: 1586636.8750 - val_loss: 1544083.3283 - val_mean_squared_error: 1543719.1250\n",
      "Epoch 16/70\n",
      "9169/9169 [==============================] - 0s 36us/step - loss: 1655736.7993 - mean_squared_error: 1655372.1250 - val_loss: 1530172.5061 - val_mean_squared_error: 1529807.8750\n",
      "Epoch 17/70\n",
      "9169/9169 [==============================] - 0s 37us/step - loss: 1633155.3795 - mean_squared_error: 1632790.1250 - val_loss: 1508266.5411 - val_mean_squared_error: 1507900.6250\n",
      "Epoch 18/70\n",
      "9169/9169 [==============================] - 0s 36us/step - loss: 1605726.1139 - mean_squared_error: 1605360.7500 - val_loss: 1560645.1997 - val_mean_squared_error: 1560282.5000\n",
      "Epoch 19/70\n",
      "9169/9169 [==============================] - 0s 35us/step - loss: 1578266.9943 - mean_squared_error: 1577902.0000 - val_loss: 1480858.3865 - val_mean_squared_error: 1480494.7500\n",
      "Epoch 20/70\n",
      "9169/9169 [==============================] - 0s 35us/step - loss: 1550503.2954 - mean_squared_error: 1550137.7500 - val_loss: 1452191.9235 - val_mean_squared_error: 1451827.1250\n",
      "Epoch 21/70\n",
      "9169/9169 [==============================] - 0s 35us/step - loss: 1513645.2076 - mean_squared_error: 1513278.7500 - val_loss: 1448680.0926 - val_mean_squared_error: 1448313.7500\n",
      "Epoch 22/70\n",
      "9169/9169 [==============================] - 0s 37us/step - loss: 1539122.0292 - mean_squared_error: 1538756.2500 - val_loss: 1500032.5373 - val_mean_squared_error: 1499664.6250\n",
      "Epoch 23/70\n",
      "9169/9169 [==============================] - 0s 35us/step - loss: 1540464.1711 - mean_squared_error: 1540098.6250 - val_loss: 1478132.1798 - val_mean_squared_error: 1477764.8750\n",
      "Epoch 24/70\n",
      "9169/9169 [==============================] - 0s 37us/step - loss: 1517296.6655 - mean_squared_error: 1516930.3750 - val_loss: 1444673.1131 - val_mean_squared_error: 1444306.6250\n",
      "Epoch 25/70\n",
      "9169/9169 [==============================] - 0s 36us/step - loss: 1495310.8916 - mean_squared_error: 1494943.0000 - val_loss: 1428060.6579 - val_mean_squared_error: 1427692.7500\n",
      "Epoch 26/70\n",
      "9169/9169 [==============================] - 0s 36us/step - loss: 1490680.3975 - mean_squared_error: 1490310.7500 - val_loss: 1433550.1759 - val_mean_squared_error: 1433181.2500\n",
      "Epoch 27/70\n",
      "9169/9169 [==============================] - 0s 35us/step - loss: 1503307.2200 - mean_squared_error: 1502937.0000 - val_loss: 1447956.8092 - val_mean_squared_error: 1447582.7500\n",
      "Epoch 28/70\n",
      "9169/9169 [==============================] - 0s 35us/step - loss: 1496617.4669 - mean_squared_error: 1496245.2500 - val_loss: 1434804.0670 - val_mean_squared_error: 1434432.3750\n",
      "Epoch 29/70\n",
      "9169/9169 [==============================] - 0s 36us/step - loss: 1418853.3135 - mean_squared_error: 1418479.5000 - val_loss: 1486811.1447 - val_mean_squared_error: 1486432.8750\n",
      "Epoch 30/70\n",
      "9169/9169 [==============================] - 0s 38us/step - loss: 1381537.5034 - mean_squared_error: 1381159.8750 - val_loss: 1484182.5196 - val_mean_squared_error: 1483803.0000\n",
      "Epoch 31/70\n",
      "9169/9169 [==============================] - 0s 36us/step - loss: 1528276.2562 - mean_squared_error: 1527897.7500 - val_loss: 1468368.5140 - val_mean_squared_error: 1467992.3750\n",
      "Epoch 32/70\n",
      "9169/9169 [==============================] - 0s 36us/step - loss: 1391164.8104 - mean_squared_error: 1390785.3750 - val_loss: 1475516.9558 - val_mean_squared_error: 1475134.3750\n",
      "Epoch 33/70\n",
      "9169/9169 [==============================] - 0s 37us/step - loss: 1421131.5942 - mean_squared_error: 1420749.8750 - val_loss: 1442550.4276 - val_mean_squared_error: 1442166.1250\n",
      "Epoch 34/70\n",
      "9169/9169 [==============================] - 0s 36us/step - loss: 1464236.7698 - mean_squared_error: 1463853.3750 - val_loss: 1416098.7360 - val_mean_squared_error: 1415716.7500\n",
      "Epoch 35/70\n",
      "9169/9169 [==============================] - 0s 36us/step - loss: 1360741.2129 - mean_squared_error: 1360357.7500 - val_loss: 1407316.4381 - val_mean_squared_error: 1406931.2500\n",
      "Epoch 36/70\n",
      "9169/9169 [==============================] - 0s 35us/step - loss: 1391785.0814 - mean_squared_error: 1391400.5000 - val_loss: 1437760.7144 - val_mean_squared_error: 1437377.7500\n",
      "Epoch 37/70\n",
      "9169/9169 [==============================] - 0s 36us/step - loss: 1331813.7850 - mean_squared_error: 1331427.5000 - val_loss: 1439135.2540 - val_mean_squared_error: 1438746.5000\n",
      "Epoch 38/70\n",
      "9169/9169 [==============================] - 0s 36us/step - loss: 1310891.8631 - mean_squared_error: 1310504.1250 - val_loss: 1374989.2018 - val_mean_squared_error: 1374602.3750\n",
      "Epoch 39/70\n",
      "9169/9169 [==============================] - 0s 38us/step - loss: 1289844.2949 - mean_squared_error: 1289455.6250 - val_loss: 1401027.1456 - val_mean_squared_error: 1400636.1250\n",
      "Epoch 40/70\n",
      "9169/9169 [==============================] - 0s 36us/step - loss: 1372287.9183 - mean_squared_error: 1371898.1250 - val_loss: 1357949.4773 - val_mean_squared_error: 1357560.3750\n",
      "Epoch 41/70\n",
      "9169/9169 [==============================] - 0s 39us/step - loss: 1287191.9082 - mean_squared_error: 1286800.6250 - val_loss: 1422773.4865 - val_mean_squared_error: 1422378.7500\n",
      "Epoch 42/70\n",
      "9169/9169 [==============================] - 0s 36us/step - loss: 1312359.4551 - mean_squared_error: 1311965.2500 - val_loss: 1391004.6389 - val_mean_squared_error: 1390609.0000\n",
      "Epoch 43/70\n",
      "9169/9169 [==============================] - 0s 36us/step - loss: 1296546.4875 - mean_squared_error: 1296151.7500 - val_loss: 1440143.8343 - val_mean_squared_error: 1439749.8750\n"
     ]
    },
    {
     "name": "stdout",
     "output_type": "stream",
     "text": [
      "Epoch 44/70\n",
      "9169/9169 [==============================] - 0s 36us/step - loss: 1234667.6249 - mean_squared_error: 1234270.1250 - val_loss: 1435520.0256 - val_mean_squared_error: 1435119.8750\n",
      "Epoch 45/70\n",
      "9169/9169 [==============================] - 0s 36us/step - loss: 1235326.7513 - mean_squared_error: 1234926.7500 - val_loss: 1408472.4874 - val_mean_squared_error: 1408072.1250\n",
      "Epoch 46/70\n",
      "9169/9169 [==============================] - 0s 35us/step - loss: 1297749.1279 - mean_squared_error: 1297347.6250 - val_loss: 1391983.5978 - val_mean_squared_error: 1391581.6250\n",
      "Epoch 47/70\n",
      "9169/9169 [==============================] - 0s 36us/step - loss: 1242894.1713 - mean_squared_error: 1242490.3750 - val_loss: 1360685.9328 - val_mean_squared_error: 1360282.5000\n",
      "Epoch 48/70\n",
      "9169/9169 [==============================] - 0s 34us/step - loss: 1189720.3459 - mean_squared_error: 1189314.7500 - val_loss: 1396158.7885 - val_mean_squared_error: 1395753.7500\n",
      "Epoch 49/70\n",
      "9169/9169 [==============================] - 0s 36us/step - loss: 1239317.3423 - mean_squared_error: 1238912.5000 - val_loss: 1379764.9883 - val_mean_squared_error: 1379356.6250\n",
      "Epoch 50/70\n",
      "9169/9169 [==============================] - 0s 34us/step - loss: 1166586.1130 - mean_squared_error: 1166179.0000 - val_loss: 1386954.5925 - val_mean_squared_error: 1386544.6250\n",
      "Epoch 51/70\n",
      "9169/9169 [==============================] - 0s 36us/step - loss: 1251268.2271 - mean_squared_error: 1250858.7500 - val_loss: 1345846.1558 - val_mean_squared_error: 1345437.3750\n",
      "Epoch 52/70\n",
      "9169/9169 [==============================] - 0s 35us/step - loss: 1155264.8487 - mean_squared_error: 1154854.3750 - val_loss: 1327742.7326 - val_mean_squared_error: 1327331.3750\n",
      "Epoch 53/70\n",
      "9169/9169 [==============================] - 0s 35us/step - loss: 1171798.3737 - mean_squared_error: 1171386.6250 - val_loss: 1315085.2533 - val_mean_squared_error: 1314673.3750\n",
      "Epoch 54/70\n",
      "9169/9169 [==============================] - 0s 37us/step - loss: 1081773.2487 - mean_squared_error: 1081360.1250 - val_loss: 1441573.1696 - val_mean_squared_error: 1441156.3750\n",
      "Epoch 55/70\n",
      "9169/9169 [==============================] - 0s 35us/step - loss: 1206872.7621 - mean_squared_error: 1206456.8750 - val_loss: 1360866.6565 - val_mean_squared_error: 1360450.1250\n",
      "Epoch 56/70\n",
      "9169/9169 [==============================] - 0s 35us/step - loss: 1196418.4767 - mean_squared_error: 1195999.6250 - val_loss: 1466740.7758 - val_mean_squared_error: 1466318.7500\n",
      "Epoch 57/70\n",
      "9169/9169 [==============================] - 0s 35us/step - loss: 1105034.9985 - mean_squared_error: 1104614.1250 - val_loss: 1334336.0434 - val_mean_squared_error: 1333914.8750\n",
      "Epoch 58/70\n",
      "9169/9169 [==============================] - 0s 36us/step - loss: 1198436.3397 - mean_squared_error: 1198013.3750 - val_loss: 1338418.5510 - val_mean_squared_error: 1337997.6250\n",
      "Epoch 59/70\n",
      "9169/9169 [==============================] - 0s 35us/step - loss: 1135127.1025 - mean_squared_error: 1134703.0000 - val_loss: 1358311.7856 - val_mean_squared_error: 1357887.8750\n",
      "Epoch 60/70\n",
      "9169/9169 [==============================] - 0s 35us/step - loss: 1144447.0394 - mean_squared_error: 1144021.5000 - val_loss: 1415486.0605 - val_mean_squared_error: 1415061.3750\n",
      "Epoch 61/70\n",
      "9169/9169 [==============================] - 0s 35us/step - loss: 1103028.3086 - mean_squared_error: 1102599.6250 - val_loss: 1341065.3099 - val_mean_squared_error: 1340636.7500\n",
      "Epoch 62/70\n",
      "9169/9169 [==============================] - 0s 35us/step - loss: 1100276.7624 - mean_squared_error: 1099846.8750 - val_loss: 1363917.8344 - val_mean_squared_error: 1363487.2500\n",
      "Epoch 63/70\n",
      "9169/9169 [==============================] - 0s 35us/step - loss: 1112783.3790 - mean_squared_error: 1112350.7500 - val_loss: 1338914.6235 - val_mean_squared_error: 1338482.6250\n",
      "Epoch 64/70\n",
      "9169/9169 [==============================] - 0s 35us/step - loss: 1052943.1784 - mean_squared_error: 1052508.6250 - val_loss: 1358915.6827 - val_mean_squared_error: 1358479.8750\n",
      "Epoch 65/70\n",
      "9169/9169 [==============================] - 0s 36us/step - loss: 1089900.9406 - mean_squared_error: 1089464.3750 - val_loss: 1400596.3970 - val_mean_squared_error: 1400157.2500\n",
      "Epoch 66/70\n",
      "9169/9169 [==============================] - 0s 35us/step - loss: 1080245.8379 - mean_squared_error: 1079807.7500 - val_loss: 1431407.3941 - val_mean_squared_error: 1430966.8750\n",
      "Epoch 67/70\n",
      "9169/9169 [==============================] - 0s 36us/step - loss: 1084306.2676 - mean_squared_error: 1083866.5000 - val_loss: 1344793.4195 - val_mean_squared_error: 1344351.5000\n",
      "Epoch 68/70\n",
      "9169/9169 [==============================] - 0s 35us/step - loss: 1052463.0914 - mean_squared_error: 1052020.7500 - val_loss: 1388736.8523 - val_mean_squared_error: 1388293.3750\n",
      "Epoch 69/70\n",
      "9169/9169 [==============================] - 0s 35us/step - loss: 990525.6165 - mean_squared_error: 990079.8125 - val_loss: 1409659.2012 - val_mean_squared_error: 1409211.1250\n",
      "Epoch 70/70\n",
      "9169/9169 [==============================] - 0s 35us/step - loss: 1052696.8853 - mean_squared_error: 1052251.1250 - val_loss: 1366553.9667 - val_mean_squared_error: 1366105.3750\n"
     ]
    },
    {
     "data": {
      "text/plain": [
       "<keras.callbacks.callbacks.History at 0x132304fbb48>"
      ]
     },
     "execution_count": 55,
     "metadata": {
      "tags": []
     },
     "output_type": "execute_result"
    }
   ],
   "source": [
    "net.fit(train_x, train_y, epochs=70, batch_size=64, validation_split = 0.1)"
   ]
  },
  {
   "cell_type": "code",
   "execution_count": 0,
   "metadata": {
    "colab": {
     "base_uri": "https://localhost:8080/",
     "height": 34
    },
    "colab_type": "code",
    "id": "jkKi2IVoz52G",
    "outputId": "a58e9e9a-cd9d-44d1-9607-16d43937c355"
   },
   "outputs": [
    {
     "data": {
      "text/plain": [
       "1957396.7042577588"
      ]
     },
     "execution_count": 56,
     "metadata": {
      "tags": []
     },
     "output_type": "execute_result"
    }
   ],
   "source": [
    "mean_squared_error(test_y, net.predict(test_x))"
   ]
  },
  {
   "cell_type": "markdown",
   "metadata": {
    "colab_type": "text",
    "id": "yy3GBRAdz52K"
   },
   "source": [
    "**Although the DL Neural Network seems to provide a better result on mean squared errors but it is really unstable** \n",
    "\n",
    "we have ran few test run on it, and each time it gives different results range from 853411.6171418771 to around 1,300,000.\n",
    "Therefore, we might still choose Gradient Boosting Regression as the most suitable model, since it provides a overall better result."
   ]
  },
  {
   "cell_type": "markdown",
   "metadata": {
    "colab_type": "text",
    "id": "HTEApwmu4s8_"
   },
   "source": [
    "# Model summary"
   ]
  },
  {
   "cell_type": "code",
   "execution_count": 0,
   "metadata": {
    "colab": {},
    "colab_type": "code",
    "id": "1LIjA5NBz52L"
   },
   "outputs": [],
   "source": [
    "print('Random Forest Regression: ', get_cv_results(rforest))\n",
    "print('Gradient Boosting Regression: ', get_cv_results(gbrdemo))\n",
    "print('Multiple Regression: ', get_cv_results(mul_reg))\n",
    "print('Decision Tree Regression: ', get_cv_results(newregtreemo))\n",
    "print('Neural Network Regression: ', mean_squared_error(test_y, net.predict(test_x)))\n"
   ]
  },
  {
   "cell_type": "markdown",
   "metadata": {
    "colab_type": "text",
    "id": "BhxefAnV7QEB"
   },
   "source": [
    "### After explored 5 different regression models, we decided to use gradient boosting regression model to predict test2"
   ]
  },
  {
   "cell_type": "code",
   "execution_count": 0,
   "metadata": {
    "colab": {},
    "colab_type": "code",
    "id": "uWbnzxXI7O8M"
   },
   "outputs": [],
   "source": [
    "output = pd.DataFrame(np.array(raw_test2_df.index), columns=['rental_id'])"
   ]
  },
  {
   "cell_type": "code",
   "execution_count": 0,
   "metadata": {
    "colab": {},
    "colab_type": "code",
    "id": "FBuye75t7sH8"
   },
   "outputs": [],
   "source": [
    "output['predictions'] = gbrdemo.predict(raw_test2_df[features])"
   ]
  },
  {
   "cell_type": "code",
   "execution_count": 0,
   "metadata": {
    "colab": {},
    "colab_type": "code",
    "id": "zBZcLRq59Ghu"
   },
   "outputs": [],
   "source": [
    "output.head(10)"
   ]
  },
  {
   "cell_type": "code",
   "execution_count": 0,
   "metadata": {
    "colab": {},
    "colab_type": "code",
    "id": "JuXhGtQU_Pv9"
   },
   "outputs": [],
   "source": [
    "output.to_csv('test2_prediction.csv')"
   ]
  },
  {
   "cell_type": "code",
   "execution_count": 0,
   "metadata": {
    "colab": {},
    "colab_type": "code",
    "id": "GLjmAMmqAS0m"
   },
   "outputs": [],
   "source": []
  }
 ],
 "metadata": {
  "anaconda-cloud": {},
  "colab": {
   "collapsed_sections": [],
   "name": "main.ipynb",
   "provenance": [],
   "toc_visible": true
  },
  "kernelspec": {
   "display_name": "Python 3",
   "language": "python",
   "name": "python3"
  },
  "language_info": {
   "codemirror_mode": {
    "name": "ipython",
    "version": 3
   },
   "file_extension": ".py",
   "mimetype": "text/x-python",
   "name": "python",
   "nbconvert_exporter": "python",
   "pygments_lexer": "ipython3",
   "version": "3.7.1"
  }
 },
 "nbformat": 4,
 "nbformat_minor": 1
}

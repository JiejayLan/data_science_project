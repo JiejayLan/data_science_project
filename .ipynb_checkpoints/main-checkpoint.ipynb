{
 "cells": [
  {
   "cell_type": "code",
   "execution_count": 2,
   "metadata": {
    "colab": {
     "base_uri": "https://localhost:8080/",
     "height": 97
    },
    "colab_type": "code",
    "id": "uTU8yGiPz5zN",
    "outputId": "af82e867-d7da-43c4-c456-410548e3a95d"
   },
   "outputs": [
    {
     "name": "stderr",
     "output_type": "stream",
     "text": [
      "Using TensorFlow backend.\n"
     ]
    }
   ],
   "source": [
    "import numpy as np\n",
    "import pandas as pd\n",
    "import matplotlib.pyplot as plt\n",
    "import seaborn as sns\n",
    "import statsmodels.api as sm\n",
    "import csv\n",
    "import warnings\n",
    "from sklearn.linear_model import LinearRegression\n",
    "from sklearn.ensemble import RandomForestRegressor, GradientBoostingRegressor\n",
    "from sklearn.tree import DecisionTreeClassifier \n",
    "from sklearn.tree import DecisionTreeRegressor\n",
    "from sklearn import preprocessing\n",
    "from sklearn.model_selection import KFold\n",
    "from sklearn.utils import shuffle\n",
    "from sklearn.metrics import mean_squared_error\n",
    "from sklearn.preprocessing import StandardScaler\n",
    "from sklearn.linear_model import LinearRegression\n",
    "import statsmodels.api as sm\n",
    "from keras import models, layers, optimizers, regularizers\n",
    "from sklearn.model_selection import train_test_split, ShuffleSplit, GridSearchCV\n",
    "from keras import regularizers\n",
    "%matplotlib inline"
   ]
  },
  {
   "cell_type": "markdown",
   "metadata": {
    "colab_type": "text",
    "id": "giyuV4myz5za"
   },
   "source": [
    "### Import datasets\n",
    "- We will import train, test1 and test2 dataset\n",
    "- Merge test1 and train dataset, in order to expend our train dataset"
   ]
  },
  {
   "cell_type": "code",
   "execution_count": 3,
   "metadata": {
    "colab": {
     "base_uri": "https://localhost:8080/",
     "height": 170
    },
    "colab_type": "code",
    "id": "O3bd5Le9C1yG",
    "outputId": "3bc5d07f-3fd3-443a-9bf0-09aa1725210f",
    "scrolled": true
   },
   "outputs": [
    {
     "data": {
      "text/plain": [
       "Index(['addr_unit', 'building_id', 'bedrooms', 'bathrooms', 'size_sqft',\n",
       "       'created_at', 'addr_street', 'addr_city', 'addr_zip', 'addr_lat',\n",
       "       'addr_lon', 'bin', 'bbl', 'floor_count', 'year_built', 'min_to_subway',\n",
       "       'has_doorman', 'has_elevator', 'has_fireplace', 'has_dishwasher',\n",
       "       'is_furnished', 'has_gym', 'allows_pets', 'has_washer_dryer',\n",
       "       'has_garage', 'has_roofdeck', 'has_concierge', 'has_pool', 'has_garden',\n",
       "       'has_childrens_playroom', 'rent', 'no_fee', 'description',\n",
       "       'neighborhood', 'borough', 'unit', 'floornumber', 'line'],\n",
       "      dtype='object')"
      ]
     },
     "execution_count": 3,
     "metadata": {},
     "output_type": "execute_result"
    }
   ],
   "source": [
    "raw_df = pd.read_csv('https://grantmlong.com/data/SE_rents2018_train.csv', index_col=0)\n",
    "raw_test_df = pd.read_csv('https://grantmlong.com/data/SE_rents2018_test1.csv', index_col=0)\n",
    "raw_test2_df = pd.read_csv('https://grantmlong.com/data/SE_rents2018_test2.csv', index_col=0)\n",
    "raw_test2_df = pd.read_csv('https://grantmlong.com/data/SE_rents2018_test2.csv', index_col=0)\n",
    "raw_df = raw_df.append(raw_test_df)\n",
    "raw_df.head(20)\n",
    "raw_df.columns"
   ]
  },
  {
   "cell_type": "markdown",
   "metadata": {
    "colab_type": "text",
    "id": "xxSoiIKJC1yO"
   },
   "source": [
    "## Data Explore"
   ]
  },
  {
   "cell_type": "code",
   "execution_count": 4,
   "metadata": {
    "colab": {
     "base_uri": "https://localhost:8080/",
     "height": 304
    },
    "colab_type": "code",
    "id": "ql26Ay-HC1yI",
    "outputId": "33defc34-c066-4fc0-fd2b-f3d6438b6968"
   },
   "outputs": [
    {
     "data": {
      "text/html": [
       "<div>\n",
       "<style scoped>\n",
       "    .dataframe tbody tr th:only-of-type {\n",
       "        vertical-align: middle;\n",
       "    }\n",
       "\n",
       "    .dataframe tbody tr th {\n",
       "        vertical-align: top;\n",
       "    }\n",
       "\n",
       "    .dataframe thead th {\n",
       "        text-align: right;\n",
       "    }\n",
       "</style>\n",
       "<table border=\"1\" class=\"dataframe\">\n",
       "  <thead>\n",
       "    <tr style=\"text-align: right;\">\n",
       "      <th></th>\n",
       "      <th>building_id</th>\n",
       "      <th>bedrooms</th>\n",
       "      <th>bathrooms</th>\n",
       "      <th>size_sqft</th>\n",
       "      <th>addr_zip</th>\n",
       "      <th>addr_lat</th>\n",
       "      <th>addr_lon</th>\n",
       "      <th>bin</th>\n",
       "      <th>bbl</th>\n",
       "      <th>floor_count</th>\n",
       "      <th>...</th>\n",
       "      <th>has_washer_dryer</th>\n",
       "      <th>has_garage</th>\n",
       "      <th>has_roofdeck</th>\n",
       "      <th>has_concierge</th>\n",
       "      <th>has_pool</th>\n",
       "      <th>has_garden</th>\n",
       "      <th>has_childrens_playroom</th>\n",
       "      <th>rent</th>\n",
       "      <th>no_fee</th>\n",
       "      <th>floornumber</th>\n",
       "    </tr>\n",
       "  </thead>\n",
       "  <tbody>\n",
       "    <tr>\n",
       "      <th>count</th>\n",
       "      <td>1.400000e+04</td>\n",
       "      <td>14000.000000</td>\n",
       "      <td>14000.000000</td>\n",
       "      <td>14000.000000</td>\n",
       "      <td>14000.000000</td>\n",
       "      <td>14000.000000</td>\n",
       "      <td>14000.000000</td>\n",
       "      <td>1.399900e+04</td>\n",
       "      <td>1.400000e+04</td>\n",
       "      <td>14000.000000</td>\n",
       "      <td>...</td>\n",
       "      <td>14000.000000</td>\n",
       "      <td>14000.000000</td>\n",
       "      <td>14000.000000</td>\n",
       "      <td>14000.000000</td>\n",
       "      <td>14000.000000</td>\n",
       "      <td>14000.000000</td>\n",
       "      <td>14000.000000</td>\n",
       "      <td>14000.000000</td>\n",
       "      <td>14000.000000</td>\n",
       "      <td>12498.000000</td>\n",
       "    </tr>\n",
       "    <tr>\n",
       "      <th>mean</th>\n",
       "      <td>1.542772e+06</td>\n",
       "      <td>1.661643</td>\n",
       "      <td>1.238929</td>\n",
       "      <td>848.388643</td>\n",
       "      <td>10681.801286</td>\n",
       "      <td>40.727746</td>\n",
       "      <td>-73.956776</td>\n",
       "      <td>2.368400e+06</td>\n",
       "      <td>2.285087e+09</td>\n",
       "      <td>10.233350</td>\n",
       "      <td>...</td>\n",
       "      <td>0.268500</td>\n",
       "      <td>0.170714</td>\n",
       "      <td>0.262643</td>\n",
       "      <td>0.208214</td>\n",
       "      <td>0.072357</td>\n",
       "      <td>0.133786</td>\n",
       "      <td>0.089571</td>\n",
       "      <td>3591.997214</td>\n",
       "      <td>0.495786</td>\n",
       "      <td>6.198232</td>\n",
       "    </tr>\n",
       "    <tr>\n",
       "      <th>std</th>\n",
       "      <td>4.323673e+06</td>\n",
       "      <td>1.084151</td>\n",
       "      <td>0.550979</td>\n",
       "      <td>513.039489</td>\n",
       "      <td>592.728072</td>\n",
       "      <td>0.053635</td>\n",
       "      <td>0.042994</td>\n",
       "      <td>1.242507e+06</td>\n",
       "      <td>1.200828e+09</td>\n",
       "      <td>12.003629</td>\n",
       "      <td>...</td>\n",
       "      <td>0.443195</td>\n",
       "      <td>0.376273</td>\n",
       "      <td>0.440086</td>\n",
       "      <td>0.406045</td>\n",
       "      <td>0.259088</td>\n",
       "      <td>0.340434</td>\n",
       "      <td>0.285577</td>\n",
       "      <td>2874.099247</td>\n",
       "      <td>0.500000</td>\n",
       "      <td>7.728606</td>\n",
       "    </tr>\n",
       "    <tr>\n",
       "      <th>min</th>\n",
       "      <td>7.300000e+01</td>\n",
       "      <td>0.000000</td>\n",
       "      <td>0.000000</td>\n",
       "      <td>0.000000</td>\n",
       "      <td>10001.000000</td>\n",
       "      <td>40.573898</td>\n",
       "      <td>-74.168405</td>\n",
       "      <td>1.000000e+06</td>\n",
       "      <td>0.000000e+00</td>\n",
       "      <td>0.000000</td>\n",
       "      <td>...</td>\n",
       "      <td>0.000000</td>\n",
       "      <td>0.000000</td>\n",
       "      <td>0.000000</td>\n",
       "      <td>0.000000</td>\n",
       "      <td>0.000000</td>\n",
       "      <td>0.000000</td>\n",
       "      <td>0.000000</td>\n",
       "      <td>1250.000000</td>\n",
       "      <td>0.000000</td>\n",
       "      <td>0.000000</td>\n",
       "    </tr>\n",
       "    <tr>\n",
       "      <th>25%</th>\n",
       "      <td>6.231400e+04</td>\n",
       "      <td>1.000000</td>\n",
       "      <td>1.000000</td>\n",
       "      <td>604.000000</td>\n",
       "      <td>10023.000000</td>\n",
       "      <td>40.693256</td>\n",
       "      <td>-73.986095</td>\n",
       "      <td>1.052178e+06</td>\n",
       "      <td>1.011286e+09</td>\n",
       "      <td>3.000000</td>\n",
       "      <td>...</td>\n",
       "      <td>0.000000</td>\n",
       "      <td>0.000000</td>\n",
       "      <td>0.000000</td>\n",
       "      <td>0.000000</td>\n",
       "      <td>0.000000</td>\n",
       "      <td>0.000000</td>\n",
       "      <td>0.000000</td>\n",
       "      <td>2250.000000</td>\n",
       "      <td>0.000000</td>\n",
       "      <td>2.000000</td>\n",
       "    </tr>\n",
       "    <tr>\n",
       "      <th>50%</th>\n",
       "      <td>2.545810e+05</td>\n",
       "      <td>2.000000</td>\n",
       "      <td>1.000000</td>\n",
       "      <td>800.000000</td>\n",
       "      <td>11103.000000</td>\n",
       "      <td>40.729048</td>\n",
       "      <td>-73.961554</td>\n",
       "      <td>3.018885e+06</td>\n",
       "      <td>3.006580e+09</td>\n",
       "      <td>5.000000</td>\n",
       "      <td>...</td>\n",
       "      <td>0.000000</td>\n",
       "      <td>0.000000</td>\n",
       "      <td>0.000000</td>\n",
       "      <td>0.000000</td>\n",
       "      <td>0.000000</td>\n",
       "      <td>0.000000</td>\n",
       "      <td>0.000000</td>\n",
       "      <td>2900.000000</td>\n",
       "      <td>0.000000</td>\n",
       "      <td>3.000000</td>\n",
       "    </tr>\n",
       "    <tr>\n",
       "      <th>75%</th>\n",
       "      <td>8.267980e+05</td>\n",
       "      <td>2.000000</td>\n",
       "      <td>1.000000</td>\n",
       "      <td>1000.000000</td>\n",
       "      <td>11218.000000</td>\n",
       "      <td>40.764801</td>\n",
       "      <td>-73.936080</td>\n",
       "      <td>3.325600e+06</td>\n",
       "      <td>3.050558e+09</td>\n",
       "      <td>12.000000</td>\n",
       "      <td>...</td>\n",
       "      <td>1.000000</td>\n",
       "      <td>0.000000</td>\n",
       "      <td>1.000000</td>\n",
       "      <td>0.000000</td>\n",
       "      <td>0.000000</td>\n",
       "      <td>0.000000</td>\n",
       "      <td>0.000000</td>\n",
       "      <td>3900.000000</td>\n",
       "      <td>1.000000</td>\n",
       "      <td>6.000000</td>\n",
       "    </tr>\n",
       "    <tr>\n",
       "      <th>max</th>\n",
       "      <td>1.877211e+07</td>\n",
       "      <td>8.000000</td>\n",
       "      <td>20.000000</td>\n",
       "      <td>10000.000000</td>\n",
       "      <td>11694.000000</td>\n",
       "      <td>40.909842</td>\n",
       "      <td>-73.730550</td>\n",
       "      <td>5.158986e+06</td>\n",
       "      <td>5.029930e+09</td>\n",
       "      <td>90.000000</td>\n",
       "      <td>...</td>\n",
       "      <td>1.000000</td>\n",
       "      <td>1.000000</td>\n",
       "      <td>1.000000</td>\n",
       "      <td>1.000000</td>\n",
       "      <td>1.000000</td>\n",
       "      <td>1.000000</td>\n",
       "      <td>1.000000</td>\n",
       "      <td>50000.000000</td>\n",
       "      <td>1.000000</td>\n",
       "      <td>78.000000</td>\n",
       "    </tr>\n",
       "  </tbody>\n",
       "</table>\n",
       "<p>8 rows × 29 columns</p>\n",
       "</div>"
      ],
      "text/plain": [
       "        building_id      bedrooms     bathrooms     size_sqft      addr_zip  \\\n",
       "count  1.400000e+04  14000.000000  14000.000000  14000.000000  14000.000000   \n",
       "mean   1.542772e+06      1.661643      1.238929    848.388643  10681.801286   \n",
       "std    4.323673e+06      1.084151      0.550979    513.039489    592.728072   \n",
       "min    7.300000e+01      0.000000      0.000000      0.000000  10001.000000   \n",
       "25%    6.231400e+04      1.000000      1.000000    604.000000  10023.000000   \n",
       "50%    2.545810e+05      2.000000      1.000000    800.000000  11103.000000   \n",
       "75%    8.267980e+05      2.000000      1.000000   1000.000000  11218.000000   \n",
       "max    1.877211e+07      8.000000     20.000000  10000.000000  11694.000000   \n",
       "\n",
       "           addr_lat      addr_lon           bin           bbl   floor_count  \\\n",
       "count  14000.000000  14000.000000  1.399900e+04  1.400000e+04  14000.000000   \n",
       "mean      40.727746    -73.956776  2.368400e+06  2.285087e+09     10.233350   \n",
       "std        0.053635      0.042994  1.242507e+06  1.200828e+09     12.003629   \n",
       "min       40.573898    -74.168405  1.000000e+06  0.000000e+00      0.000000   \n",
       "25%       40.693256    -73.986095  1.052178e+06  1.011286e+09      3.000000   \n",
       "50%       40.729048    -73.961554  3.018885e+06  3.006580e+09      5.000000   \n",
       "75%       40.764801    -73.936080  3.325600e+06  3.050558e+09     12.000000   \n",
       "max       40.909842    -73.730550  5.158986e+06  5.029930e+09     90.000000   \n",
       "\n",
       "       ...  has_washer_dryer    has_garage  has_roofdeck  has_concierge  \\\n",
       "count  ...      14000.000000  14000.000000  14000.000000   14000.000000   \n",
       "mean   ...          0.268500      0.170714      0.262643       0.208214   \n",
       "std    ...          0.443195      0.376273      0.440086       0.406045   \n",
       "min    ...          0.000000      0.000000      0.000000       0.000000   \n",
       "25%    ...          0.000000      0.000000      0.000000       0.000000   \n",
       "50%    ...          0.000000      0.000000      0.000000       0.000000   \n",
       "75%    ...          1.000000      0.000000      1.000000       0.000000   \n",
       "max    ...          1.000000      1.000000      1.000000       1.000000   \n",
       "\n",
       "           has_pool    has_garden  has_childrens_playroom          rent  \\\n",
       "count  14000.000000  14000.000000            14000.000000  14000.000000   \n",
       "mean       0.072357      0.133786                0.089571   3591.997214   \n",
       "std        0.259088      0.340434                0.285577   2874.099247   \n",
       "min        0.000000      0.000000                0.000000   1250.000000   \n",
       "25%        0.000000      0.000000                0.000000   2250.000000   \n",
       "50%        0.000000      0.000000                0.000000   2900.000000   \n",
       "75%        0.000000      0.000000                0.000000   3900.000000   \n",
       "max        1.000000      1.000000                1.000000  50000.000000   \n",
       "\n",
       "             no_fee   floornumber  \n",
       "count  14000.000000  12498.000000  \n",
       "mean       0.495786      6.198232  \n",
       "std        0.500000      7.728606  \n",
       "min        0.000000      0.000000  \n",
       "25%        0.000000      2.000000  \n",
       "50%        0.000000      3.000000  \n",
       "75%        1.000000      6.000000  \n",
       "max        1.000000     78.000000  \n",
       "\n",
       "[8 rows x 29 columns]"
      ]
     },
     "execution_count": 4,
     "metadata": {},
     "output_type": "execute_result"
    }
   ],
   "source": [
    "raw_df.describe()"
   ]
  },
  {
   "cell_type": "code",
   "execution_count": 5,
   "metadata": {
    "colab": {
     "base_uri": "https://localhost:8080/",
     "height": 34
    },
    "colab_type": "code",
    "id": "csEm7f26C1yS",
    "outputId": "d3a30c17-b4c6-45a3-c642-39b7f6069656"
   },
   "outputs": [
    {
     "data": {
      "text/plain": [
       "(14000, 38)"
      ]
     },
     "execution_count": 5,
     "metadata": {},
     "output_type": "execute_result"
    }
   ],
   "source": [
    "raw_df.shape"
   ]
  },
  {
   "cell_type": "code",
   "execution_count": 6,
   "metadata": {
    "colab": {
     "base_uri": "https://localhost:8080/",
     "height": 739
    },
    "colab_type": "code",
    "id": "I9hONCStC1yP",
    "outputId": "7d3827da-d02a-4614-9981-6070be31b237"
   },
   "outputs": [
    {
     "name": "stdout",
     "output_type": "stream",
     "text": [
      "<class 'pandas.core.frame.DataFrame'>\n",
      "Int64Index: 14000 entries, 7236931 to 7463404\n",
      "Data columns (total 38 columns):\n",
      "addr_unit                 13890 non-null object\n",
      "building_id               14000 non-null int64\n",
      "bedrooms                  14000 non-null int64\n",
      "bathrooms                 14000 non-null float64\n",
      "size_sqft                 14000 non-null float64\n",
      "created_at                14000 non-null object\n",
      "addr_street               14000 non-null object\n",
      "addr_city                 14000 non-null object\n",
      "addr_zip                  14000 non-null int64\n",
      "addr_lat                  14000 non-null float64\n",
      "addr_lon                  14000 non-null float64\n",
      "bin                       13999 non-null float64\n",
      "bbl                       14000 non-null int64\n",
      "floor_count               14000 non-null float64\n",
      "year_built                13530 non-null float64\n",
      "min_to_subway             13857 non-null float64\n",
      "has_doorman               14000 non-null int64\n",
      "has_elevator              14000 non-null int64\n",
      "has_fireplace             14000 non-null int64\n",
      "has_dishwasher            14000 non-null int64\n",
      "is_furnished              14000 non-null int64\n",
      "has_gym                   14000 non-null int64\n",
      "allows_pets               14000 non-null int64\n",
      "has_washer_dryer          14000 non-null int64\n",
      "has_garage                14000 non-null int64\n",
      "has_roofdeck              14000 non-null int64\n",
      "has_concierge             14000 non-null int64\n",
      "has_pool                  14000 non-null int64\n",
      "has_garden                14000 non-null int64\n",
      "has_childrens_playroom    14000 non-null int64\n",
      "rent                      14000 non-null int64\n",
      "no_fee                    14000 non-null int64\n",
      "description               13984 non-null object\n",
      "neighborhood              13997 non-null object\n",
      "borough                   14000 non-null object\n",
      "unit                      13886 non-null object\n",
      "floornumber               12498 non-null float64\n",
      "line                      9865 non-null object\n",
      "dtypes: float64(9), int64(20), object(9)\n",
      "memory usage: 4.2+ MB\n"
     ]
    }
   ],
   "source": [
    "raw_df.info()"
   ]
  },
  {
   "cell_type": "code",
   "execution_count": 7,
   "metadata": {
    "colab": {
     "base_uri": "https://localhost:8080/",
     "height": 286
    },
    "colab_type": "code",
    "id": "bQBnI2n0FuHJ",
    "outputId": "9a62644e-70ac-4531-c6f8-96813f039d8c"
   },
   "outputs": [
    {
     "data": {
      "text/plain": [
       "<matplotlib.axes._subplots.AxesSubplot at 0x1e8800d2278>"
      ]
     },
     "execution_count": 7,
     "metadata": {},
     "output_type": "execute_result"
    },
    {
     "data": {
      "image/png": "[encoded data removed]",
      "text/plain": [
       "<Figure size 432x288 with 1 Axes>"
      ]
     },
     "metadata": {
      "needs_background": "light"
     },
     "output_type": "display_data"
    }
   ],
   "source": [
    "raw_df['rent'].hist(bins=100)"
   ]
  },
  {
   "cell_type": "markdown",
   "metadata": {
    "colab_type": "text",
    "id": "cN1cvd5g0lcL"
   },
   "source": [
    "### Seperate all features into continuous, categorical and binary features.\n",
    "\n",
    "For those none relatived features as below, we have excluded them from the features grouping: \n",
    "- addr_unit: no relationship\n",
    "- building_id: no relationship\n",
    "- addr_lat: hard to analyze latitude\n",
    "- addr_lon: hard to analyze longtitude\n",
    "- bin: need to wait for external dataset\n",
    "- bbl: need to wait for external dataset\n",
    "- description: hard to build a NLP model\n",
    "- unit: no relationship\n"
   ]
  },
  {
   "cell_type": "code",
   "execution_count": 8,
   "metadata": {
    "colab": {},
    "colab_type": "code",
    "id": "ce4l5HZNModF"
   },
   "outputs": [],
   "source": [
    "continuous_features =['bathrooms','bedrooms','size_sqft','floor_count','year_built','min_to_subway','floornumber' ]\n",
    "caterigal_features =['addr_street','addr_city','addr_zip','neighborhood','borough','line' ]\n",
    "binary_features = ['has_doorman', 'has_elevator', 'has_fireplace', 'has_dishwasher','is_furnished', 'has_gym', 'allows_pets', \n",
    "                   'has_washer_dryer','has_garage', 'has_roofdeck', 'has_concierge', 'has_pool', 'has_garden',\n",
    "                   'has_childrens_playroom', 'no_fee', ]"
   ]
  },
  {
   "cell_type": "markdown",
   "metadata": {
    "colab": {},
    "colab_type": "code",
    "id": "bp674gXgC1yy"
   },
   "source": [
    "## Import external dataset from Internal Revenue Service\n",
    " - We will import the 2017 individual income Tax statistic dataset from IRS website(https://www.irs.gov/pub/irs-soi/17zpallagi.csv).\n",
    " - We will expend a new feature: **average_income** based on zipcode to our raw dataset "
   ]
  },
  {
   "cell_type": "code",
   "execution_count": 10,
   "metadata": {
    "colab": {
     "base_uri": "https://localhost:8080/",
     "height": 119
    },
    "colab_type": "code",
    "id": "ySvUva5SC1yz",
    "outputId": "1ed1dab8-6fb2-4f94-8584-d38dbadc73fd"
   },
   "outputs": [
    {
     "data": {
      "text/plain": [
       "Index(['STATE', 'zipcode', 'agi_stub', 'N1', 'mars1', 'MARS2', 'MARS4', 'ELF',\n",
       "       'CPREP', 'PREP',\n",
       "       ...\n",
       "       'N85300', 'A85300', 'N11901', 'A11901', 'N11900', 'A11900', 'N11902',\n",
       "       'A11902', 'N12000', 'A12000'],\n",
       "      dtype='object', length=152)"
      ]
     },
     "execution_count": 10,
     "metadata": {},
     "output_type": "execute_result"
    }
   ],
   "source": [
    "raw_income_data=pd.read_csv('https://www.irs.gov/pub/irs-soi/17zpallagi.csv', index_col=0)\n",
    "raw_income_data.columns"
   ]
  },
  {
   "cell_type": "code",
   "execution_count": 11,
   "metadata": {
    "colab": {},
    "colab_type": "code",
    "id": "4OwGK7NMC1y4",
    "outputId": "f3d9ab34-8545-461e-abad-372abd7b373a"
   },
   "outputs": [
    {
     "data": {
      "text/html": [
       "<div>\n",
       "<style scoped>\n",
       "    .dataframe tbody tr th:only-of-type {\n",
       "        vertical-align: middle;\n",
       "    }\n",
       "\n",
       "    .dataframe tbody tr th {\n",
       "        vertical-align: top;\n",
       "    }\n",
       "\n",
       "    .dataframe thead th {\n",
       "        text-align: right;\n",
       "    }\n",
       "</style>\n",
       "<table border=\"1\" class=\"dataframe\">\n",
       "  <thead>\n",
       "    <tr style=\"text-align: right;\">\n",
       "      <th></th>\n",
       "      <th>zipcode</th>\n",
       "      <th>agi_stub</th>\n",
       "      <th>N1</th>\n",
       "      <th>mars1</th>\n",
       "      <th>MARS2</th>\n",
       "      <th>MARS4</th>\n",
       "      <th>ELF</th>\n",
       "      <th>CPREP</th>\n",
       "      <th>PREP</th>\n",
       "      <th>DIR_DEP</th>\n",
       "      <th>...</th>\n",
       "      <th>N85300</th>\n",
       "      <th>A85300</th>\n",
       "      <th>N11901</th>\n",
       "      <th>A11901</th>\n",
       "      <th>N11900</th>\n",
       "      <th>A11900</th>\n",
       "      <th>N11902</th>\n",
       "      <th>A11902</th>\n",
       "      <th>N12000</th>\n",
       "      <th>A12000</th>\n",
       "    </tr>\n",
       "  </thead>\n",
       "  <tbody>\n",
       "    <tr>\n",
       "      <th>count</th>\n",
       "      <td>166537.000000</td>\n",
       "      <td>166537.000000</td>\n",
       "      <td>1.665370e+05</td>\n",
       "      <td>1.665370e+05</td>\n",
       "      <td>1.665370e+05</td>\n",
       "      <td>166537.000000</td>\n",
       "      <td>1.665370e+05</td>\n",
       "      <td>166537.000000</td>\n",
       "      <td>1.665370e+05</td>\n",
       "      <td>1.665370e+05</td>\n",
       "      <td>...</td>\n",
       "      <td>166537.000000</td>\n",
       "      <td>1.665370e+05</td>\n",
       "      <td>166537.000000</td>\n",
       "      <td>1.665370e+05</td>\n",
       "      <td>1.665370e+05</td>\n",
       "      <td>1.665370e+05</td>\n",
       "      <td>1.665370e+05</td>\n",
       "      <td>1.665370e+05</td>\n",
       "      <td>166537.000000</td>\n",
       "      <td>1.665370e+05</td>\n",
       "    </tr>\n",
       "    <tr>\n",
       "      <th>mean</th>\n",
       "      <td>48870.221668</td>\n",
       "      <td>3.499883</td>\n",
       "      <td>1.797506e+03</td>\n",
       "      <td>8.568076e+02</td>\n",
       "      <td>6.466075e+02</td>\n",
       "      <td>257.395354</td>\n",
       "      <td>1.595375e+03</td>\n",
       "      <td>109.165711</td>\n",
       "      <td>9.565737e+02</td>\n",
       "      <td>1.115313e+03</td>\n",
       "      <td>...</td>\n",
       "      <td>52.247849</td>\n",
       "      <td>2.652260e+02</td>\n",
       "      <td>366.565508</td>\n",
       "      <td>2.075837e+03</td>\n",
       "      <td>1.385102e+03</td>\n",
       "      <td>4.864975e+03</td>\n",
       "      <td>1.349381e+03</td>\n",
       "      <td>3.932834e+03</td>\n",
       "      <td>43.103875</td>\n",
       "      <td>8.790301e+02</td>\n",
       "    </tr>\n",
       "    <tr>\n",
       "      <th>std</th>\n",
       "      <td>27140.457939</td>\n",
       "      <td>1.707903</td>\n",
       "      <td>3.682065e+04</td>\n",
       "      <td>2.157115e+04</td>\n",
       "      <td>1.180901e+04</td>\n",
       "      <td>6579.521856</td>\n",
       "      <td>3.234179e+04</td>\n",
       "      <td>2546.536828</td>\n",
       "      <td>1.996698e+04</td>\n",
       "      <td>2.347348e+04</td>\n",
       "      <td>...</td>\n",
       "      <td>2663.659358</td>\n",
       "      <td>1.535593e+04</td>\n",
       "      <td>6891.242958</td>\n",
       "      <td>6.608186e+04</td>\n",
       "      <td>2.947749e+04</td>\n",
       "      <td>1.012458e+05</td>\n",
       "      <td>2.909491e+04</td>\n",
       "      <td>7.693938e+04</td>\n",
       "      <td>947.324343</td>\n",
       "      <td>4.399491e+04</td>\n",
       "    </tr>\n",
       "    <tr>\n",
       "      <th>min</th>\n",
       "      <td>0.000000</td>\n",
       "      <td>1.000000</td>\n",
       "      <td>0.000000e+00</td>\n",
       "      <td>0.000000e+00</td>\n",
       "      <td>0.000000e+00</td>\n",
       "      <td>0.000000</td>\n",
       "      <td>0.000000e+00</td>\n",
       "      <td>0.000000</td>\n",
       "      <td>0.000000e+00</td>\n",
       "      <td>0.000000e+00</td>\n",
       "      <td>...</td>\n",
       "      <td>0.000000</td>\n",
       "      <td>0.000000e+00</td>\n",
       "      <td>0.000000</td>\n",
       "      <td>0.000000e+00</td>\n",
       "      <td>0.000000e+00</td>\n",
       "      <td>0.000000e+00</td>\n",
       "      <td>0.000000e+00</td>\n",
       "      <td>0.000000e+00</td>\n",
       "      <td>0.000000</td>\n",
       "      <td>0.000000e+00</td>\n",
       "    </tr>\n",
       "    <tr>\n",
       "      <th>25%</th>\n",
       "      <td>27030.000000</td>\n",
       "      <td>2.000000</td>\n",
       "      <td>7.000000e+01</td>\n",
       "      <td>0.000000e+00</td>\n",
       "      <td>4.000000e+01</td>\n",
       "      <td>0.000000</td>\n",
       "      <td>6.000000e+01</td>\n",
       "      <td>0.000000</td>\n",
       "      <td>4.000000e+01</td>\n",
       "      <td>4.000000e+01</td>\n",
       "      <td>...</td>\n",
       "      <td>0.000000</td>\n",
       "      <td>0.000000e+00</td>\n",
       "      <td>20.000000</td>\n",
       "      <td>2.100000e+01</td>\n",
       "      <td>5.000000e+01</td>\n",
       "      <td>1.580000e+02</td>\n",
       "      <td>4.000000e+01</td>\n",
       "      <td>1.410000e+02</td>\n",
       "      <td>0.000000</td>\n",
       "      <td>0.000000e+00</td>\n",
       "    </tr>\n",
       "    <tr>\n",
       "      <th>50%</th>\n",
       "      <td>48876.000000</td>\n",
       "      <td>3.000000</td>\n",
       "      <td>2.500000e+02</td>\n",
       "      <td>7.000000e+01</td>\n",
       "      <td>1.100000e+02</td>\n",
       "      <td>20.000000</td>\n",
       "      <td>2.200000e+02</td>\n",
       "      <td>0.000000</td>\n",
       "      <td>1.500000e+02</td>\n",
       "      <td>1.400000e+02</td>\n",
       "      <td>...</td>\n",
       "      <td>0.000000</td>\n",
       "      <td>0.000000e+00</td>\n",
       "      <td>60.000000</td>\n",
       "      <td>1.550000e+02</td>\n",
       "      <td>1.800000e+02</td>\n",
       "      <td>6.220000e+02</td>\n",
       "      <td>1.700000e+02</td>\n",
       "      <td>5.480000e+02</td>\n",
       "      <td>0.000000</td>\n",
       "      <td>0.000000e+00</td>\n",
       "    </tr>\n",
       "    <tr>\n",
       "      <th>75%</th>\n",
       "      <td>70601.000000</td>\n",
       "      <td>5.000000</td>\n",
       "      <td>1.020000e+03</td>\n",
       "      <td>3.400000e+02</td>\n",
       "      <td>3.800000e+02</td>\n",
       "      <td>90.000000</td>\n",
       "      <td>9.100000e+02</td>\n",
       "      <td>60.000000</td>\n",
       "      <td>5.600000e+02</td>\n",
       "      <td>5.900000e+02</td>\n",
       "      <td>...</td>\n",
       "      <td>0.000000</td>\n",
       "      <td>0.000000e+00</td>\n",
       "      <td>220.000000</td>\n",
       "      <td>6.870000e+02</td>\n",
       "      <td>7.400000e+02</td>\n",
       "      <td>2.484000e+03</td>\n",
       "      <td>7.100000e+02</td>\n",
       "      <td>2.207000e+03</td>\n",
       "      <td>30.000000</td>\n",
       "      <td>6.400000e+01</td>\n",
       "    </tr>\n",
       "    <tr>\n",
       "      <th>max</th>\n",
       "      <td>99999.000000</td>\n",
       "      <td>6.000000</td>\n",
       "      <td>5.824360e+06</td>\n",
       "      <td>4.130490e+06</td>\n",
       "      <td>1.757700e+06</td>\n",
       "      <td>982390.000000</td>\n",
       "      <td>4.980210e+06</td>\n",
       "      <td>475240.000000</td>\n",
       "      <td>3.387570e+06</td>\n",
       "      <td>3.233490e+06</td>\n",
       "      <td>...</td>\n",
       "      <td>763140.000000</td>\n",
       "      <td>4.031847e+06</td>\n",
       "      <td>890950.000000</td>\n",
       "      <td>1.750126e+07</td>\n",
       "      <td>4.598480e+06</td>\n",
       "      <td>1.667374e+07</td>\n",
       "      <td>4.561540e+06</td>\n",
       "      <td>9.443931e+06</td>\n",
       "      <td>186110.000000</td>\n",
       "      <td>1.056186e+07</td>\n",
       "    </tr>\n",
       "  </tbody>\n",
       "</table>\n",
       "<p>8 rows × 151 columns</p>\n",
       "</div>"
      ],
      "text/plain": [
       "             zipcode       agi_stub            N1         mars1         MARS2  \\\n",
       "count  166537.000000  166537.000000  1.665370e+05  1.665370e+05  1.665370e+05   \n",
       "mean    48870.221668       3.499883  1.797506e+03  8.568076e+02  6.466075e+02   \n",
       "std     27140.457939       1.707903  3.682065e+04  2.157115e+04  1.180901e+04   \n",
       "min         0.000000       1.000000  0.000000e+00  0.000000e+00  0.000000e+00   \n",
       "25%     27030.000000       2.000000  7.000000e+01  0.000000e+00  4.000000e+01   \n",
       "50%     48876.000000       3.000000  2.500000e+02  7.000000e+01  1.100000e+02   \n",
       "75%     70601.000000       5.000000  1.020000e+03  3.400000e+02  3.800000e+02   \n",
       "max     99999.000000       6.000000  5.824360e+06  4.130490e+06  1.757700e+06   \n",
       "\n",
       "               MARS4           ELF          CPREP          PREP       DIR_DEP  \\\n",
       "count  166537.000000  1.665370e+05  166537.000000  1.665370e+05  1.665370e+05   \n",
       "mean      257.395354  1.595375e+03     109.165711  9.565737e+02  1.115313e+03   \n",
       "std      6579.521856  3.234179e+04    2546.536828  1.996698e+04  2.347348e+04   \n",
       "min         0.000000  0.000000e+00       0.000000  0.000000e+00  0.000000e+00   \n",
       "25%         0.000000  6.000000e+01       0.000000  4.000000e+01  4.000000e+01   \n",
       "50%        20.000000  2.200000e+02       0.000000  1.500000e+02  1.400000e+02   \n",
       "75%        90.000000  9.100000e+02      60.000000  5.600000e+02  5.900000e+02   \n",
       "max    982390.000000  4.980210e+06  475240.000000  3.387570e+06  3.233490e+06   \n",
       "\n",
       "       ...         N85300        A85300         N11901        A11901  \\\n",
       "count  ...  166537.000000  1.665370e+05  166537.000000  1.665370e+05   \n",
       "mean   ...      52.247849  2.652260e+02     366.565508  2.075837e+03   \n",
       "std    ...    2663.659358  1.535593e+04    6891.242958  6.608186e+04   \n",
       "min    ...       0.000000  0.000000e+00       0.000000  0.000000e+00   \n",
       "25%    ...       0.000000  0.000000e+00      20.000000  2.100000e+01   \n",
       "50%    ...       0.000000  0.000000e+00      60.000000  1.550000e+02   \n",
       "75%    ...       0.000000  0.000000e+00     220.000000  6.870000e+02   \n",
       "max    ...  763140.000000  4.031847e+06  890950.000000  1.750126e+07   \n",
       "\n",
       "             N11900        A11900        N11902        A11902         N12000  \\\n",
       "count  1.665370e+05  1.665370e+05  1.665370e+05  1.665370e+05  166537.000000   \n",
       "mean   1.385102e+03  4.864975e+03  1.349381e+03  3.932834e+03      43.103875   \n",
       "std    2.947749e+04  1.012458e+05  2.909491e+04  7.693938e+04     947.324343   \n",
       "min    0.000000e+00  0.000000e+00  0.000000e+00  0.000000e+00       0.000000   \n",
       "25%    5.000000e+01  1.580000e+02  4.000000e+01  1.410000e+02       0.000000   \n",
       "50%    1.800000e+02  6.220000e+02  1.700000e+02  5.480000e+02       0.000000   \n",
       "75%    7.400000e+02  2.484000e+03  7.100000e+02  2.207000e+03      30.000000   \n",
       "max    4.598480e+06  1.667374e+07  4.561540e+06  9.443931e+06  186110.000000   \n",
       "\n",
       "             A12000  \n",
       "count  1.665370e+05  \n",
       "mean   8.790301e+02  \n",
       "std    4.399491e+04  \n",
       "min    0.000000e+00  \n",
       "25%    0.000000e+00  \n",
       "50%    0.000000e+00  \n",
       "75%    6.400000e+01  \n",
       "max    1.056186e+07  \n",
       "\n",
       "[8 rows x 151 columns]"
      ]
     },
     "execution_count": 11,
     "metadata": {},
     "output_type": "execute_result"
    }
   ],
   "source": [
    "raw_income_data.describe()"
   ]
  },
  {
   "cell_type": "markdown",
   "metadata": {
    "colab_type": "text",
    "id": "dsIRl_HPz50L"
   },
   "source": [
    "### Income Dataset Description \n",
    "This dataset comes from the IRS website's 2017 ZIP Code Data (SOI) about Individual Income Tax Statistics.\n",
    "According to the documentation's overview,the Statistics of Income (SOI) Division’s ZIP code data is tabulated using individual income tax returns (Forms 1040) filed with the Internal Revenue Service (IRS) during the 12-month period, January 1, 2018 to December 31, 2018.\n",
    "The original dataset contains many income and Tax Items, we only keep the ones that are relevant: \n",
    "- STATEFIPS:The State Federal Information Processing System (FIPS) code\n",
    "- STATE: The State associated with the ZIP code\n",
    "- ZIPCODE: 5-digit Zip code\n",
    "- agi_stub: Size of adjusted gross income\n",
    "- N1: Total number of returns\n",
    "- A02650: Number of returns with total income\n",
    "\n",
    "Our goal is to find the average income of each zipcode."
   ]
  },
  {
   "cell_type": "markdown",
   "metadata": {
    "colab_type": "text",
    "id": "npFJUlx_z50M"
   },
   "source": [
    "### Clean the raw income data and rename feature"
   ]
  },
  {
   "cell_type": "code",
   "execution_count": 12,
   "metadata": {
    "colab": {},
    "colab_type": "code",
    "id": "-V89w0rGz50N"
   },
   "outputs": [],
   "source": [
    "raw_income_data = raw_income_data.loc[raw_income_data['STATE']=='NY']\n",
    "raw_income_data.rename(columns = {'N1':'total_returns', 'A02650':'total_income'}, inplace = True) \n",
    "raw_income_data = raw_income_data[['STATE','zipcode','agi_stub','total_returns', 'total_income']]\n",
    "raw_income_data = raw_income_data.loc[raw_income_data['zipcode']<99999]\n",
    "raw_income_data = raw_income_data.loc[raw_income_data['zipcode']>0]\n"
   ]
  },
  {
   "cell_type": "markdown",
   "metadata": {
    "colab_type": "text",
    "id": "-VGLOblZz50P"
   },
   "source": [
    "### Function to calculate the average income by zip code\n",
    "Each zip code has 6 different sizes of adjusted gross income which means we have 6 different number of total returns and total income for one zip code.\n",
    "By using the np.where and sum function, we can obtain the sum of income and sum of returns for each zip code. The income of the original dataset was in thousands of dollar so we need to multiply the sum of income by 1000 and then find the average. Since some zip code was not in the original set, we ingore those average that is NaN and only write the meaningful averages to csv file for future use."
   ]
  },
  {
   "cell_type": "markdown",
   "metadata": {
    "colab_type": "text",
    "id": "fYwv11cxz50Q"
   },
   "source": [
    "- Calculate average income \n",
    "- Export to ny_income_2017.csv for storage\n",
    "- For next time, no need to import the raw_income_dataset again"
   ]
  },
  {
   "cell_type": "code",
   "execution_count": 13,
   "metadata": {
    "colab": {
     "base_uri": "https://localhost:8080/",
     "height": 204
    },
    "colab_type": "code",
    "id": "frLORUzFz50R",
    "outputId": "c1056c7c-6d99-4532-9298-0f58a3d1a842"
   },
   "outputs": [
    {
     "data": {
      "text/html": [
       "<div>\n",
       "<style scoped>\n",
       "    .dataframe tbody tr th:only-of-type {\n",
       "        vertical-align: middle;\n",
       "    }\n",
       "\n",
       "    .dataframe tbody tr th {\n",
       "        vertical-align: top;\n",
       "    }\n",
       "\n",
       "    .dataframe thead th {\n",
       "        text-align: right;\n",
       "    }\n",
       "</style>\n",
       "<table border=\"1\" class=\"dataframe\">\n",
       "  <thead>\n",
       "    <tr style=\"text-align: right;\">\n",
       "      <th></th>\n",
       "      <th>addr_zip</th>\n",
       "      <th>zip_average_income</th>\n",
       "    </tr>\n",
       "  </thead>\n",
       "  <tbody>\n",
       "    <tr>\n",
       "      <th>0</th>\n",
       "      <td>10001.0</td>\n",
       "      <td>183859.908735</td>\n",
       "    </tr>\n",
       "    <tr>\n",
       "      <th>1</th>\n",
       "      <td>10002.0</td>\n",
       "      <td>59669.401750</td>\n",
       "    </tr>\n",
       "    <tr>\n",
       "      <th>2</th>\n",
       "      <td>10003.0</td>\n",
       "      <td>306277.962003</td>\n",
       "    </tr>\n",
       "    <tr>\n",
       "      <th>3</th>\n",
       "      <td>10004.0</td>\n",
       "      <td>385265.306122</td>\n",
       "    </tr>\n",
       "    <tr>\n",
       "      <th>4</th>\n",
       "      <td>10005.0</td>\n",
       "      <td>391201.520270</td>\n",
       "    </tr>\n",
       "  </tbody>\n",
       "</table>\n",
       "</div>"
      ],
      "text/plain": [
       "   addr_zip  zip_average_income\n",
       "0   10001.0       183859.908735\n",
       "1   10002.0        59669.401750\n",
       "2   10003.0       306277.962003\n",
       "3   10004.0       385265.306122\n",
       "4   10005.0       391201.520270"
      ]
     },
     "execution_count": 13,
     "metadata": {},
     "output_type": "execute_result"
    }
   ],
   "source": [
    "average_income = pd.DataFrame({'addr_zip':[],'zip_average_income':[]})\n",
    "\n",
    "def calculate_avg_income():\n",
    "    global average_income\n",
    "    for zipcode in range(10001, 14906):\n",
    "        current_sum=np.where(raw_income_data['zipcode']==zipcode, raw_income_data['total_income'],0).sum()\n",
    "        current_returns=np.where(raw_income_data['zipcode']==zipcode, raw_income_data['total_returns'],0).sum() \n",
    "        if(current_returns <=0 or current_sum<=0):\n",
    "            continue\n",
    "        avg_income=(current_sum*1000)/current_returns\n",
    "        new_row={'addr_zip':zipcode,'zip_average_income':avg_income}\n",
    "        average_income=average_income.append(new_row,ignore_index=True)           \n",
    "calculate_avg_income()\n",
    "average_income.head(5)"
   ]
  },
  {
   "cell_type": "markdown",
   "metadata": {
    "colab_type": "text",
    "id": "0IzznDIuz50U"
   },
   "source": [
    " - We realize that the income dataset is missing all income data between zipcode 11239 - 11354, we will take an averge of zipcode income for 11239 and 11354 to replace any zipcode income in between \n",
    " - In our training and testing dataset, only the zipcode income 11249 is missing"
   ]
  },
  {
   "cell_type": "code",
   "execution_count": 14,
   "metadata": {
    "colab": {},
    "colab_type": "code",
    "id": "gTUSEJ49z50U",
    "outputId": "0e334a05-9c82-48c3-ab4d-77744e611715"
   },
   "outputs": [
    {
     "name": "stdout",
     "output_type": "stream",
     "text": [
      "[11249]\n",
      "[11249]\n"
     ]
    }
   ],
   "source": [
    "print(list(set(raw_df['addr_zip']) - set(average_income['addr_zip'])))\n",
    "print(list(set(raw_test_df['addr_zip']) - set(average_income['addr_zip'])))"
   ]
  },
  {
   "cell_type": "markdown",
   "metadata": {
    "colab_type": "text",
    "id": "XnbmWJYxz50X"
   },
   "source": [
    "**Insert a new row for zipcode income 11249 into the average_income dataframe**"
   ]
  },
  {
   "cell_type": "code",
   "execution_count": 15,
   "metadata": {
    "colab": {},
    "colab_type": "code",
    "id": "F_bdJvGyz50Y"
   },
   "outputs": [],
   "source": [
    "avg_income = (average_income.loc[(average_income['addr_zip']==11239)].iloc[0]['zip_average_income'] +\n",
    "             average_income.loc[(average_income['addr_zip']==11354)].iloc[0]['zip_average_income'])/2\n",
    "new_row = {'addr_zip':11249,'zip_average_income':avg_income}\n",
    "average_income=average_income.append(new_row,ignore_index=True)  "
   ]
  },
  {
   "cell_type": "markdown",
   "metadata": {
    "colab_type": "text",
    "id": "UtLCiyTwz50a"
   },
   "source": [
    "### Merge the raw train  dataset with the income dataset by addr_zip"
   ]
  },
  {
   "cell_type": "code",
   "execution_count": 16,
   "metadata": {
    "colab": {},
    "colab_type": "code",
    "id": "Mkmeq1Q3z50b"
   },
   "outputs": [],
   "source": [
    "raw_test2_df=raw_test2_df.reset_index().merge(average_income, how=\"left\",on='addr_zip').set_index('rental_id')\n",
    "raw_df=raw_df.reset_index().merge(average_income, how=\"left\",on='addr_zip').set_index('rental_id')"
   ]
  },
  {
   "cell_type": "markdown",
   "metadata": {
    "colab_type": "text",
    "id": "GO3qzUewz50d"
   },
   "source": [
    "### Find zip_average_income and rent cooleration"
   ]
  },
  {
   "cell_type": "code",
   "execution_count": 17,
   "metadata": {
    "colab": {},
    "colab_type": "code",
    "id": "gasWc5OYz50e"
   },
   "outputs": [],
   "source": [
    "continuous_features.append('zip_average_income')"
   ]
  },
  {
   "cell_type": "code",
   "execution_count": 18,
   "metadata": {
    "colab": {},
    "colab_type": "code",
    "id": "-kqkBEJGz50h",
    "outputId": "59ca8084-dce3-452d-f506-2926ae2e526c"
   },
   "outputs": [
    {
     "data": {
      "text/plain": [
       "zip_average_income    0.393228\n",
       "Name: rent, dtype: float64"
      ]
     },
     "execution_count": 18,
     "metadata": {},
     "output_type": "execute_result"
    }
   ],
   "source": [
    "continuous_df = raw_df[['zip_average_income','rent']]\n",
    "continuous_df.corr()['rent'][:-1]\n"
   ]
  },
  {
   "cell_type": "markdown",
   "metadata": {
    "colab_type": "text",
    "id": "Vwee4_SPz50l"
   },
   "source": [
    "**The correlation between zip_average_income and rent is 0.393228, it is good enough to consider as a important feature that might impact the rent**"
   ]
  },
  {
   "cell_type": "markdown",
   "metadata": {},
   "source": [
    "## Import external Population dataset from Zipatlas\n",
    " - dataset source (http://zipatlas.com/us/ny/zip-code-comparison/unemployment-rate.htm)\n",
    " - The site only contains the data table, so the data were manually copied to csv file\n",
    " - People tend to stay in the areas that has more working oppurnites,which means the renting market is busy, therefore the areas with high underemployemnt rate are more likely to have lower rent, however, since we are working with zipcode, there are zipcodes that have only a few people that shift the result, so our team will need to evalue how will the overall model change.\n"
   ]
  },
  {
   "cell_type": "code",
   "execution_count": 38,
   "metadata": {},
   "outputs": [
    {
     "ename": "UnicodeDecodeError",
     "evalue": "'utf-8' codec can't decode byte 0xb8 in position 20: invalid start byte",
     "output_type": "error",
     "traceback": [
      "\u001b[1;31m---------------------------------------------------------------------------\u001b[0m",
      "\u001b[1;31mUnicodeDecodeError\u001b[0m                        Traceback (most recent call last)",
      "\u001b[1;32m<ipython-input-38-8ef7a48239b7>\u001b[0m in \u001b[0;36m<module>\u001b[1;34m\u001b[0m\n\u001b[1;32m----> 1\u001b[1;33m \u001b[0munemployment_df\u001b[0m \u001b[1;33m=\u001b[0m \u001b[0mpd\u001b[0m\u001b[1;33m.\u001b[0m\u001b[0mread_csv\u001b[0m\u001b[1;33m(\u001b[0m\u001b[1;34m'./data/sale_price - 副本.csv'\u001b[0m\u001b[1;33m)\u001b[0m\u001b[1;33m\u001b[0m\u001b[1;33m\u001b[0m\u001b[0m\n\u001b[0m",
      "\u001b[1;32m~\\Anaconda3\\lib\\site-packages\\pandas\\io\\parsers.py\u001b[0m in \u001b[0;36mparser_f\u001b[1;34m(filepath_or_buffer, sep, delimiter, header, names, index_col, usecols, squeeze, prefix, mangle_dupe_cols, dtype, engine, converters, true_values, false_values, skipinitialspace, skiprows, skipfooter, nrows, na_values, keep_default_na, na_filter, verbose, skip_blank_lines, parse_dates, infer_datetime_format, keep_date_col, date_parser, dayfirst, iterator, chunksize, compression, thousands, decimal, lineterminator, quotechar, quoting, doublequote, escapechar, comment, encoding, dialect, tupleize_cols, error_bad_lines, warn_bad_lines, delim_whitespace, low_memory, memory_map, float_precision)\u001b[0m\n\u001b[0;32m    700\u001b[0m                     skip_blank_lines=skip_blank_lines)\n\u001b[0;32m    701\u001b[0m \u001b[1;33m\u001b[0m\u001b[0m\n\u001b[1;32m--> 702\u001b[1;33m         \u001b[1;32mreturn\u001b[0m \u001b[0m_read\u001b[0m\u001b[1;33m(\u001b[0m\u001b[0mfilepath_or_buffer\u001b[0m\u001b[1;33m,\u001b[0m \u001b[0mkwds\u001b[0m\u001b[1;33m)\u001b[0m\u001b[1;33m\u001b[0m\u001b[1;33m\u001b[0m\u001b[0m\n\u001b[0m\u001b[0;32m    703\u001b[0m \u001b[1;33m\u001b[0m\u001b[0m\n\u001b[0;32m    704\u001b[0m     \u001b[0mparser_f\u001b[0m\u001b[1;33m.\u001b[0m\u001b[0m__name__\u001b[0m \u001b[1;33m=\u001b[0m \u001b[0mname\u001b[0m\u001b[1;33m\u001b[0m\u001b[1;33m\u001b[0m\u001b[0m\n",
      "\u001b[1;32m~\\Anaconda3\\lib\\site-packages\\pandas\\io\\parsers.py\u001b[0m in \u001b[0;36m_read\u001b[1;34m(filepath_or_buffer, kwds)\u001b[0m\n\u001b[0;32m    427\u001b[0m \u001b[1;33m\u001b[0m\u001b[0m\n\u001b[0;32m    428\u001b[0m     \u001b[1;31m# Create the parser.\u001b[0m\u001b[1;33m\u001b[0m\u001b[1;33m\u001b[0m\u001b[1;33m\u001b[0m\u001b[0m\n\u001b[1;32m--> 429\u001b[1;33m     \u001b[0mparser\u001b[0m \u001b[1;33m=\u001b[0m \u001b[0mTextFileReader\u001b[0m\u001b[1;33m(\u001b[0m\u001b[0mfilepath_or_buffer\u001b[0m\u001b[1;33m,\u001b[0m \u001b[1;33m**\u001b[0m\u001b[0mkwds\u001b[0m\u001b[1;33m)\u001b[0m\u001b[1;33m\u001b[0m\u001b[1;33m\u001b[0m\u001b[0m\n\u001b[0m\u001b[0;32m    430\u001b[0m \u001b[1;33m\u001b[0m\u001b[0m\n\u001b[0;32m    431\u001b[0m     \u001b[1;32mif\u001b[0m \u001b[0mchunksize\u001b[0m \u001b[1;32mor\u001b[0m \u001b[0miterator\u001b[0m\u001b[1;33m:\u001b[0m\u001b[1;33m\u001b[0m\u001b[1;33m\u001b[0m\u001b[0m\n",
      "\u001b[1;32m~\\Anaconda3\\lib\\site-packages\\pandas\\io\\parsers.py\u001b[0m in \u001b[0;36m__init__\u001b[1;34m(self, f, engine, **kwds)\u001b[0m\n\u001b[0;32m    893\u001b[0m             \u001b[0mself\u001b[0m\u001b[1;33m.\u001b[0m\u001b[0moptions\u001b[0m\u001b[1;33m[\u001b[0m\u001b[1;34m'has_index_names'\u001b[0m\u001b[1;33m]\u001b[0m \u001b[1;33m=\u001b[0m \u001b[0mkwds\u001b[0m\u001b[1;33m[\u001b[0m\u001b[1;34m'has_index_names'\u001b[0m\u001b[1;33m]\u001b[0m\u001b[1;33m\u001b[0m\u001b[1;33m\u001b[0m\u001b[0m\n\u001b[0;32m    894\u001b[0m \u001b[1;33m\u001b[0m\u001b[0m\n\u001b[1;32m--> 895\u001b[1;33m         \u001b[0mself\u001b[0m\u001b[1;33m.\u001b[0m\u001b[0m_make_engine\u001b[0m\u001b[1;33m(\u001b[0m\u001b[0mself\u001b[0m\u001b[1;33m.\u001b[0m\u001b[0mengine\u001b[0m\u001b[1;33m)\u001b[0m\u001b[1;33m\u001b[0m\u001b[1;33m\u001b[0m\u001b[0m\n\u001b[0m\u001b[0;32m    896\u001b[0m \u001b[1;33m\u001b[0m\u001b[0m\n\u001b[0;32m    897\u001b[0m     \u001b[1;32mdef\u001b[0m \u001b[0mclose\u001b[0m\u001b[1;33m(\u001b[0m\u001b[0mself\u001b[0m\u001b[1;33m)\u001b[0m\u001b[1;33m:\u001b[0m\u001b[1;33m\u001b[0m\u001b[1;33m\u001b[0m\u001b[0m\n",
      "\u001b[1;32m~\\Anaconda3\\lib\\site-packages\\pandas\\io\\parsers.py\u001b[0m in \u001b[0;36m_make_engine\u001b[1;34m(self, engine)\u001b[0m\n\u001b[0;32m   1120\u001b[0m     \u001b[1;32mdef\u001b[0m \u001b[0m_make_engine\u001b[0m\u001b[1;33m(\u001b[0m\u001b[0mself\u001b[0m\u001b[1;33m,\u001b[0m \u001b[0mengine\u001b[0m\u001b[1;33m=\u001b[0m\u001b[1;34m'c'\u001b[0m\u001b[1;33m)\u001b[0m\u001b[1;33m:\u001b[0m\u001b[1;33m\u001b[0m\u001b[1;33m\u001b[0m\u001b[0m\n\u001b[0;32m   1121\u001b[0m         \u001b[1;32mif\u001b[0m \u001b[0mengine\u001b[0m \u001b[1;33m==\u001b[0m \u001b[1;34m'c'\u001b[0m\u001b[1;33m:\u001b[0m\u001b[1;33m\u001b[0m\u001b[1;33m\u001b[0m\u001b[0m\n\u001b[1;32m-> 1122\u001b[1;33m             \u001b[0mself\u001b[0m\u001b[1;33m.\u001b[0m\u001b[0m_engine\u001b[0m \u001b[1;33m=\u001b[0m \u001b[0mCParserWrapper\u001b[0m\u001b[1;33m(\u001b[0m\u001b[0mself\u001b[0m\u001b[1;33m.\u001b[0m\u001b[0mf\u001b[0m\u001b[1;33m,\u001b[0m \u001b[1;33m**\u001b[0m\u001b[0mself\u001b[0m\u001b[1;33m.\u001b[0m\u001b[0moptions\u001b[0m\u001b[1;33m)\u001b[0m\u001b[1;33m\u001b[0m\u001b[1;33m\u001b[0m\u001b[0m\n\u001b[0m\u001b[0;32m   1123\u001b[0m         \u001b[1;32melse\u001b[0m\u001b[1;33m:\u001b[0m\u001b[1;33m\u001b[0m\u001b[1;33m\u001b[0m\u001b[0m\n\u001b[0;32m   1124\u001b[0m             \u001b[1;32mif\u001b[0m \u001b[0mengine\u001b[0m \u001b[1;33m==\u001b[0m \u001b[1;34m'python'\u001b[0m\u001b[1;33m:\u001b[0m\u001b[1;33m\u001b[0m\u001b[1;33m\u001b[0m\u001b[0m\n",
      "\u001b[1;32m~\\Anaconda3\\lib\\site-packages\\pandas\\io\\parsers.py\u001b[0m in \u001b[0;36m__init__\u001b[1;34m(self, src, **kwds)\u001b[0m\n\u001b[0;32m   1851\u001b[0m         \u001b[0mkwds\u001b[0m\u001b[1;33m[\u001b[0m\u001b[1;34m'usecols'\u001b[0m\u001b[1;33m]\u001b[0m \u001b[1;33m=\u001b[0m \u001b[0mself\u001b[0m\u001b[1;33m.\u001b[0m\u001b[0musecols\u001b[0m\u001b[1;33m\u001b[0m\u001b[1;33m\u001b[0m\u001b[0m\n\u001b[0;32m   1852\u001b[0m \u001b[1;33m\u001b[0m\u001b[0m\n\u001b[1;32m-> 1853\u001b[1;33m         \u001b[0mself\u001b[0m\u001b[1;33m.\u001b[0m\u001b[0m_reader\u001b[0m \u001b[1;33m=\u001b[0m \u001b[0mparsers\u001b[0m\u001b[1;33m.\u001b[0m\u001b[0mTextReader\u001b[0m\u001b[1;33m(\u001b[0m\u001b[0msrc\u001b[0m\u001b[1;33m,\u001b[0m \u001b[1;33m**\u001b[0m\u001b[0mkwds\u001b[0m\u001b[1;33m)\u001b[0m\u001b[1;33m\u001b[0m\u001b[1;33m\u001b[0m\u001b[0m\n\u001b[0m\u001b[0;32m   1854\u001b[0m         \u001b[0mself\u001b[0m\u001b[1;33m.\u001b[0m\u001b[0munnamed_cols\u001b[0m \u001b[1;33m=\u001b[0m \u001b[0mself\u001b[0m\u001b[1;33m.\u001b[0m\u001b[0m_reader\u001b[0m\u001b[1;33m.\u001b[0m\u001b[0munnamed_cols\u001b[0m\u001b[1;33m\u001b[0m\u001b[1;33m\u001b[0m\u001b[0m\n\u001b[0;32m   1855\u001b[0m \u001b[1;33m\u001b[0m\u001b[0m\n",
      "\u001b[1;32mpandas/_libs/parsers.pyx\u001b[0m in \u001b[0;36mpandas._libs.parsers.TextReader.__cinit__\u001b[1;34m()\u001b[0m\n",
      "\u001b[1;32mpandas/_libs/parsers.pyx\u001b[0m in \u001b[0;36mpandas._libs.parsers.TextReader._setup_parser_source\u001b[1;34m()\u001b[0m\n",
      "\u001b[1;32m~\\Anaconda3\\lib\\genericpath.py\u001b[0m in \u001b[0;36mexists\u001b[1;34m(path)\u001b[0m\n\u001b[0;32m     17\u001b[0m     \u001b[1;34m\"\"\"Test whether a path exists.  Returns False for broken symbolic links\"\"\"\u001b[0m\u001b[1;33m\u001b[0m\u001b[1;33m\u001b[0m\u001b[0m\n\u001b[0;32m     18\u001b[0m     \u001b[1;32mtry\u001b[0m\u001b[1;33m:\u001b[0m\u001b[1;33m\u001b[0m\u001b[1;33m\u001b[0m\u001b[0m\n\u001b[1;32m---> 19\u001b[1;33m         \u001b[0mos\u001b[0m\u001b[1;33m.\u001b[0m\u001b[0mstat\u001b[0m\u001b[1;33m(\u001b[0m\u001b[0mpath\u001b[0m\u001b[1;33m)\u001b[0m\u001b[1;33m\u001b[0m\u001b[1;33m\u001b[0m\u001b[0m\n\u001b[0m\u001b[0;32m     20\u001b[0m     \u001b[1;32mexcept\u001b[0m \u001b[0mOSError\u001b[0m\u001b[1;33m:\u001b[0m\u001b[1;33m\u001b[0m\u001b[1;33m\u001b[0m\u001b[0m\n\u001b[0;32m     21\u001b[0m         \u001b[1;32mreturn\u001b[0m \u001b[1;32mFalse\u001b[0m\u001b[1;33m\u001b[0m\u001b[1;33m\u001b[0m\u001b[0m\n",
      "\u001b[1;31mUnicodeDecodeError\u001b[0m: 'utf-8' codec can't decode byte 0xb8 in position 20: invalid start byte"
     ]
    }
   ],
   "source": [
    "unemployment_df = pd.read_csv('./data/Unemployment_Rate_NY_by_zipcode.csv')"
   ]
  },
  {
   "cell_type": "markdown",
   "metadata": {
    "colab_type": "text",
    "id": "FMxkLsSRG95a"
   },
   "source": [
    "## Import external Population dataset from NYC OpenData\n",
    " - dataset source (https://data.cityofnewyork.us/City-Government/New-York-City-Population-By-Neighborhood-Tabulatio/swpk-hqdp).\n",
    " - This population dataset from NYC OpenData is based on neighbourhood, we can append neighbourhood_population to eash row"
   ]
  },
  {
   "cell_type": "code",
   "execution_count": 0,
   "metadata": {
    "colab": {},
    "colab_type": "code",
    "id": "MzkL5NE0G95b"
   },
   "outputs": [],
   "source": [
    "# import dataset\n",
    "poulation_df = pd.read_csv('./data/NYC_Population.csv', index_col=0)"
   ]
  },
  {
   "cell_type": "code",
   "execution_count": 0,
   "metadata": {
    "colab": {},
    "colab_type": "code",
    "id": "Xov6NdDBG95f",
    "outputId": "f0e0b76b-7306-4114-d102-5a8fe880e8f6"
   },
   "outputs": [
    {
     "data": {
      "text/html": [
       "<div>\n",
       "<style scoped>\n",
       "    .dataframe tbody tr th:only-of-type {\n",
       "        vertical-align: middle;\n",
       "    }\n",
       "\n",
       "    .dataframe tbody tr th {\n",
       "        vertical-align: top;\n",
       "    }\n",
       "\n",
       "    .dataframe thead th {\n",
       "        text-align: right;\n",
       "    }\n",
       "</style>\n",
       "<table border=\"1\" class=\"dataframe\">\n",
       "  <thead>\n",
       "    <tr style=\"text-align: right;\">\n",
       "      <th></th>\n",
       "      <th>neighborhood</th>\n",
       "      <th>neighborhood_population</th>\n",
       "    </tr>\n",
       "    <tr>\n",
       "      <th>Borough</th>\n",
       "      <th></th>\n",
       "      <th></th>\n",
       "    </tr>\n",
       "  </thead>\n",
       "  <tbody>\n",
       "    <tr>\n",
       "      <th>Bronx</th>\n",
       "      <td>Claremont-Bathgate</td>\n",
       "      <td>31078</td>\n",
       "    </tr>\n",
       "    <tr>\n",
       "      <th>Bronx</th>\n",
       "      <td>Eastchester-Edenwald-Baychester</td>\n",
       "      <td>34517</td>\n",
       "    </tr>\n",
       "    <tr>\n",
       "      <th>Bronx</th>\n",
       "      <td>Bedford Park-Fordham North</td>\n",
       "      <td>54415</td>\n",
       "    </tr>\n",
       "    <tr>\n",
       "      <th>Bronx</th>\n",
       "      <td>Belmont</td>\n",
       "      <td>27378</td>\n",
       "    </tr>\n",
       "    <tr>\n",
       "      <th>Bronx</th>\n",
       "      <td>Bronxdale</td>\n",
       "      <td>35538</td>\n",
       "    </tr>\n",
       "    <tr>\n",
       "      <th>Bronx</th>\n",
       "      <td>West Farms-Bronx River</td>\n",
       "      <td>35011</td>\n",
       "    </tr>\n",
       "    <tr>\n",
       "      <th>Bronx</th>\n",
       "      <td>Soundview-Castle Hill-Clason Point-Harding Park</td>\n",
       "      <td>53686</td>\n",
       "    </tr>\n",
       "    <tr>\n",
       "      <th>Bronx</th>\n",
       "      <td>Pelham Bay-Country Club-City Island</td>\n",
       "      <td>26583</td>\n",
       "    </tr>\n",
       "    <tr>\n",
       "      <th>Bronx</th>\n",
       "      <td>Co-Op City</td>\n",
       "      <td>43752</td>\n",
       "    </tr>\n",
       "    <tr>\n",
       "      <th>Bronx</th>\n",
       "      <td>East Concourse-Concourse Village</td>\n",
       "      <td>62284</td>\n",
       "    </tr>\n",
       "  </tbody>\n",
       "</table>\n",
       "</div>"
      ],
      "text/plain": [
       "                                            neighborhood  \\\n",
       "Borough                                                    \n",
       "Bronx                                 Claremont-Bathgate   \n",
       "Bronx                    Eastchester-Edenwald-Baychester   \n",
       "Bronx                         Bedford Park-Fordham North   \n",
       "Bronx                                            Belmont   \n",
       "Bronx                                          Bronxdale   \n",
       "Bronx                             West Farms-Bronx River   \n",
       "Bronx    Soundview-Castle Hill-Clason Point-Harding Park   \n",
       "Bronx                Pelham Bay-Country Club-City Island   \n",
       "Bronx                                         Co-Op City   \n",
       "Bronx                   East Concourse-Concourse Village   \n",
       "\n",
       "         neighborhood_population  \n",
       "Borough                           \n",
       "Bronx                      31078  \n",
       "Bronx                      34517  \n",
       "Bronx                      54415  \n",
       "Bronx                      27378  \n",
       "Bronx                      35538  \n",
       "Bronx                      35011  \n",
       "Bronx                      53686  \n",
       "Bronx                      26583  \n",
       "Bronx                      43752  \n",
       "Bronx                      62284  "
      ]
     },
     "execution_count": 18,
     "metadata": {
      "tags": []
     },
     "output_type": "execute_result"
    }
   ],
   "source": [
    "# dataset contain 2010 and 2000 datas, we only take 2010 data\n",
    "poulation_df = poulation_df[poulation_df['Year']==2010]\n",
    "poulation_df = poulation_df[['NTA Name','Population']]\n",
    "poulation_df.rename(columns={'NTA Name':'neighborhood','Population':\"neighborhood_population\"}, inplace=True)\n",
    "poulation_df.head(10)"
   ]
  },
  {
   "cell_type": "code",
   "execution_count": 0,
   "metadata": {
    "colab": {},
    "colab_type": "code",
    "id": "_zxXC7aRG95h"
   },
   "outputs": [],
   "source": [
    "# join the train datasets with population dataset\n",
    "raw_df=raw_df.reset_index().merge(poulation_df, how=\"left\",on='neighborhood').set_index('rental_id')\n",
    "raw_test2_df=raw_test2_df.reset_index().merge(poulation_df, how=\"left\",on='neighborhood').set_index('rental_id')"
   ]
  },
  {
   "cell_type": "markdown",
   "metadata": {
    "colab_type": "text",
    "id": "E9P4E7UCG95k"
   },
   "source": [
    "- We join two datasets by using 'neighborhood', but some of the 'neighborhood' names are not exact the same\n",
    "- For those neighborhood name can't find in the population_df, we try to look for substring match"
   ]
  },
  {
   "cell_type": "code",
   "execution_count": 0,
   "metadata": {
    "colab": {},
    "colab_type": "code",
    "id": "wYvnDL8VG95k"
   },
   "outputs": [],
   "source": [
    "\n",
    "def joinPopulation(df):\n",
    "    for neighborhood in pd.unique(df.neighborhood.values):\n",
    "        if neighborhood != neighborhood:\n",
    "            continue\n",
    "        population = df.loc[df['neighborhood'] == neighborhood,'neighborhood_population'].mean()\n",
    "        if population == population:\n",
    "            continue\n",
    "        match_rows = poulation_df['neighborhood'].str.match(neighborhood)\n",
    "        mean_population =poulation_df[match_rows]['neighborhood_population'].mean()\n",
    "        df.loc[df['neighborhood'] == neighborhood, 'neighborhood_population'] = mean_population\n",
    "joinPopulation(raw_df)\n",
    "joinPopulation(raw_test2_df)"
   ]
  },
  {
   "cell_type": "code",
   "execution_count": 0,
   "metadata": {
    "colab": {},
    "colab_type": "code",
    "id": "BV4jp7yPG95o"
   },
   "outputs": [],
   "source": [
    "raw_df['neighborhood_population'].fillna(raw_df['neighborhood_population'].mean(), inplace=True)\n",
    "raw_test2_df['neighborhood_population'].fillna(raw_test2_df['neighborhood_population'].mean(), inplace=True)"
   ]
  },
  {
   "cell_type": "markdown",
   "metadata": {
    "colab_type": "text",
    "id": "cQF3iHHBHgOm"
   },
   "source": [
    "## Import external housing sale price dataset\n",
    " - dataset source (https://www.kaggle.com/new-york-city/nyc-property-sales)."
   ]
  },
  {
   "cell_type": "code",
   "execution_count": 25,
   "metadata": {
    "colab": {
     "base_uri": "https://localhost:8080/",
     "height": 34
    },
    "colab_type": "code",
    "id": "2RBrhWfVHfCa",
    "outputId": "807730e0-9a1d-401d-e8b1-a87d4ca5b175"
   },
   "outputs": [
    {
     "data": {
      "text/plain": [
       "Index(['ave_sale_price', 'addr_zip'], dtype='object')"
      ]
     },
     "execution_count": 25,
     "metadata": {},
     "output_type": "execute_result"
    }
   ],
   "source": [
    "sale_df =  pd.read_csv('./data/sale_price.csv')\n",
    "sale_df.columns"
   ]
  },
  {
   "cell_type": "code",
   "execution_count": 0,
   "metadata": {
    "colab": {},
    "colab_type": "code",
    "id": "9Nqw3-mAItSE"
   },
   "outputs": [],
   "source": [
    "raw_test2_df=raw_test2_df.reset_index().merge(sale_df, how=\"left\",on='addr_zip').set_index('rental_id')\n",
    "raw_df=raw_df.reset_index().merge(sale_df, how=\"left\",on='addr_zip').set_index('rental_id')"
   ]
  },
  {
   "cell_type": "code",
   "execution_count": 7,
   "metadata": {
    "colab": {
     "base_uri": "https://localhost:8080/",
     "height": 1000
    },
    "colab_type": "code",
    "id": "JgWETEMuI6mr",
    "outputId": "635c2ffb-6bf3-49cd-fa4f-d0e453c4fe24"
   },
   "outputs": [
    {
     "data": {
      "text/html": [
       "<div>\n",
       "<style scoped>\n",
       "    .dataframe tbody tr th:only-of-type {\n",
       "        vertical-align: middle;\n",
       "    }\n",
       "\n",
       "    .dataframe tbody tr th {\n",
       "        vertical-align: top;\n",
       "    }\n",
       "\n",
       "    .dataframe thead th {\n",
       "        text-align: right;\n",
       "    }\n",
       "</style>\n",
       "<table border=\"1\" class=\"dataframe\">\n",
       "  <thead>\n",
       "    <tr style=\"text-align: right;\">\n",
       "      <th>rental_id</th>\n",
       "      <th>7236931</th>\n",
       "      <th>7331920</th>\n",
       "      <th>7139224</th>\n",
       "      <th>7364827</th>\n",
       "      <th>7242151</th>\n",
       "    </tr>\n",
       "  </thead>\n",
       "  <tbody>\n",
       "    <tr>\n",
       "      <th>addr_unit</th>\n",
       "      <td>#22A</td>\n",
       "      <td>#406</td>\n",
       "      <td>#18A</td>\n",
       "      <td>#23E</td>\n",
       "      <td>#3B</td>\n",
       "    </tr>\n",
       "    <tr>\n",
       "      <th>building_id</th>\n",
       "      <td>551248</td>\n",
       "      <td>3373</td>\n",
       "      <td>70747</td>\n",
       "      <td>42076</td>\n",
       "      <td>319156</td>\n",
       "    </tr>\n",
       "    <tr>\n",
       "      <th>bedrooms</th>\n",
       "      <td>4</td>\n",
       "      <td>0</td>\n",
       "      <td>3</td>\n",
       "      <td>1</td>\n",
       "      <td>3</td>\n",
       "    </tr>\n",
       "    <tr>\n",
       "      <th>bathrooms</th>\n",
       "      <td>3</td>\n",
       "      <td>1</td>\n",
       "      <td>3</td>\n",
       "      <td>1</td>\n",
       "      <td>1</td>\n",
       "    </tr>\n",
       "    <tr>\n",
       "      <th>size_sqft</th>\n",
       "      <td>1300</td>\n",
       "      <td>475</td>\n",
       "      <td>1886</td>\n",
       "      <td>827</td>\n",
       "      <td>1200</td>\n",
       "    </tr>\n",
       "    <tr>\n",
       "      <th>created_at</th>\n",
       "      <td>2018-06-04 16:31:06</td>\n",
       "      <td>2018-07-03 20:11:43</td>\n",
       "      <td>2018-05-02 16:10:27</td>\n",
       "      <td>2018-07-13 16:06:55</td>\n",
       "      <td>2018-06-05 16:35:40</td>\n",
       "    </tr>\n",
       "    <tr>\n",
       "      <th>addr_street</th>\n",
       "      <td>645 OCEAN AVENUE</td>\n",
       "      <td>93 WORTH STREET</td>\n",
       "      <td>305 EAST 51 STREET</td>\n",
       "      <td>70 WEST 37TH STREET</td>\n",
       "      <td>43 MAC DONOUGH STREET</td>\n",
       "    </tr>\n",
       "    <tr>\n",
       "      <th>addr_city</th>\n",
       "      <td>Brooklyn</td>\n",
       "      <td>New York</td>\n",
       "      <td>New York</td>\n",
       "      <td>New York</td>\n",
       "      <td>Brooklyn</td>\n",
       "    </tr>\n",
       "    <tr>\n",
       "      <th>addr_zip</th>\n",
       "      <td>11226</td>\n",
       "      <td>10013</td>\n",
       "      <td>10022</td>\n",
       "      <td>10018</td>\n",
       "      <td>11216</td>\n",
       "    </tr>\n",
       "    <tr>\n",
       "      <th>addr_lat</th>\n",
       "      <td>40.647</td>\n",
       "      <td>40.7166</td>\n",
       "      <td>40.7554</td>\n",
       "      <td>40.7513</td>\n",
       "      <td>40.6811</td>\n",
       "    </tr>\n",
       "    <tr>\n",
       "      <th>addr_lon</th>\n",
       "      <td>-73.9601</td>\n",
       "      <td>-74.0048</td>\n",
       "      <td>-73.9676</td>\n",
       "      <td>-73.9863</td>\n",
       "      <td>-73.9447</td>\n",
       "    </tr>\n",
       "    <tr>\n",
       "      <th>bin</th>\n",
       "      <td>3.11762e+06</td>\n",
       "      <td>1.00188e+06</td>\n",
       "      <td>1.03968e+06</td>\n",
       "      <td>1.01592e+06</td>\n",
       "      <td>3.05334e+06</td>\n",
       "    </tr>\n",
       "    <tr>\n",
       "      <th>bbl</th>\n",
       "      <td>3051240001</td>\n",
       "      <td>1001737504</td>\n",
       "      <td>1013440001</td>\n",
       "      <td>1008380001</td>\n",
       "      <td>3018510053</td>\n",
       "    </tr>\n",
       "    <tr>\n",
       "      <th>floor_count</th>\n",
       "      <td>6</td>\n",
       "      <td>17</td>\n",
       "      <td>33</td>\n",
       "      <td>24</td>\n",
       "      <td>4</td>\n",
       "    </tr>\n",
       "    <tr>\n",
       "      <th>year_built</th>\n",
       "      <td>1929</td>\n",
       "      <td>2014</td>\n",
       "      <td>2013</td>\n",
       "      <td>2019</td>\n",
       "      <td>1931</td>\n",
       "    </tr>\n",
       "    <tr>\n",
       "      <th>min_to_subway</th>\n",
       "      <td>3.35</td>\n",
       "      <td>3.2333</td>\n",
       "      <td>3.05</td>\n",
       "      <td>2</td>\n",
       "      <td>2.1333</td>\n",
       "    </tr>\n",
       "    <tr>\n",
       "      <th>has_doorman</th>\n",
       "      <td>0</td>\n",
       "      <td>1</td>\n",
       "      <td>1</td>\n",
       "      <td>1</td>\n",
       "      <td>0</td>\n",
       "    </tr>\n",
       "    <tr>\n",
       "      <th>has_elevator</th>\n",
       "      <td>1</td>\n",
       "      <td>1</td>\n",
       "      <td>1</td>\n",
       "      <td>1</td>\n",
       "      <td>0</td>\n",
       "    </tr>\n",
       "    <tr>\n",
       "      <th>has_fireplace</th>\n",
       "      <td>0</td>\n",
       "      <td>0</td>\n",
       "      <td>0</td>\n",
       "      <td>0</td>\n",
       "      <td>0</td>\n",
       "    </tr>\n",
       "    <tr>\n",
       "      <th>has_dishwasher</th>\n",
       "      <td>1</td>\n",
       "      <td>1</td>\n",
       "      <td>1</td>\n",
       "      <td>1</td>\n",
       "      <td>0</td>\n",
       "    </tr>\n",
       "    <tr>\n",
       "      <th>is_furnished</th>\n",
       "      <td>0</td>\n",
       "      <td>0</td>\n",
       "      <td>0</td>\n",
       "      <td>0</td>\n",
       "      <td>0</td>\n",
       "    </tr>\n",
       "    <tr>\n",
       "      <th>has_gym</th>\n",
       "      <td>0</td>\n",
       "      <td>1</td>\n",
       "      <td>1</td>\n",
       "      <td>1</td>\n",
       "      <td>0</td>\n",
       "    </tr>\n",
       "    <tr>\n",
       "      <th>allows_pets</th>\n",
       "      <td>1</td>\n",
       "      <td>1</td>\n",
       "      <td>1</td>\n",
       "      <td>1</td>\n",
       "      <td>1</td>\n",
       "    </tr>\n",
       "    <tr>\n",
       "      <th>has_washer_dryer</th>\n",
       "      <td>1</td>\n",
       "      <td>1</td>\n",
       "      <td>0</td>\n",
       "      <td>0</td>\n",
       "      <td>0</td>\n",
       "    </tr>\n",
       "    <tr>\n",
       "      <th>has_garage</th>\n",
       "      <td>0</td>\n",
       "      <td>0</td>\n",
       "      <td>1</td>\n",
       "      <td>1</td>\n",
       "      <td>0</td>\n",
       "    </tr>\n",
       "    <tr>\n",
       "      <th>has_roofdeck</th>\n",
       "      <td>0</td>\n",
       "      <td>1</td>\n",
       "      <td>0</td>\n",
       "      <td>1</td>\n",
       "      <td>0</td>\n",
       "    </tr>\n",
       "    <tr>\n",
       "      <th>has_concierge</th>\n",
       "      <td>0</td>\n",
       "      <td>1</td>\n",
       "      <td>0</td>\n",
       "      <td>1</td>\n",
       "      <td>0</td>\n",
       "    </tr>\n",
       "    <tr>\n",
       "      <th>has_pool</th>\n",
       "      <td>0</td>\n",
       "      <td>0</td>\n",
       "      <td>1</td>\n",
       "      <td>0</td>\n",
       "      <td>0</td>\n",
       "    </tr>\n",
       "    <tr>\n",
       "      <th>has_garden</th>\n",
       "      <td>0</td>\n",
       "      <td>0</td>\n",
       "      <td>1</td>\n",
       "      <td>0</td>\n",
       "      <td>0</td>\n",
       "    </tr>\n",
       "    <tr>\n",
       "      <th>has_childrens_playroom</th>\n",
       "      <td>0</td>\n",
       "      <td>0</td>\n",
       "      <td>0</td>\n",
       "      <td>0</td>\n",
       "      <td>0</td>\n",
       "    </tr>\n",
       "    <tr>\n",
       "      <th>rent</th>\n",
       "      <td>3925</td>\n",
       "      <td>3350</td>\n",
       "      <td>11500</td>\n",
       "      <td>3772</td>\n",
       "      <td>2595</td>\n",
       "    </tr>\n",
       "    <tr>\n",
       "      <th>no_fee</th>\n",
       "      <td>1</td>\n",
       "      <td>0</td>\n",
       "      <td>0</td>\n",
       "      <td>1</td>\n",
       "      <td>1</td>\n",
       "    </tr>\n",
       "    <tr>\n",
       "      <th>description</th>\n",
       "      <td>MAGNIFICENT GUT RENOVATED 4 BEDROOM 3 BATHROOM...</td>\n",
       "      <td>Want to live in the hottest neighborhood in to...</td>\n",
       "      <td>High floor totally renovated 3 bedrooms, 3 bat...</td>\n",
       "      <td>**SHORT TERM LEASES AVAILABLE**\\n\\n****Photogr...</td>\n",
       "      <td>This is a Huuge 3 bedroom apt. located in a pr...</td>\n",
       "    </tr>\n",
       "    <tr>\n",
       "      <th>neighborhood</th>\n",
       "      <td>Flatbush</td>\n",
       "      <td>Tribeca</td>\n",
       "      <td>Midtown East</td>\n",
       "      <td>Midtown South</td>\n",
       "      <td>Bedford-Stuyvesant</td>\n",
       "    </tr>\n",
       "    <tr>\n",
       "      <th>borough</th>\n",
       "      <td>Brooklyn</td>\n",
       "      <td>Manhattan</td>\n",
       "      <td>Manhattan</td>\n",
       "      <td>Manhattan</td>\n",
       "      <td>Brooklyn</td>\n",
       "    </tr>\n",
       "    <tr>\n",
       "      <th>unit</th>\n",
       "      <td>22A</td>\n",
       "      <td>406</td>\n",
       "      <td>18A</td>\n",
       "      <td>23E</td>\n",
       "      <td>3B</td>\n",
       "    </tr>\n",
       "    <tr>\n",
       "      <th>floornumber</th>\n",
       "      <td>NaN</td>\n",
       "      <td>4</td>\n",
       "      <td>18</td>\n",
       "      <td>23</td>\n",
       "      <td>3</td>\n",
       "    </tr>\n",
       "    <tr>\n",
       "      <th>line</th>\n",
       "      <td>NaN</td>\n",
       "      <td>06</td>\n",
       "      <td>A</td>\n",
       "      <td>E</td>\n",
       "      <td>B</td>\n",
       "    </tr>\n",
       "    <tr>\n",
       "      <th>ave_sale_price</th>\n",
       "      <td>966203</td>\n",
       "      <td>5.11762e+06</td>\n",
       "      <td>2.75991e+06</td>\n",
       "      <td>7.02397e+06</td>\n",
       "      <td>993125</td>\n",
       "    </tr>\n",
       "  </tbody>\n",
       "</table>\n",
       "</div>"
      ],
      "text/plain": [
       "rental_id                                                         7236931  ...                                            7242151\n",
       "addr_unit                                                            #22A  ...                                                #3B\n",
       "building_id                                                        551248  ...                                             319156\n",
       "bedrooms                                                                4  ...                                                  3\n",
       "bathrooms                                                               3  ...                                                  1\n",
       "size_sqft                                                            1300  ...                                               1200\n",
       "created_at                                            2018-06-04 16:31:06  ...                                2018-06-05 16:35:40\n",
       "addr_street                                              645 OCEAN AVENUE  ...                              43 MAC DONOUGH STREET\n",
       "addr_city                                                        Brooklyn  ...                                           Brooklyn\n",
       "addr_zip                                                            11226  ...                                              11216\n",
       "addr_lat                                                           40.647  ...                                            40.6811\n",
       "addr_lon                                                         -73.9601  ...                                           -73.9447\n",
       "bin                                                           3.11762e+06  ...                                        3.05334e+06\n",
       "bbl                                                            3051240001  ...                                         3018510053\n",
       "floor_count                                                             6  ...                                                  4\n",
       "year_built                                                           1929  ...                                               1931\n",
       "min_to_subway                                                        3.35  ...                                             2.1333\n",
       "has_doorman                                                             0  ...                                                  0\n",
       "has_elevator                                                            1  ...                                                  0\n",
       "has_fireplace                                                           0  ...                                                  0\n",
       "has_dishwasher                                                          1  ...                                                  0\n",
       "is_furnished                                                            0  ...                                                  0\n",
       "has_gym                                                                 0  ...                                                  0\n",
       "allows_pets                                                             1  ...                                                  1\n",
       "has_washer_dryer                                                        1  ...                                                  0\n",
       "has_garage                                                              0  ...                                                  0\n",
       "has_roofdeck                                                            0  ...                                                  0\n",
       "has_concierge                                                           0  ...                                                  0\n",
       "has_pool                                                                0  ...                                                  0\n",
       "has_garden                                                              0  ...                                                  0\n",
       "has_childrens_playroom                                                  0  ...                                                  0\n",
       "rent                                                                 3925  ...                                               2595\n",
       "no_fee                                                                  1  ...                                                  1\n",
       "description             MAGNIFICENT GUT RENOVATED 4 BEDROOM 3 BATHROOM...  ...  This is a Huuge 3 bedroom apt. located in a pr...\n",
       "neighborhood                                                     Flatbush  ...                                 Bedford-Stuyvesant\n",
       "borough                                                          Brooklyn  ...                                           Brooklyn\n",
       "unit                                                                  22A  ...                                                 3B\n",
       "floornumber                                                           NaN  ...                                                  3\n",
       "line                                                                  NaN  ...                                                  B\n",
       "ave_sale_price                                                     966203  ...                                             993125\n",
       "\n",
       "[39 rows x 5 columns]"
      ]
     },
     "execution_count": 7,
     "metadata": {
      "tags": []
     },
     "output_type": "execute_result"
    }
   ],
   "source": [
    "raw_df.head(5).T"
   ]
  },
  {
   "cell_type": "markdown",
   "metadata": {
    "colab_type": "text",
    "id": "Sq-lexQfz50m"
   },
   "source": [
    "# Data Cleaning"
   ]
  },
  {
   "cell_type": "markdown",
   "metadata": {
    "colab_type": "text",
    "id": "g_YNLB4Lz50n"
   },
   "source": [
    "\n",
    "### Handling missing data\n",
    "In order to handle missing data in this dataset, we frist find and count all the null values."
   ]
  },
  {
   "cell_type": "code",
   "execution_count": 0,
   "metadata": {
    "colab": {},
    "colab_type": "code",
    "id": "IBbbVEkLz50q",
    "outputId": "05f679c4-20ad-4541-faa1-d1747e07fd0e"
   },
   "outputs": [
    {
     "data": {
      "text/plain": [
       "addr_unit                   110\n",
       "building_id                   0\n",
       "bedrooms                      0\n",
       "bathrooms                     0\n",
       "size_sqft                     0\n",
       "created_at                    0\n",
       "addr_street                   0\n",
       "addr_city                     0\n",
       "addr_zip                      0\n",
       "addr_lat                      0\n",
       "addr_lon                      0\n",
       "bin                           1\n",
       "bbl                           0\n",
       "floor_count                   0\n",
       "year_built                  470\n",
       "min_to_subway               143\n",
       "has_doorman                   0\n",
       "has_elevator                  0\n",
       "has_fireplace                 0\n",
       "has_dishwasher                0\n",
       "is_furnished                  0\n",
       "has_gym                       0\n",
       "allows_pets                   0\n",
       "has_washer_dryer              0\n",
       "has_garage                    0\n",
       "has_roofdeck                  0\n",
       "has_concierge                 0\n",
       "has_pool                      0\n",
       "has_garden                    0\n",
       "has_childrens_playroom        0\n",
       "rent                          0\n",
       "no_fee                        0\n",
       "description                  16\n",
       "neighborhood                  3\n",
       "borough                       0\n",
       "unit                        114\n",
       "floornumber                1502\n",
       "line                       4135\n",
       "zip_average_income            0\n",
       "neighborhood_population       0\n",
       "dtype: int64"
      ]
     },
     "execution_count": 22,
     "metadata": {
      "tags": []
     },
     "output_type": "execute_result"
    }
   ],
   "source": [
    "raw_df.isna().sum()"
   ]
  },
  {
   "cell_type": "markdown",
   "metadata": {
    "colab_type": "text",
    "id": "UrIsCH6xz50t"
   },
   "source": [
    "As we can see from the result,there are missing data appearing on: \n",
    "- addr_unit\n",
    "- bin \n",
    "- year_built \n",
    "- min_to_subway \n",
    "- description \n",
    "- neighborhood \n",
    "- unit \n",
    "- floornumber \n",
    "- line \n",
    "\n",
    "Continuous features floornumber, year_built and min_to_subway has impact on the rent, so we will fill with mode or mean. For catagorigious feature neighborhood, we will not use it in building model, because it has too many possible values."
   ]
  },
  {
   "cell_type": "code",
   "execution_count": 0,
   "metadata": {
    "colab": {
     "base_uri": "https://localhost:8080/",
     "height": 51
    },
    "colab_type": "code",
    "id": "TlnpEmrkz50t",
    "outputId": "5f13938f-bd73-476f-d1f5-2fa6a0e33967"
   },
   "outputs": [
    {
     "name": "stdout",
     "output_type": "stream",
     "text": [
      "original shape of dataset: (14000, 40)\n",
      "shape of dataset after handling missing data, should stay the same: (14000, 40)\n"
     ]
    }
   ],
   "source": [
    "md_df = raw_df\n",
    "\n",
    "md_df['floornumber'].fillna(md_df['floornumber'].mode()[0], inplace=True)\n",
    "raw_test2_df['floornumber'].fillna(raw_test2_df['floornumber'].mode()[0], inplace=True)\n",
    "\n",
    "md_df['min_to_subway'].fillna(md_df['min_to_subway'].mean(), inplace=True)\n",
    "raw_test2_df['min_to_subway'].fillna(raw_test2_df['min_to_subway'].mean(), inplace=True)\n",
    "\n",
    "md_df['year_built'].fillna(md_df['year_built'].mean(), inplace=True)\n",
    "raw_test2_df['year_built'].fillna(raw_test2_df['year_built'].mean(), inplace=True)\n",
    "\n",
    "print(\"original shape of dataset:\",raw_df.shape)\n",
    "print(\"shape of dataset after handling missing data, should stay the same:\",md_df.shape)"
   ]
  },
  {
   "cell_type": "markdown",
   "metadata": {
    "colab_type": "text",
    "id": "TeWzSum5z50w"
   },
   "source": [
    "## Remove outliers"
   ]
  },
  {
   "cell_type": "code",
   "execution_count": 0,
   "metadata": {
    "colab": {},
    "colab_type": "code",
    "id": "5ZlyWStHz50w",
    "outputId": "8f0581aa-c64c-423e-b272-3be0a0cc3b6f"
   },
   "outputs": [
    {
     "data": {
      "image/png": "[encoded data removed]",
      "text/plain": [
       "<Figure size 432x288 with 1 Axes>"
      ]
     },
     "metadata": {
      "needs_background": "light",
      "tags": []
     },
     "output_type": "display_data"
    },
    {
     "data": {
      "image/png": "[encoded data removed]",
      "text/plain": [
       "<Figure size 432x288 with 1 Axes>"
      ]
     },
     "metadata": {
      "needs_background": "light",
      "tags": []
     },
     "output_type": "display_data"
    },
    {
     "data": {
      "image/png": "[encoded data removed]",
      "text/plain": [
       "<Figure size 432x288 with 1 Axes>"
      ]
     },
     "metadata": {
      "needs_background": "light",
      "tags": []
     },
     "output_type": "display_data"
    },
    {
     "data": {
      "image/png": "[encoded data removed]",
      "text/plain": [
       "<Figure size 432x288 with 1 Axes>"
      ]
     },
     "metadata": {
      "needs_background": "light",
      "tags": []
     },
     "output_type": "display_data"
    },
    {
     "data": {
      "image/png": "[encoded data removed]",
      "text/plain": [
       "<Figure size 432x288 with 1 Axes>"
      ]
     },
     "metadata": {
      "needs_background": "light",
      "tags": []
     },
     "output_type": "display_data"
    },
    {
     "data": {
      "image/png": "[encoded data removed]",
      "text/plain": [
       "<Figure size 432x288 with 1 Axes>"
      ]
     },
     "metadata": {
      "needs_background": "light",
      "tags": []
     },
     "output_type": "display_data"
    },
    {
     "data": {
      "image/png": "[encoded data removed]",
      "text/plain": [
       "<Figure size 432x288 with 1 Axes>"
      ]
     },
     "metadata": {
      "needs_background": "light",
      "tags": []
     },
     "output_type": "display_data"
    },
    {
     "data": {
      "image/png": "[encoded data removed]",
      "text/plain": [
       "<Figure size 432x288 with 1 Axes>"
      ]
     },
     "metadata": {
      "needs_background": "light",
      "tags": []
     },
     "output_type": "display_data"
    }
   ],
   "source": [
    "for feature in continuous_features:\n",
    "    md_df.plot.scatter(feature, 'rent')"
   ]
  },
  {
   "cell_type": "code",
   "execution_count": 0,
   "metadata": {
    "colab": {},
    "colab_type": "code",
    "id": "nSGretTYz50z",
    "outputId": "f714b8a2-7394-4ba9-c813-c0ec65208dbf"
   },
   "outputs": [
    {
     "data": {
      "text/plain": [
       "addr_unit                  9\n",
       "building_id                9\n",
       "bedrooms                   9\n",
       "bathrooms                  9\n",
       "size_sqft                  9\n",
       "created_at                 9\n",
       "addr_street                9\n",
       "addr_city                  9\n",
       "addr_zip                   9\n",
       "addr_lat                   9\n",
       "addr_lon                   9\n",
       "bin                        9\n",
       "bbl                        9\n",
       "floor_count                9\n",
       "year_built                 9\n",
       "min_to_subway              9\n",
       "has_doorman                9\n",
       "has_elevator               9\n",
       "has_fireplace              9\n",
       "has_dishwasher             9\n",
       "is_furnished               9\n",
       "has_gym                    9\n",
       "allows_pets                9\n",
       "has_washer_dryer           9\n",
       "has_garage                 9\n",
       "has_roofdeck               9\n",
       "has_concierge              9\n",
       "has_pool                   9\n",
       "has_garden                 9\n",
       "has_childrens_playroom     9\n",
       "rent                       9\n",
       "no_fee                     9\n",
       "description                9\n",
       "neighborhood               9\n",
       "borough                    9\n",
       "unit                       8\n",
       "floornumber                9\n",
       "line                       4\n",
       "zip_average_income         9\n",
       "neighborhood_population    9\n",
       "dtype: int64"
      ]
     },
     "execution_count": 25,
     "metadata": {
      "tags": []
     },
     "output_type": "execute_result"
    }
   ],
   "source": [
    "md_df[md_df['rent']>40000].count()"
   ]
  },
  {
   "cell_type": "markdown",
   "metadata": {
    "colab_type": "text",
    "id": "oi-VpdMNz501"
   },
   "source": [
    "**drop size_sqrt = 0 for now, since there are 713 rows, might replace with mode when creating models**"
   ]
  },
  {
   "cell_type": "code",
   "execution_count": 0,
   "metadata": {
    "colab": {
     "base_uri": "https://localhost:8080/",
     "height": 221
    },
    "colab_type": "code",
    "id": "eVa8L2Siz502",
    "outputId": "0f656e3b-3d27-4293-ddbd-7060922f32f5"
   },
   "outputs": [
    {
     "name": "stdout",
     "output_type": "stream",
     "text": [
      "rent :  (14000, 40)\n",
      "rent :  (13991, 40)\n",
      "bathrooms :  (13991, 40)\n",
      "bathrooms :  (13983, 40)\n",
      "size_sqft :  (13983, 40)\n",
      "size_sqft :  (12971, 40)\n",
      "year_built :  (12971, 40)\n",
      "year_built :  (12892, 40)\n",
      "min_to_subway :  (12892, 40)\n",
      "min_to_subway :  (12753, 40)\n",
      "floornumber :  (12753, 40)\n",
      "floornumber :  (12736, 40)\n"
     ]
    }
   ],
   "source": [
    "def remove_outliers(md_df, feature, low_value, high_value):\n",
    "    print(feature, ': ', md_df.shape)\n",
    "    md_df = md_df[md_df[feature]>low_value]\n",
    "    md_df = md_df[md_df[feature]<=high_value]\n",
    "    md_df.reset_index(drop=True,inplace=True)\n",
    "    print(feature, ': ', md_df.shape)\n",
    "    return md_df\n",
    "\n",
    "md_df = remove_outliers(md_df, 'rent', 0, 40000)\n",
    "md_df = remove_outliers(md_df, 'bathrooms', 0, 12)\n",
    "md_df = remove_outliers(md_df, 'size_sqft', 0, 10000)\n",
    "md_df = remove_outliers(md_df, 'year_built', 1700, 2019)\n",
    "md_df = remove_outliers(md_df, 'min_to_subway', 0, 60)\n",
    "md_df = remove_outliers(md_df, 'floornumber', 0, 60)\n",
    "\n",
    "md_df['year_built'] = 2019 - md_df['year_built'].astype(int)"
   ]
  },
  {
   "cell_type": "markdown",
   "metadata": {
    "colab_type": "text",
    "id": "EdMZuLXPz504"
   },
   "source": [
    "### Encode categorical feature and drop useless features"
   ]
  },
  {
   "cell_type": "code",
   "execution_count": 0,
   "metadata": {
    "colab": {},
    "colab_type": "code",
    "id": "Yk6n-wuhz504"
   },
   "outputs": [],
   "source": [
    "boroughs = np.array(md_df['borough'].unique())\n",
    "\n",
    "for borough in boroughs:\n",
    "    md_df[borough] = md_df['borough'].apply(lambda x : int(x == borough))\n",
    "    raw_test2_df[borough] = raw_test2_df['borough'].apply(lambda x : int(x == borough))\n",
    "\n",
    "features_notNeed = ['addr_unit', 'building_id', 'created_at', 'addr_street', 'addr_city', 'addr_zip', 'bin', 'bbl', 'description', \\\n",
    "                    'neighborhood', 'unit', 'borough', 'line']\n",
    "\n",
    "md_df = md_df.drop(features_notNeed, axis=1)"
   ]
  },
  {
   "cell_type": "markdown",
   "metadata": {
    "colab_type": "text",
    "id": "R8wB_RrBz507"
   },
   "source": [
    "### Use pair coorelation for continuous features"
   ]
  },
  {
   "cell_type": "code",
   "execution_count": 0,
   "metadata": {
    "colab": {},
    "colab_type": "code",
    "id": "0T9tc1Sgz507",
    "outputId": "38ac2670-e06b-4b0e-a12d-4578b89aa04b"
   },
   "outputs": [
    {
     "data": {
      "text/plain": [
       "bathrooms             0.636554\n",
       "bedrooms              0.349936\n",
       "size_sqft             0.690211\n",
       "floor_count           0.262856\n",
       "year_built           -0.108060\n",
       "min_to_subway        -0.082684\n",
       "floornumber           0.246969\n",
       "zip_average_income    0.420397\n",
       "Name: rent, dtype: float64"
      ]
     },
     "execution_count": 28,
     "metadata": {
      "tags": []
     },
     "output_type": "execute_result"
    }
   ],
   "source": [
    "continuous_df = md_df[continuous_features+['rent']]\n",
    "continuous_df.corr()['rent'][:-1]"
   ]
  },
  {
   "cell_type": "markdown",
   "metadata": {
    "colab_type": "text",
    "id": "1oR3OgtGz50_"
   },
   "source": [
    "### Check coorelation for binary features"
   ]
  },
  {
   "cell_type": "code",
   "execution_count": 0,
   "metadata": {
    "colab": {},
    "colab_type": "code",
    "id": "Hpz9vhlAz51A",
    "outputId": "adda346d-1d76-4ae2-d0f8-5dcb4b165f24"
   },
   "outputs": [
    {
     "data": {
      "text/html": [
       "<div>\n",
       "<style scoped>\n",
       "    .dataframe tbody tr th:only-of-type {\n",
       "        vertical-align: middle;\n",
       "    }\n",
       "\n",
       "    .dataframe tbody tr th {\n",
       "        vertical-align: top;\n",
       "    }\n",
       "\n",
       "    .dataframe thead th {\n",
       "        text-align: right;\n",
       "    }\n",
       "</style>\n",
       "<table border=\"1\" class=\"dataframe\">\n",
       "  <thead>\n",
       "    <tr style=\"text-align: right;\">\n",
       "      <th></th>\n",
       "      <th>Coorelation</th>\n",
       "      <th>Feature</th>\n",
       "    </tr>\n",
       "  </thead>\n",
       "  <tbody>\n",
       "    <tr>\n",
       "      <th>0</th>\n",
       "      <td>1.0</td>\n",
       "      <td>has_doorman</td>\n",
       "    </tr>\n",
       "    <tr>\n",
       "      <th>1</th>\n",
       "      <td>1.0</td>\n",
       "      <td>has_elevator</td>\n",
       "    </tr>\n",
       "    <tr>\n",
       "      <th>2</th>\n",
       "      <td>1.0</td>\n",
       "      <td>has_fireplace</td>\n",
       "    </tr>\n",
       "    <tr>\n",
       "      <th>3</th>\n",
       "      <td>1.0</td>\n",
       "      <td>has_dishwasher</td>\n",
       "    </tr>\n",
       "    <tr>\n",
       "      <th>4</th>\n",
       "      <td>1.0</td>\n",
       "      <td>is_furnished</td>\n",
       "    </tr>\n",
       "    <tr>\n",
       "      <th>5</th>\n",
       "      <td>1.0</td>\n",
       "      <td>has_gym</td>\n",
       "    </tr>\n",
       "    <tr>\n",
       "      <th>6</th>\n",
       "      <td>1.0</td>\n",
       "      <td>allows_pets</td>\n",
       "    </tr>\n",
       "    <tr>\n",
       "      <th>7</th>\n",
       "      <td>1.0</td>\n",
       "      <td>has_washer_dryer</td>\n",
       "    </tr>\n",
       "    <tr>\n",
       "      <th>8</th>\n",
       "      <td>1.0</td>\n",
       "      <td>has_garage</td>\n",
       "    </tr>\n",
       "    <tr>\n",
       "      <th>9</th>\n",
       "      <td>1.0</td>\n",
       "      <td>has_roofdeck</td>\n",
       "    </tr>\n",
       "    <tr>\n",
       "      <th>10</th>\n",
       "      <td>1.0</td>\n",
       "      <td>has_concierge</td>\n",
       "    </tr>\n",
       "    <tr>\n",
       "      <th>11</th>\n",
       "      <td>1.0</td>\n",
       "      <td>has_pool</td>\n",
       "    </tr>\n",
       "    <tr>\n",
       "      <th>12</th>\n",
       "      <td>1.0</td>\n",
       "      <td>has_garden</td>\n",
       "    </tr>\n",
       "    <tr>\n",
       "      <th>13</th>\n",
       "      <td>1.0</td>\n",
       "      <td>has_childrens_playroom</td>\n",
       "    </tr>\n",
       "    <tr>\n",
       "      <th>14</th>\n",
       "      <td>1.0</td>\n",
       "      <td>no_fee</td>\n",
       "    </tr>\n",
       "  </tbody>\n",
       "</table>\n",
       "</div>"
      ],
      "text/plain": [
       "    Coorelation                 Feature\n",
       "0           1.0             has_doorman\n",
       "1           1.0            has_elevator\n",
       "2           1.0           has_fireplace\n",
       "3           1.0          has_dishwasher\n",
       "4           1.0            is_furnished\n",
       "5           1.0                 has_gym\n",
       "6           1.0             allows_pets\n",
       "7           1.0        has_washer_dryer\n",
       "8           1.0              has_garage\n",
       "9           1.0            has_roofdeck\n",
       "10          1.0           has_concierge\n",
       "11          1.0                has_pool\n",
       "12          1.0              has_garden\n",
       "13          1.0  has_childrens_playroom\n",
       "14          1.0                  no_fee"
      ]
     },
     "execution_count": 29,
     "metadata": {
      "tags": []
     },
     "output_type": "execute_result"
    }
   ],
   "source": [
    "md_df[binary_features+['rent']].corr()['rent'][:-1]\n",
    "coor_results= []\n",
    "\n",
    "for feature in binary_features:\n",
    "  df = raw_df.groupby([feature]).aggregate(['mean'])['rent']\n",
    "  df[feature]= df.index\n",
    "  coor_results.append(df.corr().iloc[0][1])\n",
    "coor_df = pd.DataFrame({'Coorelation': coor_results,'Feature':binary_features})\n",
    "coor_df\n"
   ]
  },
  {
   "cell_type": "markdown",
   "metadata": {
    "colab_type": "text",
    "id": "2yKBFlfwz51C"
   },
   "source": [
    "As we can see in the correlation table, all binary features highly affected the rents. When we build the models, we should include all binary features."
   ]
  },
  {
   "cell_type": "markdown",
   "metadata": {
    "colab_type": "text",
    "id": "d7UQLvU9z51D"
   },
   "source": [
    "# Build Models\n",
    " - We will be using cross validation to evaluate the performances of all our modles,and then deciding which should be the most suitable one, thus we will first create a function called get_cv_results to obtain the cv_performance.\n",
    " - we will try 5 different basic categorical models:`multiple regression, decision tree, random froest, Gradient Boosting Regression and Neural Network`"
   ]
  },
  {
   "cell_type": "code",
   "execution_count": 0,
   "metadata": {
    "colab": {},
    "colab_type": "code",
    "id": "E2YtMzPrz51E"
   },
   "outputs": [],
   "source": [
    "md_df = shuffle(md_df).reset_index(drop=True)\n"
   ]
  },
  {
   "cell_type": "code",
   "execution_count": 0,
   "metadata": {
    "colab": {},
    "colab_type": "code",
    "id": "7YFRHMFYz51G"
   },
   "outputs": [],
   "source": [
    "features = list(md_df.columns)\n",
    "features.remove('rent')\n",
    "k_fold = KFold(n_splits=10)"
   ]
  },
  {
   "cell_type": "code",
   "execution_count": 0,
   "metadata": {
    "colab": {},
    "colab_type": "code",
    "id": "AknQGhA5z51I"
   },
   "outputs": [],
   "source": [
    "def get_cv_results(regressor):\n",
    "    \n",
    "    results = []\n",
    "    for train, test in k_fold.split(md_df):\n",
    "        regressor.fit(md_df.loc[train, features], md_df.loc[train, 'rent'])\n",
    "        y_predicted = regressor.predict(md_df.loc[test, features])\n",
    "        accuracy = mean_squared_error(md_df.loc[test, 'rent'], y_predicted)\n",
    "        results.append(accuracy)\n",
    "\n",
    "    return np.mean(results), np.std(results)"
   ]
  },
  {
   "cell_type": "markdown",
   "metadata": {
    "colab_type": "text",
    "id": "U6Eo0zUHz51K"
   },
   "source": [
    "### Radnom Forest Model"
   ]
  },
  {
   "cell_type": "code",
   "execution_count": 0,
   "metadata": {
    "colab": {},
    "colab_type": "code",
    "id": "9FtBQ3enz51L"
   },
   "outputs": [],
   "source": [
    "rforest = RandomForestRegressor(\n",
    "    random_state=11, \n",
    "    max_depth=10,\n",
    "    n_estimators=200\n",
    ")\n"
   ]
  },
  {
   "cell_type": "code",
   "execution_count": 0,
   "metadata": {
    "colab": {
     "base_uri": "https://localhost:8080/",
     "height": 34
    },
    "colab_type": "code",
    "id": "mSdqSbSez51N",
    "outputId": "1c0c0b9f-8026-4113-f1e1-65ccfea51fcb"
   },
   "outputs": [
    {
     "data": {
      "text/plain": [
       "(1002478.9278554784, 198559.71855662158)"
      ]
     },
     "execution_count": 34,
     "metadata": {
      "tags": []
     },
     "output_type": "execute_result"
    }
   ],
   "source": [
    "get_cv_results(rforest)"
   ]
  },
  {
   "cell_type": "markdown",
   "metadata": {
    "colab_type": "text",
    "id": "3-raCdY4G96R"
   },
   "source": [
    "Now let's see how each features affected this model by checking the feature_importances"
   ]
  },
  {
   "cell_type": "code",
   "execution_count": 0,
   "metadata": {
    "colab": {},
    "colab_type": "code",
    "id": "iOGKT8Ncz51Q",
    "outputId": "f586ad19-8d5a-40a6-9b7e-c8a0350c983c"
   },
   "outputs": [
    {
     "name": "stdout",
     "output_type": "stream",
     "text": [
      "size_sqft   0.5402709567537173\n",
      "zip_average_income   0.20475959649083442\n",
      "bathrooms   0.11223728074901702\n",
      "addr_lon   0.0238788293686199\n",
      "addr_lat   0.018271619395656188\n",
      "year_built   0.016363810377465073\n",
      "bedrooms   0.013843093207061952\n",
      "floor_count   0.011038563843766742\n",
      "floornumber   0.009952987546464013\n",
      "min_to_subway   0.009430916276491038\n",
      "has_gym   0.006381176326340712\n",
      "has_roofdeck   0.004814800570644033\n",
      "Manhattan   0.003292837561249155\n",
      "has_washer_dryer   0.00306896152535796\n",
      "has_dishwasher   0.00294658416172701\n",
      "has_garden   0.0025539544701496998\n",
      "is_furnished   0.002506265252642412\n",
      "no_fee   0.0024502009804475817\n",
      "neighborhood_population   0.002334839135444385\n",
      "has_elevator   0.002252770403679455\n",
      "has_doorman   0.0015088520515649211\n",
      "has_concierge   0.0013846635059204917\n",
      "allows_pets   0.001102291720675861\n",
      "has_pool   0.0010833421364335107\n",
      "has_fireplace   0.0008114296246563614\n",
      "has_childrens_playroom   0.0007436400340046459\n",
      "has_garage   0.0004603466647611659\n",
      "Brooklyn   0.0002354313660436194\n",
      "Queens   1.3476528426091317e-05\n",
      "Bronx   5.680263544188784e-06\n",
      "Staten Island   8.01707192892148e-07\n"
     ]
    }
   ],
   "source": [
    "rforest.fit(md_df[features], md_df['rent'])  \n",
    "for feature,score in sorted(zip(features,rforest.feature_importances_), key=lambda x:x[1], reverse=True):\n",
    "    print(feature, ' ', score)"
   ]
  },
  {
   "cell_type": "markdown",
   "metadata": {
    "colab_type": "text",
    "id": "DoQlfyCZz51T"
   },
   "source": [
    "### Multiple Regression\n",
    " - Multiple regression is an extension of simple linear regression. It is used when we want to predict the value of a variable based on the value of two or more other variables\n",
    " - We will based on p value to choose significant variables(p<0.1)\n",
    " "
   ]
  },
  {
   "cell_type": "code",
   "execution_count": 0,
   "metadata": {
    "colab": {
     "base_uri": "https://localhost:8080/",
     "height": 1000
    },
    "colab_type": "code",
    "id": "zCx2KQlWz51U",
    "outputId": "8aa13d4f-350d-4573-f0cd-89bdcd11f8c2"
   },
   "outputs": [
    {
     "data": {
      "text/html": [
       "<table class=\"simpletable\">\n",
       "<caption>OLS Regression Results</caption>\n",
       "<tr>\n",
       "  <th>Dep. Variable:</th>          <td>rent</td>       <th>  R-squared:         </th>  <td>   0.712</td>  \n",
       "</tr>\n",
       "<tr>\n",
       "  <th>Model:</th>                   <td>OLS</td>       <th>  Adj. R-squared:    </th>  <td>   0.711</td>  \n",
       "</tr>\n",
       "<tr>\n",
       "  <th>Method:</th>             <td>Least Squares</td>  <th>  F-statistic:       </th>  <td>   1046.</td>  \n",
       "</tr>\n",
       "<tr>\n",
       "  <th>Date:</th>             <td>Sun, 24 Nov 2019</td> <th>  Prob (F-statistic):</th>   <td>  0.00</td>   \n",
       "</tr>\n",
       "<tr>\n",
       "  <th>Time:</th>                 <td>20:42:41</td>     <th>  Log-Likelihood:    </th> <td>-1.1083e+05</td>\n",
       "</tr>\n",
       "<tr>\n",
       "  <th>No. Observations:</th>      <td> 12736</td>      <th>  AIC:               </th>  <td>2.217e+05</td> \n",
       "</tr>\n",
       "<tr>\n",
       "  <th>Df Residuals:</th>          <td> 12705</td>      <th>  BIC:               </th>  <td>2.219e+05</td> \n",
       "</tr>\n",
       "<tr>\n",
       "  <th>Df Model:</th>              <td>    30</td>      <th>                     </th>      <td> </td>     \n",
       "</tr>\n",
       "<tr>\n",
       "  <th>Covariance Type:</th>      <td>nonrobust</td>    <th>                     </th>      <td> </td>     \n",
       "</tr>\n",
       "</table>\n",
       "<table class=\"simpletable\">\n",
       "<tr>\n",
       "             <td></td>                <th>coef</th>     <th>std err</th>      <th>t</th>      <th>P>|t|</th>  <th>[0.025</th>    <th>0.975]</th>  \n",
       "</tr>\n",
       "<tr>\n",
       "  <th>bedrooms</th>                <td>   69.9167</td> <td>   17.374</td> <td>    4.024</td> <td> 0.000</td> <td>   35.861</td> <td>  103.973</td>\n",
       "</tr>\n",
       "<tr>\n",
       "  <th>bathrooms</th>               <td> 1114.9959</td> <td>   34.429</td> <td>   32.386</td> <td> 0.000</td> <td> 1047.510</td> <td> 1182.482</td>\n",
       "</tr>\n",
       "<tr>\n",
       "  <th>size_sqft</th>               <td>    2.9705</td> <td>    0.043</td> <td>   69.302</td> <td> 0.000</td> <td>    2.887</td> <td>    3.055</td>\n",
       "</tr>\n",
       "<tr>\n",
       "  <th>addr_lat</th>                <td> 2599.8802</td> <td>  427.722</td> <td>    6.078</td> <td> 0.000</td> <td> 1761.480</td> <td> 3438.280</td>\n",
       "</tr>\n",
       "<tr>\n",
       "  <th>addr_lon</th>                <td>-6510.4906</td> <td>  506.538</td> <td>  -12.853</td> <td> 0.000</td> <td>-7503.382</td> <td>-5517.599</td>\n",
       "</tr>\n",
       "<tr>\n",
       "  <th>floor_count</th>             <td>  -12.4764</td> <td>    2.180</td> <td>   -5.722</td> <td> 0.000</td> <td>  -16.750</td> <td>   -8.203</td>\n",
       "</tr>\n",
       "<tr>\n",
       "  <th>year_built</th>              <td>    0.2323</td> <td>    0.459</td> <td>    0.506</td> <td> 0.613</td> <td>   -0.667</td> <td>    1.132</td>\n",
       "</tr>\n",
       "<tr>\n",
       "  <th>min_to_subway</th>           <td>  -21.5255</td> <td>    3.625</td> <td>   -5.938</td> <td> 0.000</td> <td>  -28.631</td> <td>  -14.420</td>\n",
       "</tr>\n",
       "<tr>\n",
       "  <th>has_doorman</th>             <td>  104.7606</td> <td>   48.752</td> <td>    2.149</td> <td> 0.032</td> <td>    9.199</td> <td>  200.322</td>\n",
       "</tr>\n",
       "<tr>\n",
       "  <th>has_elevator</th>            <td>  330.0428</td> <td>   39.332</td> <td>    8.391</td> <td> 0.000</td> <td>  252.947</td> <td>  407.139</td>\n",
       "</tr>\n",
       "<tr>\n",
       "  <th>has_fireplace</th>           <td>  432.1566</td> <td>   70.025</td> <td>    6.171</td> <td> 0.000</td> <td>  294.897</td> <td>  569.416</td>\n",
       "</tr>\n",
       "<tr>\n",
       "  <th>has_dishwasher</th>          <td> -166.9841</td> <td>   29.953</td> <td>   -5.575</td> <td> 0.000</td> <td> -225.696</td> <td> -108.272</td>\n",
       "</tr>\n",
       "<tr>\n",
       "  <th>is_furnished</th>            <td>  561.6752</td> <td>   75.100</td> <td>    7.479</td> <td> 0.000</td> <td>  414.468</td> <td>  708.883</td>\n",
       "</tr>\n",
       "<tr>\n",
       "  <th>has_gym</th>                 <td>  309.4610</td> <td>   49.291</td> <td>    6.278</td> <td> 0.000</td> <td>  212.843</td> <td>  406.079</td>\n",
       "</tr>\n",
       "<tr>\n",
       "  <th>allows_pets</th>             <td>  156.0111</td> <td>   28.898</td> <td>    5.399</td> <td> 0.000</td> <td>   99.366</td> <td>  212.656</td>\n",
       "</tr>\n",
       "<tr>\n",
       "  <th>has_washer_dryer</th>        <td>  306.2308</td> <td>   33.646</td> <td>    9.101</td> <td> 0.000</td> <td>  240.279</td> <td>  372.183</td>\n",
       "</tr>\n",
       "<tr>\n",
       "  <th>has_garage</th>              <td>  -90.6409</td> <td>   40.501</td> <td>   -2.238</td> <td> 0.025</td> <td> -170.030</td> <td>  -11.252</td>\n",
       "</tr>\n",
       "<tr>\n",
       "  <th>has_roofdeck</th>            <td>  126.9808</td> <td>   37.125</td> <td>    3.420</td> <td> 0.001</td> <td>   54.209</td> <td>  199.752</td>\n",
       "</tr>\n",
       "<tr>\n",
       "  <th>has_concierge</th>           <td>  233.7512</td> <td>   50.226</td> <td>    4.654</td> <td> 0.000</td> <td>  135.302</td> <td>  332.201</td>\n",
       "</tr>\n",
       "<tr>\n",
       "  <th>has_pool</th>                <td>   99.0525</td> <td>   59.225</td> <td>    1.672</td> <td> 0.094</td> <td>  -17.038</td> <td>  215.143</td>\n",
       "</tr>\n",
       "<tr>\n",
       "  <th>has_garden</th>              <td>  -19.6752</td> <td>   40.466</td> <td>   -0.486</td> <td> 0.627</td> <td>  -98.995</td> <td>   59.645</td>\n",
       "</tr>\n",
       "<tr>\n",
       "  <th>has_childrens_playroom</th>  <td>  166.1988</td> <td>   54.950</td> <td>    3.025</td> <td> 0.002</td> <td>   58.488</td> <td>  273.909</td>\n",
       "</tr>\n",
       "<tr>\n",
       "  <th>no_fee</th>                  <td> -131.7669</td> <td>   29.581</td> <td>   -4.454</td> <td> 0.000</td> <td> -189.750</td> <td>  -73.784</td>\n",
       "</tr>\n",
       "<tr>\n",
       "  <th>floornumber</th>             <td>   20.4227</td> <td>    2.724</td> <td>    7.498</td> <td> 0.000</td> <td>   15.084</td> <td>   25.761</td>\n",
       "</tr>\n",
       "<tr>\n",
       "  <th>zip_average_income</th>      <td>    0.0029</td> <td>    0.000</td> <td>   23.416</td> <td> 0.000</td> <td>    0.003</td> <td>    0.003</td>\n",
       "</tr>\n",
       "<tr>\n",
       "  <th>neighborhood_population</th> <td>   -0.0050</td> <td>    0.001</td> <td>   -8.527</td> <td> 0.000</td> <td>   -0.006</td> <td>   -0.004</td>\n",
       "</tr>\n",
       "<tr>\n",
       "  <th>Brooklyn</th>                <td>-5.888e+05</td> <td> 4.66e+04</td> <td>  -12.644</td> <td> 0.000</td> <td> -6.8e+05</td> <td>-4.97e+05</td>\n",
       "</tr>\n",
       "<tr>\n",
       "  <th>Manhattan</th>               <td>-5.882e+05</td> <td> 4.66e+04</td> <td>  -12.625</td> <td> 0.000</td> <td> -6.8e+05</td> <td>-4.97e+05</td>\n",
       "</tr>\n",
       "<tr>\n",
       "  <th>Queens</th>                  <td>-5.886e+05</td> <td> 4.65e+04</td> <td>  -12.644</td> <td> 0.000</td> <td> -6.8e+05</td> <td>-4.97e+05</td>\n",
       "</tr>\n",
       "<tr>\n",
       "  <th>Bronx</th>                   <td>-5.895e+05</td> <td> 4.66e+04</td> <td>  -12.653</td> <td> 0.000</td> <td>-6.81e+05</td> <td>-4.98e+05</td>\n",
       "</tr>\n",
       "<tr>\n",
       "  <th>Staten Island</th>           <td>-5.907e+05</td> <td> 4.66e+04</td> <td>  -12.672</td> <td> 0.000</td> <td>-6.82e+05</td> <td>-4.99e+05</td>\n",
       "</tr>\n",
       "</table>\n",
       "<table class=\"simpletable\">\n",
       "<tr>\n",
       "  <th>Omnibus:</th>       <td>9521.441</td> <th>  Durbin-Watson:     </th>  <td>   2.043</td>  \n",
       "</tr>\n",
       "<tr>\n",
       "  <th>Prob(Omnibus):</th>  <td> 0.000</td>  <th>  Jarque-Bera (JB):  </th> <td>2789591.081</td>\n",
       "</tr>\n",
       "<tr>\n",
       "  <th>Skew:</th>           <td> 2.544</td>  <th>  Prob(JB):          </th>  <td>    0.00</td>  \n",
       "</tr>\n",
       "<tr>\n",
       "  <th>Kurtosis:</th>       <td>75.325</td>  <th>  Cond. No.          </th>  <td>1.96e+09</td>  \n",
       "</tr>\n",
       "</table><br/><br/>Warnings:<br/>[1] Standard Errors assume that the covariance matrix of the errors is correctly specified.<br/>[2] The condition number is large, 1.96e+09. This might indicate that there are<br/>strong multicollinearity or other numerical problems."
      ],
      "text/plain": [
       "<class 'statsmodels.iolib.summary.Summary'>\n",
       "\"\"\"\n",
       "                            OLS Regression Results                            \n",
       "==============================================================================\n",
       "Dep. Variable:                   rent   R-squared:                       0.712\n",
       "Model:                            OLS   Adj. R-squared:                  0.711\n",
       "Method:                 Least Squares   F-statistic:                     1046.\n",
       "Date:                Sun, 24 Nov 2019   Prob (F-statistic):               0.00\n",
       "Time:                        20:42:41   Log-Likelihood:            -1.1083e+05\n",
       "No. Observations:               12736   AIC:                         2.217e+05\n",
       "Df Residuals:                   12705   BIC:                         2.219e+05\n",
       "Df Model:                          30                                         \n",
       "Covariance Type:            nonrobust                                         \n",
       "===========================================================================================\n",
       "                              coef    std err          t      P>|t|      [0.025      0.975]\n",
       "-------------------------------------------------------------------------------------------\n",
       "bedrooms                   69.9167     17.374      4.024      0.000      35.861     103.973\n",
       "bathrooms                1114.9959     34.429     32.386      0.000    1047.510    1182.482\n",
       "size_sqft                   2.9705      0.043     69.302      0.000       2.887       3.055\n",
       "addr_lat                 2599.8802    427.722      6.078      0.000    1761.480    3438.280\n",
       "addr_lon                -6510.4906    506.538    -12.853      0.000   -7503.382   -5517.599\n",
       "floor_count               -12.4764      2.180     -5.722      0.000     -16.750      -8.203\n",
       "year_built                  0.2323      0.459      0.506      0.613      -0.667       1.132\n",
       "min_to_subway             -21.5255      3.625     -5.938      0.000     -28.631     -14.420\n",
       "has_doorman               104.7606     48.752      2.149      0.032       9.199     200.322\n",
       "has_elevator              330.0428     39.332      8.391      0.000     252.947     407.139\n",
       "has_fireplace             432.1566     70.025      6.171      0.000     294.897     569.416\n",
       "has_dishwasher           -166.9841     29.953     -5.575      0.000    -225.696    -108.272\n",
       "is_furnished              561.6752     75.100      7.479      0.000     414.468     708.883\n",
       "has_gym                   309.4610     49.291      6.278      0.000     212.843     406.079\n",
       "allows_pets               156.0111     28.898      5.399      0.000      99.366     212.656\n",
       "has_washer_dryer          306.2308     33.646      9.101      0.000     240.279     372.183\n",
       "has_garage                -90.6409     40.501     -2.238      0.025    -170.030     -11.252\n",
       "has_roofdeck              126.9808     37.125      3.420      0.001      54.209     199.752\n",
       "has_concierge             233.7512     50.226      4.654      0.000     135.302     332.201\n",
       "has_pool                   99.0525     59.225      1.672      0.094     -17.038     215.143\n",
       "has_garden                -19.6752     40.466     -0.486      0.627     -98.995      59.645\n",
       "has_childrens_playroom    166.1988     54.950      3.025      0.002      58.488     273.909\n",
       "no_fee                   -131.7669     29.581     -4.454      0.000    -189.750     -73.784\n",
       "floornumber                20.4227      2.724      7.498      0.000      15.084      25.761\n",
       "zip_average_income          0.0029      0.000     23.416      0.000       0.003       0.003\n",
       "neighborhood_population    -0.0050      0.001     -8.527      0.000      -0.006      -0.004\n",
       "Brooklyn                -5.888e+05   4.66e+04    -12.644      0.000    -6.8e+05   -4.97e+05\n",
       "Manhattan               -5.882e+05   4.66e+04    -12.625      0.000    -6.8e+05   -4.97e+05\n",
       "Queens                  -5.886e+05   4.65e+04    -12.644      0.000    -6.8e+05   -4.97e+05\n",
       "Bronx                   -5.895e+05   4.66e+04    -12.653      0.000   -6.81e+05   -4.98e+05\n",
       "Staten Island           -5.907e+05   4.66e+04    -12.672      0.000   -6.82e+05   -4.99e+05\n",
       "==============================================================================\n",
       "Omnibus:                     9521.441   Durbin-Watson:                   2.043\n",
       "Prob(Omnibus):                  0.000   Jarque-Bera (JB):          2789591.081\n",
       "Skew:                           2.544   Prob(JB):                         0.00\n",
       "Kurtosis:                      75.325   Cond. No.                     1.96e+09\n",
       "==============================================================================\n",
       "\n",
       "Warnings:\n",
       "[1] Standard Errors assume that the covariance matrix of the errors is correctly specified.\n",
       "[2] The condition number is large, 1.96e+09. This might indicate that there are\n",
       "strong multicollinearity or other numerical problems.\n",
       "\"\"\""
      ]
     },
     "execution_count": 36,
     "metadata": {
      "tags": []
     },
     "output_type": "execute_result"
    }
   ],
   "source": [
    "mul_reg_features = features[:]\n",
    "x = md_df[features] \n",
    "y = md_df['rent']\n",
    "est = sm.OLS(y, x).fit()\n",
    "est.summary()"
   ]
  },
  {
   "cell_type": "markdown",
   "metadata": {
    "colab_type": "text",
    "id": "K0JZnMWLz51X"
   },
   "source": [
    "- As we can see, variables has_garden and year_built have P value > 0.1\n",
    "- After we remove these two variables, all P values are < 0.1"
   ]
  },
  {
   "cell_type": "code",
   "execution_count": 0,
   "metadata": {
    "colab": {
     "base_uri": "https://localhost:8080/",
     "height": 1000
    },
    "colab_type": "code",
    "id": "qZQRPWFEz51X",
    "outputId": "f7da8447-aefe-44b5-c6ab-c0891405a842"
   },
   "outputs": [
    {
     "data": {
      "text/html": [
       "<table class=\"simpletable\">\n",
       "<caption>OLS Regression Results</caption>\n",
       "<tr>\n",
       "  <th>Dep. Variable:</th>          <td>rent</td>       <th>  R-squared:         </th>  <td>   0.712</td>  \n",
       "</tr>\n",
       "<tr>\n",
       "  <th>Model:</th>                   <td>OLS</td>       <th>  Adj. R-squared:    </th>  <td>   0.711</td>  \n",
       "</tr>\n",
       "<tr>\n",
       "  <th>Method:</th>             <td>Least Squares</td>  <th>  F-statistic:       </th>  <td>   1121.</td>  \n",
       "</tr>\n",
       "<tr>\n",
       "  <th>Date:</th>             <td>Sun, 24 Nov 2019</td> <th>  Prob (F-statistic):</th>   <td>  0.00</td>   \n",
       "</tr>\n",
       "<tr>\n",
       "  <th>Time:</th>                 <td>20:42:41</td>     <th>  Log-Likelihood:    </th> <td>-1.1083e+05</td>\n",
       "</tr>\n",
       "<tr>\n",
       "  <th>No. Observations:</th>      <td> 12736</td>      <th>  AIC:               </th>  <td>2.217e+05</td> \n",
       "</tr>\n",
       "<tr>\n",
       "  <th>Df Residuals:</th>          <td> 12707</td>      <th>  BIC:               </th>  <td>2.219e+05</td> \n",
       "</tr>\n",
       "<tr>\n",
       "  <th>Df Model:</th>              <td>    28</td>      <th>                     </th>      <td> </td>     \n",
       "</tr>\n",
       "<tr>\n",
       "  <th>Covariance Type:</th>      <td>nonrobust</td>    <th>                     </th>      <td> </td>     \n",
       "</tr>\n",
       "</table>\n",
       "<table class=\"simpletable\">\n",
       "<tr>\n",
       "             <td></td>                <th>coef</th>     <th>std err</th>      <th>t</th>      <th>P>|t|</th>  <th>[0.025</th>    <th>0.975]</th>  \n",
       "</tr>\n",
       "<tr>\n",
       "  <th>bedrooms</th>                <td>   70.1833</td> <td>   17.369</td> <td>    4.041</td> <td> 0.000</td> <td>   36.137</td> <td>  104.229</td>\n",
       "</tr>\n",
       "<tr>\n",
       "  <th>bathrooms</th>               <td> 1113.9485</td> <td>   34.330</td> <td>   32.448</td> <td> 0.000</td> <td> 1046.657</td> <td> 1181.240</td>\n",
       "</tr>\n",
       "<tr>\n",
       "  <th>size_sqft</th>               <td>    2.9704</td> <td>    0.043</td> <td>   69.877</td> <td> 0.000</td> <td>    2.887</td> <td>    3.054</td>\n",
       "</tr>\n",
       "<tr>\n",
       "  <th>addr_lat</th>                <td> 2590.6708</td> <td>  427.388</td> <td>    6.062</td> <td> 0.000</td> <td> 1752.926</td> <td> 3428.416</td>\n",
       "</tr>\n",
       "<tr>\n",
       "  <th>addr_lon</th>                <td>-6533.8404</td> <td>  504.865</td> <td>  -12.942</td> <td> 0.000</td> <td>-7523.453</td> <td>-5544.228</td>\n",
       "</tr>\n",
       "<tr>\n",
       "  <th>floor_count</th>             <td>  -12.6102</td> <td>    2.150</td> <td>   -5.866</td> <td> 0.000</td> <td>  -16.824</td> <td>   -8.396</td>\n",
       "</tr>\n",
       "<tr>\n",
       "  <th>min_to_subway</th>           <td>  -21.8062</td> <td>    3.603</td> <td>   -6.052</td> <td> 0.000</td> <td>  -28.869</td> <td>  -14.743</td>\n",
       "</tr>\n",
       "<tr>\n",
       "  <th>has_doorman</th>             <td>  103.4744</td> <td>   48.711</td> <td>    2.124</td> <td> 0.034</td> <td>    7.993</td> <td>  198.956</td>\n",
       "</tr>\n",
       "<tr>\n",
       "  <th>has_elevator</th>            <td>  327.0398</td> <td>   38.726</td> <td>    8.445</td> <td> 0.000</td> <td>  251.132</td> <td>  402.948</td>\n",
       "</tr>\n",
       "<tr>\n",
       "  <th>has_fireplace</th>           <td>  432.9713</td> <td>   69.873</td> <td>    6.197</td> <td> 0.000</td> <td>  296.010</td> <td>  569.933</td>\n",
       "</tr>\n",
       "<tr>\n",
       "  <th>has_dishwasher</th>          <td> -167.6666</td> <td>   29.930</td> <td>   -5.602</td> <td> 0.000</td> <td> -226.334</td> <td> -108.999</td>\n",
       "</tr>\n",
       "<tr>\n",
       "  <th>is_furnished</th>            <td>  562.5155</td> <td>   75.000</td> <td>    7.500</td> <td> 0.000</td> <td>  415.505</td> <td>  709.526</td>\n",
       "</tr>\n",
       "<tr>\n",
       "  <th>has_gym</th>                 <td>  306.1332</td> <td>   48.910</td> <td>    6.259</td> <td> 0.000</td> <td>  210.262</td> <td>  402.004</td>\n",
       "</tr>\n",
       "<tr>\n",
       "  <th>allows_pets</th>             <td>  155.3952</td> <td>   28.838</td> <td>    5.389</td> <td> 0.000</td> <td>   98.868</td> <td>  211.922</td>\n",
       "</tr>\n",
       "<tr>\n",
       "  <th>has_washer_dryer</th>        <td>  303.9023</td> <td>   33.402</td> <td>    9.098</td> <td> 0.000</td> <td>  238.430</td> <td>  369.374</td>\n",
       "</tr>\n",
       "<tr>\n",
       "  <th>has_garage</th>              <td>  -94.2420</td> <td>   40.171</td> <td>   -2.346</td> <td> 0.019</td> <td> -172.982</td> <td>  -15.502</td>\n",
       "</tr>\n",
       "<tr>\n",
       "  <th>has_roofdeck</th>            <td>  123.3332</td> <td>   36.688</td> <td>    3.362</td> <td> 0.001</td> <td>   51.420</td> <td>  195.247</td>\n",
       "</tr>\n",
       "<tr>\n",
       "  <th>has_concierge</th>           <td>  231.0173</td> <td>   50.076</td> <td>    4.613</td> <td> 0.000</td> <td>  132.862</td> <td>  329.173</td>\n",
       "</tr>\n",
       "<tr>\n",
       "  <th>has_pool</th>                <td>   99.6187</td> <td>   59.216</td> <td>    1.682</td> <td> 0.093</td> <td>  -16.454</td> <td>  215.691</td>\n",
       "</tr>\n",
       "<tr>\n",
       "  <th>has_childrens_playroom</th>  <td>  162.1507</td> <td>   54.171</td> <td>    2.993</td> <td> 0.003</td> <td>   55.968</td> <td>  268.334</td>\n",
       "</tr>\n",
       "<tr>\n",
       "  <th>no_fee</th>                  <td> -131.6254</td> <td>   29.577</td> <td>   -4.450</td> <td> 0.000</td> <td> -189.601</td> <td>  -73.649</td>\n",
       "</tr>\n",
       "<tr>\n",
       "  <th>floornumber</th>             <td>   20.4416</td> <td>    2.723</td> <td>    7.508</td> <td> 0.000</td> <td>   15.105</td> <td>   25.778</td>\n",
       "</tr>\n",
       "<tr>\n",
       "  <th>zip_average_income</th>      <td>    0.0029</td> <td>    0.000</td> <td>   23.424</td> <td> 0.000</td> <td>    0.003</td> <td>    0.003</td>\n",
       "</tr>\n",
       "<tr>\n",
       "  <th>neighborhood_population</th> <td>   -0.0050</td> <td>    0.001</td> <td>   -8.543</td> <td> 0.000</td> <td>   -0.006</td> <td>   -0.004</td>\n",
       "</tr>\n",
       "<tr>\n",
       "  <th>Brooklyn</th>                <td>-5.901e+05</td> <td> 4.65e+04</td> <td>  -12.697</td> <td> 0.000</td> <td>-6.81e+05</td> <td>-4.99e+05</td>\n",
       "</tr>\n",
       "<tr>\n",
       "  <th>Manhattan</th>               <td>-5.895e+05</td> <td> 4.65e+04</td> <td>  -12.678</td> <td> 0.000</td> <td>-6.81e+05</td> <td>-4.98e+05</td>\n",
       "</tr>\n",
       "<tr>\n",
       "  <th>Queens</th>                  <td>-5.899e+05</td> <td> 4.65e+04</td> <td>  -12.697</td> <td> 0.000</td> <td>-6.81e+05</td> <td>-4.99e+05</td>\n",
       "</tr>\n",
       "<tr>\n",
       "  <th>Bronx</th>                   <td>-5.908e+05</td> <td> 4.65e+04</td> <td>  -12.706</td> <td> 0.000</td> <td>-6.82e+05</td> <td>   -5e+05</td>\n",
       "</tr>\n",
       "<tr>\n",
       "  <th>Staten Island</th>           <td> -5.92e+05</td> <td> 4.65e+04</td> <td>  -12.725</td> <td> 0.000</td> <td>-6.83e+05</td> <td>-5.01e+05</td>\n",
       "</tr>\n",
       "</table>\n",
       "<table class=\"simpletable\">\n",
       "<tr>\n",
       "  <th>Omnibus:</th>       <td>9516.913</td> <th>  Durbin-Watson:     </th>  <td>   2.043</td>  \n",
       "</tr>\n",
       "<tr>\n",
       "  <th>Prob(Omnibus):</th>  <td> 0.000</td>  <th>  Jarque-Bera (JB):  </th> <td>2789732.108</td>\n",
       "</tr>\n",
       "<tr>\n",
       "  <th>Skew:</th>           <td> 2.542</td>  <th>  Prob(JB):          </th>  <td>    0.00</td>  \n",
       "</tr>\n",
       "<tr>\n",
       "  <th>Kurtosis:</th>       <td>75.327</td>  <th>  Cond. No.          </th>  <td>1.96e+09</td>  \n",
       "</tr>\n",
       "</table><br/><br/>Warnings:<br/>[1] Standard Errors assume that the covariance matrix of the errors is correctly specified.<br/>[2] The condition number is large, 1.96e+09. This might indicate that there are<br/>strong multicollinearity or other numerical problems."
      ],
      "text/plain": [
       "<class 'statsmodels.iolib.summary.Summary'>\n",
       "\"\"\"\n",
       "                            OLS Regression Results                            \n",
       "==============================================================================\n",
       "Dep. Variable:                   rent   R-squared:                       0.712\n",
       "Model:                            OLS   Adj. R-squared:                  0.711\n",
       "Method:                 Least Squares   F-statistic:                     1121.\n",
       "Date:                Sun, 24 Nov 2019   Prob (F-statistic):               0.00\n",
       "Time:                        20:42:41   Log-Likelihood:            -1.1083e+05\n",
       "No. Observations:               12736   AIC:                         2.217e+05\n",
       "Df Residuals:                   12707   BIC:                         2.219e+05\n",
       "Df Model:                          28                                         \n",
       "Covariance Type:            nonrobust                                         \n",
       "===========================================================================================\n",
       "                              coef    std err          t      P>|t|      [0.025      0.975]\n",
       "-------------------------------------------------------------------------------------------\n",
       "bedrooms                   70.1833     17.369      4.041      0.000      36.137     104.229\n",
       "bathrooms                1113.9485     34.330     32.448      0.000    1046.657    1181.240\n",
       "size_sqft                   2.9704      0.043     69.877      0.000       2.887       3.054\n",
       "addr_lat                 2590.6708    427.388      6.062      0.000    1752.926    3428.416\n",
       "addr_lon                -6533.8404    504.865    -12.942      0.000   -7523.453   -5544.228\n",
       "floor_count               -12.6102      2.150     -5.866      0.000     -16.824      -8.396\n",
       "min_to_subway             -21.8062      3.603     -6.052      0.000     -28.869     -14.743\n",
       "has_doorman               103.4744     48.711      2.124      0.034       7.993     198.956\n",
       "has_elevator              327.0398     38.726      8.445      0.000     251.132     402.948\n",
       "has_fireplace             432.9713     69.873      6.197      0.000     296.010     569.933\n",
       "has_dishwasher           -167.6666     29.930     -5.602      0.000    -226.334    -108.999\n",
       "is_furnished              562.5155     75.000      7.500      0.000     415.505     709.526\n",
       "has_gym                   306.1332     48.910      6.259      0.000     210.262     402.004\n",
       "allows_pets               155.3952     28.838      5.389      0.000      98.868     211.922\n",
       "has_washer_dryer          303.9023     33.402      9.098      0.000     238.430     369.374\n",
       "has_garage                -94.2420     40.171     -2.346      0.019    -172.982     -15.502\n",
       "has_roofdeck              123.3332     36.688      3.362      0.001      51.420     195.247\n",
       "has_concierge             231.0173     50.076      4.613      0.000     132.862     329.173\n",
       "has_pool                   99.6187     59.216      1.682      0.093     -16.454     215.691\n",
       "has_childrens_playroom    162.1507     54.171      2.993      0.003      55.968     268.334\n",
       "no_fee                   -131.6254     29.577     -4.450      0.000    -189.601     -73.649\n",
       "floornumber                20.4416      2.723      7.508      0.000      15.105      25.778\n",
       "zip_average_income          0.0029      0.000     23.424      0.000       0.003       0.003\n",
       "neighborhood_population    -0.0050      0.001     -8.543      0.000      -0.006      -0.004\n",
       "Brooklyn                -5.901e+05   4.65e+04    -12.697      0.000   -6.81e+05   -4.99e+05\n",
       "Manhattan               -5.895e+05   4.65e+04    -12.678      0.000   -6.81e+05   -4.98e+05\n",
       "Queens                  -5.899e+05   4.65e+04    -12.697      0.000   -6.81e+05   -4.99e+05\n",
       "Bronx                   -5.908e+05   4.65e+04    -12.706      0.000   -6.82e+05      -5e+05\n",
       "Staten Island            -5.92e+05   4.65e+04    -12.725      0.000   -6.83e+05   -5.01e+05\n",
       "==============================================================================\n",
       "Omnibus:                     9516.913   Durbin-Watson:                   2.043\n",
       "Prob(Omnibus):                  0.000   Jarque-Bera (JB):          2789732.108\n",
       "Skew:                           2.542   Prob(JB):                         0.00\n",
       "Kurtosis:                      75.327   Cond. No.                     1.96e+09\n",
       "==============================================================================\n",
       "\n",
       "Warnings:\n",
       "[1] Standard Errors assume that the covariance matrix of the errors is correctly specified.\n",
       "[2] The condition number is large, 1.96e+09. This might indicate that there are\n",
       "strong multicollinearity or other numerical problems.\n",
       "\"\"\""
      ]
     },
     "execution_count": 37,
     "metadata": {
      "tags": []
     },
     "output_type": "execute_result"
    }
   ],
   "source": [
    "mul_reg_features.remove('has_garden')\n",
    "mul_reg_features.remove('year_built')\n",
    "x = md_df[mul_reg_features] \n",
    "y = md_df['rent']\n",
    "est = sm.OLS(y, x).fit()\n",
    "est.summary()"
   ]
  },
  {
   "cell_type": "code",
   "execution_count": 0,
   "metadata": {
    "colab": {
     "base_uri": "https://localhost:8080/",
     "height": 34
    },
    "colab_type": "code",
    "id": "nSPV3iW0z51Z",
    "outputId": "67f4e27f-aca1-4c39-985b-0c991f5b5551"
   },
   "outputs": [
    {
     "data": {
      "text/plain": [
       "(2159317.77267347, 523234.7447545571)"
      ]
     },
     "execution_count": 38,
     "metadata": {
      "tags": []
     },
     "output_type": "execute_result"
    }
   ],
   "source": [
    "mul_reg = LinearRegression().fit(md_df[mul_reg_features], md_df['rent'])\n",
    "get_cv_results(mul_reg)"
   ]
  },
  {
   "cell_type": "markdown",
   "metadata": {
    "colab_type": "text",
    "id": "566BNiS_z51c"
   },
   "source": [
    "## Gradient Boosting Regression\n",
    "For the gradient boosting regressor we will first set up the hyperparameter max_depth=5 to avoid overfitting, will adjust more hyperparameter as we move on to improve the model\n"
   ]
  },
  {
   "cell_type": "code",
   "execution_count": 0,
   "metadata": {
    "colab": {
     "base_uri": "https://localhost:8080/",
     "height": 34
    },
    "colab_type": "code",
    "id": "DJGUq1egz51d",
    "outputId": "75609edb-bd16-4d6d-af15-7c9199b33bc7"
   },
   "outputs": [
    {
     "data": {
      "text/plain": [
       "(855637.4713616653, 162878.62009789218)"
      ]
     },
     "execution_count": 39,
     "metadata": {
      "tags": []
     },
     "output_type": "execute_result"
    }
   ],
   "source": [
    "gbrdemo = GradientBoostingRegressor(\n",
    "    max_depth=5,\n",
    "    n_estimators=100\n",
    ")\n",
    "\n",
    "get_cv_results(gbrdemo)"
   ]
  },
  {
   "cell_type": "code",
   "execution_count": 0,
   "metadata": {
    "colab": {},
    "colab_type": "code",
    "id": "BRTqyIgwG96h"
   },
   "outputs": [],
   "source": [
    "gbrdemo = GradientBoostingRegressor(\n",
    "    max_depth=5,\n",
    "    n_estimators=100\n",
    ")"
   ]
  },
  {
   "cell_type": "markdown",
   "metadata": {
    "colab_type": "text",
    "id": "oQX1f6I5z51f"
   },
   "source": [
    "### Tuning Hyperparameters\n",
    "Now let's use GridSearchCV form sci-kit learn model_selection to tune the hyperparameters, and find the most suitable one for our Gradient Boosting Regression model.The choices of hyperparameters are obtained from the toturial code, and since this function took a long time to process, we are considering reduce the amount of hyperpraramters for testing.\n",
    "\n",
    "cited link: link: https://shankarmsy.github.io/stories/gbrt-sklearn.html"
   ]
  },
  {
   "cell_type": "code",
   "execution_count": 0,
   "metadata": {
    "colab": {},
    "colab_type": "code",
    "id": "zAGQpu5Jz51f"
   },
   "outputs": [],
   "source": [
    "# Tuning the hyperparameters based on a cross-validation subset (cv)\n",
    "# cited link: link: https://shankarmsy.github.io/stories/gbrt-sklearn.html\n",
    "\n",
    "def GradientBooster():\n",
    "    \n",
    "    param_grid={'n_estimators':[100],\n",
    "            'learning_rate': [0.1, 0.05, 0.01],\n",
    "            'max_depth':[4, 5, 6],\n",
    "            'min_samples_leaf':[3, 5, 9],\n",
    "           }\n",
    "    \n",
    "    # choose cross validation generator and use ShuffleSplit which randomly shuffles and selects Train and CV sets\n",
    "    cv = ShuffleSplit(n_splits=5, test_size=.25, random_state=0)\n",
    "    \n",
    "    classifier = GridSearchCV(estimator = GradientBoostingRegressor(), param_grid=param_grid, n_jobs=4, cv=cv)\n",
    "    \n",
    "    classifier.fit(md_df[features], md_df['rent'])  \n",
    "    return classifier.best_params_"
   ]
  },
  {
   "cell_type": "code",
   "execution_count": 0,
   "metadata": {
    "colab": {},
    "colab_type": "code",
    "id": "O3lO3Axnz51j",
    "outputId": "f7f11dee-9691-4427-fe9b-9ef3abbbd7a1"
   },
   "outputs": [
    {
     "name": "stdout",
     "output_type": "stream",
     "text": [
      "Since this function takes too long to run, it will waste a lot of time during development,      \n",
      "so we will just record the result for further usage:\n",
      "\n",
      "Best Estimator Parameters:\n",
      "n_estimators:  100\n",
      "max_depth:  6\n",
      "Learning Rate:  0.1\n",
      "min_samples_leaf:  3\n"
     ]
    }
   ],
   "source": [
    "# Since this function takes too long to run, it will waste a lot of time during development,\n",
    "# so we will just record the result for further usage. -----Runmin 11/18/19\n",
    "\"\"\"\n",
    "best_est=GradientBooster()\n",
    "\n",
    "print(\"Best Estimator Parameters:\")\n",
    "print(\"n_estimators: \",best_est['n_estimators'])\n",
    "print(\"max_depth: \", best_est['max_depth'])\n",
    "print(\"Learning Rate: \", best_est['learning_rate'])\n",
    "print(\"min_samples_leaf: \", best_est['min_samples_leaf'])\n",
    "\"\"\"\n",
    "print(\"Since this function takes too long to run, it will waste a lot of time during development,\\\n",
    "      \\nso we will just record the result for further usage:\")\n",
    "print(\"\\nBest Estimator Parameters:\")\n",
    "print(\"n_estimators: \",100)\n",
    "print(\"max_depth: \", 6)\n",
    "print(\"Learning Rate: \", 0.1)\n",
    "print(\"min_samples_leaf: \", 3)"
   ]
  },
  {
   "cell_type": "markdown",
   "metadata": {
    "colab_type": "text",
    "id": "j5kkgBUpz51l"
   },
   "source": [
    "As we can see from the result above, we have found the suitable hyperparameters for our model, thus we can use them to check if a better result will be obtained.\n"
   ]
  },
  {
   "cell_type": "code",
   "execution_count": 0,
   "metadata": {
    "colab": {
     "base_uri": "https://localhost:8080/",
     "height": 34
    },
    "colab_type": "code",
    "id": "owPU2gYbz51m",
    "outputId": "b63d44ac-cb51-4606-c374-57f286188bfb"
   },
   "outputs": [
    {
     "data": {
      "text/plain": [
       "(895271.263192598, 213850.2911366268)"
      ]
     },
     "execution_count": 43,
     "metadata": {
      "tags": []
     },
     "output_type": "execute_result"
    }
   ],
   "source": [
    "bettergbr1 = GradientBoostingRegressor(\n",
    "    n_estimators=100,\n",
    "    max_depth=6,\n",
    "    learning_rate=0.1,\n",
    "    min_samples_leaf=3\n",
    ")\n",
    "\n",
    "get_cv_results(bettergbr1)"
   ]
  },
  {
   "cell_type": "markdown",
   "metadata": {
    "colab_type": "text",
    "id": "BOW7I6JPz51o"
   },
   "source": [
    "The mean squared error becomes unstable after applying the new set of hyperparameters, we've tried few test runs upon it, sometime the result get improved a lot but sometime it even makes the result worse, thus we might still be using the previous GradientBoosting regressor \"gbrdemo\" for a more stable prediction."
   ]
  },
  {
   "cell_type": "markdown",
   "metadata": {
    "colab_type": "text",
    "id": "oln3lQr1G96s"
   },
   "source": [
    "**Feature importances for Gradient Boosting Regression**"
   ]
  },
  {
   "cell_type": "code",
   "execution_count": 0,
   "metadata": {
    "colab": {},
    "colab_type": "code",
    "id": "-lhkz-V1G96s",
    "outputId": "50f18c8d-8386-4ff6-fc9c-97bccacd4f95"
   },
   "outputs": [
    {
     "name": "stdout",
     "output_type": "stream",
     "text": [
      "size_sqft   0.5431871723389057\n",
      "zip_average_income   0.18766311213452877\n",
      "bathrooms   0.10763562721073307\n",
      "addr_lon   0.025004209027410525\n",
      "addr_lat   0.024762502466737214\n",
      "year_built   0.015579835457645424\n",
      "bedrooms   0.01211104503792978\n",
      "floor_count   0.011777244623708948\n",
      "Manhattan   0.00945250209388719\n",
      "has_gym   0.008795962112173854\n",
      "min_to_subway   0.008723467467457455\n",
      "floornumber   0.007365210650768514\n",
      "has_washer_dryer   0.006424677411549964\n",
      "neighborhood_population   0.004636097313614124\n",
      "has_elevator   0.0041630755040399136\n",
      "is_furnished   0.003981501028955989\n",
      "has_concierge   0.0034248574814206515\n",
      "has_dishwasher   0.003400919095327106\n",
      "has_roofdeck   0.0032923314451728906\n",
      "no_fee   0.0031685717568675858\n",
      "has_doorman   0.002522643875552646\n",
      "has_garden   0.0015872433677214211\n",
      "has_pool   0.0005024965160189046\n",
      "allows_pets   0.00032431593574571083\n",
      "has_fireplace   0.00028328066380243236\n",
      "has_childrens_playroom   0.00013860957347968555\n",
      "has_garage   5.643536573767998e-05\n",
      "Brooklyn   1.9310302940097375e-05\n",
      "Bronx   1.1665874027876974e-05\n",
      "Queens   4.076866138958313e-06\n",
      "Staten Island   0.0\n"
     ]
    }
   ],
   "source": [
    "gbrdemo.fit(md_df[features], md_df['rent'])  \n",
    "for feature,score in sorted(zip(features,gbrdemo.feature_importances_), key=lambda x:x[1], reverse=True):\n",
    "    print(feature, ' ', score)"
   ]
  },
  {
   "cell_type": "markdown",
   "metadata": {
    "colab_type": "text",
    "id": "9z858Helz51o"
   },
   "source": [
    "##  Regression Tree Model\n",
    "From definition, decision trees where the target variable can take continuous values (typically real numbers) are called regression trees.\n",
    "Thus, in our case when we do the regression tree model, we actually use the decision tree classifer."
   ]
  },
  {
   "cell_type": "markdown",
   "metadata": {
    "colab_type": "text",
    "id": "u97chZ8pz51p"
   },
   "source": [
    "Train the regression tree model using default paramater"
   ]
  },
  {
   "cell_type": "code",
   "execution_count": 0,
   "metadata": {
    "colab": {
     "base_uri": "https://localhost:8080/",
     "height": 102
    },
    "colab_type": "code",
    "id": "IM3MAJnPz51p",
    "outputId": "f7c790cb-8e92-4a78-f099-c4e459f5863b"
   },
   "outputs": [
    {
     "data": {
      "text/plain": [
       "DecisionTreeRegressor(criterion='mse', max_depth=None, max_features=None,\n",
       "           max_leaf_nodes=None, min_impurity_decrease=0.0,\n",
       "           min_impurity_split=None, min_samples_leaf=1,\n",
       "           min_samples_split=2, min_weight_fraction_leaf=0.0,\n",
       "           presort=False, random_state=1, splitter='best')"
      ]
     },
     "execution_count": 45,
     "metadata": {
      "tags": []
     },
     "output_type": "execute_result"
    }
   ],
   "source": [
    "regtreemo = DecisionTreeRegressor(\n",
    "    random_state=1, \n",
    "    max_depth=None,\n",
    "    min_samples_leaf=1,\n",
    "    max_features=None,\n",
    "    max_leaf_nodes=None )\n",
    "\n",
    "regtreemo.fit(md_df[features], md_df['rent'])"
   ]
  },
  {
   "cell_type": "code",
   "execution_count": 0,
   "metadata": {
    "colab": {
     "base_uri": "https://localhost:8080/",
     "height": 34
    },
    "colab_type": "code",
    "id": "65xtmTbNz51s",
    "outputId": "fe6aa1d8-ee9d-4e3f-e4a9-52fe5ab70725"
   },
   "outputs": [
    {
     "data": {
      "text/plain": [
       "(1578129.9291006716, 321602.12186369766)"
      ]
     },
     "execution_count": 46,
     "metadata": {
      "tags": []
     },
     "output_type": "execute_result"
    }
   ],
   "source": [
    "get_cv_results(regtreemo)"
   ]
  },
  {
   "cell_type": "markdown",
   "metadata": {
    "colab_type": "text",
    "id": "DJM4nC5Zz51w"
   },
   "source": [
    "Train the regression tree model using Hyperparameters that we found, so that we can compare the results among different models better."
   ]
  },
  {
   "cell_type": "code",
   "execution_count": 0,
   "metadata": {
    "colab": {
     "base_uri": "https://localhost:8080/",
     "height": 102
    },
    "colab_type": "code",
    "id": "Fc3ALfdCz51x",
    "outputId": "5bdc1809-f233-4d7c-a90a-fd9697fca25b"
   },
   "outputs": [
    {
     "data": {
      "text/plain": [
       "DecisionTreeRegressor(criterion='mse', max_depth=6, max_features=None,\n",
       "           max_leaf_nodes=None, min_impurity_decrease=0.0,\n",
       "           min_impurity_split=None, min_samples_leaf=3,\n",
       "           min_samples_split=2, min_weight_fraction_leaf=0.0,\n",
       "           presort=False, random_state=1, splitter='best')"
      ]
     },
     "execution_count": 47,
     "metadata": {
      "tags": []
     },
     "output_type": "execute_result"
    }
   ],
   "source": [
    "newregtreemo = DecisionTreeRegressor(\n",
    "    random_state=1, \n",
    "    max_depth=6,\n",
    "    min_samples_leaf=3 )\n",
    "\n",
    "newregtreemo.fit(md_df[features], md_df['rent'])"
   ]
  },
  {
   "cell_type": "code",
   "execution_count": 0,
   "metadata": {
    "colab": {
     "base_uri": "https://localhost:8080/",
     "height": 34
    },
    "colab_type": "code",
    "id": "TVhscdXIz510",
    "outputId": "d970e422-8400-4ffc-f683-27815805e712"
   },
   "outputs": [
    {
     "data": {
      "text/plain": [
       "(1521723.0349462419, 261069.41495194752)"
      ]
     },
     "execution_count": 48,
     "metadata": {
      "tags": []
     },
     "output_type": "execute_result"
    }
   ],
   "source": [
    "get_cv_results(newregtreemo)"
   ]
  },
  {
   "cell_type": "markdown",
   "metadata": {
    "colab_type": "text",
    "id": "fv9pZ8ipz513"
   },
   "source": [
    "As we can see, the regression tree model that uses the Hyperparameters does have better result.\n",
    "But Gradient Boosting Regression still has the best result."
   ]
  },
  {
   "cell_type": "code",
   "execution_count": 0,
   "metadata": {
    "colab": {},
    "colab_type": "code",
    "id": "NjrKKuhBz514",
    "outputId": "23433b47-9e54-4144-df4f-42e20ef12cac"
   },
   "outputs": [
    {
     "name": "stdout",
     "output_type": "stream",
     "text": [
      "bedrooms   0.01024713947032095\n",
      "bathrooms   0.1282286663461352\n",
      "size_sqft   0.5959716759304471\n",
      "addr_lat   0.008417149920162462\n",
      "addr_lon   0.012905660727876987\n",
      "floor_count   0.0\n",
      "year_built   0.0023176281033826253\n",
      "min_to_subway   0.0\n",
      "has_doorman   0.0\n",
      "has_elevator   0.002461279574295666\n",
      "has_fireplace   0.0\n",
      "has_dishwasher   0.0\n",
      "is_furnished   0.0\n",
      "has_gym   0.006961962777319356\n",
      "allows_pets   0.0\n",
      "has_washer_dryer   0.0\n",
      "has_garage   0.0\n",
      "has_roofdeck   0.004731239956078544\n",
      "has_concierge   0.0\n",
      "has_pool   0.0\n",
      "has_garden   0.002797875081581072\n",
      "has_childrens_playroom   0.0\n",
      "no_fee   0.0015419098772410024\n",
      "floornumber   0.0019245085276655078\n",
      "zip_average_income   0.22078604352991466\n",
      "neighborhood_population   0.00018832215554738434\n",
      "Brooklyn   0.0\n",
      "Manhattan   0.0005189380220315189\n",
      "Queens   0.0\n",
      "Bronx   0.0\n",
      "Staten Island   0.0\n"
     ]
    }
   ],
   "source": [
    "for feature,score in zip(features,newregtreemo.feature_importances_):\n",
    "    print(feature, ' ', score)"
   ]
  },
  {
   "cell_type": "markdown",
   "metadata": {
    "colab_type": "text",
    "id": "laDG73kzz516"
   },
   "source": [
    "### Learning Curve\n",
    "We can use the Learning Curves methods provided in lecture 8"
   ]
  },
  {
   "cell_type": "code",
   "execution_count": 0,
   "metadata": {
    "colab": {},
    "colab_type": "code",
    "id": "fRc0BHUGz517",
    "outputId": "ca9c6315-6f45-48a2-ddf9-91e2030e6955"
   },
   "outputs": [
    {
     "name": "stdout",
     "output_type": "stream",
     "text": [
      "1 7147042.623788169 1139934.6862002485\n",
      "3 3828693.7252234854 693767.8298620107\n",
      "5 2520949.6885809116 465627.2164767011\n",
      "7 2871754.1501128995 481979.7865537268\n",
      "9 2493375.6701369216 484761.73241231835\n",
      "11 2463331.6143478053 528529.5518802283\n",
      "13 2554762.407864154 459810.49770624895\n",
      "15 2662553.7309835604 529182.8582641858\n",
      "17 2836381.1543560186 511069.31835225824\n",
      "19 2683120.197829821 441733.7755364828\n",
      "21 2719152.6641949513 556580.8926821647\n",
      "23 2711368.560306745 437518.89511627244\n",
      "25 2742054.783196346 414337.9416771086\n",
      "27 2843000.616368459 459372.6812958055\n",
      "29 2824574.0189719214 457440.44321833714\n",
      "31 2849906.7053985624 436922.75735445466\n",
      "33 3185828.073994483 430734.80262497184\n",
      "35 3055525.111368096 534712.8205769217\n",
      "37 2914510.728190741 512231.6779337043\n",
      "39 2901208.056978965 507883.0639590941\n",
      "41 2877290.8896417688 486196.7853193268\n",
      "43 2822439.6867580013 385797.9721062544\n",
      "45 2838790.0847020163 422313.82169441076\n",
      "47 2821585.3411744465 431246.7832366978\n",
      "49 2774844.820099001 405910.0672092745\n"
     ]
    }
   ],
   "source": [
    "hp_values = range(1,50,2)\n",
    "all_mu = []\n",
    "all_sigma = []\n",
    "\n",
    "for m in hp_values:\n",
    "\n",
    "    dtree=DecisionTreeClassifier(\n",
    "        criterion='entropy', \n",
    "        random_state=1, \n",
    "        max_depth=m,\n",
    "        min_samples_leaf=m,\n",
    "    )\n",
    "\n",
    "    mu, sigma = get_cv_results(dtree)\n",
    "    all_mu.append(mu)\n",
    "    all_sigma.append(sigma)\n",
    "    \n",
    "    print(m, mu, sigma)"
   ]
  },
  {
   "cell_type": "code",
   "execution_count": 0,
   "metadata": {
    "colab": {},
    "colab_type": "code",
    "id": "SjwVqEAMz519",
    "outputId": "2474de1f-3ad0-465f-ed70-ce7fcdd4de8d"
   },
   "outputs": [
    {
     "data": {
      "text/plain": [
       "Text(0.5, 0, 'Max Depth')"
      ]
     },
     "execution_count": 51,
     "metadata": {
      "tags": []
     },
     "output_type": "execute_result"
    },
    {
     "data": {
      "image/png": "[encoded data removed]",
      "text/plain": [
       "<Figure size 1008x360 with 1 Axes>"
      ]
     },
     "metadata": {
      "needs_background": "light",
      "tags": []
     },
     "output_type": "display_data"
    }
   ],
   "source": [
    "plt.figure(figsize=(14, 5))\n",
    "plt.plot(hp_values, all_mu)\n",
    "plt.ylabel('Cross Validation Accuracy')\n",
    "plt.xlabel('Max Depth')"
   ]
  },
  {
   "cell_type": "code",
   "execution_count": 0,
   "metadata": {
    "colab": {},
    "colab_type": "code",
    "id": "LCdgYSNqz51-",
    "outputId": "79185800-8a0c-402e-b9e2-dcb185087fb3"
   },
   "outputs": [
    {
     "data": {
      "text/plain": [
       "Text(0.5, 0, 'Max Depth')"
      ]
     },
     "execution_count": 52,
     "metadata": {
      "tags": []
     },
     "output_type": "execute_result"
    },
    {
     "data": {
      "image/png": "[encoded data removed]",
      "text/plain": [
       "<Figure size 1008x360 with 1 Axes>"
      ]
     },
     "metadata": {
      "needs_background": "light",
      "tags": []
     },
     "output_type": "display_data"
    }
   ],
   "source": [
    "plt.figure(figsize=(14, 5))\n",
    "plt.plot(hp_values, all_sigma)\n",
    "plt.ylabel('Cross Validation Std Dev.')\n",
    "plt.xlabel('Max Depth')"
   ]
  },
  {
   "cell_type": "markdown",
   "metadata": {
    "colab_type": "text",
    "id": "rrr5UbB8z52B"
   },
   "source": [
    "### Neural Network\n",
    "Neural networks are a set of algorithms, modeled loosely after the human brain, that are designed to recognize patterns. They interpret sensory data through a kind of machine perception, labeling or clustering raw input.(source:https://skymind.ai/wiki/neural-network)"
   ]
  },
  {
   "cell_type": "code",
   "execution_count": 0,
   "metadata": {
    "colab": {},
    "colab_type": "code",
    "id": "U8xBcG-Sz52B",
    "outputId": "058b4d79-aab1-49a3-8c7c-a98c884a2fd5"
   },
   "outputs": [
    {
     "name": "stderr",
     "output_type": "stream",
     "text": [
      "D:\\Anaconda\\lib\\site-packages\\sklearn\\preprocessing\\data.py:645: DataConversionWarning: Data with input dtype int32, int64, float64 were all converted to float64 by StandardScaler.\n",
      "  return self.partial_fit(X, y)\n",
      "D:\\Anaconda\\lib\\site-packages\\sklearn\\base.py:464: DataConversionWarning: Data with input dtype int32, int64, float64 were all converted to float64 by StandardScaler.\n",
      "  return self.fit(X, **fit_params).transform(X)\n"
     ]
    }
   ],
   "source": [
    "scaler = StandardScaler()\n",
    "X = scaler.fit_transform(md_df[features])\n",
    "Y = md_df['rent'].values.reshape(-1,1)\n",
    "\n",
    "train_x, test_x, train_y, test_y = train_test_split(X, Y, test_size=0.2, random_state=42)"
   ]
  },
  {
   "cell_type": "code",
   "execution_count": 0,
   "metadata": {
    "colab": {},
    "colab_type": "code",
    "id": "ztLWpbWHz52D"
   },
   "outputs": [],
   "source": [
    "net = models.Sequential()\n",
    "net.add(layers.Dense(64, input_dim=train_x.shape[1], kernel_regularizer=regularizers.l1(0.1), activation='relu'))\n",
    "net.add(layers.Dropout(0.1))\n",
    "\n",
    "net.add(layers.Dense(64, kernel_regularizer=regularizers.l1(0.1), activation='relu'))\n",
    "net.add(layers.Dropout(0.1))\n",
    "\n",
    "net.add(layers.Dense(128, kernel_regularizer=regularizers.l1(0.1), activation='relu'))\n",
    "net.add(layers.Dropout(0.1))\n",
    "\n",
    "net.add(layers.Dense(256, kernel_regularizer=regularizers.l1(0.1), activation='relu'))\n",
    "net.add(layers.Dropout(0.1))\n",
    "\n",
    "net.add(layers.Dense(1, activation='linear'))\n",
    "\n",
    "net.compile(loss='mean_squared_error',\n",
    "            optimizer='adam',\n",
    "            metrics=['mean_squared_error'])"
   ]
  },
  {
   "cell_type": "code",
   "execution_count": 0,
   "metadata": {
    "colab": {
     "base_uri": "https://localhost:8080/",
     "height": 1000
    },
    "colab_type": "code",
    "id": "Jmei-Vcaz52E",
    "outputId": "2f9619df-7f4a-46e4-b581-ae2f887add94"
   },
   "outputs": [
    {
     "name": "stdout",
     "output_type": "stream",
     "text": [
      "Train on 9169 samples, validate on 1019 samples\n",
      "Epoch 1/70\n",
      "9169/9169 [==============================] - 1s 60us/step - loss: 10075874.2954 - mean_squared_error: 10075482.0000 - val_loss: 2311449.0186 - val_mean_squared_error: 2311031.7500\n",
      "Epoch 2/70\n",
      "9169/9169 [==============================] - 0s 37us/step - loss: 2201466.1214 - mean_squared_error: 2201055.0000 - val_loss: 1916581.4632 - val_mean_squared_error: 1916174.3750\n",
      "Epoch 3/70\n",
      "9169/9169 [==============================] - 0s 37us/step - loss: 1988540.9599 - mean_squared_error: 1988138.2500 - val_loss: 1761789.3567 - val_mean_squared_error: 1761389.1250\n",
      "Epoch 4/70\n",
      "9169/9169 [==============================] - 0s 37us/step - loss: 1897770.3572 - mean_squared_error: 1897375.1250 - val_loss: 1710124.9396 - val_mean_squared_error: 1709733.0000\n",
      "Epoch 5/70\n",
      "9169/9169 [==============================] - 0s 36us/step - loss: 1780949.4023 - mean_squared_error: 1780558.7500 - val_loss: 1770389.4181 - val_mean_squared_error: 1770004.6250\n",
      "Epoch 6/70\n",
      "9169/9169 [==============================] - 0s 37us/step - loss: 1780312.2214 - mean_squared_error: 1779927.3750 - val_loss: 1646719.9166 - val_mean_squared_error: 1646337.1250\n",
      "Epoch 7/70\n",
      "9169/9169 [==============================] - 0s 38us/step - loss: 1760005.3814 - mean_squared_error: 1759624.6250 - val_loss: 1629115.9893 - val_mean_squared_error: 1628735.7500\n",
      "Epoch 8/70\n",
      "9169/9169 [==============================] - 0s 37us/step - loss: 1747764.3333 - mean_squared_error: 1747387.1250 - val_loss: 1591652.6850 - val_mean_squared_error: 1591276.7500\n",
      "Epoch 9/70\n",
      "9169/9169 [==============================] - 0s 38us/step - loss: 1650928.4426 - mean_squared_error: 1650553.5000 - val_loss: 1655071.4854 - val_mean_squared_error: 1654696.5000\n",
      "Epoch 10/70\n",
      "9169/9169 [==============================] - 0s 37us/step - loss: 1757137.0085 - mean_squared_error: 1756763.7500 - val_loss: 1555599.1421 - val_mean_squared_error: 1555227.8750\n",
      "Epoch 11/70\n",
      "9169/9169 [==============================] - 0s 36us/step - loss: 1616229.2043 - mean_squared_error: 1615857.6250 - val_loss: 1560990.5164 - val_mean_squared_error: 1560619.5000\n",
      "Epoch 12/70\n",
      "9169/9169 [==============================] - 0s 37us/step - loss: 1620859.5743 - mean_squared_error: 1620489.7500 - val_loss: 1538345.3844 - val_mean_squared_error: 1537977.0000\n",
      "Epoch 13/70\n",
      "9169/9169 [==============================] - 0s 37us/step - loss: 1723828.8296 - mean_squared_error: 1723462.2500 - val_loss: 1551282.9476 - val_mean_squared_error: 1550915.6250\n",
      "Epoch 14/70\n",
      "9169/9169 [==============================] - 0s 36us/step - loss: 1630196.9134 - mean_squared_error: 1629830.2500 - val_loss: 1550010.8891 - val_mean_squared_error: 1549645.6250\n",
      "Epoch 15/70\n",
      "9169/9169 [==============================] - 0s 37us/step - loss: 1587003.7635 - mean_squared_error: 1586636.8750 - val_loss: 1544083.3283 - val_mean_squared_error: 1543719.1250\n",
      "Epoch 16/70\n",
      "9169/9169 [==============================] - 0s 36us/step - loss: 1655736.7993 - mean_squared_error: 1655372.1250 - val_loss: 1530172.5061 - val_mean_squared_error: 1529807.8750\n",
      "Epoch 17/70\n",
      "9169/9169 [==============================] - 0s 37us/step - loss: 1633155.3795 - mean_squared_error: 1632790.1250 - val_loss: 1508266.5411 - val_mean_squared_error: 1507900.6250\n",
      "Epoch 18/70\n",
      "9169/9169 [==============================] - 0s 36us/step - loss: 1605726.1139 - mean_squared_error: 1605360.7500 - val_loss: 1560645.1997 - val_mean_squared_error: 1560282.5000\n",
      "Epoch 19/70\n",
      "9169/9169 [==============================] - 0s 35us/step - loss: 1578266.9943 - mean_squared_error: 1577902.0000 - val_loss: 1480858.3865 - val_mean_squared_error: 1480494.7500\n",
      "Epoch 20/70\n",
      "9169/9169 [==============================] - 0s 35us/step - loss: 1550503.2954 - mean_squared_error: 1550137.7500 - val_loss: 1452191.9235 - val_mean_squared_error: 1451827.1250\n",
      "Epoch 21/70\n",
      "9169/9169 [==============================] - 0s 35us/step - loss: 1513645.2076 - mean_squared_error: 1513278.7500 - val_loss: 1448680.0926 - val_mean_squared_error: 1448313.7500\n",
      "Epoch 22/70\n",
      "9169/9169 [==============================] - 0s 37us/step - loss: 1539122.0292 - mean_squared_error: 1538756.2500 - val_loss: 1500032.5373 - val_mean_squared_error: 1499664.6250\n",
      "Epoch 23/70\n",
      "9169/9169 [==============================] - 0s 35us/step - loss: 1540464.1711 - mean_squared_error: 1540098.6250 - val_loss: 1478132.1798 - val_mean_squared_error: 1477764.8750\n",
      "Epoch 24/70\n",
      "9169/9169 [==============================] - 0s 37us/step - loss: 1517296.6655 - mean_squared_error: 1516930.3750 - val_loss: 1444673.1131 - val_mean_squared_error: 1444306.6250\n",
      "Epoch 25/70\n",
      "9169/9169 [==============================] - 0s 36us/step - loss: 1495310.8916 - mean_squared_error: 1494943.0000 - val_loss: 1428060.6579 - val_mean_squared_error: 1427692.7500\n",
      "Epoch 26/70\n",
      "9169/9169 [==============================] - 0s 36us/step - loss: 1490680.3975 - mean_squared_error: 1490310.7500 - val_loss: 1433550.1759 - val_mean_squared_error: 1433181.2500\n",
      "Epoch 27/70\n",
      "9169/9169 [==============================] - 0s 35us/step - loss: 1503307.2200 - mean_squared_error: 1502937.0000 - val_loss: 1447956.8092 - val_mean_squared_error: 1447582.7500\n",
      "Epoch 28/70\n",
      "9169/9169 [==============================] - 0s 35us/step - loss: 1496617.4669 - mean_squared_error: 1496245.2500 - val_loss: 1434804.0670 - val_mean_squared_error: 1434432.3750\n",
      "Epoch 29/70\n",
      "9169/9169 [==============================] - 0s 36us/step - loss: 1418853.3135 - mean_squared_error: 1418479.5000 - val_loss: 1486811.1447 - val_mean_squared_error: 1486432.8750\n",
      "Epoch 30/70\n",
      "9169/9169 [==============================] - 0s 38us/step - loss: 1381537.5034 - mean_squared_error: 1381159.8750 - val_loss: 1484182.5196 - val_mean_squared_error: 1483803.0000\n",
      "Epoch 31/70\n",
      "9169/9169 [==============================] - 0s 36us/step - loss: 1528276.2562 - mean_squared_error: 1527897.7500 - val_loss: 1468368.5140 - val_mean_squared_error: 1467992.3750\n",
      "Epoch 32/70\n",
      "9169/9169 [==============================] - 0s 36us/step - loss: 1391164.8104 - mean_squared_error: 1390785.3750 - val_loss: 1475516.9558 - val_mean_squared_error: 1475134.3750\n",
      "Epoch 33/70\n",
      "9169/9169 [==============================] - 0s 37us/step - loss: 1421131.5942 - mean_squared_error: 1420749.8750 - val_loss: 1442550.4276 - val_mean_squared_error: 1442166.1250\n",
      "Epoch 34/70\n",
      "9169/9169 [==============================] - 0s 36us/step - loss: 1464236.7698 - mean_squared_error: 1463853.3750 - val_loss: 1416098.7360 - val_mean_squared_error: 1415716.7500\n",
      "Epoch 35/70\n",
      "9169/9169 [==============================] - 0s 36us/step - loss: 1360741.2129 - mean_squared_error: 1360357.7500 - val_loss: 1407316.4381 - val_mean_squared_error: 1406931.2500\n",
      "Epoch 36/70\n",
      "9169/9169 [==============================] - 0s 35us/step - loss: 1391785.0814 - mean_squared_error: 1391400.5000 - val_loss: 1437760.7144 - val_mean_squared_error: 1437377.7500\n",
      "Epoch 37/70\n",
      "9169/9169 [==============================] - 0s 36us/step - loss: 1331813.7850 - mean_squared_error: 1331427.5000 - val_loss: 1439135.2540 - val_mean_squared_error: 1438746.5000\n",
      "Epoch 38/70\n",
      "9169/9169 [==============================] - 0s 36us/step - loss: 1310891.8631 - mean_squared_error: 1310504.1250 - val_loss: 1374989.2018 - val_mean_squared_error: 1374602.3750\n",
      "Epoch 39/70\n",
      "9169/9169 [==============================] - 0s 38us/step - loss: 1289844.2949 - mean_squared_error: 1289455.6250 - val_loss: 1401027.1456 - val_mean_squared_error: 1400636.1250\n",
      "Epoch 40/70\n",
      "9169/9169 [==============================] - 0s 36us/step - loss: 1372287.9183 - mean_squared_error: 1371898.1250 - val_loss: 1357949.4773 - val_mean_squared_error: 1357560.3750\n",
      "Epoch 41/70\n",
      "9169/9169 [==============================] - 0s 39us/step - loss: 1287191.9082 - mean_squared_error: 1286800.6250 - val_loss: 1422773.4865 - val_mean_squared_error: 1422378.7500\n",
      "Epoch 42/70\n",
      "9169/9169 [==============================] - 0s 36us/step - loss: 1312359.4551 - mean_squared_error: 1311965.2500 - val_loss: 1391004.6389 - val_mean_squared_error: 1390609.0000\n",
      "Epoch 43/70\n",
      "9169/9169 [==============================] - 0s 36us/step - loss: 1296546.4875 - mean_squared_error: 1296151.7500 - val_loss: 1440143.8343 - val_mean_squared_error: 1439749.8750\n"
     ]
    },
    {
     "name": "stdout",
     "output_type": "stream",
     "text": [
      "Epoch 44/70\n",
      "9169/9169 [==============================] - 0s 36us/step - loss: 1234667.6249 - mean_squared_error: 1234270.1250 - val_loss: 1435520.0256 - val_mean_squared_error: 1435119.8750\n",
      "Epoch 45/70\n",
      "9169/9169 [==============================] - 0s 36us/step - loss: 1235326.7513 - mean_squared_error: 1234926.7500 - val_loss: 1408472.4874 - val_mean_squared_error: 1408072.1250\n",
      "Epoch 46/70\n",
      "9169/9169 [==============================] - 0s 35us/step - loss: 1297749.1279 - mean_squared_error: 1297347.6250 - val_loss: 1391983.5978 - val_mean_squared_error: 1391581.6250\n",
      "Epoch 47/70\n",
      "9169/9169 [==============================] - 0s 36us/step - loss: 1242894.1713 - mean_squared_error: 1242490.3750 - val_loss: 1360685.9328 - val_mean_squared_error: 1360282.5000\n",
      "Epoch 48/70\n",
      "9169/9169 [==============================] - 0s 34us/step - loss: 1189720.3459 - mean_squared_error: 1189314.7500 - val_loss: 1396158.7885 - val_mean_squared_error: 1395753.7500\n",
      "Epoch 49/70\n",
      "9169/9169 [==============================] - 0s 36us/step - loss: 1239317.3423 - mean_squared_error: 1238912.5000 - val_loss: 1379764.9883 - val_mean_squared_error: 1379356.6250\n",
      "Epoch 50/70\n",
      "9169/9169 [==============================] - 0s 34us/step - loss: 1166586.1130 - mean_squared_error: 1166179.0000 - val_loss: 1386954.5925 - val_mean_squared_error: 1386544.6250\n",
      "Epoch 51/70\n",
      "9169/9169 [==============================] - 0s 36us/step - loss: 1251268.2271 - mean_squared_error: 1250858.7500 - val_loss: 1345846.1558 - val_mean_squared_error: 1345437.3750\n",
      "Epoch 52/70\n",
      "9169/9169 [==============================] - 0s 35us/step - loss: 1155264.8487 - mean_squared_error: 1154854.3750 - val_loss: 1327742.7326 - val_mean_squared_error: 1327331.3750\n",
      "Epoch 53/70\n",
      "9169/9169 [==============================] - 0s 35us/step - loss: 1171798.3737 - mean_squared_error: 1171386.6250 - val_loss: 1315085.2533 - val_mean_squared_error: 1314673.3750\n",
      "Epoch 54/70\n",
      "9169/9169 [==============================] - 0s 37us/step - loss: 1081773.2487 - mean_squared_error: 1081360.1250 - val_loss: 1441573.1696 - val_mean_squared_error: 1441156.3750\n",
      "Epoch 55/70\n",
      "9169/9169 [==============================] - 0s 35us/step - loss: 1206872.7621 - mean_squared_error: 1206456.8750 - val_loss: 1360866.6565 - val_mean_squared_error: 1360450.1250\n",
      "Epoch 56/70\n",
      "9169/9169 [==============================] - 0s 35us/step - loss: 1196418.4767 - mean_squared_error: 1195999.6250 - val_loss: 1466740.7758 - val_mean_squared_error: 1466318.7500\n",
      "Epoch 57/70\n",
      "9169/9169 [==============================] - 0s 35us/step - loss: 1105034.9985 - mean_squared_error: 1104614.1250 - val_loss: 1334336.0434 - val_mean_squared_error: 1333914.8750\n",
      "Epoch 58/70\n",
      "9169/9169 [==============================] - 0s 36us/step - loss: 1198436.3397 - mean_squared_error: 1198013.3750 - val_loss: 1338418.5510 - val_mean_squared_error: 1337997.6250\n",
      "Epoch 59/70\n",
      "9169/9169 [==============================] - 0s 35us/step - loss: 1135127.1025 - mean_squared_error: 1134703.0000 - val_loss: 1358311.7856 - val_mean_squared_error: 1357887.8750\n",
      "Epoch 60/70\n",
      "9169/9169 [==============================] - 0s 35us/step - loss: 1144447.0394 - mean_squared_error: 1144021.5000 - val_loss: 1415486.0605 - val_mean_squared_error: 1415061.3750\n",
      "Epoch 61/70\n",
      "9169/9169 [==============================] - 0s 35us/step - loss: 1103028.3086 - mean_squared_error: 1102599.6250 - val_loss: 1341065.3099 - val_mean_squared_error: 1340636.7500\n",
      "Epoch 62/70\n",
      "9169/9169 [==============================] - 0s 35us/step - loss: 1100276.7624 - mean_squared_error: 1099846.8750 - val_loss: 1363917.8344 - val_mean_squared_error: 1363487.2500\n",
      "Epoch 63/70\n",
      "9169/9169 [==============================] - 0s 35us/step - loss: 1112783.3790 - mean_squared_error: 1112350.7500 - val_loss: 1338914.6235 - val_mean_squared_error: 1338482.6250\n",
      "Epoch 64/70\n",
      "9169/9169 [==============================] - 0s 35us/step - loss: 1052943.1784 - mean_squared_error: 1052508.6250 - val_loss: 1358915.6827 - val_mean_squared_error: 1358479.8750\n",
      "Epoch 65/70\n",
      "9169/9169 [==============================] - 0s 36us/step - loss: 1089900.9406 - mean_squared_error: 1089464.3750 - val_loss: 1400596.3970 - val_mean_squared_error: 1400157.2500\n",
      "Epoch 66/70\n",
      "9169/9169 [==============================] - 0s 35us/step - loss: 1080245.8379 - mean_squared_error: 1079807.7500 - val_loss: 1431407.3941 - val_mean_squared_error: 1430966.8750\n",
      "Epoch 67/70\n",
      "9169/9169 [==============================] - 0s 36us/step - loss: 1084306.2676 - mean_squared_error: 1083866.5000 - val_loss: 1344793.4195 - val_mean_squared_error: 1344351.5000\n",
      "Epoch 68/70\n",
      "9169/9169 [==============================] - 0s 35us/step - loss: 1052463.0914 - mean_squared_error: 1052020.7500 - val_loss: 1388736.8523 - val_mean_squared_error: 1388293.3750\n",
      "Epoch 69/70\n",
      "9169/9169 [==============================] - 0s 35us/step - loss: 990525.6165 - mean_squared_error: 990079.8125 - val_loss: 1409659.2012 - val_mean_squared_error: 1409211.1250\n",
      "Epoch 70/70\n",
      "9169/9169 [==============================] - 0s 35us/step - loss: 1052696.8853 - mean_squared_error: 1052251.1250 - val_loss: 1366553.9667 - val_mean_squared_error: 1366105.3750\n"
     ]
    },
    {
     "data": {
      "text/plain": [
       "<keras.callbacks.callbacks.History at 0x132304fbb48>"
      ]
     },
     "execution_count": 55,
     "metadata": {
      "tags": []
     },
     "output_type": "execute_result"
    }
   ],
   "source": [
    "net.fit(train_x, train_y, epochs=70, batch_size=64, validation_split = 0.1)"
   ]
  },
  {
   "cell_type": "code",
   "execution_count": 0,
   "metadata": {
    "colab": {
     "base_uri": "https://localhost:8080/",
     "height": 34
    },
    "colab_type": "code",
    "id": "jkKi2IVoz52G",
    "outputId": "a58e9e9a-cd9d-44d1-9607-16d43937c355"
   },
   "outputs": [
    {
     "data": {
      "text/plain": [
       "1957396.7042577588"
      ]
     },
     "execution_count": 56,
     "metadata": {
      "tags": []
     },
     "output_type": "execute_result"
    }
   ],
   "source": [
    "mean_squared_error(test_y, net.predict(test_x))"
   ]
  },
  {
   "cell_type": "markdown",
   "metadata": {
    "colab_type": "text",
    "id": "yy3GBRAdz52K"
   },
   "source": [
    "**Although the DL Neural Network seems to provide a better result on mean squared errors but it is really unstable** \n",
    "\n",
    "we have ran few test run on it, and each time it gives different results range from 853411.6171418771 to around 1,300,000.\n",
    "Therefore, we might still choose Gradient Boosting Regression as the most suitable model, since it provides a overall better result."
   ]
  },
  {
   "cell_type": "markdown",
   "metadata": {
    "colab_type": "text",
    "id": "HTEApwmu4s8_"
   },
   "source": [
    "# Model summary"
   ]
  },
  {
   "cell_type": "code",
   "execution_count": 0,
   "metadata": {
    "colab": {},
    "colab_type": "code",
    "id": "1LIjA5NBz52L"
   },
   "outputs": [],
   "source": [
    "print('Random Forest Regression: ', get_cv_results(rforest))\n",
    "print('Gradient Boosting Regression: ', get_cv_results(gbrdemo))\n",
    "print('Multiple Regression: ', get_cv_results(mul_reg))\n",
    "print('Decision Tree Regression: ', get_cv_results(newregtreemo))\n",
    "print('Neural Network Regression: ', mean_squared_error(test_y, net.predict(test_x)))\n"
   ]
  },
  {
   "cell_type": "markdown",
   "metadata": {
    "colab_type": "text",
    "id": "BhxefAnV7QEB"
   },
   "source": [
    "### After explored 5 different regression models, we decided to use gradient boosting regression model to predict test2"
   ]
  },
  {
   "cell_type": "code",
   "execution_count": 0,
   "metadata": {
    "colab": {},
    "colab_type": "code",
    "id": "uWbnzxXI7O8M"
   },
   "outputs": [],
   "source": [
    "output = pd.DataFrame(np.array(raw_test2_df.index), columns=['rental_id'])"
   ]
  },
  {
   "cell_type": "code",
   "execution_count": 0,
   "metadata": {
    "colab": {},
    "colab_type": "code",
    "id": "FBuye75t7sH8"
   },
   "outputs": [],
   "source": [
    "output['predictions'] = gbrdemo.predict(raw_test2_df[features])"
   ]
  },
  {
   "cell_type": "code",
   "execution_count": 0,
   "metadata": {
    "colab": {},
    "colab_type": "code",
    "id": "zBZcLRq59Ghu"
   },
   "outputs": [],
   "source": [
    "output.head(10)"
   ]
  },
  {
   "cell_type": "code",
   "execution_count": 0,
   "metadata": {
    "colab": {},
    "colab_type": "code",
    "id": "JuXhGtQU_Pv9"
   },
   "outputs": [],
   "source": [
    "output.to_csv('test2_prediction.csv')"
   ]
  },
  {
   "cell_type": "code",
   "execution_count": 0,
   "metadata": {
    "colab": {},
    "colab_type": "code",
    "id": "GLjmAMmqAS0m"
   },
   "outputs": [],
   "source": []
  }
 ],
 "metadata": {
  "anaconda-cloud": {},
  "colab": {
   "collapsed_sections": [],
   "name": "main.ipynb",
   "provenance": [],
   "toc_visible": true
  },
  "kernelspec": {
   "display_name": "Python 3",
   "language": "python",
   "name": "python3"
  },
  "language_info": {
   "codemirror_mode": {
    "name": "ipython",
    "version": 3
   },
   "file_extension": ".py",
   "mimetype": "text/x-python",
   "name": "python",
   "nbconvert_exporter": "python",
   "pygments_lexer": "ipython3",
   "version": "3.7.3"
  }
 },
 "nbformat": 4,
 "nbformat_minor": 1
}
